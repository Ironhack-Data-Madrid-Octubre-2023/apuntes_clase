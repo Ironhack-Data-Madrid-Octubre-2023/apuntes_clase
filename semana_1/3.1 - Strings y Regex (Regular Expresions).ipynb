{
 "cells": [
  {
   "cell_type": "markdown",
   "metadata": {},
   "source": [
    "# 3.1 - Strings y Regex (Regular Expresions)"
   ]
  },
  {
   "cell_type": "markdown",
   "metadata": {},
   "source": [
    "### Métodos de strings\n",
    "\n",
    "![strings](images/strings.jpg)"
   ]
  },
  {
   "cell_type": "code",
   "execution_count": 1,
   "metadata": {},
   "outputs": [
    {
     "data": {
      "text/plain": [
       "['hola', 'estamos', 'en', 'clase', 'de', 'data.', 'hasta', 'luego']"
      ]
     },
     "execution_count": 1,
     "metadata": {},
     "output_type": "execute_result"
    }
   ],
   "source": [
    "lst=['hola', 'estamos', 'en', 'clase', 'de', 'data.', 'hasta', 'luego']\n",
    "\n",
    "lst"
   ]
  },
  {
   "cell_type": "code",
   "execution_count": 2,
   "metadata": {},
   "outputs": [
    {
     "data": {
      "text/plain": [
       "'hola🦄estamos🦄en🦄clase🦄de🦄data.🦄hasta🦄luego'"
      ]
     },
     "execution_count": 2,
     "metadata": {},
     "output_type": "execute_result"
    }
   ],
   "source": [
    "'🦄'.join(lst)"
   ]
  },
  {
   "cell_type": "code",
   "execution_count": 3,
   "metadata": {},
   "outputs": [
    {
     "data": {
      "text/plain": [
       "'hola+estamos+en+clase+de+data.+hasta+luego'"
      ]
     },
     "execution_count": 3,
     "metadata": {},
     "output_type": "execute_result"
    }
   ],
   "source": [
    "'+'.join(lst)"
   ]
  },
  {
   "cell_type": "code",
   "execution_count": 4,
   "metadata": {},
   "outputs": [
    {
     "data": {
      "text/plain": [
       "'hola estamos en clase de data. hasta luego'"
      ]
     },
     "execution_count": 4,
     "metadata": {},
     "output_type": "execute_result"
    }
   ],
   "source": [
    "texto = ' '.join(lst)\n",
    "\n",
    "texto"
   ]
  },
  {
   "cell_type": "code",
   "execution_count": 5,
   "metadata": {},
   "outputs": [
    {
     "data": {
      "text/plain": [
       "str"
      ]
     },
     "execution_count": 5,
     "metadata": {},
     "output_type": "execute_result"
    }
   ],
   "source": [
    "type(texto)"
   ]
  },
  {
   "cell_type": "code",
   "execution_count": 6,
   "metadata": {},
   "outputs": [
    {
     "data": {
      "text/plain": [
       "['hola', 'estamos', 'en', 'clase', 'de', 'data.', 'hasta', 'luego']"
      ]
     },
     "execution_count": 6,
     "metadata": {},
     "output_type": "execute_result"
    }
   ],
   "source": [
    "texto.split()"
   ]
  },
  {
   "cell_type": "code",
   "execution_count": 7,
   "metadata": {},
   "outputs": [
    {
     "data": {
      "text/plain": [
       "['h', 'la estam', 's en clase de data. hasta lueg', '']"
      ]
     },
     "execution_count": 7,
     "metadata": {},
     "output_type": "execute_result"
    }
   ],
   "source": [
    "texto.split('o')"
   ]
  },
  {
   "cell_type": "code",
   "execution_count": 9,
   "metadata": {},
   "outputs": [
    {
     "data": {
      "text/plain": [
       "'s'"
      ]
     },
     "execution_count": 9,
     "metadata": {},
     "output_type": "execute_result"
    }
   ],
   "source": [
    "texto[6]"
   ]
  },
  {
   "cell_type": "code",
   "execution_count": 12,
   "metadata": {},
   "outputs": [
    {
     "data": {
      "text/plain": [
       "'heo ed a'"
      ]
     },
     "execution_count": 12,
     "metadata": {},
     "output_type": "execute_result"
    }
   ],
   "source": [
    "texto[0:40:5]"
   ]
  },
  {
   "cell_type": "code",
   "execution_count": 13,
   "metadata": {},
   "outputs": [
    {
     "data": {
      "text/plain": [
       "'ogeul atsah .atad ed esalc ne somatse aloh'"
      ]
     },
     "execution_count": 13,
     "metadata": {},
     "output_type": "execute_result"
    }
   ],
   "source": [
    "texto[::-1]"
   ]
  },
  {
   "cell_type": "code",
   "execution_count": 15,
   "metadata": {},
   "outputs": [
    {
     "ename": "TypeError",
     "evalue": "'str' object does not support item assignment",
     "output_type": "error",
     "traceback": [
      "\u001b[0;31m---------------------------------------------------------------------------\u001b[0m",
      "\u001b[0;31mTypeError\u001b[0m                                 Traceback (most recent call last)",
      "Cell \u001b[0;32mIn[15], line 1\u001b[0m\n\u001b[0;32m----> 1\u001b[0m \u001b[43mtexto\u001b[49m\u001b[43m[\u001b[49m\u001b[38;5;241;43m0\u001b[39;49m\u001b[43m]\u001b[49m \u001b[38;5;241m=\u001b[39m \u001b[38;5;124m'\u001b[39m\u001b[38;5;124mH\u001b[39m\u001b[38;5;124m'\u001b[39m\n",
      "\u001b[0;31mTypeError\u001b[0m: 'str' object does not support item assignment"
     ]
    }
   ],
   "source": [
    "texto[0] = 'H'"
   ]
  },
  {
   "cell_type": "code",
   "execution_count": 17,
   "metadata": {},
   "outputs": [],
   "source": [
    "#help(str)"
   ]
  },
  {
   "cell_type": "code",
   "execution_count": 19,
   "metadata": {},
   "outputs": [
    {
     "data": {
      "text/plain": [
       "'Hola estamos en clase de data. hasta luego'"
      ]
     },
     "execution_count": 19,
     "metadata": {},
     "output_type": "execute_result"
    }
   ],
   "source": [
    "texto.capitalize()"
   ]
  },
  {
   "cell_type": "code",
   "execution_count": 20,
   "metadata": {},
   "outputs": [
    {
     "data": {
      "text/plain": [
       "True"
      ]
     },
     "execution_count": 20,
     "metadata": {},
     "output_type": "execute_result"
    }
   ],
   "source": [
    "texto.endswith('go')"
   ]
  },
  {
   "cell_type": "code",
   "execution_count": 23,
   "metadata": {},
   "outputs": [
    {
     "data": {
      "text/plain": [
       "True"
      ]
     },
     "execution_count": 23,
     "metadata": {},
     "output_type": "execute_result"
    }
   ],
   "source": [
    "texto.startswith('h')"
   ]
  },
  {
   "cell_type": "code",
   "execution_count": 24,
   "metadata": {},
   "outputs": [
    {
     "data": {
      "text/plain": [
       "'hola estamos en clase de data. hasta luego'"
      ]
     },
     "execution_count": 24,
     "metadata": {},
     "output_type": "execute_result"
    }
   ],
   "source": [
    "texto"
   ]
  },
  {
   "cell_type": "code",
   "execution_count": 29,
   "metadata": {},
   "outputs": [
    {
     "data": {
      "text/plain": [
       "True"
      ]
     },
     "execution_count": 29,
     "metadata": {},
     "output_type": "execute_result"
    }
   ],
   "source": [
    "'45'.isdecimal()"
   ]
  },
  {
   "cell_type": "code",
   "execution_count": 32,
   "metadata": {
    "scrolled": false
   },
   "outputs": [
    {
     "data": {
      "text/plain": [
       "True"
      ]
     },
     "execution_count": 32,
     "metadata": {},
     "output_type": "execute_result"
    }
   ],
   "source": [
    "'5'.isnumeric()"
   ]
  },
  {
   "cell_type": "code",
   "execution_count": 34,
   "metadata": {},
   "outputs": [
    {
     "data": {
      "text/plain": [
       "True"
      ]
     },
     "execution_count": 34,
     "metadata": {},
     "output_type": "execute_result"
    }
   ],
   "source": [
    "'5'.isdigit()"
   ]
  },
  {
   "cell_type": "code",
   "execution_count": 35,
   "metadata": {},
   "outputs": [
    {
     "data": {
      "text/plain": [
       "'HOLA ESTAMOS EN CLASE DE DATA. HASTA LUEGO'"
      ]
     },
     "execution_count": 35,
     "metadata": {},
     "output_type": "execute_result"
    }
   ],
   "source": [
    "texto.upper()"
   ]
  },
  {
   "cell_type": "code",
   "execution_count": 37,
   "metadata": {},
   "outputs": [
    {
     "data": {
      "text/plain": [
       "'hola estamos en clase de data. hasta luego'"
      ]
     },
     "execution_count": 37,
     "metadata": {},
     "output_type": "execute_result"
    }
   ],
   "source": [
    "texto.upper().lower()"
   ]
  },
  {
   "cell_type": "code",
   "execution_count": 38,
   "metadata": {},
   "outputs": [
    {
     "data": {
      "text/plain": [
       "'         espaciaos a cuchillo          '"
      ]
     },
     "execution_count": 38,
     "metadata": {},
     "output_type": "execute_result"
    }
   ],
   "source": [
    "txt = '         espaciaos a cuchillo          '\n",
    "\n",
    "txt"
   ]
  },
  {
   "cell_type": "code",
   "execution_count": 39,
   "metadata": {},
   "outputs": [
    {
     "data": {
      "text/plain": [
       "'espaciaos a cuchillo          '"
      ]
     },
     "execution_count": 39,
     "metadata": {},
     "output_type": "execute_result"
    }
   ],
   "source": [
    "txt.lstrip()    # quita caracteres por la izq"
   ]
  },
  {
   "cell_type": "code",
   "execution_count": 40,
   "metadata": {},
   "outputs": [
    {
     "data": {
      "text/plain": [
       "'         espaciaos a cuchillo'"
      ]
     },
     "execution_count": 40,
     "metadata": {},
     "output_type": "execute_result"
    }
   ],
   "source": [
    "txt.rstrip()    # quita caracteres por la dcha"
   ]
  },
  {
   "cell_type": "code",
   "execution_count": 41,
   "metadata": {},
   "outputs": [
    {
     "data": {
      "text/plain": [
       "'espaciaos a cuchillo'"
      ]
     },
     "execution_count": 41,
     "metadata": {},
     "output_type": "execute_result"
    }
   ],
   "source": [
    "txt.strip()    # por los dos sitios"
   ]
  },
  {
   "cell_type": "code",
   "execution_count": 43,
   "metadata": {},
   "outputs": [
    {
     "data": {
      "text/plain": [
       "'a estamos en clase de data. hasta luego'"
      ]
     },
     "execution_count": 43,
     "metadata": {},
     "output_type": "execute_result"
    }
   ],
   "source": [
    "texto.lstrip('hol')"
   ]
  },
  {
   "cell_type": "code",
   "execution_count": 45,
   "metadata": {},
   "outputs": [
    {
     "data": {
      "text/plain": [
       "' espaciaos a cuchillo'"
      ]
     },
     "execution_count": 45,
     "metadata": {},
     "output_type": "execute_result"
    }
   ],
   "source": [
    "txt.replace('  ', '')    # 1º lo que hay, 2º lo que quierp"
   ]
  },
  {
   "cell_type": "code",
   "execution_count": 47,
   "metadata": {},
   "outputs": [
    {
     "data": {
      "text/plain": [
       "'hola nos vamos de fiesta de data. hasta luego'"
      ]
     },
     "execution_count": 47,
     "metadata": {},
     "output_type": "execute_result"
    }
   ],
   "source": [
    "texto.replace('estamos en clase', 'nos vamos de fiesta')"
   ]
  },
  {
   "cell_type": "code",
   "execution_count": 50,
   "metadata": {},
   "outputs": [
    {
     "data": {
      "text/plain": [
       "'a estamos en clase de data. hasta luego'"
      ]
     },
     "execution_count": 50,
     "metadata": {},
     "output_type": "execute_result"
    }
   ],
   "source": [
    "texto[3:]"
   ]
  },
  {
   "cell_type": "code",
   "execution_count": 51,
   "metadata": {},
   "outputs": [
    {
     "name": "stdout",
     "output_type": "stream",
     "text": [
      "8\n"
     ]
    }
   ],
   "source": [
    "\"\"\"\n",
    "Es un cometario\n",
    "\n",
    "\"\"\"\n",
    "\n",
    "print(8)"
   ]
  },
  {
   "cell_type": "code",
   "execution_count": 52,
   "metadata": {},
   "outputs": [],
   "source": [
    "var = \"\"\"\n",
    "NO es un cometario\n",
    "\n",
    "\"\"\""
   ]
  },
  {
   "cell_type": "code",
   "execution_count": 54,
   "metadata": {},
   "outputs": [
    {
     "data": {
      "text/plain": [
       "'NO es un cometario'"
      ]
     },
     "execution_count": 54,
     "metadata": {},
     "output_type": "execute_result"
    }
   ],
   "source": [
    "var.replace('\\n', '')"
   ]
  },
  {
   "cell_type": "code",
   "execution_count": 58,
   "metadata": {},
   "outputs": [],
   "source": [
    "var = '''\n",
    "\n",
    "+Hola que tal \n",
    "\n",
    "+ bien y tu\n",
    "\n",
    "+ mal, como va eso.......\n",
    "\n",
    "'''"
   ]
  },
  {
   "cell_type": "code",
   "execution_count": 60,
   "metadata": {},
   "outputs": [
    {
     "data": {
      "text/plain": [
       "['',\n",
       " '',\n",
       " '+Hola que tal ',\n",
       " '',\n",
       " '+ bien y tu',\n",
       " '',\n",
       " '+ mal, como va eso.......',\n",
       " '',\n",
       " '']"
      ]
     },
     "execution_count": 60,
     "metadata": {},
     "output_type": "execute_result"
    }
   ],
   "source": [
    "var.split('\\n')"
   ]
  },
  {
   "cell_type": "code",
   "execution_count": 74,
   "metadata": {},
   "outputs": [
    {
     "data": {
      "text/plain": [
       "['+Hola que tal ', '+ bien y tu', '+ mal, como va eso.......']"
      ]
     },
     "execution_count": 74,
     "metadata": {},
     "output_type": "execute_result"
    }
   ],
   "source": [
    "lst = []\n",
    "\n",
    "\n",
    "for e in var.split('\\n'):\n",
    "    \n",
    "    if e!='':\n",
    "        \n",
    "        lst.append(e)\n",
    "        \n",
    "    else:\n",
    "        pass\n",
    "        \n",
    "lst"
   ]
  },
  {
   "cell_type": "code",
   "execution_count": 84,
   "metadata": {},
   "outputs": [
    {
     "data": {
      "text/plain": [
       "['+Hola que tal ', '+ bien y tu', '+ mal, como va eso.......']"
      ]
     },
     "execution_count": 84,
     "metadata": {},
     "output_type": "execute_result"
    }
   ],
   "source": [
    "lst = [e for e in var.split('\\n') if e!='']\n",
    "\n",
    "lst"
   ]
  },
  {
   "cell_type": "code",
   "execution_count": 85,
   "metadata": {},
   "outputs": [
    {
     "data": {
      "text/plain": [
       "['hola',\n",
       " 'hola',\n",
       " '+Hola que tal ',\n",
       " 'hola',\n",
       " '+ bien y tu',\n",
       " 'hola',\n",
       " '+ mal, como va eso.......',\n",
       " 'hola',\n",
       " 'hola']"
      ]
     },
     "execution_count": 85,
     "metadata": {},
     "output_type": "execute_result"
    }
   ],
   "source": [
    "lst = [e if e!='' else 'hola' for e in var.split('\\n')]\n",
    "\n",
    "lst"
   ]
  },
  {
   "cell_type": "code",
   "execution_count": 83,
   "metadata": {},
   "outputs": [
    {
     "data": {
      "text/plain": [
       "['hola',\n",
       " 'hola',\n",
       " '+Hola que tal ',\n",
       " 'hola',\n",
       " '+ bien y tu',\n",
       " 'hola',\n",
       " '+ mal, como va eso.......',\n",
       " 'hola',\n",
       " 'hola']"
      ]
     },
     "execution_count": 83,
     "metadata": {},
     "output_type": "execute_result"
    }
   ],
   "source": [
    "lst = [e if e!='' else ('hola' if e=='' else 0) for e in var.split('\\n')]\n",
    "\n",
    "lst"
   ]
  },
  {
   "cell_type": "code",
   "execution_count": 69,
   "metadata": {},
   "outputs": [
    {
     "name": "stdout",
     "output_type": "stream",
     "text": [
      "hola\n",
      "hola\n",
      "hola\n",
      "hola\n"
     ]
    }
   ],
   "source": [
    "lst = []\n",
    "\n",
    "\n",
    "for i in range(5):\n",
    "    \n",
    "    if lst:\n",
    "        print('hola')\n",
    "        \n",
    "    else:\n",
    "        lst.append(i)"
   ]
  },
  {
   "cell_type": "code",
   "execution_count": 70,
   "metadata": {},
   "outputs": [
    {
     "data": {
      "text/plain": [
       "[0]"
      ]
     },
     "execution_count": 70,
     "metadata": {},
     "output_type": "execute_result"
    }
   ],
   "source": [
    "lst"
   ]
  },
  {
   "cell_type": "code",
   "execution_count": 71,
   "metadata": {},
   "outputs": [
    {
     "data": {
      "text/plain": [
       "True"
      ]
     },
     "execution_count": 71,
     "metadata": {},
     "output_type": "execute_result"
    }
   ],
   "source": [
    "'o' in texto"
   ]
  },
  {
   "cell_type": "code",
   "execution_count": 72,
   "metadata": {},
   "outputs": [
    {
     "data": {
      "text/plain": [
       "False"
      ]
     },
     "execution_count": 72,
     "metadata": {},
     "output_type": "execute_result"
    }
   ],
   "source": [
    "'o' not in texto"
   ]
  },
  {
   "cell_type": "markdown",
   "metadata": {},
   "source": [
    "## Regex en python  🐍\n",
    "\n",
    "![regex](images/regex.jpg)"
   ]
  },
  {
   "cell_type": "markdown",
   "metadata": {},
   "source": [
    "**¿Qué es Regex?**\n",
    "\n",
    "https://regex101.com/\n",
    "\n",
    "Regex son cadenas de caracteres basadas en reglas sintácticas que permiten describir secuencias de caracteres. Así, forman parte de los lenguajes regulares, los cuales son un subgrupo de los lenguajes formales, de gran importancia para la tecnología de la información y, especialmente, para el desarrollo de software.\n",
    "\n",
    "Se buscan patrones en strings tales como:\n",
    "\n",
    "- emails\n",
    "- números de teléfono\n",
    "- números de tarjetas de crédito\n",
    "- IDs\n",
    "- fechas\n",
    "- cualquier tipo de dato que tenga un patrón definido"
   ]
  },
  {
   "cell_type": "markdown",
   "metadata": {},
   "source": [
    "Usaremos varios métodos con dos propósitos principales:\n",
    "\n",
    "- Para encontrar el patrón:\n",
    "    + search\n",
    "    + match\n",
    "    + findall\n",
    "\n",
    "\n",
    "- Para trabajar con patrones:\n",
    "    + sub\n",
    "    + split"
   ]
  },
  {
   "cell_type": "markdown",
   "metadata": {},
   "source": [
    "**Sintaxis básica de regex:**\n",
    "\n",
    "##### selección\n",
    "- `.`  : cualquier caracter excepto salto de línea\n",
    "- `\\d` : dígitos (0-9)\n",
    "- `\\D` : NO dígitos, cualquier cosa salvo un número\n",
    "- `\\w` : alfanumérico (a-z, A-Z, 0-9)\n",
    "- `\\W` : NO alfanumérico (., '¡)\n",
    "- `\\s` : espacio en blanco\n",
    "- `\\S` : cualquier cosa que NO sea un espacio en blanco\n",
    "\n",
    "##### según posición\n",
    "- `\\b` : límite de la string\n",
    "- `\\B` : NO limíte, dentro de la string\n",
    "- `^`  : principio de la string\n",
    "- `$`  : fin de la string\n",
    "\n",
    "##### según cantidad\n",
    "- `*`       : 0 o más\n",
    "- `+`       : 1 o más\n",
    "- `?`       : 0 o 1, haya o no haya\n",
    "- `{3}`     : exactamente 3, número exacto de caracteres\n",
    "- `{3,4}`   : rango de caracteres, {mínimo, máximo}\n",
    "\n",
    "##### corchetes y grupos\n",
    "- `[]`      : busca grupo de caracteres en el corchete\n",
    "- `[^ ]`    : busca grupo de caracteres que NO estén en el corchete\n",
    "- `|`       : o lógico (e.g: a|c significa el caracter a o el b)\n",
    "- `( )`     : grupo"
   ]
  },
  {
   "cell_type": "code",
   "execution_count": null,
   "metadata": {},
   "outputs": [],
   "source": [
    "%pip install regex"
   ]
  },
  {
   "cell_type": "code",
   "execution_count": 90,
   "metadata": {},
   "outputs": [],
   "source": [
    "import re"
   ]
  },
  {
   "cell_type": "code",
   "execution_count": 105,
   "metadata": {},
   "outputs": [],
   "source": [
    "texto='''Hola     Ironhack, buscamos a nuestro nuevo    analista  12543534  345  0.987986  😎  \n",
    "    \n",
    "    lista de contactos: \n",
    "    \n",
    "    hola@gmail.com, yo_rod_aqui@ifgsttdb.es, ih@iron.ih, yo.r.a@gmail.com\n",
    "    \n",
    "    \n",
    "    yo,r,a@gmail.com\n",
    "    \n",
    "    +34666123890, 1563-454-222\n",
    "    \n",
    "    ean : 0983458721346\n",
    "\n",
    "'''"
   ]
  },
  {
   "cell_type": "code",
   "execution_count": 99,
   "metadata": {},
   "outputs": [
    {
     "data": {
      "text/plain": [
       "'Hola     Ironhack, buscamos a nuestro nuevo    analista  12543534  345  0.987986  😎  \\n    \\n    lista de contactos: \\n    \\n    hola@gmail.com, yo_rod_aqui@ifgsttdb.es, ih@iron.ih, yo.r.a@gmail.com\\n    \\n    +34666123890, 1563-454-222\\n    \\n    ean : 0983458721346\\n\\n'"
      ]
     },
     "execution_count": 99,
     "metadata": {},
     "output_type": "execute_result"
    }
   ],
   "source": [
    "texto"
   ]
  },
  {
   "cell_type": "markdown",
   "metadata": {},
   "source": [
    "#### Métodos:\n",
    "\n",
    "**re.search()**: Busca a través de la string el patrón dado, cualquier parte de la string\n",
    "\n",
    "- **argumentos de entrada:** patrón (regex) + string\n",
    "- **devuelve:** un objeto (span=rango de índices dentro de la str, match=elemento)"
   ]
  },
  {
   "cell_type": "code",
   "execution_count": 100,
   "metadata": {},
   "outputs": [
    {
     "data": {
      "text/plain": [
       "<re.Match object; span=(57, 65), match='12543534'>"
      ]
     },
     "execution_count": 100,
     "metadata": {},
     "output_type": "execute_result"
    }
   ],
   "source": [
    "patron = '\\d+'    # numerico, 1 o mas caracteres\n",
    "\n",
    "re.search(patron, texto)"
   ]
  },
  {
   "cell_type": "code",
   "execution_count": 94,
   "metadata": {},
   "outputs": [
    {
     "data": {
      "text/plain": [
       "'12'"
      ]
     },
     "execution_count": 94,
     "metadata": {},
     "output_type": "execute_result"
    }
   ],
   "source": [
    "texto[57:59]"
   ]
  },
  {
   "cell_type": "code",
   "execution_count": 95,
   "metadata": {},
   "outputs": [
    {
     "data": {
      "text/plain": [
       "<re.Match object; span=(4, 9), match='     '>"
      ]
     },
     "execution_count": 95,
     "metadata": {},
     "output_type": "execute_result"
    }
   ],
   "source": [
    "re.search('\\W+', texto)   # NO alfanumerico"
   ]
  },
  {
   "cell_type": "markdown",
   "metadata": {},
   "source": [
    "**re.match():** Busca el patrón al inicio de la string\n",
    "\n",
    "- **argumentos de entrada:** patrón (regex) + string\n",
    "- **devuelve:** un objeto (span=rango de índices dentro de la str, match=elemento)"
   ]
  },
  {
   "cell_type": "code",
   "execution_count": 101,
   "metadata": {},
   "outputs": [
    {
     "data": {
      "text/plain": [
       "<re.Match object; span=(0, 4), match='Hola'>"
      ]
     },
     "execution_count": 101,
     "metadata": {},
     "output_type": "execute_result"
    }
   ],
   "source": [
    "re.search('\\w+', texto)   # alfanumerico"
   ]
  },
  {
   "cell_type": "markdown",
   "metadata": {},
   "source": [
    "**re.findall()**: Encuentra todas las coincidencias del patrón.\n",
    "\n",
    "- **argumentos de entrada:** patrón (regex) + string\n",
    "- **devuelve:** una lista de los elementos encontrados"
   ]
  },
  {
   "cell_type": "code",
   "execution_count": 102,
   "metadata": {},
   "outputs": [
    {
     "data": {
      "text/plain": [
       "['12543534',\n",
       " '345',\n",
       " '0',\n",
       " '987986',\n",
       " '34666123890',\n",
       " '1563',\n",
       " '454',\n",
       " '222',\n",
       " '0983458721346']"
      ]
     },
     "execution_count": 102,
     "metadata": {},
     "output_type": "execute_result"
    }
   ],
   "source": [
    "re.findall('\\d+', texto)"
   ]
  },
  {
   "cell_type": "code",
   "execution_count": 106,
   "metadata": {},
   "outputs": [
    {
     "data": {
      "text/plain": [
       "['hola@gmail.com',\n",
       " 'yo_rod_aqui@ifgsttdb.es',\n",
       " 'ih@iron.ih',\n",
       " 'yo.r.a@gmail.com',\n",
       " 'a@gmail.com']"
      ]
     },
     "execution_count": 106,
     "metadata": {},
     "output_type": "execute_result"
    }
   ],
   "source": [
    "patron = '[\\w\\.]+@\\w+\\.\\w+'\n",
    "\n",
    "re.findall(patron, texto)"
   ]
  },
  {
   "cell_type": "code",
   "execution_count": 107,
   "metadata": {},
   "outputs": [
    {
     "data": {
      "text/plain": [
       "['hola@gmail.com',\n",
       " 'yo_rod_aqui@ifgsttdb.es',\n",
       " 'ih@iron.ih',\n",
       " 'yo.r.a@gmail.com',\n",
       " 'yo,r,a@gmail.com']"
      ]
     },
     "execution_count": 107,
     "metadata": {},
     "output_type": "execute_result"
    }
   ],
   "source": [
    "patron = '[\\S]+@\\w+\\.\\w+'\n",
    "\n",
    "re.findall(patron, texto)"
   ]
  },
  {
   "cell_type": "markdown",
   "metadata": {},
   "source": [
    "**re.sub()**: Replaces one or many matches with a string\n",
    "\n",
    "- **argumentos de entrada:** patrón (regex) + cadena a modificar + string original\n",
    "- **devuelve:** una string modificada"
   ]
  },
  {
   "cell_type": "code",
   "execution_count": 108,
   "metadata": {},
   "outputs": [
    {
     "data": {
      "text/plain": [
       "'Hola     Ironhack, buscamos a nuestro nuevo    analista      .  😎  \\n    \\n    lista de contactos: \\n    \\n    hola@gmail.com, yo_rod_aqui@ifgsttdb.es, ih@iron.ih, yo.r.a@gmail.com\\n    \\n    \\n    yo,r,a@gmail.com\\n    \\n    +, --\\n    \\n    ean : \\n\\n'"
      ]
     },
     "execution_count": 108,
     "metadata": {},
     "output_type": "execute_result"
    }
   ],
   "source": [
    "re.sub('\\d+', '', texto)  # sustituye numeros por nada"
   ]
  },
  {
   "cell_type": "code",
   "execution_count": 109,
   "metadata": {},
   "outputs": [
    {
     "data": {
      "text/plain": [
       "'Hola     Ironhack, buscamos a nuestro nuevo    analista  12543534  345  0.987986  😎  \\n    \\n    lista de contactos: \\n    \\n    , , , \\n    \\n    \\n    \\n    \\n    +34666123890, 1563-454-222\\n    \\n    ean : 0983458721346\\n\\n'"
      ]
     },
     "execution_count": 109,
     "metadata": {},
     "output_type": "execute_result"
    }
   ],
   "source": [
    "re.sub(patron, '', texto)"
   ]
  },
  {
   "cell_type": "code",
   "execution_count": 110,
   "metadata": {},
   "outputs": [
    {
     "data": {
      "text/plain": [
       "'Hola     Ironhack, buscamos a nuestro nuevo    analista  🤪  🤪  🤪.🤪  😎  \\n    \\n    lista de contactos: \\n    \\n    hola@gmail.com, yo_rod_aqui@ifgsttdb.es, ih@iron.ih, yo.r.a@gmail.com\\n    \\n    \\n    yo,r,a@gmail.com\\n    \\n    +🤪, 🤪-🤪-🤪\\n    \\n    ean : 🤪\\n\\n'"
      ]
     },
     "execution_count": 110,
     "metadata": {},
     "output_type": "execute_result"
    }
   ],
   "source": [
    "re.sub('\\d+', '🤪', texto)"
   ]
  },
  {
   "cell_type": "markdown",
   "metadata": {},
   "source": [
    "**re.split()**: Similar al split de las strings, corta la string por el patrón dado y devuelva una lista.\n",
    "\n",
    "- **argumentos de entrada:** patrón (regex) + string\n",
    "- **devuelve:** una lista"
   ]
  },
  {
   "cell_type": "code",
   "execution_count": 111,
   "metadata": {},
   "outputs": [
    {
     "data": {
      "text/plain": [
       "['Hola     Ironhack, buscamos a nuestro nuevo    analista  12543534  345  0.987986  😎  ',\n",
       " '    ',\n",
       " '    lista de contactos: ',\n",
       " '    ',\n",
       " '    hola@gmail.com, yo_rod_aqui@ifgsttdb.es, ih@iron.ih, yo.r.a@gmail.com',\n",
       " '    ',\n",
       " '    ',\n",
       " '    yo,r,a@gmail.com',\n",
       " '    ',\n",
       " '    +34666123890, 1563-454-222',\n",
       " '    ',\n",
       " '    ean : 0983458721346',\n",
       " '',\n",
       " '']"
      ]
     },
     "execution_count": 111,
     "metadata": {},
     "output_type": "execute_result"
    }
   ],
   "source": [
    "re.split('\\n', texto)"
   ]
  },
  {
   "cell_type": "code",
   "execution_count": 112,
   "metadata": {},
   "outputs": [
    {
     "data": {
      "text/plain": [
       "['Hola     Ironhack, buscamos a nuestro nuevo    analista  12543534  345  0.987986  😎  \\n    \\n    lista de contactos: \\n    \\n    ',\n",
       " ', ',\n",
       " ', ',\n",
       " ', ',\n",
       " '\\n    \\n    \\n    ',\n",
       " '\\n    \\n    +34666123890, 1563-454-222\\n    \\n    ean : 0983458721346\\n\\n']"
      ]
     },
     "execution_count": 112,
     "metadata": {},
     "output_type": "execute_result"
    }
   ],
   "source": [
    "re.split(patron, texto)"
   ]
  },
  {
   "cell_type": "code",
   "execution_count": 115,
   "metadata": {},
   "outputs": [
    {
     "data": {
      "text/plain": [
       "['Hola     Ironhack, buscamos a nuestro nuevo    analista  12543534  345  ',\n",
       " '987986  😎  \\n    \\n    lista de contactos: \\n    \\n    hola@gmail.com, yo_rod_aqui@ifgsttdb.es, ih@iron.ih, yo.r.a@gmail.com\\n    \\n    \\n    yo,r,a@gmail.com\\n    \\n    +34666123890, 1563-454-222\\n    \\n    ean : 0983458721346\\n\\n']"
      ]
     },
     "execution_count": 115,
     "metadata": {},
     "output_type": "execute_result"
    }
   ],
   "source": [
    "re.split('\\d+\\.', texto)"
   ]
  },
  {
   "cell_type": "markdown",
   "metadata": {},
   "source": [
    "#### Hasta aquí:\n",
    "\n",
    "- Además de obtener objetos y listas se puede sustituir o romper una string a partir de un patrón\n",
    "- Se pueden usar las funciones de python, por ejemplo `re.sub()` por `replace()`, o `re.split()` por `split()`"
   ]
  },
  {
   "cell_type": "code",
   "execution_count": 117,
   "metadata": {},
   "outputs": [
    {
     "data": {
      "text/plain": [
       "\"{\\\\rtf1\\\\ansi\\\\ansicpg1252\\\\cocoartf1671\\\\cocoasubrtf600\\n{\\\\fonttbl\\\\f0\\\\froman\\\\fcharset0 TimesNewRomanPS-BoldMT;\\\\f1\\\\froman\\\\fcharset0 TimesNewRomanPSMT;\\\\f2\\\\froman\\\\fcharset0 TimesNewRomanPS-BoldItalicMT;\\n\\\\f3\\\\froman\\\\fcharset0 TimesNewRomanPS-ItalicMT;}\\n{\\\\colortbl;\\\\red255\\\\green255\\\\blue255;}\\n{\\\\*\\\\expandedcolortbl;;}\\n\\\\paperw11900\\\\paperh16840\\\\margl1440\\\\margr1440\\\\vieww10800\\\\viewh8400\\\\viewkind0\\n\\\\deftab708\\n\\\\pard\\\\pardeftab708\\\\fi180\\\\ri182\\\\qc\\\\partightenfactor0\\n\\n\\\\f0\\\\b\\\\fs24 \\\\cf0 \\\\\\nAlejandro Dumas\\\\\\n\\\\pard\\\\pardeftab708\\\\fi180\\\\ri182\\\\qc\\\\partightenfactor0\\n\\n\\\\fs36 \\\\cf0 El Conde de Montecristo\\\\\\n\\\\pard\\\\pardeftab708\\\\fi180\\\\ri182\\\\qj\\\\partightenfactor0\\n\\n\\\\f1\\\\b0\\\\fs20 \\\\cf0 \\\\\\n\\\\pard\\\\pardeftab708\\\\fi180\\\\ri182\\\\qj\\\\partightenfactor0\\n\\n\\\\f0\\\\b \\\\cf0 Cap\\\\'edtulo primero\\\\\\n\\\\pard\\\\pardeftab708\\\\fi180\\\\ri182\\\\qj\\\\partightenfactor0\\n\\n\\\\f2\\\\i \\\\cf0 Marsella. La llegada\\\\\\n\\\\pard\\\\pardeftab708\\\\ri182\\\\partightenfactor0\\n\\n\\\\f1\\\\i0\\\\b0 \\\\cf0 \\\\\\n\\\\pard\\\\pardeftab708\\\\fi180\\\\ri182\\\\qj\\\\partightenfactor0\\n\\\\cf0 El 24 de febrero de 1815, el vig\\\\'eda de Nuestra Se\\\\'f1ora de la Guard\""
      ]
     },
     "execution_count": 117,
     "metadata": {},
     "output_type": "execute_result"
    }
   ],
   "source": [
    "# abrir archivos\n",
    "\n",
    "open('../data/conde.txt').read()[:1000]"
   ]
  },
  {
   "cell_type": "code",
   "execution_count": 118,
   "metadata": {},
   "outputs": [
    {
     "data": {
      "text/plain": [
       "True"
      ]
     },
     "execution_count": 118,
     "metadata": {},
     "output_type": "execute_result"
    }
   ],
   "source": [
    "with open('../data/conde.txt') as file:\n",
    "    \n",
    "    texto = file.read()\n",
    "    \n",
    "    \n",
    "'Mercedes' in texto"
   ]
  },
  {
   "cell_type": "markdown",
   "metadata": {},
   "source": [
    "### Más recursos\n",
    "\n",
    "**[pratica con regex101](https://regex101.com/)**\n",
    "\n",
    "[Documentación](https://docs.python.org/3/howto/regex.html)\n",
    "\n",
    "[CHEATSHEET](https://medium.com/factory-mind/regex-tutorial-a-simple-cheatsheet-by-examples-649dc1c3f285)\n",
    "\n",
    "[Tutorial datacamp](https://www.datacamp.com/community/tutorials/python-regular-expression-tutorial)\n",
    "\n",
    "https://www.dataquest.io/blog/regular-expressions-data-scientists/\n",
    "\n",
    "https://www.kaggle.com/rtatman/fraudulent-email-corpus"
   ]
  }
 ],
 "metadata": {
  "kernelspec": {
   "display_name": "clase",
   "language": "python",
   "name": "clase"
  },
  "language_info": {
   "codemirror_mode": {
    "name": "ipython",
    "version": 3
   },
   "file_extension": ".py",
   "mimetype": "text/x-python",
   "name": "python",
   "nbconvert_exporter": "python",
   "pygments_lexer": "ipython3",
   "version": "3.9.12"
  }
 },
 "nbformat": 4,
 "nbformat_minor": 4
}
