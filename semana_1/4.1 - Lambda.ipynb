{
 "cells": [
  {
   "cell_type": "markdown",
   "metadata": {},
   "source": [
    "# 4.1 - Funciones anónimas (Lambda)\n",
    "\n",
    "![lambda](images/lambda.png)"
   ]
  },
  {
   "cell_type": "markdown",
   "metadata": {},
   "source": [
    "**Recordatorio de la estructura de una función:**\n",
    "\n",
    "Partes de una función:\n",
    "- Nombre\n",
    "- Parámetros\n",
    "- Código (acción/operación)\n",
    "- return (ojo, las funciones sin return devuelven `None`)\n",
    "    \n",
    "```python\n",
    "def nombre_funcion(parámetro_1, parámetro_2='valor_por_defecto'):\n",
    "    return acción(parámetro_1, parámetro_2)\n",
    "```\n",
    "\n",
    "\n",
    "O más general:\n",
    "\n",
    "```python\n",
    "def func(*args,**kwargs):\n",
    "    return acción(*args,**kwargs)\n",
    "```"
   ]
  },
  {
   "cell_type": "markdown",
   "metadata": {},
   "source": [
    "**Definición de Lambda**\n",
    "\n",
    "En Python, una función Lambda se refiere a una pequeña función anónima. Las llamamos “funciones anónimas” porque técnicamente carecen de nombre.\n",
    "\n",
    "Al contrario que una función normal, no la definimos con la palabra clave estándar def que utilizamos en python. En su lugar, las funciones Lambda se definen como una línea que ejecuta una sola expresión. Este tipo de funciones pueden tomar cualquier número de argumentos, pero solo pueden tener una expresión.\n",
    "\n",
    "Una de las utilidades principales de las funciones Lambda es la optimización de memoria, no guardando la función una vez utilizada.\n",
    "\n",
    "**Sintaxis de la función Lambda**\n",
    "```python\n",
    "lambda parámetro_1, parámetro_2: action(parámetro_1, parámetro_2)\n",
    "```\n",
    "\n",
    "También puede tener valores por defecto:\n",
    "\n",
    "```python\n",
    "lambda parámetro_1, parámetro_2='valor_por_defecto': action(parámetro_1, parámetro_2)\n",
    "```\n",
    "\n",
    "O más general:\n",
    "\n",
    "```python\n",
    "lambda *args,**kwargs: acción(*args,**kwargs)\n",
    "```"
   ]
  },
  {
   "cell_type": "markdown",
   "metadata": {},
   "source": [
    "**Ejemplos:**\n",
    "\n",
    "Supongamos primero una función sencilla:"
   ]
  },
  {
   "cell_type": "code",
   "execution_count": 1,
   "metadata": {},
   "outputs": [],
   "source": [
    "def restar(a, b):\n",
    "    return a-b"
   ]
  },
  {
   "cell_type": "code",
   "execution_count": 2,
   "metadata": {},
   "outputs": [
    {
     "data": {
      "text/plain": [
       "<function __main__.restar(a, b)>"
      ]
     },
     "execution_count": 2,
     "metadata": {},
     "output_type": "execute_result"
    }
   ],
   "source": [
    "restar"
   ]
  },
  {
   "cell_type": "code",
   "execution_count": 3,
   "metadata": {},
   "outputs": [
    {
     "data": {
      "text/plain": [
       "-1"
      ]
     },
     "execution_count": 3,
     "metadata": {},
     "output_type": "execute_result"
    }
   ],
   "source": [
    "restar(8, 9)"
   ]
  },
  {
   "cell_type": "code",
   "execution_count": 4,
   "metadata": {},
   "outputs": [],
   "source": [
    "# lo mismo con lambda"
   ]
  },
  {
   "cell_type": "code",
   "execution_count": 5,
   "metadata": {},
   "outputs": [
    {
     "data": {
      "text/plain": [
       "<function __main__.<lambda>(a, b)>"
      ]
     },
     "execution_count": 5,
     "metadata": {},
     "output_type": "execute_result"
    }
   ],
   "source": [
    "lambda a,b: a-b"
   ]
  },
  {
   "cell_type": "code",
   "execution_count": 6,
   "metadata": {},
   "outputs": [
    {
     "data": {
      "text/plain": [
       "-1"
      ]
     },
     "execution_count": 6,
     "metadata": {},
     "output_type": "execute_result"
    }
   ],
   "source": [
    "(lambda a,b: a-b)(8, 9)"
   ]
  },
  {
   "cell_type": "code",
   "execution_count": 7,
   "metadata": {},
   "outputs": [],
   "source": [
    "restar_2 = lambda a,b: a-b"
   ]
  },
  {
   "cell_type": "code",
   "execution_count": 8,
   "metadata": {},
   "outputs": [
    {
     "data": {
      "text/plain": [
       "<function __main__.<lambda>(a, b)>"
      ]
     },
     "execution_count": 8,
     "metadata": {},
     "output_type": "execute_result"
    }
   ],
   "source": [
    "restar_2"
   ]
  },
  {
   "cell_type": "code",
   "execution_count": 10,
   "metadata": {},
   "outputs": [],
   "source": [
    "res = restar_2(8, 9)"
   ]
  },
  {
   "cell_type": "code",
   "execution_count": 11,
   "metadata": {},
   "outputs": [
    {
     "data": {
      "text/plain": [
       "-1"
      ]
     },
     "execution_count": 11,
     "metadata": {},
     "output_type": "execute_result"
    }
   ],
   "source": [
    "res"
   ]
  },
  {
   "cell_type": "code",
   "execution_count": 13,
   "metadata": {},
   "outputs": [],
   "source": [
    "def restar_d(a, b=9):\n",
    "    \n",
    "    return a-b"
   ]
  },
  {
   "cell_type": "code",
   "execution_count": 14,
   "metadata": {},
   "outputs": [
    {
     "data": {
      "text/plain": [
       "-8"
      ]
     },
     "execution_count": 14,
     "metadata": {},
     "output_type": "execute_result"
    }
   ],
   "source": [
    "restar_d(1)"
   ]
  },
  {
   "cell_type": "code",
   "execution_count": 15,
   "metadata": {},
   "outputs": [
    {
     "data": {
      "text/plain": [
       "4"
      ]
     },
     "execution_count": 15,
     "metadata": {},
     "output_type": "execute_result"
    }
   ],
   "source": [
    "restar_d(7, 3)"
   ]
  },
  {
   "cell_type": "code",
   "execution_count": 16,
   "metadata": {},
   "outputs": [
    {
     "data": {
      "text/plain": [
       "<function __main__.<lambda>(a, b=9)>"
      ]
     },
     "execution_count": 16,
     "metadata": {},
     "output_type": "execute_result"
    }
   ],
   "source": [
    "lambda a,b=9: a-b"
   ]
  },
  {
   "cell_type": "code",
   "execution_count": 17,
   "metadata": {},
   "outputs": [
    {
     "data": {
      "text/plain": [
       "-1"
      ]
     },
     "execution_count": 17,
     "metadata": {},
     "output_type": "execute_result"
    }
   ],
   "source": [
    "(lambda a,b=9: a-b)(8)"
   ]
  },
  {
   "cell_type": "code",
   "execution_count": 18,
   "metadata": {},
   "outputs": [
    {
     "data": {
      "text/plain": [
       "-4"
      ]
     },
     "execution_count": 18,
     "metadata": {},
     "output_type": "execute_result"
    }
   ],
   "source": [
    "(lambda a,b=9: a-b)(1, 5)"
   ]
  },
  {
   "cell_type": "code",
   "execution_count": 19,
   "metadata": {},
   "outputs": [],
   "source": [
    "# mas complicao\n",
    "\n",
    "\n",
    "def filtrar(*lst):\n",
    "    \n",
    "    res = []\n",
    "    \n",
    "    \n",
    "    for e in lst:\n",
    "        \n",
    "        if 'o' in e:\n",
    "            res.append(3*e)\n",
    "            \n",
    "        elif 'v' in e:\n",
    "            res.append(e)\n",
    "            \n",
    "        elif 'a' in e:\n",
    "            res.append(5*e)\n",
    "            \n",
    "        else:\n",
    "            res.append(None)\n",
    "            \n",
    "    return res"
   ]
  },
  {
   "cell_type": "code",
   "execution_count": 20,
   "metadata": {},
   "outputs": [
    {
     "data": {
      "text/plain": [
       "['holaholahola',\n",
       " 'venga',\n",
       " 'alaalaalaalaala',\n",
       " 'cohetecohetecohete',\n",
       " 'vamosvamosvamos']"
      ]
     },
     "execution_count": 20,
     "metadata": {},
     "output_type": "execute_result"
    }
   ],
   "source": [
    "filtrar('hola', 'venga', 'ala', 'cohete', 'vamos')"
   ]
  },
  {
   "cell_type": "code",
   "execution_count": 22,
   "metadata": {},
   "outputs": [
    {
     "data": {
      "text/plain": [
       "<function __main__.<lambda>(*lst)>"
      ]
     },
     "execution_count": 22,
     "metadata": {},
     "output_type": "execute_result"
    }
   ],
   "source": [
    "lambda *lst: [3*e if 'o' in e else (e if 'v' in e else (5*e if 'a' in e else None)) for e in lst]"
   ]
  },
  {
   "cell_type": "code",
   "execution_count": 23,
   "metadata": {},
   "outputs": [
    {
     "data": {
      "text/plain": [
       "['holaholahola',\n",
       " 'venga',\n",
       " 'alaalaalaalaala',\n",
       " 'cohetecohetecohete',\n",
       " 'vamosvamosvamos']"
      ]
     },
     "execution_count": 23,
     "metadata": {},
     "output_type": "execute_result"
    }
   ],
   "source": [
    "(lambda *lst: [3*e if 'o' in e else\\\n",
    "              (e if 'v' in e else \\\n",
    "               (5*e if 'a' in e else None)) \\\n",
    "              for e in lst])('hola', 'venga', 'ala', 'cohete', 'vamos')"
   ]
  },
  {
   "cell_type": "markdown",
   "metadata": {},
   "source": [
    "### Resumen\n",
    "\n",
    "+ Las funciones Lambda hacen lo mismo que las funciones `def` (valores por defecto, \\*args, \\*\\*kwargs)\n",
    "+ Tienen una sintaxis diferente\n",
    "+ Están en una línea (dificultad en expresar el return)\n"
   ]
  },
  {
   "cell_type": "markdown",
   "metadata": {},
   "source": [
    "### Más\n",
    "\n",
    "https://realpython.com/python-lambda/"
   ]
  }
 ],
 "metadata": {
  "kernelspec": {
   "display_name": "clase",
   "language": "python",
   "name": "clase"
  },
  "language_info": {
   "codemirror_mode": {
    "name": "ipython",
    "version": 3
   },
   "file_extension": ".py",
   "mimetype": "text/x-python",
   "name": "python",
   "nbconvert_exporter": "python",
   "pygments_lexer": "ipython3",
   "version": "3.9.12"
  }
 },
 "nbformat": 4,
 "nbformat_minor": 4
}
