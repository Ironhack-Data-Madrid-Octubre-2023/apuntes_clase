{
 "cells": [
  {
   "cell_type": "markdown",
   "metadata": {},
   "source": [
    "# 2.2 - Web Scraping (bs4)\n",
    "\n",
    "$$$$\n",
    "\n",
    "![scraping](images/scraping.png)\n",
    "\n",
    "$$$$\n",
    "\n",
    "Web scraping o raspado web, es una técnica utilizada mediante programas de software para extraer información de sitios web. Usualmente, estos programas simulan la navegación de un humano en la web ya sea utilizando el protocolo HTTP manualmente, o incrustando un navegador en una aplicación.\n",
    "\n",
    "El web scraping está muy relacionado con la indexación de la web, la cual indexa la información de la web utilizando un robot y es una técnica universal adoptada por la mayoría de los motores de búsqueda. Sin embargo, el web scraping se enfoca más en la transformación de datos sin estructura en la web, como el formato HTML, en datos estructurados que pueden ser almacenados y analizados en una base de datos central, en una hoja de cálculo o en alguna otra fuente de almacenamiento. Alguno de los usos del web scraping son la comparación de precios en tiendas, la monitorización de datos relacionados con el clima de cierta región, la detección de cambios en sitios webs y la integración de datos en sitios webs. \n",
    "\n",
    "En los últimos años el web scraping se ha convertido en una técnica muy utilizada dentro del sector del posicionamiento web gracias a su capacidad de generar grandes cantidades de datos para crear contenidos de calidad.\n",
    "\n",
    "Podríamos pensar que el web scraping es nuestro último recurso a falta de una API o un feed RSS. A falta de una fuente de datos, siempre podemos extraer aquello que sale por pantalla."
   ]
  },
  {
   "cell_type": "markdown",
   "metadata": {},
   "source": [
    "### Extracción desde el HTML\n",
    "\n",
    "Para scrapear una página web, en primer lugar debemos conocer las estructura que tiene el HTML. Veamos la estructura básica.\n",
    "\n",
    "El HTML consiste en contenido `<etiquetado>`, es como si fueran cajas de contenido, organizado de manera jerárquica:\n",
    "\n",
    "```\n",
    "<html>\n",
    "    <head>\n",
    "        <title>Titulo de la pagina</title>\n",
    "    </head>\n",
    "    <body>\n",
    "        <h1>Cabecera</h1>\n",
    "        <p>Parrafo</p>\n",
    "    </body>\n",
    "</html>\n",
    "```\n",
    "\n",
    "$$$$\n",
    "\n",
    "Las etiquetas el HTML se pueden clasificar en varios grupos, dependiendo del tipo de contenido que posea. Estos son algunos ejemplos:\n",
    "\n",
    "+ cabecera: `<h1>`, `<h2>`, `<h3>`, `<hgroup>`...\n",
    "+ texto: `<b>`, `<p>`...\n",
    "+ embebido: `<audio>`, `<img>`, `<video>`...\n",
    "+ tabular: `<table>`, `<tr>`, `<td>`, `<tbody>`...\n",
    "+ secciones: `<header>`, `<section>`, `<article>`...\n",
    "+ metadata: `<meta>`, `<title>`, `<script>`...\n",
    "\n",
    "$$$$\n",
    "\n",
    "Las etiquetas pueden tener atributos. Por ejemplo:\n",
    " \n",
    "`<div class=\"text-monospace\" id=\"name_132\", href=\"www.example.com\"> Contenido de la pagina </div>` \n",
    "\n",
    "Esta etiqueta `div` tiene los siguientes atributos:\n",
    "\n",
    "+ class: atributo con valor \"text-monospace\". La clase no es única en la página.\n",
    "+ id: atributo con valor \"name_132\". El id de una etiqueta la identifica de manera unívoca.\n",
    "+ href: atributo con valor \"www.example.com\". El href suele contener el link a otra parte de la página.\n",
    "\n",
    "Siguiendo con la analogía de las cajas, si una etiqueta de HTML es una caja, los atributos serían las pegatinas pegadas en la tapa de la caja.\n",
    "\n",
    "Conociendo cual es el contenido que queremos extraer, debemos encontrar las etiquetas dentro del HTML de la página web."
   ]
  },
  {
   "cell_type": "markdown",
   "metadata": {},
   "source": [
    "Usaremos la herramienta **[BeautifulSoup](https://www.crummy.com/software/BeautifulSoup/bs4/doc/)**."
   ]
  },
  {
   "cell_type": "code",
   "execution_count": null,
   "metadata": {},
   "outputs": [],
   "source": [
    "%pip install beautifulsoup4"
   ]
  },
  {
   "cell_type": "code",
   "execution_count": 1,
   "metadata": {},
   "outputs": [],
   "source": [
    "import requests as req\n",
    "\n",
    "from bs4 import BeautifulSoup as bs    # ambos alias son cosa mia"
   ]
  },
  {
   "cell_type": "markdown",
   "metadata": {},
   "source": [
    "### Ejemplos Wikipedia\n",
    "\n",
    "**[Países europeos según esperanza de vida](https://en.wikipedia.org/wiki/List_of_European_countries_by_life_expectancy)**"
   ]
  },
  {
   "cell_type": "code",
   "execution_count": 2,
   "metadata": {},
   "outputs": [],
   "source": [
    "url = 'https://en.wikipedia.org/wiki/List_of_European_countries_by_life_expectancy'"
   ]
  },
  {
   "cell_type": "code",
   "execution_count": 3,
   "metadata": {},
   "outputs": [
    {
     "data": {
      "text/plain": [
       "b'<!DOCTYPE html>\\n<html class=\"client-nojs vector-feature-language-in-header-enabled vector-feature-language-in-main-page-header-disabled vector-feature-sticky-header-disabled vector-feature-page-tools-pinned-disabled vector-feature-toc-pinned-enabled vector-feature-main-menu-pinned-disabled vector-feature-limited-width-enabled vector-feature-limited-width-content-enabled vector-feature-zebra-design-disabled\" lang=\"en\" dir=\"ltr\">\\n<head>\\n<meta charset=\"UTF-8\">\\n<title>List of European countries by life expectancy - Wikipedia</title>\\n<script>document.documentElement.className=\"client-js vector-feature-language-in-header-enabled vector-feature-language-in-main-page-header-disabled vector-feature-sticky-header-disabled vector-feature-page-tools-pinned-disabled vector-feature-toc-pinned-enabled vector-feature-main-menu-pinned-disabled vector-feature-limited-width-enabled vector-feature-limited-width-content-enabled vector-feature-zebra-design-disabled\";(function(){var cookie=document.cookie.ma'"
      ]
     },
     "execution_count": 3,
     "metadata": {},
     "output_type": "execute_result"
    }
   ],
   "source": [
    "# usamos requests para extraer el html\n",
    "\n",
    "html = req.get(url).content   # o .text\n",
    "\n",
    "html[:1000]"
   ]
  },
  {
   "cell_type": "code",
   "execution_count": 4,
   "metadata": {
    "scrolled": false
   },
   "outputs": [
    {
     "data": {
      "text/plain": [
       "452646"
      ]
     },
     "execution_count": 4,
     "metadata": {},
     "output_type": "execute_result"
    }
   ],
   "source": [
    "len(html)"
   ]
  },
  {
   "cell_type": "code",
   "execution_count": 5,
   "metadata": {
    "scrolled": false
   },
   "outputs": [
    {
     "data": {
      "text/plain": [
       "bs4.BeautifulSoup"
      ]
     },
     "execution_count": 5,
     "metadata": {},
     "output_type": "execute_result"
    }
   ],
   "source": [
    "# parsear (traducir string a algo similar al html)\n",
    "\n",
    "\n",
    "soup = bs(html, 'html.parser')\n",
    "\n",
    "type(soup)"
   ]
  },
  {
   "cell_type": "code",
   "execution_count": 10,
   "metadata": {
    "scrolled": false
   },
   "outputs": [
    {
     "data": {
      "text/plain": [
       "14"
      ]
     },
     "execution_count": 10,
     "metadata": {},
     "output_type": "execute_result"
    }
   ],
   "source": [
    "len(soup.find_all('table'))"
   ]
  },
  {
   "cell_type": "code",
   "execution_count": 35,
   "metadata": {},
   "outputs": [
    {
     "data": {
      "text/plain": [
       "bs4.element.Tag"
      ]
     },
     "execution_count": 35,
     "metadata": {},
     "output_type": "execute_result"
    }
   ],
   "source": [
    "tabla = soup.find_all('table')[2]\n",
    "\n",
    "type(tabla)"
   ]
  },
  {
   "cell_type": "code",
   "execution_count": 59,
   "metadata": {
    "scrolled": false
   },
   "outputs": [
    {
     "data": {
      "text/plain": [
       "['',\n",
       " 'Countries',\n",
       " '',\n",
       " 'Life expectancy at birth',\n",
       " '',\n",
       " 'HALE at birth',\n",
       " '',\n",
       " 'Life expectancy at age 60',\n",
       " '',\n",
       " 'HALE at age 60',\n",
       " '',\n",
       " '',\n",
       " '']"
      ]
     },
     "execution_count": 59,
     "metadata": {},
     "output_type": "execute_result"
    }
   ],
   "source": [
    "tabla.find_all('tr')[0].text.split('\\n')"
   ]
  },
  {
   "cell_type": "code",
   "execution_count": 42,
   "metadata": {},
   "outputs": [
    {
     "data": {
      "text/plain": [
       "[['',\n",
       "  'Countries',\n",
       "  '',\n",
       "  'Life expectancy at birth',\n",
       "  '',\n",
       "  'HALE at birth',\n",
       "  '',\n",
       "  'Life expectancy at age 60',\n",
       "  '',\n",
       "  'HALE at age 60',\n",
       "  '',\n",
       "  '',\n",
       "  ''],\n",
       " ['',\n",
       "  'All',\n",
       "  '',\n",
       "  'M',\n",
       "  '',\n",
       "  'F',\n",
       "  '',\n",
       "  'FΔM',\n",
       "  '',\n",
       "  'Δ2000',\n",
       "  '',\n",
       "  'All',\n",
       "  '',\n",
       "  'M',\n",
       "  '',\n",
       "  'F',\n",
       "  '',\n",
       "  'FΔM',\n",
       "  '',\n",
       "  'Δ2000',\n",
       "  '',\n",
       "  'All',\n",
       "  '',\n",
       "  'M',\n",
       "  '',\n",
       "  'F',\n",
       "  '',\n",
       "  'FΔM',\n",
       "  '',\n",
       "  'Δ2000',\n",
       "  '',\n",
       "  'All',\n",
       "  '',\n",
       "  'M',\n",
       "  '',\n",
       "  'F',\n",
       "  '',\n",
       "  'FΔM',\n",
       "  '',\n",
       "  'Δ2000',\n",
       "  '']]"
      ]
     },
     "execution_count": 42,
     "metadata": {},
     "output_type": "execute_result"
    }
   ],
   "source": [
    "filas = tabla.find_all('tr')\n",
    "\n",
    "filas = [f.text.split('\\n') for f in filas]\n",
    "\n",
    "filas[:2]"
   ]
  },
  {
   "cell_type": "code",
   "execution_count": 44,
   "metadata": {},
   "outputs": [
    {
     "data": {
      "text/plain": [
       "[['Countries',\n",
       "  'Life expectancy at birth',\n",
       "  'HALE at birth',\n",
       "  'Life expectancy at age 60',\n",
       "  'HALE at age 60'],\n",
       " ['All',\n",
       "  'M',\n",
       "  'F',\n",
       "  'FΔM',\n",
       "  'Δ2000',\n",
       "  'All',\n",
       "  'M',\n",
       "  'F',\n",
       "  'FΔM',\n",
       "  'Δ2000',\n",
       "  'All',\n",
       "  'M',\n",
       "  'F',\n",
       "  'FΔM',\n",
       "  'Δ2000',\n",
       "  'All',\n",
       "  'M',\n",
       "  'F',\n",
       "  'FΔM',\n",
       "  'Δ2000']]"
      ]
     },
     "execution_count": 44,
     "metadata": {},
     "output_type": "execute_result"
    }
   ],
   "source": [
    "# limpieza\n",
    "\n",
    "final = []\n",
    "\n",
    "for f in filas:\n",
    "    \n",
    "    tmp = []\n",
    "    \n",
    "    for palabra in f:\n",
    "        \n",
    "        if palabra!='':\n",
    "            tmp.append(palabra)\n",
    "            \n",
    "    final.append(tmp)\n",
    "    \n",
    "final[:2]"
   ]
  },
  {
   "cell_type": "code",
   "execution_count": 45,
   "metadata": {},
   "outputs": [
    {
     "data": {
      "text/plain": [
       "['Countries',\n",
       " 'Life expectancy at birth',\n",
       " 'HALE at birth',\n",
       " 'Life expectancy at age 60',\n",
       " 'HALE at age 60']"
      ]
     },
     "execution_count": 45,
     "metadata": {},
     "output_type": "execute_result"
    }
   ],
   "source": [
    "final = [[palabra for palabra in f if palabra !=''] for f in filas]\n",
    "\n",
    "final[0]"
   ]
  },
  {
   "cell_type": "code",
   "execution_count": 53,
   "metadata": {},
   "outputs": [
    {
     "data": {
      "text/html": [
       "<div>\n",
       "<style scoped>\n",
       "    .dataframe tbody tr th:only-of-type {\n",
       "        vertical-align: middle;\n",
       "    }\n",
       "\n",
       "    .dataframe tbody tr th {\n",
       "        vertical-align: top;\n",
       "    }\n",
       "\n",
       "    .dataframe thead th {\n",
       "        text-align: right;\n",
       "    }\n",
       "</style>\n",
       "<table border=\"1\" class=\"dataframe\">\n",
       "  <thead>\n",
       "    <tr style=\"text-align: right;\">\n",
       "      <th></th>\n",
       "      <th>All</th>\n",
       "      <th>M</th>\n",
       "      <th>F</th>\n",
       "      <th>FΔM</th>\n",
       "      <th>Δ2000</th>\n",
       "      <th>All</th>\n",
       "      <th>M</th>\n",
       "      <th>F</th>\n",
       "      <th>FΔM</th>\n",
       "      <th>Δ2000</th>\n",
       "      <th>...</th>\n",
       "      <th>M</th>\n",
       "      <th>F</th>\n",
       "      <th>FΔM</th>\n",
       "      <th>Δ2000</th>\n",
       "      <th>All</th>\n",
       "      <th>M</th>\n",
       "      <th>F</th>\n",
       "      <th>FΔM</th>\n",
       "      <th>Δ2000</th>\n",
       "      <th>0</th>\n",
       "    </tr>\n",
       "  </thead>\n",
       "  <tbody>\n",
       "    <tr>\n",
       "      <th>0</th>\n",
       "      <td>Switzerland</td>\n",
       "      <td>83.4</td>\n",
       "      <td>81.8</td>\n",
       "      <td>85.1</td>\n",
       "      <td>3.3</td>\n",
       "      <td>3.7</td>\n",
       "      <td>72.5</td>\n",
       "      <td>72.2</td>\n",
       "      <td>72.8</td>\n",
       "      <td>0.6</td>\n",
       "      <td>...</td>\n",
       "      <td>25.4</td>\n",
       "      <td>24.1</td>\n",
       "      <td>26.6</td>\n",
       "      <td>2.5</td>\n",
       "      <td>2.4</td>\n",
       "      <td>19.5</td>\n",
       "      <td>18.8</td>\n",
       "      <td>20.2</td>\n",
       "      <td>1.4</td>\n",
       "      <td>1.8</td>\n",
       "    </tr>\n",
       "    <tr>\n",
       "      <th>1</th>\n",
       "      <td>Spain</td>\n",
       "      <td>83.2</td>\n",
       "      <td>80.7</td>\n",
       "      <td>85.7</td>\n",
       "      <td>5.0</td>\n",
       "      <td>4.1</td>\n",
       "      <td>72.1</td>\n",
       "      <td>71.3</td>\n",
       "      <td>72.9</td>\n",
       "      <td>1.6</td>\n",
       "      <td>...</td>\n",
       "      <td>25.4</td>\n",
       "      <td>23.3</td>\n",
       "      <td>27.3</td>\n",
       "      <td>4.0</td>\n",
       "      <td>2.7</td>\n",
       "      <td>19.2</td>\n",
       "      <td>18.0</td>\n",
       "      <td>20.3</td>\n",
       "      <td>2.3</td>\n",
       "      <td>1.9</td>\n",
       "    </tr>\n",
       "    <tr>\n",
       "      <th>2</th>\n",
       "      <td>Cyprus</td>\n",
       "      <td>83.1</td>\n",
       "      <td>81.1</td>\n",
       "      <td>85.1</td>\n",
       "      <td>4.0</td>\n",
       "      <td>4.4</td>\n",
       "      <td>72.4</td>\n",
       "      <td>71.8</td>\n",
       "      <td>73.0</td>\n",
       "      <td>1.2</td>\n",
       "      <td>...</td>\n",
       "      <td>24.9</td>\n",
       "      <td>23.3</td>\n",
       "      <td>26.4</td>\n",
       "      <td>3.1</td>\n",
       "      <td>3.0</td>\n",
       "      <td>19.0</td>\n",
       "      <td>18.1</td>\n",
       "      <td>19.9</td>\n",
       "      <td>1.8</td>\n",
       "      <td>2.2</td>\n",
       "    </tr>\n",
       "    <tr>\n",
       "      <th>3</th>\n",
       "      <td>Italy</td>\n",
       "      <td>83.0</td>\n",
       "      <td>80.9</td>\n",
       "      <td>84.9</td>\n",
       "      <td>4.0</td>\n",
       "      <td>3.6</td>\n",
       "      <td>71.9</td>\n",
       "      <td>71.2</td>\n",
       "      <td>72.6</td>\n",
       "      <td>1.4</td>\n",
       "      <td>...</td>\n",
       "      <td>25.0</td>\n",
       "      <td>23.4</td>\n",
       "      <td>26.5</td>\n",
       "      <td>3.1</td>\n",
       "      <td>2.5</td>\n",
       "      <td>18.9</td>\n",
       "      <td>17.9</td>\n",
       "      <td>19.8</td>\n",
       "      <td>1.9</td>\n",
       "      <td>1.8</td>\n",
       "    </tr>\n",
       "    <tr>\n",
       "      <th>4</th>\n",
       "      <td>Norway</td>\n",
       "      <td>82.6</td>\n",
       "      <td>81.1</td>\n",
       "      <td>84.1</td>\n",
       "      <td>3.0</td>\n",
       "      <td>4.1</td>\n",
       "      <td>71.4</td>\n",
       "      <td>71.0</td>\n",
       "      <td>71.6</td>\n",
       "      <td>0.6</td>\n",
       "      <td>...</td>\n",
       "      <td>24.7</td>\n",
       "      <td>23.5</td>\n",
       "      <td>25.8</td>\n",
       "      <td>2.3</td>\n",
       "      <td>2.7</td>\n",
       "      <td>18.5</td>\n",
       "      <td>17.8</td>\n",
       "      <td>19.1</td>\n",
       "      <td>1.3</td>\n",
       "      <td>1.8</td>\n",
       "    </tr>\n",
       "  </tbody>\n",
       "</table>\n",
       "<p>5 rows × 21 columns</p>\n",
       "</div>"
      ],
      "text/plain": [
       "            All     M     F   FΔM Δ2000  All     M     F   FΔM Δ2000  ...  \\\n",
       "0   Switzerland  83.4  81.8  85.1   3.3  3.7  72.5  72.2  72.8   0.6  ...   \n",
       "1         Spain  83.2  80.7  85.7   5.0  4.1  72.1  71.3  72.9   1.6  ...   \n",
       "2        Cyprus  83.1  81.1  85.1   4.0  4.4  72.4  71.8  73.0   1.2  ...   \n",
       "3         Italy  83.0  80.9  84.9   4.0  3.6  71.9  71.2  72.6   1.4  ...   \n",
       "4        Norway  82.6  81.1  84.1   3.0  4.1  71.4  71.0  71.6   0.6  ...   \n",
       "\n",
       "      M     F   FΔM Δ2000  All     M     F   FΔM Δ2000    0  \n",
       "0  25.4  24.1  26.6   2.5  2.4  19.5  18.8  20.2   1.4  1.8  \n",
       "1  25.4  23.3  27.3   4.0  2.7  19.2  18.0  20.3   2.3  1.9  \n",
       "2  24.9  23.3  26.4   3.1  3.0  19.0  18.1  19.9   1.8  2.2  \n",
       "3  25.0  23.4  26.5   3.1  2.5  18.9  17.9  19.8   1.9  1.8  \n",
       "4  24.7  23.5  25.8   2.3  2.7  18.5  17.8  19.1   1.3  1.8  \n",
       "\n",
       "[5 rows x 21 columns]"
      ]
     },
     "execution_count": 53,
     "metadata": {},
     "output_type": "execute_result"
    }
   ],
   "source": [
    "import pandas as pd\n",
    "\n",
    "\n",
    "col_names = final[1]+['0']\n",
    "\n",
    "data = final[3:]\n",
    "\n",
    "df = pd.DataFrame(data, columns=col_names)\n",
    "\n",
    "df.head()"
   ]
  },
  {
   "cell_type": "code",
   "execution_count": 62,
   "metadata": {},
   "outputs": [
    {
     "data": {
      "text/html": [
       "<div>\n",
       "<style scoped>\n",
       "    .dataframe tbody tr th:only-of-type {\n",
       "        vertical-align: middle;\n",
       "    }\n",
       "\n",
       "    .dataframe tbody tr th {\n",
       "        vertical-align: top;\n",
       "    }\n",
       "\n",
       "    .dataframe thead th {\n",
       "        text-align: right;\n",
       "    }\n",
       "</style>\n",
       "<table border=\"1\" class=\"dataframe\">\n",
       "  <thead>\n",
       "    <tr style=\"text-align: right;\">\n",
       "      <th></th>\n",
       "      <th>83.4</th>\n",
       "      <th>81.8</th>\n",
       "      <th>85.1</th>\n",
       "      <th>3.3</th>\n",
       "      <th>3.7</th>\n",
       "      <th>72.5</th>\n",
       "      <th>72.2</th>\n",
       "      <th>72.8</th>\n",
       "      <th>0.6</th>\n",
       "      <th>3.2</th>\n",
       "      <th>...</th>\n",
       "      <th>24.1</th>\n",
       "      <th>26.6</th>\n",
       "      <th>2.5</th>\n",
       "      <th>2.4</th>\n",
       "      <th>19.5</th>\n",
       "      <th>18.8</th>\n",
       "      <th>20.2</th>\n",
       "      <th>1.4</th>\n",
       "      <th>1.8</th>\n",
       "      <th>Switzerland</th>\n",
       "    </tr>\n",
       "    <tr>\n",
       "      <th>Switzerland</th>\n",
       "      <th></th>\n",
       "      <th></th>\n",
       "      <th></th>\n",
       "      <th></th>\n",
       "      <th></th>\n",
       "      <th></th>\n",
       "      <th></th>\n",
       "      <th></th>\n",
       "      <th></th>\n",
       "      <th></th>\n",
       "      <th></th>\n",
       "      <th></th>\n",
       "      <th></th>\n",
       "      <th></th>\n",
       "      <th></th>\n",
       "      <th></th>\n",
       "      <th></th>\n",
       "      <th></th>\n",
       "      <th></th>\n",
       "      <th></th>\n",
       "      <th></th>\n",
       "    </tr>\n",
       "  </thead>\n",
       "  <tbody>\n",
       "    <tr>\n",
       "      <th>Spain</th>\n",
       "      <td>83.2</td>\n",
       "      <td>80.7</td>\n",
       "      <td>85.7</td>\n",
       "      <td>5.0</td>\n",
       "      <td>4.1</td>\n",
       "      <td>72.1</td>\n",
       "      <td>71.3</td>\n",
       "      <td>72.9</td>\n",
       "      <td>1.6</td>\n",
       "      <td>3.0</td>\n",
       "      <td>...</td>\n",
       "      <td>23.3</td>\n",
       "      <td>27.3</td>\n",
       "      <td>4.0</td>\n",
       "      <td>2.7</td>\n",
       "      <td>19.2</td>\n",
       "      <td>18.0</td>\n",
       "      <td>20.3</td>\n",
       "      <td>2.3</td>\n",
       "      <td>1.9</td>\n",
       "      <td>Spain</td>\n",
       "    </tr>\n",
       "    <tr>\n",
       "      <th>Cyprus</th>\n",
       "      <td>83.1</td>\n",
       "      <td>81.1</td>\n",
       "      <td>85.1</td>\n",
       "      <td>4.0</td>\n",
       "      <td>4.4</td>\n",
       "      <td>72.4</td>\n",
       "      <td>71.8</td>\n",
       "      <td>73.0</td>\n",
       "      <td>1.2</td>\n",
       "      <td>3.3</td>\n",
       "      <td>...</td>\n",
       "      <td>23.3</td>\n",
       "      <td>26.4</td>\n",
       "      <td>3.1</td>\n",
       "      <td>3.0</td>\n",
       "      <td>19.0</td>\n",
       "      <td>18.1</td>\n",
       "      <td>19.9</td>\n",
       "      <td>1.8</td>\n",
       "      <td>2.2</td>\n",
       "      <td>Cyprus</td>\n",
       "    </tr>\n",
       "    <tr>\n",
       "      <th>Italy</th>\n",
       "      <td>83.0</td>\n",
       "      <td>80.9</td>\n",
       "      <td>84.9</td>\n",
       "      <td>4.0</td>\n",
       "      <td>3.6</td>\n",
       "      <td>71.9</td>\n",
       "      <td>71.2</td>\n",
       "      <td>72.6</td>\n",
       "      <td>1.4</td>\n",
       "      <td>2.9</td>\n",
       "      <td>...</td>\n",
       "      <td>23.4</td>\n",
       "      <td>26.5</td>\n",
       "      <td>3.1</td>\n",
       "      <td>2.5</td>\n",
       "      <td>18.9</td>\n",
       "      <td>17.9</td>\n",
       "      <td>19.8</td>\n",
       "      <td>1.9</td>\n",
       "      <td>1.8</td>\n",
       "      <td>Italy</td>\n",
       "    </tr>\n",
       "    <tr>\n",
       "      <th>Norway</th>\n",
       "      <td>82.6</td>\n",
       "      <td>81.1</td>\n",
       "      <td>84.1</td>\n",
       "      <td>3.0</td>\n",
       "      <td>4.1</td>\n",
       "      <td>71.4</td>\n",
       "      <td>71.0</td>\n",
       "      <td>71.6</td>\n",
       "      <td>0.6</td>\n",
       "      <td>3.0</td>\n",
       "      <td>...</td>\n",
       "      <td>23.5</td>\n",
       "      <td>25.8</td>\n",
       "      <td>2.3</td>\n",
       "      <td>2.7</td>\n",
       "      <td>18.5</td>\n",
       "      <td>17.8</td>\n",
       "      <td>19.1</td>\n",
       "      <td>1.3</td>\n",
       "      <td>1.8</td>\n",
       "      <td>Norway</td>\n",
       "    </tr>\n",
       "    <tr>\n",
       "      <th>France</th>\n",
       "      <td>82.5</td>\n",
       "      <td>79.8</td>\n",
       "      <td>85.1</td>\n",
       "      <td>5.3</td>\n",
       "      <td>3.6</td>\n",
       "      <td>72.1</td>\n",
       "      <td>71.1</td>\n",
       "      <td>73.1</td>\n",
       "      <td>2.0</td>\n",
       "      <td>2.8</td>\n",
       "      <td>...</td>\n",
       "      <td>23.3</td>\n",
       "      <td>27.2</td>\n",
       "      <td>3.9</td>\n",
       "      <td>2.3</td>\n",
       "      <td>19.7</td>\n",
       "      <td>18.5</td>\n",
       "      <td>20.8</td>\n",
       "      <td>2.3</td>\n",
       "      <td>1.7</td>\n",
       "      <td>France</td>\n",
       "    </tr>\n",
       "  </tbody>\n",
       "</table>\n",
       "<p>5 rows × 21 columns</p>\n",
       "</div>"
      ],
      "text/plain": [
       "              83.4  81.8  85.1  3.3  3.7  72.5  72.2  72.8  0.6  3.2  ...  \\\n",
       " Switzerland                                                          ...   \n",
       " Spain        83.2  80.7  85.7  5.0  4.1  72.1  71.3  72.9  1.6  3.0  ...   \n",
       " Cyprus       83.1  81.1  85.1  4.0  4.4  72.4  71.8  73.0  1.2  3.3  ...   \n",
       " Italy        83.0  80.9  84.9  4.0  3.6  71.9  71.2  72.6  1.4  2.9  ...   \n",
       " Norway       82.6  81.1  84.1  3.0  4.1  71.4  71.0  71.6  0.6  3.0  ...   \n",
       " France       82.5  79.8  85.1  5.3  3.6  72.1  71.1  73.1  2.0  2.8  ...   \n",
       "\n",
       "              24.1  26.6  2.5  2.4  19.5  18.8  20.2  1.4  1.8  Switzerland  \n",
       " Switzerland                                                                 \n",
       " Spain        23.3  27.3  4.0  2.7  19.2  18.0  20.3  2.3  1.9        Spain  \n",
       " Cyprus       23.3  26.4  3.1  3.0  19.0  18.1  19.9  1.8  2.2       Cyprus  \n",
       " Italy        23.4  26.5  3.1  2.5  18.9  17.9  19.8  1.9  1.8        Italy  \n",
       " Norway       23.5  25.8  2.3  2.7  18.5  17.8  19.1  1.3  1.8       Norway  \n",
       " France       23.3  27.2  3.9  2.3  19.7  18.5  20.8  2.3  1.7       France  \n",
       "\n",
       "[5 rows x 21 columns]"
      ]
     },
     "execution_count": 62,
     "metadata": {},
     "output_type": "execute_result"
    }
   ],
   "source": [
    "# esto es solo pa pandas\n",
    "\n",
    "df = pd.read_clipboard()    # ctrl+v\n",
    "\n",
    "df.head()"
   ]
  },
  {
   "cell_type": "code",
   "execution_count": 63,
   "metadata": {},
   "outputs": [
    {
     "data": {
      "text/html": [
       "<div>\n",
       "<style scoped>\n",
       "    .dataframe tbody tr th:only-of-type {\n",
       "        vertical-align: middle;\n",
       "    }\n",
       "\n",
       "    .dataframe tbody tr th {\n",
       "        vertical-align: top;\n",
       "    }\n",
       "\n",
       "    .dataframe thead th {\n",
       "        text-align: right;\n",
       "    }\n",
       "</style>\n",
       "<table border=\"1\" class=\"dataframe\">\n",
       "  <thead>\n",
       "    <tr style=\"text-align: right;\">\n",
       "      <th></th>\n",
       "      <th>pd.read_clipboard()</th>\n",
       "    </tr>\n",
       "  </thead>\n",
       "  <tbody>\n",
       "  </tbody>\n",
       "</table>\n",
       "</div>"
      ],
      "text/plain": [
       "Empty DataFrame\n",
       "Columns: [pd.read_clipboard()]\n",
       "Index: []"
      ]
     },
     "execution_count": 63,
     "metadata": {},
     "output_type": "execute_result"
    }
   ],
   "source": [
    "pd.read_clipboard()"
   ]
  },
  {
   "cell_type": "markdown",
   "metadata": {},
   "source": [
    "### Ejemplo geolocalización por IP\n",
    "\n",
    "https://tools.keycdn.com/geo"
   ]
  },
  {
   "cell_type": "markdown",
   "metadata": {},
   "source": [
    "**¿Dónde estoy?**"
   ]
  },
  {
   "cell_type": "code",
   "execution_count": 64,
   "metadata": {},
   "outputs": [],
   "source": [
    "url = 'https://tools.keycdn.com/geo?host=2.136.118.161'"
   ]
  },
  {
   "cell_type": "code",
   "execution_count": 65,
   "metadata": {},
   "outputs": [],
   "source": [
    "html = req.get(url).text\n",
    "\n",
    "sopa = bs(html, 'html.parser')"
   ]
  },
  {
   "cell_type": "code",
   "execution_count": 68,
   "metadata": {},
   "outputs": [
    {
     "data": {
      "text/plain": [
       "<div class=\"mt-4\" id=\"geoResult\">\n",
       "<div class=\"bg-light medium rounded p-3\">\n",
       "<p class=\"small text-uppercase text-muted font-weight-semi-bold line-height-headings mb-2\">Location</p> <dl class=\"row mb-0\">\n",
       "<dt class=\"col-4\">City</dt><dd class=\"col-8 text-monospace\">Madrid</dd><dt class=\"col-4\">Region</dt><dd class=\"col-8 text-monospace\">Madrid (M)</dd><dt class=\"col-4\">Postal code</dt><dd class=\"col-8 text-monospace\">28053</dd><dt class=\"col-4\">Country</dt><dd class=\"col-8 text-monospace\">Spain (ES)</dd><dt class=\"col-4\">Continent</dt><dd class=\"col-8 text-monospace\">Europe (EU)</dd><dt class=\"col-4\">Coordinates</dt><dd class=\"col-8 text-monospace\">40.4163 (lat) / -3.6934 (long)</dd><dt class=\"col-4\">Time</dt><dd class=\"col-8 text-monospace\">2023-08-01 12:08:22 (Europe/Madrid)</dd> </dl>\n",
       "<p class=\"small text-uppercase text-muted font-weight-semi-bold line-height-headings mt-4 mb-2\">Network</p>\n",
       "<dl class=\"row mb-0\">\n",
       "<dt class=\"col-4\">IP address</dt><dd class=\"col-8 text-monospace\">2.136.118.161</dd><dt class=\"col-4\">Hostname</dt><dd class=\"col-8 text-monospace\">161.red-2-136-118.staticip.rima-tde.net</dd><dt class=\"col-4\">Provider</dt><dd class=\"col-8 text-monospace\">Telefonica De Espana S.a.u.</dd><dt class=\"col-4\">ASN</dt><dd class=\"col-8 text-monospace\">3352</dd> </dl>\n",
       "</div>\n",
       "<div class=\"mapael mt-4\" id=\"geoMap\">\n",
       "<div class=\"map position-relative\"></div>\n",
       "</div>\n",
       "</div>"
      ]
     },
     "execution_count": 68,
     "metadata": {},
     "output_type": "execute_result"
    }
   ],
   "source": [
    "sopa.find('div', id='geoResult')"
   ]
  },
  {
   "cell_type": "code",
   "execution_count": 69,
   "metadata": {},
   "outputs": [
    {
     "data": {
      "text/plain": [
       "<div class=\"col-xl-2 col-md-3 d-flex align-items-end mt-md-0 mt-4\">\n",
       "<button class=\"btn btn-primary d-flex justify-content-center align-items-center w-md-100\" id=\"geoBtn\">Find</button>\n",
       "</div>"
      ]
     },
     "execution_count": 69,
     "metadata": {},
     "output_type": "execute_result"
    }
   ],
   "source": [
    "sopa.find('div', class_='mt-4')"
   ]
  },
  {
   "cell_type": "code",
   "execution_count": 70,
   "metadata": {},
   "outputs": [
    {
     "data": {
      "text/plain": [
       "<div class=\"mt-4\" id=\"geoResult\">\n",
       "<div class=\"bg-light medium rounded p-3\">\n",
       "<p class=\"small text-uppercase text-muted font-weight-semi-bold line-height-headings mb-2\">Location</p> <dl class=\"row mb-0\">\n",
       "<dt class=\"col-4\">City</dt><dd class=\"col-8 text-monospace\">Madrid</dd><dt class=\"col-4\">Region</dt><dd class=\"col-8 text-monospace\">Madrid (M)</dd><dt class=\"col-4\">Postal code</dt><dd class=\"col-8 text-monospace\">28053</dd><dt class=\"col-4\">Country</dt><dd class=\"col-8 text-monospace\">Spain (ES)</dd><dt class=\"col-4\">Continent</dt><dd class=\"col-8 text-monospace\">Europe (EU)</dd><dt class=\"col-4\">Coordinates</dt><dd class=\"col-8 text-monospace\">40.4163 (lat) / -3.6934 (long)</dd><dt class=\"col-4\">Time</dt><dd class=\"col-8 text-monospace\">2023-08-01 12:08:22 (Europe/Madrid)</dd> </dl>\n",
       "<p class=\"small text-uppercase text-muted font-weight-semi-bold line-height-headings mt-4 mb-2\">Network</p>\n",
       "<dl class=\"row mb-0\">\n",
       "<dt class=\"col-4\">IP address</dt><dd class=\"col-8 text-monospace\">2.136.118.161</dd><dt class=\"col-4\">Hostname</dt><dd class=\"col-8 text-monospace\">161.red-2-136-118.staticip.rima-tde.net</dd><dt class=\"col-4\">Provider</dt><dd class=\"col-8 text-monospace\">Telefonica De Espana S.a.u.</dd><dt class=\"col-4\">ASN</dt><dd class=\"col-8 text-monospace\">3352</dd> </dl>\n",
       "</div>\n",
       "<div class=\"mapael mt-4\" id=\"geoMap\">\n",
       "<div class=\"map position-relative\"></div>\n",
       "</div>\n",
       "</div>"
      ]
     },
     "execution_count": 70,
     "metadata": {},
     "output_type": "execute_result"
    }
   ],
   "source": [
    "sopa.find('div', {'id': 'geoResult', 'class': 'mt-4'})"
   ]
  },
  {
   "cell_type": "code",
   "execution_count": 71,
   "metadata": {},
   "outputs": [],
   "source": [
    "tabla = sopa.find('div', {'id': 'geoResult', 'class': 'mt-4'})"
   ]
  },
  {
   "cell_type": "code",
   "execution_count": 72,
   "metadata": {},
   "outputs": [
    {
     "data": {
      "text/plain": [
       "[<dd class=\"col-8 text-monospace\">Madrid</dd>,\n",
       " <dd class=\"col-8 text-monospace\">Madrid (M)</dd>,\n",
       " <dd class=\"col-8 text-monospace\">28053</dd>,\n",
       " <dd class=\"col-8 text-monospace\">Spain (ES)</dd>,\n",
       " <dd class=\"col-8 text-monospace\">Europe (EU)</dd>,\n",
       " <dd class=\"col-8 text-monospace\">40.4163 (lat) / -3.6934 (long)</dd>,\n",
       " <dd class=\"col-8 text-monospace\">2023-08-01 12:08:22 (Europe/Madrid)</dd>,\n",
       " <dd class=\"col-8 text-monospace\">2.136.118.161</dd>,\n",
       " <dd class=\"col-8 text-monospace\">161.red-2-136-118.staticip.rima-tde.net</dd>,\n",
       " <dd class=\"col-8 text-monospace\">Telefonica De Espana S.a.u.</dd>,\n",
       " <dd class=\"col-8 text-monospace\">3352</dd>]"
      ]
     },
     "execution_count": 72,
     "metadata": {},
     "output_type": "execute_result"
    }
   ],
   "source": [
    "tabla.find_all('dd')"
   ]
  },
  {
   "cell_type": "code",
   "execution_count": 79,
   "metadata": {},
   "outputs": [
    {
     "data": {
      "text/plain": [
       "bs4.element.Tag"
      ]
     },
     "execution_count": 79,
     "metadata": {},
     "output_type": "execute_result"
    }
   ],
   "source": [
    "type(tabla.find_all('dd')[0])"
   ]
  },
  {
   "cell_type": "code",
   "execution_count": 81,
   "metadata": {},
   "outputs": [
    {
     "data": {
      "text/plain": [
       "'Madrid'"
      ]
     },
     "execution_count": 81,
     "metadata": {},
     "output_type": "execute_result"
    }
   ],
   "source": [
    "tabla.find_all('dd')[0].text"
   ]
  },
  {
   "cell_type": "code",
   "execution_count": 80,
   "metadata": {},
   "outputs": [
    {
     "data": {
      "text/plain": [
       "str"
      ]
     },
     "execution_count": 80,
     "metadata": {},
     "output_type": "execute_result"
    }
   ],
   "source": [
    "type(tabla.find_all('dd')[0].text)"
   ]
  },
  {
   "cell_type": "code",
   "execution_count": 77,
   "metadata": {},
   "outputs": [
    {
     "data": {
      "text/plain": [
       "['Madrid',\n",
       " 'Madrid (M)',\n",
       " '28053',\n",
       " 'Spain (ES)',\n",
       " 'Europe (EU)',\n",
       " '40.4163 (lat) / -3.6934 (long)',\n",
       " '2023-08-01 12:08:22 (Europe/Madrid)',\n",
       " '2.136.118.161',\n",
       " '161.red-2-136-118.staticip.rima-tde.net',\n",
       " 'Telefonica De Espana S.a.u.',\n",
       " '3352']"
      ]
     },
     "execution_count": 77,
     "metadata": {},
     "output_type": "execute_result"
    }
   ],
   "source": [
    "[e.text for e in tabla.find_all('dd')]"
   ]
  },
  {
   "cell_type": "code",
   "execution_count": 82,
   "metadata": {},
   "outputs": [
    {
     "data": {
      "text/plain": [
       "['City',\n",
       " 'Region',\n",
       " 'Postal code',\n",
       " 'Country',\n",
       " 'Continent',\n",
       " 'Coordinates',\n",
       " 'Time',\n",
       " 'IP address',\n",
       " 'Hostname',\n",
       " 'Provider',\n",
       " 'ASN']"
      ]
     },
     "execution_count": 82,
     "metadata": {},
     "output_type": "execute_result"
    }
   ],
   "source": [
    "[e.text for e in tabla.find_all('dt')]"
   ]
  },
  {
   "cell_type": "code",
   "execution_count": 87,
   "metadata": {},
   "outputs": [],
   "source": [
    "conexion = dict(zip([e.text for e in tabla.find_all('dt')], \n",
    "                    [e.text for e in tabla.find_all('dd')]))"
   ]
  },
  {
   "cell_type": "code",
   "execution_count": 88,
   "metadata": {},
   "outputs": [
    {
     "data": {
      "text/plain": [
       "{'City': 'Madrid',\n",
       " 'Region': 'Madrid (M)',\n",
       " 'Postal code': '28053',\n",
       " 'Country': 'Spain (ES)',\n",
       " 'Continent': 'Europe (EU)',\n",
       " 'Coordinates': '40.4163 (lat) / -3.6934 (long)',\n",
       " 'Time': '2023-08-01 12:08:22 (Europe/Madrid)',\n",
       " 'IP address': '2.136.118.161',\n",
       " 'Hostname': '161.red-2-136-118.staticip.rima-tde.net',\n",
       " 'Provider': 'Telefonica De Espana S.a.u.',\n",
       " 'ASN': '3352'}"
      ]
     },
     "execution_count": 88,
     "metadata": {},
     "output_type": "execute_result"
    }
   ],
   "source": [
    "conexion"
   ]
  },
  {
   "cell_type": "code",
   "execution_count": 89,
   "metadata": {},
   "outputs": [],
   "source": [
    "# creo una funcion para todo el proceso, segun ip\n",
    "\n",
    "\n",
    "def encontrar(ip):\n",
    "    \n",
    "    url = f'https://tools.keycdn.com/geo?host={ip}'\n",
    "    \n",
    "    \n",
    "    html = req.get(url).text\n",
    "\n",
    "    sopa = bs(html, 'html.parser')\n",
    "    \n",
    "    tabla = sopa.find('div', {'id': 'geoResult', 'class': 'mt-4'})\n",
    "    \n",
    "    conexion = dict(zip([e.text for e in tabla.find_all('dt')], \n",
    "                    [e.text for e in tabla.find_all('dd')]))\n",
    "    \n",
    "    return conexion"
   ]
  },
  {
   "cell_type": "code",
   "execution_count": 91,
   "metadata": {},
   "outputs": [
    {
     "data": {
      "text/plain": [
       "{'City': 'Madrid',\n",
       " 'Region': 'Madrid (M)',\n",
       " 'Postal code': '28053',\n",
       " 'Country': 'Spain (ES)',\n",
       " 'Continent': 'Europe (EU)',\n",
       " 'Coordinates': '40.4163 (lat) / -3.6934 (long)',\n",
       " 'Time': '2023-08-01 12:17:20 (Europe/Madrid)',\n",
       " 'IP address': '2.136.118.161',\n",
       " 'Hostname': '161.red-2-136-118.staticip.rima-tde.net',\n",
       " 'Provider': 'Telefonica De Espana S.a.u.',\n",
       " 'ASN': '3352'}"
      ]
     },
     "execution_count": 91,
     "metadata": {},
     "output_type": "execute_result"
    }
   ],
   "source": [
    "encontrar('2.136.118.161')"
   ]
  },
  {
   "cell_type": "code",
   "execution_count": 92,
   "metadata": {},
   "outputs": [
    {
     "data": {
      "text/plain": [
       "{'City': 'Barrigada Village',\n",
       " 'Postal code': '96921',\n",
       " 'Country': 'Guam (GU)',\n",
       " 'Continent': 'Oceania (OC)',\n",
       " 'Coordinates': '13.4593 (lat) / 144.7942 (long)',\n",
       " 'Time': '2023-08-01 20:17:27 (Pacific/Guam)',\n",
       " 'IP address': '168.123.4.5',\n",
       " 'Hostname': '168.123.4.5',\n",
       " 'Provider': 'UNIVERSITY-GUAM',\n",
       " 'ASN': '395400'}"
      ]
     },
     "execution_count": 92,
     "metadata": {},
     "output_type": "execute_result"
    }
   ],
   "source": [
    "encontrar('168.123.4.5')"
   ]
  },
  {
   "cell_type": "code",
   "execution_count": 93,
   "metadata": {},
   "outputs": [
    {
     "data": {
      "text/plain": [
       "{'City': 'Madrid',\n",
       " 'Region': 'Madrid (M)',\n",
       " 'Postal code': '28045',\n",
       " 'Country': 'Spain (ES)',\n",
       " 'Continent': 'Europe (EU)',\n",
       " 'Coordinates': '40.4163 (lat) / -3.6934 (long)',\n",
       " 'Time': '2023-08-01 12:17:37 (Europe/Madrid)',\n",
       " 'IP address': '46.222.34.200',\n",
       " 'Hostname': '46.222.34.200',\n",
       " 'Provider': 'Xtra Telecom S.A.',\n",
       " 'ASN': '15704'}"
      ]
     },
     "execution_count": 93,
     "metadata": {},
     "output_type": "execute_result"
    }
   ],
   "source": [
    "encontrar('46.222.34.200')"
   ]
  },
  {
   "cell_type": "markdown",
   "metadata": {},
   "source": [
    "### Ejemplo LinkedIn"
   ]
  },
  {
   "cell_type": "code",
   "execution_count": 94,
   "metadata": {},
   "outputs": [],
   "source": [
    "url = 'https://www.linkedin.com/jobs/search/?currentJobId=3661489995&geoId=105646813&keywords=analista%20de%20datos&location=Espa%C3%B1a&refresh=true'\n"
   ]
  },
  {
   "cell_type": "code",
   "execution_count": 95,
   "metadata": {},
   "outputs": [],
   "source": [
    "html = req.get(url).text\n",
    "\n",
    "sopa = bs(html, 'html.parser')"
   ]
  },
  {
   "cell_type": "code",
   "execution_count": 101,
   "metadata": {
    "scrolled": false
   },
   "outputs": [
    {
     "data": {
      "text/plain": [
       "bs4.element.Tag"
      ]
     },
     "execution_count": 101,
     "metadata": {},
     "output_type": "execute_result"
    }
   ],
   "source": [
    "tarjetas = sopa.find('ul', class_='jobs-search__results-list')\n",
    "\n",
    "type(tarjetas)"
   ]
  },
  {
   "cell_type": "code",
   "execution_count": 103,
   "metadata": {
    "scrolled": false
   },
   "outputs": [
    {
     "data": {
      "text/plain": [
       "25"
      ]
     },
     "execution_count": 103,
     "metadata": {},
     "output_type": "execute_result"
    }
   ],
   "source": [
    "len(tarjetas.find_all('li'))"
   ]
  },
  {
   "cell_type": "code",
   "execution_count": 133,
   "metadata": {},
   "outputs": [],
   "source": [
    "curro = tarjetas.find_all('li')[0]\n",
    "\n",
    "titulo = curro.find('span').text.strip()\n",
    "\n",
    "empresa = curro.find('h4').text.strip()\n",
    "\n",
    "link_curro = curro.find('a').attrs['href']\n",
    "\n",
    "link_comp = curro.find('h4').find('a').attrs['href']\n",
    "\n",
    "pais = curro.find('span', class_='job-search-card__location').text.strip()\n",
    "\n",
    "fecha = curro.find('time').attrs['datetime']"
   ]
  },
  {
   "cell_type": "code",
   "execution_count": 134,
   "metadata": {},
   "outputs": [
    {
     "data": {
      "text/plain": [
       "{'titulo': 'DATA ANALYST (REMOTO)',\n",
       " 'empresa': 'IRIUM',\n",
       " 'link_curro': 'https://es.linkedin.com/jobs/view/data-analyst-remoto-at-irium-3671561457?refId=Qyz%2BOPiKV3VbnB4qrnh50w%3D%3D&trackingId=oYBFwVE9DHRNjNrR4xbjmQ%3D%3D&position=1&pageNum=0&trk=public_jobs_jserp-result_search-card',\n",
       " 'link_comp': 'https://es.linkedin.com/company/irium-solucionesysistemas?trk=public_jobs_jserp-result_job-search-card-subtitle',\n",
       " 'pais': 'Madrid, Community of Madrid, Spain',\n",
       " 'fecha': '2023-07-21'}"
      ]
     },
     "execution_count": 134,
     "metadata": {},
     "output_type": "execute_result"
    }
   ],
   "source": [
    "{'titulo': titulo,\n",
    "\n",
    "'empresa': empresa,\n",
    "\n",
    "'link_curro': link_curro,\n",
    "\n",
    "'link_comp': link_comp, \n",
    "\n",
    "'pais': pais, \n",
    "\n",
    "'fecha': fecha}"
   ]
  },
  {
   "cell_type": "code",
   "execution_count": 146,
   "metadata": {
    "scrolled": false
   },
   "outputs": [],
   "source": [
    "def linkedin(keywords, num_pages, loc, n_secs):\n",
    "    \n",
    "    URL = 'https://www.linkedin.com/jobs/search/'\n",
    "    \n",
    "    data = []\n",
    "    \n",
    "    \n",
    "    for i in range(num_pages):\n",
    "        \n",
    "        scrape_url = ''.join([URL,    # url principal\n",
    "                              f'?keywords={keywords}',\n",
    "                              '&geoId=105646813',\n",
    "                              f'&location={loc}',\n",
    "                              f'&f_TPR={n_secs}',\n",
    "                              f'&start={i*25}'\n",
    "                             ])\n",
    "        \n",
    "        html = req.get(scrape_url).text\n",
    "\n",
    "        sopa = bs(html, 'html.parser')\n",
    "        \n",
    "        tarjetas = sopa.find('ul', class_='jobs-search__results-list').find_all('li')\n",
    "        \n",
    "        \n",
    "        # bucle sobre los li, las tarjetas de cada curro\n",
    "        for curro in tarjetas:\n",
    "            \n",
    "            \n",
    "            try:\n",
    "                titulo = curro.find('span').text.strip()\n",
    "\n",
    "                empresa = curro.find('h4').text.strip()\n",
    "\n",
    "                link_curro = curro.find('a').attrs['href']\n",
    "\n",
    "                link_comp = curro.find('h4').find('a').attrs['href']\n",
    "\n",
    "                pais = curro.find('span', class_='job-search-card__location').text.strip()\n",
    "\n",
    "                fecha = curro.find('time').attrs['datetime']\n",
    "\n",
    "\n",
    "                data.append({'titulo': titulo,\n",
    "\n",
    "                            'empresa': empresa,\n",
    "\n",
    "                            'link_curro': link_curro,\n",
    "\n",
    "                            'link_comp': link_comp, \n",
    "\n",
    "                            'pais': pais, \n",
    "\n",
    "                            'fecha': fecha})\n",
    "            except:\n",
    "                print('hola')\n",
    "                continue\n",
    "                \n",
    "                \n",
    "    \n",
    "    \n",
    "    return pd.DataFrame(data)\n"
   ]
  },
  {
   "cell_type": "code",
   "execution_count": 147,
   "metadata": {},
   "outputs": [],
   "source": [
    "df = linkedin('analista%20de%20datos', 5, 'spain', 30000)"
   ]
  },
  {
   "cell_type": "code",
   "execution_count": 148,
   "metadata": {
    "scrolled": false
   },
   "outputs": [
    {
     "data": {
      "text/html": [
       "<div>\n",
       "<style scoped>\n",
       "    .dataframe tbody tr th:only-of-type {\n",
       "        vertical-align: middle;\n",
       "    }\n",
       "\n",
       "    .dataframe tbody tr th {\n",
       "        vertical-align: top;\n",
       "    }\n",
       "\n",
       "    .dataframe thead th {\n",
       "        text-align: right;\n",
       "    }\n",
       "</style>\n",
       "<table border=\"1\" class=\"dataframe\">\n",
       "  <thead>\n",
       "    <tr style=\"text-align: right;\">\n",
       "      <th></th>\n",
       "      <th>titulo</th>\n",
       "      <th>empresa</th>\n",
       "      <th>link_curro</th>\n",
       "      <th>link_comp</th>\n",
       "      <th>pais</th>\n",
       "      <th>fecha</th>\n",
       "    </tr>\n",
       "  </thead>\n",
       "  <tbody>\n",
       "    <tr>\n",
       "      <th>0</th>\n",
       "      <td>DATA ANALYST (REMOTO)</td>\n",
       "      <td>IRIUM</td>\n",
       "      <td>https://es.linkedin.com/jobs/view/data-analyst...</td>\n",
       "      <td>https://es.linkedin.com/company/irium-solucion...</td>\n",
       "      <td>Madrid, Community of Madrid, Spain</td>\n",
       "      <td>2023-07-21</td>\n",
       "    </tr>\n",
       "    <tr>\n",
       "      <th>1</th>\n",
       "      <td>Analista de datos Junior</td>\n",
       "      <td>Krell Consulting</td>\n",
       "      <td>https://es.linkedin.com/jobs/view/analista-de-...</td>\n",
       "      <td>https://es.linkedin.com/company/krellconsultin...</td>\n",
       "      <td>Madrid, Community of Madrid, Spain</td>\n",
       "      <td>2023-07-06</td>\n",
       "    </tr>\n",
       "    <tr>\n",
       "      <th>2</th>\n",
       "      <td>Data Analyst Power BI</td>\n",
       "      <td>CGI</td>\n",
       "      <td>https://es.linkedin.com/jobs/view/data-analyst...</td>\n",
       "      <td>https://ca.linkedin.com/company/cgi?trk=public...</td>\n",
       "      <td>Madrid, Community of Madrid, Spain</td>\n",
       "      <td>2023-07-28</td>\n",
       "    </tr>\n",
       "    <tr>\n",
       "      <th>3</th>\n",
       "      <td>Analista de datos</td>\n",
       "      <td>QUANT AI Lab</td>\n",
       "      <td>https://es.linkedin.com/jobs/view/analista-de-...</td>\n",
       "      <td>https://fr.linkedin.com/company/quant-ai-lab?t...</td>\n",
       "      <td>Madrid, Community of Madrid, Spain</td>\n",
       "      <td>2023-07-14</td>\n",
       "    </tr>\n",
       "    <tr>\n",
       "      <th>4</th>\n",
       "      <td>Data Analyst</td>\n",
       "      <td>Coniq</td>\n",
       "      <td>https://es.linkedin.com/jobs/view/data-analyst...</td>\n",
       "      <td>https://uk.linkedin.com/company/coniq?trk=publ...</td>\n",
       "      <td>Barcelona, Catalonia, Spain</td>\n",
       "      <td>2023-07-20</td>\n",
       "    </tr>\n",
       "  </tbody>\n",
       "</table>\n",
       "</div>"
      ],
      "text/plain": [
       "                     titulo           empresa  \\\n",
       "0     DATA ANALYST (REMOTO)             IRIUM   \n",
       "1  Analista de datos Junior  Krell Consulting   \n",
       "2     Data Analyst Power BI               CGI   \n",
       "3         Analista de datos      QUANT AI Lab   \n",
       "4              Data Analyst             Coniq   \n",
       "\n",
       "                                          link_curro  \\\n",
       "0  https://es.linkedin.com/jobs/view/data-analyst...   \n",
       "1  https://es.linkedin.com/jobs/view/analista-de-...   \n",
       "2  https://es.linkedin.com/jobs/view/data-analyst...   \n",
       "3  https://es.linkedin.com/jobs/view/analista-de-...   \n",
       "4  https://es.linkedin.com/jobs/view/data-analyst...   \n",
       "\n",
       "                                           link_comp  \\\n",
       "0  https://es.linkedin.com/company/irium-solucion...   \n",
       "1  https://es.linkedin.com/company/krellconsultin...   \n",
       "2  https://ca.linkedin.com/company/cgi?trk=public...   \n",
       "3  https://fr.linkedin.com/company/quant-ai-lab?t...   \n",
       "4  https://uk.linkedin.com/company/coniq?trk=publ...   \n",
       "\n",
       "                                 pais       fecha  \n",
       "0  Madrid, Community of Madrid, Spain  2023-07-21  \n",
       "1  Madrid, Community of Madrid, Spain  2023-07-06  \n",
       "2  Madrid, Community of Madrid, Spain  2023-07-28  \n",
       "3  Madrid, Community of Madrid, Spain  2023-07-14  \n",
       "4         Barcelona, Catalonia, Spain  2023-07-20  "
      ]
     },
     "execution_count": 148,
     "metadata": {},
     "output_type": "execute_result"
    }
   ],
   "source": [
    "df.head()"
   ]
  },
  {
   "cell_type": "code",
   "execution_count": 149,
   "metadata": {
    "scrolled": false
   },
   "outputs": [
    {
     "data": {
      "text/plain": [
       "(125, 6)"
      ]
     },
     "execution_count": 149,
     "metadata": {},
     "output_type": "execute_result"
    }
   ],
   "source": [
    "df.shape"
   ]
  },
  {
   "cell_type": "code",
   "execution_count": 150,
   "metadata": {},
   "outputs": [],
   "source": [
    "from IPython.display import HTML"
   ]
  },
  {
   "cell_type": "code",
   "execution_count": 154,
   "metadata": {
    "scrolled": false
   },
   "outputs": [
    {
     "data": {
      "text/html": [
       "<table border=\"1\" class=\"dataframe\">\n",
       "  <thead>\n",
       "    <tr style=\"text-align: right;\">\n",
       "      <th></th>\n",
       "      <th>titulo</th>\n",
       "      <th>empresa</th>\n",
       "      <th>link_curro</th>\n",
       "      <th>link_comp</th>\n",
       "      <th>pais</th>\n",
       "      <th>fecha</th>\n",
       "    </tr>\n",
       "  </thead>\n",
       "  <tbody>\n",
       "    <tr>\n",
       "      <th>0</th>\n",
       "      <td>DATA ANALYST (REMOTO)</td>\n",
       "      <td>IRIUM</td>\n",
       "      <td><a href=\"https://es.linkedin.com/jobs/view/data-analyst-remoto-at-irium-3671561457?refId=jkZzMHKaUxRYO7%2Bl8drZSQ%3D%3D&trackingId=ZRcXFli9oGyMi4qDo27URA%3D%3D&position=1&pageNum=0&trk=public_jobs_jserp-result_search-card\" target=\"_blank\">https://es.linkedin.com/jobs/view/data-analyst-remoto-at-irium-3671561457?refId=jkZzMHKaUxRYO7%2Bl8drZSQ%3D%3D&amp;trackingId=ZRcXFli9oGyMi4qDo27URA%3D%3D&amp;position=1&amp;pageNum=0&amp;trk=public_jobs_jserp-result_search-card</a></td>\n",
       "      <td><a href=\"https://es.linkedin.com/company/irium-solucionesysistemas?trk=public_jobs_jserp-result_job-search-card-subtitle\" target=\"_blank\">https://es.linkedin.com/company/irium-solucionesysistemas?trk=public_jobs_jserp-result_job-search-card-subtitle</a></td>\n",
       "      <td>Madrid, Community of Madrid, Spain</td>\n",
       "      <td>2023-07-21</td>\n",
       "    </tr>\n",
       "    <tr>\n",
       "      <th>1</th>\n",
       "      <td>Analista de datos Junior</td>\n",
       "      <td>Krell Consulting</td>\n",
       "      <td><a href=\"https://es.linkedin.com/jobs/view/analista-de-datos-junior-at-krell-consulting-3657204428?refId=jkZzMHKaUxRYO7%2Bl8drZSQ%3D%3D&trackingId=3U8ffqqcZyqUdbPCWwzLZQ%3D%3D&position=2&pageNum=0&trk=public_jobs_jserp-result_search-card\" target=\"_blank\">https://es.linkedin.com/jobs/view/analista-de-datos-junior-at-krell-consulting-3657204428?refId=jkZzMHKaUxRYO7%2Bl8drZSQ%3D%3D&amp;trackingId=3U8ffqqcZyqUdbPCWwzLZQ%3D%3D&amp;position=2&amp;pageNum=0&amp;trk=public_jobs_jserp-result_search-card</a></td>\n",
       "      <td><a href=\"https://es.linkedin.com/company/krellconsulting?trk=public_jobs_jserp-result_job-search-card-subtitle\" target=\"_blank\">https://es.linkedin.com/company/krellconsulting?trk=public_jobs_jserp-result_job-search-card-subtitle</a></td>\n",
       "      <td>Madrid, Community of Madrid, Spain</td>\n",
       "      <td>2023-07-06</td>\n",
       "    </tr>\n",
       "    <tr>\n",
       "      <th>2</th>\n",
       "      <td>Data Analyst Power BI</td>\n",
       "      <td>CGI</td>\n",
       "      <td><a href=\"https://es.linkedin.com/jobs/view/data-analyst-power-bi-at-cgi-3677260250?refId=jkZzMHKaUxRYO7%2Bl8drZSQ%3D%3D&trackingId=%2B14Ii8KwY6k%2B16UhOtLg2w%3D%3D&position=3&pageNum=0&trk=public_jobs_jserp-result_search-card\" target=\"_blank\">https://es.linkedin.com/jobs/view/data-analyst-power-bi-at-cgi-3677260250?refId=jkZzMHKaUxRYO7%2Bl8drZSQ%3D%3D&amp;trackingId=%2B14Ii8KwY6k%2B16UhOtLg2w%3D%3D&amp;position=3&amp;pageNum=0&amp;trk=public_jobs_jserp-result_search-card</a></td>\n",
       "      <td><a href=\"https://ca.linkedin.com/company/cgi?trk=public_jobs_jserp-result_job-search-card-subtitle\" target=\"_blank\">https://ca.linkedin.com/company/cgi?trk=public_jobs_jserp-result_job-search-card-subtitle</a></td>\n",
       "      <td>Madrid, Community of Madrid, Spain</td>\n",
       "      <td>2023-07-28</td>\n",
       "    </tr>\n",
       "    <tr>\n",
       "      <th>3</th>\n",
       "      <td>Analista de datos</td>\n",
       "      <td>QUANT AI Lab</td>\n",
       "      <td><a href=\"https://es.linkedin.com/jobs/view/analista-de-datos-at-quant-ai-lab-3642665079?refId=jkZzMHKaUxRYO7%2Bl8drZSQ%3D%3D&trackingId=io7620iqN68Gq1%2FH%2FPMvGQ%3D%3D&position=4&pageNum=0&trk=public_jobs_jserp-result_search-card\" target=\"_blank\">https://es.linkedin.com/jobs/view/analista-de-datos-at-quant-ai-lab-3642665079?refId=jkZzMHKaUxRYO7%2Bl8drZSQ%3D%3D&amp;trackingId=io7620iqN68Gq1%2FH%2FPMvGQ%3D%3D&amp;position=4&amp;pageNum=0&amp;trk=public_jobs_jserp-result_search-card</a></td>\n",
       "      <td><a href=\"https://fr.linkedin.com/company/quant-ai-lab?trk=public_jobs_jserp-result_job-search-card-subtitle\" target=\"_blank\">https://fr.linkedin.com/company/quant-ai-lab?trk=public_jobs_jserp-result_job-search-card-subtitle</a></td>\n",
       "      <td>Madrid, Community of Madrid, Spain</td>\n",
       "      <td>2023-07-14</td>\n",
       "    </tr>\n",
       "    <tr>\n",
       "      <th>4</th>\n",
       "      <td>Data Analyst</td>\n",
       "      <td>Coniq</td>\n",
       "      <td><a href=\"https://es.linkedin.com/jobs/view/data-analyst-at-coniq-3669899049?refId=jkZzMHKaUxRYO7%2Bl8drZSQ%3D%3D&trackingId=L8ZAUAEPTDQt1hx0YK2u7w%3D%3D&position=5&pageNum=0&trk=public_jobs_jserp-result_search-card\" target=\"_blank\">https://es.linkedin.com/jobs/view/data-analyst-at-coniq-3669899049?refId=jkZzMHKaUxRYO7%2Bl8drZSQ%3D%3D&amp;trackingId=L8ZAUAEPTDQt1hx0YK2u7w%3D%3D&amp;position=5&amp;pageNum=0&amp;trk=public_jobs_jserp-result_search-card</a></td>\n",
       "      <td><a href=\"https://uk.linkedin.com/company/coniq?trk=public_jobs_jserp-result_job-search-card-subtitle\" target=\"_blank\">https://uk.linkedin.com/company/coniq?trk=public_jobs_jserp-result_job-search-card-subtitle</a></td>\n",
       "      <td>Barcelona, Catalonia, Spain</td>\n",
       "      <td>2023-07-20</td>\n",
       "    </tr>\n",
       "  </tbody>\n",
       "</table>"
      ],
      "text/plain": [
       "<IPython.core.display.HTML object>"
      ]
     },
     "execution_count": 154,
     "metadata": {},
     "output_type": "execute_result"
    }
   ],
   "source": [
    "HTML(df.head().to_html(render_links=True))"
   ]
  },
  {
   "cell_type": "code",
   "execution_count": 155,
   "metadata": {},
   "outputs": [
    {
     "data": {
      "text/plain": [
       "'<html><head>\\n<script type=\"text/javascript\">\\nwindow.onload = function() {\\n  // Parse the tracking code from cookies.\\n  var trk = \"bf\";\\n  var trkInfo = \"bf\";\\n  var cookies = document.cookie.split(\"; \");\\n  for (var i = 0; i < cookies.length; ++i) {\\n    if ((cookies[i].indexOf(\"trkCode=\") == 0) && (cookies[i].length > 8)) {\\n      trk = cookies[i].substring(8);\\n    }\\n    else if ((cookies[i].indexOf(\"trkInfo=\") == 0) && (cookies[i].length > 8)) {\\n      trkInfo = cookies[i].substring(8);\\n    }\\n  }\\n\\n  if (window.location.protocol == \"http:\") {\\n    // If \"sl\" cookie is set, redirect to https.\\n    for (var i = 0; i < cookies.length; ++i) {\\n      if ((cookies[i].indexOf(\"sl=\") == 0) && (cookies[i].length > 3)) {\\n        window.location.href = \"https:\" + window.location.href.substring(window.location.protocol.length);\\n        return;\\n      }\\n    }\\n  }\\n\\n  // Get the new domain. For international domains such as\\n  // fr.linkedin.com, we convert it to www.linkedin.com\\n  // treat .cn similar to .com here\\n  var domain = location.host;\\n  if (domain != \"www.linkedin.com\" && domain != \"www.linkedin.cn\") {\\n    var subdomainIndex = location.host.indexOf(\".linkedin\");\\n    if (subdomainIndex != -1) {\\n      domain = \"www\" + location.host.substring(subdomainIndex);\\n    }\\n  }\\n\\n  window.location.href = \"https://\" + domain + \"/authwall?trk=\" + trk + \"&trkInfo=\" + trkInfo +\\n      \"&original_referer=\" + document.referrer.substr(0, 200) +\\n      \"&sessionRedirect=\" + encodeURIComponent(window.location.href);\\n}\\n</script>\\n</head></html>\\n'"
      ]
     },
     "execution_count": 155,
     "metadata": {},
     "output_type": "execute_result"
    }
   ],
   "source": [
    "html = req.get('https://www.linkedin.com/in/yonatan-rodriguez/').text\n",
    "\n",
    "html"
   ]
  },
  {
   "cell_type": "code",
   "execution_count": null,
   "metadata": {},
   "outputs": [],
   "source": []
  }
 ],
 "metadata": {
  "kernelspec": {
   "display_name": "clase",
   "language": "python",
   "name": "clase"
  },
  "language_info": {
   "codemirror_mode": {
    "name": "ipython",
    "version": 3
   },
   "file_extension": ".py",
   "mimetype": "text/x-python",
   "name": "python",
   "nbconvert_exporter": "python",
   "pygments_lexer": "ipython3",
   "version": "3.9.12"
  },
  "varInspector": {
   "cols": {
    "lenName": 16,
    "lenType": 16,
    "lenVar": 40
   },
   "kernels_config": {
    "python": {
     "delete_cmd_postfix": "",
     "delete_cmd_prefix": "del ",
     "library": "var_list.py",
     "varRefreshCmd": "print(var_dic_list())"
    },
    "r": {
     "delete_cmd_postfix": ") ",
     "delete_cmd_prefix": "rm(",
     "library": "var_list.r",
     "varRefreshCmd": "cat(var_dic_list()) "
    }
   },
   "types_to_exclude": [
    "module",
    "function",
    "builtin_function_or_method",
    "instance",
    "_Feature"
   ],
   "window_display": false
  }
 },
 "nbformat": 4,
 "nbformat_minor": 4
}
