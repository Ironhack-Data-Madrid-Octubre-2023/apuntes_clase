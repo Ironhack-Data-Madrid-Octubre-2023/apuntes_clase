{
 "cells": [
  {
   "cell_type": "markdown",
   "metadata": {},
   "source": [
    "# 2.2 - Web Scraping (bs4)\n",
    "\n",
    "$$$$\n",
    "\n",
    "![scraping](images/scraping.png)\n",
    "\n",
    "$$$$\n",
    "\n",
    "Web scraping o raspado web, es una técnica utilizada mediante programas de software para extraer información de sitios web. Usualmente, estos programas simulan la navegación de un humano en la web ya sea utilizando el protocolo HTTP manualmente, o incrustando un navegador en una aplicación.\n",
    "\n",
    "El web scraping está muy relacionado con la indexación de la web, la cual indexa la información de la web utilizando un robot y es una técnica universal adoptada por la mayoría de los motores de búsqueda. Sin embargo, el web scraping se enfoca más en la transformación de datos sin estructura en la web, como el formato HTML, en datos estructurados que pueden ser almacenados y analizados en una base de datos central, en una hoja de cálculo o en alguna otra fuente de almacenamiento. Alguno de los usos del web scraping son la comparación de precios en tiendas, la monitorización de datos relacionados con el clima de cierta región, la detección de cambios en sitios webs y la integración de datos en sitios webs. \n",
    "\n",
    "En los últimos años el web scraping se ha convertido en una técnica muy utilizada dentro del sector del posicionamiento web gracias a su capacidad de generar grandes cantidades de datos para crear contenidos de calidad.\n",
    "\n",
    "Podríamos pensar que el web scraping es nuestro último recurso a falta de una API o un feed RSS. A falta de una fuente de datos, siempre podemos extraer aquello que sale por pantalla."
   ]
  },
  {
   "cell_type": "markdown",
   "metadata": {},
   "source": [
    "### Extracción desde el HTML\n",
    "\n",
    "Para scrapear una página web, en primer lugar debemos conocer las estructura que tiene el HTML. Veamos la estructura básica.\n",
    "\n",
    "El HTML consiste en contenido `<etiquetado>`, es como si fueran cajas de contenido, organizado de manera jerárquica:\n",
    "\n",
    "```\n",
    "<html>\n",
    "    <head>\n",
    "        <title>Titulo de la pagina</title>\n",
    "    </head>\n",
    "    <body>\n",
    "        <h1>Cabecera</h1>\n",
    "        <p>Parrafo</p>\n",
    "    </body>\n",
    "</html>\n",
    "```\n",
    "\n",
    "$$$$\n",
    "\n",
    "Las etiquetas el HTML se pueden clasificar en varios grupos, dependiendo del tipo de contenido que posea. Estos son algunos ejemplos:\n",
    "\n",
    "+ cabecera: `<h1>`, `<h2>`, `<h3>`, `<hgroup>`...\n",
    "+ texto: `<b>`, `<p>`...\n",
    "+ embebido: `<audio>`, `<img>`, `<video>`...\n",
    "+ tabular: `<table>`, `<tr>`, `<td>`, `<tbody>`...\n",
    "+ secciones: `<header>`, `<section>`, `<article>`...\n",
    "+ metadata: `<meta>`, `<title>`, `<script>`...\n",
    "\n",
    "$$$$\n",
    "\n",
    "Las etiquetas pueden tener atributos. Por ejemplo:\n",
    " \n",
    "`<div class=\"text-monospace\" id=\"name_132\", href=\"www.example.com\"> Contenido de la pagina </div>` \n",
    "\n",
    "Esta etiqueta `div` tiene los siguientes atributos:\n",
    "\n",
    "+ class: atributo con valor \"text-monospace\". La clase no es única en la página.\n",
    "+ id: atributo con valor \"name_132\". El id de una etiqueta la identifica de manera unívoca.\n",
    "+ href: atributo con valor \"www.example.com\". El href suele contener el link a otra parte de la página.\n",
    "\n",
    "Siguiendo con la analogía de las cajas, si una etiqueta de HTML es una caja, los atributos serían las pegatinas pegadas en la tapa de la caja.\n",
    "\n",
    "Conociendo cual es el contenido que queremos extraer, debemos encontrar las etiquetas dentro del HTML de la página web."
   ]
  },
  {
   "cell_type": "markdown",
   "metadata": {},
   "source": [
    "Usaremos la herramienta **[BeautifulSoup](https://www.crummy.com/software/BeautifulSoup/bs4/doc/)**."
   ]
  },
  {
   "cell_type": "code",
   "execution_count": null,
   "metadata": {},
   "outputs": [],
   "source": [
    "%pip install beautifulsoup4"
   ]
  },
  {
   "cell_type": "code",
   "execution_count": 1,
   "metadata": {},
   "outputs": [],
   "source": [
    "import requests as req\n",
    "\n",
    "from bs4 import BeautifulSoup as bs   # ambos alias son cosa mia"
   ]
  },
  {
   "cell_type": "markdown",
   "metadata": {},
   "source": [
    "### Ejemplos Wikipedia\n",
    "\n",
    "**[Países europeos según esperanza de vida](https://en.wikipedia.org/wiki/List_of_European_countries_by_life_expectancy)**"
   ]
  },
  {
   "cell_type": "code",
   "execution_count": 2,
   "metadata": {},
   "outputs": [],
   "source": [
    "url = 'https://en.wikipedia.org/wiki/List_of_European_countries_by_life_expectancy'"
   ]
  },
  {
   "cell_type": "code",
   "execution_count": 5,
   "metadata": {},
   "outputs": [
    {
     "data": {
      "text/plain": [
       "b'<!DOCTYPE html>\\n<html class=\"client-nojs vector-feature-language-in-header-enabled vector-feature-language-in-main-page-header-disabled vector-feature-sticky-header-disabled vector-feature-page-tools-pinned-disabled vector-feature-toc-pinned-clientpref-1 vector-feature-main-menu-pinned-disabled vector-feature-limited-width-clientpref-1 vector-feature-limited-width-content-enabled vector-feature-zebra-design-disabled vector-feature-custom-font-size-clientpref-0 vector-feature-client-preferences-disabled vector-feature-typography-survey-disabled vector-toc-available\" lang=\"en\" dir=\"ltr\">\\n<head>\\n<meta charset=\"UTF-8\">\\n<title>List of European countries by life expectancy - Wikipedia</title>\\n<script>(function(){var className=\"client-js vector-feature-language-in-header-enabled vector-feature-language-in-main-page-header-disabled vector-feature-sticky-header-disabled vector-feature-page-tools-pinned-disabled vector-feature-toc-pinned-clientpref-1 vector-feature-main-menu-pinned-disabled vect'"
      ]
     },
     "execution_count": 5,
     "metadata": {},
     "output_type": "execute_result"
    }
   ],
   "source": [
    "# usamos requests para extraer el html\n",
    "\n",
    "\n",
    "html = req.get(url).content    # o .text\n",
    "\n",
    "html[:1000]"
   ]
  },
  {
   "cell_type": "code",
   "execution_count": 6,
   "metadata": {
    "scrolled": false
   },
   "outputs": [
    {
     "data": {
      "text/plain": [
       "458048"
      ]
     },
     "execution_count": 6,
     "metadata": {},
     "output_type": "execute_result"
    }
   ],
   "source": [
    "len(html)"
   ]
  },
  {
   "cell_type": "code",
   "execution_count": 8,
   "metadata": {
    "scrolled": false
   },
   "outputs": [
    {
     "data": {
      "text/plain": [
       "bs4.BeautifulSoup"
      ]
     },
     "execution_count": 8,
     "metadata": {},
     "output_type": "execute_result"
    }
   ],
   "source": [
    "# parsear (traducir string a algo similar al html)\n",
    "\n",
    "\n",
    "soup = bs(html, 'html.parser')\n",
    "\n",
    "type(soup)"
   ]
  },
  {
   "cell_type": "code",
   "execution_count": 12,
   "metadata": {
    "scrolled": false
   },
   "outputs": [
    {
     "data": {
      "text/plain": [
       "14"
      ]
     },
     "execution_count": 12,
     "metadata": {},
     "output_type": "execute_result"
    }
   ],
   "source": [
    "len(soup.find_all('table'))"
   ]
  },
  {
   "cell_type": "code",
   "execution_count": 15,
   "metadata": {},
   "outputs": [
    {
     "data": {
      "text/plain": [
       "bs4.element.Tag"
      ]
     },
     "execution_count": 15,
     "metadata": {},
     "output_type": "execute_result"
    }
   ],
   "source": [
    "tabla = soup.find_all('table')[2]\n",
    "\n",
    "type(tabla)"
   ]
  },
  {
   "cell_type": "code",
   "execution_count": 19,
   "metadata": {
    "scrolled": false
   },
   "outputs": [
    {
     "data": {
      "text/plain": [
       "['',\n",
       " 'Countries',\n",
       " '',\n",
       " 'Life expectancy at birth',\n",
       " '',\n",
       " 'HALE at birth',\n",
       " '',\n",
       " 'Life expectancy at age 60',\n",
       " '',\n",
       " 'HALE at age 60',\n",
       " '',\n",
       " '',\n",
       " '']"
      ]
     },
     "execution_count": 19,
     "metadata": {},
     "output_type": "execute_result"
    }
   ],
   "source": [
    "tabla.find_all('tr')[0].text.split('\\n')"
   ]
  },
  {
   "cell_type": "code",
   "execution_count": 29,
   "metadata": {},
   "outputs": [
    {
     "data": {
      "text/plain": [
       "'Luxembourg'"
      ]
     },
     "execution_count": 29,
     "metadata": {},
     "output_type": "execute_result"
    }
   ],
   "source": [
    "tabla.find_all('tr')[10].find_all('td')[0].text.strip()"
   ]
  },
  {
   "cell_type": "code",
   "execution_count": 39,
   "metadata": {},
   "outputs": [
    {
     "data": {
      "text/plain": [
       "['',\n",
       " '\\xa0Switzerland',\n",
       " '83.4',\n",
       " '81.8',\n",
       " '85.1',\n",
       " '3.3',\n",
       " '3.7',\n",
       " '72.5',\n",
       " '72.2',\n",
       " '72.8',\n",
       " '0.6',\n",
       " '3.2',\n",
       " '25.4',\n",
       " '24.1',\n",
       " '26.6',\n",
       " '2.5',\n",
       " '2.4',\n",
       " '19.5',\n",
       " '18.8',\n",
       " '20.2',\n",
       " '1.4',\n",
       " '1.8',\n",
       " '',\n",
       " '']"
      ]
     },
     "execution_count": 39,
     "metadata": {},
     "output_type": "execute_result"
    }
   ],
   "source": [
    "filas = tabla.find_all('tr')\n",
    "\n",
    "filas = [f.text.split('\\n') for f in filas][3:]\n",
    "\n",
    "filas[0]"
   ]
  },
  {
   "cell_type": "code",
   "execution_count": 40,
   "metadata": {},
   "outputs": [
    {
     "data": {
      "text/plain": [
       "[['\\xa0Switzerland',\n",
       "  '83.4',\n",
       "  '81.8',\n",
       "  '85.1',\n",
       "  '3.3',\n",
       "  '3.7',\n",
       "  '72.5',\n",
       "  '72.2',\n",
       "  '72.8',\n",
       "  '0.6',\n",
       "  '3.2',\n",
       "  '25.4',\n",
       "  '24.1',\n",
       "  '26.6',\n",
       "  '2.5',\n",
       "  '2.4',\n",
       "  '19.5',\n",
       "  '18.8',\n",
       "  '20.2',\n",
       "  '1.4',\n",
       "  '1.8'],\n",
       " ['\\xa0Spain',\n",
       "  '83.2',\n",
       "  '80.7',\n",
       "  '85.7',\n",
       "  '5.0',\n",
       "  '4.1',\n",
       "  '72.1',\n",
       "  '71.3',\n",
       "  '72.9',\n",
       "  '1.6',\n",
       "  '3.0',\n",
       "  '25.4',\n",
       "  '23.3',\n",
       "  '27.3',\n",
       "  '4.0',\n",
       "  '2.7',\n",
       "  '19.2',\n",
       "  '18.0',\n",
       "  '20.3',\n",
       "  '2.3',\n",
       "  '1.9']]"
      ]
     },
     "execution_count": 40,
     "metadata": {},
     "output_type": "execute_result"
    }
   ],
   "source": [
    "# limpieza\n",
    "\n",
    "final = []\n",
    "\n",
    "\n",
    "for f in filas:\n",
    "    \n",
    "    tmp = []\n",
    "    \n",
    "    for palabra in f:\n",
    "        \n",
    "        if palabra!='':\n",
    "            tmp.append(palabra)\n",
    "        else:\n",
    "            pass\n",
    "        \n",
    "    final.append(tmp)\n",
    "    \n",
    "final[:2]"
   ]
  },
  {
   "cell_type": "code",
   "execution_count": 42,
   "metadata": {},
   "outputs": [
    {
     "data": {
      "text/plain": [
       "['\\xa0Switzerland',\n",
       " '83.4',\n",
       " '81.8',\n",
       " '85.1',\n",
       " '3.3',\n",
       " '3.7',\n",
       " '72.5',\n",
       " '72.2',\n",
       " '72.8',\n",
       " '0.6',\n",
       " '3.2',\n",
       " '25.4',\n",
       " '24.1',\n",
       " '26.6',\n",
       " '2.5',\n",
       " '2.4',\n",
       " '19.5',\n",
       " '18.8',\n",
       " '20.2',\n",
       " '1.4',\n",
       " '1.8']"
      ]
     },
     "execution_count": 42,
     "metadata": {},
     "output_type": "execute_result"
    }
   ],
   "source": [
    "final = [[palabra for palabra in f if palabra!=''] for f in filas]\n",
    "\n",
    "final[0]"
   ]
  },
  {
   "cell_type": "code",
   "execution_count": 46,
   "metadata": {},
   "outputs": [
    {
     "name": "stdout",
     "output_type": "stream",
     "text": [
      "<class 'pandas.core.frame.DataFrame'>\n",
      "RangeIndex: 47 entries, 0 to 46\n",
      "Data columns (total 21 columns):\n",
      " #   Column  Non-Null Count  Dtype \n",
      "---  ------  --------------  ----- \n",
      " 0   0       47 non-null     object\n",
      " 1   1       47 non-null     object\n",
      " 2   2       47 non-null     object\n",
      " 3   3       47 non-null     object\n",
      " 4   4       47 non-null     object\n",
      " 5   5       47 non-null     object\n",
      " 6   6       47 non-null     object\n",
      " 7   7       47 non-null     object\n",
      " 8   8       47 non-null     object\n",
      " 9   9       47 non-null     object\n",
      " 10  10      47 non-null     object\n",
      " 11  11      47 non-null     object\n",
      " 12  12      47 non-null     object\n",
      " 13  13      47 non-null     object\n",
      " 14  14      47 non-null     object\n",
      " 15  15      47 non-null     object\n",
      " 16  16      47 non-null     object\n",
      " 17  17      47 non-null     object\n",
      " 18  18      47 non-null     object\n",
      " 19  19      47 non-null     object\n",
      " 20  20      47 non-null     object\n",
      "dtypes: object(21)\n",
      "memory usage: 7.8+ KB\n"
     ]
    }
   ],
   "source": [
    "import pandas as pd\n",
    "\n",
    "df = pd.DataFrame(final)\n",
    "\n",
    "df.info()"
   ]
  },
  {
   "cell_type": "code",
   "execution_count": 48,
   "metadata": {},
   "outputs": [
    {
     "data": {
      "text/html": [
       "<div>\n",
       "<style scoped>\n",
       "    .dataframe tbody tr th:only-of-type {\n",
       "        vertical-align: middle;\n",
       "    }\n",
       "\n",
       "    .dataframe tbody tr th {\n",
       "        vertical-align: top;\n",
       "    }\n",
       "\n",
       "    .dataframe thead th {\n",
       "        text-align: right;\n",
       "    }\n",
       "</style>\n",
       "<table border=\"1\" class=\"dataframe\">\n",
       "  <thead>\n",
       "    <tr style=\"text-align: right;\">\n",
       "      <th></th>\n",
       "      <th>—</th>\n",
       "      <th>—.1</th>\n",
       "      <th>—.2</th>\n",
       "      <th>—.3</th>\n",
       "      <th>85.9</th>\n",
       "      <th>84.3</th>\n",
       "      <th>87.7</th>\n",
       "      <th>3.4</th>\n",
       "      <th>Unnamed: 9</th>\n",
       "    </tr>\n",
       "    <tr>\n",
       "      <th>Monaco</th>\n",
       "      <th></th>\n",
       "      <th></th>\n",
       "      <th></th>\n",
       "      <th></th>\n",
       "      <th></th>\n",
       "      <th></th>\n",
       "      <th></th>\n",
       "      <th></th>\n",
       "      <th></th>\n",
       "    </tr>\n",
       "  </thead>\n",
       "  <tbody>\n",
       "    <tr>\n",
       "      <th>Switzerland</th>\n",
       "      <td>83.8</td>\n",
       "      <td>81.9</td>\n",
       "      <td>85.6</td>\n",
       "      <td>3.7</td>\n",
       "      <td>84.0</td>\n",
       "      <td>82.0</td>\n",
       "      <td>85.9</td>\n",
       "      <td>3.9</td>\n",
       "      <td>0.2</td>\n",
       "    </tr>\n",
       "    <tr>\n",
       "      <th>Malta</th>\n",
       "      <td>82.5</td>\n",
       "      <td>80.7</td>\n",
       "      <td>84.3</td>\n",
       "      <td>3.6</td>\n",
       "      <td>83.8</td>\n",
       "      <td>81.4</td>\n",
       "      <td>86.1</td>\n",
       "      <td>4.7</td>\n",
       "      <td>1.3</td>\n",
       "    </tr>\n",
       "    <tr>\n",
       "      <th>Liechtenstein</th>\n",
       "      <td>80.7</td>\n",
       "      <td>—</td>\n",
       "      <td>—</td>\n",
       "      <td>—</td>\n",
       "      <td>83.3</td>\n",
       "      <td>81.1</td>\n",
       "      <td>85.4</td>\n",
       "      <td>4.3</td>\n",
       "      <td>2.6</td>\n",
       "    </tr>\n",
       "    <tr>\n",
       "      <th>Norway</th>\n",
       "      <td>82.4</td>\n",
       "      <td>80.4</td>\n",
       "      <td>84.4</td>\n",
       "      <td>4.0</td>\n",
       "      <td>83.2</td>\n",
       "      <td>81.6</td>\n",
       "      <td>84.9</td>\n",
       "      <td>3.3</td>\n",
       "      <td>0.8</td>\n",
       "    </tr>\n",
       "    <tr>\n",
       "      <th>Sweden</th>\n",
       "      <td>82.8</td>\n",
       "      <td>81.0</td>\n",
       "      <td>84.6</td>\n",
       "      <td>3.6</td>\n",
       "      <td>83.0</td>\n",
       "      <td>81.1</td>\n",
       "      <td>84.9</td>\n",
       "      <td>3.8</td>\n",
       "      <td>0.2</td>\n",
       "    </tr>\n",
       "    <tr>\n",
       "      <th>Spain</th>\n",
       "      <td>83.6</td>\n",
       "      <td>80.8</td>\n",
       "      <td>86.2</td>\n",
       "      <td>5.4</td>\n",
       "      <td>83.0</td>\n",
       "      <td>80.2</td>\n",
       "      <td>85.8</td>\n",
       "      <td>5.6</td>\n",
       "      <td>−0.6</td>\n",
       "    </tr>\n",
       "    <tr>\n",
       "      <th>Italy</th>\n",
       "      <td>83.5</td>\n",
       "      <td>81.3</td>\n",
       "      <td>85.5</td>\n",
       "      <td>4.2</td>\n",
       "      <td>82.9</td>\n",
       "      <td>80.5</td>\n",
       "      <td>85.1</td>\n",
       "      <td>4.6</td>\n",
       "      <td>−0.6</td>\n",
       "    </tr>\n",
       "    <tr>\n",
       "      <th>Iceland</th>\n",
       "      <td>83.0</td>\n",
       "      <td>81.5</td>\n",
       "      <td>84.5</td>\n",
       "      <td>3.0</td>\n",
       "      <td>82.7</td>\n",
       "      <td>81.2</td>\n",
       "      <td>84.2</td>\n",
       "      <td>3.0</td>\n",
       "      <td>−0.3</td>\n",
       "    </tr>\n",
       "    <tr>\n",
       "      <th>Luxembourg</th>\n",
       "      <td>82.3</td>\n",
       "      <td>80.2</td>\n",
       "      <td>84.3</td>\n",
       "      <td>4.1</td>\n",
       "      <td>82.6</td>\n",
       "      <td>80.4</td>\n",
       "      <td>84.8</td>\n",
       "      <td>4.4</td>\n",
       "      <td>0.3</td>\n",
       "    </tr>\n",
       "    <tr>\n",
       "      <th>France</th>\n",
       "      <td>82.7</td>\n",
       "      <td>79.7</td>\n",
       "      <td>85.5</td>\n",
       "      <td>5.8</td>\n",
       "      <td>82.5</td>\n",
       "      <td>79.4</td>\n",
       "      <td>85.5</td>\n",
       "      <td>6.1</td>\n",
       "      <td>−0.2</td>\n",
       "    </tr>\n",
       "    <tr>\n",
       "      <th>Ireland</th>\n",
       "      <td>82.3</td>\n",
       "      <td>80.7</td>\n",
       "      <td>83.9</td>\n",
       "      <td>3.2</td>\n",
       "      <td>82.0</td>\n",
       "      <td>80.2</td>\n",
       "      <td>83.8</td>\n",
       "      <td>3.6</td>\n",
       "      <td>−0.3</td>\n",
       "    </tr>\n",
       "    <tr>\n",
       "      <th>Finland</th>\n",
       "      <td>81.9</td>\n",
       "      <td>79.1</td>\n",
       "      <td>84.7</td>\n",
       "      <td>5.6</td>\n",
       "      <td>82.0</td>\n",
       "      <td>79.3</td>\n",
       "      <td>84.7</td>\n",
       "      <td>5.4</td>\n",
       "      <td>0.1</td>\n",
       "    </tr>\n",
       "    <tr>\n",
       "      <th>Belgium</th>\n",
       "      <td>81.6</td>\n",
       "      <td>79.3</td>\n",
       "      <td>83.9</td>\n",
       "      <td>4.6</td>\n",
       "      <td>81.9</td>\n",
       "      <td>79.4</td>\n",
       "      <td>84.3</td>\n",
       "      <td>4.9</td>\n",
       "      <td>0.3</td>\n",
       "    </tr>\n",
       "    <tr>\n",
       "      <th>Netherlands</th>\n",
       "      <td>82.3</td>\n",
       "      <td>80.6</td>\n",
       "      <td>84.0</td>\n",
       "      <td>3.4</td>\n",
       "      <td>81.7</td>\n",
       "      <td>80.0</td>\n",
       "      <td>83.4</td>\n",
       "      <td>3.4</td>\n",
       "      <td>−0.6</td>\n",
       "    </tr>\n",
       "    <tr>\n",
       "      <th>Austria</th>\n",
       "      <td>81.5</td>\n",
       "      <td>79.2</td>\n",
       "      <td>83.9</td>\n",
       "      <td>4.7</td>\n",
       "      <td>81.6</td>\n",
       "      <td>79.0</td>\n",
       "      <td>84.1</td>\n",
       "      <td>5.1</td>\n",
       "      <td>0.1</td>\n",
       "    </tr>\n",
       "    <tr>\n",
       "      <th>Denmark</th>\n",
       "      <td>80.9</td>\n",
       "      <td>78.9</td>\n",
       "      <td>82.9</td>\n",
       "      <td>4.0</td>\n",
       "      <td>81.4</td>\n",
       "      <td>79.5</td>\n",
       "      <td>83.3</td>\n",
       "      <td>3.8</td>\n",
       "      <td>0.5</td>\n",
       "    </tr>\n",
       "    <tr>\n",
       "      <th>Cyprus</th>\n",
       "      <td>81.0</td>\n",
       "      <td>78.9</td>\n",
       "      <td>83.0</td>\n",
       "      <td>4.1</td>\n",
       "      <td>81.2</td>\n",
       "      <td>79.2</td>\n",
       "      <td>83.2</td>\n",
       "      <td>4.0</td>\n",
       "      <td>0.2</td>\n",
       "    </tr>\n",
       "    <tr>\n",
       "      <th>Portugal</th>\n",
       "      <td>82.1</td>\n",
       "      <td>79.0</td>\n",
       "      <td>84.9</td>\n",
       "      <td>5.9</td>\n",
       "      <td>81.0</td>\n",
       "      <td>77.8</td>\n",
       "      <td>84.1</td>\n",
       "      <td>6.3</td>\n",
       "      <td>−1.1</td>\n",
       "    </tr>\n",
       "    <tr>\n",
       "      <th>San Marino</th>\n",
       "      <td>—</td>\n",
       "      <td>—</td>\n",
       "      <td>—</td>\n",
       "      <td>—</td>\n",
       "      <td>80.9</td>\n",
       "      <td>78.4</td>\n",
       "      <td>83.5</td>\n",
       "      <td>5.1</td>\n",
       "      <td>NaN</td>\n",
       "    </tr>\n",
       "    <tr>\n",
       "      <th>United Kingdom</th>\n",
       "      <td>81.3</td>\n",
       "      <td>79.6</td>\n",
       "      <td>83.0</td>\n",
       "      <td>3.4</td>\n",
       "      <td>80.7</td>\n",
       "      <td>78.7</td>\n",
       "      <td>82.8</td>\n",
       "      <td>4.1</td>\n",
       "      <td>−0.6</td>\n",
       "    </tr>\n",
       "    <tr>\n",
       "      <th>Slovenia</th>\n",
       "      <td>81.3</td>\n",
       "      <td>78.6</td>\n",
       "      <td>84.0</td>\n",
       "      <td>5.4</td>\n",
       "      <td>80.7</td>\n",
       "      <td>77.6</td>\n",
       "      <td>83.8</td>\n",
       "      <td>6.2</td>\n",
       "      <td>−0.6</td>\n",
       "    </tr>\n",
       "    <tr>\n",
       "      <th>Germany</th>\n",
       "      <td>81.3</td>\n",
       "      <td>78.9</td>\n",
       "      <td>83.7</td>\n",
       "      <td>4.8</td>\n",
       "      <td>80.6</td>\n",
       "      <td>78.1</td>\n",
       "      <td>83.2</td>\n",
       "      <td>5.1</td>\n",
       "      <td>−0.7</td>\n",
       "    </tr>\n",
       "    <tr>\n",
       "      <th>Andorra</th>\n",
       "      <td>81.9</td>\n",
       "      <td>—</td>\n",
       "      <td>—</td>\n",
       "      <td>—</td>\n",
       "      <td>80.4</td>\n",
       "      <td>77.2</td>\n",
       "      <td>84.3</td>\n",
       "      <td>7.1</td>\n",
       "      <td>−1.5</td>\n",
       "    </tr>\n",
       "    <tr>\n",
       "      <th>Greece</th>\n",
       "      <td>82.2</td>\n",
       "      <td>79.8</td>\n",
       "      <td>84.7</td>\n",
       "      <td>4.9</td>\n",
       "      <td>80.1</td>\n",
       "      <td>77.5</td>\n",
       "      <td>82.9</td>\n",
       "      <td>5.4</td>\n",
       "      <td>−2.1</td>\n",
       "    </tr>\n",
       "    <tr>\n",
       "      <th>Czech Republic</th>\n",
       "      <td>79.4</td>\n",
       "      <td>76.8</td>\n",
       "      <td>81.9</td>\n",
       "      <td>5.1</td>\n",
       "      <td>77.7</td>\n",
       "      <td>74.7</td>\n",
       "      <td>80.9</td>\n",
       "      <td>6.2</td>\n",
       "      <td>−1.7</td>\n",
       "    </tr>\n",
       "    <tr>\n",
       "      <th>Croatia</th>\n",
       "      <td>78.5</td>\n",
       "      <td>75.3</td>\n",
       "      <td>81.6</td>\n",
       "      <td>6.3</td>\n",
       "      <td>77.6</td>\n",
       "      <td>74.2</td>\n",
       "      <td>81.1</td>\n",
       "      <td>6.9</td>\n",
       "      <td>−0.9</td>\n",
       "    </tr>\n",
       "    <tr>\n",
       "      <th>Estonia</th>\n",
       "      <td>78.8</td>\n",
       "      <td>74.4</td>\n",
       "      <td>82.7</td>\n",
       "      <td>8.3</td>\n",
       "      <td>77.1</td>\n",
       "      <td>72.8</td>\n",
       "      <td>81.2</td>\n",
       "      <td>8.4</td>\n",
       "      <td>−1.7</td>\n",
       "    </tr>\n",
       "    <tr>\n",
       "      <th>Albania</th>\n",
       "      <td>78.6</td>\n",
       "      <td>77.0</td>\n",
       "      <td>80.2</td>\n",
       "      <td>3.2</td>\n",
       "      <td>76.5</td>\n",
       "      <td>74.1</td>\n",
       "      <td>79.2</td>\n",
       "      <td>5.1</td>\n",
       "      <td>−2.1</td>\n",
       "    </tr>\n",
       "    <tr>\n",
       "      <th>Poland</th>\n",
       "      <td>78.7</td>\n",
       "      <td>74.8</td>\n",
       "      <td>82.6</td>\n",
       "      <td>7.8</td>\n",
       "      <td>76.5</td>\n",
       "      <td>72.6</td>\n",
       "      <td>80.4</td>\n",
       "      <td>7.8</td>\n",
       "      <td>−2.2</td>\n",
       "    </tr>\n",
       "    <tr>\n",
       "      <th>Montenegro</th>\n",
       "      <td>76.9</td>\n",
       "      <td>74.4</td>\n",
       "      <td>79.3</td>\n",
       "      <td>4.9</td>\n",
       "      <td>76.3</td>\n",
       "      <td>73.0</td>\n",
       "      <td>79.8</td>\n",
       "      <td>6.8</td>\n",
       "      <td>−0.6</td>\n",
       "    </tr>\n",
       "    <tr>\n",
       "      <th>Turkey</th>\n",
       "      <td>77.7</td>\n",
       "      <td>74.7</td>\n",
       "      <td>80.6</td>\n",
       "      <td>5.9</td>\n",
       "      <td>76.0</td>\n",
       "      <td>73.0</td>\n",
       "      <td>79.1</td>\n",
       "      <td>6.1</td>\n",
       "      <td>−1.7</td>\n",
       "    </tr>\n",
       "    <tr>\n",
       "      <th>Bosnia and Herzegovina</th>\n",
       "      <td>77.4</td>\n",
       "      <td>74.9</td>\n",
       "      <td>79.9</td>\n",
       "      <td>5.0</td>\n",
       "      <td>75.3</td>\n",
       "      <td>73.1</td>\n",
       "      <td>77.5</td>\n",
       "      <td>4.4</td>\n",
       "      <td>−2.1</td>\n",
       "    </tr>\n",
       "    <tr>\n",
       "      <th>Slovakia</th>\n",
       "      <td>77.5</td>\n",
       "      <td>74.0</td>\n",
       "      <td>81.0</td>\n",
       "      <td>7.0</td>\n",
       "      <td>74.9</td>\n",
       "      <td>71.5</td>\n",
       "      <td>78.4</td>\n",
       "      <td>6.9</td>\n",
       "      <td>−2.6</td>\n",
       "    </tr>\n",
       "    <tr>\n",
       "      <th>Hungary</th>\n",
       "      <td>76.9</td>\n",
       "      <td>73.2</td>\n",
       "      <td>80.3</td>\n",
       "      <td>7.1</td>\n",
       "      <td>74.5</td>\n",
       "      <td>71.1</td>\n",
       "      <td>77.9</td>\n",
       "      <td>6.8</td>\n",
       "      <td>−2.4</td>\n",
       "    </tr>\n",
       "    <tr>\n",
       "      <th>Serbia</th>\n",
       "      <td>76.0</td>\n",
       "      <td>73.4</td>\n",
       "      <td>78.6</td>\n",
       "      <td>5.2</td>\n",
       "      <td>74.2</td>\n",
       "      <td>71.2</td>\n",
       "      <td>77.2</td>\n",
       "      <td>6.0</td>\n",
       "      <td>−1.8</td>\n",
       "    </tr>\n",
       "    <tr>\n",
       "      <th>Romania</th>\n",
       "      <td>76.1</td>\n",
       "      <td>72.6</td>\n",
       "      <td>79.5</td>\n",
       "      <td>6.9</td>\n",
       "      <td>74.2</td>\n",
       "      <td>70.6</td>\n",
       "      <td>77.9</td>\n",
       "      <td>7.3</td>\n",
       "      <td>−1.9</td>\n",
       "    </tr>\n",
       "    <tr>\n",
       "      <th>North Macedonia</th>\n",
       "      <td>75.8</td>\n",
       "      <td>73.8</td>\n",
       "      <td>77.8</td>\n",
       "      <td>4.0</td>\n",
       "      <td>73.8</td>\n",
       "      <td>71.7</td>\n",
       "      <td>76.2</td>\n",
       "      <td>4.5</td>\n",
       "      <td>−2.0</td>\n",
       "    </tr>\n",
       "    <tr>\n",
       "      <th>Lithuania</th>\n",
       "      <td>75.9</td>\n",
       "      <td>70.3</td>\n",
       "      <td>81.4</td>\n",
       "      <td>11.1</td>\n",
       "      <td>73.7</td>\n",
       "      <td>68.8</td>\n",
       "      <td>78.8</td>\n",
       "      <td>10.0</td>\n",
       "      <td>−2.2</td>\n",
       "    </tr>\n",
       "    <tr>\n",
       "      <th>Latvia</th>\n",
       "      <td>75.3</td>\n",
       "      <td>70.2</td>\n",
       "      <td>80.0</td>\n",
       "      <td>9.8</td>\n",
       "      <td>73.6</td>\n",
       "      <td>69.2</td>\n",
       "      <td>77.8</td>\n",
       "      <td>8.6</td>\n",
       "      <td>−1.7</td>\n",
       "    </tr>\n",
       "    <tr>\n",
       "      <th>Belarus</th>\n",
       "      <td>74.8</td>\n",
       "      <td>69.7</td>\n",
       "      <td>79.6</td>\n",
       "      <td>9.9</td>\n",
       "      <td>72.4</td>\n",
       "      <td>67.3</td>\n",
       "      <td>77.7</td>\n",
       "      <td>10.4</td>\n",
       "      <td>−2.4</td>\n",
       "    </tr>\n",
       "    <tr>\n",
       "      <th>Armenia</th>\n",
       "      <td>75.1</td>\n",
       "      <td>71.3</td>\n",
       "      <td>78.5</td>\n",
       "      <td>7.2</td>\n",
       "      <td>72.0</td>\n",
       "      <td>66.6</td>\n",
       "      <td>77.4</td>\n",
       "      <td>10.8</td>\n",
       "      <td>−3.1</td>\n",
       "    </tr>\n",
       "    <tr>\n",
       "      <th>Bulgaria</th>\n",
       "      <td>75.1</td>\n",
       "      <td>71.6</td>\n",
       "      <td>78.7</td>\n",
       "      <td>7.1</td>\n",
       "      <td>71.8</td>\n",
       "      <td>68.4</td>\n",
       "      <td>75.5</td>\n",
       "      <td>7.1</td>\n",
       "      <td>−3.3</td>\n",
       "    </tr>\n",
       "    <tr>\n",
       "      <th>Georgia</th>\n",
       "      <td>73.8</td>\n",
       "      <td>69.3</td>\n",
       "      <td>78.1</td>\n",
       "      <td>8.8</td>\n",
       "      <td>71.7</td>\n",
       "      <td>66.8</td>\n",
       "      <td>76.7</td>\n",
       "      <td>9.9</td>\n",
       "      <td>−2.1</td>\n",
       "    </tr>\n",
       "    <tr>\n",
       "      <th>Ukraine</th>\n",
       "      <td>72.1</td>\n",
       "      <td>67.1</td>\n",
       "      <td>76.8</td>\n",
       "      <td>9.7</td>\n",
       "      <td>71.6</td>\n",
       "      <td>66.5</td>\n",
       "      <td>76.7</td>\n",
       "      <td>10.2</td>\n",
       "      <td>−0.5</td>\n",
       "    </tr>\n",
       "    <tr>\n",
       "      <th>World</th>\n",
       "      <td>72.8</td>\n",
       "      <td>70.6</td>\n",
       "      <td>75.0</td>\n",
       "      <td>4.4</td>\n",
       "      <td>71.4</td>\n",
       "      <td>68.9</td>\n",
       "      <td>74.0</td>\n",
       "      <td>5.1</td>\n",
       "      <td>−1.4</td>\n",
       "    </tr>\n",
       "    <tr>\n",
       "      <th>Azerbaijan</th>\n",
       "      <td>73.0</td>\n",
       "      <td>70.5</td>\n",
       "      <td>75.5</td>\n",
       "      <td>5.0</td>\n",
       "      <td>69.4</td>\n",
       "      <td>65.6</td>\n",
       "      <td>73.3</td>\n",
       "      <td>7.7</td>\n",
       "      <td>−3.6</td>\n",
       "    </tr>\n",
       "    <tr>\n",
       "      <th>Kazakhstan</th>\n",
       "      <td>73.6</td>\n",
       "      <td>69.2</td>\n",
       "      <td>77.7</td>\n",
       "      <td>8.5</td>\n",
       "      <td>69.4</td>\n",
       "      <td>65.5</td>\n",
       "      <td>73.1</td>\n",
       "      <td>7.6</td>\n",
       "      <td>−4.2</td>\n",
       "    </tr>\n",
       "    <tr>\n",
       "      <th>Russia</th>\n",
       "      <td>72.6</td>\n",
       "      <td>67.1</td>\n",
       "      <td>77.8</td>\n",
       "      <td>10.7</td>\n",
       "      <td>69.4</td>\n",
       "      <td>64.2</td>\n",
       "      <td>74.8</td>\n",
       "      <td>10.6</td>\n",
       "      <td>−3.2</td>\n",
       "    </tr>\n",
       "    <tr>\n",
       "      <th>Moldova</th>\n",
       "      <td>71.9</td>\n",
       "      <td>67.6</td>\n",
       "      <td>76.2</td>\n",
       "      <td>8.6</td>\n",
       "      <td>68.8</td>\n",
       "      <td>64.4</td>\n",
       "      <td>73.5</td>\n",
       "      <td>9.1</td>\n",
       "      <td>−3.1</td>\n",
       "    </tr>\n",
       "  </tbody>\n",
       "</table>\n",
       "</div>"
      ],
      "text/plain": [
       "                            —   —.1   —.2   —.3  85.9  84.3  87.7   3.4  \\\n",
       " Monaco                                                                   \n",
       " Switzerland             83.8  81.9  85.6   3.7  84.0  82.0  85.9   3.9   \n",
       " Malta                   82.5  80.7  84.3   3.6  83.8  81.4  86.1   4.7   \n",
       " Liechtenstein           80.7     —     —     —  83.3  81.1  85.4   4.3   \n",
       " Norway                  82.4  80.4  84.4   4.0  83.2  81.6  84.9   3.3   \n",
       " Sweden                  82.8  81.0  84.6   3.6  83.0  81.1  84.9   3.8   \n",
       " Spain                   83.6  80.8  86.2   5.4  83.0  80.2  85.8   5.6   \n",
       " Italy                   83.5  81.3  85.5   4.2  82.9  80.5  85.1   4.6   \n",
       " Iceland                 83.0  81.5  84.5   3.0  82.7  81.2  84.2   3.0   \n",
       " Luxembourg              82.3  80.2  84.3   4.1  82.6  80.4  84.8   4.4   \n",
       " France                  82.7  79.7  85.5   5.8  82.5  79.4  85.5   6.1   \n",
       " Ireland                 82.3  80.7  83.9   3.2  82.0  80.2  83.8   3.6   \n",
       " Finland                 81.9  79.1  84.7   5.6  82.0  79.3  84.7   5.4   \n",
       " Belgium                 81.6  79.3  83.9   4.6  81.9  79.4  84.3   4.9   \n",
       " Netherlands             82.3  80.6  84.0   3.4  81.7  80.0  83.4   3.4   \n",
       " Austria                 81.5  79.2  83.9   4.7  81.6  79.0  84.1   5.1   \n",
       " Denmark                 80.9  78.9  82.9   4.0  81.4  79.5  83.3   3.8   \n",
       " Cyprus                  81.0  78.9  83.0   4.1  81.2  79.2  83.2   4.0   \n",
       " Portugal                82.1  79.0  84.9   5.9  81.0  77.8  84.1   6.3   \n",
       " San Marino                 —     —     —     —  80.9  78.4  83.5   5.1   \n",
       " United Kingdom          81.3  79.6  83.0   3.4  80.7  78.7  82.8   4.1   \n",
       " Slovenia                81.3  78.6  84.0   5.4  80.7  77.6  83.8   6.2   \n",
       " Germany                 81.3  78.9  83.7   4.8  80.6  78.1  83.2   5.1   \n",
       " Andorra                 81.9     —     —     —  80.4  77.2  84.3   7.1   \n",
       " Greece                  82.2  79.8  84.7   4.9  80.1  77.5  82.9   5.4   \n",
       " Czech Republic          79.4  76.8  81.9   5.1  77.7  74.7  80.9   6.2   \n",
       " Croatia                 78.5  75.3  81.6   6.3  77.6  74.2  81.1   6.9   \n",
       " Estonia                 78.8  74.4  82.7   8.3  77.1  72.8  81.2   8.4   \n",
       " Albania                 78.6  77.0  80.2   3.2  76.5  74.1  79.2   5.1   \n",
       " Poland                  78.7  74.8  82.6   7.8  76.5  72.6  80.4   7.8   \n",
       " Montenegro              76.9  74.4  79.3   4.9  76.3  73.0  79.8   6.8   \n",
       " Turkey                  77.7  74.7  80.6   5.9  76.0  73.0  79.1   6.1   \n",
       " Bosnia and Herzegovina  77.4  74.9  79.9   5.0  75.3  73.1  77.5   4.4   \n",
       " Slovakia                77.5  74.0  81.0   7.0  74.9  71.5  78.4   6.9   \n",
       " Hungary                 76.9  73.2  80.3   7.1  74.5  71.1  77.9   6.8   \n",
       " Serbia                  76.0  73.4  78.6   5.2  74.2  71.2  77.2   6.0   \n",
       " Romania                 76.1  72.6  79.5   6.9  74.2  70.6  77.9   7.3   \n",
       " North Macedonia         75.8  73.8  77.8   4.0  73.8  71.7  76.2   4.5   \n",
       " Lithuania               75.9  70.3  81.4  11.1  73.7  68.8  78.8  10.0   \n",
       " Latvia                  75.3  70.2  80.0   9.8  73.6  69.2  77.8   8.6   \n",
       " Belarus                 74.8  69.7  79.6   9.9  72.4  67.3  77.7  10.4   \n",
       " Armenia                 75.1  71.3  78.5   7.2  72.0  66.6  77.4  10.8   \n",
       " Bulgaria                75.1  71.6  78.7   7.1  71.8  68.4  75.5   7.1   \n",
       " Georgia                 73.8  69.3  78.1   8.8  71.7  66.8  76.7   9.9   \n",
       " Ukraine                 72.1  67.1  76.8   9.7  71.6  66.5  76.7  10.2   \n",
       "World                    72.8  70.6  75.0   4.4  71.4  68.9  74.0   5.1   \n",
       " Azerbaijan              73.0  70.5  75.5   5.0  69.4  65.6  73.3   7.7   \n",
       " Kazakhstan              73.6  69.2  77.7   8.5  69.4  65.5  73.1   7.6   \n",
       " Russia                  72.6  67.1  77.8  10.7  69.4  64.2  74.8  10.6   \n",
       " Moldova                 71.9  67.6  76.2   8.6  68.8  64.4  73.5   9.1   \n",
       "\n",
       "                        Unnamed: 9  \n",
       " Monaco                             \n",
       " Switzerland                   0.2  \n",
       " Malta                         1.3  \n",
       " Liechtenstein                 2.6  \n",
       " Norway                        0.8  \n",
       " Sweden                        0.2  \n",
       " Spain                        −0.6  \n",
       " Italy                        −0.6  \n",
       " Iceland                      −0.3  \n",
       " Luxembourg                    0.3  \n",
       " France                       −0.2  \n",
       " Ireland                      −0.3  \n",
       " Finland                       0.1  \n",
       " Belgium                       0.3  \n",
       " Netherlands                  −0.6  \n",
       " Austria                       0.1  \n",
       " Denmark                       0.5  \n",
       " Cyprus                        0.2  \n",
       " Portugal                     −1.1  \n",
       " San Marino                    NaN  \n",
       " United Kingdom               −0.6  \n",
       " Slovenia                     −0.6  \n",
       " Germany                      −0.7  \n",
       " Andorra                      −1.5  \n",
       " Greece                       −2.1  \n",
       " Czech Republic               −1.7  \n",
       " Croatia                      −0.9  \n",
       " Estonia                      −1.7  \n",
       " Albania                      −2.1  \n",
       " Poland                       −2.2  \n",
       " Montenegro                   −0.6  \n",
       " Turkey                       −1.7  \n",
       " Bosnia and Herzegovina       −2.1  \n",
       " Slovakia                     −2.6  \n",
       " Hungary                      −2.4  \n",
       " Serbia                       −1.8  \n",
       " Romania                      −1.9  \n",
       " North Macedonia              −2.0  \n",
       " Lithuania                    −2.2  \n",
       " Latvia                       −1.7  \n",
       " Belarus                      −2.4  \n",
       " Armenia                      −3.1  \n",
       " Bulgaria                     −3.3  \n",
       " Georgia                      −2.1  \n",
       " Ukraine                      −0.5  \n",
       "World                         −1.4  \n",
       " Azerbaijan                   −3.6  \n",
       " Kazakhstan                   −4.2  \n",
       " Russia                       −3.2  \n",
       " Moldova                      −3.1  "
      ]
     },
     "execution_count": 48,
     "metadata": {},
     "output_type": "execute_result"
    }
   ],
   "source": [
    "# es solo para pandas\n",
    "\n",
    "df = pd.read_clipboard()     # ctrl+v\n",
    "\n",
    "df"
   ]
  },
  {
   "cell_type": "code",
   "execution_count": 49,
   "metadata": {},
   "outputs": [
    {
     "data": {
      "text/html": [
       "<div>\n",
       "<style scoped>\n",
       "    .dataframe tbody tr th:only-of-type {\n",
       "        vertical-align: middle;\n",
       "    }\n",
       "\n",
       "    .dataframe tbody tr th {\n",
       "        vertical-align: top;\n",
       "    }\n",
       "\n",
       "    .dataframe thead th {\n",
       "        text-align: right;\n",
       "    }\n",
       "</style>\n",
       "<table border=\"1\" class=\"dataframe\">\n",
       "  <thead>\n",
       "    <tr style=\"text-align: right;\">\n",
       "      <th></th>\n",
       "      <th>pd.read_clipboard()</th>\n",
       "    </tr>\n",
       "  </thead>\n",
       "  <tbody>\n",
       "  </tbody>\n",
       "</table>\n",
       "</div>"
      ],
      "text/plain": [
       "Empty DataFrame\n",
       "Columns: [pd.read_clipboard()]\n",
       "Index: []"
      ]
     },
     "execution_count": 49,
     "metadata": {},
     "output_type": "execute_result"
    }
   ],
   "source": [
    "pd.read_clipboard()"
   ]
  },
  {
   "cell_type": "markdown",
   "metadata": {},
   "source": [
    "### Ejemplo geolocalización por IP\n",
    "\n",
    "https://tools.keycdn.com/geo"
   ]
  },
  {
   "cell_type": "markdown",
   "metadata": {},
   "source": [
    "**¿Dónde estoy?**"
   ]
  },
  {
   "cell_type": "code",
   "execution_count": 50,
   "metadata": {},
   "outputs": [],
   "source": [
    "url = 'https://tools.keycdn.com/geo?host=2.136.118.161'"
   ]
  },
  {
   "cell_type": "code",
   "execution_count": 51,
   "metadata": {},
   "outputs": [],
   "source": [
    "html = req.get(url).text\n",
    "\n",
    "sopa = bs(html, 'html.parser')"
   ]
  },
  {
   "cell_type": "code",
   "execution_count": 54,
   "metadata": {},
   "outputs": [
    {
     "data": {
      "text/plain": [
       "62"
      ]
     },
     "execution_count": 54,
     "metadata": {},
     "output_type": "execute_result"
    }
   ],
   "source": [
    "len(sopa.find_all('div'))"
   ]
  },
  {
   "cell_type": "code",
   "execution_count": 55,
   "metadata": {},
   "outputs": [
    {
     "data": {
      "text/plain": [
       "<div class=\"mt-4\" id=\"geoResult\">\n",
       "<div class=\"bg-light medium rounded p-3\">\n",
       "<p class=\"small text-uppercase text-muted font-weight-semi-bold line-height-headings mb-2\">Location</p> <dl class=\"row mb-0\">\n",
       "<dt class=\"col-4\">Country</dt><dd class=\"col-8 text-monospace\">Spain (ES)</dd><dt class=\"col-4\">Continent</dt><dd class=\"col-8 text-monospace\">Europe (EU)</dd><dt class=\"col-4\">Coordinates</dt><dd class=\"col-8 text-monospace\">40.4172 (lat) / -3.684 (long)</dd><dt class=\"col-4\">Time</dt><dd class=\"col-8 text-monospace\">2023-10-31 12:41:09 (Europe/Madrid)</dd> </dl>\n",
       "<p class=\"small text-uppercase text-muted font-weight-semi-bold line-height-headings mt-4 mb-2\">Network</p>\n",
       "<dl class=\"row mb-0\">\n",
       "<dt class=\"col-4\">IP address</dt><dd class=\"col-8 text-monospace\">2.136.118.161</dd><dt class=\"col-4\">Hostname</dt><dd class=\"col-8 text-monospace\">161.red-2-136-118.staticip.rima-tde.net</dd><dt class=\"col-4\">Provider</dt><dd class=\"col-8 text-monospace\">Telefonica De Espana S.a.u.</dd><dt class=\"col-4\">ASN</dt><dd class=\"col-8 text-monospace\">3352</dd> </dl>\n",
       "</div>\n",
       "<div class=\"mapael mt-4\" id=\"geoMap\">\n",
       "<div class=\"map position-relative\"></div>\n",
       "</div>\n",
       "</div>"
      ]
     },
     "execution_count": 55,
     "metadata": {},
     "output_type": "execute_result"
    }
   ],
   "source": [
    "sopa.find('div', id='geoResult')"
   ]
  },
  {
   "cell_type": "code",
   "execution_count": 58,
   "metadata": {},
   "outputs": [
    {
     "data": {
      "text/plain": [
       "<div class=\"col-xl-2 col-md-3 d-flex align-items-end mt-md-0 mt-4\">\n",
       "<button class=\"btn btn-primary d-flex justify-content-center align-items-center w-md-100\" id=\"geoBtn\">Find</button>\n",
       "</div>"
      ]
     },
     "execution_count": 58,
     "metadata": {},
     "output_type": "execute_result"
    }
   ],
   "source": [
    "sopa.find('div', class_='mt-4')"
   ]
  },
  {
   "cell_type": "code",
   "execution_count": 59,
   "metadata": {},
   "outputs": [
    {
     "data": {
      "text/plain": [
       "<div class=\"mt-4\" id=\"geoResult\">\n",
       "<div class=\"bg-light medium rounded p-3\">\n",
       "<p class=\"small text-uppercase text-muted font-weight-semi-bold line-height-headings mb-2\">Location</p> <dl class=\"row mb-0\">\n",
       "<dt class=\"col-4\">Country</dt><dd class=\"col-8 text-monospace\">Spain (ES)</dd><dt class=\"col-4\">Continent</dt><dd class=\"col-8 text-monospace\">Europe (EU)</dd><dt class=\"col-4\">Coordinates</dt><dd class=\"col-8 text-monospace\">40.4172 (lat) / -3.684 (long)</dd><dt class=\"col-4\">Time</dt><dd class=\"col-8 text-monospace\">2023-10-31 12:41:09 (Europe/Madrid)</dd> </dl>\n",
       "<p class=\"small text-uppercase text-muted font-weight-semi-bold line-height-headings mt-4 mb-2\">Network</p>\n",
       "<dl class=\"row mb-0\">\n",
       "<dt class=\"col-4\">IP address</dt><dd class=\"col-8 text-monospace\">2.136.118.161</dd><dt class=\"col-4\">Hostname</dt><dd class=\"col-8 text-monospace\">161.red-2-136-118.staticip.rima-tde.net</dd><dt class=\"col-4\">Provider</dt><dd class=\"col-8 text-monospace\">Telefonica De Espana S.a.u.</dd><dt class=\"col-4\">ASN</dt><dd class=\"col-8 text-monospace\">3352</dd> </dl>\n",
       "</div>\n",
       "<div class=\"mapael mt-4\" id=\"geoMap\">\n",
       "<div class=\"map position-relative\"></div>\n",
       "</div>\n",
       "</div>"
      ]
     },
     "execution_count": 59,
     "metadata": {},
     "output_type": "execute_result"
    }
   ],
   "source": [
    "sopa.find('div', {'id': 'geoResult', 'class': 'mt-4'})"
   ]
  },
  {
   "cell_type": "code",
   "execution_count": 60,
   "metadata": {},
   "outputs": [],
   "source": [
    "tabla = sopa.find('div', {'id': 'geoResult', 'class': 'mt-4'})"
   ]
  },
  {
   "cell_type": "code",
   "execution_count": 62,
   "metadata": {},
   "outputs": [
    {
     "data": {
      "text/plain": [
       "[<dd class=\"col-8 text-monospace\">Spain (ES)</dd>,\n",
       " <dd class=\"col-8 text-monospace\">Europe (EU)</dd>,\n",
       " <dd class=\"col-8 text-monospace\">40.4172 (lat) / -3.684 (long)</dd>,\n",
       " <dd class=\"col-8 text-monospace\">2023-10-31 12:41:09 (Europe/Madrid)</dd>,\n",
       " <dd class=\"col-8 text-monospace\">2.136.118.161</dd>,\n",
       " <dd class=\"col-8 text-monospace\">161.red-2-136-118.staticip.rima-tde.net</dd>,\n",
       " <dd class=\"col-8 text-monospace\">Telefonica De Espana S.a.u.</dd>,\n",
       " <dd class=\"col-8 text-monospace\">3352</dd>]"
      ]
     },
     "execution_count": 62,
     "metadata": {},
     "output_type": "execute_result"
    }
   ],
   "source": [
    "tabla.find_all('dd')"
   ]
  },
  {
   "cell_type": "code",
   "execution_count": 64,
   "metadata": {},
   "outputs": [
    {
     "data": {
      "text/plain": [
       "bs4.element.Tag"
      ]
     },
     "execution_count": 64,
     "metadata": {},
     "output_type": "execute_result"
    }
   ],
   "source": [
    "type(tabla.find_all('dd')[0])"
   ]
  },
  {
   "cell_type": "code",
   "execution_count": 66,
   "metadata": {},
   "outputs": [
    {
     "data": {
      "text/plain": [
       "'Spain (ES)'"
      ]
     },
     "execution_count": 66,
     "metadata": {},
     "output_type": "execute_result"
    }
   ],
   "source": [
    "tabla.find_all('dd')[0].text"
   ]
  },
  {
   "cell_type": "code",
   "execution_count": 67,
   "metadata": {},
   "outputs": [
    {
     "data": {
      "text/plain": [
       "str"
      ]
     },
     "execution_count": 67,
     "metadata": {},
     "output_type": "execute_result"
    }
   ],
   "source": [
    "type(tabla.find_all('dd')[0].text)"
   ]
  },
  {
   "cell_type": "code",
   "execution_count": 68,
   "metadata": {},
   "outputs": [
    {
     "data": {
      "text/plain": [
       "['Spain (ES)',\n",
       " 'Europe (EU)',\n",
       " '40.4172 (lat) / -3.684 (long)',\n",
       " '2023-10-31 12:41:09 (Europe/Madrid)',\n",
       " '2.136.118.161',\n",
       " '161.red-2-136-118.staticip.rima-tde.net',\n",
       " 'Telefonica De Espana S.a.u.',\n",
       " '3352']"
      ]
     },
     "execution_count": 68,
     "metadata": {},
     "output_type": "execute_result"
    }
   ],
   "source": [
    "[e.text for e in tabla.find_all('dd')]"
   ]
  },
  {
   "cell_type": "code",
   "execution_count": 70,
   "metadata": {},
   "outputs": [
    {
     "data": {
      "text/plain": [
       "'Country'"
      ]
     },
     "execution_count": 70,
     "metadata": {},
     "output_type": "execute_result"
    }
   ],
   "source": [
    "tabla.find_all('dt')[0].text"
   ]
  },
  {
   "cell_type": "code",
   "execution_count": 71,
   "metadata": {},
   "outputs": [
    {
     "data": {
      "text/plain": [
       "['Country',\n",
       " 'Continent',\n",
       " 'Coordinates',\n",
       " 'Time',\n",
       " 'IP address',\n",
       " 'Hostname',\n",
       " 'Provider',\n",
       " 'ASN']"
      ]
     },
     "execution_count": 71,
     "metadata": {},
     "output_type": "execute_result"
    }
   ],
   "source": [
    "[e.text for e in tabla.find_all('dt')]"
   ]
  },
  {
   "cell_type": "code",
   "execution_count": 73,
   "metadata": {},
   "outputs": [],
   "source": [
    "conexion = dict(zip([e.text for e in tabla.find_all('dt')], \n",
    "                     [e.text for e in tabla.find_all('dd')]))"
   ]
  },
  {
   "cell_type": "code",
   "execution_count": 74,
   "metadata": {},
   "outputs": [
    {
     "data": {
      "text/plain": [
       "{'Country': 'Spain (ES)',\n",
       " 'Continent': 'Europe (EU)',\n",
       " 'Coordinates': '40.4172 (lat) / -3.684 (long)',\n",
       " 'Time': '2023-10-31 12:41:09 (Europe/Madrid)',\n",
       " 'IP address': '2.136.118.161',\n",
       " 'Hostname': '161.red-2-136-118.staticip.rima-tde.net',\n",
       " 'Provider': 'Telefonica De Espana S.a.u.',\n",
       " 'ASN': '3352'}"
      ]
     },
     "execution_count": 74,
     "metadata": {},
     "output_type": "execute_result"
    }
   ],
   "source": [
    "conexion"
   ]
  },
  {
   "cell_type": "code",
   "execution_count": 75,
   "metadata": {},
   "outputs": [],
   "source": [
    "# creo una funcion para todo el proceso, segun ip\n",
    "\n",
    "def encontrar(ip):\n",
    "    \n",
    "    url = f'https://tools.keycdn.com/geo?host={ip}'\n",
    "    \n",
    "    html = req.get(url).text\n",
    "\n",
    "    sopa = bs(html, 'html.parser')\n",
    "    \n",
    "    tabla = sopa.find('div', {'id': 'geoResult', 'class': 'mt-4'})\n",
    "    \n",
    "    conexion = dict(zip([e.text for e in tabla.find_all('dt')], \n",
    "                     [e.text for e in tabla.find_all('dd')]))\n",
    "    \n",
    "    return conexion"
   ]
  },
  {
   "cell_type": "code",
   "execution_count": 76,
   "metadata": {},
   "outputs": [
    {
     "data": {
      "text/plain": [
       "{'Country': 'Spain (ES)',\n",
       " 'Continent': 'Europe (EU)',\n",
       " 'Coordinates': '40.4172 (lat) / -3.684 (long)',\n",
       " 'Time': '2023-10-31 12:48:07 (Europe/Madrid)',\n",
       " 'IP address': '2.136.118.161',\n",
       " 'Hostname': '161.red-2-136-118.staticip.rima-tde.net',\n",
       " 'Provider': 'Telefonica De Espana S.a.u.',\n",
       " 'ASN': '3352'}"
      ]
     },
     "execution_count": 76,
     "metadata": {},
     "output_type": "execute_result"
    }
   ],
   "source": [
    "encontrar('2.136.118.161')"
   ]
  },
  {
   "cell_type": "code",
   "execution_count": 77,
   "metadata": {},
   "outputs": [
    {
     "data": {
      "text/plain": [
       "{'City': 'Barrigada Village',\n",
       " 'Postal code': '96921',\n",
       " 'Country': 'Guam (GU)',\n",
       " 'Continent': 'Oceania (OC)',\n",
       " 'Coordinates': '13.4593 (lat) / 144.7942 (long)',\n",
       " 'Time': '2023-10-31 21:48:12 (Pacific/Guam)',\n",
       " 'IP address': '168.123.4.5',\n",
       " 'Hostname': '168.123.4.5',\n",
       " 'Provider': 'UNIVERSITY-GUAM',\n",
       " 'ASN': '395400'}"
      ]
     },
     "execution_count": 77,
     "metadata": {},
     "output_type": "execute_result"
    }
   ],
   "source": [
    "encontrar('168.123.4.5')"
   ]
  },
  {
   "cell_type": "code",
   "execution_count": 78,
   "metadata": {},
   "outputs": [
    {
     "data": {
      "text/plain": [
       "{'City': 'Madrid',\n",
       " 'Region': 'Madrid (M)',\n",
       " 'Postal code': '28009',\n",
       " 'Country': 'Spain (ES)',\n",
       " 'Continent': 'Europe (EU)',\n",
       " 'Coordinates': '40.4169 (lat) / -3.6841 (long)',\n",
       " 'Time': '2023-10-31 12:48:20 (Europe/Madrid)',\n",
       " 'IP address': '46.222.34.200',\n",
       " 'Hostname': '46.222.34.200',\n",
       " 'Provider': 'Xtra Telecom S.A.',\n",
       " 'ASN': '15704'}"
      ]
     },
     "execution_count": 78,
     "metadata": {},
     "output_type": "execute_result"
    }
   ],
   "source": [
    "encontrar('46.222.34.200')"
   ]
  },
  {
   "cell_type": "markdown",
   "metadata": {},
   "source": [
    "### Ejemplo LinkedIn"
   ]
  },
  {
   "cell_type": "code",
   "execution_count": 79,
   "metadata": {},
   "outputs": [],
   "source": [
    "url = 'https://www.linkedin.com/jobs/search/?currentJobId=3750825763&f_E=4&keywords=Analista%20de%20datos&origin=JOB_SEARCH_PAGE_JOB_FILTER&refresh=true'"
   ]
  },
  {
   "cell_type": "code",
   "execution_count": 80,
   "metadata": {},
   "outputs": [],
   "source": [
    "html = req.get(url).text\n",
    "\n",
    "sopa = bs(html, 'html.parser')"
   ]
  },
  {
   "cell_type": "code",
   "execution_count": 85,
   "metadata": {
    "scrolled": false
   },
   "outputs": [],
   "source": [
    "tarjetas = sopa.find('ul', class_='jobs-search__results-list')"
   ]
  },
  {
   "cell_type": "code",
   "execution_count": 86,
   "metadata": {
    "scrolled": false
   },
   "outputs": [
    {
     "data": {
      "text/plain": [
       "bs4.element.Tag"
      ]
     },
     "execution_count": 86,
     "metadata": {},
     "output_type": "execute_result"
    }
   ],
   "source": [
    "type(tarjetas)"
   ]
  },
  {
   "cell_type": "code",
   "execution_count": 88,
   "metadata": {},
   "outputs": [
    {
     "data": {
      "text/plain": [
       "25"
      ]
     },
     "execution_count": 88,
     "metadata": {},
     "output_type": "execute_result"
    }
   ],
   "source": [
    "len(tarjetas.find_all('li'))"
   ]
  },
  {
   "cell_type": "code",
   "execution_count": 113,
   "metadata": {},
   "outputs": [],
   "source": [
    "curro = tarjetas.find_all('li')[0]\n",
    "\n",
    "\n",
    "titulo = curro.find('span').text.strip()\n",
    "\n",
    "empresa = curro.find('h4').text.strip()\n",
    "\n",
    "link_curro = curro.find('a').attrs['href']\n",
    "\n",
    "link_comp = curro.find('h4').find('a').attrs['href']\n",
    "\n",
    "pais = curro.find('span', class_=\"job-search-card__location\").text.strip()\n",
    "\n",
    "fecha = curro.find('time').attrs['datetime']"
   ]
  },
  {
   "cell_type": "code",
   "execution_count": 114,
   "metadata": {
    "scrolled": false
   },
   "outputs": [
    {
     "data": {
      "text/plain": [
       "{'titulo': 'Junior Data Analyst',\n",
       " 'empresa': 'The Hatcher Group',\n",
       " 'link_curro': 'https://www.linkedin.com/jobs/view/junior-data-analyst-at-the-hatcher-group-3741802236?refId=ZN90hZrkzHt%2FmD%2FipPz1xw%3D%3D&trackingId=5xwQNqVBS6bR8c9EUykpAQ%3D%3D&position=1&pageNum=0&trk=public_jobs_jserp-result_search-card',\n",
       " 'link_comp': 'https://www.linkedin.com/company/the-hatcher-group?trk=public_jobs_jserp-result_job-search-card-subtitle',\n",
       " 'pais': 'Bethesda, MD',\n",
       " 'fecha': '2023-10-17'}"
      ]
     },
     "execution_count": 114,
     "metadata": {},
     "output_type": "execute_result"
    }
   ],
   "source": [
    "{'titulo': titulo,\n",
    "\n",
    "'empresa': empresa,\n",
    "\n",
    "'link_curro': link_curro,\n",
    "\n",
    "'link_comp': link_comp, \n",
    "\n",
    "'pais': pais, \n",
    "\n",
    "'fecha': fecha}"
   ]
  },
  {
   "cell_type": "code",
   "execution_count": 115,
   "metadata": {},
   "outputs": [],
   "source": [
    "def linkedin(keywords, num_pages, loc, n_secs):\n",
    "    \n",
    "    URL = 'https://www.linkedin.com/jobs/search/'\n",
    "    \n",
    "    data = []\n",
    "    \n",
    "    for i in range(num_pages):\n",
    "        \n",
    "        scrape_url = ''.join([URL,    # url principal\n",
    "                              f'?keywords={keywords}',\n",
    "                              '&geoId=105646813',\n",
    "                              f'&location={loc}',\n",
    "                              f'&f_TPR={n_secs}',\n",
    "                              f'&start={i*25}'\n",
    "                             ])\n",
    "        \n",
    "        \n",
    "        html = req.get(scrape_url).text\n",
    "\n",
    "        sopa = bs(html, 'html.parser')\n",
    "        \n",
    "        \n",
    "        tarjetas = sopa.find('ul', class_='jobs-search__results-list').find_all('li')\n",
    "        \n",
    "        \n",
    "        # bucle sobre los li, las tarjetas de cada curro\n",
    "        for curro in tarjetas:\n",
    "            \n",
    "            \n",
    "            try:\n",
    "                titulo = curro.find('span').text.strip()\n",
    "\n",
    "                empresa = curro.find('h4').text.strip()\n",
    "\n",
    "                link_curro = curro.find('a').attrs['href']\n",
    "\n",
    "                link_comp = curro.find('h4').find('a').attrs['href']\n",
    "\n",
    "                pais = curro.find('span', class_='job-search-card__location').text.strip()\n",
    "\n",
    "                fecha = curro.find('time').attrs['datetime']\n",
    "                \n",
    "                \n",
    "                data.append({'titulo': titulo,\n",
    "\n",
    "                            'empresa': empresa,\n",
    "\n",
    "                            'link_curro': link_curro,\n",
    "\n",
    "                            'link_comp': link_comp, \n",
    "\n",
    "                            'pais': pais, \n",
    "\n",
    "                            'fecha': fecha})\n",
    "                \n",
    "                \n",
    "            except:\n",
    "                print('hola')\n",
    "                continue\n",
    "                \n",
    "                \n",
    "    return pd.DataFrame(data)"
   ]
  },
  {
   "cell_type": "code",
   "execution_count": 116,
   "metadata": {
    "scrolled": false
   },
   "outputs": [],
   "source": [
    "df = linkedin('analista%20de%20datos', 5, 'spain', 30000)"
   ]
  },
  {
   "cell_type": "code",
   "execution_count": 117,
   "metadata": {
    "scrolled": false
   },
   "outputs": [
    {
     "data": {
      "text/html": [
       "<div>\n",
       "<style scoped>\n",
       "    .dataframe tbody tr th:only-of-type {\n",
       "        vertical-align: middle;\n",
       "    }\n",
       "\n",
       "    .dataframe tbody tr th {\n",
       "        vertical-align: top;\n",
       "    }\n",
       "\n",
       "    .dataframe thead th {\n",
       "        text-align: right;\n",
       "    }\n",
       "</style>\n",
       "<table border=\"1\" class=\"dataframe\">\n",
       "  <thead>\n",
       "    <tr style=\"text-align: right;\">\n",
       "      <th></th>\n",
       "      <th>titulo</th>\n",
       "      <th>empresa</th>\n",
       "      <th>link_curro</th>\n",
       "      <th>link_comp</th>\n",
       "      <th>pais</th>\n",
       "      <th>fecha</th>\n",
       "    </tr>\n",
       "  </thead>\n",
       "  <tbody>\n",
       "    <tr>\n",
       "      <th>0</th>\n",
       "      <td>Analista de Datos (POWER BI)</td>\n",
       "      <td>Agromillora</td>\n",
       "      <td>https://es.linkedin.com/jobs/view/analista-de-...</td>\n",
       "      <td>https://es.linkedin.com/company/agromilloragro...</td>\n",
       "      <td>Sant Sadurní d'Anoia, Catalonia, Spain</td>\n",
       "      <td>2023-10-11</td>\n",
       "    </tr>\n",
       "    <tr>\n",
       "      <th>1</th>\n",
       "      <td>Data Analyst – Bilbao, Madrid</td>\n",
       "      <td>Teknei</td>\n",
       "      <td>https://es.linkedin.com/jobs/view/data-analyst...</td>\n",
       "      <td>https://es.linkedin.com/company/teknei-group?t...</td>\n",
       "      <td>Madrid, Community of Madrid, Spain</td>\n",
       "      <td>2023-10-25</td>\n",
       "    </tr>\n",
       "    <tr>\n",
       "      <th>2</th>\n",
       "      <td>Analista de datos Junior</td>\n",
       "      <td>Krell Consulting</td>\n",
       "      <td>https://es.linkedin.com/jobs/view/analista-de-...</td>\n",
       "      <td>https://es.linkedin.com/company/krellconsultin...</td>\n",
       "      <td>Madrid, Community of Madrid, Spain</td>\n",
       "      <td>2023-07-06</td>\n",
       "    </tr>\n",
       "    <tr>\n",
       "      <th>3</th>\n",
       "      <td>Data Analyst Power Bi Remoto Híbrido</td>\n",
       "      <td>Malthus Darwin</td>\n",
       "      <td>https://es.linkedin.com/jobs/view/data-analyst...</td>\n",
       "      <td>https://es.linkedin.com/company/malthus-darwin...</td>\n",
       "      <td>Madrid, Community of Madrid, Spain</td>\n",
       "      <td>2023-10-26</td>\n",
       "    </tr>\n",
       "    <tr>\n",
       "      <th>4</th>\n",
       "      <td>Jr Data Analyst</td>\n",
       "      <td>Smadex</td>\n",
       "      <td>https://es.linkedin.com/jobs/view/jr-data-anal...</td>\n",
       "      <td>https://es.linkedin.com/company/smadex?trk=pub...</td>\n",
       "      <td>Barcelona, Catalonia, Spain</td>\n",
       "      <td>2023-10-26</td>\n",
       "    </tr>\n",
       "  </tbody>\n",
       "</table>\n",
       "</div>"
      ],
      "text/plain": [
       "                                 titulo           empresa  \\\n",
       "0          Analista de Datos (POWER BI)       Agromillora   \n",
       "1         Data Analyst – Bilbao, Madrid            Teknei   \n",
       "2              Analista de datos Junior  Krell Consulting   \n",
       "3  Data Analyst Power Bi Remoto Híbrido    Malthus Darwin   \n",
       "4                       Jr Data Analyst            Smadex   \n",
       "\n",
       "                                          link_curro  \\\n",
       "0  https://es.linkedin.com/jobs/view/analista-de-...   \n",
       "1  https://es.linkedin.com/jobs/view/data-analyst...   \n",
       "2  https://es.linkedin.com/jobs/view/analista-de-...   \n",
       "3  https://es.linkedin.com/jobs/view/data-analyst...   \n",
       "4  https://es.linkedin.com/jobs/view/jr-data-anal...   \n",
       "\n",
       "                                           link_comp  \\\n",
       "0  https://es.linkedin.com/company/agromilloragro...   \n",
       "1  https://es.linkedin.com/company/teknei-group?t...   \n",
       "2  https://es.linkedin.com/company/krellconsultin...   \n",
       "3  https://es.linkedin.com/company/malthus-darwin...   \n",
       "4  https://es.linkedin.com/company/smadex?trk=pub...   \n",
       "\n",
       "                                     pais       fecha  \n",
       "0  Sant Sadurní d'Anoia, Catalonia, Spain  2023-10-11  \n",
       "1      Madrid, Community of Madrid, Spain  2023-10-25  \n",
       "2      Madrid, Community of Madrid, Spain  2023-07-06  \n",
       "3      Madrid, Community of Madrid, Spain  2023-10-26  \n",
       "4             Barcelona, Catalonia, Spain  2023-10-26  "
      ]
     },
     "execution_count": 117,
     "metadata": {},
     "output_type": "execute_result"
    }
   ],
   "source": [
    "df.head()"
   ]
  },
  {
   "cell_type": "code",
   "execution_count": 118,
   "metadata": {},
   "outputs": [
    {
     "data": {
      "text/plain": [
       "(125, 6)"
      ]
     },
     "execution_count": 118,
     "metadata": {},
     "output_type": "execute_result"
    }
   ],
   "source": [
    "df.shape"
   ]
  },
  {
   "cell_type": "code",
   "execution_count": 119,
   "metadata": {
    "scrolled": false
   },
   "outputs": [],
   "source": [
    "from IPython.display import HTML"
   ]
  },
  {
   "cell_type": "code",
   "execution_count": 120,
   "metadata": {},
   "outputs": [
    {
     "data": {
      "text/html": [
       "<table border=\"1\" class=\"dataframe\">\n",
       "  <thead>\n",
       "    <tr style=\"text-align: right;\">\n",
       "      <th></th>\n",
       "      <th>titulo</th>\n",
       "      <th>empresa</th>\n",
       "      <th>link_curro</th>\n",
       "      <th>link_comp</th>\n",
       "      <th>pais</th>\n",
       "      <th>fecha</th>\n",
       "    </tr>\n",
       "  </thead>\n",
       "  <tbody>\n",
       "    <tr>\n",
       "      <th>0</th>\n",
       "      <td>Analista de Datos (POWER BI)</td>\n",
       "      <td>Agromillora</td>\n",
       "      <td><a href=\"https://es.linkedin.com/jobs/view/analista-de-datos-power-bi-at-agromillora-3735671051?refId=uy%2FGar6H7w%2FJepbebs5JYA%3D%3D&trackingId=j%2FcJuW6cVlel487%2FSR6zAw%3D%3D&position=1&pageNum=0&trk=public_jobs_jserp-result_search-card\" target=\"_blank\">https://es.linkedin.com/jobs/view/analista-de-datos-power-bi-at-agromillora-3735671051?refId=uy%2FGar6H7w%2FJepbebs5JYA%3D%3D&amp;trackingId=j%2FcJuW6cVlel487%2FSR6zAw%3D%3D&amp;position=1&amp;pageNum=0&amp;trk=public_jobs_jserp-result_search-card</a></td>\n",
       "      <td><a href=\"https://es.linkedin.com/company/agromilloragroup?trk=public_jobs_jserp-result_job-search-card-subtitle\" target=\"_blank\">https://es.linkedin.com/company/agromilloragroup?trk=public_jobs_jserp-result_job-search-card-subtitle</a></td>\n",
       "      <td>Sant Sadurní d'Anoia, Catalonia, Spain</td>\n",
       "      <td>2023-10-11</td>\n",
       "    </tr>\n",
       "    <tr>\n",
       "      <th>1</th>\n",
       "      <td>Data Analyst – Bilbao, Madrid</td>\n",
       "      <td>Teknei</td>\n",
       "      <td><a href=\"https://es.linkedin.com/jobs/view/data-analyst-%E2%80%93-bilbao-madrid-at-teknei-3746819548?refId=uy%2FGar6H7w%2FJepbebs5JYA%3D%3D&trackingId=mmyU0wTz%2BVh5%2FTxYdKESWQ%3D%3D&position=2&pageNum=0&trk=public_jobs_jserp-result_search-card\" target=\"_blank\">https://es.linkedin.com/jobs/view/data-analyst-%E2%80%93-bilbao-madrid-at-teknei-3746819548?refId=uy%2FGar6H7w%2FJepbebs5JYA%3D%3D&amp;trackingId=mmyU0wTz%2BVh5%2FTxYdKESWQ%3D%3D&amp;position=2&amp;pageNum=0&amp;trk=public_jobs_jserp-result_search-card</a></td>\n",
       "      <td><a href=\"https://es.linkedin.com/company/teknei-group?trk=public_jobs_jserp-result_job-search-card-subtitle\" target=\"_blank\">https://es.linkedin.com/company/teknei-group?trk=public_jobs_jserp-result_job-search-card-subtitle</a></td>\n",
       "      <td>Madrid, Community of Madrid, Spain</td>\n",
       "      <td>2023-10-25</td>\n",
       "    </tr>\n",
       "    <tr>\n",
       "      <th>2</th>\n",
       "      <td>Analista de datos Junior</td>\n",
       "      <td>Krell Consulting</td>\n",
       "      <td><a href=\"https://es.linkedin.com/jobs/view/analista-de-datos-junior-at-krell-consulting-3657204428?refId=uy%2FGar6H7w%2FJepbebs5JYA%3D%3D&trackingId=cZQxvPJTIXc1GiBD4AMd%2BA%3D%3D&position=3&pageNum=0&trk=public_jobs_jserp-result_search-card\" target=\"_blank\">https://es.linkedin.com/jobs/view/analista-de-datos-junior-at-krell-consulting-3657204428?refId=uy%2FGar6H7w%2FJepbebs5JYA%3D%3D&amp;trackingId=cZQxvPJTIXc1GiBD4AMd%2BA%3D%3D&amp;position=3&amp;pageNum=0&amp;trk=public_jobs_jserp-result_search-card</a></td>\n",
       "      <td><a href=\"https://es.linkedin.com/company/krellconsulting?trk=public_jobs_jserp-result_job-search-card-subtitle\" target=\"_blank\">https://es.linkedin.com/company/krellconsulting?trk=public_jobs_jserp-result_job-search-card-subtitle</a></td>\n",
       "      <td>Madrid, Community of Madrid, Spain</td>\n",
       "      <td>2023-07-06</td>\n",
       "    </tr>\n",
       "    <tr>\n",
       "      <th>3</th>\n",
       "      <td>Data Analyst Power Bi Remoto Híbrido</td>\n",
       "      <td>Malthus Darwin</td>\n",
       "      <td><a href=\"https://es.linkedin.com/jobs/view/data-analyst-power-bi-remoto-h%C3%ADbrido-at-malthus-darwin-3747705809?refId=uy%2FGar6H7w%2FJepbebs5JYA%3D%3D&trackingId=QnH3q%2Bsxh2jJ0ZmoZD9yNQ%3D%3D&position=4&pageNum=0&trk=public_jobs_jserp-result_search-card\" target=\"_blank\">https://es.linkedin.com/jobs/view/data-analyst-power-bi-remoto-h%C3%ADbrido-at-malthus-darwin-3747705809?refId=uy%2FGar6H7w%2FJepbebs5JYA%3D%3D&amp;trackingId=QnH3q%2Bsxh2jJ0ZmoZD9yNQ%3D%3D&amp;position=4&amp;pageNum=0&amp;trk=public_jobs_jserp-result_search-card</a></td>\n",
       "      <td><a href=\"https://es.linkedin.com/company/malthus-darwin-sl?trk=public_jobs_jserp-result_job-search-card-subtitle\" target=\"_blank\">https://es.linkedin.com/company/malthus-darwin-sl?trk=public_jobs_jserp-result_job-search-card-subtitle</a></td>\n",
       "      <td>Madrid, Community of Madrid, Spain</td>\n",
       "      <td>2023-10-26</td>\n",
       "    </tr>\n",
       "    <tr>\n",
       "      <th>4</th>\n",
       "      <td>Jr Data Analyst</td>\n",
       "      <td>Smadex</td>\n",
       "      <td><a href=\"https://es.linkedin.com/jobs/view/jr-data-analyst-at-smadex-3749500727?refId=uy%2FGar6H7w%2FJepbebs5JYA%3D%3D&trackingId=0sWDcEt84z6oe94xzMGERw%3D%3D&position=5&pageNum=0&trk=public_jobs_jserp-result_search-card\" target=\"_blank\">https://es.linkedin.com/jobs/view/jr-data-analyst-at-smadex-3749500727?refId=uy%2FGar6H7w%2FJepbebs5JYA%3D%3D&amp;trackingId=0sWDcEt84z6oe94xzMGERw%3D%3D&amp;position=5&amp;pageNum=0&amp;trk=public_jobs_jserp-result_search-card</a></td>\n",
       "      <td><a href=\"https://es.linkedin.com/company/smadex?trk=public_jobs_jserp-result_job-search-card-subtitle\" target=\"_blank\">https://es.linkedin.com/company/smadex?trk=public_jobs_jserp-result_job-search-card-subtitle</a></td>\n",
       "      <td>Barcelona, Catalonia, Spain</td>\n",
       "      <td>2023-10-26</td>\n",
       "    </tr>\n",
       "  </tbody>\n",
       "</table>"
      ],
      "text/plain": [
       "<IPython.core.display.HTML object>"
      ]
     },
     "execution_count": 120,
     "metadata": {},
     "output_type": "execute_result"
    }
   ],
   "source": [
    "HTML(df.head().to_html(render_links=True))"
   ]
  },
  {
   "cell_type": "code",
   "execution_count": 121,
   "metadata": {},
   "outputs": [
    {
     "data": {
      "text/plain": [
       "'<html><head>\\n<script type=\"text/javascript\">\\nwindow.onload = function() {\\n  // Parse the tracking code from cookies.\\n  var trk = \"bf\";\\n  var trkInfo = \"bf\";\\n  var cookies = document.cookie.split(\"; \");\\n  for (var i = 0; i < cookies.length; ++i) {\\n    if ((cookies[i].indexOf(\"trkCode=\") == 0) && (cookies[i].length > 8)) {\\n      trk = cookies[i].substring(8);\\n    }\\n    else if ((cookies[i].indexOf(\"trkInfo=\") == 0) && (cookies[i].length > 8)) {\\n      trkInfo = cookies[i].substring(8);\\n    }\\n  }\\n\\n  if (window.location.protocol == \"http:\") {\\n    // If \"sl\" cookie is set, redirect to https.\\n    for (var i = 0; i < cookies.length; ++i) {\\n      if ((cookies[i].indexOf(\"sl=\") == 0) && (cookies[i].length > 3)) {\\n        window.location.href = \"https:\" + window.location.href.substring(window.location.protocol.length);\\n        return;\\n      }\\n    }\\n  }\\n\\n  // Get the new domain. For international domains such as\\n  // fr.linkedin.com, we convert it to www.linkedin.com\\n  // treat .cn similar to .com here\\n  var domain = location.host;\\n  if (domain != \"www.linkedin.com\" && domain != \"www.linkedin.cn\") {\\n    var subdomainIndex = location.host.indexOf(\".linkedin\");\\n    if (subdomainIndex != -1) {\\n      domain = \"www\" + location.host.substring(subdomainIndex);\\n    }\\n  }\\n\\n  window.location.href = \"https://\" + domain + \"/authwall?trk=\" + trk + \"&trkInfo=\" + trkInfo +\\n      \"&original_referer=\" + document.referrer.substr(0, 200) +\\n      \"&sessionRedirect=\" + encodeURIComponent(window.location.href);\\n}\\n</script>\\n</head></html>\\n'"
      ]
     },
     "execution_count": 121,
     "metadata": {},
     "output_type": "execute_result"
    }
   ],
   "source": [
    "html = req.get('https://www.linkedin.com/in/yonatan-rodriguez/').text\n",
    "\n",
    "html"
   ]
  },
  {
   "cell_type": "code",
   "execution_count": null,
   "metadata": {},
   "outputs": [],
   "source": []
  }
 ],
 "metadata": {
  "kernelspec": {
   "display_name": "clase",
   "language": "python",
   "name": "clase"
  },
  "language_info": {
   "codemirror_mode": {
    "name": "ipython",
    "version": 3
   },
   "file_extension": ".py",
   "mimetype": "text/x-python",
   "name": "python",
   "nbconvert_exporter": "python",
   "pygments_lexer": "ipython3",
   "version": "3.9.12"
  },
  "varInspector": {
   "cols": {
    "lenName": 16,
    "lenType": 16,
    "lenVar": 40
   },
   "kernels_config": {
    "python": {
     "delete_cmd_postfix": "",
     "delete_cmd_prefix": "del ",
     "library": "var_list.py",
     "varRefreshCmd": "print(var_dic_list())"
    },
    "r": {
     "delete_cmd_postfix": ") ",
     "delete_cmd_prefix": "rm(",
     "library": "var_list.r",
     "varRefreshCmd": "cat(var_dic_list()) "
    }
   },
   "types_to_exclude": [
    "module",
    "function",
    "builtin_function_or_method",
    "instance",
    "_Feature"
   ],
   "window_display": false
  }
 },
 "nbformat": 4,
 "nbformat_minor": 4
}
