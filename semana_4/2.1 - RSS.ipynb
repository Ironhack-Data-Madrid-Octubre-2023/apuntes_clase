{
 "cells": [
  {
   "cell_type": "markdown",
   "metadata": {},
   "source": [
    "# 2.1 - RSS\n",
    "\n",
    "$$$$\n",
    "\n",
    "![rss](images/rss.png)\n",
    "\n"
   ]
  },
  {
   "cell_type": "markdown",
   "metadata": {},
   "source": [
    "RSS son las siglas de **Really Simple Syndication**, un formato XML para distribuir contenido en la web. Se utiliza para difundir información actualizada frecuentemente a usuarios que se han suscrito a la fuente de contenidos. El formato permite distribuir contenidos sin necesidad de un navegador, utilizando programas llamados agregadores de noticias, diseñados para leer contenidos RSS. A pesar de eso, es posible utilizar el mismo navegador para ver los contenidos RSS. Las últimas versiones de los principales navegadores permiten leer los RSS sin necesidad de programas adicionales. RSS es parte de la familia de los formatos XML, desarrollado específicamente para todo tipo de sitios que se actualicen con frecuencia y por medio del cual se puede compartir la información y usarla en otros sitios web o programas. A esto se le conoce como redifusión web o sindicación web .\n",
    "\n",
    "\n",
    "En el archivo RSS simplemente están los datos de las novedades del sitio, como el título, fecha de publicación o la descripción. El programa que lea el RSS será encargado de darle estilo o apariencia a los datos que se incluyan en el archivo y presentarlos de una manera atractiva al usuario y de fácil lectura.\n",
    "\n",
    "Que RSS sea un formato basado en XML significa que el archivo RSS se compone por una serie de etiquetas definidas que tendrán un formato dado, y que respetará las reglas generales de XML. Este archivo normalmente es nombrado index.xml y se encuentra ubicado en la página principal.\n",
    "\n",
    "Vale aclarar que RSS no es un protocolo, dado que no contempla parámetros de ningún tipo. No es posible definir mediante una consulta un criterio de búsqueda. \n"
   ]
  },
  {
   "cell_type": "markdown",
   "metadata": {},
   "source": [
    "## Trabajando con RSS\n",
    "\n",
    "Normalmente, el feed del RSS corresponde a un archivo con la extensión .rss. Tenemos una herramienta perfecta para manejar ese tipo de feed."
   ]
  },
  {
   "cell_type": "code",
   "execution_count": null,
   "metadata": {},
   "outputs": [],
   "source": [
    "%pip install feedparser"
   ]
  },
  {
   "cell_type": "code",
   "execution_count": 1,
   "metadata": {},
   "outputs": [],
   "source": [
    "import feedparser"
   ]
  },
  {
   "cell_type": "markdown",
   "metadata": {},
   "source": [
    "### Reddit RSS\n",
    "\n",
    "Para extraer el contenido, tan solo pasamos la url del RSS al feedparser."
   ]
  },
  {
   "cell_type": "code",
   "execution_count": 2,
   "metadata": {},
   "outputs": [],
   "source": [
    "reddit = feedparser.parse('https://www.reddit.com/r/news/.rss')"
   ]
  },
  {
   "cell_type": "code",
   "execution_count": 3,
   "metadata": {},
   "outputs": [
    {
     "data": {
      "text/plain": [
       "feedparser.util.FeedParserDict"
      ]
     },
     "execution_count": 3,
     "metadata": {},
     "output_type": "execute_result"
    }
   ],
   "source": [
    "type(reddit)"
   ]
  },
  {
   "cell_type": "code",
   "execution_count": 4,
   "metadata": {},
   "outputs": [
    {
     "data": {
      "text/plain": [
       "dict_keys(['bozo', 'entries', 'feed', 'headers', 'href', 'status', 'encoding', 'version', 'namespaces'])"
      ]
     },
     "execution_count": 4,
     "metadata": {},
     "output_type": "execute_result"
    }
   ],
   "source": [
    "reddit.keys()"
   ]
  },
  {
   "cell_type": "code",
   "execution_count": 6,
   "metadata": {},
   "outputs": [
    {
     "data": {
      "text/plain": [
       "dict_keys(['tags', 'updated', 'updated_parsed', 'icon', 'id', 'guidislink', 'link', 'links', 'logo', 'subtitle', 'subtitle_detail', 'title', 'title_detail'])"
      ]
     },
     "execution_count": 6,
     "metadata": {},
     "output_type": "execute_result"
    }
   ],
   "source": [
    "reddit['feed'].keys()"
   ]
  },
  {
   "cell_type": "code",
   "execution_count": 9,
   "metadata": {},
   "outputs": [
    {
     "data": {
      "text/plain": [
       "dict_keys(['authors', 'author_detail', 'href', 'author', 'tags', 'content', 'summary', 'id', 'guidislink', 'link', 'links', 'updated', 'updated_parsed', 'published', 'published_parsed', 'title', 'title_detail'])"
      ]
     },
     "execution_count": 9,
     "metadata": {},
     "output_type": "execute_result"
    }
   ],
   "source": [
    "reddit['entries'][0].keys()"
   ]
  },
  {
   "cell_type": "code",
   "execution_count": 10,
   "metadata": {},
   "outputs": [
    {
     "data": {
      "text/plain": [
       "[{'type': 'text/html',\n",
       "  'language': None,\n",
       "  'base': 'https://www.reddit.com/r/news/.rss',\n",
       "  'value': '&#32; submitted by &#32; <a href=\"https://www.reddit.com/user/Due-Reading6335\"> /u/Due-Reading6335 </a> <br /> <span><a href=\"https://www.reuters.com/legal/lawsuit-seeks-block-first-publicly-funded-religious-school-us-2023-07-31/\">[link]</a></span> &#32; <span><a href=\"https://www.reddit.com/r/news/comments/15evdkd/lawsuit_seeks_to_block_first_publiclyfunded/\">[comments]</a></span>'}]"
      ]
     },
     "execution_count": 10,
     "metadata": {},
     "output_type": "execute_result"
    }
   ],
   "source": [
    "reddit['entries'][0]['content']"
   ]
  },
  {
   "cell_type": "markdown",
   "metadata": {},
   "source": [
    "### [Nasa](https://www.nasa.gov/content/nasa-rss-feeds) RSS"
   ]
  },
  {
   "cell_type": "code",
   "execution_count": 11,
   "metadata": {},
   "outputs": [],
   "source": [
    "nasa = feedparser.parse('https://www.nasa.gov/rss/dyn/mission_pages/kepler/news/kepler-newsandfeatures-RSS.rss')"
   ]
  },
  {
   "cell_type": "code",
   "execution_count": 12,
   "metadata": {},
   "outputs": [
    {
     "data": {
      "text/plain": [
       "dict_keys(['bozo', 'entries', 'feed', 'headers', 'href', 'status', 'encoding', 'version', 'namespaces'])"
      ]
     },
     "execution_count": 12,
     "metadata": {},
     "output_type": "execute_result"
    }
   ],
   "source": [
    "nasa.keys()"
   ]
  },
  {
   "cell_type": "code",
   "execution_count": 13,
   "metadata": {},
   "outputs": [
    {
     "data": {
      "text/plain": [
       "{'title': \"New Deep Learning Method Adds 301 Planets to Kepler's Total Count\",\n",
       " 'title_detail': {'type': 'text/plain',\n",
       "  'language': 'en',\n",
       "  'base': 'http://www.nasa.gov/',\n",
       "  'value': \"New Deep Learning Method Adds 301 Planets to Kepler's Total Count\"},\n",
       " 'links': [{'rel': 'alternate',\n",
       "   'type': 'text/html',\n",
       "   'href': 'http://www.nasa.gov/feature/ames/new-deep-learning-method-adds-301-planets-to-keplers-total-count'},\n",
       "  {'length': '7380534',\n",
       "   'type': 'image/gif',\n",
       "   'href': 'http://www.nasa.gov/sites/default/files/styles/1x1_cardfeed/public/thumbnails/image/exoplanet_banner_1.gif?itok=L3rCP01p',\n",
       "   'rel': 'enclosure'}],\n",
       " 'link': 'http://www.nasa.gov/feature/ames/new-deep-learning-method-adds-301-planets-to-keplers-total-count',\n",
       " 'summary': 'Scientists recently added a whopping 301 newly confirmed exoplanets to the total exoplanet tally.',\n",
       " 'summary_detail': {'type': 'text/html',\n",
       "  'language': 'en',\n",
       "  'base': 'http://www.nasa.gov/',\n",
       "  'value': 'Scientists recently added a whopping 301 newly confirmed exoplanets to the total exoplanet tally.'},\n",
       " 'id': 'http://www.nasa.gov/feature/ames/new-deep-learning-method-adds-301-planets-to-keplers-total-count',\n",
       " 'guidislink': False,\n",
       " 'published': 'Mon, 22 Nov 2021 20:36 EST',\n",
       " 'published_parsed': time.struct_time(tm_year=2021, tm_mon=11, tm_mday=23, tm_hour=1, tm_min=36, tm_sec=0, tm_wday=1, tm_yday=327, tm_isdst=0),\n",
       " 'source': {'href': 'http://www.nasa.gov/rss/dyn/mission_pages/kepler/news/kepler-newsandfeatures-RSS.rss',\n",
       "  'title': 'Kepler News and Features'}}"
      ]
     },
     "execution_count": 13,
     "metadata": {},
     "output_type": "execute_result"
    }
   ],
   "source": [
    "nasa['entries'][0]"
   ]
  },
  {
   "cell_type": "code",
   "execution_count": 26,
   "metadata": {},
   "outputs": [
    {
     "data": {
      "text/plain": [
       "'http://www.nasa.gov/sites/default/files/styles/1x1_cardfeed/public/thumbnails/image/exoplanet_banner_1.gif?itok=L3rCP01p'"
      ]
     },
     "execution_count": 26,
     "metadata": {},
     "output_type": "execute_result"
    }
   ],
   "source": [
    "nasa['entries'][0]['links'][-1]['href']"
   ]
  },
  {
   "cell_type": "code",
   "execution_count": 24,
   "metadata": {},
   "outputs": [
    {
     "data": {
      "text/html": [
       "<img src=\"http://www.nasa.gov/sites/default/files/styles/1x1_cardfeed/public/thumbnails/image/exoplanet_banner_1.gif?itok=L3rCP01p\"/>"
      ],
      "text/plain": [
       "<IPython.core.display.Image object>"
      ]
     },
     "metadata": {},
     "output_type": "display_data"
    }
   ],
   "source": [
    "url = nasa['entries'][0]['links'][-1]['href']\n",
    "\n",
    "from IPython.display import Image\n",
    "\n",
    "display(Image(url=url))"
   ]
  },
  {
   "cell_type": "markdown",
   "metadata": {},
   "source": [
    "### [ForexLive](https://www.forexlive.com/rss) RSS"
   ]
  },
  {
   "cell_type": "code",
   "execution_count": 27,
   "metadata": {},
   "outputs": [],
   "source": [
    "crypto = feedparser.parse('https://www.forexlive.com/feed/cryptocurrency')"
   ]
  },
  {
   "cell_type": "code",
   "execution_count": 28,
   "metadata": {},
   "outputs": [
    {
     "data": {
      "text/plain": [
       "dict_keys(['bozo', 'entries', 'feed', 'headers', 'etag', 'href', 'status', 'encoding', 'version', 'namespaces'])"
      ]
     },
     "execution_count": 28,
     "metadata": {},
     "output_type": "execute_result"
    }
   ],
   "source": [
    "crypto.keys()"
   ]
  },
  {
   "cell_type": "code",
   "execution_count": 29,
   "metadata": {
    "scrolled": false
   },
   "outputs": [
    {
     "data": {
      "text/plain": [
       "{'title': 'ICYMI: SEC Chair Gensler said the crypto market is \"rife with fraud, rife with hucksters\"',\n",
       " 'title_detail': {'type': 'text/plain',\n",
       "  'language': None,\n",
       "  'base': 'https://www.forexlive.com/feed/cryptocurrency',\n",
       "  'value': 'ICYMI: SEC Chair Gensler said the crypto market is \"rife with fraud, rife with hucksters\"'},\n",
       " 'comments': 'https://www.forexlive.com/Cryptocurrency/icymi-sec-chair-gensler-said-the-crypto-market-is-rife-with-fraud-rife-with-hucksters-20230727/#respond',\n",
       " 'published': 'Thu, 27 Jul 2023 21:16:09 GMT',\n",
       " 'published_parsed': time.struct_time(tm_year=2023, tm_mon=7, tm_mday=27, tm_hour=21, tm_min=16, tm_sec=9, tm_wday=3, tm_yday=208, tm_isdst=0),\n",
       " 'authors': [{'name': 'Eamonn Sheridan'}, {'name': 'www.forexlive.com'}],\n",
       " 'author': 'www.forexlive.com',\n",
       " 'author_detail': {'name': 'Eamonn Sheridan'},\n",
       " 'tags': [{'term': 'Cryptocurrency', 'scheme': None, 'label': None}],\n",
       " 'id': 'https://www.forexlive.com/Cryptocurrency/icymi-sec-chair-gensler-said-the-crypto-market-is-rife-with-fraud-rife-with-hucksters-20230727/',\n",
       " 'guidislink': True,\n",
       " 'link': 'https://www.forexlive.com/Cryptocurrency/icymi-sec-chair-gensler-said-the-crypto-market-is-rife-with-fraud-rife-with-hucksters-20230727/',\n",
       " 'links': [{'rel': 'alternate',\n",
       "   'type': 'text/html',\n",
       "   'href': 'https://www.forexlive.com/Cryptocurrency/icymi-sec-chair-gensler-said-the-crypto-market-is-rife-with-fraud-rife-with-hucksters-20230727/'}],\n",
       " 'summary': '<p>US Securities and Exchange Commission Chair Gary Gensler spoke on Thursday with Bloomberg TV on its \"Bloomberg Markets\" show.</p><ul><li>crypto is highly speculative</li><li>investors should not assume they\\'re getting the protections of the securities laws, even though the securities laws apply to many of the tokens</li><li>investors are not getting full, fair and truthful disclosure </li><li>the platforms, the intermediaries, are doing things we would never in a day allow or think the New York Stock Exchange or NASDAQ would do</li><li>the platforms often are co-mingling and trading against you and have market makers that are on the other side of your trades</li><li>and we don\\'t allow that in the rest of our securities markets</li><li>this is a field rife with fraud, rife with hucksters, </li><li>and there are good faith actors as well, but there are far too many that aren\\'t</li></ul><p>This comes as the moves towards a BTC ETF proceed. </p><p>A lot is said about Gensler, much of it I see uncomplimentary. And much of it is motivated by the disreputable actors Gensler is referring to, those that make big $$$ out of manipulating hapless noobs trading crrypto. Many of the arguments made go that more traditional areas of finances also have bad actors doing bad things. But, as my mother says, two wrongs don\\'t make a right. Anyway, Gensler is right. </p>\\n\\n                This article was written by Eamonn Sheridan at www.forexlive.com.',\n",
       " 'summary_detail': {'type': 'text/html',\n",
       "  'language': None,\n",
       "  'base': 'https://www.forexlive.com/feed/cryptocurrency',\n",
       "  'value': '<p>US Securities and Exchange Commission Chair Gary Gensler spoke on Thursday with Bloomberg TV on its \"Bloomberg Markets\" show.</p><ul><li>crypto is highly speculative</li><li>investors should not assume they\\'re getting the protections of the securities laws, even though the securities laws apply to many of the tokens</li><li>investors are not getting full, fair and truthful disclosure </li><li>the platforms, the intermediaries, are doing things we would never in a day allow or think the New York Stock Exchange or NASDAQ would do</li><li>the platforms often are co-mingling and trading against you and have market makers that are on the other side of your trades</li><li>and we don\\'t allow that in the rest of our securities markets</li><li>this is a field rife with fraud, rife with hucksters, </li><li>and there are good faith actors as well, but there are far too many that aren\\'t</li></ul><p>This comes as the moves towards a BTC ETF proceed. </p><p>A lot is said about Gensler, much of it I see uncomplimentary. And much of it is motivated by the disreputable actors Gensler is referring to, those that make big $$$ out of manipulating hapless noobs trading crrypto. Many of the arguments made go that more traditional areas of finances also have bad actors doing bad things. But, as my mother says, two wrongs don\\'t make a right. Anyway, Gensler is right. </p>\\n\\n                This article was written by Eamonn Sheridan at www.forexlive.com.'}}"
      ]
     },
     "execution_count": 29,
     "metadata": {},
     "output_type": "execute_result"
    }
   ],
   "source": [
    "crypto['entries'][0]"
   ]
  },
  {
   "cell_type": "markdown",
   "metadata": {},
   "source": [
    "### [Unam](http://www.ssn.unam.mx) RSS\n",
    "\n",
    "A veces el RSS viene directamente en formato .xml\n",
    "\n",
    "Veremos como tratarlo."
   ]
  },
  {
   "cell_type": "code",
   "execution_count": null,
   "metadata": {},
   "outputs": [],
   "source": [
    "%pip install xmltodict"
   ]
  },
  {
   "cell_type": "code",
   "execution_count": 30,
   "metadata": {},
   "outputs": [],
   "source": [
    "import requests as req \n",
    "\n",
    "import xmltodict"
   ]
  },
  {
   "cell_type": "code",
   "execution_count": 31,
   "metadata": {},
   "outputs": [],
   "source": [
    "url = 'http://www.ssn.unam.mx/rss/ultimos-sismos.xml'"
   ]
  },
  {
   "cell_type": "code",
   "execution_count": 33,
   "metadata": {},
   "outputs": [
    {
     "data": {
      "text/plain": [
       "dict_keys(['rss'])"
      ]
     },
     "execution_count": 33,
     "metadata": {},
     "output_type": "execute_result"
    }
   ],
   "source": [
    "data = req.get(url).text\n",
    "\n",
    "unam = xmltodict.parse(data)\n",
    "\n",
    "unam.keys()"
   ]
  },
  {
   "cell_type": "code",
   "execution_count": 35,
   "metadata": {},
   "outputs": [
    {
     "data": {
      "text/plain": [
       "dict_keys(['@version', '@xmlns:geo', 'channel'])"
      ]
     },
     "execution_count": 35,
     "metadata": {},
     "output_type": "execute_result"
    }
   ],
   "source": [
    "unam['rss'].keys()"
   ]
  },
  {
   "cell_type": "code",
   "execution_count": 38,
   "metadata": {},
   "outputs": [
    {
     "data": {
      "text/plain": [
       "{'title': '4.1, 80 km al SURESTE de  CRUCECITA, OAX',\n",
       " 'description': '<p>Fecha:2023-08-01 02:08:38 (Hora de M&eacute;xico)<br/>Lat/Lon: 15.49/-95.44<br/>Profundidad: 23.6 km </p>',\n",
       " 'link': 'http://www2.ssn.unam.mx:8080/jsp/localizacion-de-sismo.jsp?latitud=15.49&longitud=-95.44&prf=23.6 km&ma=4.1&fecha=2023-08-01&hora=02:08:38&loc=80 km al SURESTE de  CRUCECITA, OAX &evento=1',\n",
       " 'geo:lat': '15.49',\n",
       " 'geo:long': '-95.44'}"
      ]
     },
     "execution_count": 38,
     "metadata": {},
     "output_type": "execute_result"
    }
   ],
   "source": [
    "unam['rss']['channel']['item'][0]"
   ]
  },
  {
   "cell_type": "code",
   "execution_count": 39,
   "metadata": {},
   "outputs": [
    {
     "data": {
      "text/plain": [
       "15"
      ]
     },
     "execution_count": 39,
     "metadata": {},
     "output_type": "execute_result"
    }
   ],
   "source": [
    "len(unam['rss']['channel']['item'])"
   ]
  },
  {
   "cell_type": "markdown",
   "metadata": {},
   "source": [
    "También podemos pasar los datos a un dataframe:"
   ]
  },
  {
   "cell_type": "code",
   "execution_count": 40,
   "metadata": {},
   "outputs": [],
   "source": [
    "import pandas as pd"
   ]
  },
  {
   "cell_type": "code",
   "execution_count": 41,
   "metadata": {},
   "outputs": [
    {
     "data": {
      "text/html": [
       "<div>\n",
       "<style scoped>\n",
       "    .dataframe tbody tr th:only-of-type {\n",
       "        vertical-align: middle;\n",
       "    }\n",
       "\n",
       "    .dataframe tbody tr th {\n",
       "        vertical-align: top;\n",
       "    }\n",
       "\n",
       "    .dataframe thead th {\n",
       "        text-align: right;\n",
       "    }\n",
       "</style>\n",
       "<table border=\"1\" class=\"dataframe\">\n",
       "  <thead>\n",
       "    <tr style=\"text-align: right;\">\n",
       "      <th></th>\n",
       "      <th>title</th>\n",
       "      <th>description</th>\n",
       "      <th>link</th>\n",
       "      <th>geo:lat</th>\n",
       "      <th>geo:long</th>\n",
       "    </tr>\n",
       "  </thead>\n",
       "  <tbody>\n",
       "    <tr>\n",
       "      <th>0</th>\n",
       "      <td>4.1, 80 km al SURESTE de  CRUCECITA, OAX</td>\n",
       "      <td>&lt;p&gt;Fecha:2023-08-01 02:08:38 (Hora de M&amp;eacute...</td>\n",
       "      <td>http://www2.ssn.unam.mx:8080/jsp/localizacion-...</td>\n",
       "      <td>15.49</td>\n",
       "      <td>-95.44</td>\n",
       "    </tr>\n",
       "    <tr>\n",
       "      <th>1</th>\n",
       "      <td>3.7, 134 km al SUROESTE de  PIJIJIAPAN, CHIS</td>\n",
       "      <td>&lt;p&gt;Fecha:2023-07-31 17:00:49 (Hora de M&amp;eacute...</td>\n",
       "      <td>http://www2.ssn.unam.mx:8080/jsp/localizacion-...</td>\n",
       "      <td>14.84</td>\n",
       "      <td>-94.11</td>\n",
       "    </tr>\n",
       "    <tr>\n",
       "      <th>2</th>\n",
       "      <td>3.7, 86 km al SURESTE de  SALINA CRUZ, OAX</td>\n",
       "      <td>&lt;p&gt;Fecha:2023-07-31 16:19:48 (Hora de M&amp;eacute...</td>\n",
       "      <td>http://www2.ssn.unam.mx:8080/jsp/localizacion-...</td>\n",
       "      <td>15.47</td>\n",
       "      <td>-94.88</td>\n",
       "    </tr>\n",
       "    <tr>\n",
       "      <th>3</th>\n",
       "      <td>4.0, 10 km al SUROESTE de  CRUCECITA, OAX</td>\n",
       "      <td>&lt;p&gt;Fecha:2023-07-31 16:11:41 (Hora de M&amp;eacute...</td>\n",
       "      <td>http://www2.ssn.unam.mx:8080/jsp/localizacion-...</td>\n",
       "      <td>15.71</td>\n",
       "      <td>-96.21</td>\n",
       "    </tr>\n",
       "    <tr>\n",
       "      <th>4</th>\n",
       "      <td>4.7, 36 km al ESTE de  PINOTEPA NACIONAL, OAX</td>\n",
       "      <td>&lt;p&gt;Fecha:2023-07-31 15:51:20 (Hora de M&amp;eacute...</td>\n",
       "      <td>http://www2.ssn.unam.mx:8080/jsp/localizacion-...</td>\n",
       "      <td>16.29</td>\n",
       "      <td>-97.72</td>\n",
       "    </tr>\n",
       "    <tr>\n",
       "      <th>5</th>\n",
       "      <td>3.8, 55 km al SUROESTE de  ARCELIA, GRO</td>\n",
       "      <td>&lt;p&gt;Fecha:2023-07-31 15:09:31 (Hora de M&amp;eacute...</td>\n",
       "      <td>http://www2.ssn.unam.mx:8080/jsp/localizacion-...</td>\n",
       "      <td>17.84</td>\n",
       "      <td>-100.43</td>\n",
       "    </tr>\n",
       "    <tr>\n",
       "      <th>6</th>\n",
       "      <td>3.1, 38 km al NOROESTE de  COQUIMATLAN, COL</td>\n",
       "      <td>&lt;p&gt;Fecha:2023-07-31 14:58:33 (Hora de M&amp;eacute...</td>\n",
       "      <td>http://www2.ssn.unam.mx:8080/jsp/localizacion-...</td>\n",
       "      <td>19.38</td>\n",
       "      <td>-104.12</td>\n",
       "    </tr>\n",
       "    <tr>\n",
       "      <th>7</th>\n",
       "      <td>3.4, 11 km al SURESTE de  AUTLAN DE NAVARRO, JAL</td>\n",
       "      <td>&lt;p&gt;Fecha:2023-07-31 14:50:48 (Hora de M&amp;eacute...</td>\n",
       "      <td>http://www2.ssn.unam.mx:8080/jsp/localizacion-...</td>\n",
       "      <td>19.72</td>\n",
       "      <td>-104.28</td>\n",
       "    </tr>\n",
       "    <tr>\n",
       "      <th>8</th>\n",
       "      <td>3.8, 25 km al SURESTE de  SAN MARCOS, GRO</td>\n",
       "      <td>&lt;p&gt;Fecha:2023-07-31 14:43:30 (Hora de M&amp;eacute...</td>\n",
       "      <td>http://www2.ssn.unam.mx:8080/jsp/localizacion-...</td>\n",
       "      <td>16.59</td>\n",
       "      <td>-99.29</td>\n",
       "    </tr>\n",
       "    <tr>\n",
       "      <th>9</th>\n",
       "      <td>3.5, 24 km al SUR de  OMETEPEC, GRO</td>\n",
       "      <td>&lt;p&gt;Fecha:2023-07-31 14:40:30 (Hora de M&amp;eacute...</td>\n",
       "      <td>http://www2.ssn.unam.mx:8080/jsp/localizacion-...</td>\n",
       "      <td>16.47</td>\n",
       "      <td>-98.45</td>\n",
       "    </tr>\n",
       "    <tr>\n",
       "      <th>10</th>\n",
       "      <td>3.7, 63 km al OESTE de  CINTALAPA, CHIS</td>\n",
       "      <td>&lt;p&gt;Fecha:2023-07-31 13:36:36 (Hora de M&amp;eacute...</td>\n",
       "      <td>http://www2.ssn.unam.mx:8080/jsp/localizacion-...</td>\n",
       "      <td>16.83</td>\n",
       "      <td>-94.3</td>\n",
       "    </tr>\n",
       "    <tr>\n",
       "      <th>11</th>\n",
       "      <td>3.5, 60 km al SURESTE de  TECOMAN, COL</td>\n",
       "      <td>&lt;p&gt;Fecha:2023-07-31 12:42:45 (Hora de M&amp;eacute...</td>\n",
       "      <td>http://www2.ssn.unam.mx:8080/jsp/localizacion-...</td>\n",
       "      <td>18.4</td>\n",
       "      <td>-103.69</td>\n",
       "    </tr>\n",
       "    <tr>\n",
       "      <th>12</th>\n",
       "      <td>4.2, 26 km al SURESTE de  TEAPA, TAB</td>\n",
       "      <td>&lt;p&gt;Fecha:2023-07-31 12:15:28 (Hora de M&amp;eacute...</td>\n",
       "      <td>http://www2.ssn.unam.mx:8080/jsp/localizacion-...</td>\n",
       "      <td>17.48</td>\n",
       "      <td>-92.72</td>\n",
       "    </tr>\n",
       "    <tr>\n",
       "      <th>13</th>\n",
       "      <td>3.7, 15 km al NOROESTE de  VICENTE GUERRERO, BC</td>\n",
       "      <td>&lt;p&gt;Fecha:2023-07-31 10:39:36 (Hora de M&amp;eacute...</td>\n",
       "      <td>http://www2.ssn.unam.mx:8080/jsp/localizacion-...</td>\n",
       "      <td>30.82</td>\n",
       "      <td>-116.1</td>\n",
       "    </tr>\n",
       "    <tr>\n",
       "      <th>14</th>\n",
       "      <td>3.4, 13 km al SUROESTE de  OMETEPEC, GRO</td>\n",
       "      <td>&lt;p&gt;Fecha:2023-07-31 10:19:37 (Hora de M&amp;eacute...</td>\n",
       "      <td>http://www2.ssn.unam.mx:8080/jsp/localizacion-...</td>\n",
       "      <td>16.58</td>\n",
       "      <td>-98.47</td>\n",
       "    </tr>\n",
       "  </tbody>\n",
       "</table>\n",
       "</div>"
      ],
      "text/plain": [
       "                                               title  \\\n",
       "0           4.1, 80 km al SURESTE de  CRUCECITA, OAX   \n",
       "1       3.7, 134 km al SUROESTE de  PIJIJIAPAN, CHIS   \n",
       "2         3.7, 86 km al SURESTE de  SALINA CRUZ, OAX   \n",
       "3          4.0, 10 km al SUROESTE de  CRUCECITA, OAX   \n",
       "4      4.7, 36 km al ESTE de  PINOTEPA NACIONAL, OAX   \n",
       "5            3.8, 55 km al SUROESTE de  ARCELIA, GRO   \n",
       "6        3.1, 38 km al NOROESTE de  COQUIMATLAN, COL   \n",
       "7   3.4, 11 km al SURESTE de  AUTLAN DE NAVARRO, JAL   \n",
       "8          3.8, 25 km al SURESTE de  SAN MARCOS, GRO   \n",
       "9                3.5, 24 km al SUR de  OMETEPEC, GRO   \n",
       "10           3.7, 63 km al OESTE de  CINTALAPA, CHIS   \n",
       "11            3.5, 60 km al SURESTE de  TECOMAN, COL   \n",
       "12              4.2, 26 km al SURESTE de  TEAPA, TAB   \n",
       "13   3.7, 15 km al NOROESTE de  VICENTE GUERRERO, BC   \n",
       "14          3.4, 13 km al SUROESTE de  OMETEPEC, GRO   \n",
       "\n",
       "                                          description  \\\n",
       "0   <p>Fecha:2023-08-01 02:08:38 (Hora de M&eacute...   \n",
       "1   <p>Fecha:2023-07-31 17:00:49 (Hora de M&eacute...   \n",
       "2   <p>Fecha:2023-07-31 16:19:48 (Hora de M&eacute...   \n",
       "3   <p>Fecha:2023-07-31 16:11:41 (Hora de M&eacute...   \n",
       "4   <p>Fecha:2023-07-31 15:51:20 (Hora de M&eacute...   \n",
       "5   <p>Fecha:2023-07-31 15:09:31 (Hora de M&eacute...   \n",
       "6   <p>Fecha:2023-07-31 14:58:33 (Hora de M&eacute...   \n",
       "7   <p>Fecha:2023-07-31 14:50:48 (Hora de M&eacute...   \n",
       "8   <p>Fecha:2023-07-31 14:43:30 (Hora de M&eacute...   \n",
       "9   <p>Fecha:2023-07-31 14:40:30 (Hora de M&eacute...   \n",
       "10  <p>Fecha:2023-07-31 13:36:36 (Hora de M&eacute...   \n",
       "11  <p>Fecha:2023-07-31 12:42:45 (Hora de M&eacute...   \n",
       "12  <p>Fecha:2023-07-31 12:15:28 (Hora de M&eacute...   \n",
       "13  <p>Fecha:2023-07-31 10:39:36 (Hora de M&eacute...   \n",
       "14  <p>Fecha:2023-07-31 10:19:37 (Hora de M&eacute...   \n",
       "\n",
       "                                                 link geo:lat geo:long  \n",
       "0   http://www2.ssn.unam.mx:8080/jsp/localizacion-...   15.49   -95.44  \n",
       "1   http://www2.ssn.unam.mx:8080/jsp/localizacion-...   14.84   -94.11  \n",
       "2   http://www2.ssn.unam.mx:8080/jsp/localizacion-...   15.47   -94.88  \n",
       "3   http://www2.ssn.unam.mx:8080/jsp/localizacion-...   15.71   -96.21  \n",
       "4   http://www2.ssn.unam.mx:8080/jsp/localizacion-...   16.29   -97.72  \n",
       "5   http://www2.ssn.unam.mx:8080/jsp/localizacion-...   17.84  -100.43  \n",
       "6   http://www2.ssn.unam.mx:8080/jsp/localizacion-...   19.38  -104.12  \n",
       "7   http://www2.ssn.unam.mx:8080/jsp/localizacion-...   19.72  -104.28  \n",
       "8   http://www2.ssn.unam.mx:8080/jsp/localizacion-...   16.59   -99.29  \n",
       "9   http://www2.ssn.unam.mx:8080/jsp/localizacion-...   16.47   -98.45  \n",
       "10  http://www2.ssn.unam.mx:8080/jsp/localizacion-...   16.83    -94.3  \n",
       "11  http://www2.ssn.unam.mx:8080/jsp/localizacion-...    18.4  -103.69  \n",
       "12  http://www2.ssn.unam.mx:8080/jsp/localizacion-...   17.48   -92.72  \n",
       "13  http://www2.ssn.unam.mx:8080/jsp/localizacion-...   30.82   -116.1  \n",
       "14  http://www2.ssn.unam.mx:8080/jsp/localizacion-...   16.58   -98.47  "
      ]
     },
     "execution_count": 41,
     "metadata": {},
     "output_type": "execute_result"
    }
   ],
   "source": [
    "pd.DataFrame(unam['rss']['channel']['item'])"
   ]
  },
  {
   "cell_type": "markdown",
   "metadata": {},
   "source": [
    "Como vemos, los datos no están organizados como nos gustaría. Procedemos a un ejemplo de transformación de los datos.\n",
    "\n"
   ]
  },
  {
   "cell_type": "markdown",
   "metadata": {},
   "source": [
    "**Ejemplo Extraer-Transformar de manera funcional:**"
   ]
  },
  {
   "cell_type": "code",
   "execution_count": 42,
   "metadata": {},
   "outputs": [],
   "source": [
    "# funcion para extraer el dictio del xml\n",
    "\n",
    "\n",
    "def get_xml():\n",
    "    \n",
    "    url = 'http://www.ssn.unam.mx/rss/ultimos-sismos.xml'\n",
    "    \n",
    "    data = req.get(url).text\n",
    "\n",
    "    unam = xmltodict.parse(data)\n",
    "    \n",
    "    return unam"
   ]
  },
  {
   "cell_type": "code",
   "execution_count": 43,
   "metadata": {},
   "outputs": [
    {
     "data": {
      "text/plain": [
       "dict_keys(['rss'])"
      ]
     },
     "execution_count": 43,
     "metadata": {},
     "output_type": "execute_result"
    }
   ],
   "source": [
    "get_xml().keys()"
   ]
  },
  {
   "cell_type": "code",
   "execution_count": 50,
   "metadata": {},
   "outputs": [
    {
     "data": {
      "text/plain": [
       "['latitud=15.49',\n",
       " 'longitud=-95.44',\n",
       " 'prf=23.6 km',\n",
       " 'ma=4.1',\n",
       " 'fecha=2023-08-01',\n",
       " 'hora=02:08:38',\n",
       " 'loc=80 km al SURESTE de  CRUCECITA, OAX ']"
      ]
     },
     "execution_count": 50,
     "metadata": {},
     "output_type": "execute_result"
    }
   ],
   "source": [
    "link = 'http://www2.ssn.unam.mx:8080/jsp/localizacion-de-sismo.jsp?latitud=15.49&longitud=-95.44&prf=23.6 km&ma=4.1&fecha=2023-08-01&hora=02:08:38&loc=80 km al SURESTE de  CRUCECITA, OAX &evento=1'\n",
    "\n",
    "\n",
    "link.split('?')[1].split('&')[:-1]"
   ]
  },
  {
   "cell_type": "code",
   "execution_count": 52,
   "metadata": {},
   "outputs": [],
   "source": [
    "def get_clean_data():\n",
    "    \n",
    "    dictio = get_xml()\n",
    "    \n",
    "    res = []\n",
    "    \n",
    "    for item in dictio['rss']['channel']['item']:\n",
    "        \n",
    "        link = item['link']\n",
    "        \n",
    "        \n",
    "        # link roto por el simbolo ? y luego por &\n",
    "        raw_data = link.split('?')[1].split('&')[:-1]\n",
    "        \n",
    "        # queda una lista de listas con k,v\n",
    "        raw_data = [e.split('=') for e in raw_data]\n",
    "        \n",
    "        \n",
    "        data = {k:v for k,v in raw_data}\n",
    "        \n",
    "        res.append(data)\n",
    "        \n",
    "    return res"
   ]
  },
  {
   "cell_type": "code",
   "execution_count": 54,
   "metadata": {},
   "outputs": [],
   "source": [
    "sismo = pd.DataFrame(get_clean_data())"
   ]
  },
  {
   "cell_type": "code",
   "execution_count": 55,
   "metadata": {},
   "outputs": [
    {
     "data": {
      "text/html": [
       "<div>\n",
       "<style scoped>\n",
       "    .dataframe tbody tr th:only-of-type {\n",
       "        vertical-align: middle;\n",
       "    }\n",
       "\n",
       "    .dataframe tbody tr th {\n",
       "        vertical-align: top;\n",
       "    }\n",
       "\n",
       "    .dataframe thead th {\n",
       "        text-align: right;\n",
       "    }\n",
       "</style>\n",
       "<table border=\"1\" class=\"dataframe\">\n",
       "  <thead>\n",
       "    <tr style=\"text-align: right;\">\n",
       "      <th></th>\n",
       "      <th>latitud</th>\n",
       "      <th>longitud</th>\n",
       "      <th>prf</th>\n",
       "      <th>ma</th>\n",
       "      <th>fecha</th>\n",
       "      <th>hora</th>\n",
       "      <th>loc</th>\n",
       "    </tr>\n",
       "  </thead>\n",
       "  <tbody>\n",
       "    <tr>\n",
       "      <th>0</th>\n",
       "      <td>15.49</td>\n",
       "      <td>-95.44</td>\n",
       "      <td>23.6 km</td>\n",
       "      <td>4.1</td>\n",
       "      <td>2023-08-01</td>\n",
       "      <td>02:08:38</td>\n",
       "      <td>80 km al SURESTE de  CRUCECITA, OAX</td>\n",
       "    </tr>\n",
       "    <tr>\n",
       "      <th>1</th>\n",
       "      <td>14.84</td>\n",
       "      <td>-94.11</td>\n",
       "      <td>29.8 km</td>\n",
       "      <td>3.7</td>\n",
       "      <td>2023-07-31</td>\n",
       "      <td>17:00:49</td>\n",
       "      <td>134 km al SUROESTE de  PIJIJIAPAN, CHIS</td>\n",
       "    </tr>\n",
       "    <tr>\n",
       "      <th>2</th>\n",
       "      <td>15.47</td>\n",
       "      <td>-94.88</td>\n",
       "      <td>10.8 km</td>\n",
       "      <td>3.7</td>\n",
       "      <td>2023-07-31</td>\n",
       "      <td>16:19:48</td>\n",
       "      <td>86 km al SURESTE de  SALINA CRUZ, OAX</td>\n",
       "    </tr>\n",
       "    <tr>\n",
       "      <th>3</th>\n",
       "      <td>15.71</td>\n",
       "      <td>-96.21</td>\n",
       "      <td>38.7 km</td>\n",
       "      <td>4.0</td>\n",
       "      <td>2023-07-31</td>\n",
       "      <td>16:11:41</td>\n",
       "      <td>10 km al SUROESTE de  CRUCECITA, OAX</td>\n",
       "    </tr>\n",
       "    <tr>\n",
       "      <th>4</th>\n",
       "      <td>16.29</td>\n",
       "      <td>-97.72</td>\n",
       "      <td>15.6 km</td>\n",
       "      <td>4.7</td>\n",
       "      <td>2023-07-31</td>\n",
       "      <td>15:51:20</td>\n",
       "      <td>36 km al ESTE de  PINOTEPA NACIONAL, OAX</td>\n",
       "    </tr>\n",
       "    <tr>\n",
       "      <th>5</th>\n",
       "      <td>17.84</td>\n",
       "      <td>-100.43</td>\n",
       "      <td>59.5 km</td>\n",
       "      <td>3.8</td>\n",
       "      <td>2023-07-31</td>\n",
       "      <td>15:09:31</td>\n",
       "      <td>55 km al SUROESTE de  ARCELIA, GRO</td>\n",
       "    </tr>\n",
       "    <tr>\n",
       "      <th>6</th>\n",
       "      <td>19.38</td>\n",
       "      <td>-104.12</td>\n",
       "      <td>16.4 km</td>\n",
       "      <td>3.1</td>\n",
       "      <td>2023-07-31</td>\n",
       "      <td>14:58:33</td>\n",
       "      <td>38 km al NOROESTE de  COQUIMATLAN, COL</td>\n",
       "    </tr>\n",
       "    <tr>\n",
       "      <th>7</th>\n",
       "      <td>19.72</td>\n",
       "      <td>-104.28</td>\n",
       "      <td>4.6 km</td>\n",
       "      <td>3.4</td>\n",
       "      <td>2023-07-31</td>\n",
       "      <td>14:50:48</td>\n",
       "      <td>11 km al SURESTE de  AUTLAN DE NAVARRO, JAL</td>\n",
       "    </tr>\n",
       "    <tr>\n",
       "      <th>8</th>\n",
       "      <td>16.59</td>\n",
       "      <td>-99.29</td>\n",
       "      <td>3.2 km</td>\n",
       "      <td>3.8</td>\n",
       "      <td>2023-07-31</td>\n",
       "      <td>14:43:30</td>\n",
       "      <td>25 km al SURESTE de  SAN MARCOS, GRO</td>\n",
       "    </tr>\n",
       "    <tr>\n",
       "      <th>9</th>\n",
       "      <td>16.47</td>\n",
       "      <td>-98.45</td>\n",
       "      <td>5.7 km</td>\n",
       "      <td>3.5</td>\n",
       "      <td>2023-07-31</td>\n",
       "      <td>14:40:30</td>\n",
       "      <td>24 km al SUR de  OMETEPEC, GRO</td>\n",
       "    </tr>\n",
       "    <tr>\n",
       "      <th>10</th>\n",
       "      <td>16.83</td>\n",
       "      <td>-94.3</td>\n",
       "      <td>125.1 km</td>\n",
       "      <td>3.7</td>\n",
       "      <td>2023-07-31</td>\n",
       "      <td>13:36:36</td>\n",
       "      <td>63 km al OESTE de  CINTALAPA, CHIS</td>\n",
       "    </tr>\n",
       "    <tr>\n",
       "      <th>11</th>\n",
       "      <td>18.4</td>\n",
       "      <td>-103.69</td>\n",
       "      <td>10.0 km</td>\n",
       "      <td>3.5</td>\n",
       "      <td>2023-07-31</td>\n",
       "      <td>12:42:45</td>\n",
       "      <td>60 km al SURESTE de  TECOMAN, COL</td>\n",
       "    </tr>\n",
       "    <tr>\n",
       "      <th>12</th>\n",
       "      <td>17.48</td>\n",
       "      <td>-92.72</td>\n",
       "      <td>5.0 km</td>\n",
       "      <td>4.2</td>\n",
       "      <td>2023-07-31</td>\n",
       "      <td>12:15:28</td>\n",
       "      <td>26 km al SURESTE de  TEAPA, TAB</td>\n",
       "    </tr>\n",
       "    <tr>\n",
       "      <th>13</th>\n",
       "      <td>30.82</td>\n",
       "      <td>-116.1</td>\n",
       "      <td>10.0 km</td>\n",
       "      <td>3.7</td>\n",
       "      <td>2023-07-31</td>\n",
       "      <td>10:39:36</td>\n",
       "      <td>15 km al NOROESTE de  VICENTE GUERRERO, BC</td>\n",
       "    </tr>\n",
       "    <tr>\n",
       "      <th>14</th>\n",
       "      <td>16.58</td>\n",
       "      <td>-98.47</td>\n",
       "      <td>15.3 km</td>\n",
       "      <td>3.4</td>\n",
       "      <td>2023-07-31</td>\n",
       "      <td>10:19:37</td>\n",
       "      <td>13 km al SUROESTE de  OMETEPEC, GRO</td>\n",
       "    </tr>\n",
       "  </tbody>\n",
       "</table>\n",
       "</div>"
      ],
      "text/plain": [
       "   latitud longitud       prf   ma       fecha      hora  \\\n",
       "0    15.49   -95.44   23.6 km  4.1  2023-08-01  02:08:38   \n",
       "1    14.84   -94.11   29.8 km  3.7  2023-07-31  17:00:49   \n",
       "2    15.47   -94.88   10.8 km  3.7  2023-07-31  16:19:48   \n",
       "3    15.71   -96.21   38.7 km  4.0  2023-07-31  16:11:41   \n",
       "4    16.29   -97.72   15.6 km  4.7  2023-07-31  15:51:20   \n",
       "5    17.84  -100.43   59.5 km  3.8  2023-07-31  15:09:31   \n",
       "6    19.38  -104.12   16.4 km  3.1  2023-07-31  14:58:33   \n",
       "7    19.72  -104.28    4.6 km  3.4  2023-07-31  14:50:48   \n",
       "8    16.59   -99.29    3.2 km  3.8  2023-07-31  14:43:30   \n",
       "9    16.47   -98.45    5.7 km  3.5  2023-07-31  14:40:30   \n",
       "10   16.83    -94.3  125.1 km  3.7  2023-07-31  13:36:36   \n",
       "11    18.4  -103.69   10.0 km  3.5  2023-07-31  12:42:45   \n",
       "12   17.48   -92.72    5.0 km  4.2  2023-07-31  12:15:28   \n",
       "13   30.82   -116.1   10.0 km  3.7  2023-07-31  10:39:36   \n",
       "14   16.58   -98.47   15.3 km  3.4  2023-07-31  10:19:37   \n",
       "\n",
       "                                             loc  \n",
       "0           80 km al SURESTE de  CRUCECITA, OAX   \n",
       "1       134 km al SUROESTE de  PIJIJIAPAN, CHIS   \n",
       "2         86 km al SURESTE de  SALINA CRUZ, OAX   \n",
       "3          10 km al SUROESTE de  CRUCECITA, OAX   \n",
       "4      36 km al ESTE de  PINOTEPA NACIONAL, OAX   \n",
       "5            55 km al SUROESTE de  ARCELIA, GRO   \n",
       "6        38 km al NOROESTE de  COQUIMATLAN, COL   \n",
       "7   11 km al SURESTE de  AUTLAN DE NAVARRO, JAL   \n",
       "8          25 km al SURESTE de  SAN MARCOS, GRO   \n",
       "9                24 km al SUR de  OMETEPEC, GRO   \n",
       "10           63 km al OESTE de  CINTALAPA, CHIS   \n",
       "11            60 km al SURESTE de  TECOMAN, COL   \n",
       "12              26 km al SURESTE de  TEAPA, TAB   \n",
       "13   15 km al NOROESTE de  VICENTE GUERRERO, BC   \n",
       "14          13 km al SUROESTE de  OMETEPEC, GRO   "
      ]
     },
     "execution_count": 55,
     "metadata": {},
     "output_type": "execute_result"
    }
   ],
   "source": [
    "sismo"
   ]
  },
  {
   "cell_type": "code",
   "execution_count": null,
   "metadata": {},
   "outputs": [],
   "source": []
  },
  {
   "cell_type": "code",
   "execution_count": null,
   "metadata": {},
   "outputs": [],
   "source": []
  }
 ],
 "metadata": {
  "kernelspec": {
   "display_name": "clase",
   "language": "python",
   "name": "clase"
  },
  "language_info": {
   "codemirror_mode": {
    "name": "ipython",
    "version": 3
   },
   "file_extension": ".py",
   "mimetype": "text/x-python",
   "name": "python",
   "nbconvert_exporter": "python",
   "pygments_lexer": "ipython3",
   "version": "3.9.12"
  }
 },
 "nbformat": 4,
 "nbformat_minor": 4
}
