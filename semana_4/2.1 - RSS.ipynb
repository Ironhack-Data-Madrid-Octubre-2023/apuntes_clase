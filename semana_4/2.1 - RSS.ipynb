{
 "cells": [
  {
   "cell_type": "markdown",
   "metadata": {},
   "source": [
    "# 2.1 - RSS\n",
    "\n",
    "$$$$\n",
    "\n",
    "![rss](images/rss.png)\n",
    "\n"
   ]
  },
  {
   "cell_type": "markdown",
   "metadata": {},
   "source": [
    "RSS son las siglas de **Really Simple Syndication**, un formato XML para distribuir contenido en la web. Se utiliza para difundir información actualizada frecuentemente a usuarios que se han suscrito a la fuente de contenidos. El formato permite distribuir contenidos sin necesidad de un navegador, utilizando programas llamados agregadores de noticias, diseñados para leer contenidos RSS. A pesar de eso, es posible utilizar el mismo navegador para ver los contenidos RSS. Las últimas versiones de los principales navegadores permiten leer los RSS sin necesidad de programas adicionales. RSS es parte de la familia de los formatos XML, desarrollado específicamente para todo tipo de sitios que se actualicen con frecuencia y por medio del cual se puede compartir la información y usarla en otros sitios web o programas. A esto se le conoce como redifusión web o sindicación web .\n",
    "\n",
    "\n",
    "En el archivo RSS simplemente están los datos de las novedades del sitio, como el título, fecha de publicación o la descripción. El programa que lea el RSS será encargado de darle estilo o apariencia a los datos que se incluyan en el archivo y presentarlos de una manera atractiva al usuario y de fácil lectura.\n",
    "\n",
    "Que RSS sea un formato basado en XML significa que el archivo RSS se compone por una serie de etiquetas definidas que tendrán un formato dado, y que respetará las reglas generales de XML. Este archivo normalmente es nombrado index.xml y se encuentra ubicado en la página principal.\n",
    "\n",
    "Vale aclarar que RSS no es un protocolo, dado que no contempla parámetros de ningún tipo. No es posible definir mediante una consulta un criterio de búsqueda. \n"
   ]
  },
  {
   "cell_type": "markdown",
   "metadata": {},
   "source": [
    "## Trabajando con RSS\n",
    "\n",
    "Normalmente, el feed del RSS corresponde a un archivo con la extensión .rss. Tenemos una herramienta perfecta para manejar ese tipo de feed."
   ]
  },
  {
   "cell_type": "code",
   "execution_count": null,
   "metadata": {},
   "outputs": [],
   "source": [
    "%pip install feedparser"
   ]
  },
  {
   "cell_type": "code",
   "execution_count": 1,
   "metadata": {},
   "outputs": [],
   "source": [
    "import feedparser"
   ]
  },
  {
   "cell_type": "markdown",
   "metadata": {},
   "source": [
    "### [Reddit](https://www.reddit.com/r/news/.rss) RSS\n",
    "\n",
    "Para extraer el contenido, tan solo pasamos la url del RSS al feedparser."
   ]
  },
  {
   "cell_type": "code",
   "execution_count": 2,
   "metadata": {},
   "outputs": [],
   "source": [
    "reddit = feedparser.parse('https://www.reddit.com/r/news/.rss')"
   ]
  },
  {
   "cell_type": "code",
   "execution_count": 4,
   "metadata": {},
   "outputs": [
    {
     "data": {
      "text/plain": [
       "feedparser.util.FeedParserDict"
      ]
     },
     "execution_count": 4,
     "metadata": {},
     "output_type": "execute_result"
    }
   ],
   "source": [
    "type(reddit)"
   ]
  },
  {
   "cell_type": "code",
   "execution_count": 5,
   "metadata": {},
   "outputs": [
    {
     "data": {
      "text/plain": [
       "dict_keys(['bozo', 'entries', 'feed', 'headers', 'href', 'status', 'encoding', 'version', 'namespaces'])"
      ]
     },
     "execution_count": 5,
     "metadata": {},
     "output_type": "execute_result"
    }
   ],
   "source": [
    "reddit.keys()"
   ]
  },
  {
   "cell_type": "code",
   "execution_count": 8,
   "metadata": {},
   "outputs": [
    {
     "data": {
      "text/plain": [
       "dict_keys(['authors', 'author_detail', 'href', 'author', 'tags', 'content', 'summary', 'id', 'guidislink', 'link', 'links', 'updated', 'updated_parsed', 'published', 'published_parsed', 'title', 'title_detail'])"
      ]
     },
     "execution_count": 8,
     "metadata": {},
     "output_type": "execute_result"
    }
   ],
   "source": [
    "reddit['entries'][0].keys()"
   ]
  },
  {
   "cell_type": "code",
   "execution_count": 9,
   "metadata": {},
   "outputs": [
    {
     "data": {
      "text/plain": [
       "[{'type': 'text/html',\n",
       "  'language': None,\n",
       "  'base': 'https://www.reddit.com/r/news/.rss',\n",
       "  'value': '&#32; submitted by &#32; <a href=\"https://www.reddit.com/user/Aaron_757_\"> /u/Aaron_757_ </a> <br /> <span><a href=\"https://www.cnn.com/2023/10/30/middleeast/shani-louk-dead-israel-intl/index.html\">[link]</a></span> &#32; <span><a href=\"https://www.reddit.com/r/news/comments/17k7erx/shani_louk_23yearold_kidnapped_from_music/\">[comments]</a></span>'}]"
      ]
     },
     "execution_count": 9,
     "metadata": {},
     "output_type": "execute_result"
    }
   ],
   "source": [
    "reddit['entries'][0]['content']"
   ]
  },
  {
   "cell_type": "markdown",
   "metadata": {},
   "source": [
    "### [Nasa](https://www.nasa.gov/content/nasa-rss-feeds) RSS"
   ]
  },
  {
   "cell_type": "code",
   "execution_count": 10,
   "metadata": {},
   "outputs": [],
   "source": [
    "nasa = feedparser.parse('https://www.nasa.gov/feeds/iotd-feed/')"
   ]
  },
  {
   "cell_type": "code",
   "execution_count": 11,
   "metadata": {},
   "outputs": [
    {
     "data": {
      "text/plain": [
       "dict_keys(['bozo', 'entries', 'feed', 'headers', 'etag', 'updated', 'updated_parsed', 'href', 'status', 'encoding', 'version', 'namespaces'])"
      ]
     },
     "execution_count": 11,
     "metadata": {},
     "output_type": "execute_result"
    }
   ],
   "source": [
    "nasa.keys()"
   ]
  },
  {
   "cell_type": "code",
   "execution_count": 17,
   "metadata": {},
   "outputs": [
    {
     "data": {
      "text/plain": [
       "'https://www.nasa.gov/wp-content/uploads/2023/10/iss070e000959-lrg.jpg'"
      ]
     },
     "execution_count": 17,
     "metadata": {},
     "output_type": "execute_result"
    }
   ],
   "source": [
    "nasa['entries'][0]['links'][-1]['href']"
   ]
  },
  {
   "cell_type": "code",
   "execution_count": 18,
   "metadata": {},
   "outputs": [],
   "source": [
    "url = nasa['entries'][0]['links'][-1]['href']"
   ]
  },
  {
   "cell_type": "code",
   "execution_count": 19,
   "metadata": {},
   "outputs": [
    {
     "data": {
      "text/html": [
       "<img src=\"https://www.nasa.gov/wp-content/uploads/2023/10/iss070e000959-lrg.jpg\"/>"
      ],
      "text/plain": [
       "<IPython.core.display.Image object>"
      ]
     },
     "metadata": {},
     "output_type": "display_data"
    }
   ],
   "source": [
    "from IPython.display import Image\n",
    "\n",
    "display(Image(url=url))"
   ]
  },
  {
   "cell_type": "markdown",
   "metadata": {},
   "source": [
    "### [ForexLive](https://www.forexlive.com/rss) RSS"
   ]
  },
  {
   "cell_type": "code",
   "execution_count": 20,
   "metadata": {},
   "outputs": [],
   "source": [
    "crypto = feedparser.parse('https://www.forexlive.com/feed/forexorders')"
   ]
  },
  {
   "cell_type": "code",
   "execution_count": 21,
   "metadata": {},
   "outputs": [
    {
     "data": {
      "text/plain": [
       "dict_keys(['bozo', 'entries', 'feed', 'headers', 'etag', 'href', 'status', 'encoding', 'version', 'namespaces'])"
      ]
     },
     "execution_count": 21,
     "metadata": {},
     "output_type": "execute_result"
    }
   ],
   "source": [
    "crypto.keys()"
   ]
  },
  {
   "cell_type": "code",
   "execution_count": 22,
   "metadata": {
    "scrolled": false
   },
   "outputs": [
    {
     "data": {
      "text/plain": [
       "{'title': 'FX option expiries for 31 October 10am New York cut',\n",
       " 'title_detail': {'type': 'text/plain',\n",
       "  'language': None,\n",
       "  'base': 'https://www.forexlive.com/feed/forexorders',\n",
       "  'value': 'FX option expiries for 31 October 10am New York cut'},\n",
       " 'comments': 'https://www.forexlive.com/Orders/fx-option-expiries-for-31-october-10am-new-york-cut-20231031/#respond',\n",
       " 'published': 'Tue, 31 Oct 2023 07:34:39 GMT',\n",
       " 'published_parsed': time.struct_time(tm_year=2023, tm_mon=10, tm_mday=31, tm_hour=7, tm_min=34, tm_sec=39, tm_wday=1, tm_yday=304, tm_isdst=0),\n",
       " 'authors': [{'name': 'Justin Low'}, {'name': 'www.forexlive.com'}],\n",
       " 'author': 'www.forexlive.com',\n",
       " 'author_detail': {'name': 'Justin Low'},\n",
       " 'tags': [{'term': 'Forex Orders', 'scheme': None, 'label': None}],\n",
       " 'id': 'https://www.forexlive.com/Orders/fx-option-expiries-for-31-october-10am-new-york-cut-20231031/',\n",
       " 'guidislink': True,\n",
       " 'link': 'https://www.forexlive.com/Orders/fx-option-expiries-for-31-october-10am-new-york-cut-20231031/',\n",
       " 'links': [{'rel': 'alternate',\n",
       "   'type': 'text/html',\n",
       "   'href': 'https://www.forexlive.com/Orders/fx-option-expiries-for-31-october-10am-new-york-cut-20231031/'}],\n",
       " 'summary': '<p class=\"text-align-justify\">There are a couple on the day to take note of, as highlighted in bold.</p><p class=\"text-align-justify\">The first being for EUR/USD at the 1.0600 mark, which could just keep price action more sticky in and around the figure level before rolling off later in the day. The euro will be a focus point amid economic data later on while the dollar is also a moving part at the moment as USD/JPY seeks to break above 150.00. The push and pull there could allow the expiries to be more of a magnet in the meantime perhaps.</p><p class=\"text-align-justify\">Then, there is the one for USD/JPY at 150.00, which could keep price action just above the 150.00 mark for now. If there are signs of exhaustion in the pair, we\\'ll get evidence of that once the expiries roll off later today I guess.</p><p class=\"text-align-justify\">For more information on how to use this data, you may refer to this post <a href=\"https://www.forexlive.com/Education/!/forexlive-education-option-contracts-their-impact-and-how-to-trade-off-them-20161116/\" rel=\"follow\" target=\"_blank\">here</a>.</p>\\n\\n                This article was written by Justin Low at www.forexlive.com.',\n",
       " 'summary_detail': {'type': 'text/html',\n",
       "  'language': None,\n",
       "  'base': 'https://www.forexlive.com/feed/forexorders',\n",
       "  'value': '<p class=\"text-align-justify\">There are a couple on the day to take note of, as highlighted in bold.</p><p class=\"text-align-justify\">The first being for EUR/USD at the 1.0600 mark, which could just keep price action more sticky in and around the figure level before rolling off later in the day. The euro will be a focus point amid economic data later on while the dollar is also a moving part at the moment as USD/JPY seeks to break above 150.00. The push and pull there could allow the expiries to be more of a magnet in the meantime perhaps.</p><p class=\"text-align-justify\">Then, there is the one for USD/JPY at 150.00, which could keep price action just above the 150.00 mark for now. If there are signs of exhaustion in the pair, we\\'ll get evidence of that once the expiries roll off later today I guess.</p><p class=\"text-align-justify\">For more information on how to use this data, you may refer to this post <a href=\"https://www.forexlive.com/Education/!/forexlive-education-option-contracts-their-impact-and-how-to-trade-off-them-20161116/\" rel=\"follow\" target=\"_blank\">here</a>.</p>\\n\\n                This article was written by Justin Low at www.forexlive.com.'}}"
      ]
     },
     "execution_count": 22,
     "metadata": {},
     "output_type": "execute_result"
    }
   ],
   "source": [
    "crypto['entries'][0]"
   ]
  },
  {
   "cell_type": "markdown",
   "metadata": {},
   "source": [
    "### [Unam](http://www.ssn.unam.mx) RSS\n",
    "\n",
    "A veces el RSS viene directamente en formato .xml\n",
    "\n",
    "Veremos como tratarlo."
   ]
  },
  {
   "cell_type": "code",
   "execution_count": null,
   "metadata": {},
   "outputs": [],
   "source": [
    "%pip install xmltodict"
   ]
  },
  {
   "cell_type": "code",
   "execution_count": 23,
   "metadata": {},
   "outputs": [],
   "source": [
    "import requests as req\n",
    "\n",
    "import xmltodict"
   ]
  },
  {
   "cell_type": "code",
   "execution_count": 25,
   "metadata": {},
   "outputs": [],
   "source": [
    "url = 'http://www.ssn.unam.mx/rss/ultimos-sismos.xml'"
   ]
  },
  {
   "cell_type": "code",
   "execution_count": 29,
   "metadata": {},
   "outputs": [],
   "source": [
    "data = req.get(url).text\n",
    "\n",
    "unam = xmltodict.parse(data)"
   ]
  },
  {
   "cell_type": "code",
   "execution_count": 32,
   "metadata": {},
   "outputs": [
    {
     "data": {
      "text/plain": [
       "dict_keys(['@version', '@xmlns:geo', 'channel'])"
      ]
     },
     "execution_count": 32,
     "metadata": {},
     "output_type": "execute_result"
    }
   ],
   "source": [
    "unam['rss'].keys()"
   ]
  },
  {
   "cell_type": "code",
   "execution_count": 37,
   "metadata": {},
   "outputs": [
    {
     "data": {
      "text/plain": [
       "{'title': '4.0, 41 km al SURESTE de  SAN MARCOS, GRO',\n",
       " 'description': '<p>Fecha:2023-10-30 16:45:45 (Hora de M&eacute;xico)<br/>Lat/Lon: 16.46/-99.23<br/>Profundidad: 11.4 km </p>',\n",
       " 'link': 'http://www2.ssn.unam.mx:8080/jsp/localizacion-de-sismo.jsp?latitud=16.46&longitud=-99.23&prf=11.4 km&ma=4.0&fecha=2023-10-30&hora=16:45:45&loc=41 km al SURESTE de  SAN MARCOS, GRO &evento=1',\n",
       " 'geo:lat': '16.46',\n",
       " 'geo:long': '-99.23'}"
      ]
     },
     "execution_count": 37,
     "metadata": {},
     "output_type": "execute_result"
    }
   ],
   "source": [
    "unam['rss']['channel']['item'][0]"
   ]
  },
  {
   "cell_type": "code",
   "execution_count": 38,
   "metadata": {},
   "outputs": [
    {
     "data": {
      "text/plain": [
       "15"
      ]
     },
     "execution_count": 38,
     "metadata": {},
     "output_type": "execute_result"
    }
   ],
   "source": [
    "len(unam['rss']['channel']['item'])"
   ]
  },
  {
   "cell_type": "markdown",
   "metadata": {},
   "source": [
    "También podemos pasar los datos a un dataframe:"
   ]
  },
  {
   "cell_type": "code",
   "execution_count": 39,
   "metadata": {},
   "outputs": [],
   "source": [
    "import pandas as pd"
   ]
  },
  {
   "cell_type": "code",
   "execution_count": 40,
   "metadata": {},
   "outputs": [
    {
     "data": {
      "text/html": [
       "<div>\n",
       "<style scoped>\n",
       "    .dataframe tbody tr th:only-of-type {\n",
       "        vertical-align: middle;\n",
       "    }\n",
       "\n",
       "    .dataframe tbody tr th {\n",
       "        vertical-align: top;\n",
       "    }\n",
       "\n",
       "    .dataframe thead th {\n",
       "        text-align: right;\n",
       "    }\n",
       "</style>\n",
       "<table border=\"1\" class=\"dataframe\">\n",
       "  <thead>\n",
       "    <tr style=\"text-align: right;\">\n",
       "      <th></th>\n",
       "      <th>title</th>\n",
       "      <th>description</th>\n",
       "      <th>link</th>\n",
       "      <th>geo:lat</th>\n",
       "      <th>geo:long</th>\n",
       "    </tr>\n",
       "  </thead>\n",
       "  <tbody>\n",
       "    <tr>\n",
       "      <th>0</th>\n",
       "      <td>4.0, 41 km al SURESTE de  SAN MARCOS, GRO</td>\n",
       "      <td>&lt;p&gt;Fecha:2023-10-30 16:45:45 (Hora de M&amp;eacute...</td>\n",
       "      <td>http://www2.ssn.unam.mx:8080/jsp/localizacion-...</td>\n",
       "      <td>16.46</td>\n",
       "      <td>-99.23</td>\n",
       "    </tr>\n",
       "    <tr>\n",
       "      <th>1</th>\n",
       "      <td>3.0, 92 km al SURESTE de  RODOLFO SANCHEZ T(MR...</td>\n",
       "      <td>&lt;p&gt;Fecha:2023-10-30 16:39:01 (Hora de M&amp;eacute...</td>\n",
       "      <td>http://www2.ssn.unam.mx:8080/jsp/localizacion-...</td>\n",
       "      <td>31.51</td>\n",
       "      <td>-115.64</td>\n",
       "    </tr>\n",
       "    <tr>\n",
       "      <th>2</th>\n",
       "      <td>3.7, 24 km al SUR de  TONALA, CHIS</td>\n",
       "      <td>&lt;p&gt;Fecha:2023-10-30 16:24:24 (Hora de M&amp;eacute...</td>\n",
       "      <td>http://www2.ssn.unam.mx:8080/jsp/localizacion-...</td>\n",
       "      <td>15.88</td>\n",
       "      <td>-93.79</td>\n",
       "    </tr>\n",
       "    <tr>\n",
       "      <th>3</th>\n",
       "      <td>3.5, 31 km al ESTE de  CIENEGA DE FLORES, NL</td>\n",
       "      <td>&lt;p&gt;Fecha:2023-10-30 15:59:02 (Hora de M&amp;eacute...</td>\n",
       "      <td>http://www2.ssn.unam.mx:8080/jsp/localizacion-...</td>\n",
       "      <td>26.02</td>\n",
       "      <td>-99.87</td>\n",
       "    </tr>\n",
       "    <tr>\n",
       "      <th>4</th>\n",
       "      <td>3.3, 17 km al ESTE de  TECOMAN, COL</td>\n",
       "      <td>&lt;p&gt;Fecha:2023-10-30 15:55:15 (Hora de M&amp;eacute...</td>\n",
       "      <td>http://www2.ssn.unam.mx:8080/jsp/localizacion-...</td>\n",
       "      <td>18.93</td>\n",
       "      <td>-103.71</td>\n",
       "    </tr>\n",
       "    <tr>\n",
       "      <th>5</th>\n",
       "      <td>3.4, 67 km al NORESTE de  UNION HIDALGO, OAX</td>\n",
       "      <td>&lt;p&gt;Fecha:2023-10-30 15:54:03 (Hora de M&amp;eacute...</td>\n",
       "      <td>http://www2.ssn.unam.mx:8080/jsp/localizacion-...</td>\n",
       "      <td>16.87</td>\n",
       "      <td>-94.35</td>\n",
       "    </tr>\n",
       "    <tr>\n",
       "      <th>6</th>\n",
       "      <td>3.3, 80 km al SUROESTE de  COALCOMAN, MICH</td>\n",
       "      <td>&lt;p&gt;Fecha:2023-10-30 15:29:01 (Hora de M&amp;eacute...</td>\n",
       "      <td>http://www2.ssn.unam.mx:8080/jsp/localizacion-...</td>\n",
       "      <td>18.08</td>\n",
       "      <td>-103.37</td>\n",
       "    </tr>\n",
       "    <tr>\n",
       "      <th>7</th>\n",
       "      <td>3.8, 87 km al SURESTE de  SALINA CRUZ, OAX</td>\n",
       "      <td>&lt;p&gt;Fecha:2023-10-30 14:16:51 (Hora de M&amp;eacute...</td>\n",
       "      <td>http://www2.ssn.unam.mx:8080/jsp/localizacion-...</td>\n",
       "      <td>15.46</td>\n",
       "      <td>-94.87</td>\n",
       "    </tr>\n",
       "    <tr>\n",
       "      <th>8</th>\n",
       "      <td>3.8, 8 km al ESTE de  S PEDRO POCHUTLA, OAX</td>\n",
       "      <td>&lt;p&gt;Fecha:2023-10-30 13:44:04 (Hora de M&amp;eacute...</td>\n",
       "      <td>http://www2.ssn.unam.mx:8080/jsp/localizacion-...</td>\n",
       "      <td>15.75</td>\n",
       "      <td>-96.39</td>\n",
       "    </tr>\n",
       "    <tr>\n",
       "      <th>9</th>\n",
       "      <td>3.8, 78 km al SUR de  COALCOMAN, MICH</td>\n",
       "      <td>&lt;p&gt;Fecha:2023-10-30 13:24:04 (Hora de M&amp;eacute...</td>\n",
       "      <td>http://www2.ssn.unam.mx:8080/jsp/localizacion-...</td>\n",
       "      <td>18.09</td>\n",
       "      <td>-103.33</td>\n",
       "    </tr>\n",
       "    <tr>\n",
       "      <th>10</th>\n",
       "      <td>3.8, 26 km al SUROESTE de  VICENTE GUERRERO, BC</td>\n",
       "      <td>&lt;p&gt;Fecha:2023-10-30 13:15:20 (Hora de M&amp;eacute...</td>\n",
       "      <td>http://www2.ssn.unam.mx:8080/jsp/localizacion-...</td>\n",
       "      <td>30.58</td>\n",
       "      <td>-116.2</td>\n",
       "    </tr>\n",
       "    <tr>\n",
       "      <th>11</th>\n",
       "      <td>3.3, 54 km al NORESTE de  VICENTE GUERRERO, BC</td>\n",
       "      <td>&lt;p&gt;Fecha:2023-10-30 12:01:55 (Hora de M&amp;eacute...</td>\n",
       "      <td>http://www2.ssn.unam.mx:8080/jsp/localizacion-...</td>\n",
       "      <td>31.19</td>\n",
       "      <td>-115.81</td>\n",
       "    </tr>\n",
       "    <tr>\n",
       "      <th>12</th>\n",
       "      <td>3.4, 5 km al SUROESTE de  OMETEPEC, GRO</td>\n",
       "      <td>&lt;p&gt;Fecha:2023-10-30 11:47:01 (Hora de M&amp;eacute...</td>\n",
       "      <td>http://www2.ssn.unam.mx:8080/jsp/localizacion-...</td>\n",
       "      <td>16.64</td>\n",
       "      <td>-98.43</td>\n",
       "    </tr>\n",
       "    <tr>\n",
       "      <th>13</th>\n",
       "      <td>3.8, 9 km al NORESTE de  ATOYAC DE ALVAREZ, GRO</td>\n",
       "      <td>&lt;p&gt;Fecha:2023-10-30 11:31:15 (Hora de M&amp;eacute...</td>\n",
       "      <td>http://www2.ssn.unam.mx:8080/jsp/localizacion-...</td>\n",
       "      <td>17.23</td>\n",
       "      <td>-100.36</td>\n",
       "    </tr>\n",
       "    <tr>\n",
       "      <th>14</th>\n",
       "      <td>3.2, 26 km al SUROESTE de  SAN FELIPE, BC</td>\n",
       "      <td>&lt;p&gt;Fecha:2023-10-30 11:24:18 (Hora de M&amp;eacute...</td>\n",
       "      <td>http://www2.ssn.unam.mx:8080/jsp/localizacion-...</td>\n",
       "      <td>30.88</td>\n",
       "      <td>-115.05</td>\n",
       "    </tr>\n",
       "  </tbody>\n",
       "</table>\n",
       "</div>"
      ],
      "text/plain": [
       "                                                title  \\\n",
       "0           4.0, 41 km al SURESTE de  SAN MARCOS, GRO   \n",
       "1   3.0, 92 km al SURESTE de  RODOLFO SANCHEZ T(MR...   \n",
       "2                  3.7, 24 km al SUR de  TONALA, CHIS   \n",
       "3        3.5, 31 km al ESTE de  CIENEGA DE FLORES, NL   \n",
       "4                 3.3, 17 km al ESTE de  TECOMAN, COL   \n",
       "5        3.4, 67 km al NORESTE de  UNION HIDALGO, OAX   \n",
       "6          3.3, 80 km al SUROESTE de  COALCOMAN, MICH   \n",
       "7          3.8, 87 km al SURESTE de  SALINA CRUZ, OAX   \n",
       "8         3.8, 8 km al ESTE de  S PEDRO POCHUTLA, OAX   \n",
       "9               3.8, 78 km al SUR de  COALCOMAN, MICH   \n",
       "10    3.8, 26 km al SUROESTE de  VICENTE GUERRERO, BC   \n",
       "11     3.3, 54 km al NORESTE de  VICENTE GUERRERO, BC   \n",
       "12            3.4, 5 km al SUROESTE de  OMETEPEC, GRO   \n",
       "13    3.8, 9 km al NORESTE de  ATOYAC DE ALVAREZ, GRO   \n",
       "14          3.2, 26 km al SUROESTE de  SAN FELIPE, BC   \n",
       "\n",
       "                                          description  \\\n",
       "0   <p>Fecha:2023-10-30 16:45:45 (Hora de M&eacute...   \n",
       "1   <p>Fecha:2023-10-30 16:39:01 (Hora de M&eacute...   \n",
       "2   <p>Fecha:2023-10-30 16:24:24 (Hora de M&eacute...   \n",
       "3   <p>Fecha:2023-10-30 15:59:02 (Hora de M&eacute...   \n",
       "4   <p>Fecha:2023-10-30 15:55:15 (Hora de M&eacute...   \n",
       "5   <p>Fecha:2023-10-30 15:54:03 (Hora de M&eacute...   \n",
       "6   <p>Fecha:2023-10-30 15:29:01 (Hora de M&eacute...   \n",
       "7   <p>Fecha:2023-10-30 14:16:51 (Hora de M&eacute...   \n",
       "8   <p>Fecha:2023-10-30 13:44:04 (Hora de M&eacute...   \n",
       "9   <p>Fecha:2023-10-30 13:24:04 (Hora de M&eacute...   \n",
       "10  <p>Fecha:2023-10-30 13:15:20 (Hora de M&eacute...   \n",
       "11  <p>Fecha:2023-10-30 12:01:55 (Hora de M&eacute...   \n",
       "12  <p>Fecha:2023-10-30 11:47:01 (Hora de M&eacute...   \n",
       "13  <p>Fecha:2023-10-30 11:31:15 (Hora de M&eacute...   \n",
       "14  <p>Fecha:2023-10-30 11:24:18 (Hora de M&eacute...   \n",
       "\n",
       "                                                 link geo:lat geo:long  \n",
       "0   http://www2.ssn.unam.mx:8080/jsp/localizacion-...   16.46   -99.23  \n",
       "1   http://www2.ssn.unam.mx:8080/jsp/localizacion-...   31.51  -115.64  \n",
       "2   http://www2.ssn.unam.mx:8080/jsp/localizacion-...   15.88   -93.79  \n",
       "3   http://www2.ssn.unam.mx:8080/jsp/localizacion-...   26.02   -99.87  \n",
       "4   http://www2.ssn.unam.mx:8080/jsp/localizacion-...   18.93  -103.71  \n",
       "5   http://www2.ssn.unam.mx:8080/jsp/localizacion-...   16.87   -94.35  \n",
       "6   http://www2.ssn.unam.mx:8080/jsp/localizacion-...   18.08  -103.37  \n",
       "7   http://www2.ssn.unam.mx:8080/jsp/localizacion-...   15.46   -94.87  \n",
       "8   http://www2.ssn.unam.mx:8080/jsp/localizacion-...   15.75   -96.39  \n",
       "9   http://www2.ssn.unam.mx:8080/jsp/localizacion-...   18.09  -103.33  \n",
       "10  http://www2.ssn.unam.mx:8080/jsp/localizacion-...   30.58   -116.2  \n",
       "11  http://www2.ssn.unam.mx:8080/jsp/localizacion-...   31.19  -115.81  \n",
       "12  http://www2.ssn.unam.mx:8080/jsp/localizacion-...   16.64   -98.43  \n",
       "13  http://www2.ssn.unam.mx:8080/jsp/localizacion-...   17.23  -100.36  \n",
       "14  http://www2.ssn.unam.mx:8080/jsp/localizacion-...   30.88  -115.05  "
      ]
     },
     "execution_count": 40,
     "metadata": {},
     "output_type": "execute_result"
    }
   ],
   "source": [
    "pd.DataFrame(unam['rss']['channel']['item'])"
   ]
  },
  {
   "cell_type": "markdown",
   "metadata": {},
   "source": [
    "Como vemos, los datos no están organizados como nos gustaría. Procedemos a un ejemplo de transformación de los datos.\n",
    "\n"
   ]
  },
  {
   "cell_type": "markdown",
   "metadata": {},
   "source": [
    "**Ejemplo Extraer-Transformar de manera funcional:**"
   ]
  },
  {
   "cell_type": "code",
   "execution_count": 41,
   "metadata": {},
   "outputs": [],
   "source": [
    "# funcion para extraer el dictio del xml\n",
    "\n",
    "\n",
    "def get_xml():\n",
    "    \n",
    "    url = 'http://www.ssn.unam.mx/rss/ultimos-sismos.xml'\n",
    "    \n",
    "    data = req.get(url).text\n",
    "    \n",
    "    unam = xmltodict.parse(data)\n",
    "    \n",
    "    return unam"
   ]
  },
  {
   "cell_type": "code",
   "execution_count": 43,
   "metadata": {},
   "outputs": [],
   "source": [
    "link = 'http://www2.ssn.unam.mx:8080/jsp/localizacion-de-sismo.jsp?latitud=16.46&longitud=-99.23&prf=11.4 km&ma=4.0&fecha=2023-10-30&hora=16:45:45&loc=41 km al SURESTE de  SAN MARCOS, GRO &evento=1'"
   ]
  },
  {
   "cell_type": "code",
   "execution_count": 48,
   "metadata": {},
   "outputs": [
    {
     "data": {
      "text/plain": [
       "['latitud=16.46',\n",
       " 'longitud=-99.23',\n",
       " 'prf=11.4 km',\n",
       " 'ma=4.0',\n",
       " 'fecha=2023-10-30',\n",
       " 'hora=16:45:45',\n",
       " 'loc=41 km al SURESTE de  SAN MARCOS, GRO ']"
      ]
     },
     "execution_count": 48,
     "metadata": {},
     "output_type": "execute_result"
    }
   ],
   "source": [
    "link.split('?')[1].split('&')[:-1]"
   ]
  },
  {
   "cell_type": "code",
   "execution_count": 50,
   "metadata": {},
   "outputs": [],
   "source": [
    "def get_clean_data():\n",
    "    \n",
    "    dictio = get_xml()\n",
    "    \n",
    "    \n",
    "    # limpieza de datos\n",
    "    res = []\n",
    "    \n",
    "    for item in dictio['rss']['channel']['item']:\n",
    "        \n",
    "        link = item['link']\n",
    "        \n",
    "        # link roto por el simbolo ? y luego por &\n",
    "        raw_data = link.split('?')[1].split('&')[:-1]\n",
    "        \n",
    "        # queda una lista de listas con k,v\n",
    "        raw_data = [e.split('=') for e in raw_data]\n",
    "        \n",
    "        data = {k:v for k,v in raw_data}\n",
    "        \n",
    "        res.append(data)\n",
    "        \n",
    "        \n",
    "    return res\n",
    "        "
   ]
  },
  {
   "cell_type": "code",
   "execution_count": 52,
   "metadata": {},
   "outputs": [],
   "source": [
    "sismo = pd.DataFrame(get_clean_data())"
   ]
  },
  {
   "cell_type": "code",
   "execution_count": 58,
   "metadata": {},
   "outputs": [
    {
     "data": {
      "text/plain": [
       "11.4"
      ]
     },
     "execution_count": 58,
     "metadata": {},
     "output_type": "execute_result"
    }
   ],
   "source": [
    "string = '11.4 km'\n",
    "\n",
    "float(string.split()[0])"
   ]
  },
  {
   "cell_type": "code",
   "execution_count": 54,
   "metadata": {},
   "outputs": [],
   "source": [
    "sismo.prf = sismo.prf.apply(lambda x: float(x.split()[0]))"
   ]
  },
  {
   "cell_type": "code",
   "execution_count": 55,
   "metadata": {},
   "outputs": [
    {
     "data": {
      "text/html": [
       "<div>\n",
       "<style scoped>\n",
       "    .dataframe tbody tr th:only-of-type {\n",
       "        vertical-align: middle;\n",
       "    }\n",
       "\n",
       "    .dataframe tbody tr th {\n",
       "        vertical-align: top;\n",
       "    }\n",
       "\n",
       "    .dataframe thead th {\n",
       "        text-align: right;\n",
       "    }\n",
       "</style>\n",
       "<table border=\"1\" class=\"dataframe\">\n",
       "  <thead>\n",
       "    <tr style=\"text-align: right;\">\n",
       "      <th></th>\n",
       "      <th>latitud</th>\n",
       "      <th>longitud</th>\n",
       "      <th>prf</th>\n",
       "      <th>ma</th>\n",
       "      <th>fecha</th>\n",
       "      <th>hora</th>\n",
       "      <th>loc</th>\n",
       "    </tr>\n",
       "  </thead>\n",
       "  <tbody>\n",
       "    <tr>\n",
       "      <th>0</th>\n",
       "      <td>16.46</td>\n",
       "      <td>-99.23</td>\n",
       "      <td>11.4</td>\n",
       "      <td>4.0</td>\n",
       "      <td>2023-10-30</td>\n",
       "      <td>16:45:45</td>\n",
       "      <td>41 km al SURESTE de  SAN MARCOS, GRO</td>\n",
       "    </tr>\n",
       "    <tr>\n",
       "      <th>1</th>\n",
       "      <td>31.51</td>\n",
       "      <td>-115.64</td>\n",
       "      <td>12.5</td>\n",
       "      <td>3.0</td>\n",
       "      <td>2023-10-30</td>\n",
       "      <td>16:39:01</td>\n",
       "      <td>92 km al SURESTE de  RODOLFO SANCHEZ T(MRO), BC</td>\n",
       "    </tr>\n",
       "    <tr>\n",
       "      <th>2</th>\n",
       "      <td>15.88</td>\n",
       "      <td>-93.79</td>\n",
       "      <td>98.1</td>\n",
       "      <td>3.7</td>\n",
       "      <td>2023-10-30</td>\n",
       "      <td>16:24:24</td>\n",
       "      <td>24 km al SUR de  TONALA, CHIS</td>\n",
       "    </tr>\n",
       "    <tr>\n",
       "      <th>3</th>\n",
       "      <td>26.02</td>\n",
       "      <td>-99.87</td>\n",
       "      <td>5.0</td>\n",
       "      <td>3.5</td>\n",
       "      <td>2023-10-30</td>\n",
       "      <td>15:59:02</td>\n",
       "      <td>31 km al ESTE de  CIENEGA DE FLORES, NL</td>\n",
       "    </tr>\n",
       "    <tr>\n",
       "      <th>4</th>\n",
       "      <td>18.93</td>\n",
       "      <td>-103.71</td>\n",
       "      <td>14.7</td>\n",
       "      <td>3.3</td>\n",
       "      <td>2023-10-30</td>\n",
       "      <td>15:55:15</td>\n",
       "      <td>17 km al ESTE de  TECOMAN, COL</td>\n",
       "    </tr>\n",
       "    <tr>\n",
       "      <th>5</th>\n",
       "      <td>16.87</td>\n",
       "      <td>-94.35</td>\n",
       "      <td>124.4</td>\n",
       "      <td>3.4</td>\n",
       "      <td>2023-10-30</td>\n",
       "      <td>15:54:03</td>\n",
       "      <td>67 km al NORESTE de  UNION HIDALGO, OAX</td>\n",
       "    </tr>\n",
       "    <tr>\n",
       "      <th>6</th>\n",
       "      <td>18.08</td>\n",
       "      <td>-103.37</td>\n",
       "      <td>6.4</td>\n",
       "      <td>3.3</td>\n",
       "      <td>2023-10-30</td>\n",
       "      <td>15:29:01</td>\n",
       "      <td>80 km al SUROESTE de  COALCOMAN, MICH</td>\n",
       "    </tr>\n",
       "    <tr>\n",
       "      <th>7</th>\n",
       "      <td>15.46</td>\n",
       "      <td>-94.87</td>\n",
       "      <td>10.0</td>\n",
       "      <td>3.8</td>\n",
       "      <td>2023-10-30</td>\n",
       "      <td>14:16:51</td>\n",
       "      <td>87 km al SURESTE de  SALINA CRUZ, OAX</td>\n",
       "    </tr>\n",
       "    <tr>\n",
       "      <th>8</th>\n",
       "      <td>15.75</td>\n",
       "      <td>-96.39</td>\n",
       "      <td>39.2</td>\n",
       "      <td>3.8</td>\n",
       "      <td>2023-10-30</td>\n",
       "      <td>13:44:04</td>\n",
       "      <td>8 km al ESTE de  S PEDRO POCHUTLA, OAX</td>\n",
       "    </tr>\n",
       "    <tr>\n",
       "      <th>9</th>\n",
       "      <td>18.09</td>\n",
       "      <td>-103.33</td>\n",
       "      <td>9.4</td>\n",
       "      <td>3.8</td>\n",
       "      <td>2023-10-30</td>\n",
       "      <td>13:24:04</td>\n",
       "      <td>78 km al SUR de  COALCOMAN, MICH</td>\n",
       "    </tr>\n",
       "    <tr>\n",
       "      <th>10</th>\n",
       "      <td>30.58</td>\n",
       "      <td>-116.2</td>\n",
       "      <td>10.0</td>\n",
       "      <td>3.8</td>\n",
       "      <td>2023-10-30</td>\n",
       "      <td>13:15:20</td>\n",
       "      <td>26 km al SUROESTE de  VICENTE GUERRERO, BC</td>\n",
       "    </tr>\n",
       "    <tr>\n",
       "      <th>11</th>\n",
       "      <td>31.19</td>\n",
       "      <td>-115.81</td>\n",
       "      <td>10.0</td>\n",
       "      <td>3.3</td>\n",
       "      <td>2023-10-30</td>\n",
       "      <td>12:01:55</td>\n",
       "      <td>54 km al NORESTE de  VICENTE GUERRERO, BC</td>\n",
       "    </tr>\n",
       "    <tr>\n",
       "      <th>12</th>\n",
       "      <td>16.64</td>\n",
       "      <td>-98.43</td>\n",
       "      <td>16.7</td>\n",
       "      <td>3.4</td>\n",
       "      <td>2023-10-30</td>\n",
       "      <td>11:47:01</td>\n",
       "      <td>5 km al SUROESTE de  OMETEPEC, GRO</td>\n",
       "    </tr>\n",
       "    <tr>\n",
       "      <th>13</th>\n",
       "      <td>17.23</td>\n",
       "      <td>-100.36</td>\n",
       "      <td>49.2</td>\n",
       "      <td>3.8</td>\n",
       "      <td>2023-10-30</td>\n",
       "      <td>11:31:15</td>\n",
       "      <td>9 km al NORESTE de  ATOYAC DE ALVAREZ, GRO</td>\n",
       "    </tr>\n",
       "    <tr>\n",
       "      <th>14</th>\n",
       "      <td>30.88</td>\n",
       "      <td>-115.05</td>\n",
       "      <td>5.1</td>\n",
       "      <td>3.2</td>\n",
       "      <td>2023-10-30</td>\n",
       "      <td>11:24:18</td>\n",
       "      <td>26 km al SUROESTE de  SAN FELIPE, BC</td>\n",
       "    </tr>\n",
       "  </tbody>\n",
       "</table>\n",
       "</div>"
      ],
      "text/plain": [
       "   latitud longitud    prf   ma       fecha      hora  \\\n",
       "0    16.46   -99.23   11.4  4.0  2023-10-30  16:45:45   \n",
       "1    31.51  -115.64   12.5  3.0  2023-10-30  16:39:01   \n",
       "2    15.88   -93.79   98.1  3.7  2023-10-30  16:24:24   \n",
       "3    26.02   -99.87    5.0  3.5  2023-10-30  15:59:02   \n",
       "4    18.93  -103.71   14.7  3.3  2023-10-30  15:55:15   \n",
       "5    16.87   -94.35  124.4  3.4  2023-10-30  15:54:03   \n",
       "6    18.08  -103.37    6.4  3.3  2023-10-30  15:29:01   \n",
       "7    15.46   -94.87   10.0  3.8  2023-10-30  14:16:51   \n",
       "8    15.75   -96.39   39.2  3.8  2023-10-30  13:44:04   \n",
       "9    18.09  -103.33    9.4  3.8  2023-10-30  13:24:04   \n",
       "10   30.58   -116.2   10.0  3.8  2023-10-30  13:15:20   \n",
       "11   31.19  -115.81   10.0  3.3  2023-10-30  12:01:55   \n",
       "12   16.64   -98.43   16.7  3.4  2023-10-30  11:47:01   \n",
       "13   17.23  -100.36   49.2  3.8  2023-10-30  11:31:15   \n",
       "14   30.88  -115.05    5.1  3.2  2023-10-30  11:24:18   \n",
       "\n",
       "                                                 loc  \n",
       "0              41 km al SURESTE de  SAN MARCOS, GRO   \n",
       "1   92 km al SURESTE de  RODOLFO SANCHEZ T(MRO), BC   \n",
       "2                     24 km al SUR de  TONALA, CHIS   \n",
       "3           31 km al ESTE de  CIENEGA DE FLORES, NL   \n",
       "4                    17 km al ESTE de  TECOMAN, COL   \n",
       "5           67 km al NORESTE de  UNION HIDALGO, OAX   \n",
       "6             80 km al SUROESTE de  COALCOMAN, MICH   \n",
       "7             87 km al SURESTE de  SALINA CRUZ, OAX   \n",
       "8            8 km al ESTE de  S PEDRO POCHUTLA, OAX   \n",
       "9                  78 km al SUR de  COALCOMAN, MICH   \n",
       "10       26 km al SUROESTE de  VICENTE GUERRERO, BC   \n",
       "11        54 km al NORESTE de  VICENTE GUERRERO, BC   \n",
       "12               5 km al SUROESTE de  OMETEPEC, GRO   \n",
       "13       9 km al NORESTE de  ATOYAC DE ALVAREZ, GRO   \n",
       "14             26 km al SUROESTE de  SAN FELIPE, BC   "
      ]
     },
     "execution_count": 55,
     "metadata": {},
     "output_type": "execute_result"
    }
   ],
   "source": [
    "sismo"
   ]
  },
  {
   "cell_type": "code",
   "execution_count": 59,
   "metadata": {},
   "outputs": [
    {
     "data": {
      "text/plain": [
       "[{'latitud': '16.46',\n",
       "  'longitud': '-99.23',\n",
       "  'prf': '11.4 km',\n",
       "  'ma': '4.0',\n",
       "  'fecha': '2023-10-30',\n",
       "  'hora': '16:45:45',\n",
       "  'loc': '41 km al SURESTE de  SAN MARCOS, GRO '},\n",
       " {'latitud': '31.51',\n",
       "  'longitud': '-115.64',\n",
       "  'prf': '12.5 km',\n",
       "  'ma': '3.0',\n",
       "  'fecha': '2023-10-30',\n",
       "  'hora': '16:39:01',\n",
       "  'loc': '92 km al SURESTE de  RODOLFO SANCHEZ T(MRO), BC '},\n",
       " {'latitud': '15.88',\n",
       "  'longitud': '-93.79',\n",
       "  'prf': '98.1 km',\n",
       "  'ma': '3.7',\n",
       "  'fecha': '2023-10-30',\n",
       "  'hora': '16:24:24',\n",
       "  'loc': '24 km al SUR de  TONALA, CHIS '},\n",
       " {'latitud': '26.02',\n",
       "  'longitud': '-99.87',\n",
       "  'prf': '5.0 km',\n",
       "  'ma': '3.5',\n",
       "  'fecha': '2023-10-30',\n",
       "  'hora': '15:59:02',\n",
       "  'loc': '31 km al ESTE de  CIENEGA DE FLORES, NL '},\n",
       " {'latitud': '18.93',\n",
       "  'longitud': '-103.71',\n",
       "  'prf': '14.7 km',\n",
       "  'ma': '3.3',\n",
       "  'fecha': '2023-10-30',\n",
       "  'hora': '15:55:15',\n",
       "  'loc': '17 km al ESTE de  TECOMAN, COL '},\n",
       " {'latitud': '16.87',\n",
       "  'longitud': '-94.35',\n",
       "  'prf': '124.4 km',\n",
       "  'ma': '3.4',\n",
       "  'fecha': '2023-10-30',\n",
       "  'hora': '15:54:03',\n",
       "  'loc': '67 km al NORESTE de  UNION HIDALGO, OAX '},\n",
       " {'latitud': '18.08',\n",
       "  'longitud': '-103.37',\n",
       "  'prf': '6.4 km',\n",
       "  'ma': '3.3',\n",
       "  'fecha': '2023-10-30',\n",
       "  'hora': '15:29:01',\n",
       "  'loc': '80 km al SUROESTE de  COALCOMAN, MICH '},\n",
       " {'latitud': '15.46',\n",
       "  'longitud': '-94.87',\n",
       "  'prf': '10.0 km',\n",
       "  'ma': '3.8',\n",
       "  'fecha': '2023-10-30',\n",
       "  'hora': '14:16:51',\n",
       "  'loc': '87 km al SURESTE de  SALINA CRUZ, OAX '},\n",
       " {'latitud': '15.75',\n",
       "  'longitud': '-96.39',\n",
       "  'prf': '39.2 km',\n",
       "  'ma': '3.8',\n",
       "  'fecha': '2023-10-30',\n",
       "  'hora': '13:44:04',\n",
       "  'loc': '8 km al ESTE de  S PEDRO POCHUTLA, OAX '},\n",
       " {'latitud': '18.09',\n",
       "  'longitud': '-103.33',\n",
       "  'prf': '9.4 km',\n",
       "  'ma': '3.8',\n",
       "  'fecha': '2023-10-30',\n",
       "  'hora': '13:24:04',\n",
       "  'loc': '78 km al SUR de  COALCOMAN, MICH '},\n",
       " {'latitud': '30.58',\n",
       "  'longitud': '-116.2',\n",
       "  'prf': '10.0 km',\n",
       "  'ma': '3.8',\n",
       "  'fecha': '2023-10-30',\n",
       "  'hora': '13:15:20',\n",
       "  'loc': '26 km al SUROESTE de  VICENTE GUERRERO, BC '},\n",
       " {'latitud': '31.19',\n",
       "  'longitud': '-115.81',\n",
       "  'prf': '10.0 km',\n",
       "  'ma': '3.3',\n",
       "  'fecha': '2023-10-30',\n",
       "  'hora': '12:01:55',\n",
       "  'loc': '54 km al NORESTE de  VICENTE GUERRERO, BC '},\n",
       " {'latitud': '16.64',\n",
       "  'longitud': '-98.43',\n",
       "  'prf': '16.7 km',\n",
       "  'ma': '3.4',\n",
       "  'fecha': '2023-10-30',\n",
       "  'hora': '11:47:01',\n",
       "  'loc': '5 km al SUROESTE de  OMETEPEC, GRO '},\n",
       " {'latitud': '17.23',\n",
       "  'longitud': '-100.36',\n",
       "  'prf': '49.2 km',\n",
       "  'ma': '3.8',\n",
       "  'fecha': '2023-10-30',\n",
       "  'hora': '11:31:15',\n",
       "  'loc': '9 km al NORESTE de  ATOYAC DE ALVAREZ, GRO '},\n",
       " {'latitud': '30.88',\n",
       "  'longitud': '-115.05',\n",
       "  'prf': '5.1 km',\n",
       "  'ma': '3.2',\n",
       "  'fecha': '2023-10-30',\n",
       "  'hora': '11:24:18',\n",
       "  'loc': '26 km al SUROESTE de  SAN FELIPE, BC '}]"
      ]
     },
     "execution_count": 59,
     "metadata": {},
     "output_type": "execute_result"
    }
   ],
   "source": [
    "get_clean_data()"
   ]
  },
  {
   "cell_type": "code",
   "execution_count": null,
   "metadata": {},
   "outputs": [],
   "source": []
  }
 ],
 "metadata": {
  "kernelspec": {
   "display_name": "clase",
   "language": "python",
   "name": "clase"
  },
  "language_info": {
   "codemirror_mode": {
    "name": "ipython",
    "version": 3
   },
   "file_extension": ".py",
   "mimetype": "text/x-python",
   "name": "python",
   "nbconvert_exporter": "python",
   "pygments_lexer": "ipython3",
   "version": "3.9.12"
  }
 },
 "nbformat": 4,
 "nbformat_minor": 4
}
