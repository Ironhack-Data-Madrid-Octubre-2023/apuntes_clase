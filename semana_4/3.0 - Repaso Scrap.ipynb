{
 "cells": [
  {
   "cell_type": "code",
   "execution_count": 1,
   "id": "0b2d1ecc",
   "metadata": {},
   "outputs": [],
   "source": [
    "import requests as req\n",
    "from bs4 import BeautifulSoup as bs"
   ]
  },
  {
   "cell_type": "code",
   "execution_count": 2,
   "id": "b7e3d438",
   "metadata": {},
   "outputs": [],
   "source": [
    "# 1 - links python\n",
    "\n",
    "url ='https://en.wikipedia.org/wiki/Python' "
   ]
  },
  {
   "cell_type": "code",
   "execution_count": 3,
   "id": "05cfae1f",
   "metadata": {},
   "outputs": [],
   "source": [
    "html = req.get(url).text\n",
    "\n",
    "sopa = bs(html, 'html.parser')"
   ]
  },
  {
   "cell_type": "code",
   "execution_count": 6,
   "id": "f9272b7c",
   "metadata": {},
   "outputs": [],
   "source": [
    "cajas_a = sopa.find_all('a')"
   ]
  },
  {
   "cell_type": "code",
   "execution_count": 14,
   "id": "7f6e5278",
   "metadata": {},
   "outputs": [
    {
     "data": {
      "text/plain": [
       "{'class': ['mw-jump-link'], 'href': '#bodyContent'}"
      ]
     },
     "execution_count": 14,
     "metadata": {},
     "output_type": "execute_result"
    }
   ],
   "source": [
    "cajas_a[0].attrs"
   ]
  },
  {
   "cell_type": "code",
   "execution_count": 18,
   "id": "a6bb90c6",
   "metadata": {},
   "outputs": [
    {
     "data": {
      "text/plain": [
       "['/wiki/Main_Page', '/wiki/Wikipedia:Contents']"
      ]
     },
     "execution_count": 18,
     "metadata": {},
     "output_type": "execute_result"
    }
   ],
   "source": [
    "links = [e.attrs['href'] for e in cajas_a if '#' not in e.attrs['href']]\n",
    "\n",
    "links[:2]"
   ]
  },
  {
   "cell_type": "code",
   "execution_count": 19,
   "id": "13162e77",
   "metadata": {},
   "outputs": [],
   "source": [
    "# 2 - idiomas\n",
    "\n",
    "url = 'https://www.wikipedia.org/'"
   ]
  },
  {
   "cell_type": "code",
   "execution_count": 20,
   "id": "ab39c988",
   "metadata": {},
   "outputs": [],
   "source": [
    "html = req.get(url).text\n",
    "\n",
    "sopa = bs(html, 'html.parser')"
   ]
  },
  {
   "cell_type": "code",
   "execution_count": 23,
   "id": "f8dc57a2",
   "metadata": {},
   "outputs": [],
   "source": [
    "caja = sopa.find('div', {'class': 'central-featured'})"
   ]
  },
  {
   "cell_type": "code",
   "execution_count": 26,
   "id": "dc7673e5",
   "metadata": {},
   "outputs": [],
   "source": [
    "idiomas = caja.find_all('strong')"
   ]
  },
  {
   "cell_type": "code",
   "execution_count": 27,
   "id": "8c5e3287",
   "metadata": {},
   "outputs": [],
   "source": [
    "numeros = caja.find_all('small')"
   ]
  },
  {
   "cell_type": "code",
   "execution_count": 28,
   "id": "3e055ce5",
   "metadata": {},
   "outputs": [
    {
     "data": {
      "text/plain": [
       "10"
      ]
     },
     "execution_count": 28,
     "metadata": {},
     "output_type": "execute_result"
    }
   ],
   "source": [
    "len(idiomas)"
   ]
  },
  {
   "cell_type": "code",
   "execution_count": 29,
   "id": "172ba479",
   "metadata": {},
   "outputs": [
    {
     "data": {
      "text/plain": [
       "10"
      ]
     },
     "execution_count": 29,
     "metadata": {},
     "output_type": "execute_result"
    }
   ],
   "source": [
    "len(numeros)"
   ]
  },
  {
   "cell_type": "code",
   "execution_count": 38,
   "id": "24061446",
   "metadata": {},
   "outputs": [],
   "source": [
    "idiomas = [e.text for e in idiomas]"
   ]
  },
  {
   "cell_type": "code",
   "execution_count": 39,
   "id": "af556339",
   "metadata": {},
   "outputs": [],
   "source": [
    "numeros = [e.text.replace('\\xa0', '').split('+')[0] for e in numeros]"
   ]
  },
  {
   "cell_type": "code",
   "execution_count": 40,
   "id": "810f9d7d",
   "metadata": {},
   "outputs": [
    {
     "data": {
      "text/plain": [
       "{'English': '6715000',\n",
       " 'æ\\x97¥æ\\x9c¬èª\\x9e': '1387000',\n",
       " 'EspaÃ±ol': '1892000',\n",
       " 'Ð\\xa0Ñ\\x83Ñ\\x81Ñ\\x81ÐºÐ¸Ð¹': '1938000',\n",
       " 'Deutsch': '2836000',\n",
       " 'FranÃ§ais': '2553000',\n",
       " 'Italiano': '1826000',\n",
       " 'ä¸\\xadæ\\x96\\x87': '1377000',\n",
       " 'PortuguÃªs': '1109000',\n",
       " 'Ø§Ù\\x84Ø¹Ø±Ø¨Ù\\x8aØ©': '1217000'}"
      ]
     },
     "execution_count": 40,
     "metadata": {},
     "output_type": "execute_result"
    }
   ],
   "source": [
    "dict(zip(idiomas, numeros))"
   ]
  },
  {
   "cell_type": "code",
   "execution_count": 48,
   "id": "57630190",
   "metadata": {},
   "outputs": [
    {
     "data": {
      "text/plain": [
       "'English'"
      ]
     },
     "execution_count": 48,
     "metadata": {},
     "output_type": "execute_result"
    }
   ],
   "source": [
    "caja.find('strong').text"
   ]
  },
  {
   "cell_type": "code",
   "execution_count": 49,
   "id": "231142b2",
   "metadata": {},
   "outputs": [],
   "source": [
    "# 3 - IMDB\n",
    "\n",
    "url = 'https://www.imdb.com/chart/top'"
   ]
  },
  {
   "cell_type": "code",
   "execution_count": 50,
   "id": "b117f3a8",
   "metadata": {},
   "outputs": [],
   "source": [
    "html = req.get(url).text\n",
    "\n",
    "sopa = bs(html, 'html.parser')"
   ]
  },
  {
   "cell_type": "code",
   "execution_count": 51,
   "id": "341ba8da",
   "metadata": {},
   "outputs": [
    {
     "data": {
      "text/plain": [
       "<html>\n",
       "<head><title>403 Forbidden</title></head>\n",
       "<body>\n",
       "<center><h1>403 Forbidden</h1></center>\n",
       "</body>\n",
       "</html>"
      ]
     },
     "execution_count": 51,
     "metadata": {},
     "output_type": "execute_result"
    }
   ],
   "source": [
    "sopa   # con bs4 no se puede"
   ]
  },
  {
   "cell_type": "code",
   "execution_count": null,
   "id": "6af3a70b",
   "metadata": {},
   "outputs": [],
   "source": []
  },
  {
   "cell_type": "code",
   "execution_count": null,
   "id": "a28ce0d9",
   "metadata": {},
   "outputs": [],
   "source": []
  },
  {
   "cell_type": "code",
   "execution_count": null,
   "id": "b4416eec",
   "metadata": {},
   "outputs": [],
   "source": []
  }
 ],
 "metadata": {
  "kernelspec": {
   "display_name": "clase",
   "language": "python",
   "name": "clase"
  },
  "language_info": {
   "codemirror_mode": {
    "name": "ipython",
    "version": 3
   },
   "file_extension": ".py",
   "mimetype": "text/x-python",
   "name": "python",
   "nbconvert_exporter": "python",
   "pygments_lexer": "ipython3",
   "version": "3.9.12"
  }
 },
 "nbformat": 4,
 "nbformat_minor": 5
}
