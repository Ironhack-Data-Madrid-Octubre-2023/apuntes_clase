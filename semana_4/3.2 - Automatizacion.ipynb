{
 "cells": [
  {
   "cell_type": "markdown",
   "metadata": {},
   "source": [
    "# 3.2- Automatización\n",
    "\n",
    "![automatizacion](images/automatizacion.png)"
   ]
  },
  {
   "cell_type": "markdown",
   "metadata": {},
   "source": [
    "Selenium automatiza los navegadores. Principalmente, es para la automatización de aplicaciones web con fines de pruebas, pero ciertamente no se limita a eso. Las tareas aburridas de administración basadas en web pueden ser automatizadas.\n",
    "\n",
    "Veremos como realizar estas automatizaciones y además ocultar nuestro driver para que parezca una persona."
   ]
  },
  {
   "cell_type": "markdown",
   "metadata": {},
   "source": [
    "**Librerias**"
   ]
  },
  {
   "cell_type": "code",
   "execution_count": 1,
   "metadata": {},
   "outputs": [],
   "source": [
    "from selenium import webdriver # driver de selenium\n",
    "\n",
    "import time   # para manejar tiempo\n",
    "\n",
    "import pandas as pd"
   ]
  },
  {
   "cell_type": "markdown",
   "metadata": {},
   "source": [
    "### Opciones del driver\n",
    "\n",
    "https://peter.sh/experiments/chromium-command-line-switches/\n"
   ]
  },
  {
   "cell_type": "code",
   "execution_count": 2,
   "metadata": {},
   "outputs": [],
   "source": [
    "from selenium.webdriver.chrome.options import Options"
   ]
  },
  {
   "cell_type": "code",
   "execution_count": 3,
   "metadata": {},
   "outputs": [],
   "source": [
    "# opciones del driver\n",
    "\n",
    "opciones=Options()\n",
    "\n",
    "# quita la bandera de ser robot\n",
    "opciones.add_experimental_option('excludeSwitches', ['enable-automation'])\n",
    "opciones.add_experimental_option('useAutomationExtension', False)\n",
    "\n",
    "opciones.headless=False   # si True, no aparece la ventana (headless=no visible)\n",
    "\n",
    "opciones.add_argument('--start-maximized')         # comienza maximizado\n",
    "\n",
    "opciones.add_extension('driver/adblock.crx')       # adblocker\n",
    "\n",
    "opciones.add_argument('user-data-dir=selenium')    # mantiene las coockies\n",
    "\n",
    "\n",
    "#opciones.add_argument('--incognito')              # incognito\n",
    " \n",
    "#opciones.add_argument('--no-proxy-server')                 # sin proxy\n",
    "#opciones.add_argument('proxy-server=106.122.8.54:3128')    # proxy custom"
   ]
  },
  {
   "cell_type": "markdown",
   "metadata": {},
   "source": [
    "### Creando usuario random\n",
    "\n",
    "https://pypi.org/project/fake-useragent/"
   ]
  },
  {
   "cell_type": "code",
   "execution_count": null,
   "metadata": {},
   "outputs": [],
   "source": [
    "%pip install fake-useragent"
   ]
  },
  {
   "cell_type": "code",
   "execution_count": null,
   "metadata": {},
   "outputs": [],
   "source": [
    "from fake_useragent import UserAgent\n",
    "\n",
    "usuario=UserAgent().random\n",
    "\n",
    "print(usuario)\n",
    "\n",
    "#opciones.add_argument(f'user-agent={usuario}')"
   ]
  },
  {
   "cell_type": "markdown",
   "metadata": {},
   "source": [
    "### Editando el archivo chromedriver\n",
    "\n",
    "\n",
    "Distil web monitor comprueba el patrón de regex  \"[a-z]dc_\", y el chromedriver tiene una variable que cumple con dicho patrón \"cdc_\". Esto hace posible la detección del driver en la red por parte de los monitores.\n",
    "\n",
    "\n",
    "**Cambiando la string cdc_**\n",
    "\n",
    "Podemos editar el chromedriver usando Vim, escribiendo en terminal:\n",
    "\n",
    "`vim /ruta/al/chromedriver`\n",
    "\n",
    "Una ver abierto el Vim, verás muchas **@** en el archivo. En el editor realizamos los siguientes pasos:\n",
    "\n",
    "+ Vamos a reemplazar la string `cdc_` todas las veces que aparece escribiendo: `%s/cdc_/arm_/g`. arm_ es solo un ejemplo, se puede sustituir con cualquier string con la condición de que se mantenga la longitud, si no el driver fallará.\n",
    "\n",
    "+ Para guardar los cambios y salir de Vim se escribe: `:wq!` y presiona Enter. Para salir sin guardar `:q!`.\n"
   ]
  },
  {
   "cell_type": "code",
   "execution_count": 4,
   "metadata": {},
   "outputs": [],
   "source": [
    "PATH = 'driver/chromedriver'"
   ]
  },
  {
   "cell_type": "markdown",
   "metadata": {},
   "source": [
    "### Ejemplo :\n",
    "\n",
    "https://gnula.su/\n",
    "\n",
    "https://cuevana3.sk/"
   ]
  },
  {
   "cell_type": "code",
   "execution_count": 5,
   "metadata": {},
   "outputs": [],
   "source": [
    "from selenium import webdriver # driver de selenium\n",
    "\n",
    "import time   # para manejar tiempo\n",
    "\n",
    "from selenium.webdriver.chrome.options import Options   # opciones del driver\n",
    "\n",
    "from selenium.webdriver.common.by import By   # para buscar segun tag, id, class, etc...\n",
    "\n",
    "from selenium.webdriver.support.ui import WebDriverWait   # es para esperar\n",
    "\n",
    "from selenium.webdriver.support import expected_conditions as EC  # condiciones esperadas...\n",
    "\n",
    "from selenium.webdriver import ActionChains as AC   # acciones encadenadas, rollo doble click\n",
    "\n",
    "from selenium.webdriver.common.keys import Keys  # manejar teclas\n",
    "\n",
    "\n",
    "import warnings\n",
    "warnings.filterwarnings('ignore')"
   ]
  },
  {
   "cell_type": "code",
   "execution_count": 6,
   "metadata": {},
   "outputs": [],
   "source": [
    "url = 'https://www.youtube.com/watch?v=Tu3OG59b9kE&ab_channel=TheVinylBird2'"
   ]
  },
  {
   "cell_type": "code",
   "execution_count": 7,
   "metadata": {},
   "outputs": [],
   "source": [
    "opciones=Options()\n",
    "\n",
    "# quita la bandera de ser robot\n",
    "opciones.add_experimental_option('excludeSwitches', ['enable-automation'])\n",
    "opciones.add_experimental_option('useAutomationExtension', False)\n",
    "\n",
    "opciones.headless=False   # si True, no aparece la ventana (headless=no visible)\n",
    "\n",
    "opciones.add_argument('--start-maximized')         # comienza maximizado\n",
    "\n",
    "opciones.add_extension('driver/adblock.crx')       # adblocker\n",
    "\n",
    "opciones.add_argument('user-data-dir=cookies')    # mantiene las coockies\n"
   ]
  },
  {
   "cell_type": "code",
   "execution_count": 8,
   "metadata": {},
   "outputs": [],
   "source": [
    "driver=webdriver.Chrome(PATH, options=opciones)\n",
    "\n",
    "driver.get(url)\n",
    "\n",
    "time.sleep(2)"
   ]
  },
  {
   "cell_type": "raw",
   "metadata": {},
   "source": [
    "texto = driver.find_element(By.XPATH, '//*[@id=\"s\"]')\n",
    "\n",
    "texto.send_keys('final space')\n",
    "\n",
    "texto.send_keys(Keys.ENTER)"
   ]
  },
  {
   "cell_type": "raw",
   "metadata": {},
   "source": [
    "# acceso a la serie\n",
    "\n",
    "driver.find_element(By.XPATH, '//*[@id=\"contenedor\"]/div[2]/div[1]/div/div[2]/article/div[2]/div[1]/a').click()"
   ]
  },
  {
   "cell_type": "raw",
   "metadata": {},
   "source": [
    "# acceso al primer capitulo\n",
    "\n",
    "driver.find_element(By.XPATH, '//*[@id=\"seasons\"]/div/div[2]/ul/li[1]/div[3]/a').click()"
   ]
  },
  {
   "cell_type": "raw",
   "metadata": {},
   "source": [
    "# play \n",
    "\n",
    "driver.find_element(By.XPATH, '//*[@id=\"clickfakeplayer\"]/div/span[2]/img').click()"
   ]
  },
  {
   "cell_type": "code",
   "execution_count": 24,
   "metadata": {},
   "outputs": [],
   "source": [
    "# poner pantalla completa\n",
    "\n",
    "driver.find_element(By.XPATH, '//*[@id=\"movie_player\"]/div[27]/div[2]/div[2]/button[10]').click()"
   ]
  },
  {
   "cell_type": "code",
   "execution_count": 25,
   "metadata": {},
   "outputs": [
    {
     "data": {
      "text/plain": [
       "''"
      ]
     },
     "execution_count": 25,
     "metadata": {},
     "output_type": "execute_result"
    }
   ],
   "source": [
    "driver.find_element(By.CLASS_NAME, 'ytp-left-controls').text"
   ]
  },
  {
   "cell_type": "code",
   "execution_count": 30,
   "metadata": {},
   "outputs": [
    {
     "data": {
      "text/plain": [
       "'8:37 / 59:54\\n•\\n3. Tap Out'"
      ]
     },
     "execution_count": 30,
     "metadata": {},
     "output_type": "execute_result"
    }
   ],
   "source": [
    "mouse_tracker = driver.find_element(By.CLASS_NAME, 'ytp-left-controls')\n",
    "\n",
    "AC(driver).move_to_element_with_offset(mouse_tracker, 8, 0).perform()\n",
    "\n",
    "texto = driver.find_element(By.CLASS_NAME, 'ytp-left-controls').text\n",
    "\n",
    "texto"
   ]
  },
  {
   "cell_type": "code",
   "execution_count": 39,
   "metadata": {},
   "outputs": [],
   "source": [
    "actual = texto.split('/')[0].strip()\n",
    "\n",
    "total = texto.split('/')[1].split('\\n')[0].strip()"
   ]
  },
  {
   "cell_type": "code",
   "execution_count": null,
   "metadata": {},
   "outputs": [],
   "source": [
    "# mientras siga el video....\n",
    "\n",
    "#while actual != total:\n",
    "    "
   ]
  },
  {
   "cell_type": "code",
   "execution_count": 40,
   "metadata": {},
   "outputs": [],
   "source": [
    "driver.quit()"
   ]
  },
  {
   "cell_type": "code",
   "execution_count": null,
   "metadata": {},
   "outputs": [],
   "source": []
  }
 ],
 "metadata": {
  "finalized": {
   "timestamp": 1662450386230,
   "trusted": true
  },
  "kernelspec": {
   "display_name": "clase",
   "language": "python",
   "name": "clase"
  },
  "language_info": {
   "codemirror_mode": {
    "name": "ipython",
    "version": 3
   },
   "file_extension": ".py",
   "mimetype": "text/x-python",
   "name": "python",
   "nbconvert_exporter": "python",
   "pygments_lexer": "ipython3",
   "version": "3.9.12"
  },
  "varInspector": {
   "cols": {
    "lenName": 16,
    "lenType": 16,
    "lenVar": 40
   },
   "kernels_config": {
    "python": {
     "delete_cmd_postfix": "",
     "delete_cmd_prefix": "del ",
     "library": "var_list.py",
     "varRefreshCmd": "print(var_dic_list())"
    },
    "r": {
     "delete_cmd_postfix": ") ",
     "delete_cmd_prefix": "rm(",
     "library": "var_list.r",
     "varRefreshCmd": "cat(var_dic_list()) "
    }
   },
   "types_to_exclude": [
    "module",
    "function",
    "builtin_function_or_method",
    "instance",
    "_Feature"
   ],
   "window_display": false
  }
 },
 "nbformat": 4,
 "nbformat_minor": 4
}
