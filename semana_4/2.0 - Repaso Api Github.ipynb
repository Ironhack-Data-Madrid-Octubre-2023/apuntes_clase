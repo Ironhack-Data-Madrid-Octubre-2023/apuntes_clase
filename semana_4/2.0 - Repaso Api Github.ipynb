{
 "cells": [
  {
   "cell_type": "markdown",
   "id": "16be84da",
   "metadata": {},
   "source": [
    "https://github.com/ironhack-datalabs/scavenger"
   ]
  },
  {
   "cell_type": "code",
   "execution_count": null,
   "id": "82fcdf49",
   "metadata": {},
   "outputs": [],
   "source": [
    "import requests as req"
   ]
  },
  {
   "cell_type": "code",
   "execution_count": null,
   "id": "02064a48",
   "metadata": {},
   "outputs": [],
   "source": [
    "url = 'https://api.github.com/repos/ironhack-datalabs/scavenger/contents?extension:scavengerhunt'"
   ]
  },
  {
   "cell_type": "code",
   "execution_count": null,
   "id": "1c80bfc0",
   "metadata": {},
   "outputs": [],
   "source": [
    "res = req.get(url)"
   ]
  },
  {
   "cell_type": "code",
   "execution_count": null,
   "id": "e75a5363",
   "metadata": {},
   "outputs": [],
   "source": [
    "res"
   ]
  },
  {
   "cell_type": "code",
   "execution_count": null,
   "id": "1888aa54",
   "metadata": {},
   "outputs": [],
   "source": [
    "lst = res.json()"
   ]
  },
  {
   "cell_type": "code",
   "execution_count": null,
   "id": "b2886a6c",
   "metadata": {},
   "outputs": [],
   "source": [
    "lst[1]"
   ]
  },
  {
   "cell_type": "code",
   "execution_count": null,
   "id": "f8453da2",
   "metadata": {},
   "outputs": [],
   "source": [
    "req.get(lst[1]['url']).json()"
   ]
  },
  {
   "cell_type": "code",
   "execution_count": null,
   "id": "062e8c9a",
   "metadata": {},
   "outputs": [],
   "source": [
    "req.get(lst[1]['url']).json()[0]['download_url']"
   ]
  },
  {
   "cell_type": "code",
   "execution_count": null,
   "id": "1e1a4f82",
   "metadata": {},
   "outputs": [],
   "source": [
    "nueva_url = req.get(lst[1]['url']).json()[0]['html_url']"
   ]
  },
  {
   "cell_type": "code",
   "execution_count": null,
   "id": "de62a06d",
   "metadata": {},
   "outputs": [],
   "source": [
    "req.get(nueva_url).text"
   ]
  },
  {
   "cell_type": "code",
   "execution_count": null,
   "id": "e1817e7c",
   "metadata": {},
   "outputs": [],
   "source": [
    "req.get(lst[2]['url']).json()[0]"
   ]
  },
  {
   "cell_type": "code",
   "execution_count": null,
   "id": "551b98bf",
   "metadata": {},
   "outputs": [],
   "source": [
    "raw_data = []\n",
    "\n",
    "\n",
    "for e in lst:\n",
    "    \n",
    "    try:\n",
    "        \n",
    "        data = req.get(e['url']).json()[0]\n",
    "        \n",
    "        raw_data.append({'name': data['name'],\n",
    "                         'url': data['download_url']})\n",
    "        \n",
    "        \n",
    "    except:\n",
    "        print(e)\n"
   ]
  },
  {
   "cell_type": "code",
   "execution_count": null,
   "id": "3706be91",
   "metadata": {},
   "outputs": [],
   "source": [
    "raw_data"
   ]
  },
  {
   "cell_type": "code",
   "execution_count": null,
   "id": "0f742dde",
   "metadata": {},
   "outputs": [],
   "source": [
    "raw_data = sorted(raw_data, key=lambda x: x['name'])"
   ]
  },
  {
   "cell_type": "code",
   "execution_count": null,
   "id": "c74daa4e",
   "metadata": {},
   "outputs": [],
   "source": [
    "respuesta = ''\n",
    "\n",
    "\n",
    "for e in raw_data:\n",
    "    \n",
    "    resp = req.get(e['url']).text\n",
    "    \n",
    "    respuesta+=resp"
   ]
  },
  {
   "cell_type": "code",
   "execution_count": null,
   "id": "02ee55f1",
   "metadata": {},
   "outputs": [],
   "source": [
    "print(respuesta)"
   ]
  },
  {
   "cell_type": "code",
   "execution_count": null,
   "id": "d0ffedbb",
   "metadata": {},
   "outputs": [],
   "source": []
  },
  {
   "cell_type": "code",
   "execution_count": null,
   "id": "24cf5912",
   "metadata": {},
   "outputs": [],
   "source": []
  },
  {
   "cell_type": "code",
   "execution_count": null,
   "id": "043e4034",
   "metadata": {},
   "outputs": [],
   "source": []
  },
  {
   "cell_type": "code",
   "execution_count": null,
   "id": "598b2c61",
   "metadata": {},
   "outputs": [],
   "source": []
  },
  {
   "cell_type": "code",
   "execution_count": null,
   "id": "b5b27131",
   "metadata": {},
   "outputs": [],
   "source": []
  }
 ],
 "metadata": {
  "kernelspec": {
   "display_name": "clase",
   "language": "python",
   "name": "clase"
  },
  "language_info": {
   "codemirror_mode": {
    "name": "ipython",
    "version": 3
   },
   "file_extension": ".py",
   "mimetype": "text/x-python",
   "name": "python",
   "nbconvert_exporter": "python",
   "pygments_lexer": "ipython3",
   "version": "3.9.12"
  }
 },
 "nbformat": 4,
 "nbformat_minor": 5
}
