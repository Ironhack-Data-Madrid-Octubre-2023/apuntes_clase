{
 "cells": [
  {
   "cell_type": "markdown",
   "id": "c857bf50",
   "metadata": {},
   "source": [
    "# 1.2 - Peticiones a la web, APIs\n",
    "\n",
    "Una api interfaz de programación de aplicaciones, es un código que permite que dos programas de software se comuniquen entre sí.\n",
    "\n",
    "La api define la forma correcta para que un desarrollador escriba un programa que solicite servicios de un sistema operativo u otra aplicación. Las api se implementan mediante llamadas a funciones. La sintaxis requerida se describe en la documentación de la api a la que se llama, y cada una es diferente.\n",
    "\n",
    "Las api se componen de dos elementos relacionados. La primera es una especificación que describe cómo se intercambia la información entre programas, hecha en forma de una solicitud de procesamiento y una devolución de los datos necesarios. El segundo es una interfaz de software escrita según esa especificación y publicada de alguna manera para su uso. Se dice que el software que quiere acceder a las características y capacidades de la API la llama, y se dice que el software que crea la API la publica.\n",
    "\n",
    "De manera general, usaremos las api para obtener información."
   ]
  },
  {
   "cell_type": "markdown",
   "id": "ed2c7ab2",
   "metadata": {},
   "source": [
    "### Realizando una petición a la web (GET)\n",
    "\n",
    "Usaremos la librería [requests](https://requests.readthedocs.io/en/latest/) para realizar peticiones a la web."
   ]
  },
  {
   "cell_type": "code",
   "execution_count": null,
   "id": "bbd80052",
   "metadata": {},
   "outputs": [],
   "source": [
    "#%pip install requests"
   ]
  },
  {
   "cell_type": "code",
   "execution_count": 1,
   "id": "31f556f8",
   "metadata": {},
   "outputs": [],
   "source": [
    "import requests as req\n",
    "import time"
   ]
  },
  {
   "cell_type": "markdown",
   "id": "eef8c772",
   "metadata": {},
   "source": [
    "### [PokeAPI](https://pokeapi.co/)"
   ]
  },
  {
   "cell_type": "code",
   "execution_count": 2,
   "id": "7d10a9d6",
   "metadata": {},
   "outputs": [],
   "source": [
    "url='https://pokeapi.co/api/v2/pokemon/pikachu'"
   ]
  },
  {
   "cell_type": "code",
   "execution_count": 3,
   "id": "a9ba9f1f",
   "metadata": {},
   "outputs": [
    {
     "data": {
      "text/plain": [
       "<Response [200]>"
      ]
     },
     "execution_count": 3,
     "metadata": {},
     "output_type": "execute_result"
    }
   ],
   "source": [
    "# Hacemos la petición a la API\n",
    "res=req.get(url)\n",
    "\n",
    "res"
   ]
  },
  {
   "cell_type": "code",
   "execution_count": 4,
   "id": "a857f24e",
   "metadata": {},
   "outputs": [
    {
     "data": {
      "text/plain": [
       "dict_keys(['abilities', 'base_experience', 'forms', 'game_indices', 'height', 'held_items', 'id', 'is_default', 'location_area_encounters', 'moves', 'name', 'order', 'past_abilities', 'past_types', 'species', 'sprites', 'stats', 'types', 'weight'])"
      ]
     },
     "execution_count": 4,
     "metadata": {},
     "output_type": "execute_result"
    }
   ],
   "source": [
    "# Exploramos las keys del json\n",
    "res.json().keys()"
   ]
  },
  {
   "cell_type": "code",
   "execution_count": 5,
   "id": "58128b3f",
   "metadata": {},
   "outputs": [
    {
     "data": {
      "text/plain": [
       "'electric'"
      ]
     },
     "execution_count": 5,
     "metadata": {},
     "output_type": "execute_result"
    }
   ],
   "source": [
    "# Navegamos hasta el tipo\n",
    "res.json()[\"types\"][0][\"type\"][\"name\"]"
   ]
  },
  {
   "cell_type": "code",
   "execution_count": 24,
   "id": "371de406",
   "metadata": {},
   "outputs": [],
   "source": [
    "# Ahora vamos a itentar acceder a lo mismo pero usando el índice en vez del nombre\n",
    "\n",
    "index = 25  # Por ejemplo, asumiendo que 'index' tiene el valor 25\n",
    "url = f\"https://pokeapi.co/api/v2/pokemon/{index}/\""
   ]
  },
  {
   "cell_type": "code",
   "execution_count": 25,
   "id": "57ece003",
   "metadata": {},
   "outputs": [],
   "source": [
    "res = req.get(url)"
   ]
  },
  {
   "cell_type": "code",
   "execution_count": 26,
   "id": "df34e0b6",
   "metadata": {},
   "outputs": [
    {
     "data": {
      "text/plain": [
       "'electric'"
      ]
     },
     "execution_count": 26,
     "metadata": {},
     "output_type": "execute_result"
    }
   ],
   "source": [
    "res.json()[\"types\"][0][\"type\"][\"name\"]"
   ]
  },
  {
   "cell_type": "code",
   "execution_count": 31,
   "id": "3489b633",
   "metadata": {},
   "outputs": [],
   "source": [
    "# Ahora vamos a probar otra forma de llegar al mismo pokemon, por índice\n",
    "i=4\n",
    "url = f\"https://pokeapi.co/api/v2/pokemon/{i}/\""
   ]
  },
  {
   "cell_type": "code",
   "execution_count": 32,
   "id": "06640dd6",
   "metadata": {},
   "outputs": [
    {
     "data": {
      "text/plain": [
       "dict_keys(['abilities', 'base_experience', 'forms', 'game_indices', 'height', 'held_items', 'id', 'is_default', 'location_area_encounters', 'moves', 'name', 'order', 'past_abilities', 'past_types', 'species', 'sprites', 'stats', 'types', 'weight'])"
      ]
     },
     "execution_count": 32,
     "metadata": {},
     "output_type": "execute_result"
    }
   ],
   "source": [
    "req.get(url).json().keys()"
   ]
  },
  {
   "cell_type": "code",
   "execution_count": 33,
   "id": "5cc86f2c",
   "metadata": {},
   "outputs": [
    {
     "data": {
      "text/plain": [
       "'charmander'"
      ]
     },
     "execution_count": 33,
     "metadata": {},
     "output_type": "execute_result"
    }
   ],
   "source": [
    "req.get(url).json()[\"name\"]"
   ]
  },
  {
   "cell_type": "code",
   "execution_count": 34,
   "id": "a04d2d95",
   "metadata": {},
   "outputs": [
    {
     "data": {
      "text/plain": [
       "'fire'"
      ]
     },
     "execution_count": 34,
     "metadata": {},
     "output_type": "execute_result"
    }
   ],
   "source": [
    "req.get(url).json()[\"types\"][0][\"type\"][\"name\"]"
   ]
  },
  {
   "cell_type": "code",
   "execution_count": 35,
   "id": "75c5dfee",
   "metadata": {},
   "outputs": [
    {
     "name": "stdout",
     "output_type": "stream",
     "text": [
      "1 --- bulbasaur --- grass\n",
      "2 --- ivysaur --- grass\n",
      "3 --- venusaur --- grass\n",
      "4 --- charmander --- fire\n",
      "5 --- charmeleon --- fire\n",
      "6 --- charizard --- fire\n",
      "7 --- squirtle --- water\n",
      "8 --- wartortle --- water\n",
      "9 --- blastoise --- water\n",
      "10 --- caterpie --- bug\n",
      "11 --- metapod --- bug\n",
      "12 --- butterfree --- bug\n",
      "13 --- weedle --- bug\n",
      "14 --- kakuna --- bug\n",
      "15 --- beedrill --- bug\n",
      "16 --- pidgey --- normal\n",
      "17 --- pidgeotto --- normal\n",
      "18 --- pidgeot --- normal\n",
      "19 --- rattata --- normal\n",
      "20 --- raticate --- normal\n",
      "21 --- spearow --- normal\n",
      "22 --- fearow --- normal\n",
      "23 --- ekans --- poison\n",
      "24 --- arbok --- poison\n",
      "25 --- pikachu --- electric\n"
     ]
    }
   ],
   "source": [
    "for i in range(1, 26):\n",
    "    url = f\"https://pokeapi.co/api/v2/pokemon/{i}/\"\n",
    "    print(i,\"---\",req.get(url).json()[\"name\"], \"---\",req.get(url).json()[\"types\"][0][\"type\"][\"name\"])"
   ]
  },
  {
   "cell_type": "markdown",
   "id": "96187a3f",
   "metadata": {},
   "source": [
    "### [Rick y Morty API](https://rickandmortyapi.com/)"
   ]
  },
  {
   "cell_type": "code",
   "execution_count": null,
   "id": "eab6306a",
   "metadata": {},
   "outputs": [],
   "source": [
    "url='https://rickandmortyapi.com/api/'"
   ]
  },
  {
   "cell_type": "code",
   "execution_count": null,
   "id": "26daf247",
   "metadata": {},
   "outputs": [],
   "source": [
    "res=req.get(url)\n",
    "\n",
    "# Obtenemos la respuesta váida\n",
    "res"
   ]
  },
  {
   "cell_type": "code",
   "execution_count": null,
   "id": "86dc163a",
   "metadata": {},
   "outputs": [],
   "source": [
    "# Exploramos el json\n",
    "res.json()"
   ]
  },
  {
   "cell_type": "code",
   "execution_count": null,
   "id": "9b14139b",
   "metadata": {},
   "outputs": [],
   "source": [
    "# Guardamos la url de characters\n",
    "url_chars = res.json()[\"characters\"]\n",
    "url_chars"
   ]
  },
  {
   "cell_type": "code",
   "execution_count": null,
   "id": "d2fa25e8",
   "metadata": {},
   "outputs": [],
   "source": [
    "# Investigamos el JSON. Vemos las keys.\n",
    "req.get(url_chars).json().keys()"
   ]
  },
  {
   "cell_type": "code",
   "execution_count": null,
   "id": "d4841aa9",
   "metadata": {},
   "outputs": [],
   "source": [
    "# Hacemos una petición a esa nueva url y navegamos hasta el primer personaje\n",
    "req.get(url_chars).json()[\"results\"][0][\"name\"]"
   ]
  },
  {
   "cell_type": "code",
   "execution_count": null,
   "id": "611041d4",
   "metadata": {},
   "outputs": [],
   "source": [
    "# Iteramos para hacer lo mismo para los 20 primeros personajes.\n",
    "# Si añadimos más nombres nos da un error de index, así que hay que pasar la página.\n",
    "for i in range(20):\n",
    "    print(req.get(url_chars).json()[\"results\"][i][\"name\"])"
   ]
  },
  {
   "cell_type": "code",
   "execution_count": null,
   "id": "91f9260e",
   "metadata": {},
   "outputs": [],
   "source": [
    "# Volvemos a mirar el json y vemos la key \"pages\" dentro de las values de la key \"info\"\n",
    "req.get(url_chars).json()[\"info\"][\"pages\"]"
   ]
  },
  {
   "cell_type": "code",
   "execution_count": null,
   "id": "ae7ffb11",
   "metadata": {},
   "outputs": [],
   "source": [
    "# También vemos la key \"next\" dentro de las values de la key \"info\"\n",
    "req.get(url_chars).json()[\"info\"][\"next\"]"
   ]
  },
  {
   "cell_type": "code",
   "execution_count": null,
   "id": "07ee73e8",
   "metadata": {},
   "outputs": [],
   "source": [
    "# Vamos a probar para cualquier página, por ejemplo, la 3.\n",
    "i=3\n",
    "url_pag = f'https://rickandmortyapi.com/api/character?page={i}'\n",
    "\n",
    "# Vemos cómo cambian los results\n",
    "req.get(url_pag).json()[\"results\"][:3]"
   ]
  },
  {
   "cell_type": "code",
   "execution_count": null,
   "id": "97708f02",
   "metadata": {},
   "outputs": [],
   "source": [
    "# Del mismo modo que antes, podemos acceder al nombre\n",
    "req.get(url_pag).json()[\"results\"][0][\"name\"]"
   ]
  },
  {
   "cell_type": "code",
   "execution_count": null,
   "id": "2ed5f309",
   "metadata": {},
   "outputs": [],
   "source": [
    "# Loopeamos por, por ejemplo, las 3 primeras páginas (endpoints)\n",
    "for i in range(1,4):\n",
    "    url_pag = f'https://rickandmortyapi.com/api/character?page={i}'\n",
    "    res = req.get(url_pag).json()[\"results\"]\n",
    "    print(\"------\")\n",
    "    \n",
    "    # Y aquí loopeamos por la página en sí para coger cada nombre\n",
    "    for i in range(len(res)):\n",
    "        print(req.get(url_pag).json()[\"results\"][i][\"name\"])"
   ]
  },
  {
   "cell_type": "code",
   "execution_count": null,
   "id": "fe5a2021",
   "metadata": {},
   "outputs": [],
   "source": [
    "# También podemos ir directamente a la página de characters de la api y loopear por ella\n",
    "for i in range(1, 45):\n",
    "    url = url_chars + \"/\" + str(i)\n",
    "    print(req.get(url).json()[\"name\"])"
   ]
  },
  {
   "cell_type": "markdown",
   "id": "9706911d",
   "metadata": {},
   "source": [
    "## API Anime"
   ]
  },
  {
   "cell_type": "code",
   "execution_count": null,
   "id": "53d04671",
   "metadata": {},
   "outputs": [],
   "source": [
    "url = 'https://api.jikan.moe/v4/anime?q='"
   ]
  },
  {
   "cell_type": "code",
   "execution_count": null,
   "id": "94378bd3",
   "metadata": {},
   "outputs": [],
   "source": [
    "# Buscamos alguna serie de Anime conocida\n",
    "busqueda=input()"
   ]
  },
  {
   "cell_type": "code",
   "execution_count": null,
   "id": "5223c17e",
   "metadata": {},
   "outputs": [],
   "source": [
    "# Hacemos la petición a la API\n",
    "res=req.get(url+busqueda)\n",
    "\n",
    "res"
   ]
  },
  {
   "cell_type": "code",
   "execution_count": null,
   "id": "e15e2fb3",
   "metadata": {},
   "outputs": [],
   "source": [
    "# Vemos qué hay en el json de la API\n",
    "res.json().keys()"
   ]
  },
  {
   "cell_type": "code",
   "execution_count": null,
   "id": "9a3a6f7b",
   "metadata": {},
   "outputs": [],
   "source": [
    "# Navegamos, investigamos\n",
    "res.json()[\"data\"][:2]"
   ]
  },
  {
   "cell_type": "code",
   "execution_count": null,
   "id": "13a14a32",
   "metadata": {},
   "outputs": [],
   "source": [
    "# Vamos a intentar conseguir una imagen\n",
    "res.json()[\"data\"][0][\"images\"][\"jpg\"][\"image_url\"]"
   ]
  },
  {
   "cell_type": "code",
   "execution_count": null,
   "id": "ec6eeb3d",
   "metadata": {},
   "outputs": [],
   "source": [
    "from IPython.display import Image\n",
    "\n",
    "# URL de la imagen\n",
    "url_imagen = res.json()[\"data\"][0][\"images\"][\"jpg\"][\"image_url\"]\n",
    "\n",
    "# Muestra la imagen en el Jupyter Notebook\n",
    "Image(url=url_imagen)"
   ]
  },
  {
   "cell_type": "markdown",
   "id": "e1200cd0",
   "metadata": {},
   "source": [
    "### [ISS](https://wheretheiss.at/w/developer) API"
   ]
  },
  {
   "cell_type": "code",
   "execution_count": 14,
   "id": "cbfc7405",
   "metadata": {
    "scrolled": false
   },
   "outputs": [],
   "source": [
    "url='https://api.wheretheiss.at/v1/satellites/25544'"
   ]
  },
  {
   "cell_type": "code",
   "execution_count": 15,
   "id": "ffe6251c",
   "metadata": {},
   "outputs": [
    {
     "data": {
      "text/plain": [
       "<Response [200]>"
      ]
     },
     "execution_count": 15,
     "metadata": {},
     "output_type": "execute_result"
    }
   ],
   "source": [
    "# Hacemos la petición a la API\n",
    "res=req.get(url)\n",
    "\n",
    "res"
   ]
  },
  {
   "cell_type": "code",
   "execution_count": 16,
   "id": "069ea68b",
   "metadata": {},
   "outputs": [
    {
     "data": {
      "text/plain": [
       "{'name': 'iss',\n",
       " 'id': 25544,\n",
       " 'latitude': 12.15149198052,\n",
       " 'longitude': -26.342322138089,\n",
       " 'altitude': 417.23412182401,\n",
       " 'velocity': 27586.878715468,\n",
       " 'visibility': 'daylight',\n",
       " 'footprint': 4493.3650607426,\n",
       " 'timestamp': 1698666336,\n",
       " 'daynum': 2460247.99,\n",
       " 'solar_lat': -13.782979709274,\n",
       " 'solar_lon': 359.52018658801,\n",
       " 'units': 'kilometers'}"
      ]
     },
     "execution_count": 16,
     "metadata": {},
     "output_type": "execute_result"
    }
   ],
   "source": [
    "# Examinamos el json\n",
    "req.get(url).json()"
   ]
  },
  {
   "cell_type": "code",
   "execution_count": 17,
   "id": "0688f185",
   "metadata": {},
   "outputs": [
    {
     "data": {
      "text/plain": [
       "{'name': 'iss',\n",
       " 'id': 25544,\n",
       " 'latitude': 12.201734734222,\n",
       " 'longitude': -26.380070797735,\n",
       " 'altitude': 417.23383924299,\n",
       " 'velocity': 27586.896929484,\n",
       " 'visibility': 'daylight',\n",
       " 'footprint': 4493.3636176012,\n",
       " 'timestamp': 1698666335,\n",
       " 'daynum': 2460247.9899884,\n",
       " 'solar_lat': -13.782975916263,\n",
       " 'solar_lon': 359.52435355853,\n",
       " 'units': 'kilometers'}"
      ]
     },
     "execution_count": 17,
     "metadata": {},
     "output_type": "execute_result"
    }
   ],
   "source": [
    "# Volvemos a examinar el json para ver cómo varía la posición\n",
    "res.json()"
   ]
  },
  {
   "cell_type": "code",
   "execution_count": 18,
   "id": "ceef0e05",
   "metadata": {},
   "outputs": [
    {
     "name": "stdout",
     "output_type": "stream",
     "text": [
      "Wall time: 5.97 s\n"
     ]
    }
   ],
   "source": [
    "%%time\n",
    "\n",
    "posiciones=[]\n",
    "\n",
    "# Realizamos la petición 5 veces, una cada medio segundo\n",
    "for i in range(5):\n",
    "    \n",
    "    res_iss=req.get(url)   \n",
    "\n",
    "    data=res_iss.json()\n",
    "    #print(data)\n",
    "    \n",
    "    posiciones.append(data)\n",
    "    \n",
    "    time.sleep(0.5)"
   ]
  },
  {
   "cell_type": "code",
   "execution_count": 19,
   "id": "38312f13",
   "metadata": {},
   "outputs": [
    {
     "data": {
      "text/plain": [
       "[{'name': 'iss',\n",
       "  'id': 25544,\n",
       "  'latitude': 12.15149198052,\n",
       "  'longitude': -26.342322138089,\n",
       "  'altitude': 417.23412182401,\n",
       "  'velocity': 27586.878715468,\n",
       "  'visibility': 'daylight',\n",
       "  'footprint': 4493.3650607426,\n",
       "  'timestamp': 1698666336,\n",
       "  'daynum': 2460247.99,\n",
       "  'solar_lat': -13.782979709274,\n",
       "  'solar_lon': 359.52018658801,\n",
       "  'units': 'kilometers'},\n",
       " {'name': 'iss',\n",
       "  'id': 25544,\n",
       "  'latitude': 12.101244784774,\n",
       "  'longitude': -26.304590735815,\n",
       "  'altitude': 417.23443071538,\n",
       "  'velocity': 27586.860459316,\n",
       "  'visibility': 'daylight',\n",
       "  'footprint': 4493.3666382504,\n",
       "  'timestamp': 1698666337,\n",
       "  'daynum': 2460247.9900116,\n",
       "  'solar_lat': -13.782983502135,\n",
       "  'solar_lon': 359.51601978515,\n",
       "  'units': 'kilometers'},\n",
       " {'name': 'iss',\n",
       "  'id': 25544,\n",
       "  'latitude': 12.000731124261,\n",
       "  'longitude': -26.229174863951,\n",
       "  'altitude': 417.23512755984,\n",
       "  'velocity': 27586.82381836,\n",
       "  'visibility': 'daylight',\n",
       "  'footprint': 4493.3701970317,\n",
       "  'timestamp': 1698666339,\n",
       "  'daynum': 2460247.9900347,\n",
       "  'solar_lat': -13.782991087847,\n",
       "  'solar_lon': 359.5076861794,\n",
       "  'units': 'kilometers'},\n",
       " {'name': 'iss',\n",
       "  'id': 25544,\n",
       "  'latitude': 11.950464719792,\n",
       "  'longitude': -26.191490253328,\n",
       "  'altitude': 417.23551556171,\n",
       "  'velocity': 27586.805433533,\n",
       "  'visibility': 'daylight',\n",
       "  'footprint': 4493.3721785539,\n",
       "  'timestamp': 1698666340,\n",
       "  'daynum': 2460247.9900463,\n",
       "  'solar_lat': -13.782994880704,\n",
       "  'solar_lon': 359.50351937653,\n",
       "  'units': 'kilometers'},\n",
       " {'name': 'iss',\n",
       "  'id': 25544,\n",
       "  'latitude': 11.900191972655,\n",
       "  'longitude': -26.153821098996,\n",
       "  'altitude': 417.2359299823,\n",
       "  'velocity': 27586.78700579,\n",
       "  'visibility': 'daylight',\n",
       "  'footprint': 4493.374294995,\n",
       "  'timestamp': 1698666341,\n",
       "  'daynum': 2460247.9900579,\n",
       "  'solar_lat': -13.782998673561,\n",
       "  'solar_lon': 359.49935257366,\n",
       "  'units': 'kilometers'}]"
      ]
     },
     "execution_count": 19,
     "metadata": {},
     "output_type": "execute_result"
    }
   ],
   "source": [
    "posiciones"
   ]
  },
  {
   "cell_type": "code",
   "execution_count": 20,
   "id": "45f8b447",
   "metadata": {},
   "outputs": [
    {
     "data": {
      "text/html": [
       "<div>\n",
       "<style scoped>\n",
       "    .dataframe tbody tr th:only-of-type {\n",
       "        vertical-align: middle;\n",
       "    }\n",
       "\n",
       "    .dataframe tbody tr th {\n",
       "        vertical-align: top;\n",
       "    }\n",
       "\n",
       "    .dataframe thead th {\n",
       "        text-align: right;\n",
       "    }\n",
       "</style>\n",
       "<table border=\"1\" class=\"dataframe\">\n",
       "  <thead>\n",
       "    <tr style=\"text-align: right;\">\n",
       "      <th></th>\n",
       "      <th>name</th>\n",
       "      <th>id</th>\n",
       "      <th>latitude</th>\n",
       "      <th>longitude</th>\n",
       "      <th>altitude</th>\n",
       "      <th>velocity</th>\n",
       "      <th>visibility</th>\n",
       "      <th>footprint</th>\n",
       "      <th>timestamp</th>\n",
       "      <th>daynum</th>\n",
       "      <th>solar_lat</th>\n",
       "      <th>solar_lon</th>\n",
       "      <th>units</th>\n",
       "    </tr>\n",
       "  </thead>\n",
       "  <tbody>\n",
       "    <tr>\n",
       "      <th>0</th>\n",
       "      <td>iss</td>\n",
       "      <td>25544</td>\n",
       "      <td>12.151492</td>\n",
       "      <td>-26.342322</td>\n",
       "      <td>417.234122</td>\n",
       "      <td>27586.878715</td>\n",
       "      <td>daylight</td>\n",
       "      <td>4493.365061</td>\n",
       "      <td>1698666336</td>\n",
       "      <td>2.460248e+06</td>\n",
       "      <td>-13.782980</td>\n",
       "      <td>359.520187</td>\n",
       "      <td>kilometers</td>\n",
       "    </tr>\n",
       "    <tr>\n",
       "      <th>1</th>\n",
       "      <td>iss</td>\n",
       "      <td>25544</td>\n",
       "      <td>12.101245</td>\n",
       "      <td>-26.304591</td>\n",
       "      <td>417.234431</td>\n",
       "      <td>27586.860459</td>\n",
       "      <td>daylight</td>\n",
       "      <td>4493.366638</td>\n",
       "      <td>1698666337</td>\n",
       "      <td>2.460248e+06</td>\n",
       "      <td>-13.782984</td>\n",
       "      <td>359.516020</td>\n",
       "      <td>kilometers</td>\n",
       "    </tr>\n",
       "    <tr>\n",
       "      <th>2</th>\n",
       "      <td>iss</td>\n",
       "      <td>25544</td>\n",
       "      <td>12.000731</td>\n",
       "      <td>-26.229175</td>\n",
       "      <td>417.235128</td>\n",
       "      <td>27586.823818</td>\n",
       "      <td>daylight</td>\n",
       "      <td>4493.370197</td>\n",
       "      <td>1698666339</td>\n",
       "      <td>2.460248e+06</td>\n",
       "      <td>-13.782991</td>\n",
       "      <td>359.507686</td>\n",
       "      <td>kilometers</td>\n",
       "    </tr>\n",
       "    <tr>\n",
       "      <th>3</th>\n",
       "      <td>iss</td>\n",
       "      <td>25544</td>\n",
       "      <td>11.950465</td>\n",
       "      <td>-26.191490</td>\n",
       "      <td>417.235516</td>\n",
       "      <td>27586.805434</td>\n",
       "      <td>daylight</td>\n",
       "      <td>4493.372179</td>\n",
       "      <td>1698666340</td>\n",
       "      <td>2.460248e+06</td>\n",
       "      <td>-13.782995</td>\n",
       "      <td>359.503519</td>\n",
       "      <td>kilometers</td>\n",
       "    </tr>\n",
       "    <tr>\n",
       "      <th>4</th>\n",
       "      <td>iss</td>\n",
       "      <td>25544</td>\n",
       "      <td>11.900192</td>\n",
       "      <td>-26.153821</td>\n",
       "      <td>417.235930</td>\n",
       "      <td>27586.787006</td>\n",
       "      <td>daylight</td>\n",
       "      <td>4493.374295</td>\n",
       "      <td>1698666341</td>\n",
       "      <td>2.460248e+06</td>\n",
       "      <td>-13.782999</td>\n",
       "      <td>359.499353</td>\n",
       "      <td>kilometers</td>\n",
       "    </tr>\n",
       "  </tbody>\n",
       "</table>\n",
       "</div>"
      ],
      "text/plain": [
       "  name     id   latitude  longitude    altitude      velocity visibility  \\\n",
       "0  iss  25544  12.151492 -26.342322  417.234122  27586.878715   daylight   \n",
       "1  iss  25544  12.101245 -26.304591  417.234431  27586.860459   daylight   \n",
       "2  iss  25544  12.000731 -26.229175  417.235128  27586.823818   daylight   \n",
       "3  iss  25544  11.950465 -26.191490  417.235516  27586.805434   daylight   \n",
       "4  iss  25544  11.900192 -26.153821  417.235930  27586.787006   daylight   \n",
       "\n",
       "     footprint   timestamp        daynum  solar_lat   solar_lon       units  \n",
       "0  4493.365061  1698666336  2.460248e+06 -13.782980  359.520187  kilometers  \n",
       "1  4493.366638  1698666337  2.460248e+06 -13.782984  359.516020  kilometers  \n",
       "2  4493.370197  1698666339  2.460248e+06 -13.782991  359.507686  kilometers  \n",
       "3  4493.372179  1698666340  2.460248e+06 -13.782995  359.503519  kilometers  \n",
       "4  4493.374295  1698666341  2.460248e+06 -13.782999  359.499353  kilometers  "
      ]
     },
     "execution_count": 20,
     "metadata": {},
     "output_type": "execute_result"
    }
   ],
   "source": [
    "import pandas as pd\n",
    "\n",
    "df=pd.DataFrame(posiciones)\n",
    "\n",
    "df.head()"
   ]
  },
  {
   "cell_type": "code",
   "execution_count": 21,
   "id": "d13c7e87",
   "metadata": {},
   "outputs": [
    {
     "name": "stdout",
     "output_type": "stream",
     "text": [
      "<class 'pandas.core.frame.DataFrame'>\n",
      "RangeIndex: 5 entries, 0 to 4\n",
      "Data columns (total 13 columns):\n",
      " #   Column      Non-Null Count  Dtype  \n",
      "---  ------      --------------  -----  \n",
      " 0   name        5 non-null      object \n",
      " 1   id          5 non-null      int64  \n",
      " 2   latitude    5 non-null      float64\n",
      " 3   longitude   5 non-null      float64\n",
      " 4   altitude    5 non-null      float64\n",
      " 5   velocity    5 non-null      float64\n",
      " 6   visibility  5 non-null      object \n",
      " 7   footprint   5 non-null      float64\n",
      " 8   timestamp   5 non-null      int64  \n",
      " 9   daynum      5 non-null      float64\n",
      " 10  solar_lat   5 non-null      float64\n",
      " 11  solar_lon   5 non-null      float64\n",
      " 12  units       5 non-null      object \n",
      "dtypes: float64(8), int64(2), object(3)\n",
      "memory usage: 648.0+ bytes\n"
     ]
    }
   ],
   "source": [
    "df.info()"
   ]
  }
 ],
 "metadata": {
  "kernelspec": {
   "display_name": "Python 3 (ipykernel)",
   "language": "python",
   "name": "python3"
  },
  "language_info": {
   "codemirror_mode": {
    "name": "ipython",
    "version": 3
   },
   "file_extension": ".py",
   "mimetype": "text/x-python",
   "name": "python",
   "nbconvert_exporter": "python",
   "pygments_lexer": "ipython3",
   "version": "3.9.13"
  }
 },
 "nbformat": 4,
 "nbformat_minor": 5
}
