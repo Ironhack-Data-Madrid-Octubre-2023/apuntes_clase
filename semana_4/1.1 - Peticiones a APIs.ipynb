{
 "cells": [
  {
   "cell_type": "markdown",
   "id": "c857bf50",
   "metadata": {},
   "source": [
    "# 1.2 - Peticiones a la web, APIs\n",
    "\n",
    "Una api interfaz de programación de aplicaciones, es un código que permite que dos programas de software se comuniquen entre sí.\n",
    "\n",
    "La api define la forma correcta para que un desarrollador escriba un programa que solicite servicios de un sistema operativo u otra aplicación. Las api se implementan mediante llamadas a funciones. La sintaxis requerida se describe en la documentación de la api a la que se llama, y cada una es diferente.\n",
    "\n",
    "Las api se componen de dos elementos relacionados. La primera es una especificación que describe cómo se intercambia la información entre programas, hecha en forma de una solicitud de procesamiento y una devolución de los datos necesarios. El segundo es una interfaz de software escrita según esa especificación y publicada de alguna manera para su uso. Se dice que el software que quiere acceder a las características y capacidades de la API la llama, y se dice que el software que crea la API la publica.\n",
    "\n",
    "De manera general, usaremos las api para obtener información."
   ]
  },
  {
   "cell_type": "markdown",
   "id": "ed2c7ab2",
   "metadata": {},
   "source": [
    "### Realizando una petición a la web (GET)\n",
    "\n",
    "Usaremos la librería [requests](https://requests.readthedocs.io/en/latest/) para realizar peticiones a la web."
   ]
  },
  {
   "cell_type": "code",
   "execution_count": null,
   "id": "bbd80052",
   "metadata": {},
   "outputs": [],
   "source": [
    "#%pip install requests"
   ]
  },
  {
   "cell_type": "code",
   "execution_count": 2,
   "id": "31f556f8",
   "metadata": {},
   "outputs": [],
   "source": [
    "import requests as req\n",
    "import time"
   ]
  },
  {
   "cell_type": "markdown",
   "id": "eef8c772",
   "metadata": {},
   "source": [
    "### [PokeAPI](https://pokeapi.co/)"
   ]
  },
  {
   "cell_type": "code",
   "execution_count": 2,
   "id": "7d10a9d6",
   "metadata": {},
   "outputs": [],
   "source": [
    "url='https://pokeapi.co/api/v2/pokemon/pikachu'"
   ]
  },
  {
   "cell_type": "code",
   "execution_count": 3,
   "id": "a9ba9f1f",
   "metadata": {},
   "outputs": [
    {
     "data": {
      "text/plain": [
       "<Response [200]>"
      ]
     },
     "execution_count": 3,
     "metadata": {},
     "output_type": "execute_result"
    }
   ],
   "source": [
    "# Hacemos la petición a la API\n",
    "res=req.get(url)\n",
    "\n",
    "res"
   ]
  },
  {
   "cell_type": "code",
   "execution_count": 4,
   "id": "a857f24e",
   "metadata": {},
   "outputs": [
    {
     "data": {
      "text/plain": [
       "dict_keys(['abilities', 'base_experience', 'forms', 'game_indices', 'height', 'held_items', 'id', 'is_default', 'location_area_encounters', 'moves', 'name', 'order', 'past_abilities', 'past_types', 'species', 'sprites', 'stats', 'types', 'weight'])"
      ]
     },
     "execution_count": 4,
     "metadata": {},
     "output_type": "execute_result"
    }
   ],
   "source": [
    "# Exploramos las keys del json\n",
    "res.json().keys()"
   ]
  },
  {
   "cell_type": "code",
   "execution_count": 5,
   "id": "58128b3f",
   "metadata": {},
   "outputs": [
    {
     "data": {
      "text/plain": [
       "'electric'"
      ]
     },
     "execution_count": 5,
     "metadata": {},
     "output_type": "execute_result"
    }
   ],
   "source": [
    "# Navegamos hasta el tipo\n",
    "res.json()[\"types\"][0][\"type\"][\"name\"]"
   ]
  },
  {
   "cell_type": "code",
   "execution_count": 24,
   "id": "371de406",
   "metadata": {},
   "outputs": [],
   "source": [
    "# Ahora vamos a itentar acceder a lo mismo pero usando el índice en vez del nombre\n",
    "\n",
    "index = 25  # Por ejemplo, asumiendo que 'index' tiene el valor 25\n",
    "url = f\"https://pokeapi.co/api/v2/pokemon/{index}/\""
   ]
  },
  {
   "cell_type": "code",
   "execution_count": 25,
   "id": "57ece003",
   "metadata": {},
   "outputs": [],
   "source": [
    "res = req.get(url)"
   ]
  },
  {
   "cell_type": "code",
   "execution_count": 26,
   "id": "df34e0b6",
   "metadata": {},
   "outputs": [
    {
     "data": {
      "text/plain": [
       "'electric'"
      ]
     },
     "execution_count": 26,
     "metadata": {},
     "output_type": "execute_result"
    }
   ],
   "source": [
    "res.json()[\"types\"][0][\"type\"][\"name\"]"
   ]
  },
  {
   "cell_type": "code",
   "execution_count": 31,
   "id": "3489b633",
   "metadata": {},
   "outputs": [],
   "source": [
    "# Ahora vamos a probar otra forma de llegar al mismo pokemon, por índice\n",
    "i=4\n",
    "url = f\"https://pokeapi.co/api/v2/pokemon/{i}/\""
   ]
  },
  {
   "cell_type": "code",
   "execution_count": 32,
   "id": "06640dd6",
   "metadata": {},
   "outputs": [
    {
     "data": {
      "text/plain": [
       "dict_keys(['abilities', 'base_experience', 'forms', 'game_indices', 'height', 'held_items', 'id', 'is_default', 'location_area_encounters', 'moves', 'name', 'order', 'past_abilities', 'past_types', 'species', 'sprites', 'stats', 'types', 'weight'])"
      ]
     },
     "execution_count": 32,
     "metadata": {},
     "output_type": "execute_result"
    }
   ],
   "source": [
    "req.get(url).json().keys()"
   ]
  },
  {
   "cell_type": "code",
   "execution_count": 33,
   "id": "5cc86f2c",
   "metadata": {},
   "outputs": [
    {
     "data": {
      "text/plain": [
       "'charmander'"
      ]
     },
     "execution_count": 33,
     "metadata": {},
     "output_type": "execute_result"
    }
   ],
   "source": [
    "req.get(url).json()[\"name\"]"
   ]
  },
  {
   "cell_type": "code",
   "execution_count": 34,
   "id": "a04d2d95",
   "metadata": {},
   "outputs": [
    {
     "data": {
      "text/plain": [
       "'fire'"
      ]
     },
     "execution_count": 34,
     "metadata": {},
     "output_type": "execute_result"
    }
   ],
   "source": [
    "req.get(url).json()[\"types\"][0][\"type\"][\"name\"]"
   ]
  },
  {
   "cell_type": "code",
   "execution_count": 35,
   "id": "75c5dfee",
   "metadata": {},
   "outputs": [
    {
     "name": "stdout",
     "output_type": "stream",
     "text": [
      "1 --- bulbasaur --- grass\n",
      "2 --- ivysaur --- grass\n",
      "3 --- venusaur --- grass\n",
      "4 --- charmander --- fire\n",
      "5 --- charmeleon --- fire\n",
      "6 --- charizard --- fire\n",
      "7 --- squirtle --- water\n",
      "8 --- wartortle --- water\n",
      "9 --- blastoise --- water\n",
      "10 --- caterpie --- bug\n",
      "11 --- metapod --- bug\n",
      "12 --- butterfree --- bug\n",
      "13 --- weedle --- bug\n",
      "14 --- kakuna --- bug\n",
      "15 --- beedrill --- bug\n",
      "16 --- pidgey --- normal\n",
      "17 --- pidgeotto --- normal\n",
      "18 --- pidgeot --- normal\n",
      "19 --- rattata --- normal\n",
      "20 --- raticate --- normal\n",
      "21 --- spearow --- normal\n",
      "22 --- fearow --- normal\n",
      "23 --- ekans --- poison\n",
      "24 --- arbok --- poison\n",
      "25 --- pikachu --- electric\n"
     ]
    }
   ],
   "source": [
    "for i in range(1, 26):\n",
    "    url = f\"https://pokeapi.co/api/v2/pokemon/{i}/\"\n",
    "    print(i,\"---\",req.get(url).json()[\"name\"], \"---\",req.get(url).json()[\"types\"][0][\"type\"][\"name\"])"
   ]
  },
  {
   "cell_type": "markdown",
   "id": "96187a3f",
   "metadata": {},
   "source": [
    "### [Rick y Morty API](https://rickandmortyapi.com/)"
   ]
  },
  {
   "cell_type": "code",
   "execution_count": null,
   "id": "eab6306a",
   "metadata": {},
   "outputs": [],
   "source": [
    "url='https://rickandmortyapi.com/api/'"
   ]
  },
  {
   "cell_type": "code",
   "execution_count": null,
   "id": "26daf247",
   "metadata": {},
   "outputs": [],
   "source": [
    "res=req.get(url)\n",
    "\n",
    "# Obtenemos la respuesta váida\n",
    "res"
   ]
  },
  {
   "cell_type": "code",
   "execution_count": null,
   "id": "86dc163a",
   "metadata": {},
   "outputs": [],
   "source": [
    "# Exploramos el json\n",
    "res.json()"
   ]
  },
  {
   "cell_type": "code",
   "execution_count": null,
   "id": "9b14139b",
   "metadata": {},
   "outputs": [],
   "source": [
    "# Guardamos la url de characters\n",
    "url_chars = res.json()[\"characters\"]\n",
    "url_chars"
   ]
  },
  {
   "cell_type": "code",
   "execution_count": null,
   "id": "d2fa25e8",
   "metadata": {},
   "outputs": [],
   "source": [
    "# Investigamos el JSON. Vemos las keys.\n",
    "req.get(url_chars).json().keys()"
   ]
  },
  {
   "cell_type": "code",
   "execution_count": null,
   "id": "d4841aa9",
   "metadata": {},
   "outputs": [],
   "source": [
    "# Hacemos una petición a esa nueva url y navegamos hasta el primer personaje\n",
    "req.get(url_chars).json()[\"results\"][0][\"name\"]"
   ]
  },
  {
   "cell_type": "code",
   "execution_count": null,
   "id": "611041d4",
   "metadata": {},
   "outputs": [],
   "source": [
    "# Iteramos para hacer lo mismo para los 20 primeros personajes.\n",
    "# Si añadimos más nombres nos da un error de index, así que hay que pasar la página.\n",
    "for i in range(20):\n",
    "    print(req.get(url_chars).json()[\"results\"][i][\"name\"])"
   ]
  },
  {
   "cell_type": "code",
   "execution_count": null,
   "id": "91f9260e",
   "metadata": {},
   "outputs": [],
   "source": [
    "# Volvemos a mirar el json y vemos la key \"pages\" dentro de las values de la key \"info\"\n",
    "req.get(url_chars).json()[\"info\"][\"pages\"]"
   ]
  },
  {
   "cell_type": "code",
   "execution_count": null,
   "id": "ae7ffb11",
   "metadata": {},
   "outputs": [],
   "source": [
    "# También vemos la key \"next\" dentro de las values de la key \"info\"\n",
    "req.get(url_chars).json()[\"info\"][\"next\"]"
   ]
  },
  {
   "cell_type": "code",
   "execution_count": null,
   "id": "07ee73e8",
   "metadata": {},
   "outputs": [],
   "source": [
    "# Vamos a probar para cualquier página, por ejemplo, la 3.\n",
    "i=3\n",
    "url_pag = f'https://rickandmortyapi.com/api/character?page={i}'\n",
    "\n",
    "# Vemos cómo cambian los results\n",
    "req.get(url_pag).json()[\"results\"][:3]"
   ]
  },
  {
   "cell_type": "code",
   "execution_count": null,
   "id": "97708f02",
   "metadata": {},
   "outputs": [],
   "source": [
    "# Del mismo modo que antes, podemos acceder al nombre\n",
    "req.get(url_pag).json()[\"results\"][0][\"name\"]"
   ]
  },
  {
   "cell_type": "code",
   "execution_count": null,
   "id": "2ed5f309",
   "metadata": {},
   "outputs": [],
   "source": [
    "# Loopeamos por, por ejemplo, las 3 primeras páginas (endpoints)\n",
    "for i in range(1,4):\n",
    "    url_pag = f'https://rickandmortyapi.com/api/character?page={i}'\n",
    "    res = req.get(url_pag).json()[\"results\"]\n",
    "    print(\"------\")\n",
    "    \n",
    "    # Y aquí loopeamos por la página en sí para coger cada nombre\n",
    "    for i in range(len(res)):\n",
    "        print(req.get(url_pag).json()[\"results\"][i][\"name\"])"
   ]
  },
  {
   "cell_type": "code",
   "execution_count": null,
   "id": "fe5a2021",
   "metadata": {},
   "outputs": [],
   "source": [
    "# También podemos ir directamente a la página de characters de la api y loopear por ella\n",
    "for i in range(1, 45):\n",
    "    url = url_chars + \"/\" + str(i)\n",
    "    print(req.get(url).json()[\"name\"])"
   ]
  },
  {
   "cell_type": "markdown",
   "id": "9706911d",
   "metadata": {},
   "source": [
    "## API Anime"
   ]
  },
  {
   "cell_type": "code",
   "execution_count": null,
   "id": "53d04671",
   "metadata": {},
   "outputs": [],
   "source": [
    "url = 'https://api.jikan.moe/v4/anime?q='"
   ]
  },
  {
   "cell_type": "code",
   "execution_count": null,
   "id": "94378bd3",
   "metadata": {},
   "outputs": [],
   "source": [
    "# Buscamos alguna serie de Anime conocida\n",
    "busqueda=input()"
   ]
  },
  {
   "cell_type": "code",
   "execution_count": null,
   "id": "5223c17e",
   "metadata": {},
   "outputs": [],
   "source": [
    "# Hacemos la petición a la API\n",
    "res=req.get(url+busqueda)\n",
    "\n",
    "res"
   ]
  },
  {
   "cell_type": "code",
   "execution_count": null,
   "id": "e15e2fb3",
   "metadata": {},
   "outputs": [],
   "source": [
    "# Vemos qué hay en el json de la API\n",
    "res.json().keys()"
   ]
  },
  {
   "cell_type": "code",
   "execution_count": null,
   "id": "9a3a6f7b",
   "metadata": {},
   "outputs": [],
   "source": [
    "# Navegamos, investigamos\n",
    "res.json()[\"data\"][:2]"
   ]
  },
  {
   "cell_type": "code",
   "execution_count": null,
   "id": "13a14a32",
   "metadata": {},
   "outputs": [],
   "source": [
    "# Vamos a intentar conseguir una imagen\n",
    "res.json()[\"data\"][0][\"images\"][\"jpg\"][\"image_url\"]"
   ]
  },
  {
   "cell_type": "code",
   "execution_count": null,
   "id": "ec6eeb3d",
   "metadata": {},
   "outputs": [],
   "source": [
    "from IPython.display import Image\n",
    "\n",
    "# URL de la imagen\n",
    "url_imagen = res.json()[\"data\"][0][\"images\"][\"jpg\"][\"image_url\"]\n",
    "\n",
    "# Muestra la imagen en el Jupyter Notebook\n",
    "Image(url=url_imagen)"
   ]
  },
  {
   "cell_type": "markdown",
   "id": "e1200cd0",
   "metadata": {},
   "source": [
    "### [ISS](https://wheretheiss.at/w/developer) API"
   ]
  },
  {
   "cell_type": "code",
   "execution_count": 14,
   "id": "cbfc7405",
   "metadata": {
    "scrolled": false
   },
   "outputs": [],
   "source": [
    "url='https://api.wheretheiss.at/v1/satellites/25544'"
   ]
  },
  {
   "cell_type": "code",
   "execution_count": 15,
   "id": "ffe6251c",
   "metadata": {},
   "outputs": [
    {
     "data": {
      "text/plain": [
       "<Response [200]>"
      ]
     },
     "execution_count": 15,
     "metadata": {},
     "output_type": "execute_result"
    }
   ],
   "source": [
    "# Hacemos la petición a la API\n",
    "res=req.get(url)\n",
    "\n",
    "res"
   ]
  },
  {
   "cell_type": "code",
   "execution_count": 16,
   "id": "069ea68b",
   "metadata": {},
   "outputs": [
    {
     "data": {
      "text/plain": [
       "{'name': 'iss',\n",
       " 'id': 25544,\n",
       " 'latitude': 12.15149198052,\n",
       " 'longitude': -26.342322138089,\n",
       " 'altitude': 417.23412182401,\n",
       " 'velocity': 27586.878715468,\n",
       " 'visibility': 'daylight',\n",
       " 'footprint': 4493.3650607426,\n",
       " 'timestamp': 1698666336,\n",
       " 'daynum': 2460247.99,\n",
       " 'solar_lat': -13.782979709274,\n",
       " 'solar_lon': 359.52018658801,\n",
       " 'units': 'kilometers'}"
      ]
     },
     "execution_count": 16,
     "metadata": {},
     "output_type": "execute_result"
    }
   ],
   "source": [
    "# Examinamos el json\n",
    "req.get(url).json()"
   ]
  },
  {
   "cell_type": "code",
   "execution_count": 17,
   "id": "0688f185",
   "metadata": {},
   "outputs": [
    {
     "data": {
      "text/plain": [
       "{'name': 'iss',\n",
       " 'id': 25544,\n",
       " 'latitude': 12.201734734222,\n",
       " 'longitude': -26.380070797735,\n",
       " 'altitude': 417.23383924299,\n",
       " 'velocity': 27586.896929484,\n",
       " 'visibility': 'daylight',\n",
       " 'footprint': 4493.3636176012,\n",
       " 'timestamp': 1698666335,\n",
       " 'daynum': 2460247.9899884,\n",
       " 'solar_lat': -13.782975916263,\n",
       " 'solar_lon': 359.52435355853,\n",
       " 'units': 'kilometers'}"
      ]
     },
     "execution_count": 17,
     "metadata": {},
     "output_type": "execute_result"
    }
   ],
   "source": [
    "# Volvemos a examinar el json para ver cómo varía la posición\n",
    "res.json()"
   ]
  },
  {
   "cell_type": "code",
   "execution_count": 18,
   "id": "ceef0e05",
   "metadata": {},
   "outputs": [
    {
     "name": "stdout",
     "output_type": "stream",
     "text": [
      "Wall time: 5.97 s\n"
     ]
    }
   ],
   "source": [
    "%%time\n",
    "\n",
    "posiciones=[]\n",
    "\n",
    "# Realizamos la petición 5 veces, una cada medio segundo\n",
    "for i in range(5):\n",
    "    \n",
    "    res_iss=req.get(url)   \n",
    "\n",
    "    data=res_iss.json()\n",
    "    #print(data)\n",
    "    \n",
    "    posiciones.append(data)\n",
    "    \n",
    "    time.sleep(0.5)"
   ]
  },
  {
   "cell_type": "code",
   "execution_count": 19,
   "id": "38312f13",
   "metadata": {},
   "outputs": [
    {
     "data": {
      "text/plain": [
       "[{'name': 'iss',\n",
       "  'id': 25544,\n",
       "  'latitude': 12.15149198052,\n",
       "  'longitude': -26.342322138089,\n",
       "  'altitude': 417.23412182401,\n",
       "  'velocity': 27586.878715468,\n",
       "  'visibility': 'daylight',\n",
       "  'footprint': 4493.3650607426,\n",
       "  'timestamp': 1698666336,\n",
       "  'daynum': 2460247.99,\n",
       "  'solar_lat': -13.782979709274,\n",
       "  'solar_lon': 359.52018658801,\n",
       "  'units': 'kilometers'},\n",
       " {'name': 'iss',\n",
       "  'id': 25544,\n",
       "  'latitude': 12.101244784774,\n",
       "  'longitude': -26.304590735815,\n",
       "  'altitude': 417.23443071538,\n",
       "  'velocity': 27586.860459316,\n",
       "  'visibility': 'daylight',\n",
       "  'footprint': 4493.3666382504,\n",
       "  'timestamp': 1698666337,\n",
       "  'daynum': 2460247.9900116,\n",
       "  'solar_lat': -13.782983502135,\n",
       "  'solar_lon': 359.51601978515,\n",
       "  'units': 'kilometers'},\n",
       " {'name': 'iss',\n",
       "  'id': 25544,\n",
       "  'latitude': 12.000731124261,\n",
       "  'longitude': -26.229174863951,\n",
       "  'altitude': 417.23512755984,\n",
       "  'velocity': 27586.82381836,\n",
       "  'visibility': 'daylight',\n",
       "  'footprint': 4493.3701970317,\n",
       "  'timestamp': 1698666339,\n",
       "  'daynum': 2460247.9900347,\n",
       "  'solar_lat': -13.782991087847,\n",
       "  'solar_lon': 359.5076861794,\n",
       "  'units': 'kilometers'},\n",
       " {'name': 'iss',\n",
       "  'id': 25544,\n",
       "  'latitude': 11.950464719792,\n",
       "  'longitude': -26.191490253328,\n",
       "  'altitude': 417.23551556171,\n",
       "  'velocity': 27586.805433533,\n",
       "  'visibility': 'daylight',\n",
       "  'footprint': 4493.3721785539,\n",
       "  'timestamp': 1698666340,\n",
       "  'daynum': 2460247.9900463,\n",
       "  'solar_lat': -13.782994880704,\n",
       "  'solar_lon': 359.50351937653,\n",
       "  'units': 'kilometers'},\n",
       " {'name': 'iss',\n",
       "  'id': 25544,\n",
       "  'latitude': 11.900191972655,\n",
       "  'longitude': -26.153821098996,\n",
       "  'altitude': 417.2359299823,\n",
       "  'velocity': 27586.78700579,\n",
       "  'visibility': 'daylight',\n",
       "  'footprint': 4493.374294995,\n",
       "  'timestamp': 1698666341,\n",
       "  'daynum': 2460247.9900579,\n",
       "  'solar_lat': -13.782998673561,\n",
       "  'solar_lon': 359.49935257366,\n",
       "  'units': 'kilometers'}]"
      ]
     },
     "execution_count": 19,
     "metadata": {},
     "output_type": "execute_result"
    }
   ],
   "source": [
    "posiciones"
   ]
  },
  {
   "cell_type": "code",
   "execution_count": 20,
   "id": "45f8b447",
   "metadata": {},
   "outputs": [
    {
     "data": {
      "text/html": [
       "<div>\n",
       "<style scoped>\n",
       "    .dataframe tbody tr th:only-of-type {\n",
       "        vertical-align: middle;\n",
       "    }\n",
       "\n",
       "    .dataframe tbody tr th {\n",
       "        vertical-align: top;\n",
       "    }\n",
       "\n",
       "    .dataframe thead th {\n",
       "        text-align: right;\n",
       "    }\n",
       "</style>\n",
       "<table border=\"1\" class=\"dataframe\">\n",
       "  <thead>\n",
       "    <tr style=\"text-align: right;\">\n",
       "      <th></th>\n",
       "      <th>name</th>\n",
       "      <th>id</th>\n",
       "      <th>latitude</th>\n",
       "      <th>longitude</th>\n",
       "      <th>altitude</th>\n",
       "      <th>velocity</th>\n",
       "      <th>visibility</th>\n",
       "      <th>footprint</th>\n",
       "      <th>timestamp</th>\n",
       "      <th>daynum</th>\n",
       "      <th>solar_lat</th>\n",
       "      <th>solar_lon</th>\n",
       "      <th>units</th>\n",
       "    </tr>\n",
       "  </thead>\n",
       "  <tbody>\n",
       "    <tr>\n",
       "      <th>0</th>\n",
       "      <td>iss</td>\n",
       "      <td>25544</td>\n",
       "      <td>12.151492</td>\n",
       "      <td>-26.342322</td>\n",
       "      <td>417.234122</td>\n",
       "      <td>27586.878715</td>\n",
       "      <td>daylight</td>\n",
       "      <td>4493.365061</td>\n",
       "      <td>1698666336</td>\n",
       "      <td>2.460248e+06</td>\n",
       "      <td>-13.782980</td>\n",
       "      <td>359.520187</td>\n",
       "      <td>kilometers</td>\n",
       "    </tr>\n",
       "    <tr>\n",
       "      <th>1</th>\n",
       "      <td>iss</td>\n",
       "      <td>25544</td>\n",
       "      <td>12.101245</td>\n",
       "      <td>-26.304591</td>\n",
       "      <td>417.234431</td>\n",
       "      <td>27586.860459</td>\n",
       "      <td>daylight</td>\n",
       "      <td>4493.366638</td>\n",
       "      <td>1698666337</td>\n",
       "      <td>2.460248e+06</td>\n",
       "      <td>-13.782984</td>\n",
       "      <td>359.516020</td>\n",
       "      <td>kilometers</td>\n",
       "    </tr>\n",
       "    <tr>\n",
       "      <th>2</th>\n",
       "      <td>iss</td>\n",
       "      <td>25544</td>\n",
       "      <td>12.000731</td>\n",
       "      <td>-26.229175</td>\n",
       "      <td>417.235128</td>\n",
       "      <td>27586.823818</td>\n",
       "      <td>daylight</td>\n",
       "      <td>4493.370197</td>\n",
       "      <td>1698666339</td>\n",
       "      <td>2.460248e+06</td>\n",
       "      <td>-13.782991</td>\n",
       "      <td>359.507686</td>\n",
       "      <td>kilometers</td>\n",
       "    </tr>\n",
       "    <tr>\n",
       "      <th>3</th>\n",
       "      <td>iss</td>\n",
       "      <td>25544</td>\n",
       "      <td>11.950465</td>\n",
       "      <td>-26.191490</td>\n",
       "      <td>417.235516</td>\n",
       "      <td>27586.805434</td>\n",
       "      <td>daylight</td>\n",
       "      <td>4493.372179</td>\n",
       "      <td>1698666340</td>\n",
       "      <td>2.460248e+06</td>\n",
       "      <td>-13.782995</td>\n",
       "      <td>359.503519</td>\n",
       "      <td>kilometers</td>\n",
       "    </tr>\n",
       "    <tr>\n",
       "      <th>4</th>\n",
       "      <td>iss</td>\n",
       "      <td>25544</td>\n",
       "      <td>11.900192</td>\n",
       "      <td>-26.153821</td>\n",
       "      <td>417.235930</td>\n",
       "      <td>27586.787006</td>\n",
       "      <td>daylight</td>\n",
       "      <td>4493.374295</td>\n",
       "      <td>1698666341</td>\n",
       "      <td>2.460248e+06</td>\n",
       "      <td>-13.782999</td>\n",
       "      <td>359.499353</td>\n",
       "      <td>kilometers</td>\n",
       "    </tr>\n",
       "  </tbody>\n",
       "</table>\n",
       "</div>"
      ],
      "text/plain": [
       "  name     id   latitude  longitude    altitude      velocity visibility  \\\n",
       "0  iss  25544  12.151492 -26.342322  417.234122  27586.878715   daylight   \n",
       "1  iss  25544  12.101245 -26.304591  417.234431  27586.860459   daylight   \n",
       "2  iss  25544  12.000731 -26.229175  417.235128  27586.823818   daylight   \n",
       "3  iss  25544  11.950465 -26.191490  417.235516  27586.805434   daylight   \n",
       "4  iss  25544  11.900192 -26.153821  417.235930  27586.787006   daylight   \n",
       "\n",
       "     footprint   timestamp        daynum  solar_lat   solar_lon       units  \n",
       "0  4493.365061  1698666336  2.460248e+06 -13.782980  359.520187  kilometers  \n",
       "1  4493.366638  1698666337  2.460248e+06 -13.782984  359.516020  kilometers  \n",
       "2  4493.370197  1698666339  2.460248e+06 -13.782991  359.507686  kilometers  \n",
       "3  4493.372179  1698666340  2.460248e+06 -13.782995  359.503519  kilometers  \n",
       "4  4493.374295  1698666341  2.460248e+06 -13.782999  359.499353  kilometers  "
      ]
     },
     "execution_count": 20,
     "metadata": {},
     "output_type": "execute_result"
    }
   ],
   "source": [
    "import pandas as pd\n",
    "\n",
    "df=pd.DataFrame(posiciones)\n",
    "\n",
    "df.head()"
   ]
  },
  {
   "cell_type": "code",
   "execution_count": 21,
   "id": "d13c7e87",
   "metadata": {},
   "outputs": [
    {
     "name": "stdout",
     "output_type": "stream",
     "text": [
      "<class 'pandas.core.frame.DataFrame'>\n",
      "RangeIndex: 5 entries, 0 to 4\n",
      "Data columns (total 13 columns):\n",
      " #   Column      Non-Null Count  Dtype  \n",
      "---  ------      --------------  -----  \n",
      " 0   name        5 non-null      object \n",
      " 1   id          5 non-null      int64  \n",
      " 2   latitude    5 non-null      float64\n",
      " 3   longitude   5 non-null      float64\n",
      " 4   altitude    5 non-null      float64\n",
      " 5   velocity    5 non-null      float64\n",
      " 6   visibility  5 non-null      object \n",
      " 7   footprint   5 non-null      float64\n",
      " 8   timestamp   5 non-null      int64  \n",
      " 9   daynum      5 non-null      float64\n",
      " 10  solar_lat   5 non-null      float64\n",
      " 11  solar_lon   5 non-null      float64\n",
      " 12  units       5 non-null      object \n",
      "dtypes: float64(8), int64(2), object(3)\n",
      "memory usage: 648.0+ bytes\n"
     ]
    }
   ],
   "source": [
    "df.info()"
   ]
  },
  {
   "cell_type": "markdown",
   "id": "ab6ff52e",
   "metadata": {},
   "source": [
    "# GitHub API"
   ]
  },
  {
   "cell_type": "code",
   "execution_count": 1,
   "id": "c9e268db",
   "metadata": {},
   "outputs": [],
   "source": [
    "url = \"https://api.github.com\"\n"
   ]
  },
  {
   "cell_type": "code",
   "execution_count": 3,
   "id": "d9872afa",
   "metadata": {},
   "outputs": [
    {
     "data": {
      "text/plain": [
       "<Response [200]>"
      ]
     },
     "execution_count": 3,
     "metadata": {},
     "output_type": "execute_result"
    }
   ],
   "source": [
    "res = req.get(url)\n",
    "res"
   ]
  },
  {
   "cell_type": "code",
   "execution_count": 5,
   "id": "7af3eeb8",
   "metadata": {},
   "outputs": [
    {
     "data": {
      "text/plain": [
       "{'current_user_url': 'https://api.github.com/user',\n",
       " 'current_user_authorizations_html_url': 'https://github.com/settings/connections/applications{/client_id}',\n",
       " 'authorizations_url': 'https://api.github.com/authorizations',\n",
       " 'code_search_url': 'https://api.github.com/search/code?q={query}{&page,per_page,sort,order}',\n",
       " 'commit_search_url': 'https://api.github.com/search/commits?q={query}{&page,per_page,sort,order}',\n",
       " 'emails_url': 'https://api.github.com/user/emails',\n",
       " 'emojis_url': 'https://api.github.com/emojis',\n",
       " 'events_url': 'https://api.github.com/events',\n",
       " 'feeds_url': 'https://api.github.com/feeds',\n",
       " 'followers_url': 'https://api.github.com/user/followers',\n",
       " 'following_url': 'https://api.github.com/user/following{/target}',\n",
       " 'gists_url': 'https://api.github.com/gists{/gist_id}',\n",
       " 'hub_url': 'https://api.github.com/hub',\n",
       " 'issue_search_url': 'https://api.github.com/search/issues?q={query}{&page,per_page,sort,order}',\n",
       " 'issues_url': 'https://api.github.com/issues',\n",
       " 'keys_url': 'https://api.github.com/user/keys',\n",
       " 'label_search_url': 'https://api.github.com/search/labels?q={query}&repository_id={repository_id}{&page,per_page}',\n",
       " 'notifications_url': 'https://api.github.com/notifications',\n",
       " 'organization_url': 'https://api.github.com/orgs/{org}',\n",
       " 'organization_repositories_url': 'https://api.github.com/orgs/{org}/repos{?type,page,per_page,sort}',\n",
       " 'organization_teams_url': 'https://api.github.com/orgs/{org}/teams',\n",
       " 'public_gists_url': 'https://api.github.com/gists/public',\n",
       " 'rate_limit_url': 'https://api.github.com/rate_limit',\n",
       " 'repository_url': 'https://api.github.com/repos/{owner}/{repo}',\n",
       " 'repository_search_url': 'https://api.github.com/search/repositories?q={query}{&page,per_page,sort,order}',\n",
       " 'current_user_repositories_url': 'https://api.github.com/user/repos{?type,page,per_page,sort}',\n",
       " 'starred_url': 'https://api.github.com/user/starred{/owner}{/repo}',\n",
       " 'starred_gists_url': 'https://api.github.com/gists/starred',\n",
       " 'topic_search_url': 'https://api.github.com/search/topics?q={query}{&page,per_page}',\n",
       " 'user_url': 'https://api.github.com/users/{user}',\n",
       " 'user_organizations_url': 'https://api.github.com/user/orgs',\n",
       " 'user_repositories_url': 'https://api.github.com/users/{user}/repos{?type,page,per_page,sort}',\n",
       " 'user_search_url': 'https://api.github.com/search/users?q={query}{&page,per_page,sort,order}'}"
      ]
     },
     "execution_count": 5,
     "metadata": {},
     "output_type": "execute_result"
    }
   ],
   "source": [
    "res.json()"
   ]
  },
  {
   "cell_type": "code",
   "execution_count": 6,
   "id": "eb377dfa",
   "metadata": {},
   "outputs": [],
   "source": [
    "url = 'https://api.github.com/repos/IbaiGallego/3.1-lab_intro_to_mysql'\n"
   ]
  },
  {
   "cell_type": "code",
   "execution_count": 7,
   "id": "c7a0820f",
   "metadata": {},
   "outputs": [
    {
     "data": {
      "text/plain": [
       "<Response [200]>"
      ]
     },
     "execution_count": 7,
     "metadata": {},
     "output_type": "execute_result"
    }
   ],
   "source": [
    "res = req.get(url)\n",
    "res"
   ]
  },
  {
   "cell_type": "code",
   "execution_count": 9,
   "id": "d849e360",
   "metadata": {},
   "outputs": [
    {
     "data": {
      "text/plain": [
       "{'id': 670730482,\n",
       " 'node_id': 'R_kgDOJ_qI8g',\n",
       " 'name': '3.1-lab_intro_to_mysql',\n",
       " 'full_name': 'IbaiGallego/3.1-lab_intro_to_mysql',\n",
       " 'private': False,\n",
       " 'owner': {'login': 'IbaiGallego',\n",
       "  'id': 49964118,\n",
       "  'node_id': 'MDQ6VXNlcjQ5OTY0MTE4',\n",
       "  'avatar_url': 'https://avatars.githubusercontent.com/u/49964118?v=4',\n",
       "  'gravatar_id': '',\n",
       "  'url': 'https://api.github.com/users/IbaiGallego',\n",
       "  'html_url': 'https://github.com/IbaiGallego',\n",
       "  'followers_url': 'https://api.github.com/users/IbaiGallego/followers',\n",
       "  'following_url': 'https://api.github.com/users/IbaiGallego/following{/other_user}',\n",
       "  'gists_url': 'https://api.github.com/users/IbaiGallego/gists{/gist_id}',\n",
       "  'starred_url': 'https://api.github.com/users/IbaiGallego/starred{/owner}{/repo}',\n",
       "  'subscriptions_url': 'https://api.github.com/users/IbaiGallego/subscriptions',\n",
       "  'organizations_url': 'https://api.github.com/users/IbaiGallego/orgs',\n",
       "  'repos_url': 'https://api.github.com/users/IbaiGallego/repos',\n",
       "  'events_url': 'https://api.github.com/users/IbaiGallego/events{/privacy}',\n",
       "  'received_events_url': 'https://api.github.com/users/IbaiGallego/received_events',\n",
       "  'type': 'User',\n",
       "  'site_admin': False},\n",
       " 'html_url': 'https://github.com/IbaiGallego/3.1-lab_intro_to_mysql',\n",
       " 'description': None,\n",
       " 'fork': True,\n",
       " 'url': 'https://api.github.com/repos/IbaiGallego/3.1-lab_intro_to_mysql',\n",
       " 'forks_url': 'https://api.github.com/repos/IbaiGallego/3.1-lab_intro_to_mysql/forks',\n",
       " 'keys_url': 'https://api.github.com/repos/IbaiGallego/3.1-lab_intro_to_mysql/keys{/key_id}',\n",
       " 'collaborators_url': 'https://api.github.com/repos/IbaiGallego/3.1-lab_intro_to_mysql/collaborators{/collaborator}',\n",
       " 'teams_url': 'https://api.github.com/repos/IbaiGallego/3.1-lab_intro_to_mysql/teams',\n",
       " 'hooks_url': 'https://api.github.com/repos/IbaiGallego/3.1-lab_intro_to_mysql/hooks',\n",
       " 'issue_events_url': 'https://api.github.com/repos/IbaiGallego/3.1-lab_intro_to_mysql/issues/events{/number}',\n",
       " 'events_url': 'https://api.github.com/repos/IbaiGallego/3.1-lab_intro_to_mysql/events',\n",
       " 'assignees_url': 'https://api.github.com/repos/IbaiGallego/3.1-lab_intro_to_mysql/assignees{/user}',\n",
       " 'branches_url': 'https://api.github.com/repos/IbaiGallego/3.1-lab_intro_to_mysql/branches{/branch}',\n",
       " 'tags_url': 'https://api.github.com/repos/IbaiGallego/3.1-lab_intro_to_mysql/tags',\n",
       " 'blobs_url': 'https://api.github.com/repos/IbaiGallego/3.1-lab_intro_to_mysql/git/blobs{/sha}',\n",
       " 'git_tags_url': 'https://api.github.com/repos/IbaiGallego/3.1-lab_intro_to_mysql/git/tags{/sha}',\n",
       " 'git_refs_url': 'https://api.github.com/repos/IbaiGallego/3.1-lab_intro_to_mysql/git/refs{/sha}',\n",
       " 'trees_url': 'https://api.github.com/repos/IbaiGallego/3.1-lab_intro_to_mysql/git/trees{/sha}',\n",
       " 'statuses_url': 'https://api.github.com/repos/IbaiGallego/3.1-lab_intro_to_mysql/statuses/{sha}',\n",
       " 'languages_url': 'https://api.github.com/repos/IbaiGallego/3.1-lab_intro_to_mysql/languages',\n",
       " 'stargazers_url': 'https://api.github.com/repos/IbaiGallego/3.1-lab_intro_to_mysql/stargazers',\n",
       " 'contributors_url': 'https://api.github.com/repos/IbaiGallego/3.1-lab_intro_to_mysql/contributors',\n",
       " 'subscribers_url': 'https://api.github.com/repos/IbaiGallego/3.1-lab_intro_to_mysql/subscribers',\n",
       " 'subscription_url': 'https://api.github.com/repos/IbaiGallego/3.1-lab_intro_to_mysql/subscription',\n",
       " 'commits_url': 'https://api.github.com/repos/IbaiGallego/3.1-lab_intro_to_mysql/commits{/sha}',\n",
       " 'git_commits_url': 'https://api.github.com/repos/IbaiGallego/3.1-lab_intro_to_mysql/git/commits{/sha}',\n",
       " 'comments_url': 'https://api.github.com/repos/IbaiGallego/3.1-lab_intro_to_mysql/comments{/number}',\n",
       " 'issue_comment_url': 'https://api.github.com/repos/IbaiGallego/3.1-lab_intro_to_mysql/issues/comments{/number}',\n",
       " 'contents_url': 'https://api.github.com/repos/IbaiGallego/3.1-lab_intro_to_mysql/contents/{+path}',\n",
       " 'compare_url': 'https://api.github.com/repos/IbaiGallego/3.1-lab_intro_to_mysql/compare/{base}...{head}',\n",
       " 'merges_url': 'https://api.github.com/repos/IbaiGallego/3.1-lab_intro_to_mysql/merges',\n",
       " 'archive_url': 'https://api.github.com/repos/IbaiGallego/3.1-lab_intro_to_mysql/{archive_format}{/ref}',\n",
       " 'downloads_url': 'https://api.github.com/repos/IbaiGallego/3.1-lab_intro_to_mysql/downloads',\n",
       " 'issues_url': 'https://api.github.com/repos/IbaiGallego/3.1-lab_intro_to_mysql/issues{/number}',\n",
       " 'pulls_url': 'https://api.github.com/repos/IbaiGallego/3.1-lab_intro_to_mysql/pulls{/number}',\n",
       " 'milestones_url': 'https://api.github.com/repos/IbaiGallego/3.1-lab_intro_to_mysql/milestones{/number}',\n",
       " 'notifications_url': 'https://api.github.com/repos/IbaiGallego/3.1-lab_intro_to_mysql/notifications{?since,all,participating}',\n",
       " 'labels_url': 'https://api.github.com/repos/IbaiGallego/3.1-lab_intro_to_mysql/labels{/name}',\n",
       " 'releases_url': 'https://api.github.com/repos/IbaiGallego/3.1-lab_intro_to_mysql/releases{/id}',\n",
       " 'deployments_url': 'https://api.github.com/repos/IbaiGallego/3.1-lab_intro_to_mysql/deployments',\n",
       " 'created_at': '2023-07-25T17:47:13Z',\n",
       " 'updated_at': '2023-07-25T17:47:13Z',\n",
       " 'pushed_at': '2023-07-26T07:44:15Z',\n",
       " 'git_url': 'git://github.com/IbaiGallego/3.1-lab_intro_to_mysql.git',\n",
       " 'ssh_url': 'git@github.com:IbaiGallego/3.1-lab_intro_to_mysql.git',\n",
       " 'clone_url': 'https://github.com/IbaiGallego/3.1-lab_intro_to_mysql.git',\n",
       " 'svn_url': 'https://github.com/IbaiGallego/3.1-lab_intro_to_mysql',\n",
       " 'homepage': 'https://github.com',\n",
       " 'size': 184,\n",
       " 'stargazers_count': 0,\n",
       " 'watchers_count': 0,\n",
       " 'language': None,\n",
       " 'has_issues': False,\n",
       " 'has_projects': True,\n",
       " 'has_downloads': True,\n",
       " 'has_wiki': False,\n",
       " 'has_pages': False,\n",
       " 'has_discussions': False,\n",
       " 'forks_count': 0,\n",
       " 'mirror_url': None,\n",
       " 'archived': False,\n",
       " 'disabled': False,\n",
       " 'open_issues_count': 0,\n",
       " 'license': None,\n",
       " 'allow_forking': True,\n",
       " 'is_template': False,\n",
       " 'web_commit_signoff_required': False,\n",
       " 'topics': [],\n",
       " 'visibility': 'public',\n",
       " 'forks': 0,\n",
       " 'open_issues': 0,\n",
       " 'watchers': 0,\n",
       " 'default_branch': 'main',\n",
       " 'temp_clone_token': None,\n",
       " 'parent': {'id': 659634358,\n",
       "  'node_id': 'R_kgDOJ1E4tg',\n",
       "  'name': '3.1-lab_intro_to_mysql',\n",
       "  'full_name': 'Ironhack-Data-Madrid-Julio-2023/3.1-lab_intro_to_mysql',\n",
       "  'private': False,\n",
       "  'owner': {'login': 'Ironhack-Data-Madrid-Julio-2023',\n",
       "   'id': 137995994,\n",
       "   'node_id': 'O_kgDOCDmm2g',\n",
       "   'avatar_url': 'https://avatars.githubusercontent.com/u/137995994?v=4',\n",
       "   'gravatar_id': '',\n",
       "   'url': 'https://api.github.com/users/Ironhack-Data-Madrid-Julio-2023',\n",
       "   'html_url': 'https://github.com/Ironhack-Data-Madrid-Julio-2023',\n",
       "   'followers_url': 'https://api.github.com/users/Ironhack-Data-Madrid-Julio-2023/followers',\n",
       "   'following_url': 'https://api.github.com/users/Ironhack-Data-Madrid-Julio-2023/following{/other_user}',\n",
       "   'gists_url': 'https://api.github.com/users/Ironhack-Data-Madrid-Julio-2023/gists{/gist_id}',\n",
       "   'starred_url': 'https://api.github.com/users/Ironhack-Data-Madrid-Julio-2023/starred{/owner}{/repo}',\n",
       "   'subscriptions_url': 'https://api.github.com/users/Ironhack-Data-Madrid-Julio-2023/subscriptions',\n",
       "   'organizations_url': 'https://api.github.com/users/Ironhack-Data-Madrid-Julio-2023/orgs',\n",
       "   'repos_url': 'https://api.github.com/users/Ironhack-Data-Madrid-Julio-2023/repos',\n",
       "   'events_url': 'https://api.github.com/users/Ironhack-Data-Madrid-Julio-2023/events{/privacy}',\n",
       "   'received_events_url': 'https://api.github.com/users/Ironhack-Data-Madrid-Julio-2023/received_events',\n",
       "   'type': 'Organization',\n",
       "   'site_admin': False},\n",
       "  'html_url': 'https://github.com/Ironhack-Data-Madrid-Julio-2023/3.1-lab_intro_to_mysql',\n",
       "  'description': None,\n",
       "  'fork': False,\n",
       "  'url': 'https://api.github.com/repos/Ironhack-Data-Madrid-Julio-2023/3.1-lab_intro_to_mysql',\n",
       "  'forks_url': 'https://api.github.com/repos/Ironhack-Data-Madrid-Julio-2023/3.1-lab_intro_to_mysql/forks',\n",
       "  'keys_url': 'https://api.github.com/repos/Ironhack-Data-Madrid-Julio-2023/3.1-lab_intro_to_mysql/keys{/key_id}',\n",
       "  'collaborators_url': 'https://api.github.com/repos/Ironhack-Data-Madrid-Julio-2023/3.1-lab_intro_to_mysql/collaborators{/collaborator}',\n",
       "  'teams_url': 'https://api.github.com/repos/Ironhack-Data-Madrid-Julio-2023/3.1-lab_intro_to_mysql/teams',\n",
       "  'hooks_url': 'https://api.github.com/repos/Ironhack-Data-Madrid-Julio-2023/3.1-lab_intro_to_mysql/hooks',\n",
       "  'issue_events_url': 'https://api.github.com/repos/Ironhack-Data-Madrid-Julio-2023/3.1-lab_intro_to_mysql/issues/events{/number}',\n",
       "  'events_url': 'https://api.github.com/repos/Ironhack-Data-Madrid-Julio-2023/3.1-lab_intro_to_mysql/events',\n",
       "  'assignees_url': 'https://api.github.com/repos/Ironhack-Data-Madrid-Julio-2023/3.1-lab_intro_to_mysql/assignees{/user}',\n",
       "  'branches_url': 'https://api.github.com/repos/Ironhack-Data-Madrid-Julio-2023/3.1-lab_intro_to_mysql/branches{/branch}',\n",
       "  'tags_url': 'https://api.github.com/repos/Ironhack-Data-Madrid-Julio-2023/3.1-lab_intro_to_mysql/tags',\n",
       "  'blobs_url': 'https://api.github.com/repos/Ironhack-Data-Madrid-Julio-2023/3.1-lab_intro_to_mysql/git/blobs{/sha}',\n",
       "  'git_tags_url': 'https://api.github.com/repos/Ironhack-Data-Madrid-Julio-2023/3.1-lab_intro_to_mysql/git/tags{/sha}',\n",
       "  'git_refs_url': 'https://api.github.com/repos/Ironhack-Data-Madrid-Julio-2023/3.1-lab_intro_to_mysql/git/refs{/sha}',\n",
       "  'trees_url': 'https://api.github.com/repos/Ironhack-Data-Madrid-Julio-2023/3.1-lab_intro_to_mysql/git/trees{/sha}',\n",
       "  'statuses_url': 'https://api.github.com/repos/Ironhack-Data-Madrid-Julio-2023/3.1-lab_intro_to_mysql/statuses/{sha}',\n",
       "  'languages_url': 'https://api.github.com/repos/Ironhack-Data-Madrid-Julio-2023/3.1-lab_intro_to_mysql/languages',\n",
       "  'stargazers_url': 'https://api.github.com/repos/Ironhack-Data-Madrid-Julio-2023/3.1-lab_intro_to_mysql/stargazers',\n",
       "  'contributors_url': 'https://api.github.com/repos/Ironhack-Data-Madrid-Julio-2023/3.1-lab_intro_to_mysql/contributors',\n",
       "  'subscribers_url': 'https://api.github.com/repos/Ironhack-Data-Madrid-Julio-2023/3.1-lab_intro_to_mysql/subscribers',\n",
       "  'subscription_url': 'https://api.github.com/repos/Ironhack-Data-Madrid-Julio-2023/3.1-lab_intro_to_mysql/subscription',\n",
       "  'commits_url': 'https://api.github.com/repos/Ironhack-Data-Madrid-Julio-2023/3.1-lab_intro_to_mysql/commits{/sha}',\n",
       "  'git_commits_url': 'https://api.github.com/repos/Ironhack-Data-Madrid-Julio-2023/3.1-lab_intro_to_mysql/git/commits{/sha}',\n",
       "  'comments_url': 'https://api.github.com/repos/Ironhack-Data-Madrid-Julio-2023/3.1-lab_intro_to_mysql/comments{/number}',\n",
       "  'issue_comment_url': 'https://api.github.com/repos/Ironhack-Data-Madrid-Julio-2023/3.1-lab_intro_to_mysql/issues/comments{/number}',\n",
       "  'contents_url': 'https://api.github.com/repos/Ironhack-Data-Madrid-Julio-2023/3.1-lab_intro_to_mysql/contents/{+path}',\n",
       "  'compare_url': 'https://api.github.com/repos/Ironhack-Data-Madrid-Julio-2023/3.1-lab_intro_to_mysql/compare/{base}...{head}',\n",
       "  'merges_url': 'https://api.github.com/repos/Ironhack-Data-Madrid-Julio-2023/3.1-lab_intro_to_mysql/merges',\n",
       "  'archive_url': 'https://api.github.com/repos/Ironhack-Data-Madrid-Julio-2023/3.1-lab_intro_to_mysql/{archive_format}{/ref}',\n",
       "  'downloads_url': 'https://api.github.com/repos/Ironhack-Data-Madrid-Julio-2023/3.1-lab_intro_to_mysql/downloads',\n",
       "  'issues_url': 'https://api.github.com/repos/Ironhack-Data-Madrid-Julio-2023/3.1-lab_intro_to_mysql/issues{/number}',\n",
       "  'pulls_url': 'https://api.github.com/repos/Ironhack-Data-Madrid-Julio-2023/3.1-lab_intro_to_mysql/pulls{/number}',\n",
       "  'milestones_url': 'https://api.github.com/repos/Ironhack-Data-Madrid-Julio-2023/3.1-lab_intro_to_mysql/milestones{/number}',\n",
       "  'notifications_url': 'https://api.github.com/repos/Ironhack-Data-Madrid-Julio-2023/3.1-lab_intro_to_mysql/notifications{?since,all,participating}',\n",
       "  'labels_url': 'https://api.github.com/repos/Ironhack-Data-Madrid-Julio-2023/3.1-lab_intro_to_mysql/labels{/name}',\n",
       "  'releases_url': 'https://api.github.com/repos/Ironhack-Data-Madrid-Julio-2023/3.1-lab_intro_to_mysql/releases{/id}',\n",
       "  'deployments_url': 'https://api.github.com/repos/Ironhack-Data-Madrid-Julio-2023/3.1-lab_intro_to_mysql/deployments',\n",
       "  'created_at': '2023-06-28T08:37:59Z',\n",
       "  'updated_at': '2023-07-24T07:12:22Z',\n",
       "  'pushed_at': '2023-08-29T17:04:16Z',\n",
       "  'git_url': 'git://github.com/Ironhack-Data-Madrid-Julio-2023/3.1-lab_intro_to_mysql.git',\n",
       "  'ssh_url': 'git@github.com:Ironhack-Data-Madrid-Julio-2023/3.1-lab_intro_to_mysql.git',\n",
       "  'clone_url': 'https://github.com/Ironhack-Data-Madrid-Julio-2023/3.1-lab_intro_to_mysql.git',\n",
       "  'svn_url': 'https://github.com/Ironhack-Data-Madrid-Julio-2023/3.1-lab_intro_to_mysql',\n",
       "  'homepage': 'https://github.com',\n",
       "  'size': 181,\n",
       "  'stargazers_count': 0,\n",
       "  'watchers_count': 0,\n",
       "  'language': None,\n",
       "  'has_issues': True,\n",
       "  'has_projects': True,\n",
       "  'has_downloads': True,\n",
       "  'has_wiki': False,\n",
       "  'has_pages': False,\n",
       "  'has_discussions': False,\n",
       "  'forks_count': 13,\n",
       "  'mirror_url': None,\n",
       "  'archived': False,\n",
       "  'disabled': False,\n",
       "  'open_issues_count': 2,\n",
       "  'license': None,\n",
       "  'allow_forking': True,\n",
       "  'is_template': False,\n",
       "  'web_commit_signoff_required': False,\n",
       "  'topics': [],\n",
       "  'visibility': 'public',\n",
       "  'forks': 13,\n",
       "  'open_issues': 2,\n",
       "  'watchers': 0,\n",
       "  'default_branch': 'main'},\n",
       " 'source': {'id': 659634358,\n",
       "  'node_id': 'R_kgDOJ1E4tg',\n",
       "  'name': '3.1-lab_intro_to_mysql',\n",
       "  'full_name': 'Ironhack-Data-Madrid-Julio-2023/3.1-lab_intro_to_mysql',\n",
       "  'private': False,\n",
       "  'owner': {'login': 'Ironhack-Data-Madrid-Julio-2023',\n",
       "   'id': 137995994,\n",
       "   'node_id': 'O_kgDOCDmm2g',\n",
       "   'avatar_url': 'https://avatars.githubusercontent.com/u/137995994?v=4',\n",
       "   'gravatar_id': '',\n",
       "   'url': 'https://api.github.com/users/Ironhack-Data-Madrid-Julio-2023',\n",
       "   'html_url': 'https://github.com/Ironhack-Data-Madrid-Julio-2023',\n",
       "   'followers_url': 'https://api.github.com/users/Ironhack-Data-Madrid-Julio-2023/followers',\n",
       "   'following_url': 'https://api.github.com/users/Ironhack-Data-Madrid-Julio-2023/following{/other_user}',\n",
       "   'gists_url': 'https://api.github.com/users/Ironhack-Data-Madrid-Julio-2023/gists{/gist_id}',\n",
       "   'starred_url': 'https://api.github.com/users/Ironhack-Data-Madrid-Julio-2023/starred{/owner}{/repo}',\n",
       "   'subscriptions_url': 'https://api.github.com/users/Ironhack-Data-Madrid-Julio-2023/subscriptions',\n",
       "   'organizations_url': 'https://api.github.com/users/Ironhack-Data-Madrid-Julio-2023/orgs',\n",
       "   'repos_url': 'https://api.github.com/users/Ironhack-Data-Madrid-Julio-2023/repos',\n",
       "   'events_url': 'https://api.github.com/users/Ironhack-Data-Madrid-Julio-2023/events{/privacy}',\n",
       "   'received_events_url': 'https://api.github.com/users/Ironhack-Data-Madrid-Julio-2023/received_events',\n",
       "   'type': 'Organization',\n",
       "   'site_admin': False},\n",
       "  'html_url': 'https://github.com/Ironhack-Data-Madrid-Julio-2023/3.1-lab_intro_to_mysql',\n",
       "  'description': None,\n",
       "  'fork': False,\n",
       "  'url': 'https://api.github.com/repos/Ironhack-Data-Madrid-Julio-2023/3.1-lab_intro_to_mysql',\n",
       "  'forks_url': 'https://api.github.com/repos/Ironhack-Data-Madrid-Julio-2023/3.1-lab_intro_to_mysql/forks',\n",
       "  'keys_url': 'https://api.github.com/repos/Ironhack-Data-Madrid-Julio-2023/3.1-lab_intro_to_mysql/keys{/key_id}',\n",
       "  'collaborators_url': 'https://api.github.com/repos/Ironhack-Data-Madrid-Julio-2023/3.1-lab_intro_to_mysql/collaborators{/collaborator}',\n",
       "  'teams_url': 'https://api.github.com/repos/Ironhack-Data-Madrid-Julio-2023/3.1-lab_intro_to_mysql/teams',\n",
       "  'hooks_url': 'https://api.github.com/repos/Ironhack-Data-Madrid-Julio-2023/3.1-lab_intro_to_mysql/hooks',\n",
       "  'issue_events_url': 'https://api.github.com/repos/Ironhack-Data-Madrid-Julio-2023/3.1-lab_intro_to_mysql/issues/events{/number}',\n",
       "  'events_url': 'https://api.github.com/repos/Ironhack-Data-Madrid-Julio-2023/3.1-lab_intro_to_mysql/events',\n",
       "  'assignees_url': 'https://api.github.com/repos/Ironhack-Data-Madrid-Julio-2023/3.1-lab_intro_to_mysql/assignees{/user}',\n",
       "  'branches_url': 'https://api.github.com/repos/Ironhack-Data-Madrid-Julio-2023/3.1-lab_intro_to_mysql/branches{/branch}',\n",
       "  'tags_url': 'https://api.github.com/repos/Ironhack-Data-Madrid-Julio-2023/3.1-lab_intro_to_mysql/tags',\n",
       "  'blobs_url': 'https://api.github.com/repos/Ironhack-Data-Madrid-Julio-2023/3.1-lab_intro_to_mysql/git/blobs{/sha}',\n",
       "  'git_tags_url': 'https://api.github.com/repos/Ironhack-Data-Madrid-Julio-2023/3.1-lab_intro_to_mysql/git/tags{/sha}',\n",
       "  'git_refs_url': 'https://api.github.com/repos/Ironhack-Data-Madrid-Julio-2023/3.1-lab_intro_to_mysql/git/refs{/sha}',\n",
       "  'trees_url': 'https://api.github.com/repos/Ironhack-Data-Madrid-Julio-2023/3.1-lab_intro_to_mysql/git/trees{/sha}',\n",
       "  'statuses_url': 'https://api.github.com/repos/Ironhack-Data-Madrid-Julio-2023/3.1-lab_intro_to_mysql/statuses/{sha}',\n",
       "  'languages_url': 'https://api.github.com/repos/Ironhack-Data-Madrid-Julio-2023/3.1-lab_intro_to_mysql/languages',\n",
       "  'stargazers_url': 'https://api.github.com/repos/Ironhack-Data-Madrid-Julio-2023/3.1-lab_intro_to_mysql/stargazers',\n",
       "  'contributors_url': 'https://api.github.com/repos/Ironhack-Data-Madrid-Julio-2023/3.1-lab_intro_to_mysql/contributors',\n",
       "  'subscribers_url': 'https://api.github.com/repos/Ironhack-Data-Madrid-Julio-2023/3.1-lab_intro_to_mysql/subscribers',\n",
       "  'subscription_url': 'https://api.github.com/repos/Ironhack-Data-Madrid-Julio-2023/3.1-lab_intro_to_mysql/subscription',\n",
       "  'commits_url': 'https://api.github.com/repos/Ironhack-Data-Madrid-Julio-2023/3.1-lab_intro_to_mysql/commits{/sha}',\n",
       "  'git_commits_url': 'https://api.github.com/repos/Ironhack-Data-Madrid-Julio-2023/3.1-lab_intro_to_mysql/git/commits{/sha}',\n",
       "  'comments_url': 'https://api.github.com/repos/Ironhack-Data-Madrid-Julio-2023/3.1-lab_intro_to_mysql/comments{/number}',\n",
       "  'issue_comment_url': 'https://api.github.com/repos/Ironhack-Data-Madrid-Julio-2023/3.1-lab_intro_to_mysql/issues/comments{/number}',\n",
       "  'contents_url': 'https://api.github.com/repos/Ironhack-Data-Madrid-Julio-2023/3.1-lab_intro_to_mysql/contents/{+path}',\n",
       "  'compare_url': 'https://api.github.com/repos/Ironhack-Data-Madrid-Julio-2023/3.1-lab_intro_to_mysql/compare/{base}...{head}',\n",
       "  'merges_url': 'https://api.github.com/repos/Ironhack-Data-Madrid-Julio-2023/3.1-lab_intro_to_mysql/merges',\n",
       "  'archive_url': 'https://api.github.com/repos/Ironhack-Data-Madrid-Julio-2023/3.1-lab_intro_to_mysql/{archive_format}{/ref}',\n",
       "  'downloads_url': 'https://api.github.com/repos/Ironhack-Data-Madrid-Julio-2023/3.1-lab_intro_to_mysql/downloads',\n",
       "  'issues_url': 'https://api.github.com/repos/Ironhack-Data-Madrid-Julio-2023/3.1-lab_intro_to_mysql/issues{/number}',\n",
       "  'pulls_url': 'https://api.github.com/repos/Ironhack-Data-Madrid-Julio-2023/3.1-lab_intro_to_mysql/pulls{/number}',\n",
       "  'milestones_url': 'https://api.github.com/repos/Ironhack-Data-Madrid-Julio-2023/3.1-lab_intro_to_mysql/milestones{/number}',\n",
       "  'notifications_url': 'https://api.github.com/repos/Ironhack-Data-Madrid-Julio-2023/3.1-lab_intro_to_mysql/notifications{?since,all,participating}',\n",
       "  'labels_url': 'https://api.github.com/repos/Ironhack-Data-Madrid-Julio-2023/3.1-lab_intro_to_mysql/labels{/name}',\n",
       "  'releases_url': 'https://api.github.com/repos/Ironhack-Data-Madrid-Julio-2023/3.1-lab_intro_to_mysql/releases{/id}',\n",
       "  'deployments_url': 'https://api.github.com/repos/Ironhack-Data-Madrid-Julio-2023/3.1-lab_intro_to_mysql/deployments',\n",
       "  'created_at': '2023-06-28T08:37:59Z',\n",
       "  'updated_at': '2023-07-24T07:12:22Z',\n",
       "  'pushed_at': '2023-08-29T17:04:16Z',\n",
       "  'git_url': 'git://github.com/Ironhack-Data-Madrid-Julio-2023/3.1-lab_intro_to_mysql.git',\n",
       "  'ssh_url': 'git@github.com:Ironhack-Data-Madrid-Julio-2023/3.1-lab_intro_to_mysql.git',\n",
       "  'clone_url': 'https://github.com/Ironhack-Data-Madrid-Julio-2023/3.1-lab_intro_to_mysql.git',\n",
       "  'svn_url': 'https://github.com/Ironhack-Data-Madrid-Julio-2023/3.1-lab_intro_to_mysql',\n",
       "  'homepage': 'https://github.com',\n",
       "  'size': 181,\n",
       "  'stargazers_count': 0,\n",
       "  'watchers_count': 0,\n",
       "  'language': None,\n",
       "  'has_issues': True,\n",
       "  'has_projects': True,\n",
       "  'has_downloads': True,\n",
       "  'has_wiki': False,\n",
       "  'has_pages': False,\n",
       "  'has_discussions': False,\n",
       "  'forks_count': 13,\n",
       "  'mirror_url': None,\n",
       "  'archived': False,\n",
       "  'disabled': False,\n",
       "  'open_issues_count': 2,\n",
       "  'license': None,\n",
       "  'allow_forking': True,\n",
       "  'is_template': False,\n",
       "  'web_commit_signoff_required': False,\n",
       "  'topics': [],\n",
       "  'visibility': 'public',\n",
       "  'forks': 13,\n",
       "  'open_issues': 2,\n",
       "  'watchers': 0,\n",
       "  'default_branch': 'main'},\n",
       " 'network_count': 13,\n",
       " 'subscribers_count': 0}"
      ]
     },
     "execution_count": 9,
     "metadata": {},
     "output_type": "execute_result"
    }
   ],
   "source": [
    "resp = res.json()\n",
    "resp"
   ]
  },
  {
   "cell_type": "code",
   "execution_count": 10,
   "id": "57f170b6",
   "metadata": {},
   "outputs": [
    {
     "data": {
      "text/plain": [
       "dict_keys(['id', 'node_id', 'name', 'full_name', 'private', 'owner', 'html_url', 'description', 'fork', 'url', 'forks_url', 'keys_url', 'collaborators_url', 'teams_url', 'hooks_url', 'issue_events_url', 'events_url', 'assignees_url', 'branches_url', 'tags_url', 'blobs_url', 'git_tags_url', 'git_refs_url', 'trees_url', 'statuses_url', 'languages_url', 'stargazers_url', 'contributors_url', 'subscribers_url', 'subscription_url', 'commits_url', 'git_commits_url', 'comments_url', 'issue_comment_url', 'contents_url', 'compare_url', 'merges_url', 'archive_url', 'downloads_url', 'issues_url', 'pulls_url', 'milestones_url', 'notifications_url', 'labels_url', 'releases_url', 'deployments_url', 'created_at', 'updated_at', 'pushed_at', 'git_url', 'ssh_url', 'clone_url', 'svn_url', 'homepage', 'size', 'stargazers_count', 'watchers_count', 'language', 'has_issues', 'has_projects', 'has_downloads', 'has_wiki', 'has_pages', 'has_discussions', 'forks_count', 'mirror_url', 'archived', 'disabled', 'open_issues_count', 'license', 'allow_forking', 'is_template', 'web_commit_signoff_required', 'topics', 'visibility', 'forks', 'open_issues', 'watchers', 'default_branch', 'temp_clone_token', 'parent', 'source', 'network_count', 'subscribers_count'])"
      ]
     },
     "execution_count": 10,
     "metadata": {},
     "output_type": "execute_result"
    }
   ],
   "source": [
    "resp.keys()"
   ]
  },
  {
   "cell_type": "code",
   "execution_count": 11,
   "id": "a2c4fbab",
   "metadata": {},
   "outputs": [
    {
     "data": {
      "text/plain": [
       "'3.1-lab_intro_to_mysql'"
      ]
     },
     "execution_count": 11,
     "metadata": {},
     "output_type": "execute_result"
    }
   ],
   "source": [
    "resp[\"name\"]"
   ]
  },
  {
   "cell_type": "code",
   "execution_count": 12,
   "id": "90549c31",
   "metadata": {},
   "outputs": [
    {
     "data": {
      "text/plain": [
       "'https://api.github.com/repos/IbaiGallego/3.1-lab_intro_to_mysql/commits{/sha}'"
      ]
     },
     "execution_count": 12,
     "metadata": {},
     "output_type": "execute_result"
    }
   ],
   "source": [
    "resp[\"commits_url\"]"
   ]
  },
  {
   "cell_type": "code",
   "execution_count": null,
   "id": "9df9e245",
   "metadata": {},
   "outputs": [],
   "source": [
    "# ejemplo para que se entienda la estructura \n",
    "HEADER = {'Authorization': 'token ' + 'ghp_1iTlgw.......'}"
   ]
  },
  {
   "cell_type": "code",
   "execution_count": 13,
   "id": "d2e5a466",
   "metadata": {},
   "outputs": [],
   "source": [
    "with open('pass.txt', 'r') as file:   # pass.txt en .gitignore\n",
    "    \n",
    "    pass_ = file.read()\n",
    "\n",
    "HEADER = {'Authorization': 'token ' + pass_ } "
   ]
  },
  {
   "cell_type": "code",
   "execution_count": 14,
   "id": "f047e94e",
   "metadata": {},
   "outputs": [
    {
     "data": {
      "text/plain": [
       "<Response [200]>"
      ]
     },
     "execution_count": 14,
     "metadata": {},
     "output_type": "execute_result"
    }
   ],
   "source": [
    "res = req.get(url, headers=HEADER)\n",
    "res"
   ]
  },
  {
   "cell_type": "code",
   "execution_count": null,
   "id": "ab7da547",
   "metadata": {},
   "outputs": [],
   "source": []
  }
 ],
 "metadata": {
  "kernelspec": {
   "display_name": "Python 3 (ipykernel)",
   "language": "python",
   "name": "python3"
  },
  "language_info": {
   "codemirror_mode": {
    "name": "ipython",
    "version": 3
   },
   "file_extension": ".py",
   "mimetype": "text/x-python",
   "name": "python",
   "nbconvert_exporter": "python",
   "pygments_lexer": "ipython3",
   "version": "3.10.4"
  }
 },
 "nbformat": 4,
 "nbformat_minor": 5
}
