{
 "cells": [
  {
   "cell_type": "markdown",
   "id": "701a4adb",
   "metadata": {},
   "source": [
    "### 1 - Terremotos"
   ]
  },
  {
   "cell_type": "code",
   "execution_count": 3,
   "id": "57e7eb9d",
   "metadata": {},
   "outputs": [],
   "source": [
    "from selenium import webdriver\n",
    "\n",
    "from selenium.webdriver.common.by import By\n",
    "\n",
    "PATH = 'driver/chromedriver'"
   ]
  },
  {
   "cell_type": "code",
   "execution_count": 4,
   "id": "a210f3f5",
   "metadata": {},
   "outputs": [],
   "source": [
    "url = 'https://www.emsc-csem.org/Earthquake/'"
   ]
  },
  {
   "cell_type": "code",
   "execution_count": 5,
   "id": "efda8bc3",
   "metadata": {},
   "outputs": [
    {
     "name": "stderr",
     "output_type": "stream",
     "text": [
      "/var/folders/95/ms6dwls51ls1jq0t456d3r200000gn/T/ipykernel_59036/1125902200.py:1: DeprecationWarning: executable_path has been deprecated, please pass in a Service object\n",
      "  driver = webdriver.Chrome(PATH)\n"
     ]
    }
   ],
   "source": [
    "driver = webdriver.Chrome(PATH)   \n",
    "\n",
    "driver.get(url)"
   ]
  },
  {
   "cell_type": "code",
   "execution_count": 6,
   "id": "8b9bcc26",
   "metadata": {},
   "outputs": [
    {
     "data": {
      "text/plain": [
       "<selenium.webdriver.remote.webelement.WebElement (session=\"edc2cf1dc5da6e92b37665aec5c6b3e1\", element=\"54E564D84ADD6DC22ED2DC80F155AB3C_element_200\")>"
      ]
     },
     "execution_count": 6,
     "metadata": {},
     "output_type": "execute_result"
    }
   ],
   "source": [
    "tabla = driver.find_element(By.XPATH, '/html/body/div[3]/div[6]/table')\n",
    "\n",
    "tabla"
   ]
  },
  {
   "cell_type": "code",
   "execution_count": 13,
   "id": "9641b331",
   "metadata": {},
   "outputs": [],
   "source": [
    "cuerpo = tabla.find_element(By.TAG_NAME, 'tbody')\n",
    "\n",
    "\n",
    "filas = cuerpo.find_elements(By.TAG_NAME, 'tr')"
   ]
  },
  {
   "cell_type": "code",
   "execution_count": 17,
   "id": "f5b54d88",
   "metadata": {},
   "outputs": [
    {
     "data": {
      "text/plain": [
       "'55.378'"
      ]
     },
     "execution_count": 17,
     "metadata": {},
     "output_type": "execute_result"
    }
   ],
   "source": [
    "filas[0].find_elements(By.TAG_NAME, 'td')[4].text"
   ]
  },
  {
   "cell_type": "code",
   "execution_count": 18,
   "id": "9b571d19",
   "metadata": {},
   "outputs": [],
   "source": [
    "matriz = []\n",
    "\n",
    "\n",
    "for f in filas:\n",
    "    \n",
    "    tmp = []\n",
    "    \n",
    "    elems = f.find_elements(By.TAG_NAME, 'td')  # esto es una lista\n",
    "    \n",
    "    for e in elems:\n",
    "        \n",
    "        tmp.append(e.text)\n",
    "        \n",
    "    matriz.append(tmp)"
   ]
  },
  {
   "cell_type": "code",
   "execution_count": 25,
   "id": "a28c250e",
   "metadata": {},
   "outputs": [
    {
     "data": {
      "text/plain": [
       "10"
      ]
     },
     "execution_count": 25,
     "metadata": {},
     "output_type": "execute_result"
    }
   ],
   "source": [
    "len(matriz[0])"
   ]
  },
  {
   "cell_type": "code",
   "execution_count": 26,
   "id": "a8837ca7",
   "metadata": {},
   "outputs": [
    {
     "data": {
      "text/plain": [
       "8"
      ]
     },
     "execution_count": 26,
     "metadata": {},
     "output_type": "execute_result"
    }
   ],
   "source": [
    "cabecera = tabla.find_element(By.TAG_NAME, 'thead')\n",
    "\n",
    "len(cabecera.find_elements(By.TAG_NAME, 'th'))"
   ]
  },
  {
   "cell_type": "code",
   "execution_count": 27,
   "id": "7ec99dfc",
   "metadata": {},
   "outputs": [
    {
     "data": {
      "text/plain": [
       "['',\n",
       " 'Citizen\\nresponse',\n",
       " 'Date & Time\\nUTC',\n",
       " 'Lat.\\ndegrees',\n",
       " 'Lon.\\ndegrees',\n",
       " 'Depth\\nkm',\n",
       " 'Mag.[+]',\n",
       " 'Region']"
      ]
     },
     "execution_count": 27,
     "metadata": {},
     "output_type": "execute_result"
    }
   ],
   "source": [
    "[e.text for e in cabecera.find_elements(By.TAG_NAME, 'th')]"
   ]
  },
  {
   "cell_type": "code",
   "execution_count": 28,
   "id": "03a33156",
   "metadata": {},
   "outputs": [],
   "source": [
    "import pandas as pd"
   ]
  },
  {
   "cell_type": "code",
   "execution_count": 31,
   "id": "6bf4f8f3",
   "metadata": {},
   "outputs": [],
   "source": [
    "columnas = [i for i in range(10)]\n",
    "\n",
    "\n",
    "df = pd.DataFrame(matriz, columns=columnas)\n",
    "\n",
    "df = df[[3, 4, 5, 6, 8, 9]]"
   ]
  },
  {
   "cell_type": "code",
   "execution_count": 33,
   "id": "6c52a1b3",
   "metadata": {},
   "outputs": [
    {
     "data": {
      "text/plain": [
       "8"
      ]
     },
     "execution_count": 33,
     "metadata": {},
     "output_type": "execute_result"
    }
   ],
   "source": [
    "n_cols = [e.text for e in cabecera.find_elements(By.TAG_NAME, 'th')]\n",
    "\n",
    "len(n_cols)"
   ]
  },
  {
   "cell_type": "code",
   "execution_count": 37,
   "id": "43a9be59",
   "metadata": {},
   "outputs": [
    {
     "data": {
      "text/plain": [
       "['Date & Time\\nUTC',\n",
       " 'Lat.\\ndegrees',\n",
       " 'Lon.\\ndegrees',\n",
       " 'Depth\\nkm',\n",
       " 'Mag.[+]',\n",
       " 'Region']"
      ]
     },
     "execution_count": 37,
     "metadata": {},
     "output_type": "execute_result"
    }
   ],
   "source": [
    "n_cols[2:]"
   ]
  },
  {
   "cell_type": "code",
   "execution_count": 35,
   "id": "d5620d40",
   "metadata": {},
   "outputs": [
    {
     "data": {
      "text/html": [
       "<div>\n",
       "<style scoped>\n",
       "    .dataframe tbody tr th:only-of-type {\n",
       "        vertical-align: middle;\n",
       "    }\n",
       "\n",
       "    .dataframe tbody tr th {\n",
       "        vertical-align: top;\n",
       "    }\n",
       "\n",
       "    .dataframe thead th {\n",
       "        text-align: right;\n",
       "    }\n",
       "</style>\n",
       "<table border=\"1\" class=\"dataframe\">\n",
       "  <thead>\n",
       "    <tr style=\"text-align: right;\">\n",
       "      <th></th>\n",
       "      <th>3</th>\n",
       "      <th>4</th>\n",
       "      <th>5</th>\n",
       "      <th>6</th>\n",
       "      <th>8</th>\n",
       "      <th>9</th>\n",
       "    </tr>\n",
       "  </thead>\n",
       "  <tbody>\n",
       "    <tr>\n",
       "      <th>0</th>\n",
       "      <td>2023-11-02 08:09:18\\n4 min ago</td>\n",
       "      <td>55.378</td>\n",
       "      <td>-157.694</td>\n",
       "      <td>17</td>\n",
       "      <td>3.0</td>\n",
       "      <td>ALASKA PENINSULA</td>\n",
       "    </tr>\n",
       "    <tr>\n",
       "      <th>1</th>\n",
       "      <td>2023-11-02 07:52:27\\n21 min ago</td>\n",
       "      <td>44.290</td>\n",
       "      <td>7.570</td>\n",
       "      <td>3</td>\n",
       "      <td>2.5</td>\n",
       "      <td>NORTHERN ITALY</td>\n",
       "    </tr>\n",
       "    <tr>\n",
       "      <th>2</th>\n",
       "      <td>2023-11-02 07:41:58\\n31 min ago</td>\n",
       "      <td>15.120</td>\n",
       "      <td>-94.660</td>\n",
       "      <td>18</td>\n",
       "      <td>4.4</td>\n",
       "      <td>OFF COAST OF OAXACA, MEXICO</td>\n",
       "    </tr>\n",
       "    <tr>\n",
       "      <th>3</th>\n",
       "      <td>2023-11-02 07:40:38\\n33 min ago</td>\n",
       "      <td>38.680</td>\n",
       "      <td>21.290</td>\n",
       "      <td>5</td>\n",
       "      <td>2.2</td>\n",
       "      <td>GREECE</td>\n",
       "    </tr>\n",
       "    <tr>\n",
       "      <th>4</th>\n",
       "      <td>2023-11-02 07:31:41\\n42 min ago</td>\n",
       "      <td>17.968</td>\n",
       "      <td>-66.838</td>\n",
       "      <td>16</td>\n",
       "      <td>2.2</td>\n",
       "      <td>PUERTO RICO</td>\n",
       "    </tr>\n",
       "  </tbody>\n",
       "</table>\n",
       "</div>"
      ],
      "text/plain": [
       "                                 3       4         5   6    8  \\\n",
       "0   2023-11-02 08:09:18\\n4 min ago  55.378  -157.694  17  3.0   \n",
       "1  2023-11-02 07:52:27\\n21 min ago  44.290     7.570   3  2.5   \n",
       "2  2023-11-02 07:41:58\\n31 min ago  15.120   -94.660  18  4.4   \n",
       "3  2023-11-02 07:40:38\\n33 min ago  38.680    21.290   5  2.2   \n",
       "4  2023-11-02 07:31:41\\n42 min ago  17.968   -66.838  16  2.2   \n",
       "\n",
       "                             9  \n",
       "0             ALASKA PENINSULA  \n",
       "1               NORTHERN ITALY  \n",
       "2  OFF COAST OF OAXACA, MEXICO  \n",
       "3                       GREECE  \n",
       "4                  PUERTO RICO  "
      ]
     },
     "execution_count": 35,
     "metadata": {},
     "output_type": "execute_result"
    }
   ],
   "source": [
    "df.head()"
   ]
  },
  {
   "cell_type": "code",
   "execution_count": 38,
   "id": "ecfe8977",
   "metadata": {},
   "outputs": [],
   "source": [
    "df.columns = n_cols[2:]"
   ]
  },
  {
   "cell_type": "code",
   "execution_count": 41,
   "id": "67e1a9b1",
   "metadata": {},
   "outputs": [
    {
     "data": {
      "text/html": [
       "<div>\n",
       "<style scoped>\n",
       "    .dataframe tbody tr th:only-of-type {\n",
       "        vertical-align: middle;\n",
       "    }\n",
       "\n",
       "    .dataframe tbody tr th {\n",
       "        vertical-align: top;\n",
       "    }\n",
       "\n",
       "    .dataframe thead th {\n",
       "        text-align: right;\n",
       "    }\n",
       "</style>\n",
       "<table border=\"1\" class=\"dataframe\">\n",
       "  <thead>\n",
       "    <tr style=\"text-align: right;\">\n",
       "      <th></th>\n",
       "      <th>Date &amp; Time\\nUTC</th>\n",
       "      <th>Lat.\\ndegrees</th>\n",
       "      <th>Lon.\\ndegrees</th>\n",
       "      <th>Depth\\nkm</th>\n",
       "      <th>Mag.[+]</th>\n",
       "      <th>Region</th>\n",
       "    </tr>\n",
       "  </thead>\n",
       "  <tbody>\n",
       "    <tr>\n",
       "      <th>0</th>\n",
       "      <td>2023-11-02 08:09:18\\n4 min ago</td>\n",
       "      <td>55.378</td>\n",
       "      <td>-157.694</td>\n",
       "      <td>17</td>\n",
       "      <td>3.0</td>\n",
       "      <td>ALASKA PENINSULA</td>\n",
       "    </tr>\n",
       "    <tr>\n",
       "      <th>1</th>\n",
       "      <td>2023-11-02 07:52:27\\n21 min ago</td>\n",
       "      <td>44.290</td>\n",
       "      <td>7.570</td>\n",
       "      <td>3</td>\n",
       "      <td>2.5</td>\n",
       "      <td>NORTHERN ITALY</td>\n",
       "    </tr>\n",
       "    <tr>\n",
       "      <th>2</th>\n",
       "      <td>2023-11-02 07:41:58\\n31 min ago</td>\n",
       "      <td>15.120</td>\n",
       "      <td>-94.660</td>\n",
       "      <td>18</td>\n",
       "      <td>4.4</td>\n",
       "      <td>OFF COAST OF OAXACA, MEXICO</td>\n",
       "    </tr>\n",
       "    <tr>\n",
       "      <th>3</th>\n",
       "      <td>2023-11-02 07:40:38\\n33 min ago</td>\n",
       "      <td>38.680</td>\n",
       "      <td>21.290</td>\n",
       "      <td>5</td>\n",
       "      <td>2.2</td>\n",
       "      <td>GREECE</td>\n",
       "    </tr>\n",
       "    <tr>\n",
       "      <th>4</th>\n",
       "      <td>2023-11-02 07:31:41\\n42 min ago</td>\n",
       "      <td>17.968</td>\n",
       "      <td>-66.838</td>\n",
       "      <td>16</td>\n",
       "      <td>2.2</td>\n",
       "      <td>PUERTO RICO</td>\n",
       "    </tr>\n",
       "  </tbody>\n",
       "</table>\n",
       "</div>"
      ],
      "text/plain": [
       "                  Date & Time\\nUTC Lat.\\ndegrees Lon.\\ndegrees Depth\\nkm  \\\n",
       "0   2023-11-02 08:09:18\\n4 min ago        55.378      -157.694        17   \n",
       "1  2023-11-02 07:52:27\\n21 min ago        44.290         7.570         3   \n",
       "2  2023-11-02 07:41:58\\n31 min ago        15.120       -94.660        18   \n",
       "3  2023-11-02 07:40:38\\n33 min ago        38.680        21.290         5   \n",
       "4  2023-11-02 07:31:41\\n42 min ago        17.968       -66.838        16   \n",
       "\n",
       "  Mag.[+]                       Region  \n",
       "0     3.0             ALASKA PENINSULA  \n",
       "1     2.5               NORTHERN ITALY  \n",
       "2     4.4  OFF COAST OF OAXACA, MEXICO  \n",
       "3     2.2                       GREECE  \n",
       "4     2.2                  PUERTO RICO  "
      ]
     },
     "execution_count": 41,
     "metadata": {},
     "output_type": "execute_result"
    }
   ],
   "source": [
    "df.head()"
   ]
  },
  {
   "cell_type": "code",
   "execution_count": 44,
   "id": "65c18ee2",
   "metadata": {},
   "outputs": [],
   "source": [
    "df2 = pd.read_html('https://www.emsc-csem.org/Earthquake_information/')"
   ]
  },
  {
   "cell_type": "code",
   "execution_count": 46,
   "id": "0faeac46",
   "metadata": {},
   "outputs": [
    {
     "data": {
      "text/plain": [
       "[    Unnamed: 0              Period           Magnitude               Depth  \\\n",
       " 0         Min:                 NaN                 NaN                 NaN   \n",
       " 1         Max:                 NaN                 NaN                 NaN   \n",
       " 2  Region Name  [x] \\tSend checked  [x] \\tSend checked  [x] \\tSend checked   \n",
       " \n",
       "              Latitude           Longitude Unnamed: 6  Reports  Images  \\\n",
       " 0                 NaN                 NaN      With:      NaN     NaN   \n",
       " 1                 NaN                 NaN        NaN      NaN     NaN   \n",
       " 2  [x] \\tSend checked  [x] \\tSend checked        NaN      NaN     NaN   \n",
       " \n",
       "    Comments  \n",
       " 0       NaN  \n",
       " 1       NaN  \n",
       " 2       NaN  ,\n",
       "     0    1\n",
       " 0 NaN  [x],\n",
       " Empty DataFrame\n",
       " Columns: [Unnamed: 0, Citizen response, Citizen response.1, Date & TimeUTC, Lat.degrees, Lon.degrees, Depthkm, Mag.[+], Region]\n",
       " Index: []]"
      ]
     },
     "execution_count": 46,
     "metadata": {},
     "output_type": "execute_result"
    }
   ],
   "source": [
    "df2"
   ]
  },
  {
   "cell_type": "markdown",
   "id": "46eb69cd",
   "metadata": {},
   "source": [
    "pd.read_html('https://es.wikipedia.org/wiki/Anexo:Pa%C3%ADses_por_esperanza_de_vida')"
   ]
  },
  {
   "cell_type": "markdown",
   "id": "a70ab9de",
   "metadata": {},
   "source": [
    "## 2 . lenguajes"
   ]
  },
  {
   "cell_type": "code",
   "execution_count": 50,
   "id": "bd218b7f",
   "metadata": {},
   "outputs": [],
   "source": [
    "driver.get('https://en.wikipedia.org/wiki/List_of_languages_by_number_of_native_speakers')"
   ]
  },
  {
   "cell_type": "code",
   "execution_count": 51,
   "id": "6f8a0936",
   "metadata": {},
   "outputs": [
    {
     "data": {
      "text/plain": [
       "<selenium.webdriver.remote.webelement.WebElement (session=\"edc2cf1dc5da6e92b37665aec5c6b3e1\", element=\"231BE643F0A233FF9825ED16FB0BCC8E_element_266\")>"
      ]
     },
     "execution_count": 51,
     "metadata": {},
     "output_type": "execute_result"
    }
   ],
   "source": [
    "tabla = driver.find_element(By.CSS_SELECTOR, 'div.mw-parser-output > table.wikitable.sortable.static-row-numbers.jquery-tablesorter')\n",
    "\n",
    "tabla"
   ]
  },
  {
   "cell_type": "code",
   "execution_count": 52,
   "id": "476efd52",
   "metadata": {},
   "outputs": [
    {
     "data": {
      "text/plain": [
       "'Languages with at least 50 million first-language speakers[7]\\nLanguage Native speakers\\n(millions) Language family Branch\\nMandarin Chinese\\n(incl. Standard Chinese, but excl. other varieties) 939 Sino-Tibetan Sinitic\\nSpanish 485 Indo-European Romance\\nEnglish 380 Indo-European Germanic\\nHindi\\n(excl. Urdu, and other languages) 345 Indo-European Indo-Aryan\\nPortuguese 236 Indo-European Romance\\nBengali 234 Indo-European Indo-Aryan\\nRussian 147 Indo-European Balto-Slavic\\nJapanese 123 Japonic Japanese\\nYue Chinese\\n(incl. Cantonese) 86.1 Sino-Tibetan Sinitic\\nVietnamese 85.0 Austroasiatic Vietic\\nTurkish 84.0 Turkic Oghuz\\nWu Chinese\\n(incl. Shanghainese) 83.4 Sino-Tibetan Sinitic\\nMarathi 83.2 Indo-European Indo-Aryan\\nTelugu 83.0 Dravidian South-Central\\nKorean 81.7 Koreanic —\\nFrench 80.8 Indo-European Romance\\nTamil 78.6 Dravidian South\\nEgyptian Spoken Arabic\\n(excl. Saʽidi Arabic) 77.4 Afroasiatic Semitic\\nStandard German 75.3 Indo-European Germanic\\nUrdu\\n(excl. Hindi) 70.6 Indo-European Indo-Aryan\\nJavanese 68.3 Austronesian Malayo-Polynesian\\nWestern Punjabi\\n(excl. Eastern Punjabi) 66.7 Indo-European Indo-Aryan\\nItalian 64.6 Indo-European Romance\\nGujarati 57.1 Indo-European Indo-Aryan\\nIranian Persian\\n(excl. Dari and Tajik) 57.2 Indo-European Iranian\\nBhojpuri 52.3 Indo-European Indo-Aryan\\nHausa 51.7 Afroasiatic Chadic'"
      ]
     },
     "execution_count": 52,
     "metadata": {},
     "output_type": "execute_result"
    }
   ],
   "source": [
    "tabla.text"
   ]
  },
  {
   "cell_type": "code",
   "execution_count": 53,
   "id": "3eafbbd1",
   "metadata": {},
   "outputs": [],
   "source": [
    "cuerpo = tabla.find_element(By.TAG_NAME, 'tbody')\n",
    "\n",
    "\n",
    "filas = cuerpo.find_elements(By.TAG_NAME, 'tr')"
   ]
  },
  {
   "cell_type": "code",
   "execution_count": 56,
   "id": "0931f27b",
   "metadata": {},
   "outputs": [
    {
     "data": {
      "text/plain": [
       "'Sino-Tibetan'"
      ]
     },
     "execution_count": 56,
     "metadata": {},
     "output_type": "execute_result"
    }
   ],
   "source": [
    "filas[0].find_elements(By.TAG_NAME, 'td')[2].text"
   ]
  },
  {
   "cell_type": "code",
   "execution_count": 57,
   "id": "46e6e01d",
   "metadata": {},
   "outputs": [],
   "source": [
    "matriz = []\n",
    "\n",
    "\n",
    "for f in filas:\n",
    "    \n",
    "    tmp = []\n",
    "    \n",
    "    elems = f.find_elements(By.TAG_NAME, 'td')  # esto es una lista\n",
    "    \n",
    "    for e in elems:\n",
    "        \n",
    "        tmp.append(e.text)\n",
    "        \n",
    "    matriz.append(tmp)"
   ]
  },
  {
   "cell_type": "code",
   "execution_count": 61,
   "id": "6eac38bd",
   "metadata": {},
   "outputs": [],
   "source": [
    "df = pd.DataFrame(matriz)"
   ]
  },
  {
   "cell_type": "code",
   "execution_count": 60,
   "id": "b2be0fe8",
   "metadata": {},
   "outputs": [
    {
     "data": {
      "text/plain": [
       "'Mandarin Chinese\\n(incl. Standard Chinese, but excl. other varieties)'"
      ]
     },
     "execution_count": 60,
     "metadata": {},
     "output_type": "execute_result"
    }
   ],
   "source": [
    "matriz[0][0]"
   ]
  },
  {
   "cell_type": "code",
   "execution_count": 64,
   "id": "2ee1d1bc",
   "metadata": {},
   "outputs": [],
   "source": [
    "df[0] = df[0].apply(lambda x: x.split('\\n')[0])"
   ]
  },
  {
   "cell_type": "code",
   "execution_count": 65,
   "id": "dc857564",
   "metadata": {},
   "outputs": [
    {
     "data": {
      "text/html": [
       "<div>\n",
       "<style scoped>\n",
       "    .dataframe tbody tr th:only-of-type {\n",
       "        vertical-align: middle;\n",
       "    }\n",
       "\n",
       "    .dataframe tbody tr th {\n",
       "        vertical-align: top;\n",
       "    }\n",
       "\n",
       "    .dataframe thead th {\n",
       "        text-align: right;\n",
       "    }\n",
       "</style>\n",
       "<table border=\"1\" class=\"dataframe\">\n",
       "  <thead>\n",
       "    <tr style=\"text-align: right;\">\n",
       "      <th></th>\n",
       "      <th>0</th>\n",
       "      <th>1</th>\n",
       "      <th>2</th>\n",
       "      <th>3</th>\n",
       "    </tr>\n",
       "  </thead>\n",
       "  <tbody>\n",
       "    <tr>\n",
       "      <th>0</th>\n",
       "      <td>Mandarin Chinese</td>\n",
       "      <td>939</td>\n",
       "      <td>Sino-Tibetan</td>\n",
       "      <td>Sinitic</td>\n",
       "    </tr>\n",
       "    <tr>\n",
       "      <th>1</th>\n",
       "      <td>Spanish</td>\n",
       "      <td>485</td>\n",
       "      <td>Indo-European</td>\n",
       "      <td>Romance</td>\n",
       "    </tr>\n",
       "    <tr>\n",
       "      <th>2</th>\n",
       "      <td>English</td>\n",
       "      <td>380</td>\n",
       "      <td>Indo-European</td>\n",
       "      <td>Germanic</td>\n",
       "    </tr>\n",
       "    <tr>\n",
       "      <th>3</th>\n",
       "      <td>Hindi</td>\n",
       "      <td>345</td>\n",
       "      <td>Indo-European</td>\n",
       "      <td>Indo-Aryan</td>\n",
       "    </tr>\n",
       "    <tr>\n",
       "      <th>4</th>\n",
       "      <td>Portuguese</td>\n",
       "      <td>236</td>\n",
       "      <td>Indo-European</td>\n",
       "      <td>Romance</td>\n",
       "    </tr>\n",
       "    <tr>\n",
       "      <th>5</th>\n",
       "      <td>Bengali</td>\n",
       "      <td>234</td>\n",
       "      <td>Indo-European</td>\n",
       "      <td>Indo-Aryan</td>\n",
       "    </tr>\n",
       "    <tr>\n",
       "      <th>6</th>\n",
       "      <td>Russian</td>\n",
       "      <td>147</td>\n",
       "      <td>Indo-European</td>\n",
       "      <td>Balto-Slavic</td>\n",
       "    </tr>\n",
       "    <tr>\n",
       "      <th>7</th>\n",
       "      <td>Japanese</td>\n",
       "      <td>123</td>\n",
       "      <td>Japonic</td>\n",
       "      <td>Japanese</td>\n",
       "    </tr>\n",
       "    <tr>\n",
       "      <th>8</th>\n",
       "      <td>Yue Chinese</td>\n",
       "      <td>86.1</td>\n",
       "      <td>Sino-Tibetan</td>\n",
       "      <td>Sinitic</td>\n",
       "    </tr>\n",
       "    <tr>\n",
       "      <th>9</th>\n",
       "      <td>Vietnamese</td>\n",
       "      <td>85.0</td>\n",
       "      <td>Austroasiatic</td>\n",
       "      <td>Vietic</td>\n",
       "    </tr>\n",
       "    <tr>\n",
       "      <th>10</th>\n",
       "      <td>Turkish</td>\n",
       "      <td>84.0</td>\n",
       "      <td>Turkic</td>\n",
       "      <td>Oghuz</td>\n",
       "    </tr>\n",
       "    <tr>\n",
       "      <th>11</th>\n",
       "      <td>Wu Chinese</td>\n",
       "      <td>83.4</td>\n",
       "      <td>Sino-Tibetan</td>\n",
       "      <td>Sinitic</td>\n",
       "    </tr>\n",
       "    <tr>\n",
       "      <th>12</th>\n",
       "      <td>Marathi</td>\n",
       "      <td>83.2</td>\n",
       "      <td>Indo-European</td>\n",
       "      <td>Indo-Aryan</td>\n",
       "    </tr>\n",
       "    <tr>\n",
       "      <th>13</th>\n",
       "      <td>Telugu</td>\n",
       "      <td>83.0</td>\n",
       "      <td>Dravidian</td>\n",
       "      <td>South-Central</td>\n",
       "    </tr>\n",
       "    <tr>\n",
       "      <th>14</th>\n",
       "      <td>Korean</td>\n",
       "      <td>81.7</td>\n",
       "      <td>Koreanic</td>\n",
       "      <td>—</td>\n",
       "    </tr>\n",
       "    <tr>\n",
       "      <th>15</th>\n",
       "      <td>French</td>\n",
       "      <td>80.8</td>\n",
       "      <td>Indo-European</td>\n",
       "      <td>Romance</td>\n",
       "    </tr>\n",
       "    <tr>\n",
       "      <th>16</th>\n",
       "      <td>Tamil</td>\n",
       "      <td>78.6</td>\n",
       "      <td>Dravidian</td>\n",
       "      <td>South</td>\n",
       "    </tr>\n",
       "    <tr>\n",
       "      <th>17</th>\n",
       "      <td>Egyptian Spoken Arabic</td>\n",
       "      <td>77.4</td>\n",
       "      <td>Afroasiatic</td>\n",
       "      <td>Semitic</td>\n",
       "    </tr>\n",
       "    <tr>\n",
       "      <th>18</th>\n",
       "      <td>Standard German</td>\n",
       "      <td>75.3</td>\n",
       "      <td>Indo-European</td>\n",
       "      <td>Germanic</td>\n",
       "    </tr>\n",
       "    <tr>\n",
       "      <th>19</th>\n",
       "      <td>Urdu</td>\n",
       "      <td>70.6</td>\n",
       "      <td>Indo-European</td>\n",
       "      <td>Indo-Aryan</td>\n",
       "    </tr>\n",
       "    <tr>\n",
       "      <th>20</th>\n",
       "      <td>Javanese</td>\n",
       "      <td>68.3</td>\n",
       "      <td>Austronesian</td>\n",
       "      <td>Malayo-Polynesian</td>\n",
       "    </tr>\n",
       "    <tr>\n",
       "      <th>21</th>\n",
       "      <td>Western Punjabi</td>\n",
       "      <td>66.7</td>\n",
       "      <td>Indo-European</td>\n",
       "      <td>Indo-Aryan</td>\n",
       "    </tr>\n",
       "    <tr>\n",
       "      <th>22</th>\n",
       "      <td>Italian</td>\n",
       "      <td>64.6</td>\n",
       "      <td>Indo-European</td>\n",
       "      <td>Romance</td>\n",
       "    </tr>\n",
       "    <tr>\n",
       "      <th>23</th>\n",
       "      <td>Gujarati</td>\n",
       "      <td>57.1</td>\n",
       "      <td>Indo-European</td>\n",
       "      <td>Indo-Aryan</td>\n",
       "    </tr>\n",
       "    <tr>\n",
       "      <th>24</th>\n",
       "      <td>Iranian Persian</td>\n",
       "      <td>57.2</td>\n",
       "      <td>Indo-European</td>\n",
       "      <td>Iranian</td>\n",
       "    </tr>\n",
       "    <tr>\n",
       "      <th>25</th>\n",
       "      <td>Bhojpuri</td>\n",
       "      <td>52.3</td>\n",
       "      <td>Indo-European</td>\n",
       "      <td>Indo-Aryan</td>\n",
       "    </tr>\n",
       "    <tr>\n",
       "      <th>26</th>\n",
       "      <td>Hausa</td>\n",
       "      <td>51.7</td>\n",
       "      <td>Afroasiatic</td>\n",
       "      <td>Chadic</td>\n",
       "    </tr>\n",
       "  </tbody>\n",
       "</table>\n",
       "</div>"
      ],
      "text/plain": [
       "                         0     1              2                  3\n",
       "0         Mandarin Chinese   939   Sino-Tibetan            Sinitic\n",
       "1                  Spanish   485  Indo-European            Romance\n",
       "2                  English   380  Indo-European           Germanic\n",
       "3                    Hindi   345  Indo-European         Indo-Aryan\n",
       "4               Portuguese   236  Indo-European            Romance\n",
       "5                  Bengali   234  Indo-European         Indo-Aryan\n",
       "6                  Russian   147  Indo-European       Balto-Slavic\n",
       "7                 Japanese   123        Japonic           Japanese\n",
       "8              Yue Chinese  86.1   Sino-Tibetan            Sinitic\n",
       "9               Vietnamese  85.0  Austroasiatic             Vietic\n",
       "10                 Turkish  84.0         Turkic              Oghuz\n",
       "11              Wu Chinese  83.4   Sino-Tibetan            Sinitic\n",
       "12                 Marathi  83.2  Indo-European         Indo-Aryan\n",
       "13                  Telugu  83.0      Dravidian      South-Central\n",
       "14                  Korean  81.7       Koreanic                  —\n",
       "15                  French  80.8  Indo-European            Romance\n",
       "16                   Tamil  78.6      Dravidian              South\n",
       "17  Egyptian Spoken Arabic  77.4    Afroasiatic            Semitic\n",
       "18         Standard German  75.3  Indo-European           Germanic\n",
       "19                    Urdu  70.6  Indo-European         Indo-Aryan\n",
       "20                Javanese  68.3   Austronesian  Malayo-Polynesian\n",
       "21         Western Punjabi  66.7  Indo-European         Indo-Aryan\n",
       "22                 Italian  64.6  Indo-European            Romance\n",
       "23                Gujarati  57.1  Indo-European         Indo-Aryan\n",
       "24         Iranian Persian  57.2  Indo-European            Iranian\n",
       "25                Bhojpuri  52.3  Indo-European         Indo-Aryan\n",
       "26                   Hausa  51.7    Afroasiatic             Chadic"
      ]
     },
     "execution_count": 65,
     "metadata": {},
     "output_type": "execute_result"
    }
   ],
   "source": [
    "df"
   ]
  },
  {
   "cell_type": "code",
   "execution_count": 70,
   "id": "400cfde0",
   "metadata": {},
   "outputs": [],
   "source": [
    "cols = [e.text for e in tabla.find_element(By.TAG_NAME, 'thead').find_elements(By.TAG_NAME, 'th')]"
   ]
  },
  {
   "cell_type": "code",
   "execution_count": 73,
   "id": "0b99990e",
   "metadata": {},
   "outputs": [],
   "source": [
    "cols = [e.split('\\n')[0] for e in cols]"
   ]
  },
  {
   "cell_type": "code",
   "execution_count": 74,
   "id": "53e35e7f",
   "metadata": {},
   "outputs": [],
   "source": [
    "df.columns = cols"
   ]
  },
  {
   "cell_type": "code",
   "execution_count": 75,
   "id": "8436970f",
   "metadata": {},
   "outputs": [
    {
     "data": {
      "text/html": [
       "<div>\n",
       "<style scoped>\n",
       "    .dataframe tbody tr th:only-of-type {\n",
       "        vertical-align: middle;\n",
       "    }\n",
       "\n",
       "    .dataframe tbody tr th {\n",
       "        vertical-align: top;\n",
       "    }\n",
       "\n",
       "    .dataframe thead th {\n",
       "        text-align: right;\n",
       "    }\n",
       "</style>\n",
       "<table border=\"1\" class=\"dataframe\">\n",
       "  <thead>\n",
       "    <tr style=\"text-align: right;\">\n",
       "      <th></th>\n",
       "      <th>Language</th>\n",
       "      <th>Native speakers</th>\n",
       "      <th>Language family</th>\n",
       "      <th>Branch</th>\n",
       "    </tr>\n",
       "  </thead>\n",
       "  <tbody>\n",
       "    <tr>\n",
       "      <th>0</th>\n",
       "      <td>Mandarin Chinese</td>\n",
       "      <td>939</td>\n",
       "      <td>Sino-Tibetan</td>\n",
       "      <td>Sinitic</td>\n",
       "    </tr>\n",
       "    <tr>\n",
       "      <th>1</th>\n",
       "      <td>Spanish</td>\n",
       "      <td>485</td>\n",
       "      <td>Indo-European</td>\n",
       "      <td>Romance</td>\n",
       "    </tr>\n",
       "    <tr>\n",
       "      <th>2</th>\n",
       "      <td>English</td>\n",
       "      <td>380</td>\n",
       "      <td>Indo-European</td>\n",
       "      <td>Germanic</td>\n",
       "    </tr>\n",
       "    <tr>\n",
       "      <th>3</th>\n",
       "      <td>Hindi</td>\n",
       "      <td>345</td>\n",
       "      <td>Indo-European</td>\n",
       "      <td>Indo-Aryan</td>\n",
       "    </tr>\n",
       "    <tr>\n",
       "      <th>4</th>\n",
       "      <td>Portuguese</td>\n",
       "      <td>236</td>\n",
       "      <td>Indo-European</td>\n",
       "      <td>Romance</td>\n",
       "    </tr>\n",
       "    <tr>\n",
       "      <th>5</th>\n",
       "      <td>Bengali</td>\n",
       "      <td>234</td>\n",
       "      <td>Indo-European</td>\n",
       "      <td>Indo-Aryan</td>\n",
       "    </tr>\n",
       "    <tr>\n",
       "      <th>6</th>\n",
       "      <td>Russian</td>\n",
       "      <td>147</td>\n",
       "      <td>Indo-European</td>\n",
       "      <td>Balto-Slavic</td>\n",
       "    </tr>\n",
       "    <tr>\n",
       "      <th>7</th>\n",
       "      <td>Japanese</td>\n",
       "      <td>123</td>\n",
       "      <td>Japonic</td>\n",
       "      <td>Japanese</td>\n",
       "    </tr>\n",
       "    <tr>\n",
       "      <th>8</th>\n",
       "      <td>Yue Chinese</td>\n",
       "      <td>86.1</td>\n",
       "      <td>Sino-Tibetan</td>\n",
       "      <td>Sinitic</td>\n",
       "    </tr>\n",
       "    <tr>\n",
       "      <th>9</th>\n",
       "      <td>Vietnamese</td>\n",
       "      <td>85.0</td>\n",
       "      <td>Austroasiatic</td>\n",
       "      <td>Vietic</td>\n",
       "    </tr>\n",
       "    <tr>\n",
       "      <th>10</th>\n",
       "      <td>Turkish</td>\n",
       "      <td>84.0</td>\n",
       "      <td>Turkic</td>\n",
       "      <td>Oghuz</td>\n",
       "    </tr>\n",
       "    <tr>\n",
       "      <th>11</th>\n",
       "      <td>Wu Chinese</td>\n",
       "      <td>83.4</td>\n",
       "      <td>Sino-Tibetan</td>\n",
       "      <td>Sinitic</td>\n",
       "    </tr>\n",
       "    <tr>\n",
       "      <th>12</th>\n",
       "      <td>Marathi</td>\n",
       "      <td>83.2</td>\n",
       "      <td>Indo-European</td>\n",
       "      <td>Indo-Aryan</td>\n",
       "    </tr>\n",
       "    <tr>\n",
       "      <th>13</th>\n",
       "      <td>Telugu</td>\n",
       "      <td>83.0</td>\n",
       "      <td>Dravidian</td>\n",
       "      <td>South-Central</td>\n",
       "    </tr>\n",
       "    <tr>\n",
       "      <th>14</th>\n",
       "      <td>Korean</td>\n",
       "      <td>81.7</td>\n",
       "      <td>Koreanic</td>\n",
       "      <td>—</td>\n",
       "    </tr>\n",
       "    <tr>\n",
       "      <th>15</th>\n",
       "      <td>French</td>\n",
       "      <td>80.8</td>\n",
       "      <td>Indo-European</td>\n",
       "      <td>Romance</td>\n",
       "    </tr>\n",
       "    <tr>\n",
       "      <th>16</th>\n",
       "      <td>Tamil</td>\n",
       "      <td>78.6</td>\n",
       "      <td>Dravidian</td>\n",
       "      <td>South</td>\n",
       "    </tr>\n",
       "    <tr>\n",
       "      <th>17</th>\n",
       "      <td>Egyptian Spoken Arabic</td>\n",
       "      <td>77.4</td>\n",
       "      <td>Afroasiatic</td>\n",
       "      <td>Semitic</td>\n",
       "    </tr>\n",
       "    <tr>\n",
       "      <th>18</th>\n",
       "      <td>Standard German</td>\n",
       "      <td>75.3</td>\n",
       "      <td>Indo-European</td>\n",
       "      <td>Germanic</td>\n",
       "    </tr>\n",
       "    <tr>\n",
       "      <th>19</th>\n",
       "      <td>Urdu</td>\n",
       "      <td>70.6</td>\n",
       "      <td>Indo-European</td>\n",
       "      <td>Indo-Aryan</td>\n",
       "    </tr>\n",
       "    <tr>\n",
       "      <th>20</th>\n",
       "      <td>Javanese</td>\n",
       "      <td>68.3</td>\n",
       "      <td>Austronesian</td>\n",
       "      <td>Malayo-Polynesian</td>\n",
       "    </tr>\n",
       "    <tr>\n",
       "      <th>21</th>\n",
       "      <td>Western Punjabi</td>\n",
       "      <td>66.7</td>\n",
       "      <td>Indo-European</td>\n",
       "      <td>Indo-Aryan</td>\n",
       "    </tr>\n",
       "    <tr>\n",
       "      <th>22</th>\n",
       "      <td>Italian</td>\n",
       "      <td>64.6</td>\n",
       "      <td>Indo-European</td>\n",
       "      <td>Romance</td>\n",
       "    </tr>\n",
       "    <tr>\n",
       "      <th>23</th>\n",
       "      <td>Gujarati</td>\n",
       "      <td>57.1</td>\n",
       "      <td>Indo-European</td>\n",
       "      <td>Indo-Aryan</td>\n",
       "    </tr>\n",
       "    <tr>\n",
       "      <th>24</th>\n",
       "      <td>Iranian Persian</td>\n",
       "      <td>57.2</td>\n",
       "      <td>Indo-European</td>\n",
       "      <td>Iranian</td>\n",
       "    </tr>\n",
       "    <tr>\n",
       "      <th>25</th>\n",
       "      <td>Bhojpuri</td>\n",
       "      <td>52.3</td>\n",
       "      <td>Indo-European</td>\n",
       "      <td>Indo-Aryan</td>\n",
       "    </tr>\n",
       "    <tr>\n",
       "      <th>26</th>\n",
       "      <td>Hausa</td>\n",
       "      <td>51.7</td>\n",
       "      <td>Afroasiatic</td>\n",
       "      <td>Chadic</td>\n",
       "    </tr>\n",
       "  </tbody>\n",
       "</table>\n",
       "</div>"
      ],
      "text/plain": [
       "                  Language Native speakers Language family             Branch\n",
       "0         Mandarin Chinese             939    Sino-Tibetan            Sinitic\n",
       "1                  Spanish             485   Indo-European            Romance\n",
       "2                  English             380   Indo-European           Germanic\n",
       "3                    Hindi             345   Indo-European         Indo-Aryan\n",
       "4               Portuguese             236   Indo-European            Romance\n",
       "5                  Bengali             234   Indo-European         Indo-Aryan\n",
       "6                  Russian             147   Indo-European       Balto-Slavic\n",
       "7                 Japanese             123         Japonic           Japanese\n",
       "8              Yue Chinese            86.1    Sino-Tibetan            Sinitic\n",
       "9               Vietnamese            85.0   Austroasiatic             Vietic\n",
       "10                 Turkish            84.0          Turkic              Oghuz\n",
       "11              Wu Chinese            83.4    Sino-Tibetan            Sinitic\n",
       "12                 Marathi            83.2   Indo-European         Indo-Aryan\n",
       "13                  Telugu            83.0       Dravidian      South-Central\n",
       "14                  Korean            81.7        Koreanic                  —\n",
       "15                  French            80.8   Indo-European            Romance\n",
       "16                   Tamil            78.6       Dravidian              South\n",
       "17  Egyptian Spoken Arabic            77.4     Afroasiatic            Semitic\n",
       "18         Standard German            75.3   Indo-European           Germanic\n",
       "19                    Urdu            70.6   Indo-European         Indo-Aryan\n",
       "20                Javanese            68.3    Austronesian  Malayo-Polynesian\n",
       "21         Western Punjabi            66.7   Indo-European         Indo-Aryan\n",
       "22                 Italian            64.6   Indo-European            Romance\n",
       "23                Gujarati            57.1   Indo-European         Indo-Aryan\n",
       "24         Iranian Persian            57.2   Indo-European            Iranian\n",
       "25                Bhojpuri            52.3   Indo-European         Indo-Aryan\n",
       "26                   Hausa            51.7     Afroasiatic             Chadic"
      ]
     },
     "execution_count": 75,
     "metadata": {},
     "output_type": "execute_result"
    }
   ],
   "source": [
    "df"
   ]
  },
  {
   "cell_type": "markdown",
   "id": "b803a908",
   "metadata": {},
   "source": [
    "## 3 - twitter"
   ]
  },
  {
   "cell_type": "code",
   "execution_count": 103,
   "id": "6eaac70c",
   "metadata": {},
   "outputs": [],
   "source": [
    "import time"
   ]
  },
  {
   "cell_type": "code",
   "execution_count": 98,
   "id": "c15094c7",
   "metadata": {},
   "outputs": [],
   "source": [
    "cuenta = 'elonmusk'\n",
    "\n",
    "\n",
    "url = f'https://twitter.com/{cuenta}'"
   ]
  },
  {
   "cell_type": "code",
   "execution_count": 99,
   "id": "9dc17883",
   "metadata": {},
   "outputs": [
    {
     "data": {
      "text/plain": [
       "'https://twitter.com/elonmusk'"
      ]
     },
     "execution_count": 99,
     "metadata": {},
     "output_type": "execute_result"
    }
   ],
   "source": [
    "url"
   ]
  },
  {
   "cell_type": "code",
   "execution_count": 100,
   "id": "2bb46862",
   "metadata": {},
   "outputs": [
    {
     "name": "stderr",
     "output_type": "stream",
     "text": [
      "/var/folders/95/ms6dwls51ls1jq0t456d3r200000gn/T/ipykernel_59036/3715511717.py:1: DeprecationWarning: executable_path has been deprecated, please pass in a Service object\n",
      "  driver = webdriver.Chrome(PATH)\n"
     ]
    }
   ],
   "source": [
    "driver = webdriver.Chrome(PATH)\n",
    "\n",
    "driver.get(url)"
   ]
  },
  {
   "cell_type": "code",
   "execution_count": 102,
   "id": "48e3073e",
   "metadata": {},
   "outputs": [
    {
     "data": {
      "text/plain": [
       "32700"
      ]
     },
     "execution_count": 102,
     "metadata": {},
     "output_type": "execute_result"
    }
   ],
   "source": [
    "selector = 'div > div > div.css-1dbjc4n.r-18u37iz.r-13qz1uu.r-417010 > main > div > div > div > div > div > div.css-1dbjc4n.r-aqfbo4.r-gtdqiz.r-1gn8etr.r-1g40b8q > div:nth-child(1) > div > div > div > div > div > div.css-1dbjc4n.r-16y2uox.r-1wbh5a2.r-1pi2tsx.r-1777fci > div > div'\n",
    "\n",
    "\n",
    "numero = driver.find_element(By.CSS_SELECTOR, selector)\n",
    "\n",
    "\n",
    "int(float(numero.text.split()[0].replace(',', '.')) * 1000)\n"
   ]
  },
  {
   "cell_type": "code",
   "execution_count": 106,
   "id": "18d3a092",
   "metadata": {},
   "outputs": [],
   "source": [
    "def sacar_data_twitter(cuenta):\n",
    "    \n",
    "    url = f'https://twitter.com/{cuenta}'\n",
    "    \n",
    "    driver = webdriver.Chrome(PATH)\n",
    "    \n",
    "    try:\n",
    "    \n",
    "        driver.get(url)\n",
    "        \n",
    "        time.sleep(3)  # duerme el codigo 3 segundos\n",
    "\n",
    "        selector = 'div > div > div.css-1dbjc4n.r-18u37iz.r-13qz1uu.r-417010 > main > div > div > div > div > div > div.css-1dbjc4n.r-aqfbo4.r-gtdqiz.r-1gn8etr.r-1g40b8q > div:nth-child(1) > div > div > div > div > div > div.css-1dbjc4n.r-16y2uox.r-1wbh5a2.r-1pi2tsx.r-1777fci > div > div'\n",
    "\n",
    "        numero = driver.find_element(By.CSS_SELECTOR, selector)\n",
    "\n",
    "\n",
    "        numero = int(float(numero.text.split()[0].replace(',', '.')) * 1000)\n",
    "        \n",
    "    except:\n",
    "        \n",
    "        numero = 0\n",
    "        \n",
    "        \n",
    "    driver.quit()\n",
    "\n",
    "    return numero"
   ]
  },
  {
   "cell_type": "code",
   "execution_count": 107,
   "id": "bc1e49ea",
   "metadata": {},
   "outputs": [
    {
     "name": "stderr",
     "output_type": "stream",
     "text": [
      "/var/folders/95/ms6dwls51ls1jq0t456d3r200000gn/T/ipykernel_59036/3095622103.py:5: DeprecationWarning: executable_path has been deprecated, please pass in a Service object\n",
      "  driver = webdriver.Chrome(PATH)\n"
     ]
    },
    {
     "data": {
      "text/plain": [
       "32700"
      ]
     },
     "execution_count": 107,
     "metadata": {},
     "output_type": "execute_result"
    }
   ],
   "source": [
    "sacar_data_twitter(cuenta)"
   ]
  },
  {
   "cell_type": "code",
   "execution_count": 108,
   "id": "28996109",
   "metadata": {},
   "outputs": [
    {
     "name": "stderr",
     "output_type": "stream",
     "text": [
      "/var/folders/95/ms6dwls51ls1jq0t456d3r200000gn/T/ipykernel_59036/3095622103.py:5: DeprecationWarning: executable_path has been deprecated, please pass in a Service object\n",
      "  driver = webdriver.Chrome(PATH)\n"
     ]
    },
    {
     "data": {
      "text/plain": [
       "0"
      ]
     },
     "execution_count": 108,
     "metadata": {},
     "output_type": "execute_result"
    }
   ],
   "source": [
    "sacar_data_twitter('d')"
   ]
  },
  {
   "cell_type": "code",
   "execution_count": 109,
   "id": "22b457e8",
   "metadata": {},
   "outputs": [
    {
     "name": "stderr",
     "output_type": "stream",
     "text": [
      "/var/folders/95/ms6dwls51ls1jq0t456d3r200000gn/T/ipykernel_59036/3095622103.py:5: DeprecationWarning: executable_path has been deprecated, please pass in a Service object\n",
      "  driver = webdriver.Chrome(PATH)\n"
     ]
    },
    {
     "data": {
      "text/plain": [
       "59100"
      ]
     },
     "execution_count": 109,
     "metadata": {},
     "output_type": "execute_result"
    }
   ],
   "source": [
    "sacar_data_twitter('realdonaldtrump')"
   ]
  },
  {
   "cell_type": "code",
   "execution_count": 111,
   "id": "dd334adb",
   "metadata": {},
   "outputs": [
    {
     "name": "stdout",
     "output_type": "stream",
     "text": [
      "hola\n"
     ]
    },
    {
     "name": "stderr",
     "output_type": "stream",
     "text": [
      "/var/folders/95/ms6dwls51ls1jq0t456d3r200000gn/T/ipykernel_59036/3095622103.py:5: DeprecationWarning: executable_path has been deprecated, please pass in a Service object\n",
      "  driver = webdriver.Chrome(PATH)\n"
     ]
    },
    {
     "data": {
      "text/plain": [
       "285300"
      ]
     },
     "execution_count": 111,
     "metadata": {},
     "output_type": "execute_result"
    }
   ],
   "source": [
    "cuenta = input()\n",
    "\n",
    "sacar_data_twitter(cuenta)"
   ]
  },
  {
   "cell_type": "code",
   "execution_count": null,
   "id": "f74ca03a",
   "metadata": {},
   "outputs": [],
   "source": []
  }
 ],
 "metadata": {
  "kernelspec": {
   "display_name": "clase",
   "language": "python",
   "name": "clase"
  },
  "language_info": {
   "codemirror_mode": {
    "name": "ipython",
    "version": 3
   },
   "file_extension": ".py",
   "mimetype": "text/x-python",
   "name": "python",
   "nbconvert_exporter": "python",
   "pygments_lexer": "ipython3",
   "version": "3.9.12"
  }
 },
 "nbformat": 4,
 "nbformat_minor": 5
}
