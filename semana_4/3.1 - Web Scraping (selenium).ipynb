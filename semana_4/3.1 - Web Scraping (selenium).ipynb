{
 "cells": [
  {
   "cell_type": "markdown",
   "metadata": {},
   "source": [
    "# 3.1 - Web Scraping (selenium)\n",
    "\n",
    "**[Documentación](https://selenium-python.readthedocs.io/)**\n",
    "\n",
    "$$$$\n",
    "\n",
    "![selenium](images/selenium.png)\n",
    "\n",
    "$$$$\n",
    "\n",
    "Selenium es un entorno de pruebas de software para aplicaciones basadas en la web. Selenium provee una herramienta de grabar/reproducir para crear pruebas sin usar un lenguaje de scripting para pruebas (Selenium IDE). Incluye también un lenguaje específico de dominio para pruebas (Selenese) para escribir pruebas en un amplio número de lenguajes de programación populares incluyendo Java, C#, Ruby, Groovy, Perl, Php y Python. Las pruebas pueden ejecutarse entonces usando la mayoría de los navegadores web modernos en diferentes sistemas operativos como Windows, Linux y OSX.\n",
    "\n",
    "Selenium fue originalmente desarrollado por Jason Huggins en 2004 y pronto se unieron al esfuerzo otras personas especialistas en pruebas y programación. Es un software de código abierto bajo la licencia apache 2.0 que puede ser descargada y usada sin cargo. El nombre proviene de una broma hecha por Huggins burlándose de un competidor llamado Mercury (mercurio) diciendo que el envenenamiento por mercurio puede ser curado tomando complementos de Selenium. Los participantes tomaron el nombre y siguieron con él. Existen otros proyectos que se desarrollan alrededor de Selenium como Selenium Grid, para probar concurrencia de múltiples pruebas concurrentes de clientes remotos o locales, así como Flash Selenium para probar programas escritos en Adobe Flex o Selenium Silverlight.\n",
    "\n",
    "\n",
    "### Componentes\n",
    "\n",
    "**Selenium IDE**\n",
    "\n",
    "Selenium IDE es un entorno de desarrollo integrado para pruebas con Selenium. Está implementado como una extensión de Firefox y permite grabar, editar y depurar pruebas. Originalmente se le conoció como Selenium Recorder.\n",
    "\n",
    "Se pueden desarrollar automáticamente scripts al crear una grabación y de esa manera se puede editar manualmente con sentencias y comandos para que la reproducción de nuestra grabación sea correcta\n",
    "\n",
    "Los scripts se generan en Selanese, un lenguaje de scripting especial para Selenium. Selanese provee comandos que ejecutan acciones sobre objetos en el navegador, como hacer clic en un enlace, seleccionar de una lista de opciones, verificar la presencia de un texto en particular así como para tomar la totalidad de la página producto de las acciones.\n",
    "\n",
    "Características:\n",
    "\n",
    "+ Grabación y reproducción fácil\n",
    "+ Selección inteligente de campos usando ID, nombre o XPath según se necesite.\n",
    "+ Compleción automática de los comandos de Selenium más comunes.\n",
    "+ Pruebas de revisión cruzada\n",
    "+ Depuración y puntos de verificación (breakpoint)\n",
    "+ Almacenar las pruebas como Selanese, Ruby, Java y otros formatos.\n",
    "+ Soporte al archivo user-extensions.js\n",
    "+ Opción para asertar el título de la página.\n",
    "+ Opción de modificarle a la medida con el uso de complementos\n",
    "\n",
    "\n",
    "**Selenium Client API**\n",
    "\n",
    "Interfaz de programación de aplicaciones (API) de clientes Como alternativa a escribir pruebas en Selanese, las pruebas pueden escribirse en varios lenguajes de programación, éstos se comunican con Selenium mediante llamadas a los métodos de Selenium Client API. Actualmente Selenium provee API para Java, C#, Ruby y Python. Con Selenium 2 se presentó una nueva API de clientes, con WebDriver como componente central, aunque la anterior API puede seguirse usando llamando a la clase Selenium.\n",
    "\n",
    "\n",
    "**Selenium Remote Control**\n",
    "\n",
    "Selenium Remote Control (RC) es un servidor escrito en Java que acepta comandos al navegador vía HTTP. RC hace posible escribir pruebas automatizadas para aplicaciones web, en cualquier lenguaje de programación lo que permite una mejor integración de Selenium a entornos de prueba existentes. Para hacer la escritura de pruebas más fácil, Selenium actualmente provee controladores de dispositivos para PHP, Python, Ruby,.NET, Perl y Java. El controlador de Java puede usarse para Javascript vía el motor Rhino. Selenium Remote Control fue una refactorización de Driven Selenium o Selenium B, la versión original lanzaba directamente un proceso para el navegador en cuestión desde el lenguaje de prueba; el protocolo de cable (confusamente llamado Selanese también en aquel tiempo) fue reimplementado al portarse a cada lenguaje. Después de la refactorización, hubo un proceso intermediario demonio entre el script controlador y el navegador. Los beneficios incluyeron la capacidad de controlar navegadores remotos y reducir la necesidad de portar el código a un número creciente de lenguajes. Con la liberación de Selenium 2, Selenium RC fue oficialmente descartado en favor de Selenium WebDriver.\n",
    "\n",
    "\n",
    "**Selenium WebDriver**\n",
    "\n",
    "Selenium WebDriver es el sucesor de Selenium RC. Selenium WebDriver acepta comandos (enviados en Selenese o vía el API de cliente) y los envía a un navegador. Esto se implementa a través de un controlador del navegador específico para cada navegador que envía los comandos y trae los resultados de regreso. La mayoría de los controladores del navegador lanzan y acceden a la aplicación de navegador (como Mozilla Firefox o Internet Explorer), pero también hay un controlador para HtmlUnit que simula un navegador. A diferencia de Selenium 1, donde el servidor Selenium RC era indispensable, en Selenium WebDriver no se requiere de un servidor especial para ejecutar las pruebas, en vez de ello WebDriver inicia una instancia del navegador y lo controla; sin embargo puede usarse Selenium Grid (ver abajo) para ejecutar pruebas en sistemas remotos (ver más abajo). Desde inicios de 2012, Simon Stewart de Google (inventor del WebDriver) y David Burns de la Fundación Mozilla se encuentran negociando con el W3C que WebDriver se convierta en un estándar de Internet, como tal Selenium-Webdriver (Selenium 2.0) apunta a ser la implementación de referencia del estándar WebDriver en varios lenguajes de programación. Selenium-WebDriver está completamente implementado y soportado en Java, Ruby, Python y C#. En la práctica, esto significa que la API de Selenium 2.0 tiene significativamente menos llamadas que el API de Selenium 1.0. Donde Selenium 1.0 intentaba proveer una interfaz rica en muchas operaciones, Selenium 2.0 intenta proveer de los bloques de construcción básicos con los cuales los desarrolladores puedan programar su propio lenguaje específico de dominio. Uno de ellos ya existe y es el proyecto Watir en Ruby que tiene una historia rica en buen diseño. Watir-WebDriver implementa el API de Watir como un envolvente del Selenium-Webdriver en Ruby. Watir-WebDriver se crea de forma completamente automática, basado en las especificaciones del WebDriver y HTML.\n",
    "\n",
    "**Selenium Grid**\n",
    "\n",
    "Selenium Grid es un servidor que permite usar instancias de navegador ejecutándose en máquinas remotas. Con Selenium Grid, uno de los servidores actúa como concentrador. Las pruebas contactan al concentrador para obtener acceso a instancias de navegadores; el concentrador lleva una lista de instancias de los navegadores (Nodos de WebDriver) y permiten a las pruebas usar estas instancias. Selenium Grid permite ejecutar pruebas en paralelo en múltiples máquinas y manejar diferentes versiones y configuraciones de manera centralizada."
   ]
  },
  {
   "cell_type": "markdown",
   "metadata": {},
   "source": [
    "Nosotros usaremos fundamentalmente el Webdriver en Python.\n",
    "\n",
    "https://chromedriver.chromium.org/downloads"
   ]
  },
  {
   "cell_type": "markdown",
   "metadata": {},
   "source": [
    "Para instalar:\n",
    "    \n",
    "```bash\n",
    "conda install -c conda-forge selenium\n",
    "```\n",
    "\n",
    "```bash\n",
    "pip install selenium\n",
    "```"
   ]
  },
  {
   "cell_type": "code",
   "execution_count": 1,
   "metadata": {},
   "outputs": [],
   "source": [
    "from selenium import webdriver"
   ]
  },
  {
   "cell_type": "code",
   "execution_count": 2,
   "metadata": {
    "scrolled": false
   },
   "outputs": [],
   "source": [
    "#help(webdriver)"
   ]
  },
  {
   "cell_type": "markdown",
   "metadata": {},
   "source": [
    "**Si no has descargado el driver para Google, o el geckodriver para Firefox, puedes manejarlo para Chrome con esta librería.**"
   ]
  },
  {
   "cell_type": "code",
   "execution_count": 3,
   "metadata": {},
   "outputs": [
    {
     "name": "stdout",
     "output_type": "stream",
     "text": [
      "Requirement already satisfied: webdriver-manager in /opt/homebrew/Caskroom/miniconda/base/envs/clase/lib/python3.9/site-packages (3.8.5)\n",
      "Requirement already satisfied: packaging in /opt/homebrew/Caskroom/miniconda/base/envs/clase/lib/python3.9/site-packages (from webdriver-manager) (22.0)\n",
      "Requirement already satisfied: tqdm in /opt/homebrew/Caskroom/miniconda/base/envs/clase/lib/python3.9/site-packages (from webdriver-manager) (4.64.1)\n",
      "Requirement already satisfied: python-dotenv in /opt/homebrew/Caskroom/miniconda/base/envs/clase/lib/python3.9/site-packages (from webdriver-manager) (0.21.0)\n",
      "Requirement already satisfied: requests in /opt/homebrew/Caskroom/miniconda/base/envs/clase/lib/python3.9/site-packages (from webdriver-manager) (2.28.1)\n",
      "Requirement already satisfied: idna<4,>=2.5 in /opt/homebrew/Caskroom/miniconda/base/envs/clase/lib/python3.9/site-packages (from requests->webdriver-manager) (3.4)\n",
      "Requirement already satisfied: urllib3<1.27,>=1.21.1 in /opt/homebrew/Caskroom/miniconda/base/envs/clase/lib/python3.9/site-packages (from requests->webdriver-manager) (1.26.13)\n",
      "Requirement already satisfied: charset-normalizer<3,>=2 in /opt/homebrew/Caskroom/miniconda/base/envs/clase/lib/python3.9/site-packages (from requests->webdriver-manager) (2.1.1)\n",
      "Requirement already satisfied: certifi>=2017.4.17 in /opt/homebrew/Caskroom/miniconda/base/envs/clase/lib/python3.9/site-packages (from requests->webdriver-manager) (2022.12.7)\n",
      "\u001b[33mWARNING: Error parsing requirements for pyarrow: [Errno 21] Is a directory: '/opt/homebrew/Caskroom/miniconda/base/envs/clase/lib/python3.9/site-packages/pyarrow-10.0.1.dist-info/METADATA'\u001b[0m\u001b[33m\n",
      "\u001b[0mNote: you may need to restart the kernel to use updated packages.\n"
     ]
    }
   ],
   "source": [
    "%pip install webdriver-manager"
   ]
  },
  {
   "cell_type": "code",
   "execution_count": 4,
   "metadata": {},
   "outputs": [],
   "source": [
    "from webdriver_manager.chrome import ChromeDriverManager # sustituye al archivo"
   ]
  },
  {
   "cell_type": "code",
   "execution_count": 5,
   "metadata": {},
   "outputs": [
    {
     "name": "stderr",
     "output_type": "stream",
     "text": [
      "/var/folders/95/ms6dwls51ls1jq0t456d3r200000gn/T/ipykernel_4399/2618767609.py:5: DeprecationWarning: executable_path has been deprecated, please pass in a Service object\n",
      "  driver = webdriver.Chrome(PATH)   # abre una ventana de chrome\n"
     ]
    }
   ],
   "source": [
    "#PATH = ChromeDriverManager().install()  # instala driver de chrome\n",
    "\n",
    "PATH = 'driver/chromedriver'\n",
    "\n",
    "driver = webdriver.Chrome(PATH)   # abre una ventana de chrome\n",
    "\n",
    "driver.get('https://www.google.es')"
   ]
  },
  {
   "cell_type": "code",
   "execution_count": 6,
   "metadata": {},
   "outputs": [],
   "source": [
    "driver.quit()"
   ]
  },
  {
   "cell_type": "markdown",
   "metadata": {},
   "source": [
    "### Realizando una búsqueda en Google\n",
    "\n",
    "Importamos `time` para el manejo de los tiempos dentro del código. Haremos una búsqueda en Google y extraeremos los enlaces de los resultados."
   ]
  },
  {
   "cell_type": "code",
   "execution_count": 7,
   "metadata": {},
   "outputs": [],
   "source": [
    "import time\n",
    "\n",
    "import warnings\n",
    "warnings.filterwarnings('ignore')\n",
    "\n",
    "from selenium.webdriver.common.by import By # By es para buscar por tag, clase, id..."
   ]
  },
  {
   "cell_type": "code",
   "execution_count": 8,
   "metadata": {},
   "outputs": [],
   "source": [
    "URL = 'https://www.google.es/search?q='"
   ]
  },
  {
   "cell_type": "code",
   "execution_count": 9,
   "metadata": {},
   "outputs": [],
   "source": [
    "busqueda = 'machine learning'"
   ]
  },
  {
   "cell_type": "code",
   "execution_count": 10,
   "metadata": {},
   "outputs": [],
   "source": [
    "driver = webdriver.Chrome(PATH)\n",
    "\n",
    "driver.get(URL+busqueda)\n",
    "\n",
    "time.sleep(2)"
   ]
  },
  {
   "cell_type": "code",
   "execution_count": 11,
   "metadata": {},
   "outputs": [],
   "source": [
    "driver.find_element(By.XPATH, '//*[@id=\"W0wltc\"]').click()"
   ]
  },
  {
   "cell_type": "code",
   "execution_count": 12,
   "metadata": {},
   "outputs": [],
   "source": [
    "driver.quit()"
   ]
  },
  {
   "cell_type": "code",
   "execution_count": 13,
   "metadata": {},
   "outputs": [],
   "source": [
    "driver = webdriver.Chrome(PATH)   # abre ventana\n",
    "\n",
    "driver.get(URL+busqueda)          # entra en google y busca\n",
    "\n",
    "time.sleep(2)                     # espera 2 secs\n",
    "\n",
    "driver.find_element(By.XPATH, '//*[@id=\"W0wltc\"]').click()  # clicka en rechazar"
   ]
  },
  {
   "cell_type": "code",
   "execution_count": 14,
   "metadata": {},
   "outputs": [],
   "source": [
    "driver.execute_script(\"window.scrollTo(0, document.body.scrollHeight);\") # todo el scroll"
   ]
  },
  {
   "cell_type": "code",
   "execution_count": 15,
   "metadata": {},
   "outputs": [],
   "source": [
    "driver.execute_script(\"window.scrollTo(0, 400);\")   # 400px"
   ]
  },
  {
   "cell_type": "code",
   "execution_count": 16,
   "metadata": {},
   "outputs": [],
   "source": [
    "botones = driver.find_elements(By.TAG_NAME, 'button')"
   ]
  },
  {
   "cell_type": "code",
   "execution_count": 17,
   "metadata": {},
   "outputs": [
    {
     "data": {
      "text/plain": [
       "['', '', '', '', '', '', '', '']"
      ]
     },
     "execution_count": 17,
     "metadata": {},
     "output_type": "execute_result"
    }
   ],
   "source": [
    "[e.text for e in botones]"
   ]
  },
  {
   "cell_type": "code",
   "execution_count": 18,
   "metadata": {},
   "outputs": [],
   "source": [
    "#botones[2].click()"
   ]
  },
  {
   "cell_type": "code",
   "execution_count": 19,
   "metadata": {},
   "outputs": [],
   "source": [
    "driver.find_element(By.CSS_SELECTOR, '#pnnext > span:nth-child(2)').click()"
   ]
  },
  {
   "cell_type": "code",
   "execution_count": 20,
   "metadata": {},
   "outputs": [
    {
     "data": {
      "text/plain": [
       "<selenium.webdriver.remote.webelement.WebElement (session=\"904b2c63ee8ac5ab56c3ad93c134d7b5\", element=\"FF650D001C8BF2EE4D0A1D4360035227_element_38\")>"
      ]
     },
     "execution_count": 20,
     "metadata": {},
     "output_type": "execute_result"
    }
   ],
   "source": [
    "driver.find_element(By.ID, 'topstuff')"
   ]
  },
  {
   "cell_type": "code",
   "execution_count": 21,
   "metadata": {},
   "outputs": [
    {
     "data": {
      "text/plain": [
       "<selenium.webdriver.remote.webelement.WebElement (session=\"904b2c63ee8ac5ab56c3ad93c134d7b5\", element=\"FF650D001C8BF2EE4D0A1D4360035227_element_39\")>"
      ]
     },
     "execution_count": 21,
     "metadata": {},
     "output_type": "execute_result"
    }
   ],
   "source": [
    "# cambiar espacios por puntos en los nombres de las clases\n",
    "\n",
    "driver.find_element(By.CLASS_NAME, 'g.Ww4FFb.vt6azd.tF2Cxc.asEBEc')"
   ]
  },
  {
   "cell_type": "code",
   "execution_count": 22,
   "metadata": {},
   "outputs": [
    {
     "data": {
      "text/plain": [
       "<selenium.webdriver.remote.webelement.WebElement (session=\"904b2c63ee8ac5ab56c3ad93c134d7b5\", element=\"FF650D001C8BF2EE4D0A1D4360035227_element_40\")>"
      ]
     },
     "execution_count": 22,
     "metadata": {},
     "output_type": "execute_result"
    }
   ],
   "source": [
    "# con css selector, se puede hacer tag.clase\n",
    "\n",
    "\n",
    "driver.find_element(By.CSS_SELECTOR, 'div.gb_od')"
   ]
  },
  {
   "cell_type": "code",
   "execution_count": 23,
   "metadata": {},
   "outputs": [
    {
     "data": {
      "text/plain": [
       "<selenium.webdriver.remote.webelement.WebElement (session=\"904b2c63ee8ac5ab56c3ad93c134d7b5\", element=\"FF650D001C8BF2EE4D0A1D4360035227_element_40\")>"
      ]
     },
     "execution_count": 23,
     "metadata": {},
     "output_type": "execute_result"
    }
   ],
   "source": [
    "driver.find_element(By.CSS_SELECTOR, '#gsr > div.gb_od')"
   ]
  },
  {
   "cell_type": "code",
   "execution_count": 24,
   "metadata": {},
   "outputs": [],
   "source": [
    "driver.quit()"
   ]
  },
  {
   "cell_type": "markdown",
   "metadata": {},
   "source": [
    "### Ejemplo Linkedin (perfiles)"
   ]
  },
  {
   "cell_type": "code",
   "execution_count": 25,
   "metadata": {},
   "outputs": [],
   "source": [
    "import requests as req\n",
    "\n",
    "from bs4 import BeautifulSoup as bs"
   ]
  },
  {
   "cell_type": "code",
   "execution_count": 26,
   "metadata": {},
   "outputs": [],
   "source": [
    "url='https://www.linkedin.com/in/yonatan-rodriguez/'"
   ]
  },
  {
   "cell_type": "code",
   "execution_count": 27,
   "metadata": {},
   "outputs": [
    {
     "data": {
      "text/plain": [
       "<html><head>\n",
       "<script type=\"text/javascript\">\n",
       "window.onload = function() {\n",
       "  // Parse the tracking code from cookies.\n",
       "  var trk = \"bf\";\n",
       "  var trkInfo = \"bf\";\n",
       "  var cookies = document.cookie.split(\"; \");\n",
       "  for (var i = 0; i < cookies.length; ++i) {\n",
       "    if ((cookies[i].indexOf(\"trkCode=\") == 0) && (cookies[i].length > 8)) {\n",
       "      trk = cookies[i].substring(8);\n",
       "    }\n",
       "    else if ((cookies[i].indexOf(\"trkInfo=\") == 0) && (cookies[i].length > 8)) {\n",
       "      trkInfo = cookies[i].substring(8);\n",
       "    }\n",
       "  }\n",
       "\n",
       "  if (window.location.protocol == \"http:\") {\n",
       "    // If \"sl\" cookie is set, redirect to https.\n",
       "    for (var i = 0; i < cookies.length; ++i) {\n",
       "      if ((cookies[i].indexOf(\"sl=\") == 0) && (cookies[i].length > 3)) {\n",
       "        window.location.href = \"https:\" + window.location.href.substring(window.location.protocol.length);\n",
       "        return;\n",
       "      }\n",
       "    }\n",
       "  }\n",
       "\n",
       "  // Get the new domain. For international domains such as\n",
       "  // fr.linkedin.com, we convert it to www.linkedin.com\n",
       "  // treat .cn similar to .com here\n",
       "  var domain = location.host;\n",
       "  if (domain != \"www.linkedin.com\" && domain != \"www.linkedin.cn\") {\n",
       "    var subdomainIndex = location.host.indexOf(\".linkedin\");\n",
       "    if (subdomainIndex != -1) {\n",
       "      domain = \"www\" + location.host.substring(subdomainIndex);\n",
       "    }\n",
       "  }\n",
       "\n",
       "  window.location.href = \"https://\" + domain + \"/authwall?trk=\" + trk + \"&trkInfo=\" + trkInfo +\n",
       "      \"&original_referer=\" + document.referrer.substr(0, 200) +\n",
       "      \"&sessionRedirect=\" + encodeURIComponent(window.location.href);\n",
       "}\n",
       "</script>\n",
       "</head></html>"
      ]
     },
     "execution_count": 27,
     "metadata": {},
     "output_type": "execute_result"
    }
   ],
   "source": [
    "html=req.get(url).text\n",
    "\n",
    "sopa=bs(html, 'html.parser')\n",
    "\n",
    "sopa"
   ]
  },
  {
   "cell_type": "code",
   "execution_count": 28,
   "metadata": {},
   "outputs": [],
   "source": [
    "from selenium.webdriver.chrome.options import Options\n",
    "\n",
    "# opciones del driver\n",
    "opciones=Options()\n",
    "\n",
    "# quita la bandera de ser robot\n",
    "opciones.add_experimental_option('excludeSwitches', ['enable-automation'])\n",
    "opciones.add_experimental_option('useAutomationExtension', False)\n",
    "\n",
    "# guardar las cookies\n",
    "opciones.add_argument('user-data-dir=cookies')    # mantiene las coockies\n"
   ]
  },
  {
   "cell_type": "code",
   "execution_count": 29,
   "metadata": {},
   "outputs": [],
   "source": [
    "driver = webdriver.Chrome(PATH, options=opciones)\n",
    "\n",
    "driver.get(url)"
   ]
  },
  {
   "cell_type": "code",
   "execution_count": null,
   "metadata": {},
   "outputs": [],
   "source": [
    "nombre = driver.find_element(By.XPATH, '//*[@id=\"ember30\"]/div[2]/div[2]/div[1]/div[1]/h1').text\n",
    "\n",
    "\n",
    "titulo = driver.find_element(By.CSS_SELECTOR, 'div.ph5.pb5 > div.mt2.relative > div:nth-child(1) > div.text-body-medium.break-words').text\n",
    "\n",
    "\n",
    "lugar = driver.find_element(By.CLASS_NAME, 'text-body-small.inline.t-black--light.break-words').text\n",
    "\n"
   ]
  },
  {
   "cell_type": "code",
   "execution_count": null,
   "metadata": {},
   "outputs": [],
   "source": [
    "{'nombre': nombre,\n",
    "'titulo': titulo,\n",
    "'lugar': lugar}"
   ]
  },
  {
   "cell_type": "code",
   "execution_count": 31,
   "metadata": {},
   "outputs": [],
   "source": [
    "driver.quit()"
   ]
  },
  {
   "cell_type": "markdown",
   "metadata": {},
   "source": [
    "# Amazon\n",
    "\n",
    "https://www.amazon.es/"
   ]
  },
  {
   "cell_type": "code",
   "execution_count": 32,
   "metadata": {},
   "outputs": [],
   "source": [
    "from selenium.webdriver.support.ui import WebDriverWait   # para esperar a que cargue\n",
    "\n",
    "from selenium.webdriver.support import expected_conditions as EC   # condiciones esperadas"
   ]
  },
  {
   "cell_type": "code",
   "execution_count": 33,
   "metadata": {},
   "outputs": [],
   "source": [
    "url = 'https://www.amazon.es/'"
   ]
  },
  {
   "cell_type": "code",
   "execution_count": 34,
   "metadata": {},
   "outputs": [],
   "source": [
    "html=req.get(url).text\n",
    "\n",
    "sopa=bs(html, 'html.parser')\n",
    "\n",
    "#sopa"
   ]
  },
  {
   "cell_type": "code",
   "execution_count": 35,
   "metadata": {},
   "outputs": [],
   "source": [
    "driver = webdriver.Chrome(PATH, options=opciones)\n",
    "\n",
    "driver.get(url)"
   ]
  },
  {
   "cell_type": "code",
   "execution_count": 36,
   "metadata": {},
   "outputs": [],
   "source": [
    "# aceptar las cookies\n",
    "\n",
    "driver.find_element(By.XPATH, '//*[@id=\"sp-cc-accept\"]').click()"
   ]
  },
  {
   "cell_type": "code",
   "execution_count": 37,
   "metadata": {},
   "outputs": [],
   "source": [
    "# introducir texto de busqueda\n",
    "\n",
    "texto = driver.find_element(By.XPATH, '//*[@id=\"twotabsearchtextbox\"]')\n",
    "\n",
    "texto.send_keys('juguetes lego')"
   ]
  },
  {
   "cell_type": "code",
   "execution_count": 38,
   "metadata": {},
   "outputs": [],
   "source": [
    "from selenium.webdriver.common.keys import Keys\n",
    "\n",
    "texto.send_keys(Keys.ENTER)   # aprieta el boton enter del teclado"
   ]
  },
  {
   "cell_type": "code",
   "execution_count": 39,
   "metadata": {},
   "outputs": [
    {
     "data": {
      "text/plain": [
       "109"
      ]
     },
     "execution_count": 39,
     "metadata": {},
     "output_type": "execute_result"
    }
   ],
   "source": [
    "productos = driver.find_elements(By.CLASS_NAME, 'sg-col-inner')\n",
    "\n",
    "len(productos)"
   ]
  },
  {
   "cell_type": "code",
   "execution_count": 40,
   "metadata": {},
   "outputs": [
    {
     "data": {
      "text/plain": [
       "['Patrocinado',\n",
       " 'LEGO 31136 Creator 3 en 1 Loro Exótico, Pez o Rana, Figuras de Animales de Juguete para Construir, Juego Creativo',\n",
       " '803',\n",
       " '200+ comprados el mes pasado',\n",
       " '24,99€',\n",
       " 'Entrega GRATIS el dom, 6 de ago en tu primer pedido',\n",
       " 'Entrega más rápida el vie, 4 de ago',\n",
       " 'Edades: 7 años y más']"
      ]
     },
     "execution_count": 40,
     "metadata": {},
     "output_type": "execute_result"
    }
   ],
   "source": [
    "productos[3].text.split('\\n')"
   ]
  },
  {
   "cell_type": "code",
   "execution_count": 41,
   "metadata": {},
   "outputs": [
    {
     "data": {
      "text/plain": [
       "['Patrocinado',\n",
       " 'LEGO 31137 Creator 3 en 1 Perros Adorables, Beagle, Caniche, Perro Salchicha y Más, Figuras de Perritos de Juguete para Niños de 7 Años o Más',\n",
       " '353',\n",
       " '100+ comprados el mes pasado',\n",
       " '28,05€ PVPR:',\n",
       " '29,99€',\n",
       " 'Entrega GRATIS el dom, 6 de ago en tu primer pedido',\n",
       " 'Entrega más rápida el vie, 4 de ago',\n",
       " 'Edades: 7 años y más']"
      ]
     },
     "execution_count": 41,
     "metadata": {},
     "output_type": "execute_result"
    }
   ],
   "source": [
    "productos[4].text.split('\\n')"
   ]
  },
  {
   "cell_type": "code",
   "execution_count": 42,
   "metadata": {},
   "outputs": [
    {
     "data": {
      "text/plain": [
       "['Patrocinado',\n",
       " 'LEGO 31109 Creator Barco Pirata 3en1, Que se Convierte en Isla Calavera o Taberna, Juego Creativo, Set Construcción con Tiburón Juguete y 3 Minifiguras, Regalo Niños y Niñas',\n",
       " '57',\n",
       " '110,49€ PVPR:',\n",
       " '129,99€',\n",
       " 'Entrega GRATIS el jue, 10 de ago',\n",
       " 'Edades: 9 meses y más']"
      ]
     },
     "execution_count": 42,
     "metadata": {},
     "output_type": "execute_result"
    }
   ],
   "source": [
    "productos[5].text.split('\\n')"
   ]
  },
  {
   "cell_type": "code",
   "execution_count": 43,
   "metadata": {},
   "outputs": [],
   "source": [
    "driver.find_element(By.XPATH, '//*[@id=\"search\"]/div[1]/div[1]/div/span[1]/div[1]/div[71]/div/div/span/a[3]').click()"
   ]
  },
  {
   "cell_type": "code",
   "execution_count": 44,
   "metadata": {},
   "outputs": [
    {
     "data": {
      "text/plain": [
       "4"
      ]
     },
     "execution_count": 44,
     "metadata": {},
     "output_type": "execute_result"
    }
   ],
   "source": [
    "productos = driver.find_elements(By.CLASS_NAME, 'sg-col-inner')\n",
    "\n",
    "len(productos)"
   ]
  },
  {
   "cell_type": "code",
   "execution_count": 49,
   "metadata": {},
   "outputs": [
    {
     "data": {
      "text/plain": [
       "['Con derecho a envío gratis',\n",
       " 'Envío gratis por Amazon',\n",
       " 'Envío GRATIS con Amazon para destinos elegibles',\n",
       " 'Productos más sostenibles',\n",
       " 'Climate Pledge Friendly',\n",
       " 'Departamento',\n",
       " 'Sets de construcción',\n",
       " 'Muñecos y figuras',\n",
       " 'Figuras de dinosaurios y criaturas prehistóricas de juguete para niños',\n",
       " 'Conjuntos de figuras de juguete',\n",
       " 'Muñecos y figuras de acción',\n",
       " 'Figuras de juguete de construcción',\n",
       " 'Vehículos de juguete para niños',\n",
       " 'Sets de bloques de construcción',\n",
       " 'Opinión de los clientes',\n",
       " 'o más',\n",
       " 'o más',\n",
       " 'o más',\n",
       " 'o más',\n",
       " 'Personajes de los juegos',\n",
       " 'Capitán América',\n",
       " 'Harry Potter',\n",
       " 'Indiana Jones',\n",
       " 'Jam',\n",
       " 'Marvel',\n",
       " 'Minecraft',\n",
       " 'Superhéores',\n",
       " 'Marca',\n",
       " 'LEGO',\n",
       " 'Sluban',\n",
       " 'Cogo',\n",
       " 'Precio',\n",
       " '0 - 20 EUR',\n",
       " '20 - 50 EUR',\n",
       " '50 - 100 EUR',\n",
       " '100 - 200 EUR',\n",
       " '200 - 500 EUR',\n",
       " 'Más de 500 EUR',\n",
       " 'EUR',\n",
       " 'EUR',\n",
       " 'Ir',\n",
       " 'Ofertas y ahorros',\n",
       " 'Ofertas del día',\n",
       " 'Todos los ahorros',\n",
       " 'Recomendación por edades para juegos',\n",
       " 'Hasta 2 años',\n",
       " '3-4 años',\n",
       " '5-7 años',\n",
       " '8-11 años',\n",
       " '12-15 años',\n",
       " 'A partir de 16 años',\n",
       " 'Material de los juegos',\n",
       " 'Madera',\n",
       " 'Metal',\n",
       " 'Peluche',\n",
       " 'Plástico',\n",
       " 'Tela',\n",
       " 'Objetivo Educativo',\n",
       " 'Flexibilidad cognitiva',\n",
       " 'Habilidades de construcción',\n",
       " 'Pensamiento creativo',\n",
       " 'Comprensión de lectura',\n",
       " 'Concentración',\n",
       " 'Coordinación mano-ojo',\n",
       " 'Desarrollo cognitivo',\n",
       " 'Ver más',\n",
       " 'Temática',\n",
       " 'Animal',\n",
       " 'Arquitectura',\n",
       " 'Cómics',\n",
       " 'Fantasía',\n",
       " 'Floral',\n",
       " 'Película',\n",
       " 'Superhéroe',\n",
       " 'Ver más',\n",
       " 'Tipo de empresa',\n",
       " 'Pequeños negocios',\n",
       " 'Número de piezas',\n",
       " 'Hasta 47',\n",
       " 'De 48 a 95',\n",
       " 'De 96 a 143',\n",
       " '144 en adelante',\n",
       " 'Características Especiales',\n",
       " 'Fácil de almacenar',\n",
       " 'Funciona con batería',\n",
       " 'Ligera',\n",
       " 'No tóxico',\n",
       " 'Recargable',\n",
       " 'Estado',\n",
       " 'Nuevo',\n",
       " 'Usado',\n",
       " 'Novedades',\n",
       " 'Últimos 30 días',\n",
       " 'Últimos 90 días',\n",
       " 'Envio Internacional',\n",
       " 'Envío internacional elegible',\n",
       " 'Made In',\n",
       " 'Italia',\n",
       " 'Francia',\n",
       " 'Disponibilidad',\n",
       " 'Incluir no disponibles']"
      ]
     },
     "execution_count": 49,
     "metadata": {},
     "output_type": "execute_result"
    }
   ],
   "source": [
    "productos[3].text.split('\\n')"
   ]
  },
  {
   "cell_type": "code",
   "execution_count": null,
   "metadata": {},
   "outputs": [],
   "source": [
    "productos[5].text.split('\\n')"
   ]
  },
  {
   "cell_type": "code",
   "execution_count": 50,
   "metadata": {},
   "outputs": [],
   "source": [
    "driver.quit()"
   ]
  },
  {
   "cell_type": "markdown",
   "metadata": {},
   "source": [
    "### Ejemplo ESPN\n",
    "\n",
    "https://www.espn.com/soccer/competitions"
   ]
  },
  {
   "cell_type": "code",
   "execution_count": 51,
   "metadata": {},
   "outputs": [],
   "source": [
    "url = 'https://www.espn.com/soccer/competitions'"
   ]
  },
  {
   "cell_type": "code",
   "execution_count": 52,
   "metadata": {},
   "outputs": [],
   "source": [
    "driver=webdriver.Chrome(PATH)\n",
    "\n",
    "driver.get(url)"
   ]
  },
  {
   "cell_type": "code",
   "execution_count": 53,
   "metadata": {},
   "outputs": [],
   "source": [
    "try:\n",
    "    driver.find_element(By.XPATH, '//*[@id=\"onetrust-accept-btn-handler\"]').click()\n",
    "except:\n",
    "    print('Ya tienes la cookies')"
   ]
  },
  {
   "cell_type": "code",
   "execution_count": 54,
   "metadata": {},
   "outputs": [],
   "source": [
    "# teams españa\n",
    "\n",
    "teams = driver.find_element(By.XPATH, '//*[@id=\"fittPageContainer\"]/div[3]/div/div/div/div[2]/div[2]/div/div[5]/div/section/div/div/span[2]/a')\n",
    "\n",
    "teams.click()"
   ]
  },
  {
   "cell_type": "code",
   "execution_count": 55,
   "metadata": {},
   "outputs": [
    {
     "data": {
      "text/plain": [
       "[<selenium.webdriver.remote.webelement.WebElement (session=\"f1467015bdbda6393c90e53bf493af28\", element=\"199792D02BC3897672FD02826110580E_element_58\")>,\n",
       " <selenium.webdriver.remote.webelement.WebElement (session=\"f1467015bdbda6393c90e53bf493af28\", element=\"199792D02BC3897672FD02826110580E_element_62\")>,\n",
       " <selenium.webdriver.remote.webelement.WebElement (session=\"f1467015bdbda6393c90e53bf493af28\", element=\"199792D02BC3897672FD02826110580E_element_66\")>,\n",
       " <selenium.webdriver.remote.webelement.WebElement (session=\"f1467015bdbda6393c90e53bf493af28\", element=\"199792D02BC3897672FD02826110580E_element_70\")>,\n",
       " <selenium.webdriver.remote.webelement.WebElement (session=\"f1467015bdbda6393c90e53bf493af28\", element=\"199792D02BC3897672FD02826110580E_element_74\")>,\n",
       " <selenium.webdriver.remote.webelement.WebElement (session=\"f1467015bdbda6393c90e53bf493af28\", element=\"199792D02BC3897672FD02826110580E_element_78\")>,\n",
       " <selenium.webdriver.remote.webelement.WebElement (session=\"f1467015bdbda6393c90e53bf493af28\", element=\"199792D02BC3897672FD02826110580E_element_82\")>,\n",
       " <selenium.webdriver.remote.webelement.WebElement (session=\"f1467015bdbda6393c90e53bf493af28\", element=\"199792D02BC3897672FD02826110580E_element_86\")>,\n",
       " <selenium.webdriver.remote.webelement.WebElement (session=\"f1467015bdbda6393c90e53bf493af28\", element=\"199792D02BC3897672FD02826110580E_element_90\")>,\n",
       " <selenium.webdriver.remote.webelement.WebElement (session=\"f1467015bdbda6393c90e53bf493af28\", element=\"199792D02BC3897672FD02826110580E_element_94\")>,\n",
       " <selenium.webdriver.remote.webelement.WebElement (session=\"f1467015bdbda6393c90e53bf493af28\", element=\"199792D02BC3897672FD02826110580E_element_98\")>,\n",
       " <selenium.webdriver.remote.webelement.WebElement (session=\"f1467015bdbda6393c90e53bf493af28\", element=\"199792D02BC3897672FD02826110580E_element_102\")>,\n",
       " <selenium.webdriver.remote.webelement.WebElement (session=\"f1467015bdbda6393c90e53bf493af28\", element=\"199792D02BC3897672FD02826110580E_element_106\")>,\n",
       " <selenium.webdriver.remote.webelement.WebElement (session=\"f1467015bdbda6393c90e53bf493af28\", element=\"199792D02BC3897672FD02826110580E_element_110\")>,\n",
       " <selenium.webdriver.remote.webelement.WebElement (session=\"f1467015bdbda6393c90e53bf493af28\", element=\"199792D02BC3897672FD02826110580E_element_114\")>,\n",
       " <selenium.webdriver.remote.webelement.WebElement (session=\"f1467015bdbda6393c90e53bf493af28\", element=\"199792D02BC3897672FD02826110580E_element_118\")>,\n",
       " <selenium.webdriver.remote.webelement.WebElement (session=\"f1467015bdbda6393c90e53bf493af28\", element=\"199792D02BC3897672FD02826110580E_element_122\")>,\n",
       " <selenium.webdriver.remote.webelement.WebElement (session=\"f1467015bdbda6393c90e53bf493af28\", element=\"199792D02BC3897672FD02826110580E_element_126\")>,\n",
       " <selenium.webdriver.remote.webelement.WebElement (session=\"f1467015bdbda6393c90e53bf493af28\", element=\"199792D02BC3897672FD02826110580E_element_130\")>,\n",
       " <selenium.webdriver.remote.webelement.WebElement (session=\"f1467015bdbda6393c90e53bf493af28\", element=\"199792D02BC3897672FD02826110580E_element_134\")>]"
      ]
     },
     "execution_count": 55,
     "metadata": {},
     "output_type": "execute_result"
    }
   ],
   "source": [
    "[e for e in driver.find_elements(By.CLASS_NAME, 'AnchorLink') if e.text == 'Stats']"
   ]
  },
  {
   "cell_type": "code",
   "execution_count": 56,
   "metadata": {},
   "outputs": [],
   "source": [
    "# stats ATM\n",
    "\n",
    "stats = driver.find_element(By.XPATH, '//*[@id=\"fittPageContainer\"]/div[3]/div/div/div[1]/div[2]/div[1]/div/div[4]/div/section/div/div/span[2]/a')\n",
    "\n",
    "stats.click()"
   ]
  },
  {
   "cell_type": "code",
   "execution_count": 57,
   "metadata": {},
   "outputs": [],
   "source": [
    "# disciplina\n",
    "\n",
    "disciplina = driver.find_element(By.XPATH, '//*[@id=\"fittPageContainer\"]/div[2]/div[5]/div/div/section/div/div[2]/nav/ul/li[2]/a')\n",
    "\n",
    "disciplina.click()"
   ]
  },
  {
   "cell_type": "code",
   "execution_count": 58,
   "metadata": {},
   "outputs": [],
   "source": [
    "# dropdown\n",
    "\n",
    "from selenium.webdriver.support.ui import Select\n",
    "\n",
    "dropdown = driver.find_element(By.XPATH, '//*[@id=\"fittPageContainer\"]/div[2]/div[5]/div/div/section/div/div[4]/select[1]')\n",
    "\n",
    "#dropdown.click()"
   ]
  },
  {
   "cell_type": "code",
   "execution_count": 59,
   "metadata": {},
   "outputs": [],
   "source": [
    "# seleccionar dropdown por texto\n",
    "\n",
    "select = Select(dropdown)\n",
    "\n",
    "select.select_by_visible_text('2022-23')"
   ]
  },
  {
   "cell_type": "markdown",
   "metadata": {},
   "source": [
    "### selenium"
   ]
  },
  {
   "cell_type": "code",
   "execution_count": 60,
   "metadata": {},
   "outputs": [],
   "source": [
    "tabla=driver.find_element(By.TAG_NAME,'tbody')\n",
    "\n",
    "filas=tabla.find_elements(By.TAG_NAME, 'tr')\n",
    "\n",
    "data=[]\n",
    "\n",
    "for f in filas:\n",
    "\n",
    "    elementos=f.find_elements(By.TAG_NAME, 'td') \n",
    "\n",
    "    tmp=[]\n",
    "\n",
    "    for e in elementos:\n",
    "\n",
    "        tmp.append(e.text)\n",
    "\n",
    "    tmp.append(url.split('/')[-1])  # añade el nombre del equipo\n",
    "    data.append(tmp)\n",
    "\n",
    "\n",
    "cabeceras=driver.find_element(By.TAG_NAME, 'thead')\n",
    "\n",
    "cabeceras=[c.text for c in cabeceras.find_elements(By.TAG_NAME, 'th')]+['TEAM']"
   ]
  },
  {
   "cell_type": "code",
   "execution_count": 61,
   "metadata": {},
   "outputs": [
    {
     "data": {
      "text/plain": [
       "(25, 7)"
      ]
     },
     "execution_count": 61,
     "metadata": {},
     "output_type": "execute_result"
    }
   ],
   "source": [
    "import pandas as pd\n",
    "\n",
    "df=pd.DataFrame(data, columns=cabeceras)\n",
    "\n",
    "df.shape"
   ]
  },
  {
   "cell_type": "code",
   "execution_count": 62,
   "metadata": {},
   "outputs": [
    {
     "data": {
      "text/html": [
       "<div>\n",
       "<style scoped>\n",
       "    .dataframe tbody tr th:only-of-type {\n",
       "        vertical-align: middle;\n",
       "    }\n",
       "\n",
       "    .dataframe tbody tr th {\n",
       "        vertical-align: top;\n",
       "    }\n",
       "\n",
       "    .dataframe thead th {\n",
       "        text-align: right;\n",
       "    }\n",
       "</style>\n",
       "<table border=\"1\" class=\"dataframe\">\n",
       "  <thead>\n",
       "    <tr style=\"text-align: right;\">\n",
       "      <th></th>\n",
       "      <th>RK</th>\n",
       "      <th>NAME</th>\n",
       "      <th>P</th>\n",
       "      <th>YC</th>\n",
       "      <th>RC</th>\n",
       "      <th>PTS</th>\n",
       "      <th>TEAM</th>\n",
       "    </tr>\n",
       "  </thead>\n",
       "  <tbody>\n",
       "    <tr>\n",
       "      <th>0</th>\n",
       "      <td>1</td>\n",
       "      <td>Mario Hermoso</td>\n",
       "      <td>26</td>\n",
       "      <td>5</td>\n",
       "      <td>2</td>\n",
       "      <td>11</td>\n",
       "      <td>competitions</td>\n",
       "    </tr>\n",
       "    <tr>\n",
       "      <th>1</th>\n",
       "      <td></td>\n",
       "      <td>Stefan Savic</td>\n",
       "      <td>22</td>\n",
       "      <td>5</td>\n",
       "      <td>2</td>\n",
       "      <td>11</td>\n",
       "      <td>competitions</td>\n",
       "    </tr>\n",
       "    <tr>\n",
       "      <th>2</th>\n",
       "      <td>3</td>\n",
       "      <td>Nahuel Molina</td>\n",
       "      <td>33</td>\n",
       "      <td>7</td>\n",
       "      <td>1</td>\n",
       "      <td>10</td>\n",
       "      <td>competitions</td>\n",
       "    </tr>\n",
       "    <tr>\n",
       "      <th>3</th>\n",
       "      <td>4</td>\n",
       "      <td>José María Giménez</td>\n",
       "      <td>28</td>\n",
       "      <td>9</td>\n",
       "      <td>0</td>\n",
       "      <td>9</td>\n",
       "      <td>competitions</td>\n",
       "    </tr>\n",
       "    <tr>\n",
       "      <th>4</th>\n",
       "      <td>5</td>\n",
       "      <td>Saúl Ñíguez</td>\n",
       "      <td>31</td>\n",
       "      <td>8</td>\n",
       "      <td>0</td>\n",
       "      <td>8</td>\n",
       "      <td>competitions</td>\n",
       "    </tr>\n",
       "  </tbody>\n",
       "</table>\n",
       "</div>"
      ],
      "text/plain": [
       "  RK                NAME   P YC RC PTS          TEAM\n",
       "0  1       Mario Hermoso  26  5  2  11  competitions\n",
       "1           Stefan Savic  22  5  2  11  competitions\n",
       "2  3       Nahuel Molina  33  7  1  10  competitions\n",
       "3  4  José María Giménez  28  9  0   9  competitions\n",
       "4  5         Saúl Ñíguez  31  8  0   8  competitions"
      ]
     },
     "execution_count": 62,
     "metadata": {},
     "output_type": "execute_result"
    }
   ],
   "source": [
    "df.head()"
   ]
  },
  {
   "cell_type": "markdown",
   "metadata": {},
   "source": [
    "### bs4"
   ]
  },
  {
   "cell_type": "code",
   "execution_count": 63,
   "metadata": {},
   "outputs": [
    {
     "data": {
      "text/plain": [
       "'https://www.espn.com/soccer/team/stats/_/id/1068/league/ESP.1/season/2022/view/discipline'"
      ]
     },
     "execution_count": 63,
     "metadata": {},
     "output_type": "execute_result"
    }
   ],
   "source": [
    "driver.current_url"
   ]
  },
  {
   "cell_type": "code",
   "execution_count": 64,
   "metadata": {},
   "outputs": [],
   "source": [
    "# se puede parsear con bs4\n",
    "\n",
    "html=req.get(driver.current_url).text\n",
    "\n",
    "sopa=bs(html, 'html.parser')\n",
    "\n",
    "tabla = sopa.find('table')"
   ]
  },
  {
   "cell_type": "code",
   "execution_count": 65,
   "metadata": {},
   "outputs": [
    {
     "data": {
      "text/plain": [
       "['1 Mario Hermoso 26 5 2 11',\n",
       " 'Stefan Savic 22 5 2 11',\n",
       " '3 Nahuel Molina 33 7 1 10',\n",
       " '4 José María Giménez 28 9 0 9',\n",
       " '5 Saúl Ñíguez 31 8 0 8',\n",
       " '6 Marcos Llorente 22 5 0 5',\n",
       " 'Rodrigo De Paul 30 5 0 5',\n",
       " 'Axel Witsel 33 2 1 5',\n",
       " 'Geoffrey Kondogbia 20 5 0 5',\n",
       " 'Sergio Reguilón 11 2 1 5',\n",
       " '11 Pablo Barrios 21 4 0 4',\n",
       " 'Koke 33 4 0 4',\n",
       " 'Reinildo Mandava 22 4 0 4',\n",
       " '14 Ivo Grbic 12 3 0 3',\n",
       " '15 Yannick Carrasco 35 2 0 2',\n",
       " '16 Thomas Lemar 27 1 0 1',\n",
       " 'Jan Oblak 28 1 0 1',\n",
       " '18 Ilias Kostis 0 0 0 0',\n",
       " 'Sergio Diez 0 0 0 0',\n",
       " 'Adrian Corral 0 0 0 0',\n",
       " 'Marco Moreno 0 0 0 0',\n",
       " 'Matt Doherty 2 0 0 0',\n",
       " 'Sergio Mestre 0 0 0 0',\n",
       " 'Antonio Gomis 1 0 0 0',\n",
       " 'Alejandro Iturbe 0 0 0 0']"
      ]
     },
     "execution_count": 65,
     "metadata": {},
     "output_type": "execute_result"
    }
   ],
   "source": [
    "driver.find_element(By.TAG_NAME, 'tbody').text.split('\\n')"
   ]
  },
  {
   "cell_type": "code",
   "execution_count": 66,
   "metadata": {},
   "outputs": [
    {
     "data": {
      "text/plain": [
       "[['1', 'Mario Hermoso', '26', '5', '2', '11'],\n",
       " ['', 'Stefan Savic', '22', '5', '2', '11'],\n",
       " ['3', 'Nahuel Molina', '33', '7', '1', '10'],\n",
       " ['4', 'José María Giménez', '28', '9', '0', '9'],\n",
       " ['5', 'Saúl Ñíguez', '31', '8', '0', '8'],\n",
       " ['6', 'Marcos Llorente', '22', '5', '0', '5'],\n",
       " ['', 'Rodrigo De Paul', '30', '5', '0', '5'],\n",
       " ['', 'Axel Witsel', '33', '2', '1', '5'],\n",
       " ['', 'Geoffrey Kondogbia', '20', '5', '0', '5'],\n",
       " ['', 'Sergio Reguilón', '11', '2', '1', '5'],\n",
       " ['11', 'Pablo Barrios', '21', '4', '0', '4'],\n",
       " ['', 'Koke', '33', '4', '0', '4'],\n",
       " ['', 'Reinildo Mandava', '22', '4', '0', '4'],\n",
       " ['14', 'Ivo Grbic', '12', '3', '0', '3'],\n",
       " ['15', 'Yannick Carrasco', '35', '2', '0', '2'],\n",
       " ['16', 'Thomas Lemar', '27', '1', '0', '1'],\n",
       " ['', 'Jan Oblak', '28', '1', '0', '1'],\n",
       " ['18', 'Ilias Kostis', '0', '0', '0', '0'],\n",
       " ['', 'Sergio Diez', '0', '0', '0', '0'],\n",
       " ['', 'Adrian Corral', '0', '0', '0', '0'],\n",
       " ['', 'Marco Moreno', '0', '0', '0', '0'],\n",
       " ['', 'Matt Doherty', '2', '0', '0', '0'],\n",
       " ['', 'Sergio Mestre', '0', '0', '0', '0'],\n",
       " ['', 'Antonio Gomis', '1', '0', '0', '0'],\n",
       " ['', 'Alejandro Iturbe', '0', '0', '0', '0']]"
      ]
     },
     "execution_count": 66,
     "metadata": {},
     "output_type": "execute_result"
    }
   ],
   "source": [
    "tabla = driver.find_element(By.TAG_NAME, 'tbody')\n",
    "\n",
    "filas = tabla.find_elements(By.TAG_NAME, 'tr')\n",
    "\n",
    "\n",
    "\n",
    "data = []\n",
    "\n",
    "\n",
    "for f in filas:\n",
    "    \n",
    "    elems = f.find_elements(By.TAG_NAME, 'td')\n",
    "    \n",
    "    tmp = []\n",
    "    \n",
    "    for e in elems:\n",
    "        \n",
    "        tmp.append(e.text)\n",
    "        \n",
    "    data.append(tmp)\n",
    "    \n",
    "data"
   ]
  },
  {
   "cell_type": "code",
   "execution_count": 67,
   "metadata": {},
   "outputs": [
    {
     "data": {
      "text/plain": [
       "[['1', 'Mario Hermoso', '26', '5', '2', '11'],\n",
       " ['', 'Stefan Savic', '22', '5', '2', '11'],\n",
       " ['3', 'Nahuel Molina', '33', '7', '1', '10'],\n",
       " ['4', 'José María Giménez', '28', '9', '0', '9'],\n",
       " ['5', 'Saúl Ñíguez', '31', '8', '0', '8'],\n",
       " ['6', 'Marcos Llorente', '22', '5', '0', '5'],\n",
       " ['', 'Rodrigo De Paul', '30', '5', '0', '5'],\n",
       " ['', 'Axel Witsel', '33', '2', '1', '5'],\n",
       " ['', 'Geoffrey Kondogbia', '20', '5', '0', '5'],\n",
       " ['', 'Sergio Reguilón', '11', '2', '1', '5'],\n",
       " ['11', 'Pablo Barrios', '21', '4', '0', '4'],\n",
       " ['', 'Koke', '33', '4', '0', '4'],\n",
       " ['', 'Reinildo Mandava', '22', '4', '0', '4'],\n",
       " ['14', 'Ivo Grbic', '12', '3', '0', '3'],\n",
       " ['15', 'Yannick Carrasco', '35', '2', '0', '2'],\n",
       " ['16', 'Thomas Lemar', '27', '1', '0', '1'],\n",
       " ['', 'Jan Oblak', '28', '1', '0', '1'],\n",
       " ['18', 'Ilias Kostis', '0', '0', '0', '0'],\n",
       " ['', 'Sergio Diez', '0', '0', '0', '0'],\n",
       " ['', 'Adrian Corral', '0', '0', '0', '0'],\n",
       " ['', 'Marco Moreno', '0', '0', '0', '0'],\n",
       " ['', 'Matt Doherty', '2', '0', '0', '0'],\n",
       " ['', 'Sergio Mestre', '0', '0', '0', '0'],\n",
       " ['', 'Antonio Gomis', '1', '0', '0', '0'],\n",
       " ['', 'Alejandro Iturbe', '0', '0', '0', '0']]"
      ]
     },
     "execution_count": 67,
     "metadata": {},
     "output_type": "execute_result"
    }
   ],
   "source": [
    "data = [[e.text for e in f.find_elements(By.TAG_NAME, 'td')] \n",
    "        for f in driver.find_element(By.TAG_NAME, 'tbody').find_elements(By.TAG_NAME, 'tr')]\n",
    "\n",
    "data"
   ]
  },
  {
   "cell_type": "code",
   "execution_count": 68,
   "metadata": {},
   "outputs": [
    {
     "data": {
      "text/plain": [
       "['RK', 'NAME', 'P', 'YC', 'RC', 'PTS']"
      ]
     },
     "execution_count": 68,
     "metadata": {},
     "output_type": "execute_result"
    }
   ],
   "source": [
    "cabeceras = driver.find_element(By.TAG_NAME, 'thead').text.split()\n",
    "\n",
    "cabeceras"
   ]
  },
  {
   "cell_type": "code",
   "execution_count": 69,
   "metadata": {},
   "outputs": [],
   "source": [
    "driver.quit()"
   ]
  },
  {
   "cell_type": "code",
   "execution_count": 70,
   "metadata": {},
   "outputs": [],
   "source": [
    "import pandas as pd"
   ]
  },
  {
   "cell_type": "code",
   "execution_count": 71,
   "metadata": {},
   "outputs": [
    {
     "data": {
      "text/html": [
       "<div>\n",
       "<style scoped>\n",
       "    .dataframe tbody tr th:only-of-type {\n",
       "        vertical-align: middle;\n",
       "    }\n",
       "\n",
       "    .dataframe tbody tr th {\n",
       "        vertical-align: top;\n",
       "    }\n",
       "\n",
       "    .dataframe thead th {\n",
       "        text-align: right;\n",
       "    }\n",
       "</style>\n",
       "<table border=\"1\" class=\"dataframe\">\n",
       "  <thead>\n",
       "    <tr style=\"text-align: right;\">\n",
       "      <th></th>\n",
       "      <th>RK</th>\n",
       "      <th>NAME</th>\n",
       "      <th>P</th>\n",
       "      <th>YC</th>\n",
       "      <th>RC</th>\n",
       "      <th>PTS</th>\n",
       "    </tr>\n",
       "  </thead>\n",
       "  <tbody>\n",
       "    <tr>\n",
       "      <th>0</th>\n",
       "      <td>1</td>\n",
       "      <td>Mario Hermoso</td>\n",
       "      <td>26</td>\n",
       "      <td>5</td>\n",
       "      <td>2</td>\n",
       "      <td>11</td>\n",
       "    </tr>\n",
       "    <tr>\n",
       "      <th>1</th>\n",
       "      <td></td>\n",
       "      <td>Stefan Savic</td>\n",
       "      <td>22</td>\n",
       "      <td>5</td>\n",
       "      <td>2</td>\n",
       "      <td>11</td>\n",
       "    </tr>\n",
       "    <tr>\n",
       "      <th>2</th>\n",
       "      <td>3</td>\n",
       "      <td>Nahuel Molina</td>\n",
       "      <td>33</td>\n",
       "      <td>7</td>\n",
       "      <td>1</td>\n",
       "      <td>10</td>\n",
       "    </tr>\n",
       "    <tr>\n",
       "      <th>3</th>\n",
       "      <td>4</td>\n",
       "      <td>José María Giménez</td>\n",
       "      <td>28</td>\n",
       "      <td>9</td>\n",
       "      <td>0</td>\n",
       "      <td>9</td>\n",
       "    </tr>\n",
       "    <tr>\n",
       "      <th>4</th>\n",
       "      <td>5</td>\n",
       "      <td>Saúl Ñíguez</td>\n",
       "      <td>31</td>\n",
       "      <td>8</td>\n",
       "      <td>0</td>\n",
       "      <td>8</td>\n",
       "    </tr>\n",
       "    <tr>\n",
       "      <th>5</th>\n",
       "      <td>6</td>\n",
       "      <td>Marcos Llorente</td>\n",
       "      <td>22</td>\n",
       "      <td>5</td>\n",
       "      <td>0</td>\n",
       "      <td>5</td>\n",
       "    </tr>\n",
       "    <tr>\n",
       "      <th>6</th>\n",
       "      <td></td>\n",
       "      <td>Rodrigo De Paul</td>\n",
       "      <td>30</td>\n",
       "      <td>5</td>\n",
       "      <td>0</td>\n",
       "      <td>5</td>\n",
       "    </tr>\n",
       "    <tr>\n",
       "      <th>7</th>\n",
       "      <td></td>\n",
       "      <td>Axel Witsel</td>\n",
       "      <td>33</td>\n",
       "      <td>2</td>\n",
       "      <td>1</td>\n",
       "      <td>5</td>\n",
       "    </tr>\n",
       "    <tr>\n",
       "      <th>8</th>\n",
       "      <td></td>\n",
       "      <td>Geoffrey Kondogbia</td>\n",
       "      <td>20</td>\n",
       "      <td>5</td>\n",
       "      <td>0</td>\n",
       "      <td>5</td>\n",
       "    </tr>\n",
       "    <tr>\n",
       "      <th>9</th>\n",
       "      <td></td>\n",
       "      <td>Sergio Reguilón</td>\n",
       "      <td>11</td>\n",
       "      <td>2</td>\n",
       "      <td>1</td>\n",
       "      <td>5</td>\n",
       "    </tr>\n",
       "    <tr>\n",
       "      <th>10</th>\n",
       "      <td>11</td>\n",
       "      <td>Pablo Barrios</td>\n",
       "      <td>21</td>\n",
       "      <td>4</td>\n",
       "      <td>0</td>\n",
       "      <td>4</td>\n",
       "    </tr>\n",
       "    <tr>\n",
       "      <th>11</th>\n",
       "      <td></td>\n",
       "      <td>Koke</td>\n",
       "      <td>33</td>\n",
       "      <td>4</td>\n",
       "      <td>0</td>\n",
       "      <td>4</td>\n",
       "    </tr>\n",
       "    <tr>\n",
       "      <th>12</th>\n",
       "      <td></td>\n",
       "      <td>Reinildo Mandava</td>\n",
       "      <td>22</td>\n",
       "      <td>4</td>\n",
       "      <td>0</td>\n",
       "      <td>4</td>\n",
       "    </tr>\n",
       "    <tr>\n",
       "      <th>13</th>\n",
       "      <td>14</td>\n",
       "      <td>Ivo Grbic</td>\n",
       "      <td>12</td>\n",
       "      <td>3</td>\n",
       "      <td>0</td>\n",
       "      <td>3</td>\n",
       "    </tr>\n",
       "    <tr>\n",
       "      <th>14</th>\n",
       "      <td>15</td>\n",
       "      <td>Yannick Carrasco</td>\n",
       "      <td>35</td>\n",
       "      <td>2</td>\n",
       "      <td>0</td>\n",
       "      <td>2</td>\n",
       "    </tr>\n",
       "    <tr>\n",
       "      <th>15</th>\n",
       "      <td>16</td>\n",
       "      <td>Thomas Lemar</td>\n",
       "      <td>27</td>\n",
       "      <td>1</td>\n",
       "      <td>0</td>\n",
       "      <td>1</td>\n",
       "    </tr>\n",
       "    <tr>\n",
       "      <th>16</th>\n",
       "      <td></td>\n",
       "      <td>Jan Oblak</td>\n",
       "      <td>28</td>\n",
       "      <td>1</td>\n",
       "      <td>0</td>\n",
       "      <td>1</td>\n",
       "    </tr>\n",
       "    <tr>\n",
       "      <th>17</th>\n",
       "      <td>18</td>\n",
       "      <td>Ilias Kostis</td>\n",
       "      <td>0</td>\n",
       "      <td>0</td>\n",
       "      <td>0</td>\n",
       "      <td>0</td>\n",
       "    </tr>\n",
       "    <tr>\n",
       "      <th>18</th>\n",
       "      <td></td>\n",
       "      <td>Sergio Diez</td>\n",
       "      <td>0</td>\n",
       "      <td>0</td>\n",
       "      <td>0</td>\n",
       "      <td>0</td>\n",
       "    </tr>\n",
       "    <tr>\n",
       "      <th>19</th>\n",
       "      <td></td>\n",
       "      <td>Adrian Corral</td>\n",
       "      <td>0</td>\n",
       "      <td>0</td>\n",
       "      <td>0</td>\n",
       "      <td>0</td>\n",
       "    </tr>\n",
       "    <tr>\n",
       "      <th>20</th>\n",
       "      <td></td>\n",
       "      <td>Marco Moreno</td>\n",
       "      <td>0</td>\n",
       "      <td>0</td>\n",
       "      <td>0</td>\n",
       "      <td>0</td>\n",
       "    </tr>\n",
       "    <tr>\n",
       "      <th>21</th>\n",
       "      <td></td>\n",
       "      <td>Matt Doherty</td>\n",
       "      <td>2</td>\n",
       "      <td>0</td>\n",
       "      <td>0</td>\n",
       "      <td>0</td>\n",
       "    </tr>\n",
       "    <tr>\n",
       "      <th>22</th>\n",
       "      <td></td>\n",
       "      <td>Sergio Mestre</td>\n",
       "      <td>0</td>\n",
       "      <td>0</td>\n",
       "      <td>0</td>\n",
       "      <td>0</td>\n",
       "    </tr>\n",
       "    <tr>\n",
       "      <th>23</th>\n",
       "      <td></td>\n",
       "      <td>Antonio Gomis</td>\n",
       "      <td>1</td>\n",
       "      <td>0</td>\n",
       "      <td>0</td>\n",
       "      <td>0</td>\n",
       "    </tr>\n",
       "    <tr>\n",
       "      <th>24</th>\n",
       "      <td></td>\n",
       "      <td>Alejandro Iturbe</td>\n",
       "      <td>0</td>\n",
       "      <td>0</td>\n",
       "      <td>0</td>\n",
       "      <td>0</td>\n",
       "    </tr>\n",
       "  </tbody>\n",
       "</table>\n",
       "</div>"
      ],
      "text/plain": [
       "    RK                NAME   P YC RC PTS\n",
       "0    1       Mario Hermoso  26  5  2  11\n",
       "1             Stefan Savic  22  5  2  11\n",
       "2    3       Nahuel Molina  33  7  1  10\n",
       "3    4  José María Giménez  28  9  0   9\n",
       "4    5         Saúl Ñíguez  31  8  0   8\n",
       "5    6     Marcos Llorente  22  5  0   5\n",
       "6          Rodrigo De Paul  30  5  0   5\n",
       "7              Axel Witsel  33  2  1   5\n",
       "8       Geoffrey Kondogbia  20  5  0   5\n",
       "9          Sergio Reguilón  11  2  1   5\n",
       "10  11       Pablo Barrios  21  4  0   4\n",
       "11                    Koke  33  4  0   4\n",
       "12        Reinildo Mandava  22  4  0   4\n",
       "13  14           Ivo Grbic  12  3  0   3\n",
       "14  15    Yannick Carrasco  35  2  0   2\n",
       "15  16        Thomas Lemar  27  1  0   1\n",
       "16               Jan Oblak  28  1  0   1\n",
       "17  18        Ilias Kostis   0  0  0   0\n",
       "18             Sergio Diez   0  0  0   0\n",
       "19           Adrian Corral   0  0  0   0\n",
       "20            Marco Moreno   0  0  0   0\n",
       "21            Matt Doherty   2  0  0   0\n",
       "22           Sergio Mestre   0  0  0   0\n",
       "23           Antonio Gomis   1  0  0   0\n",
       "24        Alejandro Iturbe   0  0  0   0"
      ]
     },
     "execution_count": 71,
     "metadata": {},
     "output_type": "execute_result"
    }
   ],
   "source": [
    "df = pd.DataFrame(data, columns=cabeceras)\n",
    "\n",
    "df"
   ]
  },
  {
   "cell_type": "code",
   "execution_count": null,
   "metadata": {},
   "outputs": [],
   "source": []
  }
 ],
 "metadata": {
  "kernelspec": {
   "display_name": "clase",
   "language": "python",
   "name": "clase"
  },
  "language_info": {
   "codemirror_mode": {
    "name": "ipython",
    "version": 3
   },
   "file_extension": ".py",
   "mimetype": "text/x-python",
   "name": "python",
   "nbconvert_exporter": "python",
   "pygments_lexer": "ipython3",
   "version": "3.9.12"
  },
  "varInspector": {
   "cols": {
    "lenName": 16,
    "lenType": 16,
    "lenVar": 40
   },
   "kernels_config": {
    "python": {
     "delete_cmd_postfix": "",
     "delete_cmd_prefix": "del ",
     "library": "var_list.py",
     "varRefreshCmd": "print(var_dic_list())"
    },
    "r": {
     "delete_cmd_postfix": ") ",
     "delete_cmd_prefix": "rm(",
     "library": "var_list.r",
     "varRefreshCmd": "cat(var_dic_list()) "
    }
   },
   "types_to_exclude": [
    "module",
    "function",
    "builtin_function_or_method",
    "instance",
    "_Feature"
   ],
   "window_display": false
  }
 },
 "nbformat": 4,
 "nbformat_minor": 4
}
