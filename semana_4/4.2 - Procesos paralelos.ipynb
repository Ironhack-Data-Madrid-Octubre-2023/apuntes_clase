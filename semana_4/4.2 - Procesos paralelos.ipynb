{
 "cells": [
  {
   "cell_type": "markdown",
   "metadata": {},
   "source": [
    "# 4.2 - Procesos paralelos\n",
    "\n",
    "\n",
    "![parallel](images/parallel.png)\n",
    "\n",
    "$$$$\n",
    "\n",
    "### Multiprocessing\n",
    "\n",
    "Veamos en primer lugar [multiprocessing](https://docs.python.org/es/3.9/library/multiprocessing.html). Es una librería de Python que nos permite manejar hilos y procesos. La diferencia entre hilo y proceso es que un hilo ocurre dentro del espacio de memoria de un programa y un proceso es una copia completa del programa, por esta razón, los hilos son rápidos de crear y destruir además de que consumen poca memoria y los procesos son lentos de crear y destruir además de que requieren clonar el espacio de memoria del programa en otro lugar de la RAM, y esto es lento. Ejemplos de esto serían, subrutinas que recogen mensajes de un puerto de comunicaciones y los usan para actuar sobre emails almacenados en un servidor, desde el punto de vista del servidor, el cliente de correo sólo necesita usar el servidor durante un corto plazo de tiempo, porque envía un mensaje al servidor donde le indica lo que el usuario desea hacer, saber si hay mensajes nuevos, borrar un correo, moverlo... El servidor abre un hilo para atender a ese usuario y el hilo sólo vive mientras dure la conexión del usuario, una vez el usuario ha terminado el cliente de correo desconecta hasta nueva acción. Este proceso que he descrito es rápido, ocurre en milisegundos y generalmente se resuelve con hilos porque es más ligero para el sistema operativo y su vida media es especialmente corta, además de que el sistema podrá aceptar ciento o miles de conexiones por segundo y será ligero, rápido y eficiente en esta tarea.\n",
    "\n",
    "La tendencia actual entre los desarrolladores es hacer una aplicaciones que sean rápidas en un sólo hilo y luego escalar a tantas instancias como sea necesario para cubrir nuestros objetivos de aprovechamiento, estos servidores pueden atender en un sólo proceso a miles o decena de miles de conexiones.\n",
    "\n",
    "Si queremos realizar un programa que aproveche las diferentes CPUs y pueda realizar múltiples tareas a la vez tenemos muchos mecanismos para llevar esta tarea a cabo. Dependiendo del uso que se quiera dar probablemente queramos usar hilos o procesos, es aquí donde querremos escribir nuestro código con hilos o procesos."
   ]
  },
  {
   "cell_type": "markdown",
   "metadata": {},
   "source": [
    "**Hola Mundo**"
   ]
  },
  {
   "cell_type": "code",
   "execution_count": 1,
   "metadata": {},
   "outputs": [],
   "source": [
    "import warnings\n",
    "warnings.filterwarnings('ignore')"
   ]
  },
  {
   "cell_type": "code",
   "execution_count": 2,
   "metadata": {},
   "outputs": [],
   "source": [
    "def cuadrado(x):\n",
    "    return x**2"
   ]
  },
  {
   "cell_type": "code",
   "execution_count": 3,
   "metadata": {},
   "outputs": [],
   "source": [
    "data = [i for i in range(10_000_000)]"
   ]
  },
  {
   "cell_type": "code",
   "execution_count": 4,
   "metadata": {},
   "outputs": [
    {
     "name": "stdout",
     "output_type": "stream",
     "text": [
      "CPU times: user 2.53 s, sys: 262 ms, total: 2.79 s\n",
      "Wall time: 3.02 s\n"
     ]
    },
    {
     "data": {
      "text/plain": [
       "[0, 1, 4, 9, 16]"
      ]
     },
     "execution_count": 4,
     "metadata": {},
     "output_type": "execute_result"
    }
   ],
   "source": [
    "%%time\n",
    "\n",
    "seq = [cuadrado(x) for x in data]\n",
    "\n",
    "seq[:5]"
   ]
  },
  {
   "cell_type": "code",
   "execution_count": 5,
   "metadata": {
    "scrolled": false
   },
   "outputs": [
    {
     "name": "stdout",
     "output_type": "stream",
     "text": [
      "CPU times: user 3 µs, sys: 0 ns, total: 3 µs\n",
      "Wall time: 7.15 µs\n"
     ]
    },
    {
     "data": {
      "text/plain": [
       "<map at 0x105787d00>"
      ]
     },
     "execution_count": 5,
     "metadata": {},
     "output_type": "execute_result"
    }
   ],
   "source": [
    "%%time\n",
    "\n",
    "map(cuadrado, data)"
   ]
  },
  {
   "cell_type": "code",
   "execution_count": 6,
   "metadata": {},
   "outputs": [
    {
     "name": "stdout",
     "output_type": "stream",
     "text": [
      "CPU times: user 2.3 s, sys: 303 ms, total: 2.61 s\n",
      "Wall time: 2.87 s\n"
     ]
    },
    {
     "data": {
      "text/plain": [
       "[0, 1, 4, 9, 16]"
      ]
     },
     "execution_count": 6,
     "metadata": {},
     "output_type": "execute_result"
    }
   ],
   "source": [
    "%%time\n",
    "\n",
    "seq=list(map(cuadrado, data))\n",
    "\n",
    "seq[:5]"
   ]
  },
  {
   "cell_type": "code",
   "execution_count": 7,
   "metadata": {},
   "outputs": [],
   "source": [
    "import multiprocessing as mp"
   ]
  },
  {
   "cell_type": "code",
   "execution_count": 8,
   "metadata": {},
   "outputs": [
    {
     "data": {
      "text/plain": [
       "'spawn'"
      ]
     },
     "execution_count": 8,
     "metadata": {},
     "output_type": "execute_result"
    }
   ],
   "source": [
    "# movida del Mac M1\n",
    "\n",
    "mp.get_start_method()"
   ]
  },
  {
   "cell_type": "code",
   "execution_count": 9,
   "metadata": {},
   "outputs": [],
   "source": [
    "# movida del mac M1, para otros no hace falta\n",
    "\n",
    "from multiprocessing import get_context"
   ]
  },
  {
   "cell_type": "code",
   "execution_count": 10,
   "metadata": {},
   "outputs": [
    {
     "data": {
      "text/plain": [
       "8"
      ]
     },
     "execution_count": 10,
     "metadata": {},
     "output_type": "execute_result"
    }
   ],
   "source": [
    "mp.cpu_count()    # nº de nucleos"
   ]
  },
  {
   "cell_type": "code",
   "execution_count": 11,
   "metadata": {},
   "outputs": [
    {
     "name": "stdout",
     "output_type": "stream",
     "text": [
      "CPU times: user 588 ms, sys: 456 ms, total: 1.04 s\n",
      "Wall time: 1.38 s\n"
     ]
    },
    {
     "data": {
      "text/plain": [
       "[0, 1, 4, 9, 16]"
      ]
     },
     "execution_count": 11,
     "metadata": {},
     "output_type": "execute_result"
    }
   ],
   "source": [
    "%%time\n",
    "\n",
    "#pool = mp.Pool(mp.cpu_count())    # usar todos los nucleos (Intel o AMD)\n",
    "\n",
    "pool = get_context('fork').Pool(6)  # ARM M1  (en vez de ir de 1en1 va de 8en8)\n",
    " \n",
    "seq = pool.map(cuadrado, data)\n",
    "\n",
    "pool.close()\n",
    "\n",
    "seq[:5]"
   ]
  },
  {
   "cell_type": "markdown",
   "metadata": {},
   "source": [
    "**multiprocessing asíncrono**\n",
    "\n",
    "`map` consume su iterable convirtiendo el iterable en una lista, dividiéndolo en fragmentos y enviando esos fragmentos a los procesos de trabajo en el Pool. Dividir el iterable en fragmentos funciona mejor que pasar cada elemento en el iterable entre procesos un elemento a la vez, especialmente si el iterable es grande. Sin embargo, convertir el iterable en una lista para dividirlo puede tener un costo de memoria muy alto, ya que la lista completa deberá mantenerse en la memoria.\n",
    "\n",
    "`imap`/`map_async` no convierte el iterable que le da en una lista, ni lo divide en trozos. Itera sobre el elemento de uno en uno y los envia a un proceso de trabajo distinto. Esto significa que no se toma el golpe de memoria de convertir todo el iterable en una lista, pero también que el rendimiento es más lento para los iterables grandes, debido a la falta de fragmentación. Esto se puede mitigar aumentando el valor predeterminado de 1 en el `chunksize`. Otra gran diferencia de `imap` es que puede comenzar a recibir resultados de los trabajadores tan pronto como estén listos, en lugar de tener que esperar a que todos terminen. \n",
    "\n",
    "\n"
   ]
  },
  {
   "cell_type": "code",
   "execution_count": 12,
   "metadata": {},
   "outputs": [
    {
     "name": "stdout",
     "output_type": "stream",
     "text": [
      "CPU times: user 551 ms, sys: 418 ms, total: 969 ms\n",
      "Wall time: 1.38 s\n"
     ]
    },
    {
     "data": {
      "text/plain": [
       "[0, 1, 4, 9, 16]"
      ]
     },
     "execution_count": 12,
     "metadata": {},
     "output_type": "execute_result"
    }
   ],
   "source": [
    "%%time\n",
    "\n",
    "#pool=mp.Pool(mp.cpu_count())\n",
    "\n",
    "pool=get_context('fork').Pool(6)  # grupo con 6 cores\n",
    "\n",
    "res=pool.map_async(cuadrado, data).get()\n",
    "\n",
    "pool.close()\n",
    "\n",
    "res[:5]"
   ]
  },
  {
   "cell_type": "markdown",
   "metadata": {},
   "source": [
    "```python\n",
    "%%time\n",
    "pool=mp.Pool(mp.cpu_count())   \n",
    "\n",
    "for x in pool.imap(cuadrado, datos):\n",
    "    print(x)\n",
    "    \n",
    "pool.close()\n",
    "```"
   ]
  },
  {
   "cell_type": "markdown",
   "metadata": {},
   "source": [
    "$$$$\n",
    "\n",
    "$$$$\n",
    "\n",
    "## Joblib\n",
    "\n",
    "![joblib](images/joblib.svg)\n",
    "\n",
    "$$$$\n",
    "\n",
    "$$$$\n",
    "\n",
    "\n",
    "[Joblib](https://joblib.readthedocs.io/en/latest/) es una librería de Python que también nos permite paralelizar un programa. En este caso a través de procesos, lo cuál implica, como vimos antes, cierto tiempo para construir el Pool. Lo usaremos principalmente para realizar un bucle sobre una función.\n",
    "\n",
    "Veamos el Hola Mundo."
   ]
  },
  {
   "cell_type": "markdown",
   "metadata": {},
   "source": [
    "**Hola Mundo**"
   ]
  },
  {
   "cell_type": "code",
   "execution_count": null,
   "metadata": {},
   "outputs": [],
   "source": [
    "%pip install joblib"
   ]
  },
  {
   "cell_type": "code",
   "execution_count": 13,
   "metadata": {},
   "outputs": [],
   "source": [
    "from joblib import Parallel, delayed"
   ]
  },
  {
   "cell_type": "code",
   "execution_count": 14,
   "metadata": {},
   "outputs": [
    {
     "name": "stderr",
     "output_type": "stream",
     "text": [
      "[Parallel(n_jobs=-1)]: Using backend LokyBackend with 8 concurrent workers.\n",
      "[Parallel(n_jobs=-1)]: Done  34 tasks      | elapsed:    0.9s\n",
      "[Parallel(n_jobs=-1)]: Done 16392 tasks      | elapsed:    1.1s\n",
      "[Parallel(n_jobs=-1)]: Done 1785864 tasks      | elapsed:    9.0s\n",
      "[Parallel(n_jobs=-1)]: Done 4653064 tasks      | elapsed:   20.7s\n",
      "[Parallel(n_jobs=-1)]: Done 8339464 tasks      | elapsed:   37.3s\n"
     ]
    },
    {
     "name": "stdout",
     "output_type": "stream",
     "text": [
      "CPU times: user 32.8 s, sys: 5.92 s, total: 38.7 s\n",
      "Wall time: 44.6 s\n"
     ]
    },
    {
     "name": "stderr",
     "output_type": "stream",
     "text": [
      "[Parallel(n_jobs=-1)]: Done 10000000 out of 10000000 | elapsed:   44.5s finished\n"
     ]
    },
    {
     "data": {
      "text/plain": [
       "[0, 1, 4, 9, 16]"
      ]
     },
     "execution_count": 14,
     "metadata": {},
     "output_type": "execute_result"
    }
   ],
   "source": [
    "%%time\n",
    "\n",
    "paralelo = Parallel(n_jobs=-1,   # n_jobs=-1 significa todos los cores\n",
    "                    verbose=True\n",
    "                   )\n",
    "\n",
    "\n",
    "seq = paralelo(delayed(cuadrado)(e) for e in data)\n",
    "\n",
    "\n",
    "seq[:5]"
   ]
  },
  {
   "cell_type": "markdown",
   "metadata": {},
   "source": [
    "### Ejemplo ESPN\n",
    "\n",
    "Volvamos de nuevo al ejemplo de scrapeo de la págine de ESPN. Usaremos joblib para realizar una extracción en paralelo de la información."
   ]
  },
  {
   "cell_type": "code",
   "execution_count": 15,
   "metadata": {},
   "outputs": [],
   "source": [
    "from selenium import webdriver\n",
    "from selenium.webdriver.common.by import By\n",
    "from selenium.webdriver.support.ui import Select\n",
    "\n",
    "import time\n",
    "\n",
    "import pandas as pd\n",
    "\n",
    "#from webdriver_manager.chrome import ChromeDriverManager\n",
    "#PATH=ChromeDriverManager().install()\n",
    "\n",
    "PATH='driver/chromedriver'"
   ]
  },
  {
   "cell_type": "code",
   "execution_count": 16,
   "metadata": {},
   "outputs": [
    {
     "data": {
      "text/plain": [
       "['https://www.espn.com/soccer/team/stats/_/id/3802/afc-wimbledon',\n",
       " 'https://www.espn.com/soccer/team/stats/_/id/2731/accrington-stanley',\n",
       " 'https://www.espn.com/soccer/team/stats/_/id/397/barnsley',\n",
       " 'https://www.espn.com/soccer/team/stats/_/id/642/barrow',\n",
       " 'https://www.espn.com/soccer/team/stats/_/id/392/birmingham-city',\n",
       " 'https://www.espn.com/soccer/team/stats/_/id/365/blackburn-rovers',\n",
       " 'https://www.espn.com/soccer/team/stats/_/id/346/blackpool',\n",
       " 'https://www.espn.com/soccer/team/stats/_/id/358/bolton-wanderers',\n",
       " 'https://www.espn.com/soccer/team/stats/_/id/387/bradford-city',\n",
       " 'https://www.espn.com/soccer/team/stats/_/id/333/bristol-city',\n",
       " 'https://www.espn.com/soccer/team/stats/_/id/308/bristol-rovers',\n",
       " 'https://www.espn.com/soccer/team/stats/_/id/2567/burton-albion',\n",
       " 'https://www.espn.com/soccer/team/stats/_/id/351/cambridge-united',\n",
       " 'https://www.espn.com/soccer/team/stats/_/id/347/cardiff-city',\n",
       " 'https://www.espn.com/soccer/team/stats/_/id/322/carlisle-united',\n",
       " 'https://www.espn.com/soccer/team/stats/_/id/372/charlton-athletic',\n",
       " 'https://www.espn.com/soccer/team/stats/_/id/320/cheltenham-town',\n",
       " 'https://www.espn.com/soccer/team/stats/_/id/339/colchester-united',\n",
       " 'https://www.espn.com/soccer/team/stats/_/id/388/coventry-city',\n",
       " 'https://www.espn.com/soccer/team/stats/_/id/2594/crawley-town']"
      ]
     },
     "execution_count": 16,
     "metadata": {},
     "output_type": "execute_result"
    }
   ],
   "source": [
    "url='https://www.espn.com/soccer/competitions'\n",
    "\n",
    "\n",
    "driver=webdriver.Chrome(PATH)\n",
    "driver.get(url)\n",
    "    \n",
    "time.sleep(2)\n",
    "\n",
    "aceptar=driver.find_element(By.XPATH, '//*[@id=\"onetrust-accept-btn-handler\"]')\n",
    "aceptar.click()\n",
    "\n",
    "time.sleep(4)\n",
    "\n",
    "equipos=driver.find_element(By.CSS_SELECTOR, '#fittPageContainer > div.page-container.cf > div > div.layout__column.layout__column--1 > div > div:nth-child(3) > div:nth-child(1) > div > div:nth-child(5) > div > section > div > div > span:nth-child(2) > a')\n",
    "equipos.click()\n",
    "\n",
    "\n",
    "time.sleep(2)\n",
    "\n",
    "equipos_stats_urls=driver.find_elements(By.CSS_SELECTOR, 'a.AnchorLink')\n",
    "\n",
    "equipos_stats_urls=[e.get_attribute('href') for e in equipos_stats_urls \n",
    "                    if 'team/stats' in e.get_attribute('href')]\n",
    "\n",
    "\n",
    "equipos_stats_urls[:20]"
   ]
  },
  {
   "cell_type": "code",
   "execution_count": 17,
   "metadata": {},
   "outputs": [],
   "source": [
    "driver.quit()"
   ]
  },
  {
   "cell_type": "code",
   "execution_count": 18,
   "metadata": {},
   "outputs": [],
   "source": [
    "def extraer(url):\n",
    "\n",
    "    # inicia el driver\n",
    "    driver=webdriver.Chrome(PATH)\n",
    "    driver.get(url)\n",
    "\n",
    "    time.sleep(2)\n",
    "\n",
    "    # acepta cookies\n",
    "    aceptar=driver.find_element(By.XPATH, '//*[@id=\"onetrust-accept-btn-handler\"]')\n",
    "    aceptar.click()\n",
    "\n",
    "    time.sleep(2)\n",
    "    \n",
    "    data=[]\n",
    "    cabeceras=[]\n",
    "    \n",
    "    try:\n",
    "        # dropdown\n",
    "        dropdown = driver.find_element(By.XPATH, '//*[@id=\"fittPageContainer\"]/div[2]/div[5]/div/div/section/div/div[4]/select[1]')\n",
    "        select = Select(dropdown)\n",
    "        select.select_by_visible_text('2022-23')\n",
    "\n",
    "\n",
    "        time.sleep(1)\n",
    "\n",
    "        # disciplina\n",
    "        dis=driver.find_element(By.XPATH, '//*[@id=\"fittPageContainer\"]/div[2]/div[5]/div/div[1]/section/div/div[2]/nav/ul/li[2]/a')\n",
    "        dis.click()\n",
    "\n",
    "        time.sleep(2)\n",
    "\n",
    "        tabla=driver.find_element(By.TAG_NAME, 'tbody')\n",
    "\n",
    "        filas=tabla.find_elements(By.TAG_NAME, 'tr')\n",
    "\n",
    "        for f in filas:\n",
    "\n",
    "            elementos=f.find_elements(By.TAG_NAME, 'td') \n",
    "\n",
    "            tmp=[]\n",
    "\n",
    "            for e in elementos:\n",
    "\n",
    "                tmp.append(e.text)\n",
    "\n",
    "            tmp.append(url.split('/')[-1])  # nombre del equipo\n",
    "            data.append(tmp)\n",
    "\n",
    "\n",
    "        cabeceras=driver.find_element(By.TAG_NAME, 'thead')\n",
    "\n",
    "        cabeceras=[c.text for c in cabeceras.find_elements(By.TAG_NAME, 'th')]+['TEAM']\n",
    "\n",
    "    except:\n",
    "        time.sleep(0.1)\n",
    "        \n",
    "    driver.quit()\n",
    "    \n",
    "    return pd.DataFrame(data, columns=cabeceras)"
   ]
  },
  {
   "cell_type": "code",
   "execution_count": 19,
   "metadata": {
    "scrolled": true
   },
   "outputs": [
    {
     "name": "stderr",
     "output_type": "stream",
     "text": [
      "[Parallel(n_jobs=6)]: Using backend LokyBackend with 6 concurrent workers.\n",
      "/var/folders/95/ms6dwls51ls1jq0t456d3r200000gn/T/ipykernel_18931/1636708756.py:4: DeprecationWarning: executable_path has been deprecated, please pass in a Service object\n",
      "/var/folders/95/ms6dwls51ls1jq0t456d3r200000gn/T/ipykernel_18931/1636708756.py:4: DeprecationWarning: executable_path has been deprecated, please pass in a Service object\n",
      "/var/folders/95/ms6dwls51ls1jq0t456d3r200000gn/T/ipykernel_18931/1636708756.py:4: DeprecationWarning: executable_path has been deprecated, please pass in a Service object\n",
      "/var/folders/95/ms6dwls51ls1jq0t456d3r200000gn/T/ipykernel_18931/1636708756.py:4: DeprecationWarning: executable_path has been deprecated, please pass in a Service object\n",
      "/var/folders/95/ms6dwls51ls1jq0t456d3r200000gn/T/ipykernel_18931/1636708756.py:4: DeprecationWarning: executable_path has been deprecated, please pass in a Service object\n",
      "/var/folders/95/ms6dwls51ls1jq0t456d3r200000gn/T/ipykernel_18931/1636708756.py:4: DeprecationWarning: executable_path has been deprecated, please pass in a Service object\n",
      "/var/folders/95/ms6dwls51ls1jq0t456d3r200000gn/T/ipykernel_18931/1636708756.py:4: DeprecationWarning: executable_path has been deprecated, please pass in a Service object\n",
      "/var/folders/95/ms6dwls51ls1jq0t456d3r200000gn/T/ipykernel_18931/1636708756.py:4: DeprecationWarning: executable_path has been deprecated, please pass in a Service object\n",
      "/var/folders/95/ms6dwls51ls1jq0t456d3r200000gn/T/ipykernel_18931/1636708756.py:4: DeprecationWarning: executable_path has been deprecated, please pass in a Service object\n",
      "/var/folders/95/ms6dwls51ls1jq0t456d3r200000gn/T/ipykernel_18931/1636708756.py:4: DeprecationWarning: executable_path has been deprecated, please pass in a Service object\n",
      "/var/folders/95/ms6dwls51ls1jq0t456d3r200000gn/T/ipykernel_18931/1636708756.py:4: DeprecationWarning: executable_path has been deprecated, please pass in a Service object\n",
      "/var/folders/95/ms6dwls51ls1jq0t456d3r200000gn/T/ipykernel_18931/1636708756.py:4: DeprecationWarning: executable_path has been deprecated, please pass in a Service object\n",
      "/var/folders/95/ms6dwls51ls1jq0t456d3r200000gn/T/ipykernel_18931/1636708756.py:4: DeprecationWarning: executable_path has been deprecated, please pass in a Service object\n",
      "/var/folders/95/ms6dwls51ls1jq0t456d3r200000gn/T/ipykernel_18931/1636708756.py:4: DeprecationWarning: executable_path has been deprecated, please pass in a Service object\n",
      "/var/folders/95/ms6dwls51ls1jq0t456d3r200000gn/T/ipykernel_18931/1636708756.py:4: DeprecationWarning: executable_path has been deprecated, please pass in a Service object\n",
      "/var/folders/95/ms6dwls51ls1jq0t456d3r200000gn/T/ipykernel_18931/1636708756.py:4: DeprecationWarning: executable_path has been deprecated, please pass in a Service object\n",
      "/var/folders/95/ms6dwls51ls1jq0t456d3r200000gn/T/ipykernel_18931/1636708756.py:4: DeprecationWarning: executable_path has been deprecated, please pass in a Service object\n",
      "/var/folders/95/ms6dwls51ls1jq0t456d3r200000gn/T/ipykernel_18931/1636708756.py:4: DeprecationWarning: executable_path has been deprecated, please pass in a Service object\n",
      "/var/folders/95/ms6dwls51ls1jq0t456d3r200000gn/T/ipykernel_18931/1636708756.py:4: DeprecationWarning: executable_path has been deprecated, please pass in a Service object\n",
      "/var/folders/95/ms6dwls51ls1jq0t456d3r200000gn/T/ipykernel_18931/1636708756.py:4: DeprecationWarning: executable_path has been deprecated, please pass in a Service object\n",
      "[Parallel(n_jobs=6)]: Done  20 out of  20 | elapsed:  1.5min finished\n"
     ]
    }
   ],
   "source": [
    "paralelo = Parallel(n_jobs=6,  verbose=True)\n",
    "\n",
    "\n",
    "lst_df = paralelo(delayed(extraer)(url) for url in equipos_stats_urls[:20])"
   ]
  },
  {
   "cell_type": "code",
   "execution_count": 20,
   "metadata": {},
   "outputs": [
    {
     "data": {
      "text/plain": [
       "20"
      ]
     },
     "execution_count": 20,
     "metadata": {},
     "output_type": "execute_result"
    }
   ],
   "source": [
    "len(lst_df)"
   ]
  },
  {
   "cell_type": "code",
   "execution_count": 21,
   "metadata": {},
   "outputs": [
    {
     "data": {
      "text/html": [
       "<div>\n",
       "<style scoped>\n",
       "    .dataframe tbody tr th:only-of-type {\n",
       "        vertical-align: middle;\n",
       "    }\n",
       "\n",
       "    .dataframe tbody tr th {\n",
       "        vertical-align: top;\n",
       "    }\n",
       "\n",
       "    .dataframe thead th {\n",
       "        text-align: right;\n",
       "    }\n",
       "</style>\n",
       "<table border=\"1\" class=\"dataframe\">\n",
       "  <thead>\n",
       "    <tr style=\"text-align: right;\">\n",
       "      <th></th>\n",
       "      <th>RK</th>\n",
       "      <th>NAME</th>\n",
       "      <th>P</th>\n",
       "      <th>YC</th>\n",
       "      <th>RC</th>\n",
       "      <th>PTS</th>\n",
       "      <th>TEAM</th>\n",
       "    </tr>\n",
       "  </thead>\n",
       "  <tbody>\n",
       "    <tr>\n",
       "      <th>0</th>\n",
       "      <td>1</td>\n",
       "      <td>Harry Pell</td>\n",
       "      <td>28</td>\n",
       "      <td>8</td>\n",
       "      <td>0</td>\n",
       "      <td>8</td>\n",
       "      <td>afc-wimbledon</td>\n",
       "    </tr>\n",
       "    <tr>\n",
       "      <th>1</th>\n",
       "      <td></td>\n",
       "      <td>Paul Kalambayi</td>\n",
       "      <td>26</td>\n",
       "      <td>8</td>\n",
       "      <td>0</td>\n",
       "      <td>8</td>\n",
       "      <td>afc-wimbledon</td>\n",
       "    </tr>\n",
       "    <tr>\n",
       "      <th>2</th>\n",
       "      <td>3</td>\n",
       "      <td>Josh Davison</td>\n",
       "      <td>37</td>\n",
       "      <td>7</td>\n",
       "      <td>0</td>\n",
       "      <td>7</td>\n",
       "      <td>afc-wimbledon</td>\n",
       "    </tr>\n",
       "    <tr>\n",
       "      <th>3</th>\n",
       "      <td></td>\n",
       "      <td>Alex Woodyard</td>\n",
       "      <td>34</td>\n",
       "      <td>7</td>\n",
       "      <td>0</td>\n",
       "      <td>7</td>\n",
       "      <td>afc-wimbledon</td>\n",
       "    </tr>\n",
       "    <tr>\n",
       "      <th>4</th>\n",
       "      <td></td>\n",
       "      <td>Will Nightingale</td>\n",
       "      <td>22</td>\n",
       "      <td>7</td>\n",
       "      <td>0</td>\n",
       "      <td>7</td>\n",
       "      <td>afc-wimbledon</td>\n",
       "    </tr>\n",
       "  </tbody>\n",
       "</table>\n",
       "</div>"
      ],
      "text/plain": [
       "  RK              NAME   P YC RC PTS           TEAM\n",
       "0  1        Harry Pell  28  8  0   8  afc-wimbledon\n",
       "1       Paul Kalambayi  26  8  0   8  afc-wimbledon\n",
       "2  3      Josh Davison  37  7  0   7  afc-wimbledon\n",
       "3        Alex Woodyard  34  7  0   7  afc-wimbledon\n",
       "4     Will Nightingale  22  7  0   7  afc-wimbledon"
      ]
     },
     "execution_count": 21,
     "metadata": {},
     "output_type": "execute_result"
    }
   ],
   "source": [
    "lst_df[0].head()"
   ]
  },
  {
   "cell_type": "code",
   "execution_count": 22,
   "metadata": {},
   "outputs": [],
   "source": [
    "df = pd.concat(lst_df)"
   ]
  },
  {
   "cell_type": "code",
   "execution_count": 23,
   "metadata": {},
   "outputs": [
    {
     "data": {
      "text/plain": [
       "(334, 7)"
      ]
     },
     "execution_count": 23,
     "metadata": {},
     "output_type": "execute_result"
    }
   ],
   "source": [
    "df.shape"
   ]
  },
  {
   "cell_type": "code",
   "execution_count": 24,
   "metadata": {},
   "outputs": [
    {
     "data": {
      "text/plain": [
       "array(['afc-wimbledon', 'barnsley', 'barrow', 'birmingham-city',\n",
       "       'blackburn-rovers', 'bolton-wanderers', 'bradford-city',\n",
       "       'bristol-city', 'bristol-rovers', 'burton-albion',\n",
       "       'cambridge-united', 'cardiff-city', 'charlton-athletic',\n",
       "       'cheltenham-town', 'colchester-united', 'coventry-city',\n",
       "       'crawley-town'], dtype=object)"
      ]
     },
     "execution_count": 24,
     "metadata": {},
     "output_type": "execute_result"
    }
   ],
   "source": [
    "df.TEAM.unique()"
   ]
  },
  {
   "cell_type": "code",
   "execution_count": 25,
   "metadata": {},
   "outputs": [
    {
     "data": {
      "text/plain": [
       "array(['Harry Pell', 'Paul Kalambayi', 'Josh Davison', 'Alex Woodyard',\n",
       "       'Will Nightingale', 'Lee Brown', 'James Tilley', 'Ethan Chislett',\n",
       "       'Isaac Ogundere', 'Aaron Pierre', 'Jack Currie',\n",
       "       'Ali Ibrahim Al-Hamadi', 'Huseyin Biler', 'Alex Pearce',\n",
       "       'Nik Tzanev', 'Zach Robinson', 'Harry Griffiths', 'Aron Sasu',\n",
       "       'Quaine Bartley', 'Alfie Bendle', 'Morgan Williams',\n",
       "       'Nathan Broome', 'Mads Andersen', 'Liam Kitching', 'Luca Connell',\n",
       "       'James Norwood', 'Herbie Kane', 'Adam Phillips', 'Nicky Cadden',\n",
       "       'Jasper Moon', 'Devante Cole', 'Josh Benson', 'Jordan Williams',\n",
       "       'Matthew Wolfe', 'Jonathan Russell', 'Callum Styles',\n",
       "       'Robbie Cundy', 'Bradley Collins', 'Conor McCarthy',\n",
       "       'Barry Cotter', 'Jamie Searle', 'Sam Foley', 'Josh Kay',\n",
       "       'George Ray', 'Paul Farman', 'Robbie Gotts', 'Tyrell Warren',\n",
       "       'Tom White', 'Mazeed Ogungbo', 'Rory Feely', 'Niall Canavan',\n",
       "       'Gerard Garner', 'Ben Whitfield', 'Elliot Newby', 'Josh Lillis',\n",
       "       'Juninho Bacuna', 'Marc Roberts', 'Kevin Long', 'Lukas Jutkiewicz',\n",
       "       'Tahith Chong', 'Scott Hogan', 'Jordan James', 'Emmanuel Longelo',\n",
       "       'Alfie Chang', 'Joshua Williams', 'John Ruddy', 'Trevan Sanusi',\n",
       "       'Sam Cosgrove', 'Tate Campbell', 'George Hall', 'Gary Gardner',\n",
       "       'Zach Jeacock', 'Neil Etheridge', 'Lewis Travis',\n",
       "       'Joe Rankin-Costello', 'Sam Gallagher', 'John Buckley',\n",
       "       'Sammie Szmodics', 'Hayden Carter', 'Jake Garrett', 'Tyrhys Dolan',\n",
       "       'Scott Wharton', 'Dominic Hyam', 'Ryan Hedges', 'Harry Pickering',\n",
       "       'Thomas Kaminski', 'Jack Vale', 'Callum Brittain', 'Adam Wharton',\n",
       "       'Ashley Phillips', 'Dilan Kumar Markanday', 'Tayo Edun',\n",
       "       'Samuel Barnes', 'Joe Hilton', 'Aynsley Pears',\n",
       "       'Ricardo Almeida Santos', \"Daniel N'Lundulu\", 'Kyle Dempsey',\n",
       "       'George Johnston', 'George Thomason', 'Aaron Morley',\n",
       "       'Dion Charles', 'Josh Sheehan', 'Gethin Jones', 'Victor Adeboyejo',\n",
       "       'Jón Bödvarsson', 'Kieran Sadlier', 'Jack Iredale', 'Eoin Toal',\n",
       "       'Randell Williams', 'Declan John', 'Gerald Sithole',\n",
       "       'Cameron Jerome', 'Nelson Khumbeni', 'Luke Hutchinson',\n",
       "       'Matthew Platt', 'Richard Smallwood', 'Brad Halliday',\n",
       "       'Jamie Walker', 'Liam Ridehalgh', 'Andy Cook', 'Harry Chapman',\n",
       "       'Sam Stubbs', 'Jake Young', 'Alex Gilliead', 'Vadaine Oliver',\n",
       "       'Harry Lewis', 'Emma Osaoabe', 'Luke Hendrie', 'Matt Derbyshire',\n",
       "       'Ryan East', 'Timi Odusina', 'Ciaran Kelly', 'Colin Doyle',\n",
       "       'Alex Scott', 'Joe Williams', 'Zak Vyner', 'Mark Sykes',\n",
       "       'Cameron Pring', 'Robert Dickie', 'Matty James', 'George Tanner',\n",
       "       'Robert Atkinson', 'Anis Mehmeti', 'Han-Noah Massengo',\n",
       "       'Andy King', 'Dylan Kadji', 'Joe Low', 'Kal Naismith',\n",
       "       'Harry Leeson', 'Callum Wood', 'Duncan Idehen', 'Kane Wilson',\n",
       "       'Tomás Kalas', 'Harvey Wiles-Richards', \"Max O'Leary\", 'Ryan Loft',\n",
       "       'Sam Finley', 'Antony Evans', 'Aaron Collins', 'John Marquis',\n",
       "       'Luke Mccormick', 'James Connolly', 'Jordan Rossiter',\n",
       "       'Lewis Gordon', 'Luca Hoole', 'Grant Ward', 'James Gibbons',\n",
       "       'James Belshaw', 'Josh Grant', 'Scott Sinclair', 'Malik Sesay',\n",
       "       'Jerry Lawrence', 'Ryan Jones', 'Jed Ward', 'Anssi Jaakkola',\n",
       "       'Deji Oshilaja', 'Terry Taylor', 'Thomas Hamer', 'Sam Hughes',\n",
       "       'John Brayford', 'Joe Powell', 'Ciaran Gilligan',\n",
       "       'Mustapha Carayol', 'Dylan Scott', 'Bobby Kamwa', 'Tom Hewlett',\n",
       "       'Josh Walker', 'Ronny Wakelin', 'Mark Helm', 'Charlie Lakin',\n",
       "       'Toby Oakes', 'Finn Delap', 'Jake Kean', 'Paul Digby',\n",
       "       'Michael Morrison', 'Jack Lankester', 'James Brophy',\n",
       "       'Jubril Adesope Okedina', 'Liam Bennett', 'Harrison Dunk',\n",
       "       'Ryan Bennett', 'Saikou Janneh', 'Fejiri Okenabirhie',\n",
       "       'William Mannion', 'George Hoddle', 'Glenn Mcconnell', 'Kai Yearn',\n",
       "       'Adam May', 'George Thomas', 'Mamadou Jobe', 'Zeno Rossi',\n",
       "       'Brandon Haunstrup', 'James Holden', 'Perry Ng', 'Ryan Allsop',\n",
       "       'Joe Ralls', 'Ryan Wintle', \"Callum O'Dowda\", 'Jack Simpson',\n",
       "       'Callum Robinson', 'Mark Harris', 'Andy Rinomhota',\n",
       "       'Mark McGuinness', 'Mahlon Romeo', 'Sheyi Ojo', 'Jak Alnwick',\n",
       "       'Romaine Sawyers', 'Rubin Colwill', 'Jamilu Collins', 'Eli King',\n",
       "       'Oliver Denham', 'Joel Bagan', 'Vontae Daley-Campbell',\n",
       "       'Lewys Benjamin', 'Rohan Luthra', 'George Dobson', 'Charlie Kirk',\n",
       "       'Jack Payne', 'Conor McGrandles', 'Michael Hector', 'Sam Lavelle',\n",
       "       'Scott Fraser', 'Lucas Ness', 'Charles Clayden', 'Corey Taylor',\n",
       "       'Richard Chin', 'Terell Thomas', 'Mandela Egbo',\n",
       "       'Ashley Maynard-Brewer', 'Zach Mitchell', 'Aaron Henry',\n",
       "       'Diallang Jaiyesimi', 'Nathan Asilmwe', 'Tyreece Campbell',\n",
       "       'Jacob Roddy', 'Elliott Bonds', 'Sean Long', 'Lewis Freestone',\n",
       "       'Will Ferry', 'Alfie May', 'Liam Sercombe', 'Ben Williams',\n",
       "       'Daniel Adshead', 'Aidan Keena', 'Tom Bradbury', 'George Lloyd',\n",
       "       'Will Goodwin', 'Freddie Willcox', 'Adulai Sambu',\n",
       "       'James Olayinka', 'Junior Tchamadeu', 'Samson Tovide',\n",
       "       'Ellis Iandolo', 'Marley Marshall', 'John Akinde', 'Noah Chilvers',\n",
       "       'Arthur Read', 'Fiacre Kelleher', 'Thomas Dallison-Lisbon',\n",
       "       'Tom Hopper', 'Cameron Coxe', 'Jayden Fevrier', 'Alex Newby',\n",
       "       'Matt Jay', 'Connor Hall', 'Oscar Thorn', 'Al-Amin Kazeem',\n",
       "       'William Greenidge', 'Ted Collins', 'Sam Hornby', 'Gustavo Hamer',\n",
       "       'Kyle McFadzean', 'Josh Eccles', 'Ben Sheaf', 'Viktor Gyökeres',\n",
       "       'Jake Bidwell', 'Ben Wilson', 'Kasey Palmer', 'Martyn Waghorn',\n",
       "       'Jamie Allen', 'Ryan Howley', 'Jack Burroughs', 'Liam Kelly',\n",
       "       'Harrison Nee', 'Fabio Tavares', 'Matthew Godden', \"Callum O'Hare\",\n",
       "       'Todd Kane', 'Cian Tyler', 'Simon Moore', 'Joel Lynch',\n",
       "       'Ben Gladwin', 'Ashley Nadesan', 'Dominic Telford',\n",
       "       'Travis Johnson', 'Nicholas Tsaroulla', 'Aramide Oteh',\n",
       "       'Kellan Gordon', 'Jake Hessenthaler', 'Corey Addai', 'Jack Roles',\n",
       "       'Tobi Omole', 'Harry Ransom', 'Dion Conroy', 'Brandon Mason',\n",
       "       'Kwesi Appiah', 'Jayden Davis', 'Rafiq Khaleel', 'Moe Shubbar',\n",
       "       'Danilo Orsi-Dadomo', 'Florian Kastrati', 'Roshan Greenwall'],\n",
       "      dtype=object)"
      ]
     },
     "execution_count": 25,
     "metadata": {},
     "output_type": "execute_result"
    }
   ],
   "source": [
    "df.NAME.unique()"
   ]
  },
  {
   "cell_type": "markdown",
   "metadata": {},
   "source": [
    "**Tip:** https://pypi.org/project/tqdm/"
   ]
  },
  {
   "cell_type": "markdown",
   "metadata": {},
   "source": [
    "**Para barras de progreso**"
   ]
  },
  {
   "cell_type": "code",
   "execution_count": null,
   "metadata": {},
   "outputs": [],
   "source": [
    "%pip install tqdm"
   ]
  },
  {
   "cell_type": "code",
   "execution_count": null,
   "metadata": {},
   "outputs": [],
   "source": []
  },
  {
   "cell_type": "code",
   "execution_count": null,
   "metadata": {},
   "outputs": [],
   "source": []
  },
  {
   "cell_type": "code",
   "execution_count": null,
   "metadata": {},
   "outputs": [],
   "source": []
  },
  {
   "cell_type": "code",
   "execution_count": null,
   "metadata": {
    "scrolled": false
   },
   "outputs": [],
   "source": []
  },
  {
   "cell_type": "code",
   "execution_count": null,
   "metadata": {},
   "outputs": [],
   "source": []
  },
  {
   "cell_type": "code",
   "execution_count": null,
   "metadata": {},
   "outputs": [],
   "source": []
  }
 ],
 "metadata": {
  "kernelspec": {
   "display_name": "clase",
   "language": "python",
   "name": "clase"
  },
  "language_info": {
   "codemirror_mode": {
    "name": "ipython",
    "version": 3
   },
   "file_extension": ".py",
   "mimetype": "text/x-python",
   "name": "python",
   "nbconvert_exporter": "python",
   "pygments_lexer": "ipython3",
   "version": "3.9.12"
  },
  "varInspector": {
   "cols": {
    "lenName": 16,
    "lenType": 16,
    "lenVar": 40
   },
   "kernels_config": {
    "python": {
     "delete_cmd_postfix": "",
     "delete_cmd_prefix": "del ",
     "library": "var_list.py",
     "varRefreshCmd": "print(var_dic_list())"
    },
    "r": {
     "delete_cmd_postfix": ") ",
     "delete_cmd_prefix": "rm(",
     "library": "var_list.r",
     "varRefreshCmd": "cat(var_dic_list()) "
    }
   },
   "types_to_exclude": [
    "module",
    "function",
    "builtin_function_or_method",
    "instance",
    "_Feature"
   ],
   "window_display": false
  }
 },
 "nbformat": 4,
 "nbformat_minor": 4
}
