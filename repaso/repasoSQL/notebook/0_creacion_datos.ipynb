{
 "cells": [
  {
   "cell_type": "code",
   "execution_count": 1,
   "id": "cefefc47",
   "metadata": {},
   "outputs": [],
   "source": [
    "import pandas as pd\n",
    "\n",
    "# Datos para crear los DataFrames\n",
    "productos_data = {\n",
    "    'ProductoID': [1, 2, 3, 4, 5],\n",
    "    'Nombre': ['Portátil', 'Smartphone', 'Televisor', 'Impresora', 'Tablet'],\n",
    "    'Precio': [1000, 600, 800, 150, 400],\n",
    "    'CategoriaID': [1, 1, 2, 3, 1]\n",
    "}\n",
    "\n",
    "categorias_data = {\n",
    "    'CategoriaID': [1, 2, 3],\n",
    "    'NombreCategoria': ['Electrónica', 'Electrodomésticos', 'Oficina']\n",
    "}\n",
    "\n",
    "clientes_data = {\n",
    "    'ClienteID': [101, 102, 103, 104, 105, 106, 107, 108],\n",
    "    'Nombre': ['Ana', 'Carlos', 'Maria', 'Luis', 'Sofía', 'Juan', 'Laura', 'Pedro'],\n",
    "    'Email': ['ana@example.com', 'carlos@example.com', 'maria@example.com', 'luis@example.com', 'sofia@example.com', 'juan@example.com', 'laura@example.com', 'pedro@example.com']\n",
    "}\n",
    "\n",
    "pedidos_data = {\n",
    "    'PedidoID': [1, 2, 3, 4, 5, 6, 7, 8],\n",
    "    'ClienteID': [101, 102, 103, 104, 105, 106, 101, 108],\n",
    "    'ProductoID': [1, 2, 3, 4, 5, 1, 4, 3],\n",
    "    'Cantidad': [2, 1, 1, 3, 2, 1, 2, 2]\n",
    "}\n",
    "\n",
    "# Crear DataFrames\n",
    "productos_df = pd.DataFrame(productos_data)\n",
    "categorias_df = pd.DataFrame(categorias_data)\n",
    "clientes_df = pd.DataFrame(clientes_data)\n",
    "pedidos_df = pd.DataFrame(pedidos_data)"
   ]
  },
  {
   "cell_type": "code",
   "execution_count": 2,
   "id": "2adbc0b5",
   "metadata": {},
   "outputs": [],
   "source": [
    "# Guardar el DataFrame de Productos en un archivo CSV\n",
    "productos_df.to_csv(\"../data/productos.csv\", index=False)\n",
    "\n",
    "# Guardar el DataFrame de Categorías en un archivo CSV\n",
    "categorias_df.to_csv(\"../data/categorias.csv\", index=False)\n",
    "\n",
    "# Guardar el DataFrame de Clientes en un archivo CSV\n",
    "clientes_df.to_csv(\"../data/clientes.csv\", index=False)\n",
    "\n",
    "# Guardar el DataFrame de Pedidos en un archivo CSV\n",
    "pedidos_df.to_csv(\"../data/pedidos.csv\", index=False)"
   ]
  },
  {
   "cell_type": "code",
   "execution_count": null,
   "id": "63e4f6b5",
   "metadata": {},
   "outputs": [],
   "source": []
  }
 ],
 "metadata": {
  "kernelspec": {
   "display_name": "Python 3 (ipykernel)",
   "language": "python",
   "name": "python3"
  },
  "language_info": {
   "codemirror_mode": {
    "name": "ipython",
    "version": 3
   },
   "file_extension": ".py",
   "mimetype": "text/x-python",
   "name": "python",
   "nbconvert_exporter": "python",
   "pygments_lexer": "ipython3",
   "version": "3.9.13"
  }
 },
 "nbformat": 4,
 "nbformat_minor": 5
}
