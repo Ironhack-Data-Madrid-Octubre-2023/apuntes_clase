{
 "cells": [
  {
   "cell_type": "markdown",
   "id": "296c3fa2",
   "metadata": {},
   "source": [
    "# 4.1 - MongoDB\n",
    "\n",
    "![mongo](images/mongodb.jpeg)\n",
    "\n",
    "https://docs.mongodb.com/manual/administration/install-community/\n",
    "\n",
    "https://docs.mongodb.com/compass/current/install/\n",
    "\n",
    "MongoDB es una base de datos orientada a documentos. Esto quiere decir que en lugar de guardar los datos en registros, guarda los datos en documentos. Estos documentos son almacenados en BSON, que es una representación binaria de JSON.\n",
    "\n",
    "Una de las diferencias más importantes con respecto a las bases de datos relacionales, es que no es necesario seguir un esquema. Los documentos de una misma colección, concepto similar a una tabla de una base de datos relacional, pueden tener esquemas diferentes.\n"
   ]
  },
  {
   "cell_type": "code",
   "execution_count": null,
   "id": "d686b82b",
   "metadata": {},
   "outputs": [],
   "source": [
    "%pip install pymongo"
   ]
  },
  {
   "cell_type": "code",
   "execution_count": 1,
   "id": "b53f90eb",
   "metadata": {},
   "outputs": [],
   "source": [
    "from pymongo import MongoClient"
   ]
  },
  {
   "cell_type": "code",
   "execution_count": 2,
   "id": "87c2662e",
   "metadata": {},
   "outputs": [
    {
     "data": {
      "text/plain": [
       "MongoClient(host=['localhost:27017'], document_class=dict, tz_aware=False, connect=True)"
      ]
     },
     "execution_count": 2,
     "metadata": {},
     "output_type": "execute_result"
    }
   ],
   "source": [
    "cursor = MongoClient()   # no esta escrita la string de conexion\n",
    "\n",
    "cursor"
   ]
  },
  {
   "cell_type": "code",
   "execution_count": 3,
   "id": "0eff5667",
   "metadata": {},
   "outputs": [
    {
     "data": {
      "text/plain": [
       "MongoClient(host=['localhost:27017'], document_class=dict, tz_aware=False, connect=True)"
      ]
     },
     "execution_count": 3,
     "metadata": {},
     "output_type": "execute_result"
    }
   ],
   "source": [
    "str_conn = 'mongodb://localhost:27017'   # str_con por defecto\n",
    "\n",
    "cursor = MongoClient(str_conn)\n",
    "\n",
    "cursor"
   ]
  },
  {
   "cell_type": "code",
   "execution_count": 4,
   "id": "882a8427",
   "metadata": {},
   "outputs": [
    {
     "data": {
      "text/plain": [
       "['admin', 'comp', 'companies', 'config', 'ironcomes', 'local', 'quizzes']"
      ]
     },
     "execution_count": 4,
     "metadata": {},
     "output_type": "execute_result"
    }
   ],
   "source": [
    "cursor.list_database_names()"
   ]
  },
  {
   "cell_type": "code",
   "execution_count": 5,
   "id": "ae026dc9",
   "metadata": {},
   "outputs": [],
   "source": [
    "db = cursor.nueva_db     # crea una nueva base de datos"
   ]
  },
  {
   "cell_type": "code",
   "execution_count": 6,
   "id": "af4151db",
   "metadata": {},
   "outputs": [
    {
     "data": {
      "text/plain": [
       "['admin', 'comp', 'companies', 'config', 'ironcomes', 'local', 'quizzes']"
      ]
     },
     "execution_count": 6,
     "metadata": {},
     "output_type": "execute_result"
    }
   ],
   "source": [
    "cursor.list_database_names()"
   ]
  },
  {
   "cell_type": "code",
   "execution_count": 7,
   "id": "bc989056",
   "metadata": {},
   "outputs": [],
   "source": [
    "colec = db.n_colec    # nueva coleccion"
   ]
  },
  {
   "cell_type": "code",
   "execution_count": 8,
   "id": "85c8002d",
   "metadata": {},
   "outputs": [
    {
     "data": {
      "text/plain": [
       "[]"
      ]
     },
     "execution_count": 8,
     "metadata": {},
     "output_type": "execute_result"
    }
   ],
   "source": [
    "db.list_collection_names()"
   ]
  },
  {
   "cell_type": "code",
   "execution_count": 9,
   "id": "6afb0b69",
   "metadata": {},
   "outputs": [
    {
     "data": {
      "text/plain": [
       "{'nombre': 'Pepe', 'edad': 45, '4': [1, 2, 3, 4, 5]}"
      ]
     },
     "execution_count": 9,
     "metadata": {},
     "output_type": "execute_result"
    }
   ],
   "source": [
    "dictio = {'nombre': 'Pepe', 'edad': 45, '4': [1,2,3,4,5]}\n",
    "\n",
    "\n",
    "dictio"
   ]
  },
  {
   "cell_type": "code",
   "execution_count": 11,
   "id": "f4320811",
   "metadata": {},
   "outputs": [
    {
     "data": {
      "text/plain": [
       "<pymongo.results.InsertOneResult at 0x120723dc0>"
      ]
     },
     "execution_count": 11,
     "metadata": {},
     "output_type": "execute_result"
    }
   ],
   "source": [
    "colec.insert_one(dictio)"
   ]
  },
  {
   "cell_type": "code",
   "execution_count": 12,
   "id": "812407c3",
   "metadata": {},
   "outputs": [
    {
     "data": {
      "text/plain": [
       "['admin',\n",
       " 'comp',\n",
       " 'companies',\n",
       " 'config',\n",
       " 'ironcomes',\n",
       " 'local',\n",
       " 'nueva_db',\n",
       " 'quizzes']"
      ]
     },
     "execution_count": 12,
     "metadata": {},
     "output_type": "execute_result"
    }
   ],
   "source": [
    "cursor.list_database_names()"
   ]
  },
  {
   "cell_type": "code",
   "execution_count": 13,
   "id": "e54fc648",
   "metadata": {},
   "outputs": [
    {
     "data": {
      "text/plain": [
       "['n_colec']"
      ]
     },
     "execution_count": 13,
     "metadata": {},
     "output_type": "execute_result"
    }
   ],
   "source": [
    "db.list_collection_names()"
   ]
  },
  {
   "cell_type": "code",
   "execution_count": 17,
   "id": "0dcf515f",
   "metadata": {},
   "outputs": [
    {
     "data": {
      "text/plain": [
       "<pymongo.results.InsertOneResult at 0x1208645b0>"
      ]
     },
     "execution_count": 17,
     "metadata": {},
     "output_type": "execute_result"
    }
   ],
   "source": [
    "dictio = {'_id': 3, 'hola': 'hasta luego', 'altura': 0.39, 'que te pashhhahahha': 45}\n",
    "\n",
    "\n",
    "colec.insert_one(dictio)"
   ]
  },
  {
   "cell_type": "code",
   "execution_count": 19,
   "id": "51f1daf9",
   "metadata": {},
   "outputs": [
    {
     "data": {
      "text/plain": [
       "<pymongo.results.InsertManyResult at 0x120716b80>"
      ]
     },
     "execution_count": 19,
     "metadata": {},
     "output_type": "execute_result"
    }
   ],
   "source": [
    "# insertar varios\n",
    "\n",
    "# insert into colec (columnas) values (valores);\n",
    "\n",
    "json = [{'nombre': 'yo', 'edad': 39},\n",
    "        {'_id': 90, 'actividad': 'montaña', 'monte': 'jultayu'}]\n",
    "\n",
    "\n",
    "colec.insert_many(json)"
   ]
  },
  {
   "cell_type": "code",
   "execution_count": 22,
   "id": "45b50423",
   "metadata": {},
   "outputs": [
    {
     "data": {
      "text/plain": [
       "<pymongo.cursor.Cursor at 0x12130afa0>"
      ]
     },
     "execution_count": 22,
     "metadata": {},
     "output_type": "execute_result"
    }
   ],
   "source": [
    "# select * from colec;\n",
    "\n",
    "colec.find()"
   ]
  },
  {
   "cell_type": "code",
   "execution_count": 23,
   "id": "20e41237",
   "metadata": {},
   "outputs": [
    {
     "data": {
      "text/plain": [
       "[{'_id': ObjectId('653a1e9247a460b952558b97'),\n",
       "  'nombre': 'Pepe',\n",
       "  'edad': 45,\n",
       "  '4': [1, 2, 3, 4, 5]},\n",
       " {'_id': 0, 'hola': 'hasta luego', 'altura': 0.39, 'que te pashhhahahha': 45},\n",
       " {'_id': 1, 'hola': 'hasta luego', 'altura': 0.39, 'que te pashhhahahha': 45},\n",
       " {'_id': 3, 'hola': 'hasta luego', 'altura': 0.39, 'que te pashhhahahha': 45},\n",
       " {'_id': ObjectId('653a1f5c47a460b952558b98'), 'nombre': 'yo', 'edad': 39},\n",
       " {'_id': 90, 'actividad': 'montaña', 'monte': 'jultayu'}]"
      ]
     },
     "execution_count": 23,
     "metadata": {},
     "output_type": "execute_result"
    }
   ],
   "source": [
    "list(colec.find())"
   ]
  },
  {
   "cell_type": "code",
   "execution_count": 24,
   "id": "db7dc826",
   "metadata": {},
   "outputs": [],
   "source": [
    "res = list(colec.find())"
   ]
  },
  {
   "cell_type": "code",
   "execution_count": 26,
   "id": "ea05c168",
   "metadata": {},
   "outputs": [
    {
     "data": {
      "text/plain": [
       "'Pepe'"
      ]
     },
     "execution_count": 26,
     "metadata": {},
     "output_type": "execute_result"
    }
   ],
   "source": [
    "res[0]['nombre']"
   ]
  },
  {
   "cell_type": "code",
   "execution_count": 27,
   "id": "8a1cfde0",
   "metadata": {},
   "outputs": [
    {
     "data": {
      "text/html": [
       "<div>\n",
       "<style scoped>\n",
       "    .dataframe tbody tr th:only-of-type {\n",
       "        vertical-align: middle;\n",
       "    }\n",
       "\n",
       "    .dataframe tbody tr th {\n",
       "        vertical-align: top;\n",
       "    }\n",
       "\n",
       "    .dataframe thead th {\n",
       "        text-align: right;\n",
       "    }\n",
       "</style>\n",
       "<table border=\"1\" class=\"dataframe\">\n",
       "  <thead>\n",
       "    <tr style=\"text-align: right;\">\n",
       "      <th></th>\n",
       "      <th>_id</th>\n",
       "      <th>nombre</th>\n",
       "      <th>edad</th>\n",
       "      <th>4</th>\n",
       "      <th>hola</th>\n",
       "      <th>altura</th>\n",
       "      <th>que te pashhhahahha</th>\n",
       "      <th>actividad</th>\n",
       "      <th>monte</th>\n",
       "    </tr>\n",
       "  </thead>\n",
       "  <tbody>\n",
       "    <tr>\n",
       "      <th>0</th>\n",
       "      <td>653a1e9247a460b952558b97</td>\n",
       "      <td>Pepe</td>\n",
       "      <td>45.0</td>\n",
       "      <td>[1, 2, 3, 4, 5]</td>\n",
       "      <td>NaN</td>\n",
       "      <td>NaN</td>\n",
       "      <td>NaN</td>\n",
       "      <td>NaN</td>\n",
       "      <td>NaN</td>\n",
       "    </tr>\n",
       "    <tr>\n",
       "      <th>1</th>\n",
       "      <td>0</td>\n",
       "      <td>NaN</td>\n",
       "      <td>NaN</td>\n",
       "      <td>NaN</td>\n",
       "      <td>hasta luego</td>\n",
       "      <td>0.39</td>\n",
       "      <td>45.0</td>\n",
       "      <td>NaN</td>\n",
       "      <td>NaN</td>\n",
       "    </tr>\n",
       "    <tr>\n",
       "      <th>2</th>\n",
       "      <td>1</td>\n",
       "      <td>NaN</td>\n",
       "      <td>NaN</td>\n",
       "      <td>NaN</td>\n",
       "      <td>hasta luego</td>\n",
       "      <td>0.39</td>\n",
       "      <td>45.0</td>\n",
       "      <td>NaN</td>\n",
       "      <td>NaN</td>\n",
       "    </tr>\n",
       "    <tr>\n",
       "      <th>3</th>\n",
       "      <td>3</td>\n",
       "      <td>NaN</td>\n",
       "      <td>NaN</td>\n",
       "      <td>NaN</td>\n",
       "      <td>hasta luego</td>\n",
       "      <td>0.39</td>\n",
       "      <td>45.0</td>\n",
       "      <td>NaN</td>\n",
       "      <td>NaN</td>\n",
       "    </tr>\n",
       "    <tr>\n",
       "      <th>4</th>\n",
       "      <td>653a1f5c47a460b952558b98</td>\n",
       "      <td>yo</td>\n",
       "      <td>39.0</td>\n",
       "      <td>NaN</td>\n",
       "      <td>NaN</td>\n",
       "      <td>NaN</td>\n",
       "      <td>NaN</td>\n",
       "      <td>NaN</td>\n",
       "      <td>NaN</td>\n",
       "    </tr>\n",
       "    <tr>\n",
       "      <th>5</th>\n",
       "      <td>90</td>\n",
       "      <td>NaN</td>\n",
       "      <td>NaN</td>\n",
       "      <td>NaN</td>\n",
       "      <td>NaN</td>\n",
       "      <td>NaN</td>\n",
       "      <td>NaN</td>\n",
       "      <td>montaña</td>\n",
       "      <td>jultayu</td>\n",
       "    </tr>\n",
       "  </tbody>\n",
       "</table>\n",
       "</div>"
      ],
      "text/plain": [
       "                        _id nombre  edad                4         hola  \\\n",
       "0  653a1e9247a460b952558b97   Pepe  45.0  [1, 2, 3, 4, 5]          NaN   \n",
       "1                         0    NaN   NaN              NaN  hasta luego   \n",
       "2                         1    NaN   NaN              NaN  hasta luego   \n",
       "3                         3    NaN   NaN              NaN  hasta luego   \n",
       "4  653a1f5c47a460b952558b98     yo  39.0              NaN          NaN   \n",
       "5                        90    NaN   NaN              NaN          NaN   \n",
       "\n",
       "   altura  que te pashhhahahha actividad    monte  \n",
       "0     NaN                  NaN       NaN      NaN  \n",
       "1    0.39                 45.0       NaN      NaN  \n",
       "2    0.39                 45.0       NaN      NaN  \n",
       "3    0.39                 45.0       NaN      NaN  \n",
       "4     NaN                  NaN       NaN      NaN  \n",
       "5     NaN                  NaN   montaña  jultayu  "
      ]
     },
     "execution_count": 27,
     "metadata": {},
     "output_type": "execute_result"
    }
   ],
   "source": [
    "import pandas as pd\n",
    "\n",
    "pd.DataFrame(res)"
   ]
  },
  {
   "cell_type": "markdown",
   "id": "5cec891a",
   "metadata": {},
   "source": [
    "### Queries"
   ]
  },
  {
   "cell_type": "code",
   "execution_count": 28,
   "id": "308bdc0f",
   "metadata": {},
   "outputs": [
    {
     "data": {
      "text/plain": [
       "[{'_id': ObjectId('653a1e9247a460b952558b97'),\n",
       "  'nombre': 'Pepe',\n",
       "  'edad': 45,\n",
       "  '4': [1, 2, 3, 4, 5]},\n",
       " {'_id': 0, 'hola': 'hasta luego', 'altura': 0.39, 'que te pashhhahahha': 45},\n",
       " {'_id': 1, 'hola': 'hasta luego', 'altura': 0.39, 'que te pashhhahahha': 45},\n",
       " {'_id': 3, 'hola': 'hasta luego', 'altura': 0.39, 'que te pashhhahahha': 45},\n",
       " {'_id': ObjectId('653a1f5c47a460b952558b98'), 'nombre': 'yo', 'edad': 39},\n",
       " {'_id': 90, 'actividad': 'montaña', 'monte': 'jultayu'}]"
      ]
     },
     "execution_count": 28,
     "metadata": {},
     "output_type": "execute_result"
    }
   ],
   "source": [
    "# select * from colec;\n",
    "\n",
    "list(colec.find())"
   ]
  },
  {
   "cell_type": "code",
   "execution_count": 29,
   "id": "52107153",
   "metadata": {},
   "outputs": [
    {
     "data": {
      "text/plain": [
       "[{'_id': ObjectId('653a1f5c47a460b952558b98'), 'nombre': 'yo', 'edad': 39}]"
      ]
     },
     "execution_count": 29,
     "metadata": {},
     "output_type": "execute_result"
    }
   ],
   "source": [
    "# select * from colec where edad=39;\n",
    "\n",
    "\n",
    "query = {'edad': 39}\n",
    "\n",
    "\n",
    "list(colec.find(query))"
   ]
  },
  {
   "cell_type": "code",
   "execution_count": 30,
   "id": "dbfc33db",
   "metadata": {},
   "outputs": [
    {
     "data": {
      "text/plain": [
       "[{'_id': ObjectId('653a1e9247a460b952558b97'),\n",
       "  'nombre': 'Pepe',\n",
       "  'edad': 45,\n",
       "  '4': [1, 2, 3, 4, 5]},\n",
       " {'_id': ObjectId('653a1f5c47a460b952558b98'), 'nombre': 'yo', 'edad': 39}]"
      ]
     },
     "execution_count": 30,
     "metadata": {},
     "output_type": "execute_result"
    }
   ],
   "source": [
    "# select * from colec where edad>=39;\n",
    "\n",
    "\n",
    "query = {'edad': {'$gte': 39}}\n",
    "\n",
    "\n",
    "list(colec.find(query))"
   ]
  },
  {
   "cell_type": "code",
   "execution_count": 31,
   "id": "b2294eb5",
   "metadata": {},
   "outputs": [
    {
     "data": {
      "text/plain": [
       "[{'_id': ObjectId('653a1e9247a460b952558b97'),\n",
       "  'nombre': 'Pepe',\n",
       "  'edad': 45,\n",
       "  '4': [1, 2, 3, 4, 5]}]"
      ]
     },
     "execution_count": 31,
     "metadata": {},
     "output_type": "execute_result"
    }
   ],
   "source": [
    "# select * from colec where edad>39;\n",
    "\n",
    "\n",
    "query = {'edad': {'$gt': 39}}\n",
    "\n",
    "\n",
    "list(colec.find(query))"
   ]
  },
  {
   "cell_type": "code",
   "execution_count": 32,
   "id": "347ac0ff",
   "metadata": {},
   "outputs": [
    {
     "data": {
      "text/plain": [
       "[{'_id': ObjectId('653a1f5c47a460b952558b98'), 'nombre': 'yo', 'edad': 39}]"
      ]
     },
     "execution_count": 32,
     "metadata": {},
     "output_type": "execute_result"
    }
   ],
   "source": [
    "# select * from colec where edad<=39;\n",
    "\n",
    "\n",
    "query = {'edad': {'$lte': 39}}\n",
    "\n",
    "\n",
    "list(colec.find(query))"
   ]
  },
  {
   "cell_type": "code",
   "execution_count": 33,
   "id": "18f2b6d7",
   "metadata": {},
   "outputs": [
    {
     "data": {
      "text/plain": [
       "[]"
      ]
     },
     "execution_count": 33,
     "metadata": {},
     "output_type": "execute_result"
    }
   ],
   "source": [
    "# select * from colec where edad<39;\n",
    "\n",
    "\n",
    "query = {'edad': {'$lt': 39}}\n",
    "\n",
    "\n",
    "list(colec.find(query))"
   ]
  },
  {
   "cell_type": "code",
   "execution_count": 35,
   "id": "834043b6",
   "metadata": {},
   "outputs": [
    {
     "data": {
      "text/plain": [
       "[{'_id': ObjectId('653a1e9247a460b952558b97'),\n",
       "  'nombre': 'Pepe',\n",
       "  'edad': 45,\n",
       "  '4': [1, 2, 3, 4, 5]},\n",
       " {'_id': 0, 'hola': 'hasta luego', 'altura': 0.39, 'que te pashhhahahha': 45},\n",
       " {'_id': 1, 'hola': 'hasta luego', 'altura': 0.39, 'que te pashhhahahha': 45},\n",
       " {'_id': 3, 'hola': 'hasta luego', 'altura': 0.39, 'que te pashhhahahha': 45},\n",
       " {'_id': 90, 'actividad': 'montaña', 'monte': 'jultayu'}]"
      ]
     },
     "execution_count": 35,
     "metadata": {},
     "output_type": "execute_result"
    }
   ],
   "source": [
    "# select * from colec where edad!=39;\n",
    "\n",
    "\n",
    "query = {'edad': {'$ne': 39}}\n",
    "\n",
    "\n",
    "list(colec.find(query))"
   ]
  },
  {
   "cell_type": "code",
   "execution_count": 36,
   "id": "27846ebb",
   "metadata": {},
   "outputs": [
    {
     "data": {
      "text/plain": [
       "[{'_id': ObjectId('653a1f5c47a460b952558b98'), 'nombre': 'yo', 'edad': 39}]"
      ]
     },
     "execution_count": 36,
     "metadata": {},
     "output_type": "execute_result"
    }
   ],
   "source": [
    "# select * from colec where edad<40 and edad>24;\n",
    "# select * from colec where edad between (40, 24);\n",
    "\n",
    "\n",
    "query = {'$and': [{'edad': {'$lt': 40}},\n",
    "                  {'edad': {'$gt': 24}}\n",
    "                 ]}\n",
    "\n",
    "list(colec.find(query))"
   ]
  },
  {
   "cell_type": "code",
   "execution_count": 37,
   "id": "30414530",
   "metadata": {},
   "outputs": [
    {
     "data": {
      "text/plain": [
       "[{'_id': ObjectId('653a1e9247a460b952558b97'),\n",
       "  'nombre': 'Pepe',\n",
       "  'edad': 45,\n",
       "  '4': [1, 2, 3, 4, 5]},\n",
       " {'_id': ObjectId('653a1f5c47a460b952558b98'), 'nombre': 'yo', 'edad': 39}]"
      ]
     },
     "execution_count": 37,
     "metadata": {},
     "output_type": "execute_result"
    }
   ],
   "source": [
    "# select * from colec where edad<40 or edad>24;\n",
    "\n",
    "\n",
    "query = {'$or': [{'edad': {'$lt': 40}},\n",
    "                  {'edad': {'$gt': 24}}\n",
    "                 ]}\n",
    "\n",
    "list(colec.find(query))"
   ]
  },
  {
   "cell_type": "code",
   "execution_count": 38,
   "id": "0442338a",
   "metadata": {},
   "outputs": [
    {
     "data": {
      "text/html": [
       "<div>\n",
       "<style scoped>\n",
       "    .dataframe tbody tr th:only-of-type {\n",
       "        vertical-align: middle;\n",
       "    }\n",
       "\n",
       "    .dataframe tbody tr th {\n",
       "        vertical-align: top;\n",
       "    }\n",
       "\n",
       "    .dataframe thead th {\n",
       "        text-align: right;\n",
       "    }\n",
       "</style>\n",
       "<table border=\"1\" class=\"dataframe\">\n",
       "  <thead>\n",
       "    <tr style=\"text-align: right;\">\n",
       "      <th></th>\n",
       "      <th>_id</th>\n",
       "      <th>nombre</th>\n",
       "      <th>edad</th>\n",
       "      <th>4</th>\n",
       "    </tr>\n",
       "  </thead>\n",
       "  <tbody>\n",
       "    <tr>\n",
       "      <th>0</th>\n",
       "      <td>653a1e9247a460b952558b97</td>\n",
       "      <td>Pepe</td>\n",
       "      <td>45</td>\n",
       "      <td>[1, 2, 3, 4, 5]</td>\n",
       "    </tr>\n",
       "    <tr>\n",
       "      <th>1</th>\n",
       "      <td>653a1f5c47a460b952558b98</td>\n",
       "      <td>yo</td>\n",
       "      <td>39</td>\n",
       "      <td>NaN</td>\n",
       "    </tr>\n",
       "  </tbody>\n",
       "</table>\n",
       "</div>"
      ],
      "text/plain": [
       "                        _id nombre  edad                4\n",
       "0  653a1e9247a460b952558b97   Pepe    45  [1, 2, 3, 4, 5]\n",
       "1  653a1f5c47a460b952558b98     yo    39              NaN"
      ]
     },
     "execution_count": 38,
     "metadata": {},
     "output_type": "execute_result"
    }
   ],
   "source": [
    "pd.DataFrame(list(colec.find(query)))"
   ]
  },
  {
   "cell_type": "code",
   "execution_count": 42,
   "id": "dce6127a",
   "metadata": {},
   "outputs": [
    {
     "data": {
      "text/plain": [
       "[{'_id': ObjectId('653a1e9247a460b952558b97'),\n",
       "  'nombre': 'Pepe',\n",
       "  'edad': 45,\n",
       "  '4': [1, 2, 3, 4, 5]},\n",
       " {'_id': ObjectId('653a1f5c47a460b952558b98'),\n",
       "  'nombre': 'yo',\n",
       "  'edad': 39,\n",
       "  '4': nan}]"
      ]
     },
     "execution_count": 42,
     "metadata": {},
     "output_type": "execute_result"
    }
   ],
   "source": [
    "df = pd.DataFrame(list(colec.find(query)))\n",
    "\n",
    "df.to_dict(orient='records')"
   ]
  },
  {
   "cell_type": "code",
   "execution_count": 45,
   "id": "cb1b6794",
   "metadata": {},
   "outputs": [
    {
     "data": {
      "text/plain": [
       "<pymongo.results.InsertManyResult at 0x12130a490>"
      ]
     },
     "execution_count": 45,
     "metadata": {},
     "output_type": "execute_result"
    }
   ],
   "source": [
    "n_colec = db.colec2\n",
    "\n",
    "n_colec.insert_many(df.to_dict(orient='records'))"
   ]
  },
  {
   "cell_type": "code",
   "execution_count": 47,
   "id": "bd5b3f2d",
   "metadata": {},
   "outputs": [
    {
     "data": {
      "text/plain": [
       "[{'_id': ObjectId('653a1e9247a460b952558b97'),\n",
       "  'nombre': 'Pepe',\n",
       "  'edad': 45,\n",
       "  '4': [1, 2, 3, 4, 5]}]"
      ]
     },
     "execution_count": 47,
     "metadata": {},
     "output_type": "execute_result"
    }
   ],
   "source": [
    "# select * from colec where edad!=38 limit 2;\n",
    "\n",
    "\n",
    "query = {'edad': {'$ne': 38}}\n",
    "\n",
    "\n",
    "list(colec.find(query).limit(1))"
   ]
  },
  {
   "cell_type": "code",
   "execution_count": 50,
   "id": "509215c5",
   "metadata": {},
   "outputs": [
    {
     "data": {
      "text/plain": [
       "[{'_id': ObjectId('653a1e9247a460b952558b97'),\n",
       "  'nombre': 'Pepe',\n",
       "  'edad': 45,\n",
       "  '4': [1, 2, 3, 4, 5]},\n",
       " {'_id': ObjectId('653a1f5c47a460b952558b98'), 'nombre': 'yo', 'edad': 39},\n",
       " {'_id': 1, 'hola': 'hasta luego', 'altura': 0.39, 'que te pashhhahahha': 45}]"
      ]
     },
     "execution_count": 50,
     "metadata": {},
     "output_type": "execute_result"
    }
   ],
   "source": [
    "# select * from colec where edad!=38 order by edad desc limit 3;\n",
    "\n",
    "\n",
    "query = {'edad': {'$ne': 38}}\n",
    "\n",
    "\n",
    "list(colec.find(query).sort('edad', -1).limit(3))    # -1 = desc , 1 = asc"
   ]
  },
  {
   "cell_type": "code",
   "execution_count": 52,
   "id": "e1e5d4a9",
   "metadata": {},
   "outputs": [
    {
     "data": {
      "text/plain": [
       "<pymongo.results.UpdateResult at 0x1412fe970>"
      ]
     },
     "execution_count": 52,
     "metadata": {},
     "output_type": "execute_result"
    }
   ],
   "source": [
    "# actualizar\n",
    "\n",
    "colec.update_one({'_id': 1}, {'$set': {'id': 8953}})"
   ]
  },
  {
   "cell_type": "code",
   "execution_count": 53,
   "id": "3596c61e",
   "metadata": {},
   "outputs": [
    {
     "data": {
      "text/plain": [
       "[{'_id': ObjectId('653a1e9247a460b952558b97'),\n",
       "  'nombre': 'Pepe',\n",
       "  'edad': 45,\n",
       "  '4': [1, 2, 3, 4, 5]},\n",
       " {'_id': 0, 'hola': 'hasta luego', 'altura': 0.39, 'que te pashhhahahha': 45},\n",
       " {'_id': 1,\n",
       "  'hola': 'hasta luego',\n",
       "  'altura': 0.39,\n",
       "  'que te pashhhahahha': 45,\n",
       "  'id': 8953},\n",
       " {'_id': 3, 'hola': 'hasta luego', 'altura': 0.39, 'que te pashhhahahha': 45},\n",
       " {'_id': ObjectId('653a1f5c47a460b952558b98'), 'nombre': 'yo', 'edad': 39},\n",
       " {'_id': 90, 'actividad': 'montaña', 'monte': 'jultayu'}]"
      ]
     },
     "execution_count": 53,
     "metadata": {},
     "output_type": "execute_result"
    }
   ],
   "source": [
    "list(colec.find())"
   ]
  },
  {
   "cell_type": "code",
   "execution_count": 56,
   "id": "d3462603",
   "metadata": {},
   "outputs": [
    {
     "data": {
      "text/plain": [
       "<pymongo.results.UpdateResult at 0x1415a6c40>"
      ]
     },
     "execution_count": 56,
     "metadata": {},
     "output_type": "execute_result"
    }
   ],
   "source": [
    "colec.update_many({'altura': 0.39}, {'$set': {'nombre': 'Ford Farlaine'}})"
   ]
  },
  {
   "cell_type": "code",
   "execution_count": 57,
   "id": "bb1ec1ca",
   "metadata": {
    "scrolled": false
   },
   "outputs": [
    {
     "data": {
      "text/plain": [
       "[{'_id': ObjectId('653a1e9247a460b952558b97'),\n",
       "  'nombre': 'Pepe',\n",
       "  'edad': 45,\n",
       "  '4': [1, 2, 3, 4, 5]},\n",
       " {'_id': 0,\n",
       "  'hola': 'hasta luego',\n",
       "  'altura': 0.39,\n",
       "  'que te pashhhahahha': 45,\n",
       "  'nombre': 'Ford Farlaine'},\n",
       " {'_id': 1,\n",
       "  'hola': 'hasta luego',\n",
       "  'altura': 0.39,\n",
       "  'que te pashhhahahha': 45,\n",
       "  'id': 8953,\n",
       "  'nombre': 'Ford Farlaine'},\n",
       " {'_id': 3,\n",
       "  'hola': 'hasta luego',\n",
       "  'altura': 0.39,\n",
       "  'que te pashhhahahha': 45,\n",
       "  'nombre': 'Ford Farlaine'},\n",
       " {'_id': ObjectId('653a1f5c47a460b952558b98'), 'nombre': 'yo', 'edad': 39},\n",
       " {'_id': 90, 'actividad': 'montaña', 'monte': 'jultayu'}]"
      ]
     },
     "execution_count": 57,
     "metadata": {},
     "output_type": "execute_result"
    }
   ],
   "source": [
    "list(colec.find())"
   ]
  },
  {
   "cell_type": "code",
   "execution_count": 59,
   "id": "5acb8754",
   "metadata": {},
   "outputs": [],
   "source": [
    "#colec.insert_one({'_id': 0, 'hola': 4})"
   ]
  },
  {
   "cell_type": "code",
   "execution_count": 66,
   "id": "5e8b0e07",
   "metadata": {},
   "outputs": [
    {
     "data": {
      "text/plain": [
       "[{'edad': 39}]"
      ]
     },
     "execution_count": 66,
     "metadata": {},
     "output_type": "execute_result"
    }
   ],
   "source": [
    "# select nombre, edad from colec where edad=39;\n",
    "\n",
    "\n",
    "query = {'edad': 39}\n",
    "\n",
    "\n",
    "select = {'_id':False, 'edad': 1}  # 0 es que no venga, 1 es que venga, es para columnas\n",
    "\n",
    "\n",
    "list(colec.find(query, select))"
   ]
  },
  {
   "cell_type": "code",
   "execution_count": 67,
   "id": "0d184896",
   "metadata": {},
   "outputs": [
    {
     "data": {
      "text/plain": [
       "<pymongo.results.DeleteResult at 0x1415a64f0>"
      ]
     },
     "execution_count": 67,
     "metadata": {},
     "output_type": "execute_result"
    }
   ],
   "source": [
    "# delete from colec where _id=0;\n",
    "\n",
    "\n",
    "colec.delete_one({'_id': 0})"
   ]
  },
  {
   "cell_type": "code",
   "execution_count": 68,
   "id": "d2e6184f",
   "metadata": {},
   "outputs": [
    {
     "data": {
      "text/plain": [
       "[{'_id': ObjectId('653a1e9247a460b952558b97'),\n",
       "  'nombre': 'Pepe',\n",
       "  'edad': 45,\n",
       "  '4': [1, 2, 3, 4, 5]},\n",
       " {'_id': 1,\n",
       "  'hola': 'hasta luego',\n",
       "  'altura': 0.39,\n",
       "  'que te pashhhahahha': 45,\n",
       "  'id': 8953,\n",
       "  'nombre': 'Ford Farlaine'},\n",
       " {'_id': 3,\n",
       "  'hola': 'hasta luego',\n",
       "  'altura': 0.39,\n",
       "  'que te pashhhahahha': 45,\n",
       "  'nombre': 'Ford Farlaine'},\n",
       " {'_id': ObjectId('653a1f5c47a460b952558b98'), 'nombre': 'yo', 'edad': 39},\n",
       " {'_id': 90, 'actividad': 'montaña', 'monte': 'jultayu'}]"
      ]
     },
     "execution_count": 68,
     "metadata": {},
     "output_type": "execute_result"
    }
   ],
   "source": [
    "list(colec.find())"
   ]
  },
  {
   "cell_type": "code",
   "execution_count": 69,
   "id": "0993fa7f",
   "metadata": {},
   "outputs": [
    {
     "data": {
      "text/plain": [
       "<pymongo.results.DeleteResult at 0x14159fb80>"
      ]
     },
     "execution_count": 69,
     "metadata": {},
     "output_type": "execute_result"
    }
   ],
   "source": [
    "# delete from colec where nombre=yo;\n",
    "\n",
    "colec.delete_one({'nombre': 'yo'})"
   ]
  },
  {
   "cell_type": "code",
   "execution_count": 70,
   "id": "c1af28f0",
   "metadata": {},
   "outputs": [
    {
     "data": {
      "text/plain": [
       "[]"
      ]
     },
     "execution_count": 70,
     "metadata": {},
     "output_type": "execute_result"
    }
   ],
   "source": [
    "list(colec.find({'nombre': 'yo'}))"
   ]
  },
  {
   "cell_type": "code",
   "execution_count": 71,
   "id": "15718481",
   "metadata": {},
   "outputs": [
    {
     "data": {
      "text/plain": [
       "[{'_id': '', 'count': 4}]"
      ]
     },
     "execution_count": 71,
     "metadata": {},
     "output_type": "execute_result"
    }
   ],
   "source": [
    "# select count(*) from colec group by _id;     #por cada id suma 1\n",
    "\n",
    "list(colec.aggregate([{'$group': {'_id': '', \n",
    "                                  'count': {'$sum': \n",
    "                                            1}}}]))"
   ]
  },
  {
   "cell_type": "code",
   "execution_count": 72,
   "id": "35374c44",
   "metadata": {},
   "outputs": [],
   "source": [
    "colec.drop()"
   ]
  },
  {
   "cell_type": "code",
   "execution_count": 73,
   "id": "5a4da47d",
   "metadata": {},
   "outputs": [
    {
     "data": {
      "text/plain": [
       "['colec2']"
      ]
     },
     "execution_count": 73,
     "metadata": {},
     "output_type": "execute_result"
    }
   ],
   "source": [
    "db.list_collection_names()"
   ]
  },
  {
   "cell_type": "code",
   "execution_count": 75,
   "id": "4ac8e50c",
   "metadata": {},
   "outputs": [
    {
     "data": {
      "text/plain": [
       "[]"
      ]
     },
     "execution_count": 75,
     "metadata": {},
     "output_type": "execute_result"
    }
   ],
   "source": [
    "n_colec.drop()\n",
    "\n",
    "db.list_collection_names()"
   ]
  },
  {
   "cell_type": "code",
   "execution_count": 76,
   "id": "b398f387",
   "metadata": {},
   "outputs": [
    {
     "data": {
      "text/plain": [
       "['admin', 'comp', 'companies', 'config', 'ironcomes', 'local', 'quizzes']"
      ]
     },
     "execution_count": 76,
     "metadata": {},
     "output_type": "execute_result"
    }
   ],
   "source": [
    "cursor.list_database_names()"
   ]
  },
  {
   "cell_type": "markdown",
   "id": "be3cedee",
   "metadata": {},
   "source": [
    "### DB Companies"
   ]
  },
  {
   "cell_type": "code",
   "execution_count": 77,
   "id": "501d1ab6",
   "metadata": {},
   "outputs": [
    {
     "data": {
      "text/plain": [
       "MongoClient(host=['localhost:27017'], document_class=dict, tz_aware=False, connect=True)"
      ]
     },
     "execution_count": 77,
     "metadata": {},
     "output_type": "execute_result"
    }
   ],
   "source": [
    "cursor"
   ]
  },
  {
   "cell_type": "code",
   "execution_count": 78,
   "id": "03fe7510",
   "metadata": {},
   "outputs": [],
   "source": [
    "db = cursor.companies"
   ]
  },
  {
   "cell_type": "code",
   "execution_count": 79,
   "id": "96a82439",
   "metadata": {
    "scrolled": false
   },
   "outputs": [],
   "source": [
    "colec = db.coleccion"
   ]
  },
  {
   "cell_type": "code",
   "execution_count": 82,
   "id": "d163257f",
   "metadata": {
    "scrolled": false
   },
   "outputs": [
    {
     "data": {
      "text/plain": [
       "dict_keys(['_id', 'name', 'permalink', 'crunchbase_url', 'homepage_url', 'blog_url', 'blog_feed_url', 'twitter_username', 'category_code', 'number_of_employees', 'founded_year', 'founded_month', 'founded_day', 'deadpooled_year', 'tag_list', 'alias_list', 'email_address', 'phone_number', 'description', 'created_at', 'updated_at', 'overview', 'image', 'products', 'relationships', 'competitions', 'providerships', 'total_money_raised', 'funding_rounds', 'investments', 'acquisition', 'acquisitions', 'offices', 'milestones', 'video_embeds', 'screenshots', 'external_links', 'partners'])"
      ]
     },
     "execution_count": 82,
     "metadata": {},
     "output_type": "execute_result"
    }
   ],
   "source": [
    "res = colec.find().limit(1)\n",
    "\n",
    "list(res)[0].keys()"
   ]
  },
  {
   "cell_type": "code",
   "execution_count": 83,
   "id": "39053424",
   "metadata": {},
   "outputs": [
    {
     "data": {
      "text/plain": [
       "[{'name': 'Wetpaint', 'category_code': 'web'},\n",
       " {'name': 'Postini', 'category_code': 'web'},\n",
       " {'name': 'Geni', 'category_code': 'web'},\n",
       " {'name': 'Fox Interactive Media', 'category_code': 'web'},\n",
       " {'name': 'StumbleUpon', 'category_code': 'web'},\n",
       " {'name': 'Gizmoz', 'category_code': 'web'},\n",
       " {'name': 'eBay', 'category_code': 'web'},\n",
       " {'name': 'Viacom', 'category_code': 'web'},\n",
       " {'name': 'Plaxo', 'category_code': 'web'},\n",
       " {'name': 'Yahoo!', 'category_code': 'web'}]"
      ]
     },
     "execution_count": 83,
     "metadata": {},
     "output_type": "execute_result"
    }
   ],
   "source": [
    "# select name, category_code from colec \n",
    "# where category_code in ('web', 'ecommerce') limit 10;\n",
    "\n",
    "\n",
    "\n",
    "# por \"filas\", dame los registros con estos category_code\n",
    "\n",
    "query = {'$or': [{'category_code': 'web'},\n",
    "                 {'category_code': 'ecommerce'}]}\n",
    "\n",
    "\n",
    "# por columnas, dame solo las dos columnas\n",
    "select={'name': True, 'category_code': True, '_id': False}\n",
    "\n",
    "\n",
    "res = colec.find(query, select).limit(10)\n",
    "\n",
    "list(res)\n"
   ]
  },
  {
   "cell_type": "code",
   "execution_count": 90,
   "id": "2e4f4e5c",
   "metadata": {},
   "outputs": [
    {
     "data": {
      "text/plain": [
       "[{'name': 'StumbleUpon', 'founded_year': 2002},\n",
       " {'name': 'Plaxo', 'founded_year': 2002},\n",
       " {'name': 'Meetup', 'founded_year': 2002},\n",
       " {'name': 'Topix', 'founded_year': 2002},\n",
       " {'name': 'Steorn', 'founded_year': 2000},\n",
       " {'name': 'TechnologyGuide', 'founded_year': 2001},\n",
       " {'name': 'Cerado', 'founded_year': 2002},\n",
       " {'name': 'Sulake', 'founded_year': 2000},\n",
       " {'name': 'SuicideGirls', 'founded_year': 2001},\n",
       " {'name': 'BitPass', 'founded_year': 2002}]"
      ]
     },
     "execution_count": 90,
     "metadata": {},
     "output_type": "execute_result"
    }
   ],
   "source": [
    "# select founded_year, name \n",
    "# from colec where category_code=web and founded_year<=2002 limit 10;\n",
    "\n",
    "\n",
    "# por \"filas\", dame los registros con estos category_code\n",
    "\n",
    "query = {'$and': [{'category_code': 'web'},\n",
    "                  {'founded_year': {'$lte': 2002}},\n",
    "                  {'founded_year': {'$gte': 2000}}]}\n",
    "\n",
    "\n",
    "# por columnas, dame solo las dos columnas\n",
    "select={'name': 1, 'founded_year': 1, '_id': 0}\n",
    "\n",
    "\n",
    "res = list(colec.find(query, select).limit(10))\n",
    "\n",
    "res"
   ]
  },
  {
   "cell_type": "code",
   "execution_count": 91,
   "id": "fabc68ba",
   "metadata": {},
   "outputs": [
    {
     "data": {
      "text/html": [
       "<div>\n",
       "<style scoped>\n",
       "    .dataframe tbody tr th:only-of-type {\n",
       "        vertical-align: middle;\n",
       "    }\n",
       "\n",
       "    .dataframe tbody tr th {\n",
       "        vertical-align: top;\n",
       "    }\n",
       "\n",
       "    .dataframe thead th {\n",
       "        text-align: right;\n",
       "    }\n",
       "</style>\n",
       "<table border=\"1\" class=\"dataframe\">\n",
       "  <thead>\n",
       "    <tr style=\"text-align: right;\">\n",
       "      <th></th>\n",
       "      <th>name</th>\n",
       "      <th>founded_year</th>\n",
       "    </tr>\n",
       "  </thead>\n",
       "  <tbody>\n",
       "    <tr>\n",
       "      <th>0</th>\n",
       "      <td>StumbleUpon</td>\n",
       "      <td>2002</td>\n",
       "    </tr>\n",
       "    <tr>\n",
       "      <th>1</th>\n",
       "      <td>Plaxo</td>\n",
       "      <td>2002</td>\n",
       "    </tr>\n",
       "    <tr>\n",
       "      <th>2</th>\n",
       "      <td>Meetup</td>\n",
       "      <td>2002</td>\n",
       "    </tr>\n",
       "    <tr>\n",
       "      <th>3</th>\n",
       "      <td>Topix</td>\n",
       "      <td>2002</td>\n",
       "    </tr>\n",
       "    <tr>\n",
       "      <th>4</th>\n",
       "      <td>Steorn</td>\n",
       "      <td>2000</td>\n",
       "    </tr>\n",
       "    <tr>\n",
       "      <th>5</th>\n",
       "      <td>TechnologyGuide</td>\n",
       "      <td>2001</td>\n",
       "    </tr>\n",
       "    <tr>\n",
       "      <th>6</th>\n",
       "      <td>Cerado</td>\n",
       "      <td>2002</td>\n",
       "    </tr>\n",
       "    <tr>\n",
       "      <th>7</th>\n",
       "      <td>Sulake</td>\n",
       "      <td>2000</td>\n",
       "    </tr>\n",
       "    <tr>\n",
       "      <th>8</th>\n",
       "      <td>SuicideGirls</td>\n",
       "      <td>2001</td>\n",
       "    </tr>\n",
       "    <tr>\n",
       "      <th>9</th>\n",
       "      <td>BitPass</td>\n",
       "      <td>2002</td>\n",
       "    </tr>\n",
       "  </tbody>\n",
       "</table>\n",
       "</div>"
      ],
      "text/plain": [
       "              name  founded_year\n",
       "0      StumbleUpon          2002\n",
       "1            Plaxo          2002\n",
       "2           Meetup          2002\n",
       "3            Topix          2002\n",
       "4           Steorn          2000\n",
       "5  TechnologyGuide          2001\n",
       "6           Cerado          2002\n",
       "7           Sulake          2000\n",
       "8     SuicideGirls          2001\n",
       "9          BitPass          2002"
      ]
     },
     "execution_count": 91,
     "metadata": {},
     "output_type": "execute_result"
    }
   ],
   "source": [
    "df = pd.DataFrame(res)\n",
    "\n",
    "df"
   ]
  },
  {
   "cell_type": "code",
   "execution_count": 92,
   "id": "e457d14d",
   "metadata": {},
   "outputs": [
    {
     "data": {
      "text/plain": [
       "[{'name': 'Facebook', 'founded_year': 2004},\n",
       " {'name': 'WeGame', 'founded_year': 1840}]"
      ]
     },
     "execution_count": 92,
     "metadata": {},
     "output_type": "execute_result"
    }
   ],
   "source": [
    "# select name, category_code, founded_year \n",
    "# from colec where name in ('WeGame', 'Facebook');\n",
    "\n",
    "query = {'name': {'$in': ['WeGame', 'Facebook']}}\n",
    "\n",
    "\n",
    "select={'name': 1, 'founded_year': 1, '_id': 0}\n",
    "\n",
    "\n",
    "res = list(colec.find(query, select).limit(10))\n",
    "\n",
    "res"
   ]
  },
  {
   "cell_type": "code",
   "execution_count": 97,
   "id": "1a1c4741",
   "metadata": {},
   "outputs": [
    {
     "data": {
      "text/plain": [
       "[{'name': 'Facebook', 'category_code': 'social', 'founded_year': 2004},\n",
       " {'name': 'FaceTec', 'category_code': 'software', 'founded_year': 2002},\n",
       " {'name': 'Face Your Manga', 'category_code': 'web', 'founded_year': None},\n",
       " {'name': 'Facebookster',\n",
       "  'category_code': 'public_relations',\n",
       "  'founded_year': 2003},\n",
       " {'name': 'Facebook Causes Application',\n",
       "  'category_code': None,\n",
       "  'founded_year': None},\n",
       " {'name': 'FaceKoo', 'category_code': 'network_hosting', 'founded_year': 2008},\n",
       " {'name': 'facetime', 'category_code': None, 'founded_year': None},\n",
       " {'name': 'facelovefinder', 'category_code': 'web', 'founded_year': 2009},\n",
       " {'name': 'FacebookLicious!',\n",
       "  'category_code': 'games_video',\n",
       "  'founded_year': 2007},\n",
       " {'name': 'FaceTime Strategy',\n",
       "  'category_code': 'public_relations',\n",
       "  'founded_year': None}]"
      ]
     },
     "execution_count": 97,
     "metadata": {},
     "output_type": "execute_result"
    }
   ],
   "source": [
    "# select name, category_code, founded_year \n",
    "# from colec where name like 'Face%'; \n",
    "\n",
    "\n",
    "query = {'name': {'$regex': '^[Ff]ace'}}\n",
    "\n",
    "# por columnas, dame solo lass dos columnas\n",
    "filtro={'name': True, 'founded_year': True, 'category_code': True, '_id': False}\n",
    "\n",
    "\n",
    "\n",
    "list(colec.find(query, filtro).limit(10))"
   ]
  },
  {
   "cell_type": "markdown",
   "id": "3a5a081e",
   "metadata": {},
   "source": [
    "### Geoqueries"
   ]
  },
  {
   "cell_type": "code",
   "execution_count": 98,
   "id": "fc1ac2f4",
   "metadata": {},
   "outputs": [],
   "source": [
    "# documentos que contengan oficinas, devuelve solo el nombre y el array de oficinas\n",
    "\n",
    "query={'offices': {'$not': {'$size': 0}}}\n",
    "\n",
    "filtro={'_id': 0, 'name': 1, 'offices': 1}\n",
    "\n",
    "ofi=colec.find(query, filtro)\n",
    "\n"
   ]
  },
  {
   "cell_type": "code",
   "execution_count": 99,
   "id": "fda7a05e",
   "metadata": {},
   "outputs": [
    {
     "data": {
      "text/html": [
       "<div>\n",
       "<style scoped>\n",
       "    .dataframe tbody tr th:only-of-type {\n",
       "        vertical-align: middle;\n",
       "    }\n",
       "\n",
       "    .dataframe tbody tr th {\n",
       "        vertical-align: top;\n",
       "    }\n",
       "\n",
       "    .dataframe thead th {\n",
       "        text-align: right;\n",
       "    }\n",
       "</style>\n",
       "<table border=\"1\" class=\"dataframe\">\n",
       "  <thead>\n",
       "    <tr style=\"text-align: right;\">\n",
       "      <th></th>\n",
       "      <th>name</th>\n",
       "      <th>offices</th>\n",
       "    </tr>\n",
       "  </thead>\n",
       "  <tbody>\n",
       "    <tr>\n",
       "      <th>0</th>\n",
       "      <td>Wetpaint</td>\n",
       "      <td>[{'description': '', 'address1': '710 - 2nd Av...</td>\n",
       "    </tr>\n",
       "    <tr>\n",
       "      <th>1</th>\n",
       "      <td>AdventNet</td>\n",
       "      <td>[{'description': 'Headquarters', 'address1': '...</td>\n",
       "    </tr>\n",
       "    <tr>\n",
       "      <th>2</th>\n",
       "      <td>Zoho</td>\n",
       "      <td>[{'description': 'Headquarters', 'address1': '...</td>\n",
       "    </tr>\n",
       "    <tr>\n",
       "      <th>3</th>\n",
       "      <td>Digg</td>\n",
       "      <td>[{'description': None, 'address1': '135 Missis...</td>\n",
       "    </tr>\n",
       "    <tr>\n",
       "      <th>4</th>\n",
       "      <td>Facebook</td>\n",
       "      <td>[{'description': 'Headquarters', 'address1': '...</td>\n",
       "    </tr>\n",
       "  </tbody>\n",
       "</table>\n",
       "</div>"
      ],
      "text/plain": [
       "        name                                            offices\n",
       "0   Wetpaint  [{'description': '', 'address1': '710 - 2nd Av...\n",
       "1  AdventNet  [{'description': 'Headquarters', 'address1': '...\n",
       "2       Zoho  [{'description': 'Headquarters', 'address1': '...\n",
       "3       Digg  [{'description': None, 'address1': '135 Missis...\n",
       "4   Facebook  [{'description': 'Headquarters', 'address1': '..."
      ]
     },
     "execution_count": 99,
     "metadata": {},
     "output_type": "execute_result"
    }
   ],
   "source": [
    "df = pd.DataFrame(ofi)\n",
    "\n",
    "\n",
    "df=df.dropna()\n",
    "\n",
    "\n",
    "df.head()"
   ]
  },
  {
   "cell_type": "code",
   "execution_count": 100,
   "id": "4b6ea2d9",
   "metadata": {},
   "outputs": [
    {
     "data": {
      "text/plain": [
       "[{'description': '',\n",
       "  'address1': '710 - 2nd Avenue',\n",
       "  'address2': 'Suite 1100',\n",
       "  'zip_code': '98104',\n",
       "  'city': 'Seattle',\n",
       "  'state_code': 'WA',\n",
       "  'country_code': 'USA',\n",
       "  'latitude': 47.603122,\n",
       "  'longitude': -122.333253},\n",
       " {'description': '',\n",
       "  'address1': '270 Lafayette Street',\n",
       "  'address2': 'Suite 505',\n",
       "  'zip_code': '10012',\n",
       "  'city': 'New York',\n",
       "  'state_code': 'NY',\n",
       "  'country_code': 'USA',\n",
       "  'latitude': 40.7237306,\n",
       "  'longitude': -73.9964312}]"
      ]
     },
     "execution_count": 100,
     "metadata": {},
     "output_type": "execute_result"
    }
   ],
   "source": [
    "df.offices[0]"
   ]
  },
  {
   "cell_type": "code",
   "execution_count": 101,
   "id": "ca153d3d",
   "metadata": {},
   "outputs": [],
   "source": [
    "# extraer la primera oficina y crear geopunto\n",
    "\n",
    "\n",
    "def get_first(data):\n",
    "    \n",
    "    data=data.offices\n",
    "    \n",
    "    principal=None\n",
    "    \n",
    "    \n",
    "    if data[0]['latitude'] and data[0]['longitude']:\n",
    "        \n",
    "        principal = {'type': 'Point',\n",
    "                     'coordinates': [data[0]['longitude'],\n",
    "                                     data[0]['latitude']]}\n",
    "        \n",
    "        \n",
    "    return {'total_offices': len(data),\n",
    "            'lat': data[0]['latitude'],\n",
    "            'lng': data[0]['longitude'],\n",
    "            'principal': principal}\n",
    "    "
   ]
  },
  {
   "cell_type": "code",
   "execution_count": 102,
   "id": "79428353",
   "metadata": {},
   "outputs": [
    {
     "data": {
      "text/html": [
       "<div>\n",
       "<style scoped>\n",
       "    .dataframe tbody tr th:only-of-type {\n",
       "        vertical-align: middle;\n",
       "    }\n",
       "\n",
       "    .dataframe tbody tr th {\n",
       "        vertical-align: top;\n",
       "    }\n",
       "\n",
       "    .dataframe thead th {\n",
       "        text-align: right;\n",
       "    }\n",
       "</style>\n",
       "<table border=\"1\" class=\"dataframe\">\n",
       "  <thead>\n",
       "    <tr style=\"text-align: right;\">\n",
       "      <th></th>\n",
       "      <th>total_offices</th>\n",
       "      <th>lat</th>\n",
       "      <th>lng</th>\n",
       "      <th>principal</th>\n",
       "    </tr>\n",
       "  </thead>\n",
       "  <tbody>\n",
       "    <tr>\n",
       "      <th>0</th>\n",
       "      <td>2.0</td>\n",
       "      <td>47.603122</td>\n",
       "      <td>-122.333253</td>\n",
       "      <td>{'type': 'Point', 'coordinates': [-122.333253,...</td>\n",
       "    </tr>\n",
       "    <tr>\n",
       "      <th>1</th>\n",
       "      <td>1.0</td>\n",
       "      <td>37.692934</td>\n",
       "      <td>-121.904945</td>\n",
       "      <td>{'type': 'Point', 'coordinates': [-121.904945,...</td>\n",
       "    </tr>\n",
       "    <tr>\n",
       "      <th>2</th>\n",
       "      <td>1.0</td>\n",
       "      <td>37.692934</td>\n",
       "      <td>-121.904945</td>\n",
       "      <td>{'type': 'Point', 'coordinates': [-121.904945,...</td>\n",
       "    </tr>\n",
       "    <tr>\n",
       "      <th>3</th>\n",
       "      <td>1.0</td>\n",
       "      <td>37.764726</td>\n",
       "      <td>-122.394523</td>\n",
       "      <td>{'type': 'Point', 'coordinates': [-122.394523,...</td>\n",
       "    </tr>\n",
       "    <tr>\n",
       "      <th>4</th>\n",
       "      <td>3.0</td>\n",
       "      <td>37.416050</td>\n",
       "      <td>-122.151801</td>\n",
       "      <td>{'type': 'Point', 'coordinates': [-122.151801,...</td>\n",
       "    </tr>\n",
       "  </tbody>\n",
       "</table>\n",
       "</div>"
      ],
      "text/plain": [
       "   total_offices        lat         lng  \\\n",
       "0            2.0  47.603122 -122.333253   \n",
       "1            1.0  37.692934 -121.904945   \n",
       "2            1.0  37.692934 -121.904945   \n",
       "3            1.0  37.764726 -122.394523   \n",
       "4            3.0  37.416050 -122.151801   \n",
       "\n",
       "                                           principal  \n",
       "0  {'type': 'Point', 'coordinates': [-122.333253,...  \n",
       "1  {'type': 'Point', 'coordinates': [-121.904945,...  \n",
       "2  {'type': 'Point', 'coordinates': [-121.904945,...  \n",
       "3  {'type': 'Point', 'coordinates': [-122.394523,...  \n",
       "4  {'type': 'Point', 'coordinates': [-122.151801,...  "
      ]
     },
     "execution_count": 102,
     "metadata": {},
     "output_type": "execute_result"
    }
   ],
   "source": [
    "first_office = df[['offices']].apply(get_first, result_type='expand', axis=1)\n",
    "\n",
    "first_office.head()"
   ]
  },
  {
   "cell_type": "code",
   "execution_count": 104,
   "id": "ba9dd4bc",
   "metadata": {},
   "outputs": [
    {
     "data": {
      "text/plain": [
       "0     Wetpaint\n",
       "1    AdventNet\n",
       "2         Zoho\n",
       "3         Digg\n",
       "4     Facebook\n",
       "Name: name, dtype: object"
      ]
     },
     "execution_count": 104,
     "metadata": {},
     "output_type": "execute_result"
    }
   ],
   "source": [
    "df.name[:5]"
   ]
  },
  {
   "cell_type": "code",
   "execution_count": 105,
   "id": "479d9e52",
   "metadata": {},
   "outputs": [
    {
     "data": {
      "text/html": [
       "<div>\n",
       "<style scoped>\n",
       "    .dataframe tbody tr th:only-of-type {\n",
       "        vertical-align: middle;\n",
       "    }\n",
       "\n",
       "    .dataframe tbody tr th {\n",
       "        vertical-align: top;\n",
       "    }\n",
       "\n",
       "    .dataframe thead th {\n",
       "        text-align: right;\n",
       "    }\n",
       "</style>\n",
       "<table border=\"1\" class=\"dataframe\">\n",
       "  <thead>\n",
       "    <tr style=\"text-align: right;\">\n",
       "      <th></th>\n",
       "      <th>total_offices</th>\n",
       "      <th>lat</th>\n",
       "      <th>lng</th>\n",
       "      <th>principal</th>\n",
       "      <th>name</th>\n",
       "    </tr>\n",
       "  </thead>\n",
       "  <tbody>\n",
       "    <tr>\n",
       "      <th>0</th>\n",
       "      <td>2.0</td>\n",
       "      <td>47.603122</td>\n",
       "      <td>-122.333253</td>\n",
       "      <td>{'type': 'Point', 'coordinates': [-122.333253,...</td>\n",
       "      <td>Wetpaint</td>\n",
       "    </tr>\n",
       "    <tr>\n",
       "      <th>1</th>\n",
       "      <td>1.0</td>\n",
       "      <td>37.692934</td>\n",
       "      <td>-121.904945</td>\n",
       "      <td>{'type': 'Point', 'coordinates': [-121.904945,...</td>\n",
       "      <td>AdventNet</td>\n",
       "    </tr>\n",
       "    <tr>\n",
       "      <th>2</th>\n",
       "      <td>1.0</td>\n",
       "      <td>37.692934</td>\n",
       "      <td>-121.904945</td>\n",
       "      <td>{'type': 'Point', 'coordinates': [-121.904945,...</td>\n",
       "      <td>Zoho</td>\n",
       "    </tr>\n",
       "    <tr>\n",
       "      <th>3</th>\n",
       "      <td>1.0</td>\n",
       "      <td>37.764726</td>\n",
       "      <td>-122.394523</td>\n",
       "      <td>{'type': 'Point', 'coordinates': [-122.394523,...</td>\n",
       "      <td>Digg</td>\n",
       "    </tr>\n",
       "    <tr>\n",
       "      <th>4</th>\n",
       "      <td>3.0</td>\n",
       "      <td>37.416050</td>\n",
       "      <td>-122.151801</td>\n",
       "      <td>{'type': 'Point', 'coordinates': [-122.151801,...</td>\n",
       "      <td>Facebook</td>\n",
       "    </tr>\n",
       "  </tbody>\n",
       "</table>\n",
       "</div>"
      ],
      "text/plain": [
       "   total_offices        lat         lng  \\\n",
       "0            2.0  47.603122 -122.333253   \n",
       "1            1.0  37.692934 -121.904945   \n",
       "2            1.0  37.692934 -121.904945   \n",
       "3            1.0  37.764726 -122.394523   \n",
       "4            3.0  37.416050 -122.151801   \n",
       "\n",
       "                                           principal       name  \n",
       "0  {'type': 'Point', 'coordinates': [-122.333253,...   Wetpaint  \n",
       "1  {'type': 'Point', 'coordinates': [-121.904945,...  AdventNet  \n",
       "2  {'type': 'Point', 'coordinates': [-121.904945,...       Zoho  \n",
       "3  {'type': 'Point', 'coordinates': [-122.394523,...       Digg  \n",
       "4  {'type': 'Point', 'coordinates': [-122.151801,...   Facebook  "
      ]
     },
     "execution_count": 105,
     "metadata": {},
     "output_type": "execute_result"
    }
   ],
   "source": [
    "first_office['name']=df.name\n",
    "\n",
    "first_office.head()"
   ]
  },
  {
   "cell_type": "code",
   "execution_count": 106,
   "id": "06e2a013",
   "metadata": {},
   "outputs": [],
   "source": [
    "df = first_office.copy()\n",
    "\n",
    "df = df.dropna()"
   ]
  },
  {
   "cell_type": "code",
   "execution_count": 108,
   "id": "7908dfad",
   "metadata": {},
   "outputs": [],
   "source": [
    "#df.to_json('../data/oficinas.json')  # para compass"
   ]
  },
  {
   "cell_type": "code",
   "execution_count": 110,
   "id": "958eb501",
   "metadata": {},
   "outputs": [
    {
     "data": {
      "text/plain": [
       "<pymongo.results.InsertManyResult at 0x1415314c0>"
      ]
     },
     "execution_count": 110,
     "metadata": {},
     "output_type": "execute_result"
    }
   ],
   "source": [
    "db.first_office.insert_many(df.to_dict('records'))"
   ]
  },
  {
   "cell_type": "code",
   "execution_count": 111,
   "id": "00edaa2c",
   "metadata": {},
   "outputs": [
    {
     "data": {
      "text/plain": [
       "'principal_2dsphere'"
      ]
     },
     "execution_count": 111,
     "metadata": {},
     "output_type": "execute_result"
    }
   ],
   "source": [
    "db.first_office.create_index([('principal', '2dsphere')])  # sobre la coleccion"
   ]
  },
  {
   "cell_type": "code",
   "execution_count": 113,
   "id": "0f5f4495",
   "metadata": {},
   "outputs": [],
   "source": [
    "def find_near(array, radio=1000):\n",
    "\n",
    "    query={'principal': {'$near': {'$geometry': {'type': 'Point',\n",
    "                                                 'coordinates': array},\n",
    "\n",
    "                                  '$maxDistance': radio}}}\n",
    "    \n",
    "    return db.first_office.find(query)"
   ]
  },
  {
   "cell_type": "code",
   "execution_count": 114,
   "id": "5f12b4ea",
   "metadata": {},
   "outputs": [],
   "source": [
    "park_avenue=[-73.987308, 40.738935] "
   ]
  },
  {
   "cell_type": "code",
   "execution_count": 115,
   "id": "f92ce8fc",
   "metadata": {},
   "outputs": [
    {
     "data": {
      "text/plain": [
       "<pymongo.cursor.Cursor at 0x14671d250>"
      ]
     },
     "execution_count": 115,
     "metadata": {},
     "output_type": "execute_result"
    }
   ],
   "source": [
    "find_near(park_avenue)"
   ]
  },
  {
   "cell_type": "code",
   "execution_count": 116,
   "id": "0ffffeb3",
   "metadata": {},
   "outputs": [
    {
     "data": {
      "text/html": [
       "<div>\n",
       "<style scoped>\n",
       "    .dataframe tbody tr th:only-of-type {\n",
       "        vertical-align: middle;\n",
       "    }\n",
       "\n",
       "    .dataframe tbody tr th {\n",
       "        vertical-align: top;\n",
       "    }\n",
       "\n",
       "    .dataframe thead th {\n",
       "        text-align: right;\n",
       "    }\n",
       "</style>\n",
       "<table border=\"1\" class=\"dataframe\">\n",
       "  <thead>\n",
       "    <tr style=\"text-align: right;\">\n",
       "      <th></th>\n",
       "      <th>_id</th>\n",
       "      <th>total_offices</th>\n",
       "      <th>lat</th>\n",
       "      <th>lng</th>\n",
       "      <th>principal</th>\n",
       "      <th>name</th>\n",
       "    </tr>\n",
       "  </thead>\n",
       "  <tbody>\n",
       "    <tr>\n",
       "      <th>0</th>\n",
       "      <td>653a28ee47a460b95255a94f</td>\n",
       "      <td>1.0</td>\n",
       "      <td>40.738567</td>\n",
       "      <td>-73.987199</td>\n",
       "      <td>{'type': 'Point', 'coordinates': [-73.987199, ...</td>\n",
       "      <td>SpaBooker</td>\n",
       "    </tr>\n",
       "    <tr>\n",
       "      <th>1</th>\n",
       "      <td>653a28ee47a460b952559727</td>\n",
       "      <td>1.0</td>\n",
       "      <td>40.739341</td>\n",
       "      <td>-73.988357</td>\n",
       "      <td>{'type': 'Point', 'coordinates': [-73.988357, ...</td>\n",
       "      <td>HealthiNation</td>\n",
       "    </tr>\n",
       "    <tr>\n",
       "      <th>2</th>\n",
       "      <td>653a28ee47a460b95255930f</td>\n",
       "      <td>1.0</td>\n",
       "      <td>40.737721</td>\n",
       "      <td>-73.987725</td>\n",
       "      <td>{'type': 'Point', 'coordinates': [-73.987725, ...</td>\n",
       "      <td>Special Ops Media</td>\n",
       "    </tr>\n",
       "    <tr>\n",
       "      <th>3</th>\n",
       "      <td>653a28ee47a460b95255afa1</td>\n",
       "      <td>1.0</td>\n",
       "      <td>40.740154</td>\n",
       "      <td>-73.986742</td>\n",
       "      <td>{'type': 'Point', 'coordinates': [-73.9867417,...</td>\n",
       "      <td>Mashable</td>\n",
       "    </tr>\n",
       "    <tr>\n",
       "      <th>4</th>\n",
       "      <td>653a28ee47a460b95255a0a6</td>\n",
       "      <td>1.0</td>\n",
       "      <td>40.740207</td>\n",
       "      <td>-73.987002</td>\n",
       "      <td>{'type': 'Point', 'coordinates': [-73.987002, ...</td>\n",
       "      <td>Return Path</td>\n",
       "    </tr>\n",
       "  </tbody>\n",
       "</table>\n",
       "</div>"
      ],
      "text/plain": [
       "                        _id  total_offices        lat        lng  \\\n",
       "0  653a28ee47a460b95255a94f            1.0  40.738567 -73.987199   \n",
       "1  653a28ee47a460b952559727            1.0  40.739341 -73.988357   \n",
       "2  653a28ee47a460b95255930f            1.0  40.737721 -73.987725   \n",
       "3  653a28ee47a460b95255afa1            1.0  40.740154 -73.986742   \n",
       "4  653a28ee47a460b95255a0a6            1.0  40.740207 -73.987002   \n",
       "\n",
       "                                           principal               name  \n",
       "0  {'type': 'Point', 'coordinates': [-73.987199, ...          SpaBooker  \n",
       "1  {'type': 'Point', 'coordinates': [-73.988357, ...      HealthiNation  \n",
       "2  {'type': 'Point', 'coordinates': [-73.987725, ...  Special Ops Media  \n",
       "3  {'type': 'Point', 'coordinates': [-73.9867417,...           Mashable  \n",
       "4  {'type': 'Point', 'coordinates': [-73.987002, ...        Return Path  "
      ]
     },
     "execution_count": 116,
     "metadata": {},
     "output_type": "execute_result"
    }
   ],
   "source": [
    "df=pd.DataFrame(find_near(park_avenue))\n",
    "\n",
    "df.head()"
   ]
  },
  {
   "cell_type": "code",
   "execution_count": null,
   "id": "9dbd8672",
   "metadata": {},
   "outputs": [],
   "source": []
  }
 ],
 "metadata": {
  "kernelspec": {
   "display_name": "clase",
   "language": "python",
   "name": "clase"
  },
  "language_info": {
   "codemirror_mode": {
    "name": "ipython",
    "version": 3
   },
   "file_extension": ".py",
   "mimetype": "text/x-python",
   "name": "python",
   "nbconvert_exporter": "python",
   "pygments_lexer": "ipython3",
   "version": "3.9.12"
  },
  "varInspector": {
   "cols": {
    "lenName": 16,
    "lenType": 16,
    "lenVar": 40
   },
   "kernels_config": {
    "python": {
     "delete_cmd_postfix": "",
     "delete_cmd_prefix": "del ",
     "library": "var_list.py",
     "varRefreshCmd": "print(var_dic_list())"
    },
    "r": {
     "delete_cmd_postfix": ") ",
     "delete_cmd_prefix": "rm(",
     "library": "var_list.r",
     "varRefreshCmd": "cat(var_dic_list()) "
    }
   },
   "types_to_exclude": [
    "module",
    "function",
    "builtin_function_or_method",
    "instance",
    "_Feature"
   ],
   "window_display": false
  }
 },
 "nbformat": 4,
 "nbformat_minor": 5
}
