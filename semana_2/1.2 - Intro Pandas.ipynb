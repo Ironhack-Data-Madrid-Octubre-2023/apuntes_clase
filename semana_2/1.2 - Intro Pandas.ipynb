{
 "cells": [
  {
   "cell_type": "markdown",
   "metadata": {},
   "source": [
    "# 1.2 - Intro Pandas (Panel Data)\n",
    "\n",
    "**[Documentación](https://pandas.pydata.org/docs/reference/index.html#api)**\n",
    "\n",
    "**[Código fuente](https://github.com/pandas-dev/pandas)**\n",
    "\n",
    "\n",
    "![pandas](images/pandas.png)\n",
    "\n",
    "\n",
    "Pandas es una librería de python especializada en el manejo y análisis de estructuras de datos.\n",
    "\n",
    "\n",
    "Las principales características de esta librería son:\n",
    "\n",
    "+ Define nuevas estructuras de datos basadas en los arrays de la librería NumPy pero con nuevas funcionalidades.\n",
    "+ Permite leer y escribir fácilmente ficheros en formato CSV, Excel y bases de datos SQL.\n",
    "+ Permite acceder a los datos mediante índices o nombres para filas y columnas.\n",
    "+ Ofrece métodos para reordenar, dividir y combinar conjuntos de datos.\n",
    "+ Permite trabajar con series temporales.\n",
    "+ Realiza todas estas operaciones de manera muy eficiente.\n",
    "\n",
    "\n",
    "**Tipos de datos de Pandas**\n",
    "Pandas dispone de dos estructuras de datos diferentes:\n",
    "\n",
    "+ Series: Estructura de una dimensión.\n",
    "+ DataFrame: Estructura de dos dimensiones (tablas).\n",
    "\n",
    "Estas estructuras se construyen a partir de arrays de la librería NumPy, añadiendo nuevas funcionalidades."
   ]
  },
  {
   "cell_type": "code",
   "execution_count": null,
   "metadata": {},
   "outputs": [],
   "source": [
    "%pip install pandas"
   ]
  },
  {
   "cell_type": "code",
   "execution_count": 1,
   "metadata": {},
   "outputs": [],
   "source": [
    "import pandas as pd"
   ]
  },
  {
   "cell_type": "code",
   "execution_count": 2,
   "metadata": {},
   "outputs": [],
   "source": [
    "import numpy as np"
   ]
  },
  {
   "cell_type": "code",
   "execution_count": 3,
   "metadata": {},
   "outputs": [],
   "source": [
    "import warnings\n",
    "warnings.filterwarnings('ignore')"
   ]
  },
  {
   "cell_type": "markdown",
   "metadata": {},
   "source": [
    "### Serie\n",
    "\n",
    "Son estructuras similares a los arrays de una dimensión. Son homogéneas, es decir, sus elementos tienen que ser del mismo tipo, y su tamaño es inmutable, es decir, no se puede cambiar, aunque si su contenido.\n",
    "\n",
    "Dispone de un índice que asocia un nombre a cada elemento del la serie, a través de la cuál se accede al elemento."
   ]
  },
  {
   "cell_type": "code",
   "execution_count": 4,
   "metadata": {},
   "outputs": [
    {
     "data": {
      "text/plain": [
       "[11.559999999999999,\n",
       " 19.360000000000003,\n",
       " 29.160000000000004,\n",
       " 40.96000000000001,\n",
       " 54.760000000000005,\n",
       " 70.56,\n",
       " 88.36000000000001,\n",
       " 108.16000000000001,\n",
       " 129.96,\n",
       " 153.76000000000002]"
      ]
     },
     "execution_count": 4,
     "metadata": {},
     "output_type": "execute_result"
    }
   ],
   "source": [
    "lst = [(3.4 + i)**2 for i in range(10)]\n",
    "\n",
    "lst"
   ]
  },
  {
   "cell_type": "code",
   "execution_count": 5,
   "metadata": {},
   "outputs": [],
   "source": [
    "lst.append('hola')"
   ]
  },
  {
   "cell_type": "code",
   "execution_count": 6,
   "metadata": {},
   "outputs": [
    {
     "data": {
      "text/plain": [
       "0      11.56\n",
       "1      19.36\n",
       "2      29.16\n",
       "3      40.96\n",
       "4      54.76\n",
       "5      70.56\n",
       "6      88.36\n",
       "7     108.16\n",
       "8     129.96\n",
       "9     153.76\n",
       "10      hola\n",
       "dtype: object"
      ]
     },
     "execution_count": 6,
     "metadata": {},
     "output_type": "execute_result"
    }
   ],
   "source": [
    "serie = pd.Series(lst)\n",
    "\n",
    "serie"
   ]
  },
  {
   "cell_type": "code",
   "execution_count": 8,
   "metadata": {},
   "outputs": [
    {
     "data": {
      "text/plain": [
       "float"
      ]
     },
     "execution_count": 8,
     "metadata": {},
     "output_type": "execute_result"
    }
   ],
   "source": [
    "type(serie[2])"
   ]
  },
  {
   "cell_type": "code",
   "execution_count": 9,
   "metadata": {},
   "outputs": [
    {
     "data": {
      "text/plain": [
       "'hola'"
      ]
     },
     "execution_count": 9,
     "metadata": {},
     "output_type": "execute_result"
    }
   ],
   "source": [
    "serie[10]"
   ]
  },
  {
   "cell_type": "code",
   "execution_count": 10,
   "metadata": {},
   "outputs": [
    {
     "data": {
      "text/plain": [
       "str"
      ]
     },
     "execution_count": 10,
     "metadata": {},
     "output_type": "execute_result"
    }
   ],
   "source": [
    "type(serie[10])"
   ]
  },
  {
   "cell_type": "code",
   "execution_count": 11,
   "metadata": {},
   "outputs": [
    {
     "data": {
      "text/plain": [
       "0      11.56\n",
       "1      19.36\n",
       "2      29.16\n",
       "3      40.96\n",
       "4      54.76\n",
       "5      70.56\n",
       "6      88.36\n",
       "7     108.16\n",
       "8     129.96\n",
       "9     153.76\n",
       "10       0.5\n",
       "dtype: object"
      ]
     },
     "execution_count": 11,
     "metadata": {},
     "output_type": "execute_result"
    }
   ],
   "source": [
    "serie[10] = 0.5\n",
    "\n",
    "serie"
   ]
  },
  {
   "cell_type": "code",
   "execution_count": 13,
   "metadata": {},
   "outputs": [],
   "source": [
    "#help(serie)"
   ]
  },
  {
   "cell_type": "code",
   "execution_count": 15,
   "metadata": {},
   "outputs": [
    {
     "data": {
      "text/plain": [
       "0    11.56\n",
       "1    19.36\n",
       "2    29.16\n",
       "3    40.96\n",
       "4    54.76\n",
       "dtype: object"
      ]
     },
     "execution_count": 15,
     "metadata": {},
     "output_type": "execute_result"
    }
   ],
   "source": [
    "serie.head()   # la cabeza, 5 primeros por defecto"
   ]
  },
  {
   "cell_type": "code",
   "execution_count": 16,
   "metadata": {},
   "outputs": [
    {
     "data": {
      "text/plain": [
       "0    11.56\n",
       "1    19.36\n",
       "dtype: object"
      ]
     },
     "execution_count": 16,
     "metadata": {},
     "output_type": "execute_result"
    }
   ],
   "source": [
    "serie.head(2)"
   ]
  },
  {
   "cell_type": "code",
   "execution_count": 18,
   "metadata": {},
   "outputs": [
    {
     "data": {
      "text/plain": [
       "6      88.36\n",
       "7     108.16\n",
       "8     129.96\n",
       "9     153.76\n",
       "10       0.5\n",
       "dtype: object"
      ]
     },
     "execution_count": 18,
     "metadata": {},
     "output_type": "execute_result"
    }
   ],
   "source": [
    "serie.tail()"
   ]
  },
  {
   "cell_type": "code",
   "execution_count": 19,
   "metadata": {},
   "outputs": [
    {
     "data": {
      "text/plain": [
       "RangeIndex(start=0, stop=11, step=1)"
      ]
     },
     "execution_count": 19,
     "metadata": {},
     "output_type": "execute_result"
    }
   ],
   "source": [
    "serie.index"
   ]
  },
  {
   "cell_type": "code",
   "execution_count": 20,
   "metadata": {},
   "outputs": [
    {
     "data": {
      "text/plain": [
       "(11,)"
      ]
     },
     "execution_count": 20,
     "metadata": {},
     "output_type": "execute_result"
    }
   ],
   "source": [
    "serie.shape"
   ]
  },
  {
   "cell_type": "code",
   "execution_count": 21,
   "metadata": {},
   "outputs": [
    {
     "data": {
      "text/plain": [
       "q     11.56\n",
       "t     19.36\n",
       "y     29.16\n",
       "o     40.96\n",
       "p     54.76\n",
       "a     70.56\n",
       "s     88.36\n",
       "d    108.16\n",
       "f    129.96\n",
       "g    153.76\n",
       "v       0.5\n",
       "dtype: object"
      ]
     },
     "execution_count": 21,
     "metadata": {},
     "output_type": "execute_result"
    }
   ],
   "source": [
    "serie.index = ['q', 't', 'y', 'o', 'p', 'a', 's', 'd', 'f', 'g', 'v']\n",
    "\n",
    "serie"
   ]
  },
  {
   "cell_type": "code",
   "execution_count": 22,
   "metadata": {},
   "outputs": [
    {
     "data": {
      "text/plain": [
       "11.559999999999999"
      ]
     },
     "execution_count": 22,
     "metadata": {},
     "output_type": "execute_result"
    }
   ],
   "source": [
    "serie[0]"
   ]
  },
  {
   "cell_type": "code",
   "execution_count": 23,
   "metadata": {},
   "outputs": [
    {
     "data": {
      "text/plain": [
       "11.559999999999999"
      ]
     },
     "execution_count": 23,
     "metadata": {},
     "output_type": "execute_result"
    }
   ],
   "source": [
    "serie['q']"
   ]
  },
  {
   "cell_type": "code",
   "execution_count": 24,
   "metadata": {},
   "outputs": [
    {
     "data": {
      "text/plain": [
       "{'q': 11.559999999999999,\n",
       " 't': 19.360000000000003,\n",
       " 'y': 29.160000000000004,\n",
       " 'o': 40.96000000000001,\n",
       " 'p': 54.760000000000005,\n",
       " 'a': 70.56,\n",
       " 's': 88.36000000000001,\n",
       " 'd': 108.16000000000001,\n",
       " 'f': 129.96,\n",
       " 'g': 153.76000000000002,\n",
       " 'v': 0.5}"
      ]
     },
     "execution_count": 24,
     "metadata": {},
     "output_type": "execute_result"
    }
   ],
   "source": [
    "serie.to_dict()"
   ]
  },
  {
   "cell_type": "code",
   "execution_count": 25,
   "metadata": {},
   "outputs": [
    {
     "data": {
      "text/html": [
       "<div>\n",
       "<style scoped>\n",
       "    .dataframe tbody tr th:only-of-type {\n",
       "        vertical-align: middle;\n",
       "    }\n",
       "\n",
       "    .dataframe tbody tr th {\n",
       "        vertical-align: top;\n",
       "    }\n",
       "\n",
       "    .dataframe thead th {\n",
       "        text-align: right;\n",
       "    }\n",
       "</style>\n",
       "<table border=\"1\" class=\"dataframe\">\n",
       "  <thead>\n",
       "    <tr style=\"text-align: right;\">\n",
       "      <th></th>\n",
       "      <th>0</th>\n",
       "    </tr>\n",
       "  </thead>\n",
       "  <tbody>\n",
       "    <tr>\n",
       "      <th>q</th>\n",
       "      <td>11.56</td>\n",
       "    </tr>\n",
       "    <tr>\n",
       "      <th>t</th>\n",
       "      <td>19.36</td>\n",
       "    </tr>\n",
       "    <tr>\n",
       "      <th>y</th>\n",
       "      <td>29.16</td>\n",
       "    </tr>\n",
       "    <tr>\n",
       "      <th>o</th>\n",
       "      <td>40.96</td>\n",
       "    </tr>\n",
       "    <tr>\n",
       "      <th>p</th>\n",
       "      <td>54.76</td>\n",
       "    </tr>\n",
       "    <tr>\n",
       "      <th>a</th>\n",
       "      <td>70.56</td>\n",
       "    </tr>\n",
       "    <tr>\n",
       "      <th>s</th>\n",
       "      <td>88.36</td>\n",
       "    </tr>\n",
       "    <tr>\n",
       "      <th>d</th>\n",
       "      <td>108.16</td>\n",
       "    </tr>\n",
       "    <tr>\n",
       "      <th>f</th>\n",
       "      <td>129.96</td>\n",
       "    </tr>\n",
       "    <tr>\n",
       "      <th>g</th>\n",
       "      <td>153.76</td>\n",
       "    </tr>\n",
       "    <tr>\n",
       "      <th>v</th>\n",
       "      <td>0.5</td>\n",
       "    </tr>\n",
       "  </tbody>\n",
       "</table>\n",
       "</div>"
      ],
      "text/plain": [
       "        0\n",
       "q   11.56\n",
       "t   19.36\n",
       "y   29.16\n",
       "o   40.96\n",
       "p   54.76\n",
       "a   70.56\n",
       "s   88.36\n",
       "d  108.16\n",
       "f  129.96\n",
       "g  153.76\n",
       "v     0.5"
      ]
     },
     "execution_count": 25,
     "metadata": {},
     "output_type": "execute_result"
    }
   ],
   "source": [
    "serie.to_frame()"
   ]
  },
  {
   "cell_type": "code",
   "execution_count": 26,
   "metadata": {},
   "outputs": [
    {
     "data": {
      "text/plain": [
       "(11, 1)"
      ]
     },
     "execution_count": 26,
     "metadata": {},
     "output_type": "execute_result"
    }
   ],
   "source": [
    "serie.to_frame().shape"
   ]
  },
  {
   "cell_type": "markdown",
   "metadata": {},
   "source": [
    "### DataFrame\n",
    "\n",
    "Un objeto del tipo DataFrame define un conjunto de datos estructurado en forma de tabla donde cada columna es un objeto de tipo Series, es decir, todos los datos de una misma columna son del mismo tipo, y las filas son registros que pueden contender datos de distintos tipos.\n",
    "\n",
    "Un DataFrame contiene dos índices, uno para las filas y otro para las columnas, y se puede acceder a sus elementos mediante los nombres de las filas y las columnas."
   ]
  },
  {
   "cell_type": "code",
   "execution_count": 32,
   "metadata": {},
   "outputs": [
    {
     "data": {
      "text/plain": [
       "array([[0.76841661, 0.5210976 , 0.99801169, 0.87878694, 0.39953966],\n",
       "       [0.68100675, 0.05241524, 0.87710617, 0.2420827 , 0.35393804],\n",
       "       [0.59190573, 0.45543022, 0.66016771, 0.65420898, 0.20357844],\n",
       "       [0.82343989, 0.81810619, 0.92808416, 0.22021984, 0.56424284],\n",
       "       [0.32269519, 0.00849643, 0.22171641, 0.77834749, 0.92820212],\n",
       "       [0.78573931, 0.65970577, 0.81683549, 0.55700327, 0.50491333],\n",
       "       [0.80608403, 0.76507779, 0.35459278, 0.95902692, 0.08119747],\n",
       "       [0.85240092, 0.50308484, 0.16609537, 0.63904527, 0.74828918],\n",
       "       [0.2837545 , 0.58056959, 0.7036929 , 0.67566721, 0.01395755],\n",
       "       [0.26074347, 0.45185875, 0.18231107, 0.65698003, 0.82416584]])"
      ]
     },
     "execution_count": 32,
     "metadata": {},
     "output_type": "execute_result"
    }
   ],
   "source": [
    "array = np.random.random((10, 5))\n",
    "\n",
    "array"
   ]
  },
  {
   "cell_type": "code",
   "execution_count": 40,
   "metadata": {},
   "outputs": [],
   "source": [
    "columnas = ['col1', 'col2', 'col 3', 'col4', 'col5']"
   ]
  },
  {
   "cell_type": "code",
   "execution_count": 41,
   "metadata": {},
   "outputs": [
    {
     "data": {
      "text/html": [
       "<div>\n",
       "<style scoped>\n",
       "    .dataframe tbody tr th:only-of-type {\n",
       "        vertical-align: middle;\n",
       "    }\n",
       "\n",
       "    .dataframe tbody tr th {\n",
       "        vertical-align: top;\n",
       "    }\n",
       "\n",
       "    .dataframe thead th {\n",
       "        text-align: right;\n",
       "    }\n",
       "</style>\n",
       "<table border=\"1\" class=\"dataframe\">\n",
       "  <thead>\n",
       "    <tr style=\"text-align: right;\">\n",
       "      <th></th>\n",
       "      <th>col1</th>\n",
       "      <th>col2</th>\n",
       "      <th>col 3</th>\n",
       "      <th>col4</th>\n",
       "      <th>col5</th>\n",
       "    </tr>\n",
       "  </thead>\n",
       "  <tbody>\n",
       "    <tr>\n",
       "      <th>0</th>\n",
       "      <td>0.768417</td>\n",
       "      <td>0.521098</td>\n",
       "      <td>0.998012</td>\n",
       "      <td>0.878787</td>\n",
       "      <td>0.399540</td>\n",
       "    </tr>\n",
       "    <tr>\n",
       "      <th>1</th>\n",
       "      <td>0.681007</td>\n",
       "      <td>0.052415</td>\n",
       "      <td>0.877106</td>\n",
       "      <td>0.242083</td>\n",
       "      <td>0.353938</td>\n",
       "    </tr>\n",
       "    <tr>\n",
       "      <th>2</th>\n",
       "      <td>0.591906</td>\n",
       "      <td>0.455430</td>\n",
       "      <td>0.660168</td>\n",
       "      <td>0.654209</td>\n",
       "      <td>0.203578</td>\n",
       "    </tr>\n",
       "    <tr>\n",
       "      <th>3</th>\n",
       "      <td>0.823440</td>\n",
       "      <td>0.818106</td>\n",
       "      <td>0.928084</td>\n",
       "      <td>0.220220</td>\n",
       "      <td>0.564243</td>\n",
       "    </tr>\n",
       "    <tr>\n",
       "      <th>4</th>\n",
       "      <td>0.322695</td>\n",
       "      <td>0.008496</td>\n",
       "      <td>0.221716</td>\n",
       "      <td>0.778347</td>\n",
       "      <td>0.928202</td>\n",
       "    </tr>\n",
       "    <tr>\n",
       "      <th>5</th>\n",
       "      <td>0.785739</td>\n",
       "      <td>0.659706</td>\n",
       "      <td>0.816835</td>\n",
       "      <td>0.557003</td>\n",
       "      <td>0.504913</td>\n",
       "    </tr>\n",
       "    <tr>\n",
       "      <th>6</th>\n",
       "      <td>0.806084</td>\n",
       "      <td>0.765078</td>\n",
       "      <td>0.354593</td>\n",
       "      <td>0.959027</td>\n",
       "      <td>0.081197</td>\n",
       "    </tr>\n",
       "    <tr>\n",
       "      <th>7</th>\n",
       "      <td>0.852401</td>\n",
       "      <td>0.503085</td>\n",
       "      <td>0.166095</td>\n",
       "      <td>0.639045</td>\n",
       "      <td>0.748289</td>\n",
       "    </tr>\n",
       "    <tr>\n",
       "      <th>8</th>\n",
       "      <td>0.283755</td>\n",
       "      <td>0.580570</td>\n",
       "      <td>0.703693</td>\n",
       "      <td>0.675667</td>\n",
       "      <td>0.013958</td>\n",
       "    </tr>\n",
       "    <tr>\n",
       "      <th>9</th>\n",
       "      <td>0.260743</td>\n",
       "      <td>0.451859</td>\n",
       "      <td>0.182311</td>\n",
       "      <td>0.656980</td>\n",
       "      <td>0.824166</td>\n",
       "    </tr>\n",
       "  </tbody>\n",
       "</table>\n",
       "</div>"
      ],
      "text/plain": [
       "       col1      col2     col 3      col4      col5\n",
       "0  0.768417  0.521098  0.998012  0.878787  0.399540\n",
       "1  0.681007  0.052415  0.877106  0.242083  0.353938\n",
       "2  0.591906  0.455430  0.660168  0.654209  0.203578\n",
       "3  0.823440  0.818106  0.928084  0.220220  0.564243\n",
       "4  0.322695  0.008496  0.221716  0.778347  0.928202\n",
       "5  0.785739  0.659706  0.816835  0.557003  0.504913\n",
       "6  0.806084  0.765078  0.354593  0.959027  0.081197\n",
       "7  0.852401  0.503085  0.166095  0.639045  0.748289\n",
       "8  0.283755  0.580570  0.703693  0.675667  0.013958\n",
       "9  0.260743  0.451859  0.182311  0.656980  0.824166"
      ]
     },
     "metadata": {},
     "output_type": "display_data"
    }
   ],
   "source": [
    "df = pd.DataFrame(array, columns=columnas)\n",
    "\n",
    "display(df)"
   ]
  },
  {
   "cell_type": "code",
   "execution_count": 43,
   "metadata": {},
   "outputs": [
    {
     "data": {
      "text/plain": [
       "0    0.998012\n",
       "1    0.877106\n",
       "2    0.660168\n",
       "3    0.928084\n",
       "4    0.221716\n",
       "5    0.816835\n",
       "6    0.354593\n",
       "7    0.166095\n",
       "8    0.703693\n",
       "9    0.182311\n",
       "Name: col 3, dtype: float64"
      ]
     },
     "execution_count": 43,
     "metadata": {},
     "output_type": "execute_result"
    }
   ],
   "source": [
    "df['col 3']"
   ]
  },
  {
   "cell_type": "code",
   "execution_count": 44,
   "metadata": {},
   "outputs": [
    {
     "ename": "SyntaxError",
     "evalue": "invalid syntax (3887910251.py, line 1)",
     "output_type": "error",
     "traceback": [
      "\u001b[0;36m  Cell \u001b[0;32mIn[44], line 1\u001b[0;36m\u001b[0m\n\u001b[0;31m    df.col 3\u001b[0m\n\u001b[0m           ^\u001b[0m\n\u001b[0;31mSyntaxError\u001b[0m\u001b[0;31m:\u001b[0m invalid syntax\n"
     ]
    }
   ],
   "source": [
    "df.col 3"
   ]
  },
  {
   "cell_type": "code",
   "execution_count": 46,
   "metadata": {},
   "outputs": [
    {
     "data": {
      "text/plain": [
       "Index(['col1', 'col2', 'col_3', 'col4', 'col5'], dtype='object')"
      ]
     },
     "execution_count": 46,
     "metadata": {},
     "output_type": "execute_result"
    }
   ],
   "source": [
    "df.columns = [e.lower().replace(' ', '_') for e in df.columns]\n",
    "\n",
    "df.columns"
   ]
  },
  {
   "cell_type": "code",
   "execution_count": 47,
   "metadata": {},
   "outputs": [
    {
     "data": {
      "text/plain": [
       "0    0.998012\n",
       "1    0.877106\n",
       "2    0.660168\n",
       "3    0.928084\n",
       "4    0.221716\n",
       "5    0.816835\n",
       "6    0.354593\n",
       "7    0.166095\n",
       "8    0.703693\n",
       "9    0.182311\n",
       "Name: col_3, dtype: float64"
      ]
     },
     "execution_count": 47,
     "metadata": {},
     "output_type": "execute_result"
    }
   ],
   "source": [
    "df.col_3"
   ]
  },
  {
   "cell_type": "code",
   "execution_count": 48,
   "metadata": {},
   "outputs": [
    {
     "data": {
      "text/plain": [
       "0    0.768417\n",
       "1    0.681007\n",
       "2    0.591906\n",
       "3    0.823440\n",
       "4    0.322695\n",
       "5    0.785739\n",
       "6    0.806084\n",
       "7    0.852401\n",
       "8    0.283755\n",
       "9    0.260743\n",
       "Name: col1, dtype: float64"
      ]
     },
     "execution_count": 48,
     "metadata": {},
     "output_type": "execute_result"
    }
   ],
   "source": [
    "df.col1"
   ]
  },
  {
   "cell_type": "code",
   "execution_count": 49,
   "metadata": {},
   "outputs": [
    {
     "data": {
      "text/plain": [
       "['col4', 'col1']"
      ]
     },
     "execution_count": 49,
     "metadata": {},
     "output_type": "execute_result"
    }
   ],
   "source": [
    "seleccion = ['col4', 'col1']\n",
    "\n",
    "seleccion"
   ]
  },
  {
   "cell_type": "code",
   "execution_count": 50,
   "metadata": {},
   "outputs": [
    {
     "data": {
      "text/html": [
       "<div>\n",
       "<style scoped>\n",
       "    .dataframe tbody tr th:only-of-type {\n",
       "        vertical-align: middle;\n",
       "    }\n",
       "\n",
       "    .dataframe tbody tr th {\n",
       "        vertical-align: top;\n",
       "    }\n",
       "\n",
       "    .dataframe thead th {\n",
       "        text-align: right;\n",
       "    }\n",
       "</style>\n",
       "<table border=\"1\" class=\"dataframe\">\n",
       "  <thead>\n",
       "    <tr style=\"text-align: right;\">\n",
       "      <th></th>\n",
       "      <th>col4</th>\n",
       "      <th>col1</th>\n",
       "    </tr>\n",
       "  </thead>\n",
       "  <tbody>\n",
       "    <tr>\n",
       "      <th>0</th>\n",
       "      <td>0.878787</td>\n",
       "      <td>0.768417</td>\n",
       "    </tr>\n",
       "    <tr>\n",
       "      <th>1</th>\n",
       "      <td>0.242083</td>\n",
       "      <td>0.681007</td>\n",
       "    </tr>\n",
       "    <tr>\n",
       "      <th>2</th>\n",
       "      <td>0.654209</td>\n",
       "      <td>0.591906</td>\n",
       "    </tr>\n",
       "    <tr>\n",
       "      <th>3</th>\n",
       "      <td>0.220220</td>\n",
       "      <td>0.823440</td>\n",
       "    </tr>\n",
       "    <tr>\n",
       "      <th>4</th>\n",
       "      <td>0.778347</td>\n",
       "      <td>0.322695</td>\n",
       "    </tr>\n",
       "    <tr>\n",
       "      <th>5</th>\n",
       "      <td>0.557003</td>\n",
       "      <td>0.785739</td>\n",
       "    </tr>\n",
       "    <tr>\n",
       "      <th>6</th>\n",
       "      <td>0.959027</td>\n",
       "      <td>0.806084</td>\n",
       "    </tr>\n",
       "    <tr>\n",
       "      <th>7</th>\n",
       "      <td>0.639045</td>\n",
       "      <td>0.852401</td>\n",
       "    </tr>\n",
       "    <tr>\n",
       "      <th>8</th>\n",
       "      <td>0.675667</td>\n",
       "      <td>0.283755</td>\n",
       "    </tr>\n",
       "    <tr>\n",
       "      <th>9</th>\n",
       "      <td>0.656980</td>\n",
       "      <td>0.260743</td>\n",
       "    </tr>\n",
       "  </tbody>\n",
       "</table>\n",
       "</div>"
      ],
      "text/plain": [
       "       col4      col1\n",
       "0  0.878787  0.768417\n",
       "1  0.242083  0.681007\n",
       "2  0.654209  0.591906\n",
       "3  0.220220  0.823440\n",
       "4  0.778347  0.322695\n",
       "5  0.557003  0.785739\n",
       "6  0.959027  0.806084\n",
       "7  0.639045  0.852401\n",
       "8  0.675667  0.283755\n",
       "9  0.656980  0.260743"
      ]
     },
     "execution_count": 50,
     "metadata": {},
     "output_type": "execute_result"
    }
   ],
   "source": [
    "df[seleccion]"
   ]
  },
  {
   "cell_type": "code",
   "execution_count": 51,
   "metadata": {},
   "outputs": [
    {
     "data": {
      "text/html": [
       "<div>\n",
       "<style scoped>\n",
       "    .dataframe tbody tr th:only-of-type {\n",
       "        vertical-align: middle;\n",
       "    }\n",
       "\n",
       "    .dataframe tbody tr th {\n",
       "        vertical-align: top;\n",
       "    }\n",
       "\n",
       "    .dataframe thead th {\n",
       "        text-align: right;\n",
       "    }\n",
       "</style>\n",
       "<table border=\"1\" class=\"dataframe\">\n",
       "  <thead>\n",
       "    <tr style=\"text-align: right;\">\n",
       "      <th></th>\n",
       "      <th>col4</th>\n",
       "      <th>col1</th>\n",
       "    </tr>\n",
       "  </thead>\n",
       "  <tbody>\n",
       "    <tr>\n",
       "      <th>0</th>\n",
       "      <td>0.878787</td>\n",
       "      <td>0.768417</td>\n",
       "    </tr>\n",
       "    <tr>\n",
       "      <th>1</th>\n",
       "      <td>0.242083</td>\n",
       "      <td>0.681007</td>\n",
       "    </tr>\n",
       "    <tr>\n",
       "      <th>2</th>\n",
       "      <td>0.654209</td>\n",
       "      <td>0.591906</td>\n",
       "    </tr>\n",
       "    <tr>\n",
       "      <th>3</th>\n",
       "      <td>0.220220</td>\n",
       "      <td>0.823440</td>\n",
       "    </tr>\n",
       "    <tr>\n",
       "      <th>4</th>\n",
       "      <td>0.778347</td>\n",
       "      <td>0.322695</td>\n",
       "    </tr>\n",
       "    <tr>\n",
       "      <th>5</th>\n",
       "      <td>0.557003</td>\n",
       "      <td>0.785739</td>\n",
       "    </tr>\n",
       "    <tr>\n",
       "      <th>6</th>\n",
       "      <td>0.959027</td>\n",
       "      <td>0.806084</td>\n",
       "    </tr>\n",
       "    <tr>\n",
       "      <th>7</th>\n",
       "      <td>0.639045</td>\n",
       "      <td>0.852401</td>\n",
       "    </tr>\n",
       "    <tr>\n",
       "      <th>8</th>\n",
       "      <td>0.675667</td>\n",
       "      <td>0.283755</td>\n",
       "    </tr>\n",
       "    <tr>\n",
       "      <th>9</th>\n",
       "      <td>0.656980</td>\n",
       "      <td>0.260743</td>\n",
       "    </tr>\n",
       "  </tbody>\n",
       "</table>\n",
       "</div>"
      ],
      "text/plain": [
       "       col4      col1\n",
       "0  0.878787  0.768417\n",
       "1  0.242083  0.681007\n",
       "2  0.654209  0.591906\n",
       "3  0.220220  0.823440\n",
       "4  0.778347  0.322695\n",
       "5  0.557003  0.785739\n",
       "6  0.959027  0.806084\n",
       "7  0.639045  0.852401\n",
       "8  0.675667  0.283755\n",
       "9  0.656980  0.260743"
      ]
     },
     "execution_count": 51,
     "metadata": {},
     "output_type": "execute_result"
    }
   ],
   "source": [
    "df[['col4', 'col1']]"
   ]
  },
  {
   "cell_type": "code",
   "execution_count": 54,
   "metadata": {},
   "outputs": [],
   "source": [
    "df.rename(columns={'col_3': 'nueva_col'},    #{'key - la vieja': 'value - la nueva'}\n",
    "          inplace=True)  "
   ]
  },
  {
   "cell_type": "code",
   "execution_count": 55,
   "metadata": {},
   "outputs": [
    {
     "data": {
      "text/html": [
       "<div>\n",
       "<style scoped>\n",
       "    .dataframe tbody tr th:only-of-type {\n",
       "        vertical-align: middle;\n",
       "    }\n",
       "\n",
       "    .dataframe tbody tr th {\n",
       "        vertical-align: top;\n",
       "    }\n",
       "\n",
       "    .dataframe thead th {\n",
       "        text-align: right;\n",
       "    }\n",
       "</style>\n",
       "<table border=\"1\" class=\"dataframe\">\n",
       "  <thead>\n",
       "    <tr style=\"text-align: right;\">\n",
       "      <th></th>\n",
       "      <th>col1</th>\n",
       "      <th>col2</th>\n",
       "      <th>nueva_col</th>\n",
       "      <th>col4</th>\n",
       "      <th>col5</th>\n",
       "    </tr>\n",
       "  </thead>\n",
       "  <tbody>\n",
       "    <tr>\n",
       "      <th>0</th>\n",
       "      <td>0.768417</td>\n",
       "      <td>0.521098</td>\n",
       "      <td>0.998012</td>\n",
       "      <td>0.878787</td>\n",
       "      <td>0.399540</td>\n",
       "    </tr>\n",
       "    <tr>\n",
       "      <th>1</th>\n",
       "      <td>0.681007</td>\n",
       "      <td>0.052415</td>\n",
       "      <td>0.877106</td>\n",
       "      <td>0.242083</td>\n",
       "      <td>0.353938</td>\n",
       "    </tr>\n",
       "    <tr>\n",
       "      <th>2</th>\n",
       "      <td>0.591906</td>\n",
       "      <td>0.455430</td>\n",
       "      <td>0.660168</td>\n",
       "      <td>0.654209</td>\n",
       "      <td>0.203578</td>\n",
       "    </tr>\n",
       "    <tr>\n",
       "      <th>3</th>\n",
       "      <td>0.823440</td>\n",
       "      <td>0.818106</td>\n",
       "      <td>0.928084</td>\n",
       "      <td>0.220220</td>\n",
       "      <td>0.564243</td>\n",
       "    </tr>\n",
       "    <tr>\n",
       "      <th>4</th>\n",
       "      <td>0.322695</td>\n",
       "      <td>0.008496</td>\n",
       "      <td>0.221716</td>\n",
       "      <td>0.778347</td>\n",
       "      <td>0.928202</td>\n",
       "    </tr>\n",
       "    <tr>\n",
       "      <th>5</th>\n",
       "      <td>0.785739</td>\n",
       "      <td>0.659706</td>\n",
       "      <td>0.816835</td>\n",
       "      <td>0.557003</td>\n",
       "      <td>0.504913</td>\n",
       "    </tr>\n",
       "    <tr>\n",
       "      <th>6</th>\n",
       "      <td>0.806084</td>\n",
       "      <td>0.765078</td>\n",
       "      <td>0.354593</td>\n",
       "      <td>0.959027</td>\n",
       "      <td>0.081197</td>\n",
       "    </tr>\n",
       "    <tr>\n",
       "      <th>7</th>\n",
       "      <td>0.852401</td>\n",
       "      <td>0.503085</td>\n",
       "      <td>0.166095</td>\n",
       "      <td>0.639045</td>\n",
       "      <td>0.748289</td>\n",
       "    </tr>\n",
       "    <tr>\n",
       "      <th>8</th>\n",
       "      <td>0.283755</td>\n",
       "      <td>0.580570</td>\n",
       "      <td>0.703693</td>\n",
       "      <td>0.675667</td>\n",
       "      <td>0.013958</td>\n",
       "    </tr>\n",
       "    <tr>\n",
       "      <th>9</th>\n",
       "      <td>0.260743</td>\n",
       "      <td>0.451859</td>\n",
       "      <td>0.182311</td>\n",
       "      <td>0.656980</td>\n",
       "      <td>0.824166</td>\n",
       "    </tr>\n",
       "  </tbody>\n",
       "</table>\n",
       "</div>"
      ],
      "text/plain": [
       "       col1      col2  nueva_col      col4      col5\n",
       "0  0.768417  0.521098   0.998012  0.878787  0.399540\n",
       "1  0.681007  0.052415   0.877106  0.242083  0.353938\n",
       "2  0.591906  0.455430   0.660168  0.654209  0.203578\n",
       "3  0.823440  0.818106   0.928084  0.220220  0.564243\n",
       "4  0.322695  0.008496   0.221716  0.778347  0.928202\n",
       "5  0.785739  0.659706   0.816835  0.557003  0.504913\n",
       "6  0.806084  0.765078   0.354593  0.959027  0.081197\n",
       "7  0.852401  0.503085   0.166095  0.639045  0.748289\n",
       "8  0.283755  0.580570   0.703693  0.675667  0.013958\n",
       "9  0.260743  0.451859   0.182311  0.656980  0.824166"
      ]
     },
     "execution_count": 55,
     "metadata": {},
     "output_type": "execute_result"
    }
   ],
   "source": [
    "df"
   ]
  },
  {
   "cell_type": "code",
   "execution_count": 58,
   "metadata": {},
   "outputs": [
    {
     "data": {
      "text/html": [
       "<div>\n",
       "<style scoped>\n",
       "    .dataframe tbody tr th:only-of-type {\n",
       "        vertical-align: middle;\n",
       "    }\n",
       "\n",
       "    .dataframe tbody tr th {\n",
       "        vertical-align: top;\n",
       "    }\n",
       "\n",
       "    .dataframe thead th {\n",
       "        text-align: right;\n",
       "    }\n",
       "</style>\n",
       "<table border=\"1\" class=\"dataframe\">\n",
       "  <thead>\n",
       "    <tr style=\"text-align: right;\">\n",
       "      <th></th>\n",
       "      <th>col1</th>\n",
       "      <th>col2</th>\n",
       "      <th>nueva_col</th>\n",
       "      <th>col4</th>\n",
       "      <th>col5</th>\n",
       "      <th>ceros</th>\n",
       "    </tr>\n",
       "  </thead>\n",
       "  <tbody>\n",
       "    <tr>\n",
       "      <th>0</th>\n",
       "      <td>0.768417</td>\n",
       "      <td>0.521098</td>\n",
       "      <td>0.998012</td>\n",
       "      <td>0.878787</td>\n",
       "      <td>0.399540</td>\n",
       "      <td>0.0</td>\n",
       "    </tr>\n",
       "    <tr>\n",
       "      <th>1</th>\n",
       "      <td>0.681007</td>\n",
       "      <td>0.052415</td>\n",
       "      <td>0.877106</td>\n",
       "      <td>0.242083</td>\n",
       "      <td>0.353938</td>\n",
       "      <td>0.0</td>\n",
       "    </tr>\n",
       "    <tr>\n",
       "      <th>2</th>\n",
       "      <td>0.591906</td>\n",
       "      <td>0.455430</td>\n",
       "      <td>0.660168</td>\n",
       "      <td>0.654209</td>\n",
       "      <td>0.203578</td>\n",
       "      <td>0.0</td>\n",
       "    </tr>\n",
       "    <tr>\n",
       "      <th>3</th>\n",
       "      <td>0.823440</td>\n",
       "      <td>0.818106</td>\n",
       "      <td>0.928084</td>\n",
       "      <td>0.220220</td>\n",
       "      <td>0.564243</td>\n",
       "      <td>0.0</td>\n",
       "    </tr>\n",
       "    <tr>\n",
       "      <th>4</th>\n",
       "      <td>0.322695</td>\n",
       "      <td>0.008496</td>\n",
       "      <td>0.221716</td>\n",
       "      <td>0.778347</td>\n",
       "      <td>0.928202</td>\n",
       "      <td>0.0</td>\n",
       "    </tr>\n",
       "    <tr>\n",
       "      <th>5</th>\n",
       "      <td>0.785739</td>\n",
       "      <td>0.659706</td>\n",
       "      <td>0.816835</td>\n",
       "      <td>0.557003</td>\n",
       "      <td>0.504913</td>\n",
       "      <td>0.0</td>\n",
       "    </tr>\n",
       "    <tr>\n",
       "      <th>6</th>\n",
       "      <td>0.806084</td>\n",
       "      <td>0.765078</td>\n",
       "      <td>0.354593</td>\n",
       "      <td>0.959027</td>\n",
       "      <td>0.081197</td>\n",
       "      <td>0.0</td>\n",
       "    </tr>\n",
       "    <tr>\n",
       "      <th>7</th>\n",
       "      <td>0.852401</td>\n",
       "      <td>0.503085</td>\n",
       "      <td>0.166095</td>\n",
       "      <td>0.639045</td>\n",
       "      <td>0.748289</td>\n",
       "      <td>0.0</td>\n",
       "    </tr>\n",
       "    <tr>\n",
       "      <th>8</th>\n",
       "      <td>0.283755</td>\n",
       "      <td>0.580570</td>\n",
       "      <td>0.703693</td>\n",
       "      <td>0.675667</td>\n",
       "      <td>0.013958</td>\n",
       "      <td>0.0</td>\n",
       "    </tr>\n",
       "    <tr>\n",
       "      <th>9</th>\n",
       "      <td>0.260743</td>\n",
       "      <td>0.451859</td>\n",
       "      <td>0.182311</td>\n",
       "      <td>0.656980</td>\n",
       "      <td>0.824166</td>\n",
       "      <td>0.0</td>\n",
       "    </tr>\n",
       "  </tbody>\n",
       "</table>\n",
       "</div>"
      ],
      "text/plain": [
       "       col1      col2  nueva_col      col4      col5  ceros\n",
       "0  0.768417  0.521098   0.998012  0.878787  0.399540    0.0\n",
       "1  0.681007  0.052415   0.877106  0.242083  0.353938    0.0\n",
       "2  0.591906  0.455430   0.660168  0.654209  0.203578    0.0\n",
       "3  0.823440  0.818106   0.928084  0.220220  0.564243    0.0\n",
       "4  0.322695  0.008496   0.221716  0.778347  0.928202    0.0\n",
       "5  0.785739  0.659706   0.816835  0.557003  0.504913    0.0\n",
       "6  0.806084  0.765078   0.354593  0.959027  0.081197    0.0\n",
       "7  0.852401  0.503085   0.166095  0.639045  0.748289    0.0\n",
       "8  0.283755  0.580570   0.703693  0.675667  0.013958    0.0\n",
       "9  0.260743  0.451859   0.182311  0.656980  0.824166    0.0"
      ]
     },
     "execution_count": 58,
     "metadata": {},
     "output_type": "execute_result"
    }
   ],
   "source": [
    "df['ceros'] = 0.\n",
    "\n",
    "df"
   ]
  },
  {
   "cell_type": "code",
   "execution_count": 61,
   "metadata": {},
   "outputs": [
    {
     "data": {
      "text/plain": [
       "0.0"
      ]
     },
     "execution_count": 61,
     "metadata": {},
     "output_type": "execute_result"
    }
   ],
   "source": [
    "df['ceros'][0]"
   ]
  },
  {
   "cell_type": "code",
   "execution_count": 62,
   "metadata": {},
   "outputs": [],
   "source": [
    "df.insert(0, 'nueva_cero', [i for i in range(10)]) # inserta en la primera posicion"
   ]
  },
  {
   "cell_type": "code",
   "execution_count": 63,
   "metadata": {},
   "outputs": [
    {
     "data": {
      "text/html": [
       "<div>\n",
       "<style scoped>\n",
       "    .dataframe tbody tr th:only-of-type {\n",
       "        vertical-align: middle;\n",
       "    }\n",
       "\n",
       "    .dataframe tbody tr th {\n",
       "        vertical-align: top;\n",
       "    }\n",
       "\n",
       "    .dataframe thead th {\n",
       "        text-align: right;\n",
       "    }\n",
       "</style>\n",
       "<table border=\"1\" class=\"dataframe\">\n",
       "  <thead>\n",
       "    <tr style=\"text-align: right;\">\n",
       "      <th></th>\n",
       "      <th>nueva_cero</th>\n",
       "      <th>col1</th>\n",
       "      <th>col2</th>\n",
       "      <th>nueva_col</th>\n",
       "      <th>col4</th>\n",
       "      <th>col5</th>\n",
       "      <th>ceros</th>\n",
       "    </tr>\n",
       "  </thead>\n",
       "  <tbody>\n",
       "    <tr>\n",
       "      <th>0</th>\n",
       "      <td>0</td>\n",
       "      <td>0.768417</td>\n",
       "      <td>0.521098</td>\n",
       "      <td>0.998012</td>\n",
       "      <td>0.878787</td>\n",
       "      <td>0.399540</td>\n",
       "      <td>0.0</td>\n",
       "    </tr>\n",
       "    <tr>\n",
       "      <th>1</th>\n",
       "      <td>1</td>\n",
       "      <td>0.681007</td>\n",
       "      <td>0.052415</td>\n",
       "      <td>0.877106</td>\n",
       "      <td>0.242083</td>\n",
       "      <td>0.353938</td>\n",
       "      <td>0.0</td>\n",
       "    </tr>\n",
       "    <tr>\n",
       "      <th>2</th>\n",
       "      <td>2</td>\n",
       "      <td>0.591906</td>\n",
       "      <td>0.455430</td>\n",
       "      <td>0.660168</td>\n",
       "      <td>0.654209</td>\n",
       "      <td>0.203578</td>\n",
       "      <td>0.0</td>\n",
       "    </tr>\n",
       "    <tr>\n",
       "      <th>3</th>\n",
       "      <td>3</td>\n",
       "      <td>0.823440</td>\n",
       "      <td>0.818106</td>\n",
       "      <td>0.928084</td>\n",
       "      <td>0.220220</td>\n",
       "      <td>0.564243</td>\n",
       "      <td>0.0</td>\n",
       "    </tr>\n",
       "    <tr>\n",
       "      <th>4</th>\n",
       "      <td>4</td>\n",
       "      <td>0.322695</td>\n",
       "      <td>0.008496</td>\n",
       "      <td>0.221716</td>\n",
       "      <td>0.778347</td>\n",
       "      <td>0.928202</td>\n",
       "      <td>0.0</td>\n",
       "    </tr>\n",
       "    <tr>\n",
       "      <th>5</th>\n",
       "      <td>5</td>\n",
       "      <td>0.785739</td>\n",
       "      <td>0.659706</td>\n",
       "      <td>0.816835</td>\n",
       "      <td>0.557003</td>\n",
       "      <td>0.504913</td>\n",
       "      <td>0.0</td>\n",
       "    </tr>\n",
       "    <tr>\n",
       "      <th>6</th>\n",
       "      <td>6</td>\n",
       "      <td>0.806084</td>\n",
       "      <td>0.765078</td>\n",
       "      <td>0.354593</td>\n",
       "      <td>0.959027</td>\n",
       "      <td>0.081197</td>\n",
       "      <td>0.0</td>\n",
       "    </tr>\n",
       "    <tr>\n",
       "      <th>7</th>\n",
       "      <td>7</td>\n",
       "      <td>0.852401</td>\n",
       "      <td>0.503085</td>\n",
       "      <td>0.166095</td>\n",
       "      <td>0.639045</td>\n",
       "      <td>0.748289</td>\n",
       "      <td>0.0</td>\n",
       "    </tr>\n",
       "    <tr>\n",
       "      <th>8</th>\n",
       "      <td>8</td>\n",
       "      <td>0.283755</td>\n",
       "      <td>0.580570</td>\n",
       "      <td>0.703693</td>\n",
       "      <td>0.675667</td>\n",
       "      <td>0.013958</td>\n",
       "      <td>0.0</td>\n",
       "    </tr>\n",
       "    <tr>\n",
       "      <th>9</th>\n",
       "      <td>9</td>\n",
       "      <td>0.260743</td>\n",
       "      <td>0.451859</td>\n",
       "      <td>0.182311</td>\n",
       "      <td>0.656980</td>\n",
       "      <td>0.824166</td>\n",
       "      <td>0.0</td>\n",
       "    </tr>\n",
       "  </tbody>\n",
       "</table>\n",
       "</div>"
      ],
      "text/plain": [
       "   nueva_cero      col1      col2  nueva_col      col4      col5  ceros\n",
       "0           0  0.768417  0.521098   0.998012  0.878787  0.399540    0.0\n",
       "1           1  0.681007  0.052415   0.877106  0.242083  0.353938    0.0\n",
       "2           2  0.591906  0.455430   0.660168  0.654209  0.203578    0.0\n",
       "3           3  0.823440  0.818106   0.928084  0.220220  0.564243    0.0\n",
       "4           4  0.322695  0.008496   0.221716  0.778347  0.928202    0.0\n",
       "5           5  0.785739  0.659706   0.816835  0.557003  0.504913    0.0\n",
       "6           6  0.806084  0.765078   0.354593  0.959027  0.081197    0.0\n",
       "7           7  0.852401  0.503085   0.166095  0.639045  0.748289    0.0\n",
       "8           8  0.283755  0.580570   0.703693  0.675667  0.013958    0.0\n",
       "9           9  0.260743  0.451859   0.182311  0.656980  0.824166    0.0"
      ]
     },
     "execution_count": 63,
     "metadata": {},
     "output_type": "execute_result"
    }
   ],
   "source": [
    "df"
   ]
  },
  {
   "cell_type": "code",
   "execution_count": 66,
   "metadata": {},
   "outputs": [
    {
     "data": {
      "text/html": [
       "<div>\n",
       "<style scoped>\n",
       "    .dataframe tbody tr th:only-of-type {\n",
       "        vertical-align: middle;\n",
       "    }\n",
       "\n",
       "    .dataframe tbody tr th {\n",
       "        vertical-align: top;\n",
       "    }\n",
       "\n",
       "    .dataframe thead th {\n",
       "        text-align: right;\n",
       "    }\n",
       "</style>\n",
       "<table border=\"1\" class=\"dataframe\">\n",
       "  <thead>\n",
       "    <tr style=\"text-align: right;\">\n",
       "      <th></th>\n",
       "      <th>nueva_cero</th>\n",
       "      <th>col1</th>\n",
       "      <th>col2</th>\n",
       "      <th>nueva_col</th>\n",
       "      <th>col4</th>\n",
       "      <th>col5</th>\n",
       "      <th>ceros</th>\n",
       "      <th>nulos</th>\n",
       "    </tr>\n",
       "  </thead>\n",
       "  <tbody>\n",
       "    <tr>\n",
       "      <th>0</th>\n",
       "      <td>0</td>\n",
       "      <td>0.768417</td>\n",
       "      <td>0.521098</td>\n",
       "      <td>0.998012</td>\n",
       "      <td>0.878787</td>\n",
       "      <td>0.399540</td>\n",
       "      <td>0.0</td>\n",
       "      <td>NaN</td>\n",
       "    </tr>\n",
       "    <tr>\n",
       "      <th>1</th>\n",
       "      <td>1</td>\n",
       "      <td>0.681007</td>\n",
       "      <td>0.052415</td>\n",
       "      <td>0.877106</td>\n",
       "      <td>0.242083</td>\n",
       "      <td>0.353938</td>\n",
       "      <td>0.0</td>\n",
       "      <td>NaN</td>\n",
       "    </tr>\n",
       "    <tr>\n",
       "      <th>2</th>\n",
       "      <td>2</td>\n",
       "      <td>0.591906</td>\n",
       "      <td>0.455430</td>\n",
       "      <td>0.660168</td>\n",
       "      <td>0.654209</td>\n",
       "      <td>0.203578</td>\n",
       "      <td>0.0</td>\n",
       "      <td>NaN</td>\n",
       "    </tr>\n",
       "    <tr>\n",
       "      <th>3</th>\n",
       "      <td>3</td>\n",
       "      <td>0.823440</td>\n",
       "      <td>0.818106</td>\n",
       "      <td>0.928084</td>\n",
       "      <td>0.220220</td>\n",
       "      <td>0.564243</td>\n",
       "      <td>0.0</td>\n",
       "      <td>NaN</td>\n",
       "    </tr>\n",
       "    <tr>\n",
       "      <th>4</th>\n",
       "      <td>4</td>\n",
       "      <td>0.322695</td>\n",
       "      <td>0.008496</td>\n",
       "      <td>0.221716</td>\n",
       "      <td>0.778347</td>\n",
       "      <td>0.928202</td>\n",
       "      <td>0.0</td>\n",
       "      <td>NaN</td>\n",
       "    </tr>\n",
       "    <tr>\n",
       "      <th>5</th>\n",
       "      <td>5</td>\n",
       "      <td>0.785739</td>\n",
       "      <td>0.659706</td>\n",
       "      <td>0.816835</td>\n",
       "      <td>0.557003</td>\n",
       "      <td>0.504913</td>\n",
       "      <td>0.0</td>\n",
       "      <td>NaN</td>\n",
       "    </tr>\n",
       "    <tr>\n",
       "      <th>6</th>\n",
       "      <td>6</td>\n",
       "      <td>0.806084</td>\n",
       "      <td>0.765078</td>\n",
       "      <td>0.354593</td>\n",
       "      <td>0.959027</td>\n",
       "      <td>0.081197</td>\n",
       "      <td>0.0</td>\n",
       "      <td>NaN</td>\n",
       "    </tr>\n",
       "    <tr>\n",
       "      <th>7</th>\n",
       "      <td>7</td>\n",
       "      <td>0.852401</td>\n",
       "      <td>0.503085</td>\n",
       "      <td>0.166095</td>\n",
       "      <td>0.639045</td>\n",
       "      <td>0.748289</td>\n",
       "      <td>0.0</td>\n",
       "      <td>NaN</td>\n",
       "    </tr>\n",
       "    <tr>\n",
       "      <th>8</th>\n",
       "      <td>8</td>\n",
       "      <td>0.283755</td>\n",
       "      <td>0.580570</td>\n",
       "      <td>0.703693</td>\n",
       "      <td>0.675667</td>\n",
       "      <td>0.013958</td>\n",
       "      <td>0.0</td>\n",
       "      <td>NaN</td>\n",
       "    </tr>\n",
       "    <tr>\n",
       "      <th>9</th>\n",
       "      <td>9</td>\n",
       "      <td>0.260743</td>\n",
       "      <td>0.451859</td>\n",
       "      <td>0.182311</td>\n",
       "      <td>0.656980</td>\n",
       "      <td>0.824166</td>\n",
       "      <td>0.0</td>\n",
       "      <td>NaN</td>\n",
       "    </tr>\n",
       "  </tbody>\n",
       "</table>\n",
       "</div>"
      ],
      "text/plain": [
       "   nueva_cero      col1      col2  nueva_col      col4      col5  ceros  nulos\n",
       "0           0  0.768417  0.521098   0.998012  0.878787  0.399540    0.0    NaN\n",
       "1           1  0.681007  0.052415   0.877106  0.242083  0.353938    0.0    NaN\n",
       "2           2  0.591906  0.455430   0.660168  0.654209  0.203578    0.0    NaN\n",
       "3           3  0.823440  0.818106   0.928084  0.220220  0.564243    0.0    NaN\n",
       "4           4  0.322695  0.008496   0.221716  0.778347  0.928202    0.0    NaN\n",
       "5           5  0.785739  0.659706   0.816835  0.557003  0.504913    0.0    NaN\n",
       "6           6  0.806084  0.765078   0.354593  0.959027  0.081197    0.0    NaN\n",
       "7           7  0.852401  0.503085   0.166095  0.639045  0.748289    0.0    NaN\n",
       "8           8  0.283755  0.580570   0.703693  0.675667  0.013958    0.0    NaN\n",
       "9           9  0.260743  0.451859   0.182311  0.656980  0.824166    0.0    NaN"
      ]
     },
     "execution_count": 66,
     "metadata": {},
     "output_type": "execute_result"
    }
   ],
   "source": [
    "df['nulos'] = np.nan\n",
    "\n",
    "df"
   ]
  },
  {
   "cell_type": "code",
   "execution_count": 67,
   "metadata": {},
   "outputs": [
    {
     "data": {
      "text/plain": [
       "(10, 8)"
      ]
     },
     "execution_count": 67,
     "metadata": {},
     "output_type": "execute_result"
    }
   ],
   "source": [
    "df.shape"
   ]
  },
  {
   "cell_type": "code",
   "execution_count": 68,
   "metadata": {},
   "outputs": [
    {
     "data": {
      "text/plain": [
       "80"
      ]
     },
     "execution_count": 68,
     "metadata": {},
     "output_type": "execute_result"
    }
   ],
   "source": [
    "df.size"
   ]
  },
  {
   "cell_type": "code",
   "execution_count": 69,
   "metadata": {},
   "outputs": [
    {
     "data": {
      "text/plain": [
       "10"
      ]
     },
     "execution_count": 69,
     "metadata": {},
     "output_type": "execute_result"
    }
   ],
   "source": [
    "len(df)   # filas"
   ]
  },
  {
   "cell_type": "code",
   "execution_count": 72,
   "metadata": {},
   "outputs": [
    {
     "data": {
      "text/plain": [
       "10"
      ]
     },
     "execution_count": 72,
     "metadata": {},
     "output_type": "execute_result"
    }
   ],
   "source": [
    "df.shape[0]"
   ]
  },
  {
   "cell_type": "code",
   "execution_count": 73,
   "metadata": {},
   "outputs": [
    {
     "data": {
      "text/html": [
       "<div>\n",
       "<style scoped>\n",
       "    .dataframe tbody tr th:only-of-type {\n",
       "        vertical-align: middle;\n",
       "    }\n",
       "\n",
       "    .dataframe tbody tr th {\n",
       "        vertical-align: top;\n",
       "    }\n",
       "\n",
       "    .dataframe thead th {\n",
       "        text-align: right;\n",
       "    }\n",
       "</style>\n",
       "<table border=\"1\" class=\"dataframe\">\n",
       "  <thead>\n",
       "    <tr style=\"text-align: right;\">\n",
       "      <th></th>\n",
       "      <th>nueva_cero</th>\n",
       "      <th>col1</th>\n",
       "      <th>col2</th>\n",
       "      <th>nueva_col</th>\n",
       "      <th>col4</th>\n",
       "      <th>col5</th>\n",
       "      <th>ceros</th>\n",
       "      <th>nulos</th>\n",
       "      <th>col10</th>\n",
       "    </tr>\n",
       "  </thead>\n",
       "  <tbody>\n",
       "    <tr>\n",
       "      <th>0</th>\n",
       "      <td>0</td>\n",
       "      <td>0.768417</td>\n",
       "      <td>0.521098</td>\n",
       "      <td>0.998012</td>\n",
       "      <td>0.878787</td>\n",
       "      <td>0.399540</td>\n",
       "      <td>0.0</td>\n",
       "      <td>NaN</td>\n",
       "      <td>1.295870</td>\n",
       "    </tr>\n",
       "    <tr>\n",
       "      <th>1</th>\n",
       "      <td>1</td>\n",
       "      <td>0.681007</td>\n",
       "      <td>0.052415</td>\n",
       "      <td>0.877106</td>\n",
       "      <td>0.242083</td>\n",
       "      <td>0.353938</td>\n",
       "      <td>0.0</td>\n",
       "      <td>NaN</td>\n",
       "      <td>3.145267</td>\n",
       "    </tr>\n",
       "    <tr>\n",
       "      <th>2</th>\n",
       "      <td>2</td>\n",
       "      <td>0.591906</td>\n",
       "      <td>0.455430</td>\n",
       "      <td>0.660168</td>\n",
       "      <td>0.654209</td>\n",
       "      <td>0.203578</td>\n",
       "      <td>0.0</td>\n",
       "      <td>NaN</td>\n",
       "      <td>0.850251</td>\n",
       "    </tr>\n",
       "    <tr>\n",
       "      <th>3</th>\n",
       "      <td>3</td>\n",
       "      <td>0.823440</td>\n",
       "      <td>0.818106</td>\n",
       "      <td>0.928084</td>\n",
       "      <td>0.220220</td>\n",
       "      <td>0.564243</td>\n",
       "      <td>0.0</td>\n",
       "      <td>NaN</td>\n",
       "      <td>0.221656</td>\n",
       "    </tr>\n",
       "    <tr>\n",
       "      <th>4</th>\n",
       "      <td>4</td>\n",
       "      <td>0.322695</td>\n",
       "      <td>0.008496</td>\n",
       "      <td>0.221716</td>\n",
       "      <td>0.778347</td>\n",
       "      <td>0.928202</td>\n",
       "      <td>0.0</td>\n",
       "      <td>NaN</td>\n",
       "      <td>29.561715</td>\n",
       "    </tr>\n",
       "    <tr>\n",
       "      <th>5</th>\n",
       "      <td>5</td>\n",
       "      <td>0.785739</td>\n",
       "      <td>0.659706</td>\n",
       "      <td>0.816835</td>\n",
       "      <td>0.557003</td>\n",
       "      <td>0.504913</td>\n",
       "      <td>0.0</td>\n",
       "      <td>NaN</td>\n",
       "      <td>0.663416</td>\n",
       "    </tr>\n",
       "    <tr>\n",
       "      <th>6</th>\n",
       "      <td>6</td>\n",
       "      <td>0.806084</td>\n",
       "      <td>0.765078</td>\n",
       "      <td>0.354593</td>\n",
       "      <td>0.959027</td>\n",
       "      <td>0.081197</td>\n",
       "      <td>0.0</td>\n",
       "      <td>NaN</td>\n",
       "      <td>1.010428</td>\n",
       "    </tr>\n",
       "    <tr>\n",
       "      <th>7</th>\n",
       "      <td>7</td>\n",
       "      <td>0.852401</td>\n",
       "      <td>0.503085</td>\n",
       "      <td>0.166095</td>\n",
       "      <td>0.639045</td>\n",
       "      <td>0.748289</td>\n",
       "      <td>0.0</td>\n",
       "      <td>NaN</td>\n",
       "      <td>1.082765</td>\n",
       "    </tr>\n",
       "    <tr>\n",
       "      <th>8</th>\n",
       "      <td>8</td>\n",
       "      <td>0.283755</td>\n",
       "      <td>0.580570</td>\n",
       "      <td>0.703693</td>\n",
       "      <td>0.675667</td>\n",
       "      <td>0.013958</td>\n",
       "      <td>0.0</td>\n",
       "      <td>NaN</td>\n",
       "      <td>0.330234</td>\n",
       "    </tr>\n",
       "    <tr>\n",
       "      <th>9</th>\n",
       "      <td>9</td>\n",
       "      <td>0.260743</td>\n",
       "      <td>0.451859</td>\n",
       "      <td>0.182311</td>\n",
       "      <td>0.656980</td>\n",
       "      <td>0.824166</td>\n",
       "      <td>0.0</td>\n",
       "      <td>NaN</td>\n",
       "      <td>0.379108</td>\n",
       "    </tr>\n",
       "  </tbody>\n",
       "</table>\n",
       "</div>"
      ],
      "text/plain": [
       "   nueva_cero      col1      col2  nueva_col      col4      col5  ceros  \\\n",
       "0           0  0.768417  0.521098   0.998012  0.878787  0.399540    0.0   \n",
       "1           1  0.681007  0.052415   0.877106  0.242083  0.353938    0.0   \n",
       "2           2  0.591906  0.455430   0.660168  0.654209  0.203578    0.0   \n",
       "3           3  0.823440  0.818106   0.928084  0.220220  0.564243    0.0   \n",
       "4           4  0.322695  0.008496   0.221716  0.778347  0.928202    0.0   \n",
       "5           5  0.785739  0.659706   0.816835  0.557003  0.504913    0.0   \n",
       "6           6  0.806084  0.765078   0.354593  0.959027  0.081197    0.0   \n",
       "7           7  0.852401  0.503085   0.166095  0.639045  0.748289    0.0   \n",
       "8           8  0.283755  0.580570   0.703693  0.675667  0.013958    0.0   \n",
       "9           9  0.260743  0.451859   0.182311  0.656980  0.824166    0.0   \n",
       "\n",
       "   nulos      col10  \n",
       "0    NaN   1.295870  \n",
       "1    NaN   3.145267  \n",
       "2    NaN   0.850251  \n",
       "3    NaN   0.221656  \n",
       "4    NaN  29.561715  \n",
       "5    NaN   0.663416  \n",
       "6    NaN   1.010428  \n",
       "7    NaN   1.082765  \n",
       "8    NaN   0.330234  \n",
       "9    NaN   0.379108  "
      ]
     },
     "execution_count": 73,
     "metadata": {},
     "output_type": "execute_result"
    }
   ],
   "source": [
    "df['col10'] = df.col1 * df.col4 / df.col2\n",
    "\n",
    "df"
   ]
  },
  {
   "cell_type": "code",
   "execution_count": 79,
   "metadata": {},
   "outputs": [
    {
     "data": {
      "text/html": [
       "<div>\n",
       "<style scoped>\n",
       "    .dataframe tbody tr th:only-of-type {\n",
       "        vertical-align: middle;\n",
       "    }\n",
       "\n",
       "    .dataframe tbody tr th {\n",
       "        vertical-align: top;\n",
       "    }\n",
       "\n",
       "    .dataframe thead th {\n",
       "        text-align: right;\n",
       "    }\n",
       "</style>\n",
       "<table border=\"1\" class=\"dataframe\">\n",
       "  <thead>\n",
       "    <tr style=\"text-align: right;\">\n",
       "      <th></th>\n",
       "      <th>count</th>\n",
       "      <th>mean</th>\n",
       "      <th>std</th>\n",
       "      <th>min</th>\n",
       "      <th>25%</th>\n",
       "      <th>50%</th>\n",
       "      <th>75%</th>\n",
       "      <th>max</th>\n",
       "    </tr>\n",
       "  </thead>\n",
       "  <tbody>\n",
       "    <tr>\n",
       "      <th>nueva_cero</th>\n",
       "      <td>10.0</td>\n",
       "      <td>4.500000</td>\n",
       "      <td>3.027650</td>\n",
       "      <td>0.000000</td>\n",
       "      <td>2.250000</td>\n",
       "      <td>4.500000</td>\n",
       "      <td>6.750000</td>\n",
       "      <td>9.000000</td>\n",
       "    </tr>\n",
       "    <tr>\n",
       "      <th>col1</th>\n",
       "      <td>10.0</td>\n",
       "      <td>0.617619</td>\n",
       "      <td>0.239094</td>\n",
       "      <td>0.260743</td>\n",
       "      <td>0.389998</td>\n",
       "      <td>0.724712</td>\n",
       "      <td>0.800998</td>\n",
       "      <td>0.852401</td>\n",
       "    </tr>\n",
       "    <tr>\n",
       "      <th>col2</th>\n",
       "      <td>10.0</td>\n",
       "      <td>0.481584</td>\n",
       "      <td>0.268065</td>\n",
       "      <td>0.008496</td>\n",
       "      <td>0.452752</td>\n",
       "      <td>0.512091</td>\n",
       "      <td>0.639922</td>\n",
       "      <td>0.818106</td>\n",
       "    </tr>\n",
       "    <tr>\n",
       "      <th>nueva_col</th>\n",
       "      <td>10.0</td>\n",
       "      <td>0.590861</td>\n",
       "      <td>0.328203</td>\n",
       "      <td>0.166095</td>\n",
       "      <td>0.254935</td>\n",
       "      <td>0.681930</td>\n",
       "      <td>0.862038</td>\n",
       "      <td>0.998012</td>\n",
       "    </tr>\n",
       "    <tr>\n",
       "      <th>col4</th>\n",
       "      <td>10.0</td>\n",
       "      <td>0.626137</td>\n",
       "      <td>0.240190</td>\n",
       "      <td>0.220220</td>\n",
       "      <td>0.577514</td>\n",
       "      <td>0.655595</td>\n",
       "      <td>0.752677</td>\n",
       "      <td>0.959027</td>\n",
       "    </tr>\n",
       "    <tr>\n",
       "      <th>col5</th>\n",
       "      <td>10.0</td>\n",
       "      <td>0.462202</td>\n",
       "      <td>0.311069</td>\n",
       "      <td>0.013958</td>\n",
       "      <td>0.241168</td>\n",
       "      <td>0.452226</td>\n",
       "      <td>0.702278</td>\n",
       "      <td>0.928202</td>\n",
       "    </tr>\n",
       "    <tr>\n",
       "      <th>ceros</th>\n",
       "      <td>10.0</td>\n",
       "      <td>0.000000</td>\n",
       "      <td>0.000000</td>\n",
       "      <td>0.000000</td>\n",
       "      <td>0.000000</td>\n",
       "      <td>0.000000</td>\n",
       "      <td>0.000000</td>\n",
       "      <td>0.000000</td>\n",
       "    </tr>\n",
       "    <tr>\n",
       "      <th>nulos</th>\n",
       "      <td>0.0</td>\n",
       "      <td>NaN</td>\n",
       "      <td>NaN</td>\n",
       "      <td>NaN</td>\n",
       "      <td>NaN</td>\n",
       "      <td>NaN</td>\n",
       "      <td>NaN</td>\n",
       "      <td>NaN</td>\n",
       "    </tr>\n",
       "    <tr>\n",
       "      <th>col10</th>\n",
       "      <td>10.0</td>\n",
       "      <td>3.854071</td>\n",
       "      <td>9.071241</td>\n",
       "      <td>0.221656</td>\n",
       "      <td>0.450185</td>\n",
       "      <td>0.930340</td>\n",
       "      <td>1.242593</td>\n",
       "      <td>29.561715</td>\n",
       "    </tr>\n",
       "  </tbody>\n",
       "</table>\n",
       "</div>"
      ],
      "text/plain": [
       "            count      mean       std       min       25%       50%       75%  \\\n",
       "nueva_cero   10.0  4.500000  3.027650  0.000000  2.250000  4.500000  6.750000   \n",
       "col1         10.0  0.617619  0.239094  0.260743  0.389998  0.724712  0.800998   \n",
       "col2         10.0  0.481584  0.268065  0.008496  0.452752  0.512091  0.639922   \n",
       "nueva_col    10.0  0.590861  0.328203  0.166095  0.254935  0.681930  0.862038   \n",
       "col4         10.0  0.626137  0.240190  0.220220  0.577514  0.655595  0.752677   \n",
       "col5         10.0  0.462202  0.311069  0.013958  0.241168  0.452226  0.702278   \n",
       "ceros        10.0  0.000000  0.000000  0.000000  0.000000  0.000000  0.000000   \n",
       "nulos         0.0       NaN       NaN       NaN       NaN       NaN       NaN   \n",
       "col10        10.0  3.854071  9.071241  0.221656  0.450185  0.930340  1.242593   \n",
       "\n",
       "                  max  \n",
       "nueva_cero   9.000000  \n",
       "col1         0.852401  \n",
       "col2         0.818106  \n",
       "nueva_col    0.998012  \n",
       "col4         0.959027  \n",
       "col5         0.928202  \n",
       "ceros        0.000000  \n",
       "nulos             NaN  \n",
       "col10       29.561715  "
      ]
     },
     "execution_count": 79,
     "metadata": {},
     "output_type": "execute_result"
    }
   ],
   "source": [
    "df.describe().T"
   ]
  },
  {
   "cell_type": "code",
   "execution_count": 80,
   "metadata": {},
   "outputs": [
    {
     "name": "stdout",
     "output_type": "stream",
     "text": [
      "<class 'pandas.core.frame.DataFrame'>\n",
      "RangeIndex: 10 entries, 0 to 9\n",
      "Data columns (total 9 columns):\n",
      " #   Column      Non-Null Count  Dtype  \n",
      "---  ------      --------------  -----  \n",
      " 0   nueva_cero  10 non-null     int64  \n",
      " 1   col1        10 non-null     float64\n",
      " 2   col2        10 non-null     float64\n",
      " 3   nueva_col   10 non-null     float64\n",
      " 4   col4        10 non-null     float64\n",
      " 5   col5        10 non-null     float64\n",
      " 6   ceros       10 non-null     float64\n",
      " 7   nulos       0 non-null      float64\n",
      " 8   col10       10 non-null     float64\n",
      "dtypes: float64(8), int64(1)\n",
      "memory usage: 848.0 bytes\n"
     ]
    }
   ],
   "source": [
    "df.info()"
   ]
  },
  {
   "cell_type": "code",
   "execution_count": 84,
   "metadata": {},
   "outputs": [],
   "source": [
    "df.fillna('hola', inplace=True)   # sobreescribe con inplace=True"
   ]
  },
  {
   "cell_type": "code",
   "execution_count": 86,
   "metadata": {},
   "outputs": [],
   "source": [
    "df.col1 = df.col1.fillna(0)       # sobreescribe con igualacion"
   ]
  },
  {
   "cell_type": "code",
   "execution_count": 87,
   "metadata": {},
   "outputs": [
    {
     "data": {
      "text/html": [
       "<div>\n",
       "<style scoped>\n",
       "    .dataframe tbody tr th:only-of-type {\n",
       "        vertical-align: middle;\n",
       "    }\n",
       "\n",
       "    .dataframe tbody tr th {\n",
       "        vertical-align: top;\n",
       "    }\n",
       "\n",
       "    .dataframe thead th {\n",
       "        text-align: right;\n",
       "    }\n",
       "</style>\n",
       "<table border=\"1\" class=\"dataframe\">\n",
       "  <thead>\n",
       "    <tr style=\"text-align: right;\">\n",
       "      <th></th>\n",
       "      <th>nueva_cero</th>\n",
       "      <th>col1</th>\n",
       "      <th>col2</th>\n",
       "      <th>nueva_col</th>\n",
       "      <th>col4</th>\n",
       "      <th>col5</th>\n",
       "      <th>ceros</th>\n",
       "      <th>nulos</th>\n",
       "      <th>col10</th>\n",
       "    </tr>\n",
       "  </thead>\n",
       "  <tbody>\n",
       "    <tr>\n",
       "      <th>0</th>\n",
       "      <td>0</td>\n",
       "      <td>0.768417</td>\n",
       "      <td>0.521098</td>\n",
       "      <td>0.998012</td>\n",
       "      <td>0.878787</td>\n",
       "      <td>0.399540</td>\n",
       "      <td>0.0</td>\n",
       "      <td>hola</td>\n",
       "      <td>1.295870</td>\n",
       "    </tr>\n",
       "    <tr>\n",
       "      <th>1</th>\n",
       "      <td>1</td>\n",
       "      <td>0.681007</td>\n",
       "      <td>0.052415</td>\n",
       "      <td>0.877106</td>\n",
       "      <td>0.242083</td>\n",
       "      <td>0.353938</td>\n",
       "      <td>0.0</td>\n",
       "      <td>hola</td>\n",
       "      <td>3.145267</td>\n",
       "    </tr>\n",
       "    <tr>\n",
       "      <th>2</th>\n",
       "      <td>2</td>\n",
       "      <td>0.591906</td>\n",
       "      <td>0.455430</td>\n",
       "      <td>0.660168</td>\n",
       "      <td>0.654209</td>\n",
       "      <td>0.203578</td>\n",
       "      <td>0.0</td>\n",
       "      <td>hola</td>\n",
       "      <td>0.850251</td>\n",
       "    </tr>\n",
       "    <tr>\n",
       "      <th>3</th>\n",
       "      <td>3</td>\n",
       "      <td>0.823440</td>\n",
       "      <td>0.818106</td>\n",
       "      <td>0.928084</td>\n",
       "      <td>0.220220</td>\n",
       "      <td>0.564243</td>\n",
       "      <td>0.0</td>\n",
       "      <td>hola</td>\n",
       "      <td>0.221656</td>\n",
       "    </tr>\n",
       "    <tr>\n",
       "      <th>4</th>\n",
       "      <td>4</td>\n",
       "      <td>0.322695</td>\n",
       "      <td>0.008496</td>\n",
       "      <td>0.221716</td>\n",
       "      <td>0.778347</td>\n",
       "      <td>0.928202</td>\n",
       "      <td>0.0</td>\n",
       "      <td>hola</td>\n",
       "      <td>29.561715</td>\n",
       "    </tr>\n",
       "    <tr>\n",
       "      <th>5</th>\n",
       "      <td>5</td>\n",
       "      <td>0.785739</td>\n",
       "      <td>0.659706</td>\n",
       "      <td>0.816835</td>\n",
       "      <td>0.557003</td>\n",
       "      <td>0.504913</td>\n",
       "      <td>0.0</td>\n",
       "      <td>hola</td>\n",
       "      <td>0.663416</td>\n",
       "    </tr>\n",
       "    <tr>\n",
       "      <th>6</th>\n",
       "      <td>6</td>\n",
       "      <td>0.806084</td>\n",
       "      <td>0.765078</td>\n",
       "      <td>0.354593</td>\n",
       "      <td>0.959027</td>\n",
       "      <td>0.081197</td>\n",
       "      <td>0.0</td>\n",
       "      <td>hola</td>\n",
       "      <td>1.010428</td>\n",
       "    </tr>\n",
       "    <tr>\n",
       "      <th>7</th>\n",
       "      <td>7</td>\n",
       "      <td>0.852401</td>\n",
       "      <td>0.503085</td>\n",
       "      <td>0.166095</td>\n",
       "      <td>0.639045</td>\n",
       "      <td>0.748289</td>\n",
       "      <td>0.0</td>\n",
       "      <td>hola</td>\n",
       "      <td>1.082765</td>\n",
       "    </tr>\n",
       "    <tr>\n",
       "      <th>8</th>\n",
       "      <td>8</td>\n",
       "      <td>0.283755</td>\n",
       "      <td>0.580570</td>\n",
       "      <td>0.703693</td>\n",
       "      <td>0.675667</td>\n",
       "      <td>0.013958</td>\n",
       "      <td>0.0</td>\n",
       "      <td>hola</td>\n",
       "      <td>0.330234</td>\n",
       "    </tr>\n",
       "    <tr>\n",
       "      <th>9</th>\n",
       "      <td>9</td>\n",
       "      <td>0.260743</td>\n",
       "      <td>0.451859</td>\n",
       "      <td>0.182311</td>\n",
       "      <td>0.656980</td>\n",
       "      <td>0.824166</td>\n",
       "      <td>0.0</td>\n",
       "      <td>hola</td>\n",
       "      <td>0.379108</td>\n",
       "    </tr>\n",
       "  </tbody>\n",
       "</table>\n",
       "</div>"
      ],
      "text/plain": [
       "   nueva_cero      col1      col2  nueva_col      col4      col5  ceros nulos  \\\n",
       "0           0  0.768417  0.521098   0.998012  0.878787  0.399540    0.0  hola   \n",
       "1           1  0.681007  0.052415   0.877106  0.242083  0.353938    0.0  hola   \n",
       "2           2  0.591906  0.455430   0.660168  0.654209  0.203578    0.0  hola   \n",
       "3           3  0.823440  0.818106   0.928084  0.220220  0.564243    0.0  hola   \n",
       "4           4  0.322695  0.008496   0.221716  0.778347  0.928202    0.0  hola   \n",
       "5           5  0.785739  0.659706   0.816835  0.557003  0.504913    0.0  hola   \n",
       "6           6  0.806084  0.765078   0.354593  0.959027  0.081197    0.0  hola   \n",
       "7           7  0.852401  0.503085   0.166095  0.639045  0.748289    0.0  hola   \n",
       "8           8  0.283755  0.580570   0.703693  0.675667  0.013958    0.0  hola   \n",
       "9           9  0.260743  0.451859   0.182311  0.656980  0.824166    0.0  hola   \n",
       "\n",
       "       col10  \n",
       "0   1.295870  \n",
       "1   3.145267  \n",
       "2   0.850251  \n",
       "3   0.221656  \n",
       "4  29.561715  \n",
       "5   0.663416  \n",
       "6   1.010428  \n",
       "7   1.082765  \n",
       "8   0.330234  \n",
       "9   0.379108  "
      ]
     },
     "execution_count": 87,
     "metadata": {},
     "output_type": "execute_result"
    }
   ],
   "source": [
    "df"
   ]
  },
  {
   "cell_type": "code",
   "execution_count": 88,
   "metadata": {},
   "outputs": [],
   "source": [
    "# introducir datos desde una lista de listas\n",
    "\n",
    "lst_lst=[[687261, 'hola', 4728364], \n",
    "         [83546, 'adios', 58943], \n",
    "         [321, 'oo^oo']]\n",
    "\n",
    "\n",
    "columnas=['num', 'palabra', 'otro_num']"
   ]
  },
  {
   "cell_type": "code",
   "execution_count": 89,
   "metadata": {},
   "outputs": [
    {
     "data": {
      "text/html": [
       "<div>\n",
       "<style scoped>\n",
       "    .dataframe tbody tr th:only-of-type {\n",
       "        vertical-align: middle;\n",
       "    }\n",
       "\n",
       "    .dataframe tbody tr th {\n",
       "        vertical-align: top;\n",
       "    }\n",
       "\n",
       "    .dataframe thead th {\n",
       "        text-align: right;\n",
       "    }\n",
       "</style>\n",
       "<table border=\"1\" class=\"dataframe\">\n",
       "  <thead>\n",
       "    <tr style=\"text-align: right;\">\n",
       "      <th></th>\n",
       "      <th>num</th>\n",
       "      <th>palabra</th>\n",
       "      <th>otro_num</th>\n",
       "    </tr>\n",
       "  </thead>\n",
       "  <tbody>\n",
       "    <tr>\n",
       "      <th>0</th>\n",
       "      <td>687261</td>\n",
       "      <td>hola</td>\n",
       "      <td>4728364.0</td>\n",
       "    </tr>\n",
       "    <tr>\n",
       "      <th>1</th>\n",
       "      <td>83546</td>\n",
       "      <td>adios</td>\n",
       "      <td>58943.0</td>\n",
       "    </tr>\n",
       "    <tr>\n",
       "      <th>2</th>\n",
       "      <td>321</td>\n",
       "      <td>oo^oo</td>\n",
       "      <td>NaN</td>\n",
       "    </tr>\n",
       "  </tbody>\n",
       "</table>\n",
       "</div>"
      ],
      "text/plain": [
       "      num palabra   otro_num\n",
       "0  687261    hola  4728364.0\n",
       "1   83546   adios    58943.0\n",
       "2     321   oo^oo        NaN"
      ]
     },
     "execution_count": 89,
     "metadata": {},
     "output_type": "execute_result"
    }
   ],
   "source": [
    "df_lst = pd.DataFrame(lst_lst, columns=columnas)\n",
    "\n",
    "df_lst"
   ]
  },
  {
   "cell_type": "code",
   "execution_count": 90,
   "metadata": {},
   "outputs": [
    {
     "data": {
      "text/plain": [
       "0    687261\n",
       "1     83546\n",
       "2       321\n",
       "Name: num, dtype: int64"
      ]
     },
     "execution_count": 90,
     "metadata": {},
     "output_type": "execute_result"
    }
   ],
   "source": [
    "df_lst['num']"
   ]
  },
  {
   "cell_type": "code",
   "execution_count": 92,
   "metadata": {},
   "outputs": [],
   "source": [
    "df_lst['otro_num'].fillna(0, inplace=True)"
   ]
  },
  {
   "cell_type": "code",
   "execution_count": 93,
   "metadata": {},
   "outputs": [
    {
     "data": {
      "text/html": [
       "<div>\n",
       "<style scoped>\n",
       "    .dataframe tbody tr th:only-of-type {\n",
       "        vertical-align: middle;\n",
       "    }\n",
       "\n",
       "    .dataframe tbody tr th {\n",
       "        vertical-align: top;\n",
       "    }\n",
       "\n",
       "    .dataframe thead th {\n",
       "        text-align: right;\n",
       "    }\n",
       "</style>\n",
       "<table border=\"1\" class=\"dataframe\">\n",
       "  <thead>\n",
       "    <tr style=\"text-align: right;\">\n",
       "      <th></th>\n",
       "      <th>num</th>\n",
       "      <th>palabra</th>\n",
       "      <th>otro_num</th>\n",
       "    </tr>\n",
       "  </thead>\n",
       "  <tbody>\n",
       "    <tr>\n",
       "      <th>0</th>\n",
       "      <td>687261</td>\n",
       "      <td>hola</td>\n",
       "      <td>4728364.0</td>\n",
       "    </tr>\n",
       "    <tr>\n",
       "      <th>1</th>\n",
       "      <td>83546</td>\n",
       "      <td>adios</td>\n",
       "      <td>58943.0</td>\n",
       "    </tr>\n",
       "    <tr>\n",
       "      <th>2</th>\n",
       "      <td>321</td>\n",
       "      <td>oo^oo</td>\n",
       "      <td>0.0</td>\n",
       "    </tr>\n",
       "  </tbody>\n",
       "</table>\n",
       "</div>"
      ],
      "text/plain": [
       "      num palabra   otro_num\n",
       "0  687261    hola  4728364.0\n",
       "1   83546   adios    58943.0\n",
       "2     321   oo^oo        0.0"
      ]
     },
     "execution_count": 93,
     "metadata": {},
     "output_type": "execute_result"
    }
   ],
   "source": [
    "df_lst"
   ]
  },
  {
   "cell_type": "code",
   "execution_count": 94,
   "metadata": {},
   "outputs": [
    {
     "data": {
      "text/plain": [
       "{'casa': [687261, 'hola', 4728364],\n",
       " 'oficina': [83546, 'adios', 58943],\n",
       " 'numero': [321, 'oo^oo', 0]}"
      ]
     },
     "execution_count": 94,
     "metadata": {},
     "output_type": "execute_result"
    }
   ],
   "source": [
    "# con dictio\n",
    "\n",
    "dictio={'casa': lst_lst[0],\n",
    "        'oficina': lst_lst[1],\n",
    "        'numero': lst_lst[2]+[0]}\n",
    "\n",
    "dictio"
   ]
  },
  {
   "cell_type": "code",
   "execution_count": 95,
   "metadata": {},
   "outputs": [
    {
     "data": {
      "text/html": [
       "<div>\n",
       "<style scoped>\n",
       "    .dataframe tbody tr th:only-of-type {\n",
       "        vertical-align: middle;\n",
       "    }\n",
       "\n",
       "    .dataframe tbody tr th {\n",
       "        vertical-align: top;\n",
       "    }\n",
       "\n",
       "    .dataframe thead th {\n",
       "        text-align: right;\n",
       "    }\n",
       "</style>\n",
       "<table border=\"1\" class=\"dataframe\">\n",
       "  <thead>\n",
       "    <tr style=\"text-align: right;\">\n",
       "      <th></th>\n",
       "      <th>casa</th>\n",
       "      <th>oficina</th>\n",
       "      <th>numero</th>\n",
       "    </tr>\n",
       "  </thead>\n",
       "  <tbody>\n",
       "    <tr>\n",
       "      <th>0</th>\n",
       "      <td>687261</td>\n",
       "      <td>83546</td>\n",
       "      <td>321</td>\n",
       "    </tr>\n",
       "    <tr>\n",
       "      <th>1</th>\n",
       "      <td>hola</td>\n",
       "      <td>adios</td>\n",
       "      <td>oo^oo</td>\n",
       "    </tr>\n",
       "    <tr>\n",
       "      <th>2</th>\n",
       "      <td>4728364</td>\n",
       "      <td>58943</td>\n",
       "      <td>0</td>\n",
       "    </tr>\n",
       "  </tbody>\n",
       "</table>\n",
       "</div>"
      ],
      "text/plain": [
       "      casa oficina numero\n",
       "0   687261   83546    321\n",
       "1     hola   adios  oo^oo\n",
       "2  4728364   58943      0"
      ]
     },
     "execution_count": 95,
     "metadata": {},
     "output_type": "execute_result"
    }
   ],
   "source": [
    "df_dictio = pd.DataFrame(dictio)\n",
    "\n",
    "df_dictio"
   ]
  },
  {
   "cell_type": "code",
   "execution_count": 96,
   "metadata": {},
   "outputs": [],
   "source": [
    "df.drop(columns=['col1', 'col2'], inplace=True)"
   ]
  },
  {
   "cell_type": "code",
   "execution_count": 98,
   "metadata": {},
   "outputs": [],
   "source": [
    "df.drop(0, axis=0, inplace=True)  # fila 0, eje 0 (por filas)"
   ]
  },
  {
   "cell_type": "code",
   "execution_count": 100,
   "metadata": {},
   "outputs": [],
   "source": [
    "df.drop(8, axis=0, inplace=True)  # fila8, eje 0 (por filas)"
   ]
  },
  {
   "cell_type": "code",
   "execution_count": 101,
   "metadata": {},
   "outputs": [
    {
     "data": {
      "text/html": [
       "<div>\n",
       "<style scoped>\n",
       "    .dataframe tbody tr th:only-of-type {\n",
       "        vertical-align: middle;\n",
       "    }\n",
       "\n",
       "    .dataframe tbody tr th {\n",
       "        vertical-align: top;\n",
       "    }\n",
       "\n",
       "    .dataframe thead th {\n",
       "        text-align: right;\n",
       "    }\n",
       "</style>\n",
       "<table border=\"1\" class=\"dataframe\">\n",
       "  <thead>\n",
       "    <tr style=\"text-align: right;\">\n",
       "      <th></th>\n",
       "      <th>nueva_cero</th>\n",
       "      <th>nueva_col</th>\n",
       "      <th>col4</th>\n",
       "      <th>col5</th>\n",
       "      <th>ceros</th>\n",
       "      <th>nulos</th>\n",
       "      <th>col10</th>\n",
       "    </tr>\n",
       "  </thead>\n",
       "  <tbody>\n",
       "    <tr>\n",
       "      <th>1</th>\n",
       "      <td>1</td>\n",
       "      <td>0.877106</td>\n",
       "      <td>0.242083</td>\n",
       "      <td>0.353938</td>\n",
       "      <td>0.0</td>\n",
       "      <td>hola</td>\n",
       "      <td>3.145267</td>\n",
       "    </tr>\n",
       "    <tr>\n",
       "      <th>2</th>\n",
       "      <td>2</td>\n",
       "      <td>0.660168</td>\n",
       "      <td>0.654209</td>\n",
       "      <td>0.203578</td>\n",
       "      <td>0.0</td>\n",
       "      <td>hola</td>\n",
       "      <td>0.850251</td>\n",
       "    </tr>\n",
       "    <tr>\n",
       "      <th>3</th>\n",
       "      <td>3</td>\n",
       "      <td>0.928084</td>\n",
       "      <td>0.220220</td>\n",
       "      <td>0.564243</td>\n",
       "      <td>0.0</td>\n",
       "      <td>hola</td>\n",
       "      <td>0.221656</td>\n",
       "    </tr>\n",
       "    <tr>\n",
       "      <th>4</th>\n",
       "      <td>4</td>\n",
       "      <td>0.221716</td>\n",
       "      <td>0.778347</td>\n",
       "      <td>0.928202</td>\n",
       "      <td>0.0</td>\n",
       "      <td>hola</td>\n",
       "      <td>29.561715</td>\n",
       "    </tr>\n",
       "    <tr>\n",
       "      <th>5</th>\n",
       "      <td>5</td>\n",
       "      <td>0.816835</td>\n",
       "      <td>0.557003</td>\n",
       "      <td>0.504913</td>\n",
       "      <td>0.0</td>\n",
       "      <td>hola</td>\n",
       "      <td>0.663416</td>\n",
       "    </tr>\n",
       "    <tr>\n",
       "      <th>6</th>\n",
       "      <td>6</td>\n",
       "      <td>0.354593</td>\n",
       "      <td>0.959027</td>\n",
       "      <td>0.081197</td>\n",
       "      <td>0.0</td>\n",
       "      <td>hola</td>\n",
       "      <td>1.010428</td>\n",
       "    </tr>\n",
       "    <tr>\n",
       "      <th>7</th>\n",
       "      <td>7</td>\n",
       "      <td>0.166095</td>\n",
       "      <td>0.639045</td>\n",
       "      <td>0.748289</td>\n",
       "      <td>0.0</td>\n",
       "      <td>hola</td>\n",
       "      <td>1.082765</td>\n",
       "    </tr>\n",
       "    <tr>\n",
       "      <th>9</th>\n",
       "      <td>9</td>\n",
       "      <td>0.182311</td>\n",
       "      <td>0.656980</td>\n",
       "      <td>0.824166</td>\n",
       "      <td>0.0</td>\n",
       "      <td>hola</td>\n",
       "      <td>0.379108</td>\n",
       "    </tr>\n",
       "  </tbody>\n",
       "</table>\n",
       "</div>"
      ],
      "text/plain": [
       "   nueva_cero  nueva_col      col4      col5  ceros nulos      col10\n",
       "1           1   0.877106  0.242083  0.353938    0.0  hola   3.145267\n",
       "2           2   0.660168  0.654209  0.203578    0.0  hola   0.850251\n",
       "3           3   0.928084  0.220220  0.564243    0.0  hola   0.221656\n",
       "4           4   0.221716  0.778347  0.928202    0.0  hola  29.561715\n",
       "5           5   0.816835  0.557003  0.504913    0.0  hola   0.663416\n",
       "6           6   0.354593  0.959027  0.081197    0.0  hola   1.010428\n",
       "7           7   0.166095  0.639045  0.748289    0.0  hola   1.082765\n",
       "9           9   0.182311  0.656980  0.824166    0.0  hola   0.379108"
      ]
     },
     "execution_count": 101,
     "metadata": {},
     "output_type": "execute_result"
    }
   ],
   "source": [
    "df"
   ]
  },
  {
   "cell_type": "code",
   "execution_count": 102,
   "metadata": {},
   "outputs": [],
   "source": [
    "df.drop(index=[5, 6, 7], inplace=True)"
   ]
  },
  {
   "cell_type": "code",
   "execution_count": 104,
   "metadata": {},
   "outputs": [
    {
     "data": {
      "text/html": [
       "<div>\n",
       "<style scoped>\n",
       "    .dataframe tbody tr th:only-of-type {\n",
       "        vertical-align: middle;\n",
       "    }\n",
       "\n",
       "    .dataframe tbody tr th {\n",
       "        vertical-align: top;\n",
       "    }\n",
       "\n",
       "    .dataframe thead th {\n",
       "        text-align: right;\n",
       "    }\n",
       "</style>\n",
       "<table border=\"1\" class=\"dataframe\">\n",
       "  <thead>\n",
       "    <tr style=\"text-align: right;\">\n",
       "      <th></th>\n",
       "      <th>index</th>\n",
       "      <th>nueva_cero</th>\n",
       "      <th>nueva_col</th>\n",
       "      <th>col4</th>\n",
       "      <th>col5</th>\n",
       "      <th>ceros</th>\n",
       "      <th>nulos</th>\n",
       "      <th>col10</th>\n",
       "    </tr>\n",
       "  </thead>\n",
       "  <tbody>\n",
       "    <tr>\n",
       "      <th>0</th>\n",
       "      <td>1</td>\n",
       "      <td>1</td>\n",
       "      <td>0.877106</td>\n",
       "      <td>0.242083</td>\n",
       "      <td>0.353938</td>\n",
       "      <td>0.0</td>\n",
       "      <td>hola</td>\n",
       "      <td>3.145267</td>\n",
       "    </tr>\n",
       "    <tr>\n",
       "      <th>1</th>\n",
       "      <td>2</td>\n",
       "      <td>2</td>\n",
       "      <td>0.660168</td>\n",
       "      <td>0.654209</td>\n",
       "      <td>0.203578</td>\n",
       "      <td>0.0</td>\n",
       "      <td>hola</td>\n",
       "      <td>0.850251</td>\n",
       "    </tr>\n",
       "    <tr>\n",
       "      <th>2</th>\n",
       "      <td>3</td>\n",
       "      <td>3</td>\n",
       "      <td>0.928084</td>\n",
       "      <td>0.220220</td>\n",
       "      <td>0.564243</td>\n",
       "      <td>0.0</td>\n",
       "      <td>hola</td>\n",
       "      <td>0.221656</td>\n",
       "    </tr>\n",
       "    <tr>\n",
       "      <th>3</th>\n",
       "      <td>4</td>\n",
       "      <td>4</td>\n",
       "      <td>0.221716</td>\n",
       "      <td>0.778347</td>\n",
       "      <td>0.928202</td>\n",
       "      <td>0.0</td>\n",
       "      <td>hola</td>\n",
       "      <td>29.561715</td>\n",
       "    </tr>\n",
       "    <tr>\n",
       "      <th>4</th>\n",
       "      <td>9</td>\n",
       "      <td>9</td>\n",
       "      <td>0.182311</td>\n",
       "      <td>0.656980</td>\n",
       "      <td>0.824166</td>\n",
       "      <td>0.0</td>\n",
       "      <td>hola</td>\n",
       "      <td>0.379108</td>\n",
       "    </tr>\n",
       "  </tbody>\n",
       "</table>\n",
       "</div>"
      ],
      "text/plain": [
       "   index  nueva_cero  nueva_col      col4      col5  ceros nulos      col10\n",
       "0      1           1   0.877106  0.242083  0.353938    0.0  hola   3.145267\n",
       "1      2           2   0.660168  0.654209  0.203578    0.0  hola   0.850251\n",
       "2      3           3   0.928084  0.220220  0.564243    0.0  hola   0.221656\n",
       "3      4           4   0.221716  0.778347  0.928202    0.0  hola  29.561715\n",
       "4      9           9   0.182311  0.656980  0.824166    0.0  hola   0.379108"
      ]
     },
     "execution_count": 104,
     "metadata": {},
     "output_type": "execute_result"
    }
   ],
   "source": [
    "df.reset_index()"
   ]
  },
  {
   "cell_type": "code",
   "execution_count": 105,
   "metadata": {},
   "outputs": [
    {
     "data": {
      "text/html": [
       "<div>\n",
       "<style scoped>\n",
       "    .dataframe tbody tr th:only-of-type {\n",
       "        vertical-align: middle;\n",
       "    }\n",
       "\n",
       "    .dataframe tbody tr th {\n",
       "        vertical-align: top;\n",
       "    }\n",
       "\n",
       "    .dataframe thead th {\n",
       "        text-align: right;\n",
       "    }\n",
       "</style>\n",
       "<table border=\"1\" class=\"dataframe\">\n",
       "  <thead>\n",
       "    <tr style=\"text-align: right;\">\n",
       "      <th></th>\n",
       "      <th>nueva_cero</th>\n",
       "      <th>nueva_col</th>\n",
       "      <th>col4</th>\n",
       "      <th>col5</th>\n",
       "      <th>ceros</th>\n",
       "      <th>nulos</th>\n",
       "      <th>col10</th>\n",
       "    </tr>\n",
       "  </thead>\n",
       "  <tbody>\n",
       "    <tr>\n",
       "      <th>0</th>\n",
       "      <td>1</td>\n",
       "      <td>0.877106</td>\n",
       "      <td>0.242083</td>\n",
       "      <td>0.353938</td>\n",
       "      <td>0.0</td>\n",
       "      <td>hola</td>\n",
       "      <td>3.145267</td>\n",
       "    </tr>\n",
       "    <tr>\n",
       "      <th>1</th>\n",
       "      <td>2</td>\n",
       "      <td>0.660168</td>\n",
       "      <td>0.654209</td>\n",
       "      <td>0.203578</td>\n",
       "      <td>0.0</td>\n",
       "      <td>hola</td>\n",
       "      <td>0.850251</td>\n",
       "    </tr>\n",
       "    <tr>\n",
       "      <th>2</th>\n",
       "      <td>3</td>\n",
       "      <td>0.928084</td>\n",
       "      <td>0.220220</td>\n",
       "      <td>0.564243</td>\n",
       "      <td>0.0</td>\n",
       "      <td>hola</td>\n",
       "      <td>0.221656</td>\n",
       "    </tr>\n",
       "    <tr>\n",
       "      <th>3</th>\n",
       "      <td>4</td>\n",
       "      <td>0.221716</td>\n",
       "      <td>0.778347</td>\n",
       "      <td>0.928202</td>\n",
       "      <td>0.0</td>\n",
       "      <td>hola</td>\n",
       "      <td>29.561715</td>\n",
       "    </tr>\n",
       "    <tr>\n",
       "      <th>4</th>\n",
       "      <td>9</td>\n",
       "      <td>0.182311</td>\n",
       "      <td>0.656980</td>\n",
       "      <td>0.824166</td>\n",
       "      <td>0.0</td>\n",
       "      <td>hola</td>\n",
       "      <td>0.379108</td>\n",
       "    </tr>\n",
       "  </tbody>\n",
       "</table>\n",
       "</div>"
      ],
      "text/plain": [
       "   nueva_cero  nueva_col      col4      col5  ceros nulos      col10\n",
       "0           1   0.877106  0.242083  0.353938    0.0  hola   3.145267\n",
       "1           2   0.660168  0.654209  0.203578    0.0  hola   0.850251\n",
       "2           3   0.928084  0.220220  0.564243    0.0  hola   0.221656\n",
       "3           4   0.221716  0.778347  0.928202    0.0  hola  29.561715\n",
       "4           9   0.182311  0.656980  0.824166    0.0  hola   0.379108"
      ]
     },
     "execution_count": 105,
     "metadata": {},
     "output_type": "execute_result"
    }
   ],
   "source": [
    "df.reset_index(drop=True)"
   ]
  },
  {
   "cell_type": "code",
   "execution_count": 112,
   "metadata": {},
   "outputs": [
    {
     "data": {
      "text/html": [
       "<div>\n",
       "<style scoped>\n",
       "    .dataframe tbody tr th:only-of-type {\n",
       "        vertical-align: middle;\n",
       "    }\n",
       "\n",
       "    .dataframe tbody tr th {\n",
       "        vertical-align: top;\n",
       "    }\n",
       "\n",
       "    .dataframe thead th {\n",
       "        text-align: right;\n",
       "    }\n",
       "</style>\n",
       "<table border=\"1\" class=\"dataframe\">\n",
       "  <thead>\n",
       "    <tr style=\"text-align: right;\">\n",
       "      <th></th>\n",
       "      <th>nueva_cero</th>\n",
       "      <th>nueva_col</th>\n",
       "      <th>col4</th>\n",
       "      <th>col5</th>\n",
       "      <th>ceros</th>\n",
       "      <th>nulos</th>\n",
       "      <th>col10</th>\n",
       "    </tr>\n",
       "  </thead>\n",
       "  <tbody>\n",
       "    <tr>\n",
       "      <th>0</th>\n",
       "      <td>1</td>\n",
       "      <td>0.877106</td>\n",
       "      <td>0.242083</td>\n",
       "      <td>0.353938</td>\n",
       "      <td>0.0</td>\n",
       "      <td>hola</td>\n",
       "      <td>3.145267</td>\n",
       "    </tr>\n",
       "    <tr>\n",
       "      <th>1</th>\n",
       "      <td>2</td>\n",
       "      <td>0.660168</td>\n",
       "      <td>0.654209</td>\n",
       "      <td>0.203578</td>\n",
       "      <td>0.0</td>\n",
       "      <td>hola</td>\n",
       "      <td>0.850251</td>\n",
       "    </tr>\n",
       "    <tr>\n",
       "      <th>2</th>\n",
       "      <td>3</td>\n",
       "      <td>0.928084</td>\n",
       "      <td>0.220220</td>\n",
       "      <td>0.564243</td>\n",
       "      <td>0.0</td>\n",
       "      <td>hola</td>\n",
       "      <td>0.221656</td>\n",
       "    </tr>\n",
       "    <tr>\n",
       "      <th>3</th>\n",
       "      <td>4</td>\n",
       "      <td>0.221716</td>\n",
       "      <td>0.778347</td>\n",
       "      <td>0.928202</td>\n",
       "      <td>0.0</td>\n",
       "      <td>hola</td>\n",
       "      <td>29.561715</td>\n",
       "    </tr>\n",
       "    <tr>\n",
       "      <th>4</th>\n",
       "      <td>9</td>\n",
       "      <td>0.182311</td>\n",
       "      <td>0.656980</td>\n",
       "      <td>0.824166</td>\n",
       "      <td>0.0</td>\n",
       "      <td>hola</td>\n",
       "      <td>0.379108</td>\n",
       "    </tr>\n",
       "  </tbody>\n",
       "</table>\n",
       "</div>"
      ],
      "text/plain": [
       "   nueva_cero  nueva_col      col4      col5  ceros nulos      col10\n",
       "0           1   0.877106  0.242083  0.353938    0.0  hola   3.145267\n",
       "1           2   0.660168  0.654209  0.203578    0.0  hola   0.850251\n",
       "2           3   0.928084  0.220220  0.564243    0.0  hola   0.221656\n",
       "3           4   0.221716  0.778347  0.928202    0.0  hola  29.561715\n",
       "4           9   0.182311  0.656980  0.824166    0.0  hola   0.379108"
      ]
     },
     "execution_count": 112,
     "metadata": {},
     "output_type": "execute_result"
    }
   ],
   "source": [
    "df.index = [i for i in range(df.shape[0])]\n",
    "\n",
    "df"
   ]
  },
  {
   "cell_type": "markdown",
   "metadata": {},
   "source": [
    "### Operaciones\n"
   ]
  },
  {
   "cell_type": "code",
   "execution_count": 113,
   "metadata": {},
   "outputs": [
    {
     "data": {
      "text/html": [
       "<div>\n",
       "<style scoped>\n",
       "    .dataframe tbody tr th:only-of-type {\n",
       "        vertical-align: middle;\n",
       "    }\n",
       "\n",
       "    .dataframe tbody tr th {\n",
       "        vertical-align: top;\n",
       "    }\n",
       "\n",
       "    .dataframe thead th {\n",
       "        text-align: right;\n",
       "    }\n",
       "</style>\n",
       "<table border=\"1\" class=\"dataframe\">\n",
       "  <thead>\n",
       "    <tr style=\"text-align: right;\">\n",
       "      <th></th>\n",
       "      <th>nueva_cero</th>\n",
       "      <th>nueva_col</th>\n",
       "      <th>col4</th>\n",
       "      <th>col5</th>\n",
       "      <th>ceros</th>\n",
       "      <th>nulos</th>\n",
       "      <th>col10</th>\n",
       "    </tr>\n",
       "  </thead>\n",
       "  <tbody>\n",
       "    <tr>\n",
       "      <th>0</th>\n",
       "      <td>1</td>\n",
       "      <td>0.877106</td>\n",
       "      <td>0.242083</td>\n",
       "      <td>0.353938</td>\n",
       "      <td>0.0</td>\n",
       "      <td>hola</td>\n",
       "      <td>3.145267</td>\n",
       "    </tr>\n",
       "    <tr>\n",
       "      <th>1</th>\n",
       "      <td>2</td>\n",
       "      <td>0.660168</td>\n",
       "      <td>0.654209</td>\n",
       "      <td>0.203578</td>\n",
       "      <td>0.0</td>\n",
       "      <td>hola</td>\n",
       "      <td>0.850251</td>\n",
       "    </tr>\n",
       "    <tr>\n",
       "      <th>2</th>\n",
       "      <td>3</td>\n",
       "      <td>0.928084</td>\n",
       "      <td>0.220220</td>\n",
       "      <td>0.564243</td>\n",
       "      <td>0.0</td>\n",
       "      <td>hola</td>\n",
       "      <td>0.221656</td>\n",
       "    </tr>\n",
       "    <tr>\n",
       "      <th>3</th>\n",
       "      <td>4</td>\n",
       "      <td>0.221716</td>\n",
       "      <td>0.778347</td>\n",
       "      <td>0.928202</td>\n",
       "      <td>0.0</td>\n",
       "      <td>hola</td>\n",
       "      <td>29.561715</td>\n",
       "    </tr>\n",
       "    <tr>\n",
       "      <th>4</th>\n",
       "      <td>9</td>\n",
       "      <td>0.182311</td>\n",
       "      <td>0.656980</td>\n",
       "      <td>0.824166</td>\n",
       "      <td>0.0</td>\n",
       "      <td>hola</td>\n",
       "      <td>0.379108</td>\n",
       "    </tr>\n",
       "  </tbody>\n",
       "</table>\n",
       "</div>"
      ],
      "text/plain": [
       "   nueva_cero  nueva_col      col4      col5  ceros nulos      col10\n",
       "0           1   0.877106  0.242083  0.353938    0.0  hola   3.145267\n",
       "1           2   0.660168  0.654209  0.203578    0.0  hola   0.850251\n",
       "2           3   0.928084  0.220220  0.564243    0.0  hola   0.221656\n",
       "3           4   0.221716  0.778347  0.928202    0.0  hola  29.561715\n",
       "4           9   0.182311  0.656980  0.824166    0.0  hola   0.379108"
      ]
     },
     "execution_count": 113,
     "metadata": {},
     "output_type": "execute_result"
    }
   ],
   "source": [
    "df"
   ]
  },
  {
   "cell_type": "code",
   "execution_count": 114,
   "metadata": {},
   "outputs": [
    {
     "data": {
      "text/html": [
       "<div>\n",
       "<style scoped>\n",
       "    .dataframe tbody tr th:only-of-type {\n",
       "        vertical-align: middle;\n",
       "    }\n",
       "\n",
       "    .dataframe tbody tr th {\n",
       "        vertical-align: top;\n",
       "    }\n",
       "\n",
       "    .dataframe thead th {\n",
       "        text-align: right;\n",
       "    }\n",
       "</style>\n",
       "<table border=\"1\" class=\"dataframe\">\n",
       "  <thead>\n",
       "    <tr style=\"text-align: right;\">\n",
       "      <th></th>\n",
       "      <th>0</th>\n",
       "      <th>1</th>\n",
       "      <th>2</th>\n",
       "      <th>3</th>\n",
       "      <th>4</th>\n",
       "    </tr>\n",
       "  </thead>\n",
       "  <tbody>\n",
       "    <tr>\n",
       "      <th>nueva_cero</th>\n",
       "      <td>1</td>\n",
       "      <td>2</td>\n",
       "      <td>3</td>\n",
       "      <td>4</td>\n",
       "      <td>9</td>\n",
       "    </tr>\n",
       "    <tr>\n",
       "      <th>nueva_col</th>\n",
       "      <td>0.877106</td>\n",
       "      <td>0.660168</td>\n",
       "      <td>0.928084</td>\n",
       "      <td>0.221716</td>\n",
       "      <td>0.182311</td>\n",
       "    </tr>\n",
       "    <tr>\n",
       "      <th>col4</th>\n",
       "      <td>0.242083</td>\n",
       "      <td>0.654209</td>\n",
       "      <td>0.22022</td>\n",
       "      <td>0.778347</td>\n",
       "      <td>0.65698</td>\n",
       "    </tr>\n",
       "    <tr>\n",
       "      <th>col5</th>\n",
       "      <td>0.353938</td>\n",
       "      <td>0.203578</td>\n",
       "      <td>0.564243</td>\n",
       "      <td>0.928202</td>\n",
       "      <td>0.824166</td>\n",
       "    </tr>\n",
       "    <tr>\n",
       "      <th>ceros</th>\n",
       "      <td>0.0</td>\n",
       "      <td>0.0</td>\n",
       "      <td>0.0</td>\n",
       "      <td>0.0</td>\n",
       "      <td>0.0</td>\n",
       "    </tr>\n",
       "    <tr>\n",
       "      <th>nulos</th>\n",
       "      <td>hola</td>\n",
       "      <td>hola</td>\n",
       "      <td>hola</td>\n",
       "      <td>hola</td>\n",
       "      <td>hola</td>\n",
       "    </tr>\n",
       "    <tr>\n",
       "      <th>col10</th>\n",
       "      <td>3.145267</td>\n",
       "      <td>0.850251</td>\n",
       "      <td>0.221656</td>\n",
       "      <td>29.561715</td>\n",
       "      <td>0.379108</td>\n",
       "    </tr>\n",
       "  </tbody>\n",
       "</table>\n",
       "</div>"
      ],
      "text/plain": [
       "                   0         1         2          3         4\n",
       "nueva_cero         1         2         3          4         9\n",
       "nueva_col   0.877106  0.660168  0.928084   0.221716  0.182311\n",
       "col4        0.242083  0.654209   0.22022   0.778347   0.65698\n",
       "col5        0.353938  0.203578  0.564243   0.928202  0.824166\n",
       "ceros            0.0       0.0       0.0        0.0       0.0\n",
       "nulos           hola      hola      hola       hola      hola\n",
       "col10       3.145267  0.850251  0.221656  29.561715  0.379108"
      ]
     },
     "execution_count": 114,
     "metadata": {},
     "output_type": "execute_result"
    }
   ],
   "source": [
    "df.transpose()"
   ]
  },
  {
   "cell_type": "code",
   "execution_count": 115,
   "metadata": {},
   "outputs": [
    {
     "data": {
      "text/html": [
       "<div>\n",
       "<style scoped>\n",
       "    .dataframe tbody tr th:only-of-type {\n",
       "        vertical-align: middle;\n",
       "    }\n",
       "\n",
       "    .dataframe tbody tr th {\n",
       "        vertical-align: top;\n",
       "    }\n",
       "\n",
       "    .dataframe thead th {\n",
       "        text-align: right;\n",
       "    }\n",
       "</style>\n",
       "<table border=\"1\" class=\"dataframe\">\n",
       "  <thead>\n",
       "    <tr style=\"text-align: right;\">\n",
       "      <th></th>\n",
       "      <th>0</th>\n",
       "      <th>1</th>\n",
       "      <th>2</th>\n",
       "      <th>3</th>\n",
       "      <th>4</th>\n",
       "    </tr>\n",
       "  </thead>\n",
       "  <tbody>\n",
       "    <tr>\n",
       "      <th>nueva_cero</th>\n",
       "      <td>1</td>\n",
       "      <td>2</td>\n",
       "      <td>3</td>\n",
       "      <td>4</td>\n",
       "      <td>9</td>\n",
       "    </tr>\n",
       "    <tr>\n",
       "      <th>nueva_col</th>\n",
       "      <td>0.877106</td>\n",
       "      <td>0.660168</td>\n",
       "      <td>0.928084</td>\n",
       "      <td>0.221716</td>\n",
       "      <td>0.182311</td>\n",
       "    </tr>\n",
       "    <tr>\n",
       "      <th>col4</th>\n",
       "      <td>0.242083</td>\n",
       "      <td>0.654209</td>\n",
       "      <td>0.22022</td>\n",
       "      <td>0.778347</td>\n",
       "      <td>0.65698</td>\n",
       "    </tr>\n",
       "    <tr>\n",
       "      <th>col5</th>\n",
       "      <td>0.353938</td>\n",
       "      <td>0.203578</td>\n",
       "      <td>0.564243</td>\n",
       "      <td>0.928202</td>\n",
       "      <td>0.824166</td>\n",
       "    </tr>\n",
       "    <tr>\n",
       "      <th>ceros</th>\n",
       "      <td>0.0</td>\n",
       "      <td>0.0</td>\n",
       "      <td>0.0</td>\n",
       "      <td>0.0</td>\n",
       "      <td>0.0</td>\n",
       "    </tr>\n",
       "    <tr>\n",
       "      <th>nulos</th>\n",
       "      <td>hola</td>\n",
       "      <td>hola</td>\n",
       "      <td>hola</td>\n",
       "      <td>hola</td>\n",
       "      <td>hola</td>\n",
       "    </tr>\n",
       "    <tr>\n",
       "      <th>col10</th>\n",
       "      <td>3.145267</td>\n",
       "      <td>0.850251</td>\n",
       "      <td>0.221656</td>\n",
       "      <td>29.561715</td>\n",
       "      <td>0.379108</td>\n",
       "    </tr>\n",
       "  </tbody>\n",
       "</table>\n",
       "</div>"
      ],
      "text/plain": [
       "                   0         1         2          3         4\n",
       "nueva_cero         1         2         3          4         9\n",
       "nueva_col   0.877106  0.660168  0.928084   0.221716  0.182311\n",
       "col4        0.242083  0.654209   0.22022   0.778347   0.65698\n",
       "col5        0.353938  0.203578  0.564243   0.928202  0.824166\n",
       "ceros            0.0       0.0       0.0        0.0       0.0\n",
       "nulos           hola      hola      hola       hola      hola\n",
       "col10       3.145267  0.850251  0.221656  29.561715  0.379108"
      ]
     },
     "execution_count": 115,
     "metadata": {},
     "output_type": "execute_result"
    }
   ],
   "source": [
    "df.T"
   ]
  },
  {
   "cell_type": "code",
   "execution_count": 116,
   "metadata": {},
   "outputs": [
    {
     "data": {
      "text/plain": [
       "Index(['nueva_cero', 'nueva_col', 'col4', 'col5', 'ceros', 'nulos', 'col10'], dtype='object')"
      ]
     },
     "execution_count": 116,
     "metadata": {},
     "output_type": "execute_result"
    }
   ],
   "source": [
    "df.T.index"
   ]
  },
  {
   "cell_type": "code",
   "execution_count": 117,
   "metadata": {},
   "outputs": [
    {
     "data": {
      "text/plain": [
       "Index(['nueva_cero', 'nueva_col', 'col4', 'col5', 'ceros', 'nulos', 'col10'], dtype='object')"
      ]
     },
     "execution_count": 117,
     "metadata": {},
     "output_type": "execute_result"
    }
   ],
   "source": [
    "df.columns"
   ]
  },
  {
   "cell_type": "code",
   "execution_count": 123,
   "metadata": {},
   "outputs": [
    {
     "data": {
      "text/plain": [
       "Int64Index([0, 1, 2, 3, 4], dtype='int64')"
      ]
     },
     "execution_count": 123,
     "metadata": {},
     "output_type": "execute_result"
    }
   ],
   "source": [
    "df.index"
   ]
  },
  {
   "cell_type": "code",
   "execution_count": 119,
   "metadata": {},
   "outputs": [
    {
     "data": {
      "text/plain": [
       "nueva_cero                      19\n",
       "nueva_col                 2.869386\n",
       "col4                      2.551839\n",
       "col5                      2.874127\n",
       "ceros                          0.0\n",
       "nulos         holaholaholaholahola\n",
       "col10                    34.157997\n",
       "dtype: object"
      ]
     },
     "execution_count": 119,
     "metadata": {},
     "output_type": "execute_result"
    }
   ],
   "source": [
    "df.sum()"
   ]
  },
  {
   "cell_type": "code",
   "execution_count": 124,
   "metadata": {},
   "outputs": [
    {
     "data": {
      "text/plain": [
       "nueva_cero                      19\n",
       "nueva_col                 2.869386\n",
       "col4                      2.551839\n",
       "col5                      2.874127\n",
       "ceros                          0.0\n",
       "nulos         holaholaholaholahola\n",
       "col10                    34.157997\n",
       "dtype: object"
      ]
     },
     "execution_count": 124,
     "metadata": {},
     "output_type": "execute_result"
    }
   ],
   "source": [
    "df.sum(axis=0)"
   ]
  },
  {
   "cell_type": "code",
   "execution_count": 125,
   "metadata": {},
   "outputs": [
    {
     "data": {
      "text/plain": [
       "0     5.618394\n",
       "1     4.368206\n",
       "2     4.934202\n",
       "3    35.489981\n",
       "4    11.042565\n",
       "dtype: float64"
      ]
     },
     "execution_count": 125,
     "metadata": {},
     "output_type": "execute_result"
    }
   ],
   "source": [
    "df.sum(axis=1)"
   ]
  },
  {
   "cell_type": "code",
   "execution_count": 128,
   "metadata": {},
   "outputs": [
    {
     "data": {
      "text/plain": [
       "col4      2.551839\n",
       "col5      2.874127\n",
       "col10    34.157997\n",
       "dtype: float64"
      ]
     },
     "execution_count": 128,
     "metadata": {},
     "output_type": "execute_result"
    }
   ],
   "source": [
    "seleccion=['col4', 'col5', 'col10']\n",
    "\n",
    "df[seleccion].sum()"
   ]
  },
  {
   "cell_type": "code",
   "execution_count": 129,
   "metadata": {},
   "outputs": [
    {
     "data": {
      "text/plain": [
       "nueva_cero     3.114482\n",
       "nueva_col      0.354330\n",
       "col4           0.259885\n",
       "col5           0.305685\n",
       "ceros          0.000000\n",
       "col10         12.760777\n",
       "dtype: float64"
      ]
     },
     "execution_count": 129,
     "metadata": {},
     "output_type": "execute_result"
    }
   ],
   "source": [
    "df.std()"
   ]
  },
  {
   "cell_type": "code",
   "execution_count": 130,
   "metadata": {},
   "outputs": [
    {
     "data": {
      "text/plain": [
       "nueva_cero      9.700000\n",
       "nueva_col       0.125549\n",
       "col4            0.067540\n",
       "col5            0.093443\n",
       "ceros           0.000000\n",
       "col10         162.837431\n",
       "dtype: float64"
      ]
     },
     "execution_count": 130,
     "metadata": {},
     "output_type": "execute_result"
    }
   ],
   "source": [
    "df.var()"
   ]
  },
  {
   "cell_type": "code",
   "execution_count": 131,
   "metadata": {},
   "outputs": [
    {
     "data": {
      "text/plain": [
       "nueva_cero    3.800000\n",
       "nueva_col     0.573877\n",
       "col4          0.510368\n",
       "col5          0.574825\n",
       "ceros         0.000000\n",
       "col10         6.831599\n",
       "dtype: float64"
      ]
     },
     "execution_count": 131,
     "metadata": {},
     "output_type": "execute_result"
    }
   ],
   "source": [
    "df.mean()"
   ]
  },
  {
   "cell_type": "code",
   "execution_count": 132,
   "metadata": {},
   "outputs": [
    {
     "data": {
      "text/plain": [
       "nueva_cero    3.000000\n",
       "nueva_col     0.660168\n",
       "col4          0.654209\n",
       "col5          0.564243\n",
       "ceros         0.000000\n",
       "col10         0.850251\n",
       "dtype: float64"
      ]
     },
     "execution_count": 132,
     "metadata": {},
     "output_type": "execute_result"
    }
   ],
   "source": [
    "df.median()"
   ]
  },
  {
   "cell_type": "code",
   "execution_count": 133,
   "metadata": {},
   "outputs": [
    {
     "data": {
      "text/html": [
       "<div>\n",
       "<style scoped>\n",
       "    .dataframe tbody tr th:only-of-type {\n",
       "        vertical-align: middle;\n",
       "    }\n",
       "\n",
       "    .dataframe tbody tr th {\n",
       "        vertical-align: top;\n",
       "    }\n",
       "\n",
       "    .dataframe thead th {\n",
       "        text-align: right;\n",
       "    }\n",
       "</style>\n",
       "<table border=\"1\" class=\"dataframe\">\n",
       "  <thead>\n",
       "    <tr style=\"text-align: right;\">\n",
       "      <th></th>\n",
       "      <th>nueva_cero</th>\n",
       "      <th>nueva_col</th>\n",
       "      <th>col4</th>\n",
       "      <th>col5</th>\n",
       "      <th>ceros</th>\n",
       "      <th>nulos</th>\n",
       "      <th>col10</th>\n",
       "    </tr>\n",
       "  </thead>\n",
       "  <tbody>\n",
       "    <tr>\n",
       "      <th>0</th>\n",
       "      <td>1</td>\n",
       "      <td>0.182311</td>\n",
       "      <td>0.220220</td>\n",
       "      <td>0.203578</td>\n",
       "      <td>0.0</td>\n",
       "      <td>hola</td>\n",
       "      <td>0.221656</td>\n",
       "    </tr>\n",
       "    <tr>\n",
       "      <th>1</th>\n",
       "      <td>2</td>\n",
       "      <td>0.221716</td>\n",
       "      <td>0.242083</td>\n",
       "      <td>0.353938</td>\n",
       "      <td>NaN</td>\n",
       "      <td>NaN</td>\n",
       "      <td>0.379108</td>\n",
       "    </tr>\n",
       "    <tr>\n",
       "      <th>2</th>\n",
       "      <td>3</td>\n",
       "      <td>0.660168</td>\n",
       "      <td>0.654209</td>\n",
       "      <td>0.564243</td>\n",
       "      <td>NaN</td>\n",
       "      <td>NaN</td>\n",
       "      <td>0.850251</td>\n",
       "    </tr>\n",
       "    <tr>\n",
       "      <th>3</th>\n",
       "      <td>4</td>\n",
       "      <td>0.877106</td>\n",
       "      <td>0.656980</td>\n",
       "      <td>0.824166</td>\n",
       "      <td>NaN</td>\n",
       "      <td>NaN</td>\n",
       "      <td>3.145267</td>\n",
       "    </tr>\n",
       "    <tr>\n",
       "      <th>4</th>\n",
       "      <td>9</td>\n",
       "      <td>0.928084</td>\n",
       "      <td>0.778347</td>\n",
       "      <td>0.928202</td>\n",
       "      <td>NaN</td>\n",
       "      <td>NaN</td>\n",
       "      <td>29.561715</td>\n",
       "    </tr>\n",
       "  </tbody>\n",
       "</table>\n",
       "</div>"
      ],
      "text/plain": [
       "   nueva_cero  nueva_col      col4      col5  ceros nulos      col10\n",
       "0           1   0.182311  0.220220  0.203578    0.0  hola   0.221656\n",
       "1           2   0.221716  0.242083  0.353938    NaN   NaN   0.379108\n",
       "2           3   0.660168  0.654209  0.564243    NaN   NaN   0.850251\n",
       "3           4   0.877106  0.656980  0.824166    NaN   NaN   3.145267\n",
       "4           9   0.928084  0.778347  0.928202    NaN   NaN  29.561715"
      ]
     },
     "execution_count": 133,
     "metadata": {},
     "output_type": "execute_result"
    }
   ],
   "source": [
    "df.mode()"
   ]
  },
  {
   "cell_type": "markdown",
   "metadata": {},
   "source": [
    "### Importar archivos\n",
    "\n",
    "+ CSV\n",
    "+ XLSX\n",
    "+ XLS\n",
    "+ JSON"
   ]
  },
  {
   "cell_type": "code",
   "execution_count": 135,
   "metadata": {},
   "outputs": [],
   "source": [
    "pd.set_option('display.max_columns', None)  # ver todas las columnas\n",
    "\n",
    "pd.set_option('display.max_rows', None)     # ver todas las filas"
   ]
  },
  {
   "cell_type": "code",
   "execution_count": 136,
   "metadata": {},
   "outputs": [
    {
     "data": {
      "text/html": [
       "<div>\n",
       "<style scoped>\n",
       "    .dataframe tbody tr th:only-of-type {\n",
       "        vertical-align: middle;\n",
       "    }\n",
       "\n",
       "    .dataframe tbody tr th {\n",
       "        vertical-align: top;\n",
       "    }\n",
       "\n",
       "    .dataframe thead th {\n",
       "        text-align: right;\n",
       "    }\n",
       "</style>\n",
       "<table border=\"1\" class=\"dataframe\">\n",
       "  <thead>\n",
       "    <tr style=\"text-align: right;\">\n",
       "      <th></th>\n",
       "      <th>Make</th>\n",
       "      <th>Model</th>\n",
       "      <th>Year</th>\n",
       "      <th>Engine Displacement</th>\n",
       "      <th>Cylinders</th>\n",
       "      <th>Transmission</th>\n",
       "      <th>Drivetrain</th>\n",
       "      <th>Vehicle Class</th>\n",
       "      <th>Fuel Type</th>\n",
       "      <th>Fuel Barrels/Year</th>\n",
       "      <th>City MPG</th>\n",
       "      <th>Highway MPG</th>\n",
       "      <th>Combined MPG</th>\n",
       "      <th>CO2 Emission Grams/Mile</th>\n",
       "      <th>Fuel Cost/Year</th>\n",
       "    </tr>\n",
       "  </thead>\n",
       "  <tbody>\n",
       "    <tr>\n",
       "      <th>0</th>\n",
       "      <td>AM General</td>\n",
       "      <td>DJ Po Vehicle 2WD</td>\n",
       "      <td>1984</td>\n",
       "      <td>2.5</td>\n",
       "      <td>4.0</td>\n",
       "      <td>Automatic 3-spd</td>\n",
       "      <td>2-Wheel Drive</td>\n",
       "      <td>Special Purpose Vehicle 2WD</td>\n",
       "      <td>Regular</td>\n",
       "      <td>19.388824</td>\n",
       "      <td>18</td>\n",
       "      <td>17</td>\n",
       "      <td>17</td>\n",
       "      <td>522.764706</td>\n",
       "      <td>1950</td>\n",
       "    </tr>\n",
       "    <tr>\n",
       "      <th>1</th>\n",
       "      <td>AM General</td>\n",
       "      <td>FJ8c Post Office</td>\n",
       "      <td>1984</td>\n",
       "      <td>4.2</td>\n",
       "      <td>6.0</td>\n",
       "      <td>Automatic 3-spd</td>\n",
       "      <td>2-Wheel Drive</td>\n",
       "      <td>Special Purpose Vehicle 2WD</td>\n",
       "      <td>Regular</td>\n",
       "      <td>25.354615</td>\n",
       "      <td>13</td>\n",
       "      <td>13</td>\n",
       "      <td>13</td>\n",
       "      <td>683.615385</td>\n",
       "      <td>2550</td>\n",
       "    </tr>\n",
       "    <tr>\n",
       "      <th>2</th>\n",
       "      <td>AM General</td>\n",
       "      <td>Post Office DJ5 2WD</td>\n",
       "      <td>1985</td>\n",
       "      <td>2.5</td>\n",
       "      <td>4.0</td>\n",
       "      <td>Automatic 3-spd</td>\n",
       "      <td>Rear-Wheel Drive</td>\n",
       "      <td>Special Purpose Vehicle 2WD</td>\n",
       "      <td>Regular</td>\n",
       "      <td>20.600625</td>\n",
       "      <td>16</td>\n",
       "      <td>17</td>\n",
       "      <td>16</td>\n",
       "      <td>555.437500</td>\n",
       "      <td>2100</td>\n",
       "    </tr>\n",
       "    <tr>\n",
       "      <th>3</th>\n",
       "      <td>AM General</td>\n",
       "      <td>Post Office DJ8 2WD</td>\n",
       "      <td>1985</td>\n",
       "      <td>4.2</td>\n",
       "      <td>6.0</td>\n",
       "      <td>Automatic 3-spd</td>\n",
       "      <td>Rear-Wheel Drive</td>\n",
       "      <td>Special Purpose Vehicle 2WD</td>\n",
       "      <td>Regular</td>\n",
       "      <td>25.354615</td>\n",
       "      <td>13</td>\n",
       "      <td>13</td>\n",
       "      <td>13</td>\n",
       "      <td>683.615385</td>\n",
       "      <td>2550</td>\n",
       "    </tr>\n",
       "    <tr>\n",
       "      <th>4</th>\n",
       "      <td>ASC Incorporated</td>\n",
       "      <td>GNX</td>\n",
       "      <td>1987</td>\n",
       "      <td>3.8</td>\n",
       "      <td>6.0</td>\n",
       "      <td>Automatic 4-spd</td>\n",
       "      <td>Rear-Wheel Drive</td>\n",
       "      <td>Midsize Cars</td>\n",
       "      <td>Premium</td>\n",
       "      <td>20.600625</td>\n",
       "      <td>14</td>\n",
       "      <td>21</td>\n",
       "      <td>16</td>\n",
       "      <td>555.437500</td>\n",
       "      <td>2550</td>\n",
       "    </tr>\n",
       "  </tbody>\n",
       "</table>\n",
       "</div>"
      ],
      "text/plain": [
       "               Make                Model  Year  Engine Displacement  \\\n",
       "0        AM General    DJ Po Vehicle 2WD  1984                  2.5   \n",
       "1        AM General     FJ8c Post Office  1984                  4.2   \n",
       "2        AM General  Post Office DJ5 2WD  1985                  2.5   \n",
       "3        AM General  Post Office DJ8 2WD  1985                  4.2   \n",
       "4  ASC Incorporated                  GNX  1987                  3.8   \n",
       "\n",
       "   Cylinders     Transmission        Drivetrain                Vehicle Class  \\\n",
       "0        4.0  Automatic 3-spd     2-Wheel Drive  Special Purpose Vehicle 2WD   \n",
       "1        6.0  Automatic 3-spd     2-Wheel Drive  Special Purpose Vehicle 2WD   \n",
       "2        4.0  Automatic 3-spd  Rear-Wheel Drive  Special Purpose Vehicle 2WD   \n",
       "3        6.0  Automatic 3-spd  Rear-Wheel Drive  Special Purpose Vehicle 2WD   \n",
       "4        6.0  Automatic 4-spd  Rear-Wheel Drive                 Midsize Cars   \n",
       "\n",
       "  Fuel Type  Fuel Barrels/Year  City MPG  Highway MPG  Combined MPG  \\\n",
       "0   Regular          19.388824        18           17            17   \n",
       "1   Regular          25.354615        13           13            13   \n",
       "2   Regular          20.600625        16           17            16   \n",
       "3   Regular          25.354615        13           13            13   \n",
       "4   Premium          20.600625        14           21            16   \n",
       "\n",
       "   CO2 Emission Grams/Mile  Fuel Cost/Year  \n",
       "0               522.764706            1950  \n",
       "1               683.615385            2550  \n",
       "2               555.437500            2100  \n",
       "3               683.615385            2550  \n",
       "4               555.437500            2550  "
      ]
     },
     "execution_count": 136,
     "metadata": {},
     "output_type": "execute_result"
    }
   ],
   "source": [
    "#csv\n",
    "\n",
    "ruta = '../data/vehicles.csv'    # r'..\\data\\vehicles.csv'\n",
    "\n",
    "df_csv = pd.read_csv(ruta)\n",
    "\n",
    "df_csv.head()"
   ]
  },
  {
   "cell_type": "code",
   "execution_count": 137,
   "metadata": {},
   "outputs": [
    {
     "data": {
      "text/plain": [
       "(35952, 15)"
      ]
     },
     "execution_count": 137,
     "metadata": {},
     "output_type": "execute_result"
    }
   ],
   "source": [
    "df_csv.shape"
   ]
  },
  {
   "cell_type": "code",
   "execution_count": 144,
   "metadata": {},
   "outputs": [
    {
     "name": "stdout",
     "output_type": "stream",
     "text": [
      "<class 'pandas.core.frame.DataFrame'>\n",
      "RangeIndex: 35952 entries, 0 to 35951\n",
      "Data columns (total 15 columns):\n",
      " #   Column                   Non-Null Count  Dtype  \n",
      "---  ------                   --------------  -----  \n",
      " 0   Make                     35952 non-null  object \n",
      " 1   Model                    35952 non-null  object \n",
      " 2   Year                     35952 non-null  int64  \n",
      " 3   Engine Displacement      35952 non-null  float64\n",
      " 4   Cylinders                35952 non-null  float64\n",
      " 5   Transmission             35952 non-null  object \n",
      " 6   Drivetrain               35952 non-null  object \n",
      " 7   Vehicle Class            35952 non-null  object \n",
      " 8   Fuel Type                35952 non-null  object \n",
      " 9   Fuel Barrels/Year        35952 non-null  float64\n",
      " 10  City MPG                 35952 non-null  int64  \n",
      " 11  Highway MPG              35952 non-null  int64  \n",
      " 12  Combined MPG             35952 non-null  int64  \n",
      " 13  CO2 Emission Grams/Mile  35952 non-null  float64\n",
      " 14  Fuel Cost/Year           35952 non-null  int64  \n",
      "dtypes: float64(4), int64(5), object(6)\n",
      "memory usage: 16.8 MB\n"
     ]
    }
   ],
   "source": [
    "df_csv.info(memory_usage='deep')"
   ]
  },
  {
   "cell_type": "code",
   "execution_count": null,
   "metadata": {},
   "outputs": [],
   "source": [
    "%pip install openpyxl\n",
    "%pip install xlrd"
   ]
  },
  {
   "cell_type": "code",
   "execution_count": 145,
   "metadata": {},
   "outputs": [
    {
     "data": {
      "text/html": [
       "<div>\n",
       "<style scoped>\n",
       "    .dataframe tbody tr th:only-of-type {\n",
       "        vertical-align: middle;\n",
       "    }\n",
       "\n",
       "    .dataframe tbody tr th {\n",
       "        vertical-align: top;\n",
       "    }\n",
       "\n",
       "    .dataframe thead th {\n",
       "        text-align: right;\n",
       "    }\n",
       "</style>\n",
       "<table border=\"1\" class=\"dataframe\">\n",
       "  <thead>\n",
       "    <tr style=\"text-align: right;\">\n",
       "      <th></th>\n",
       "      <th>InvoiceNo</th>\n",
       "      <th>InvoiceDate</th>\n",
       "      <th>StockCode</th>\n",
       "      <th>Description</th>\n",
       "      <th>Quantity</th>\n",
       "      <th>UnitPrice</th>\n",
       "      <th>Revenue</th>\n",
       "      <th>CustomerID</th>\n",
       "      <th>Country</th>\n",
       "    </tr>\n",
       "  </thead>\n",
       "  <tbody>\n",
       "    <tr>\n",
       "      <th>0</th>\n",
       "      <td>536365</td>\n",
       "      <td>2010-12-01 08:26:00</td>\n",
       "      <td>85123A</td>\n",
       "      <td>CREAM HANGING HEART T-LIGHT HOLDER</td>\n",
       "      <td>6</td>\n",
       "      <td>2.55</td>\n",
       "      <td>15.3</td>\n",
       "      <td>17850</td>\n",
       "      <td>United Kingdom</td>\n",
       "    </tr>\n",
       "    <tr>\n",
       "      <th>1</th>\n",
       "      <td>536373</td>\n",
       "      <td>2010-12-01 09:02:00</td>\n",
       "      <td>85123A</td>\n",
       "      <td>CREAM HANGING HEART T-LIGHT HOLDER</td>\n",
       "      <td>6</td>\n",
       "      <td>2.55</td>\n",
       "      <td>15.3</td>\n",
       "      <td>17850</td>\n",
       "      <td>United Kingdom</td>\n",
       "    </tr>\n",
       "    <tr>\n",
       "      <th>2</th>\n",
       "      <td>536375</td>\n",
       "      <td>2010-12-01 09:32:00</td>\n",
       "      <td>85123A</td>\n",
       "      <td>CREAM HANGING HEART T-LIGHT HOLDER</td>\n",
       "      <td>6</td>\n",
       "      <td>2.55</td>\n",
       "      <td>15.3</td>\n",
       "      <td>17850</td>\n",
       "      <td>United Kingdom</td>\n",
       "    </tr>\n",
       "    <tr>\n",
       "      <th>3</th>\n",
       "      <td>536390</td>\n",
       "      <td>2010-12-01 10:19:00</td>\n",
       "      <td>85123A</td>\n",
       "      <td>CREAM HANGING HEART T-LIGHT HOLDER</td>\n",
       "      <td>64</td>\n",
       "      <td>2.55</td>\n",
       "      <td>163.2</td>\n",
       "      <td>17511</td>\n",
       "      <td>United Kingdom</td>\n",
       "    </tr>\n",
       "    <tr>\n",
       "      <th>4</th>\n",
       "      <td>536394</td>\n",
       "      <td>2010-12-01 10:39:00</td>\n",
       "      <td>85123A</td>\n",
       "      <td>CREAM HANGING HEART T-LIGHT HOLDER</td>\n",
       "      <td>32</td>\n",
       "      <td>2.55</td>\n",
       "      <td>81.6</td>\n",
       "      <td>13408</td>\n",
       "      <td>United Kingdom</td>\n",
       "    </tr>\n",
       "  </tbody>\n",
       "</table>\n",
       "</div>"
      ],
      "text/plain": [
       "   InvoiceNo         InvoiceDate StockCode  \\\n",
       "0     536365 2010-12-01 08:26:00    85123A   \n",
       "1     536373 2010-12-01 09:02:00    85123A   \n",
       "2     536375 2010-12-01 09:32:00    85123A   \n",
       "3     536390 2010-12-01 10:19:00    85123A   \n",
       "4     536394 2010-12-01 10:39:00    85123A   \n",
       "\n",
       "                          Description  Quantity  UnitPrice  Revenue  \\\n",
       "0  CREAM HANGING HEART T-LIGHT HOLDER         6       2.55     15.3   \n",
       "1  CREAM HANGING HEART T-LIGHT HOLDER         6       2.55     15.3   \n",
       "2  CREAM HANGING HEART T-LIGHT HOLDER         6       2.55     15.3   \n",
       "3  CREAM HANGING HEART T-LIGHT HOLDER        64       2.55    163.2   \n",
       "4  CREAM HANGING HEART T-LIGHT HOLDER        32       2.55     81.6   \n",
       "\n",
       "   CustomerID         Country  \n",
       "0       17850  United Kingdom  \n",
       "1       17850  United Kingdom  \n",
       "2       17850  United Kingdom  \n",
       "3       17511  United Kingdom  \n",
       "4       13408  United Kingdom  "
      ]
     },
     "execution_count": 145,
     "metadata": {},
     "output_type": "execute_result"
    }
   ],
   "source": [
    "# xlsx\n",
    "\n",
    "df_xlsx = pd.read_excel('../data/Online Retail.xlsx')\n",
    "\n",
    "df_xlsx.head()"
   ]
  },
  {
   "cell_type": "code",
   "execution_count": 146,
   "metadata": {},
   "outputs": [
    {
     "name": "stdout",
     "output_type": "stream",
     "text": [
      "<class 'pandas.core.frame.DataFrame'>\n",
      "RangeIndex: 396034 entries, 0 to 396033\n",
      "Data columns (total 9 columns):\n",
      " #   Column       Non-Null Count   Dtype         \n",
      "---  ------       --------------   -----         \n",
      " 0   InvoiceNo    396034 non-null  int64         \n",
      " 1   InvoiceDate  396034 non-null  datetime64[ns]\n",
      " 2   StockCode    396034 non-null  object        \n",
      " 3   Description  396034 non-null  object        \n",
      " 4   Quantity     396034 non-null  int64         \n",
      " 5   UnitPrice    396034 non-null  float64       \n",
      " 6   Revenue      396034 non-null  float64       \n",
      " 7   CustomerID   396034 non-null  int64         \n",
      " 8   Country      396034 non-null  object        \n",
      "dtypes: datetime64[ns](1), float64(2), int64(3), object(3)\n",
      "memory usage: 90.7 MB\n"
     ]
    }
   ],
   "source": [
    "df_xlsx.info(memory_usage='deep')"
   ]
  },
  {
   "cell_type": "code",
   "execution_count": 147,
   "metadata": {},
   "outputs": [
    {
     "data": {
      "text/html": [
       "<div>\n",
       "<style scoped>\n",
       "    .dataframe tbody tr th:only-of-type {\n",
       "        vertical-align: middle;\n",
       "    }\n",
       "\n",
       "    .dataframe tbody tr th {\n",
       "        vertical-align: top;\n",
       "    }\n",
       "\n",
       "    .dataframe thead th {\n",
       "        text-align: right;\n",
       "    }\n",
       "</style>\n",
       "<table border=\"1\" class=\"dataframe\">\n",
       "  <thead>\n",
       "    <tr style=\"text-align: right;\">\n",
       "      <th></th>\n",
       "      <th>Input 1</th>\n",
       "      <th>Input 2</th>\n",
       "      <th>Input 3</th>\n",
       "      <th>Input 4</th>\n",
       "      <th>Input 5</th>\n",
       "      <th>Input 6</th>\n",
       "      <th>Input 7</th>\n",
       "      <th>Input 8</th>\n",
       "      <th>Input 9</th>\n",
       "      <th>Input 10</th>\n",
       "      <th>Input 11</th>\n",
       "      <th>Input 12</th>\n",
       "      <th>output1</th>\n",
       "      <th>output2</th>\n",
       "      <th>class</th>\n",
       "    </tr>\n",
       "  </thead>\n",
       "  <tbody>\n",
       "    <tr>\n",
       "      <th>0</th>\n",
       "      <td>1.473</td>\n",
       "      <td>2.311</td>\n",
       "      <td>3.179</td>\n",
       "      <td>2.666</td>\n",
       "      <td>0.2795</td>\n",
       "      <td>0.2771</td>\n",
       "      <td>0.22340</td>\n",
       "      <td>0.1855</td>\n",
       "      <td>0.2539</td>\n",
       "      <td>1.138</td>\n",
       "      <td>1.111</td>\n",
       "      <td>4.712</td>\n",
       "      <td>1</td>\n",
       "      <td>1</td>\n",
       "      <td>one</td>\n",
       "    </tr>\n",
       "    <tr>\n",
       "      <th>1</th>\n",
       "      <td>1.460</td>\n",
       "      <td>2.377</td>\n",
       "      <td>3.214</td>\n",
       "      <td>2.920</td>\n",
       "      <td>0.2527</td>\n",
       "      <td>0.3064</td>\n",
       "      <td>0.02563</td>\n",
       "      <td>0.1965</td>\n",
       "      <td>0.3027</td>\n",
       "      <td>1.213</td>\n",
       "      <td>1.027</td>\n",
       "      <td>5.463</td>\n",
       "      <td>1</td>\n",
       "      <td>1</td>\n",
       "      <td>one</td>\n",
       "    </tr>\n",
       "    <tr>\n",
       "      <th>2</th>\n",
       "      <td>1.552</td>\n",
       "      <td>2.164</td>\n",
       "      <td>3.064</td>\n",
       "      <td>2.745</td>\n",
       "      <td>0.2820</td>\n",
       "      <td>0.2100</td>\n",
       "      <td>0.17210</td>\n",
       "      <td>0.1929</td>\n",
       "      <td>0.2100</td>\n",
       "      <td>1.221</td>\n",
       "      <td>1.058</td>\n",
       "      <td>5.332</td>\n",
       "      <td>1</td>\n",
       "      <td>1</td>\n",
       "      <td>one</td>\n",
       "    </tr>\n",
       "    <tr>\n",
       "      <th>3</th>\n",
       "      <td>1.605</td>\n",
       "      <td>2.228</td>\n",
       "      <td>3.149</td>\n",
       "      <td>2.834</td>\n",
       "      <td>0.2917</td>\n",
       "      <td>0.3613</td>\n",
       "      <td>0.20870</td>\n",
       "      <td>0.1294</td>\n",
       "      <td>0.2734</td>\n",
       "      <td>1.144</td>\n",
       "      <td>1.062</td>\n",
       "      <td>4.829</td>\n",
       "      <td>1</td>\n",
       "      <td>1</td>\n",
       "      <td>one</td>\n",
       "    </tr>\n",
       "    <tr>\n",
       "      <th>4</th>\n",
       "      <td>1.534</td>\n",
       "      <td>2.114</td>\n",
       "      <td>3.309</td>\n",
       "      <td>2.976</td>\n",
       "      <td>0.2100</td>\n",
       "      <td>0.2502</td>\n",
       "      <td>0.22580</td>\n",
       "      <td>0.1770</td>\n",
       "      <td>0.2039</td>\n",
       "      <td>1.254</td>\n",
       "      <td>1.112</td>\n",
       "      <td>5.734</td>\n",
       "      <td>1</td>\n",
       "      <td>1</td>\n",
       "      <td>one</td>\n",
       "    </tr>\n",
       "  </tbody>\n",
       "</table>\n",
       "</div>"
      ],
      "text/plain": [
       "   Input 1  Input 2  Input 3  Input 4  Input 5  Input 6  Input 7  Input 8  \\\n",
       "0    1.473    2.311    3.179    2.666   0.2795   0.2771  0.22340   0.1855   \n",
       "1    1.460    2.377    3.214    2.920   0.2527   0.3064  0.02563   0.1965   \n",
       "2    1.552    2.164    3.064    2.745   0.2820   0.2100  0.17210   0.1929   \n",
       "3    1.605    2.228    3.149    2.834   0.2917   0.3613  0.20870   0.1294   \n",
       "4    1.534    2.114    3.309    2.976   0.2100   0.2502  0.22580   0.1770   \n",
       "\n",
       "   Input 9  Input 10   Input 11   Input 12  output1  output2 class  \n",
       "0   0.2539      1.138      1.111     4.712        1        1   one  \n",
       "1   0.3027      1.213      1.027     5.463        1        1   one  \n",
       "2   0.2100      1.221      1.058     5.332        1        1   one  \n",
       "3   0.2734      1.144      1.062     4.829        1        1   one  \n",
       "4   0.2039      1.254      1.112     5.734        1        1   one  "
      ]
     },
     "execution_count": 147,
     "metadata": {},
     "output_type": "execute_result"
    }
   ],
   "source": [
    "# xls\n",
    "\n",
    "df_xls=pd.read_excel('../data/Sensor Data.xls')\n",
    "\n",
    "df_xls.head()"
   ]
  },
  {
   "cell_type": "code",
   "execution_count": 148,
   "metadata": {},
   "outputs": [
    {
     "data": {
      "text/html": [
       "<div>\n",
       "<style scoped>\n",
       "    .dataframe tbody tr th:only-of-type {\n",
       "        vertical-align: middle;\n",
       "    }\n",
       "\n",
       "    .dataframe tbody tr th {\n",
       "        vertical-align: top;\n",
       "    }\n",
       "\n",
       "    .dataframe thead th {\n",
       "        text-align: right;\n",
       "    }\n",
       "</style>\n",
       "<table border=\"1\" class=\"dataframe\">\n",
       "  <thead>\n",
       "    <tr style=\"text-align: right;\">\n",
       "      <th></th>\n",
       "      <th>Input 1</th>\n",
       "      <th>Input 2</th>\n",
       "      <th>Input 3</th>\n",
       "      <th>Input 4</th>\n",
       "      <th>Input 5</th>\n",
       "      <th>Input 6</th>\n",
       "      <th>Input 7</th>\n",
       "      <th>Input 8</th>\n",
       "      <th>Input 9</th>\n",
       "      <th>Input 10</th>\n",
       "      <th>Input 11</th>\n",
       "      <th>Input 12</th>\n",
       "      <th>output1</th>\n",
       "      <th>output2</th>\n",
       "      <th>class</th>\n",
       "    </tr>\n",
       "  </thead>\n",
       "  <tbody>\n",
       "    <tr>\n",
       "      <th>0</th>\n",
       "      <td>1.473</td>\n",
       "      <td>2.311</td>\n",
       "      <td>3.179</td>\n",
       "      <td>2.666</td>\n",
       "      <td>0.2795</td>\n",
       "      <td>0.2771</td>\n",
       "      <td>0.22340</td>\n",
       "      <td>0.1855</td>\n",
       "      <td>0.2539</td>\n",
       "      <td>1.138</td>\n",
       "      <td>1.111</td>\n",
       "      <td>4.712</td>\n",
       "      <td>1</td>\n",
       "      <td>1</td>\n",
       "      <td>one</td>\n",
       "    </tr>\n",
       "    <tr>\n",
       "      <th>1</th>\n",
       "      <td>1.460</td>\n",
       "      <td>2.377</td>\n",
       "      <td>3.214</td>\n",
       "      <td>2.920</td>\n",
       "      <td>0.2527</td>\n",
       "      <td>0.3064</td>\n",
       "      <td>0.02563</td>\n",
       "      <td>0.1965</td>\n",
       "      <td>0.3027</td>\n",
       "      <td>1.213</td>\n",
       "      <td>1.027</td>\n",
       "      <td>5.463</td>\n",
       "      <td>1</td>\n",
       "      <td>1</td>\n",
       "      <td>one</td>\n",
       "    </tr>\n",
       "    <tr>\n",
       "      <th>2</th>\n",
       "      <td>1.552</td>\n",
       "      <td>2.164</td>\n",
       "      <td>3.064</td>\n",
       "      <td>2.745</td>\n",
       "      <td>0.2820</td>\n",
       "      <td>0.2100</td>\n",
       "      <td>0.17210</td>\n",
       "      <td>0.1929</td>\n",
       "      <td>0.2100</td>\n",
       "      <td>1.221</td>\n",
       "      <td>1.058</td>\n",
       "      <td>5.332</td>\n",
       "      <td>1</td>\n",
       "      <td>1</td>\n",
       "      <td>one</td>\n",
       "    </tr>\n",
       "    <tr>\n",
       "      <th>3</th>\n",
       "      <td>1.605</td>\n",
       "      <td>2.228</td>\n",
       "      <td>3.149</td>\n",
       "      <td>2.834</td>\n",
       "      <td>0.2917</td>\n",
       "      <td>0.3613</td>\n",
       "      <td>0.20870</td>\n",
       "      <td>0.1294</td>\n",
       "      <td>0.2734</td>\n",
       "      <td>1.144</td>\n",
       "      <td>1.062</td>\n",
       "      <td>4.829</td>\n",
       "      <td>1</td>\n",
       "      <td>1</td>\n",
       "      <td>one</td>\n",
       "    </tr>\n",
       "    <tr>\n",
       "      <th>4</th>\n",
       "      <td>1.534</td>\n",
       "      <td>2.114</td>\n",
       "      <td>3.309</td>\n",
       "      <td>2.976</td>\n",
       "      <td>0.2100</td>\n",
       "      <td>0.2502</td>\n",
       "      <td>0.22580</td>\n",
       "      <td>0.1770</td>\n",
       "      <td>0.2039</td>\n",
       "      <td>1.254</td>\n",
       "      <td>1.112</td>\n",
       "      <td>5.734</td>\n",
       "      <td>1</td>\n",
       "      <td>1</td>\n",
       "      <td>one</td>\n",
       "    </tr>\n",
       "  </tbody>\n",
       "</table>\n",
       "</div>"
      ],
      "text/plain": [
       "   Input 1  Input 2  Input 3  Input 4  Input 5  Input 6  Input 7  Input 8  \\\n",
       "0    1.473    2.311    3.179    2.666   0.2795   0.2771  0.22340   0.1855   \n",
       "1    1.460    2.377    3.214    2.920   0.2527   0.3064  0.02563   0.1965   \n",
       "2    1.552    2.164    3.064    2.745   0.2820   0.2100  0.17210   0.1929   \n",
       "3    1.605    2.228    3.149    2.834   0.2917   0.3613  0.20870   0.1294   \n",
       "4    1.534    2.114    3.309    2.976   0.2100   0.2502  0.22580   0.1770   \n",
       "\n",
       "   Input 9  Input 10   Input 11   Input 12  output1  output2 class  \n",
       "0   0.2539      1.138      1.111     4.712        1        1   one  \n",
       "1   0.3027      1.213      1.027     5.463        1        1   one  \n",
       "2   0.2100      1.221      1.058     5.332        1        1   one  \n",
       "3   0.2734      1.144      1.062     4.829        1        1   one  \n",
       "4   0.2039      1.254      1.112     5.734        1        1   one  "
      ]
     },
     "execution_count": 148,
     "metadata": {},
     "output_type": "execute_result"
    }
   ],
   "source": [
    "df_xls=pd.read_excel('../data/Sensor Data.xls', 'Sheet1')\n",
    "\n",
    "df_xls.head()"
   ]
  },
  {
   "cell_type": "code",
   "execution_count": 149,
   "metadata": {},
   "outputs": [
    {
     "data": {
      "text/html": [
       "<div>\n",
       "<style scoped>\n",
       "    .dataframe tbody tr th:only-of-type {\n",
       "        vertical-align: middle;\n",
       "    }\n",
       "\n",
       "    .dataframe tbody tr th {\n",
       "        vertical-align: top;\n",
       "    }\n",
       "\n",
       "    .dataframe thead th {\n",
       "        text-align: right;\n",
       "    }\n",
       "</style>\n",
       "<table border=\"1\" class=\"dataframe\">\n",
       "  <thead>\n",
       "    <tr style=\"text-align: right;\">\n",
       "      <th></th>\n",
       "      <th>Sensor Data</th>\n",
       "    </tr>\n",
       "  </thead>\n",
       "  <tbody>\n",
       "    <tr>\n",
       "      <th>0</th>\n",
       "      <td>The data source as well as the exact nature of...</td>\n",
       "    </tr>\n",
       "    <tr>\n",
       "      <th>1</th>\n",
       "      <td>Each data instance contains 12 real-valued inp...</td>\n",
       "    </tr>\n",
       "    <tr>\n",
       "      <th>2</th>\n",
       "      <td>represents a sensor designed to detect the pre...</td>\n",
       "    </tr>\n",
       "    <tr>\n",
       "      <th>3</th>\n",
       "      <td>of substances. As an alternative, the sensor r...</td>\n",
       "    </tr>\n",
       "    <tr>\n",
       "      <th>4</th>\n",
       "      <td>NaN</td>\n",
       "    </tr>\n",
       "  </tbody>\n",
       "</table>\n",
       "</div>"
      ],
      "text/plain": [
       "                                                    Sensor Data\n",
       "0  The data source as well as the exact nature of...           \n",
       "1  Each data instance contains 12 real-valued inp...           \n",
       "2  represents a sensor designed to detect the pre...           \n",
       "3  of substances. As an alternative, the sensor r...           \n",
       "4                                                NaN           "
      ]
     },
     "execution_count": 149,
     "metadata": {},
     "output_type": "execute_result"
    }
   ],
   "source": [
    "df_xls=pd.read_excel('../data/Sensor Data.xls', 'Sheet2')\n",
    "\n",
    "df_xls.head()"
   ]
  },
  {
   "cell_type": "code",
   "execution_count": 150,
   "metadata": {},
   "outputs": [
    {
     "data": {
      "text/html": [
       "<div>\n",
       "<style scoped>\n",
       "    .dataframe tbody tr th:only-of-type {\n",
       "        vertical-align: middle;\n",
       "    }\n",
       "\n",
       "    .dataframe tbody tr th {\n",
       "        vertical-align: top;\n",
       "    }\n",
       "\n",
       "    .dataframe thead th {\n",
       "        text-align: right;\n",
       "    }\n",
       "</style>\n",
       "<table border=\"1\" class=\"dataframe\">\n",
       "  <thead>\n",
       "    <tr style=\"text-align: right;\">\n",
       "      <th></th>\n",
       "      <th>hola</th>\n",
       "      <th>amiguis</th>\n",
       "      <th>estamos</th>\n",
       "      <th>probando</th>\n",
       "      <th>pandas</th>\n",
       "    </tr>\n",
       "  </thead>\n",
       "  <tbody>\n",
       "  </tbody>\n",
       "</table>\n",
       "</div>"
      ],
      "text/plain": [
       "Empty DataFrame\n",
       "Columns: [hola, amiguis, estamos, probando, pandas]\n",
       "Index: []"
      ]
     },
     "execution_count": 150,
     "metadata": {},
     "output_type": "execute_result"
    }
   ],
   "source": [
    "df_xls=pd.read_excel('../data/Sensor Data.xls', 'Sheet3')\n",
    "\n",
    "df_xls.head()"
   ]
  },
  {
   "cell_type": "code",
   "execution_count": 151,
   "metadata": {},
   "outputs": [
    {
     "data": {
      "text/html": [
       "<div>\n",
       "<style scoped>\n",
       "    .dataframe tbody tr th:only-of-type {\n",
       "        vertical-align: middle;\n",
       "    }\n",
       "\n",
       "    .dataframe tbody tr th {\n",
       "        vertical-align: top;\n",
       "    }\n",
       "\n",
       "    .dataframe thead th {\n",
       "        text-align: right;\n",
       "    }\n",
       "</style>\n",
       "<table border=\"1\" class=\"dataframe\">\n",
       "  <thead>\n",
       "    <tr style=\"text-align: right;\">\n",
       "      <th></th>\n",
       "      <th>32</th>\n",
       "      <th>42</th>\n",
       "      <th>4q34q34</th>\n",
       "    </tr>\n",
       "  </thead>\n",
       "  <tbody>\n",
       "    <tr>\n",
       "      <th>0</th>\n",
       "      <td>23r</td>\n",
       "      <td>4</td>\n",
       "      <td>NaN</td>\n",
       "    </tr>\n",
       "    <tr>\n",
       "      <th>1</th>\n",
       "      <td>NaN</td>\n",
       "      <td>42</td>\n",
       "      <td>NaN</td>\n",
       "    </tr>\n",
       "  </tbody>\n",
       "</table>\n",
       "</div>"
      ],
      "text/plain": [
       "    32  42  4q34q34\n",
       "0  23r   4      NaN\n",
       "1  NaN  42      NaN"
      ]
     },
     "execution_count": 151,
     "metadata": {},
     "output_type": "execute_result"
    }
   ],
   "source": [
    "df_xls=pd.read_excel('../data/Sensor Data.xls', 'Hoja1')\n",
    "\n",
    "df_xls.head()"
   ]
  },
  {
   "cell_type": "code",
   "execution_count": 152,
   "metadata": {},
   "outputs": [
    {
     "data": {
      "text/html": [
       "<div>\n",
       "<style scoped>\n",
       "    .dataframe tbody tr th:only-of-type {\n",
       "        vertical-align: middle;\n",
       "    }\n",
       "\n",
       "    .dataframe tbody tr th {\n",
       "        vertical-align: top;\n",
       "    }\n",
       "\n",
       "    .dataframe thead th {\n",
       "        text-align: right;\n",
       "    }\n",
       "</style>\n",
       "<table border=\"1\" class=\"dataframe\">\n",
       "  <thead>\n",
       "    <tr style=\"text-align: right;\">\n",
       "      <th></th>\n",
       "      <th>Input 1</th>\n",
       "      <th>Input 2</th>\n",
       "      <th>Input 3</th>\n",
       "      <th>Input 4</th>\n",
       "      <th>Input 5</th>\n",
       "      <th>Input 6</th>\n",
       "      <th>Input 7</th>\n",
       "      <th>Input 8</th>\n",
       "      <th>Input 9</th>\n",
       "      <th>Input 10</th>\n",
       "      <th>Input 11</th>\n",
       "      <th>Input 12</th>\n",
       "      <th>output1</th>\n",
       "      <th>output2</th>\n",
       "      <th>class</th>\n",
       "    </tr>\n",
       "  </thead>\n",
       "  <tbody>\n",
       "    <tr>\n",
       "      <th>0</th>\n",
       "      <td>1.473</td>\n",
       "      <td>2.311</td>\n",
       "      <td>3.179</td>\n",
       "      <td>2.666</td>\n",
       "      <td>0.2795</td>\n",
       "      <td>0.2771</td>\n",
       "      <td>0.22340</td>\n",
       "      <td>0.1855</td>\n",
       "      <td>0.2539</td>\n",
       "      <td>1.138</td>\n",
       "      <td>1.111</td>\n",
       "      <td>4.712</td>\n",
       "      <td>1</td>\n",
       "      <td>1</td>\n",
       "      <td>one</td>\n",
       "    </tr>\n",
       "    <tr>\n",
       "      <th>1</th>\n",
       "      <td>1.460</td>\n",
       "      <td>2.377</td>\n",
       "      <td>3.214</td>\n",
       "      <td>2.920</td>\n",
       "      <td>0.2527</td>\n",
       "      <td>0.3064</td>\n",
       "      <td>0.02563</td>\n",
       "      <td>0.1965</td>\n",
       "      <td>0.3027</td>\n",
       "      <td>1.213</td>\n",
       "      <td>1.027</td>\n",
       "      <td>5.463</td>\n",
       "      <td>1</td>\n",
       "      <td>1</td>\n",
       "      <td>one</td>\n",
       "    </tr>\n",
       "    <tr>\n",
       "      <th>2</th>\n",
       "      <td>1.552</td>\n",
       "      <td>2.164</td>\n",
       "      <td>3.064</td>\n",
       "      <td>2.745</td>\n",
       "      <td>0.2820</td>\n",
       "      <td>0.2100</td>\n",
       "      <td>0.17210</td>\n",
       "      <td>0.1929</td>\n",
       "      <td>0.2100</td>\n",
       "      <td>1.221</td>\n",
       "      <td>1.058</td>\n",
       "      <td>5.332</td>\n",
       "      <td>1</td>\n",
       "      <td>1</td>\n",
       "      <td>one</td>\n",
       "    </tr>\n",
       "    <tr>\n",
       "      <th>3</th>\n",
       "      <td>1.605</td>\n",
       "      <td>2.228</td>\n",
       "      <td>3.149</td>\n",
       "      <td>2.834</td>\n",
       "      <td>0.2917</td>\n",
       "      <td>0.3613</td>\n",
       "      <td>0.20870</td>\n",
       "      <td>0.1294</td>\n",
       "      <td>0.2734</td>\n",
       "      <td>1.144</td>\n",
       "      <td>1.062</td>\n",
       "      <td>4.829</td>\n",
       "      <td>1</td>\n",
       "      <td>1</td>\n",
       "      <td>one</td>\n",
       "    </tr>\n",
       "    <tr>\n",
       "      <th>4</th>\n",
       "      <td>1.534</td>\n",
       "      <td>2.114</td>\n",
       "      <td>3.309</td>\n",
       "      <td>2.976</td>\n",
       "      <td>0.2100</td>\n",
       "      <td>0.2502</td>\n",
       "      <td>0.22580</td>\n",
       "      <td>0.1770</td>\n",
       "      <td>0.2039</td>\n",
       "      <td>1.254</td>\n",
       "      <td>1.112</td>\n",
       "      <td>5.734</td>\n",
       "      <td>1</td>\n",
       "      <td>1</td>\n",
       "      <td>one</td>\n",
       "    </tr>\n",
       "  </tbody>\n",
       "</table>\n",
       "</div>"
      ],
      "text/plain": [
       "   Input 1  Input 2  Input 3  Input 4  Input 5  Input 6  Input 7  Input 8  \\\n",
       "0    1.473    2.311    3.179    2.666   0.2795   0.2771  0.22340   0.1855   \n",
       "1    1.460    2.377    3.214    2.920   0.2527   0.3064  0.02563   0.1965   \n",
       "2    1.552    2.164    3.064    2.745   0.2820   0.2100  0.17210   0.1929   \n",
       "3    1.605    2.228    3.149    2.834   0.2917   0.3613  0.20870   0.1294   \n",
       "4    1.534    2.114    3.309    2.976   0.2100   0.2502  0.22580   0.1770   \n",
       "\n",
       "   Input 9  Input 10   Input 11   Input 12  output1  output2 class  \n",
       "0   0.2539      1.138      1.111     4.712        1        1   one  \n",
       "1   0.3027      1.213      1.027     5.463        1        1   one  \n",
       "2   0.2100      1.221      1.058     5.332        1        1   one  \n",
       "3   0.2734      1.144      1.062     4.829        1        1   one  \n",
       "4   0.2039      1.254      1.112     5.734        1        1   one  "
      ]
     },
     "execution_count": 152,
     "metadata": {},
     "output_type": "execute_result"
    }
   ],
   "source": [
    "df_xls=pd.read_excel('../data/Sensor Data.xls', 0)\n",
    "\n",
    "df_xls.head()"
   ]
  },
  {
   "cell_type": "code",
   "execution_count": 153,
   "metadata": {},
   "outputs": [
    {
     "data": {
      "text/html": [
       "<div>\n",
       "<style scoped>\n",
       "    .dataframe tbody tr th:only-of-type {\n",
       "        vertical-align: middle;\n",
       "    }\n",
       "\n",
       "    .dataframe tbody tr th {\n",
       "        vertical-align: top;\n",
       "    }\n",
       "\n",
       "    .dataframe thead th {\n",
       "        text-align: right;\n",
       "    }\n",
       "</style>\n",
       "<table border=\"1\" class=\"dataframe\">\n",
       "  <thead>\n",
       "    <tr style=\"text-align: right;\">\n",
       "      <th></th>\n",
       "      <th>Sensor Data</th>\n",
       "    </tr>\n",
       "  </thead>\n",
       "  <tbody>\n",
       "    <tr>\n",
       "      <th>0</th>\n",
       "      <td>The data source as well as the exact nature of...</td>\n",
       "    </tr>\n",
       "    <tr>\n",
       "      <th>1</th>\n",
       "      <td>Each data instance contains 12 real-valued inp...</td>\n",
       "    </tr>\n",
       "    <tr>\n",
       "      <th>2</th>\n",
       "      <td>represents a sensor designed to detect the pre...</td>\n",
       "    </tr>\n",
       "    <tr>\n",
       "      <th>3</th>\n",
       "      <td>of substances. As an alternative, the sensor r...</td>\n",
       "    </tr>\n",
       "    <tr>\n",
       "      <th>4</th>\n",
       "      <td>NaN</td>\n",
       "    </tr>\n",
       "  </tbody>\n",
       "</table>\n",
       "</div>"
      ],
      "text/plain": [
       "                                                    Sensor Data\n",
       "0  The data source as well as the exact nature of...           \n",
       "1  Each data instance contains 12 real-valued inp...           \n",
       "2  represents a sensor designed to detect the pre...           \n",
       "3  of substances. As an alternative, the sensor r...           \n",
       "4                                                NaN           "
      ]
     },
     "execution_count": 153,
     "metadata": {},
     "output_type": "execute_result"
    }
   ],
   "source": [
    "df_xls=pd.read_excel('../data/Sensor Data.xls', 1)\n",
    "\n",
    "df_xls.head()"
   ]
  },
  {
   "cell_type": "code",
   "execution_count": 154,
   "metadata": {},
   "outputs": [
    {
     "data": {
      "text/html": [
       "<div>\n",
       "<style scoped>\n",
       "    .dataframe tbody tr th:only-of-type {\n",
       "        vertical-align: middle;\n",
       "    }\n",
       "\n",
       "    .dataframe tbody tr th {\n",
       "        vertical-align: top;\n",
       "    }\n",
       "\n",
       "    .dataframe thead th {\n",
       "        text-align: right;\n",
       "    }\n",
       "</style>\n",
       "<table border=\"1\" class=\"dataframe\">\n",
       "  <thead>\n",
       "    <tr style=\"text-align: right;\">\n",
       "      <th></th>\n",
       "      <th>hola</th>\n",
       "      <th>amiguis</th>\n",
       "      <th>estamos</th>\n",
       "      <th>probando</th>\n",
       "      <th>pandas</th>\n",
       "    </tr>\n",
       "  </thead>\n",
       "  <tbody>\n",
       "  </tbody>\n",
       "</table>\n",
       "</div>"
      ],
      "text/plain": [
       "Empty DataFrame\n",
       "Columns: [hola, amiguis, estamos, probando, pandas]\n",
       "Index: []"
      ]
     },
     "execution_count": 154,
     "metadata": {},
     "output_type": "execute_result"
    }
   ],
   "source": [
    "df_xls=pd.read_excel('../data/Sensor Data.xls', 2)\n",
    "\n",
    "df_xls.head()"
   ]
  },
  {
   "cell_type": "code",
   "execution_count": 155,
   "metadata": {},
   "outputs": [
    {
     "data": {
      "text/html": [
       "<div>\n",
       "<style scoped>\n",
       "    .dataframe tbody tr th:only-of-type {\n",
       "        vertical-align: middle;\n",
       "    }\n",
       "\n",
       "    .dataframe tbody tr th {\n",
       "        vertical-align: top;\n",
       "    }\n",
       "\n",
       "    .dataframe thead th {\n",
       "        text-align: right;\n",
       "    }\n",
       "</style>\n",
       "<table border=\"1\" class=\"dataframe\">\n",
       "  <thead>\n",
       "    <tr style=\"text-align: right;\">\n",
       "      <th></th>\n",
       "      <th>32</th>\n",
       "      <th>42</th>\n",
       "      <th>4q34q34</th>\n",
       "    </tr>\n",
       "  </thead>\n",
       "  <tbody>\n",
       "    <tr>\n",
       "      <th>0</th>\n",
       "      <td>23r</td>\n",
       "      <td>4</td>\n",
       "      <td>NaN</td>\n",
       "    </tr>\n",
       "    <tr>\n",
       "      <th>1</th>\n",
       "      <td>NaN</td>\n",
       "      <td>42</td>\n",
       "      <td>NaN</td>\n",
       "    </tr>\n",
       "  </tbody>\n",
       "</table>\n",
       "</div>"
      ],
      "text/plain": [
       "    32  42  4q34q34\n",
       "0  23r   4      NaN\n",
       "1  NaN  42      NaN"
      ]
     },
     "execution_count": 155,
     "metadata": {},
     "output_type": "execute_result"
    }
   ],
   "source": [
    "df_xls=pd.read_excel('../data/Sensor Data.xls', 3)\n",
    "\n",
    "df_xls.head()"
   ]
  },
  {
   "cell_type": "code",
   "execution_count": 156,
   "metadata": {},
   "outputs": [
    {
     "data": {
      "text/plain": [
       "['Sheet1', 'Sheet2', 'Sheet3', 'Hoja1']"
      ]
     },
     "execution_count": 156,
     "metadata": {},
     "output_type": "execute_result"
    }
   ],
   "source": [
    "xls = pd.ExcelFile('../data/Sensor Data.xls')\n",
    "\n",
    "xls.sheet_names"
   ]
  },
  {
   "cell_type": "code",
   "execution_count": 157,
   "metadata": {},
   "outputs": [
    {
     "data": {
      "text/plain": [
       "<pandas.io.excel._base.ExcelFile at 0x17a24d880>"
      ]
     },
     "execution_count": 157,
     "metadata": {},
     "output_type": "execute_result"
    }
   ],
   "source": [
    "xls"
   ]
  },
  {
   "cell_type": "code",
   "execution_count": 158,
   "metadata": {},
   "outputs": [],
   "source": [
    "dictio_df = {}\n",
    "\n",
    "for hoja in xls.sheet_names:\n",
    "    \n",
    "    dictio_df[hoja] = pd.read_excel('../data/Sensor Data.xls', hoja)"
   ]
  },
  {
   "cell_type": "code",
   "execution_count": 160,
   "metadata": {
    "scrolled": true
   },
   "outputs": [
    {
     "data": {
      "text/html": [
       "<div>\n",
       "<style scoped>\n",
       "    .dataframe tbody tr th:only-of-type {\n",
       "        vertical-align: middle;\n",
       "    }\n",
       "\n",
       "    .dataframe tbody tr th {\n",
       "        vertical-align: top;\n",
       "    }\n",
       "\n",
       "    .dataframe thead th {\n",
       "        text-align: right;\n",
       "    }\n",
       "</style>\n",
       "<table border=\"1\" class=\"dataframe\">\n",
       "  <thead>\n",
       "    <tr style=\"text-align: right;\">\n",
       "      <th></th>\n",
       "      <th>32</th>\n",
       "      <th>42</th>\n",
       "      <th>4q34q34</th>\n",
       "    </tr>\n",
       "  </thead>\n",
       "  <tbody>\n",
       "    <tr>\n",
       "      <th>0</th>\n",
       "      <td>23r</td>\n",
       "      <td>4</td>\n",
       "      <td>NaN</td>\n",
       "    </tr>\n",
       "    <tr>\n",
       "      <th>1</th>\n",
       "      <td>NaN</td>\n",
       "      <td>42</td>\n",
       "      <td>NaN</td>\n",
       "    </tr>\n",
       "  </tbody>\n",
       "</table>\n",
       "</div>"
      ],
      "text/plain": [
       "    32  42  4q34q34\n",
       "0  23r   4      NaN\n",
       "1  NaN  42      NaN"
      ]
     },
     "execution_count": 160,
     "metadata": {},
     "output_type": "execute_result"
    }
   ],
   "source": [
    "dictio_df['Hoja1']"
   ]
  },
  {
   "cell_type": "code",
   "execution_count": 162,
   "metadata": {},
   "outputs": [
    {
     "data": {
      "text/plain": [
       "(2212, 15)"
      ]
     },
     "execution_count": 162,
     "metadata": {},
     "output_type": "execute_result"
    }
   ],
   "source": [
    "dictio_df['Sheet1'].shape"
   ]
  },
  {
   "cell_type": "code",
   "execution_count": 163,
   "metadata": {},
   "outputs": [
    {
     "ename": "SyntaxError",
     "evalue": "cannot assign to f-string expression (4130609188.py, line 1)",
     "output_type": "error",
     "traceback": [
      "\u001b[0;36m  Cell \u001b[0;32mIn[163], line 1\u001b[0;36m\u001b[0m\n\u001b[0;31m    f'a_{1}' = 0\u001b[0m\n\u001b[0m    ^\u001b[0m\n\u001b[0;31mSyntaxError\u001b[0m\u001b[0;31m:\u001b[0m cannot assign to f-string expression\n"
     ]
    }
   ],
   "source": [
    "f'a_{1}' = 0"
   ]
  },
  {
   "cell_type": "code",
   "execution_count": 167,
   "metadata": {},
   "outputs": [
    {
     "data": {
      "text/plain": [
       "dict_keys(['Sheet1', 'Sheet2', 'Sheet3', 'Hoja1'])"
      ]
     },
     "execution_count": 167,
     "metadata": {},
     "output_type": "execute_result"
    }
   ],
   "source": [
    "dictio_df.keys()"
   ]
  },
  {
   "cell_type": "code",
   "execution_count": 168,
   "metadata": {},
   "outputs": [
    {
     "data": {
      "text/html": [
       "<div>\n",
       "<style scoped>\n",
       "    .dataframe tbody tr th:only-of-type {\n",
       "        vertical-align: middle;\n",
       "    }\n",
       "\n",
       "    .dataframe tbody tr th {\n",
       "        vertical-align: top;\n",
       "    }\n",
       "\n",
       "    .dataframe thead th {\n",
       "        text-align: right;\n",
       "    }\n",
       "</style>\n",
       "<table border=\"1\" class=\"dataframe\">\n",
       "  <thead>\n",
       "    <tr style=\"text-align: right;\">\n",
       "      <th></th>\n",
       "      <th>name</th>\n",
       "      <th>totalOffices</th>\n",
       "      <th>lat</th>\n",
       "      <th>lng</th>\n",
       "      <th>principal</th>\n",
       "    </tr>\n",
       "  </thead>\n",
       "  <tbody>\n",
       "    <tr>\n",
       "      <th>0</th>\n",
       "      <td>Wetpaint</td>\n",
       "      <td>2</td>\n",
       "      <td>47.603122</td>\n",
       "      <td>-122.333253</td>\n",
       "      <td>{'type': 'Point', 'coordinates': [-122.333253,...</td>\n",
       "    </tr>\n",
       "    <tr>\n",
       "      <th>1</th>\n",
       "      <td>AdventNet</td>\n",
       "      <td>1</td>\n",
       "      <td>37.692934</td>\n",
       "      <td>-121.904945</td>\n",
       "      <td>{'type': 'Point', 'coordinates': [-121.904945,...</td>\n",
       "    </tr>\n",
       "    <tr>\n",
       "      <th>2</th>\n",
       "      <td>Zoho</td>\n",
       "      <td>1</td>\n",
       "      <td>37.692934</td>\n",
       "      <td>-121.904945</td>\n",
       "      <td>{'type': 'Point', 'coordinates': [-121.904945,...</td>\n",
       "    </tr>\n",
       "    <tr>\n",
       "      <th>3</th>\n",
       "      <td>Digg</td>\n",
       "      <td>1</td>\n",
       "      <td>37.764726</td>\n",
       "      <td>-122.394523</td>\n",
       "      <td>{'type': 'Point', 'coordinates': [-122.394523,...</td>\n",
       "    </tr>\n",
       "    <tr>\n",
       "      <th>4</th>\n",
       "      <td>Facebook</td>\n",
       "      <td>3</td>\n",
       "      <td>37.416050</td>\n",
       "      <td>-122.151801</td>\n",
       "      <td>{'type': 'Point', 'coordinates': [-122.151801,...</td>\n",
       "    </tr>\n",
       "  </tbody>\n",
       "</table>\n",
       "</div>"
      ],
      "text/plain": [
       "        name  totalOffices        lat         lng  \\\n",
       "0   Wetpaint             2  47.603122 -122.333253   \n",
       "1  AdventNet             1  37.692934 -121.904945   \n",
       "2       Zoho             1  37.692934 -121.904945   \n",
       "3       Digg             1  37.764726 -122.394523   \n",
       "4   Facebook             3  37.416050 -122.151801   \n",
       "\n",
       "                                           principal  \n",
       "0  {'type': 'Point', 'coordinates': [-122.333253,...  \n",
       "1  {'type': 'Point', 'coordinates': [-121.904945,...  \n",
       "2  {'type': 'Point', 'coordinates': [-121.904945,...  \n",
       "3  {'type': 'Point', 'coordinates': [-122.394523,...  \n",
       "4  {'type': 'Point', 'coordinates': [-122.151801,...  "
      ]
     },
     "execution_count": 168,
     "metadata": {},
     "output_type": "execute_result"
    }
   ],
   "source": [
    "# json\n",
    "\n",
    "df_json = pd.read_json('../data/oficinas.json')\n",
    "\n",
    "df_json.head()"
   ]
  },
  {
   "cell_type": "code",
   "execution_count": 169,
   "metadata": {},
   "outputs": [
    {
     "name": "stdout",
     "output_type": "stream",
     "text": [
      "<class 'pandas.core.frame.DataFrame'>\n",
      "Int64Index: 9618 entries, 0 to 13743\n",
      "Data columns (total 5 columns):\n",
      " #   Column        Non-Null Count  Dtype  \n",
      "---  ------        --------------  -----  \n",
      " 0   name          9618 non-null   object \n",
      " 1   totalOffices  9618 non-null   int64  \n",
      " 2   lat           9618 non-null   float64\n",
      " 3   lng           9618 non-null   float64\n",
      " 4   principal     9618 non-null   object \n",
      "dtypes: float64(2), int64(1), object(2)\n",
      "memory usage: 450.8+ KB\n"
     ]
    }
   ],
   "source": [
    "df_json.info()"
   ]
  },
  {
   "cell_type": "code",
   "execution_count": 171,
   "metadata": {},
   "outputs": [
    {
     "data": {
      "text/plain": [
       "{'type': 'Point', 'coordinates': [-122.333253, 47.603122]}"
      ]
     },
     "execution_count": 171,
     "metadata": {},
     "output_type": "execute_result"
    }
   ],
   "source": [
    "df_json['principal'][0]"
   ]
  },
  {
   "cell_type": "code",
   "execution_count": null,
   "metadata": {},
   "outputs": [],
   "source": []
  }
 ],
 "metadata": {
  "kernelspec": {
   "display_name": "clase",
   "language": "python",
   "name": "clase"
  },
  "language_info": {
   "codemirror_mode": {
    "name": "ipython",
    "version": 3
   },
   "file_extension": ".py",
   "mimetype": "text/x-python",
   "name": "python",
   "nbconvert_exporter": "python",
   "pygments_lexer": "ipython3",
   "version": "3.9.12"
  },
  "varInspector": {
   "cols": {
    "lenName": 16,
    "lenType": 16,
    "lenVar": 40
   },
   "kernels_config": {
    "python": {
     "delete_cmd_postfix": "",
     "delete_cmd_prefix": "del ",
     "library": "var_list.py",
     "varRefreshCmd": "print(var_dic_list())"
    },
    "r": {
     "delete_cmd_postfix": ") ",
     "delete_cmd_prefix": "rm(",
     "library": "var_list.r",
     "varRefreshCmd": "cat(var_dic_list()) "
    }
   },
   "types_to_exclude": [
    "module",
    "function",
    "builtin_function_or_method",
    "instance",
    "_Feature"
   ],
   "window_display": false
  }
 },
 "nbformat": 4,
 "nbformat_minor": 4
}
