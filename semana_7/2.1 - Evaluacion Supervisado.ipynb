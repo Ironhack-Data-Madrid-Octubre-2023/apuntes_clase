{
 "cells": [
  {
   "cell_type": "markdown",
   "metadata": {},
   "source": [
    "# 2.1 - Evaluación Supervisado"
   ]
  },
  {
   "cell_type": "markdown",
   "metadata": {},
   "source": [
    "### Regresión"
   ]
  },
  {
   "cell_type": "code",
   "execution_count": 40,
   "metadata": {},
   "outputs": [],
   "source": [
    "import warnings\n",
    "warnings.filterwarnings('ignore')\n",
    "\n",
    "import pandas as pd\n",
    "pd.set_option('display.max_columns', None)\n",
    "\n",
    "from sklearn.ensemble import RandomForestRegressor as RFR    # el modelo , el alias es cosa mia\n",
    "\n",
    "from sklearn.model_selection import train_test_split as tts  # el alias es cosa mia\n",
    "\n",
    "from sklearn.datasets import load_diabetes   # dataset"
   ]
  },
  {
   "cell_type": "code",
   "execution_count": 5,
   "metadata": {},
   "outputs": [],
   "source": [
    "data = load_diabetes()"
   ]
  },
  {
   "cell_type": "code",
   "execution_count": 7,
   "metadata": {},
   "outputs": [
    {
     "data": {
      "text/plain": [
       "['.. _diabetes_dataset:',\n",
       " '',\n",
       " 'Diabetes dataset',\n",
       " '----------------',\n",
       " '',\n",
       " 'Ten baseline variables, age, sex, body mass index, average blood',\n",
       " 'pressure, and six blood serum measurements were obtained for each of n =',\n",
       " '442 diabetes patients, as well as the response of interest, a',\n",
       " 'quantitative measure of disease progression one year after baseline.',\n",
       " '',\n",
       " '**Data Set Characteristics:**',\n",
       " '',\n",
       " '  :Number of Instances: 442',\n",
       " '',\n",
       " '  :Number of Attributes: First 10 columns are numeric predictive values',\n",
       " '',\n",
       " '  :Target: Column 11 is a quantitative measure of disease progression one year after baseline',\n",
       " '',\n",
       " '  :Attribute Information:',\n",
       " '      - age     age in years',\n",
       " '      - sex',\n",
       " '      - bmi     body mass index',\n",
       " '      - bp      average blood pressure',\n",
       " '      - s1      tc, total serum cholesterol',\n",
       " '      - s2      ldl, low-density lipoproteins',\n",
       " '      - s3      hdl, high-density lipoproteins',\n",
       " '      - s4      tch, total cholesterol / HDL',\n",
       " '      - s5      ltg, possibly log of serum triglycerides level',\n",
       " '      - s6      glu, blood sugar level',\n",
       " '',\n",
       " 'Note: Each of these 10 feature variables have been mean centered and scaled by the standard deviation times the square root of `n_samples` (i.e. the sum of squares of each column totals 1).',\n",
       " '',\n",
       " 'Source URL:',\n",
       " 'https://www4.stat.ncsu.edu/~boos/var.select/diabetes.html',\n",
       " '',\n",
       " 'For more information see:',\n",
       " 'Bradley Efron, Trevor Hastie, Iain Johnstone and Robert Tibshirani (2004) \"Least Angle Regression,\" Annals of Statistics (with discussion), 407-499.',\n",
       " '(https://web.stanford.edu/~hastie/Papers/LARS/LeastAngle_2002.pdf)',\n",
       " '']"
      ]
     },
     "execution_count": 7,
     "metadata": {},
     "output_type": "execute_result"
    }
   ],
   "source": [
    "data['DESCR'].split('\\n')"
   ]
  },
  {
   "cell_type": "code",
   "execution_count": 11,
   "metadata": {},
   "outputs": [
    {
     "data": {
      "text/html": [
       "<div>\n",
       "<style scoped>\n",
       "    .dataframe tbody tr th:only-of-type {\n",
       "        vertical-align: middle;\n",
       "    }\n",
       "\n",
       "    .dataframe tbody tr th {\n",
       "        vertical-align: top;\n",
       "    }\n",
       "\n",
       "    .dataframe thead th {\n",
       "        text-align: right;\n",
       "    }\n",
       "</style>\n",
       "<table border=\"1\" class=\"dataframe\">\n",
       "  <thead>\n",
       "    <tr style=\"text-align: right;\">\n",
       "      <th></th>\n",
       "      <th>age</th>\n",
       "      <th>sex</th>\n",
       "      <th>bmi</th>\n",
       "      <th>bp</th>\n",
       "      <th>s1</th>\n",
       "      <th>s2</th>\n",
       "      <th>s3</th>\n",
       "      <th>s4</th>\n",
       "      <th>s5</th>\n",
       "      <th>s6</th>\n",
       "      <th>target</th>\n",
       "    </tr>\n",
       "  </thead>\n",
       "  <tbody>\n",
       "    <tr>\n",
       "      <th>0</th>\n",
       "      <td>0.038076</td>\n",
       "      <td>0.050680</td>\n",
       "      <td>0.061696</td>\n",
       "      <td>0.021872</td>\n",
       "      <td>-0.044223</td>\n",
       "      <td>-0.034821</td>\n",
       "      <td>-0.043401</td>\n",
       "      <td>-0.002592</td>\n",
       "      <td>0.019907</td>\n",
       "      <td>-0.017646</td>\n",
       "      <td>151.0</td>\n",
       "    </tr>\n",
       "    <tr>\n",
       "      <th>1</th>\n",
       "      <td>-0.001882</td>\n",
       "      <td>-0.044642</td>\n",
       "      <td>-0.051474</td>\n",
       "      <td>-0.026328</td>\n",
       "      <td>-0.008449</td>\n",
       "      <td>-0.019163</td>\n",
       "      <td>0.074412</td>\n",
       "      <td>-0.039493</td>\n",
       "      <td>-0.068332</td>\n",
       "      <td>-0.092204</td>\n",
       "      <td>75.0</td>\n",
       "    </tr>\n",
       "    <tr>\n",
       "      <th>2</th>\n",
       "      <td>0.085299</td>\n",
       "      <td>0.050680</td>\n",
       "      <td>0.044451</td>\n",
       "      <td>-0.005670</td>\n",
       "      <td>-0.045599</td>\n",
       "      <td>-0.034194</td>\n",
       "      <td>-0.032356</td>\n",
       "      <td>-0.002592</td>\n",
       "      <td>0.002861</td>\n",
       "      <td>-0.025930</td>\n",
       "      <td>141.0</td>\n",
       "    </tr>\n",
       "    <tr>\n",
       "      <th>3</th>\n",
       "      <td>-0.089063</td>\n",
       "      <td>-0.044642</td>\n",
       "      <td>-0.011595</td>\n",
       "      <td>-0.036656</td>\n",
       "      <td>0.012191</td>\n",
       "      <td>0.024991</td>\n",
       "      <td>-0.036038</td>\n",
       "      <td>0.034309</td>\n",
       "      <td>0.022688</td>\n",
       "      <td>-0.009362</td>\n",
       "      <td>206.0</td>\n",
       "    </tr>\n",
       "    <tr>\n",
       "      <th>4</th>\n",
       "      <td>0.005383</td>\n",
       "      <td>-0.044642</td>\n",
       "      <td>-0.036385</td>\n",
       "      <td>0.021872</td>\n",
       "      <td>0.003935</td>\n",
       "      <td>0.015596</td>\n",
       "      <td>0.008142</td>\n",
       "      <td>-0.002592</td>\n",
       "      <td>-0.031988</td>\n",
       "      <td>-0.046641</td>\n",
       "      <td>135.0</td>\n",
       "    </tr>\n",
       "  </tbody>\n",
       "</table>\n",
       "</div>"
      ],
      "text/plain": [
       "        age       sex       bmi        bp        s1        s2        s3  \\\n",
       "0  0.038076  0.050680  0.061696  0.021872 -0.044223 -0.034821 -0.043401   \n",
       "1 -0.001882 -0.044642 -0.051474 -0.026328 -0.008449 -0.019163  0.074412   \n",
       "2  0.085299  0.050680  0.044451 -0.005670 -0.045599 -0.034194 -0.032356   \n",
       "3 -0.089063 -0.044642 -0.011595 -0.036656  0.012191  0.024991 -0.036038   \n",
       "4  0.005383 -0.044642 -0.036385  0.021872  0.003935  0.015596  0.008142   \n",
       "\n",
       "         s4        s5        s6  target  \n",
       "0 -0.002592  0.019907 -0.017646   151.0  \n",
       "1 -0.039493 -0.068332 -0.092204    75.0  \n",
       "2 -0.002592  0.002861 -0.025930   141.0  \n",
       "3  0.034309  0.022688 -0.009362   206.0  \n",
       "4 -0.002592 -0.031988 -0.046641   135.0  "
      ]
     },
     "execution_count": 11,
     "metadata": {},
     "output_type": "execute_result"
    }
   ],
   "source": [
    "df = pd.DataFrame(data['data'], columns = data['feature_names'])\n",
    "\n",
    "df['target'] = data['target']\n",
    "\n",
    "df.head()"
   ]
  },
  {
   "cell_type": "code",
   "execution_count": 15,
   "metadata": {},
   "outputs": [
    {
     "data": {
      "text/plain": [
       "((331, 10), (111, 10), (331,), (111,))"
      ]
     },
     "execution_count": 15,
     "metadata": {},
     "output_type": "execute_result"
    }
   ],
   "source": [
    "X_train, X_test, y_train, y_test = tts(data['data'], data['target'], train_size=0.75)\n",
    "\n",
    "\n",
    "X_train.shape, X_test.shape, y_train.shape, y_test.shape"
   ]
  },
  {
   "cell_type": "code",
   "execution_count": 17,
   "metadata": {},
   "outputs": [],
   "source": [
    "# modelo \n",
    "\n",
    "rfr = RFR()    # inicia el objeto random forest\n",
    "\n",
    "rfr.fit(X_train, y_train)      # entrena el modelo\n",
    " \n",
    "y_pred = rfr.predict(X_test)   # prediccion con el tamaño del test"
   ]
  },
  {
   "cell_type": "code",
   "execution_count": 18,
   "metadata": {},
   "outputs": [
    {
     "data": {
      "text/plain": [
       "array([ 78.34, 149.19,  74.39,  99.38, 180.79, 101.19, 186.73, 251.9 ,\n",
       "       193.07,  86.93])"
      ]
     },
     "execution_count": 18,
     "metadata": {},
     "output_type": "execute_result"
    }
   ],
   "source": [
    "y_pred[:10]"
   ]
  },
  {
   "cell_type": "code",
   "execution_count": 19,
   "metadata": {},
   "outputs": [
    {
     "data": {
      "text/plain": [
       "(111, 10)"
      ]
     },
     "execution_count": 19,
     "metadata": {},
     "output_type": "execute_result"
    }
   ],
   "source": [
    "X_test.shape"
   ]
  },
  {
   "cell_type": "code",
   "execution_count": 20,
   "metadata": {},
   "outputs": [
    {
     "data": {
      "text/plain": [
       "((111,), (111,))"
      ]
     },
     "execution_count": 20,
     "metadata": {},
     "output_type": "execute_result"
    }
   ],
   "source": [
    "y_test.shape, y_pred.shape"
   ]
  },
  {
   "cell_type": "code",
   "execution_count": 24,
   "metadata": {},
   "outputs": [
    {
     "data": {
      "text/plain": [
       "(150.35135135135135, 76.3519174020315)"
      ]
     },
     "execution_count": 24,
     "metadata": {},
     "output_type": "execute_result"
    }
   ],
   "source": [
    "y_test.mean(), y_test.std()"
   ]
  },
  {
   "cell_type": "markdown",
   "metadata": {},
   "source": [
    "###### MSE\n",
    "\n",
    "\n",
    "$$MSE = \\frac{1}{n}\\sum_{i=1}^{n}(y_i-\\hat{y}_i)^{2}$$\n",
    "\n",
    "\n",
    "pertenece al intervalo [0, +$\\infty$)"
   ]
  },
  {
   "cell_type": "code",
   "execution_count": 21,
   "metadata": {},
   "outputs": [
    {
     "data": {
      "text/plain": [
       "3793.4093351351353"
      ]
     },
     "execution_count": 21,
     "metadata": {},
     "output_type": "execute_result"
    }
   ],
   "source": [
    "from sklearn.metrics import mean_squared_error as mse    # alias mio\n",
    "\n",
    "\n",
    "mse(y_test, y_pred)"
   ]
  },
  {
   "cell_type": "markdown",
   "metadata": {},
   "source": [
    "###### RMSE\n",
    "\n",
    "\n",
    "$$RMSE = \\sqrt{\\frac{1}{n}\\sum_{i=1}^{n}(y_i-\\hat{y}_i)^{2}}$$\n",
    "\n",
    "\n",
    "pertenece al intervalo [0, +$\\infty$)"
   ]
  },
  {
   "cell_type": "code",
   "execution_count": 22,
   "metadata": {},
   "outputs": [
    {
     "data": {
      "text/plain": [
       "61.59065947962512"
      ]
     },
     "execution_count": 22,
     "metadata": {},
     "output_type": "execute_result"
    }
   ],
   "source": [
    "mse(y_test, y_pred, squared=False)"
   ]
  },
  {
   "cell_type": "code",
   "execution_count": 23,
   "metadata": {},
   "outputs": [
    {
     "data": {
      "text/plain": [
       "61.59065947962512"
      ]
     },
     "execution_count": 23,
     "metadata": {},
     "output_type": "execute_result"
    }
   ],
   "source": [
    "mse(y_test, y_pred) ** 0.5"
   ]
  },
  {
   "cell_type": "markdown",
   "metadata": {},
   "source": [
    "###### RMSLE\n",
    "\n",
    "\n",
    "$$RMSLE = \\sqrt{\\frac{1}{n}\\sum_{i=1}^{n}(log(y_i)-log(\\hat{y}_i))^{2}}$$\n",
    "\n",
    "\n",
    "pertenece al intervalo [0, +$\\infty$)"
   ]
  },
  {
   "cell_type": "code",
   "execution_count": 27,
   "metadata": {},
   "outputs": [
    {
     "data": {
      "text/plain": [
       "0.46145604463634204"
      ]
     },
     "execution_count": 27,
     "metadata": {},
     "output_type": "execute_result"
    }
   ],
   "source": [
    "from sklearn.metrics import mean_squared_log_error as msle\n",
    "\n",
    "msle(y_test, y_pred, squared=False)"
   ]
  },
  {
   "cell_type": "markdown",
   "metadata": {},
   "source": [
    "###### MAE\n",
    "\n",
    "\n",
    "$$MAE = \\frac{1}{n}\\sum_{i=1}^{n}|y_i-\\hat{y}_i|$$\n",
    "\n",
    "\n",
    "pertenece al intervalo [0, +$\\infty$)"
   ]
  },
  {
   "cell_type": "code",
   "execution_count": 28,
   "metadata": {},
   "outputs": [
    {
     "data": {
      "text/plain": [
       "49.925585585585566"
      ]
     },
     "execution_count": 28,
     "metadata": {},
     "output_type": "execute_result"
    }
   ],
   "source": [
    "from sklearn.metrics import mean_absolute_error as mae\n",
    "\n",
    "mae(y_test, y_pred)"
   ]
  },
  {
   "cell_type": "markdown",
   "metadata": {},
   "source": [
    "$$MAE <= RMSE <= MAE · \\sqrt{N}$$"
   ]
  },
  {
   "cell_type": "markdown",
   "metadata": {},
   "source": [
    "###### R2\n",
    "\n",
    "\n",
    "$$R2 = 1 - \\frac{\\sum_{i=1}^{n}(y_i-\\hat{y}_i)^{2}}{\\sum_{i=1}^{n}(y_i-\\bar{y})^{2}}$$"
   ]
  },
  {
   "cell_type": "markdown",
   "metadata": {},
   "source": [
    "###### Adjusted R2\n",
    "\n",
    "$$AdjustedR2 = 1-(1-R2)\\frac{n-1}{n-p-1}$$\n",
    "\n",
    "\n",
    "donde:\n",
    "+ n = tamaño de la muestra\n",
    "+ p = nº de variables del modelo\n",
    "\n",
    "\n",
    "pertenecen al intervalo (-$\\infty$, 1]"
   ]
  },
  {
   "cell_type": "code",
   "execution_count": 30,
   "metadata": {},
   "outputs": [
    {
     "data": {
      "text/plain": [
       "0.34928650591862154"
      ]
     },
     "execution_count": 30,
     "metadata": {},
     "output_type": "execute_result"
    }
   ],
   "source": [
    "rfr.score(X_test, y_test)    # R2, calcula internamente la prediccion, viene del modelo"
   ]
  },
  {
   "cell_type": "code",
   "execution_count": 31,
   "metadata": {},
   "outputs": [
    {
     "data": {
      "text/plain": [
       "0.34928650591862154"
      ]
     },
     "execution_count": 31,
     "metadata": {},
     "output_type": "execute_result"
    }
   ],
   "source": [
    "from sklearn.metrics import r2_score as r2\n",
    "\n",
    "r2(y_test, y_pred)"
   ]
  },
  {
   "cell_type": "code",
   "execution_count": 37,
   "metadata": {},
   "outputs": [],
   "source": [
    "def r2_ajustado(r_2):\n",
    "    \n",
    "    adj = 1 - (1-r_2) * (X_test.shape[0]-1) / (X_test.shape[0]-X_test.shape[1]-1)\n",
    "    \n",
    "    return adj"
   ]
  },
  {
   "cell_type": "code",
   "execution_count": 38,
   "metadata": {},
   "outputs": [
    {
     "data": {
      "text/plain": [
       "0.2842151565104837"
      ]
     },
     "execution_count": 38,
     "metadata": {},
     "output_type": "execute_result"
    }
   ],
   "source": [
    "r2_ajustado(r2(y_test, y_pred))"
   ]
  },
  {
   "cell_type": "markdown",
   "metadata": {},
   "source": [
    "### Clasificación"
   ]
  },
  {
   "cell_type": "code",
   "execution_count": 41,
   "metadata": {},
   "outputs": [
    {
     "data": {
      "text/html": [
       "<div>\n",
       "<style scoped>\n",
       "    .dataframe tbody tr th:only-of-type {\n",
       "        vertical-align: middle;\n",
       "    }\n",
       "\n",
       "    .dataframe tbody tr th {\n",
       "        vertical-align: top;\n",
       "    }\n",
       "\n",
       "    .dataframe thead th {\n",
       "        text-align: right;\n",
       "    }\n",
       "</style>\n",
       "<table border=\"1\" class=\"dataframe\">\n",
       "  <thead>\n",
       "    <tr style=\"text-align: right;\">\n",
       "      <th></th>\n",
       "      <th>SeniorCitizen</th>\n",
       "      <th>tenure</th>\n",
       "      <th>MonthlyCharges</th>\n",
       "      <th>TotalCharges</th>\n",
       "      <th>gender_Female</th>\n",
       "      <th>gender_Male</th>\n",
       "      <th>Partner_No</th>\n",
       "      <th>Partner_Yes</th>\n",
       "      <th>Dependents_No</th>\n",
       "      <th>Dependents_Yes</th>\n",
       "      <th>PhoneService_No</th>\n",
       "      <th>PhoneService_Yes</th>\n",
       "      <th>MultipleLines_No</th>\n",
       "      <th>MultipleLines_No phone service</th>\n",
       "      <th>MultipleLines_Yes</th>\n",
       "      <th>InternetService_DSL</th>\n",
       "      <th>InternetService_Fiber optic</th>\n",
       "      <th>InternetService_No</th>\n",
       "      <th>OnlineSecurity_No</th>\n",
       "      <th>OnlineSecurity_No internet service</th>\n",
       "      <th>OnlineSecurity_Yes</th>\n",
       "      <th>OnlineBackup_No</th>\n",
       "      <th>OnlineBackup_No internet service</th>\n",
       "      <th>OnlineBackup_Yes</th>\n",
       "      <th>DeviceProtection_No</th>\n",
       "      <th>DeviceProtection_No internet service</th>\n",
       "      <th>DeviceProtection_Yes</th>\n",
       "      <th>TechSupport_No</th>\n",
       "      <th>TechSupport_No internet service</th>\n",
       "      <th>TechSupport_Yes</th>\n",
       "      <th>StreamingTV_No</th>\n",
       "      <th>StreamingTV_No internet service</th>\n",
       "      <th>StreamingTV_Yes</th>\n",
       "      <th>StreamingMovies_No</th>\n",
       "      <th>StreamingMovies_No internet service</th>\n",
       "      <th>StreamingMovies_Yes</th>\n",
       "      <th>Contract_Month-to-month</th>\n",
       "      <th>Contract_One year</th>\n",
       "      <th>Contract_Two year</th>\n",
       "      <th>PaperlessBilling_No</th>\n",
       "      <th>PaperlessBilling_Yes</th>\n",
       "      <th>PaymentMethod_Bank transfer (automatic)</th>\n",
       "      <th>PaymentMethod_Credit card (automatic)</th>\n",
       "      <th>PaymentMethod_Electronic check</th>\n",
       "      <th>PaymentMethod_Mailed check</th>\n",
       "      <th>MonthLevel_High</th>\n",
       "      <th>MonthLevel_Low</th>\n",
       "      <th>MonthLevel_Moderate</th>\n",
       "      <th>MonthLevel_Very High</th>\n",
       "      <th>MonthLevel_Very Low</th>\n",
       "      <th>TotalLevel_High</th>\n",
       "      <th>TotalLevel_Low</th>\n",
       "      <th>TotalLevel_Moderate</th>\n",
       "      <th>TotalLevel_Very High</th>\n",
       "      <th>TotalLevel_Very Low</th>\n",
       "      <th>TenureLevel_Loyal</th>\n",
       "      <th>TenureLevel_New</th>\n",
       "      <th>TenureLevel_Regular</th>\n",
       "      <th>TenureLevel_Very Loyal</th>\n",
       "    </tr>\n",
       "  </thead>\n",
       "  <tbody>\n",
       "    <tr>\n",
       "      <th>0</th>\n",
       "      <td>0</td>\n",
       "      <td>1</td>\n",
       "      <td>29.85</td>\n",
       "      <td>29.85</td>\n",
       "      <td>1</td>\n",
       "      <td>0</td>\n",
       "      <td>0</td>\n",
       "      <td>1</td>\n",
       "      <td>1</td>\n",
       "      <td>0</td>\n",
       "      <td>1</td>\n",
       "      <td>0</td>\n",
       "      <td>0</td>\n",
       "      <td>1</td>\n",
       "      <td>0</td>\n",
       "      <td>1</td>\n",
       "      <td>0</td>\n",
       "      <td>0</td>\n",
       "      <td>1</td>\n",
       "      <td>0</td>\n",
       "      <td>0</td>\n",
       "      <td>0</td>\n",
       "      <td>0</td>\n",
       "      <td>1</td>\n",
       "      <td>1</td>\n",
       "      <td>0</td>\n",
       "      <td>0</td>\n",
       "      <td>1</td>\n",
       "      <td>0</td>\n",
       "      <td>0</td>\n",
       "      <td>1</td>\n",
       "      <td>0</td>\n",
       "      <td>0</td>\n",
       "      <td>1</td>\n",
       "      <td>0</td>\n",
       "      <td>0</td>\n",
       "      <td>1</td>\n",
       "      <td>0</td>\n",
       "      <td>0</td>\n",
       "      <td>0</td>\n",
       "      <td>1</td>\n",
       "      <td>0</td>\n",
       "      <td>0</td>\n",
       "      <td>1</td>\n",
       "      <td>0</td>\n",
       "      <td>0</td>\n",
       "      <td>1</td>\n",
       "      <td>0</td>\n",
       "      <td>0</td>\n",
       "      <td>0</td>\n",
       "      <td>0</td>\n",
       "      <td>0</td>\n",
       "      <td>0</td>\n",
       "      <td>0</td>\n",
       "      <td>1</td>\n",
       "      <td>0</td>\n",
       "      <td>1</td>\n",
       "      <td>0</td>\n",
       "      <td>0</td>\n",
       "    </tr>\n",
       "    <tr>\n",
       "      <th>1</th>\n",
       "      <td>0</td>\n",
       "      <td>34</td>\n",
       "      <td>56.95</td>\n",
       "      <td>1889.50</td>\n",
       "      <td>0</td>\n",
       "      <td>1</td>\n",
       "      <td>1</td>\n",
       "      <td>0</td>\n",
       "      <td>1</td>\n",
       "      <td>0</td>\n",
       "      <td>0</td>\n",
       "      <td>1</td>\n",
       "      <td>1</td>\n",
       "      <td>0</td>\n",
       "      <td>0</td>\n",
       "      <td>1</td>\n",
       "      <td>0</td>\n",
       "      <td>0</td>\n",
       "      <td>0</td>\n",
       "      <td>0</td>\n",
       "      <td>1</td>\n",
       "      <td>1</td>\n",
       "      <td>0</td>\n",
       "      <td>0</td>\n",
       "      <td>0</td>\n",
       "      <td>0</td>\n",
       "      <td>1</td>\n",
       "      <td>1</td>\n",
       "      <td>0</td>\n",
       "      <td>0</td>\n",
       "      <td>1</td>\n",
       "      <td>0</td>\n",
       "      <td>0</td>\n",
       "      <td>1</td>\n",
       "      <td>0</td>\n",
       "      <td>0</td>\n",
       "      <td>0</td>\n",
       "      <td>1</td>\n",
       "      <td>0</td>\n",
       "      <td>1</td>\n",
       "      <td>0</td>\n",
       "      <td>0</td>\n",
       "      <td>0</td>\n",
       "      <td>0</td>\n",
       "      <td>1</td>\n",
       "      <td>0</td>\n",
       "      <td>1</td>\n",
       "      <td>0</td>\n",
       "      <td>0</td>\n",
       "      <td>0</td>\n",
       "      <td>0</td>\n",
       "      <td>0</td>\n",
       "      <td>1</td>\n",
       "      <td>0</td>\n",
       "      <td>0</td>\n",
       "      <td>1</td>\n",
       "      <td>0</td>\n",
       "      <td>0</td>\n",
       "      <td>0</td>\n",
       "    </tr>\n",
       "    <tr>\n",
       "      <th>2</th>\n",
       "      <td>0</td>\n",
       "      <td>2</td>\n",
       "      <td>53.85</td>\n",
       "      <td>108.15</td>\n",
       "      <td>0</td>\n",
       "      <td>1</td>\n",
       "      <td>1</td>\n",
       "      <td>0</td>\n",
       "      <td>1</td>\n",
       "      <td>0</td>\n",
       "      <td>0</td>\n",
       "      <td>1</td>\n",
       "      <td>1</td>\n",
       "      <td>0</td>\n",
       "      <td>0</td>\n",
       "      <td>1</td>\n",
       "      <td>0</td>\n",
       "      <td>0</td>\n",
       "      <td>0</td>\n",
       "      <td>0</td>\n",
       "      <td>1</td>\n",
       "      <td>0</td>\n",
       "      <td>0</td>\n",
       "      <td>1</td>\n",
       "      <td>1</td>\n",
       "      <td>0</td>\n",
       "      <td>0</td>\n",
       "      <td>1</td>\n",
       "      <td>0</td>\n",
       "      <td>0</td>\n",
       "      <td>1</td>\n",
       "      <td>0</td>\n",
       "      <td>0</td>\n",
       "      <td>1</td>\n",
       "      <td>0</td>\n",
       "      <td>0</td>\n",
       "      <td>1</td>\n",
       "      <td>0</td>\n",
       "      <td>0</td>\n",
       "      <td>0</td>\n",
       "      <td>1</td>\n",
       "      <td>0</td>\n",
       "      <td>0</td>\n",
       "      <td>0</td>\n",
       "      <td>1</td>\n",
       "      <td>0</td>\n",
       "      <td>1</td>\n",
       "      <td>0</td>\n",
       "      <td>0</td>\n",
       "      <td>0</td>\n",
       "      <td>0</td>\n",
       "      <td>0</td>\n",
       "      <td>0</td>\n",
       "      <td>0</td>\n",
       "      <td>1</td>\n",
       "      <td>0</td>\n",
       "      <td>1</td>\n",
       "      <td>0</td>\n",
       "      <td>0</td>\n",
       "    </tr>\n",
       "    <tr>\n",
       "      <th>3</th>\n",
       "      <td>0</td>\n",
       "      <td>45</td>\n",
       "      <td>42.30</td>\n",
       "      <td>1840.75</td>\n",
       "      <td>0</td>\n",
       "      <td>1</td>\n",
       "      <td>1</td>\n",
       "      <td>0</td>\n",
       "      <td>1</td>\n",
       "      <td>0</td>\n",
       "      <td>1</td>\n",
       "      <td>0</td>\n",
       "      <td>0</td>\n",
       "      <td>1</td>\n",
       "      <td>0</td>\n",
       "      <td>1</td>\n",
       "      <td>0</td>\n",
       "      <td>0</td>\n",
       "      <td>0</td>\n",
       "      <td>0</td>\n",
       "      <td>1</td>\n",
       "      <td>1</td>\n",
       "      <td>0</td>\n",
       "      <td>0</td>\n",
       "      <td>0</td>\n",
       "      <td>0</td>\n",
       "      <td>1</td>\n",
       "      <td>0</td>\n",
       "      <td>0</td>\n",
       "      <td>1</td>\n",
       "      <td>1</td>\n",
       "      <td>0</td>\n",
       "      <td>0</td>\n",
       "      <td>1</td>\n",
       "      <td>0</td>\n",
       "      <td>0</td>\n",
       "      <td>0</td>\n",
       "      <td>1</td>\n",
       "      <td>0</td>\n",
       "      <td>1</td>\n",
       "      <td>0</td>\n",
       "      <td>1</td>\n",
       "      <td>0</td>\n",
       "      <td>0</td>\n",
       "      <td>0</td>\n",
       "      <td>0</td>\n",
       "      <td>1</td>\n",
       "      <td>0</td>\n",
       "      <td>0</td>\n",
       "      <td>0</td>\n",
       "      <td>0</td>\n",
       "      <td>0</td>\n",
       "      <td>1</td>\n",
       "      <td>0</td>\n",
       "      <td>0</td>\n",
       "      <td>1</td>\n",
       "      <td>0</td>\n",
       "      <td>0</td>\n",
       "      <td>0</td>\n",
       "    </tr>\n",
       "    <tr>\n",
       "      <th>4</th>\n",
       "      <td>0</td>\n",
       "      <td>2</td>\n",
       "      <td>70.70</td>\n",
       "      <td>151.65</td>\n",
       "      <td>1</td>\n",
       "      <td>0</td>\n",
       "      <td>1</td>\n",
       "      <td>0</td>\n",
       "      <td>1</td>\n",
       "      <td>0</td>\n",
       "      <td>0</td>\n",
       "      <td>1</td>\n",
       "      <td>1</td>\n",
       "      <td>0</td>\n",
       "      <td>0</td>\n",
       "      <td>0</td>\n",
       "      <td>1</td>\n",
       "      <td>0</td>\n",
       "      <td>1</td>\n",
       "      <td>0</td>\n",
       "      <td>0</td>\n",
       "      <td>1</td>\n",
       "      <td>0</td>\n",
       "      <td>0</td>\n",
       "      <td>1</td>\n",
       "      <td>0</td>\n",
       "      <td>0</td>\n",
       "      <td>1</td>\n",
       "      <td>0</td>\n",
       "      <td>0</td>\n",
       "      <td>1</td>\n",
       "      <td>0</td>\n",
       "      <td>0</td>\n",
       "      <td>1</td>\n",
       "      <td>0</td>\n",
       "      <td>0</td>\n",
       "      <td>1</td>\n",
       "      <td>0</td>\n",
       "      <td>0</td>\n",
       "      <td>0</td>\n",
       "      <td>1</td>\n",
       "      <td>0</td>\n",
       "      <td>0</td>\n",
       "      <td>1</td>\n",
       "      <td>0</td>\n",
       "      <td>0</td>\n",
       "      <td>0</td>\n",
       "      <td>1</td>\n",
       "      <td>0</td>\n",
       "      <td>0</td>\n",
       "      <td>0</td>\n",
       "      <td>0</td>\n",
       "      <td>0</td>\n",
       "      <td>0</td>\n",
       "      <td>1</td>\n",
       "      <td>0</td>\n",
       "      <td>1</td>\n",
       "      <td>0</td>\n",
       "      <td>0</td>\n",
       "    </tr>\n",
       "  </tbody>\n",
       "</table>\n",
       "</div>"
      ],
      "text/plain": [
       "   SeniorCitizen  tenure  MonthlyCharges  TotalCharges  gender_Female  \\\n",
       "0              0       1           29.85         29.85              1   \n",
       "1              0      34           56.95       1889.50              0   \n",
       "2              0       2           53.85        108.15              0   \n",
       "3              0      45           42.30       1840.75              0   \n",
       "4              0       2           70.70        151.65              1   \n",
       "\n",
       "   gender_Male  Partner_No  Partner_Yes  Dependents_No  Dependents_Yes  \\\n",
       "0            0           0            1              1               0   \n",
       "1            1           1            0              1               0   \n",
       "2            1           1            0              1               0   \n",
       "3            1           1            0              1               0   \n",
       "4            0           1            0              1               0   \n",
       "\n",
       "   PhoneService_No  PhoneService_Yes  MultipleLines_No  \\\n",
       "0                1                 0                 0   \n",
       "1                0                 1                 1   \n",
       "2                0                 1                 1   \n",
       "3                1                 0                 0   \n",
       "4                0                 1                 1   \n",
       "\n",
       "   MultipleLines_No phone service  MultipleLines_Yes  InternetService_DSL  \\\n",
       "0                               1                  0                    1   \n",
       "1                               0                  0                    1   \n",
       "2                               0                  0                    1   \n",
       "3                               1                  0                    1   \n",
       "4                               0                  0                    0   \n",
       "\n",
       "   InternetService_Fiber optic  InternetService_No  OnlineSecurity_No  \\\n",
       "0                            0                   0                  1   \n",
       "1                            0                   0                  0   \n",
       "2                            0                   0                  0   \n",
       "3                            0                   0                  0   \n",
       "4                            1                   0                  1   \n",
       "\n",
       "   OnlineSecurity_No internet service  OnlineSecurity_Yes  OnlineBackup_No  \\\n",
       "0                                   0                   0                0   \n",
       "1                                   0                   1                1   \n",
       "2                                   0                   1                0   \n",
       "3                                   0                   1                1   \n",
       "4                                   0                   0                1   \n",
       "\n",
       "   OnlineBackup_No internet service  OnlineBackup_Yes  DeviceProtection_No  \\\n",
       "0                                 0                 1                    1   \n",
       "1                                 0                 0                    0   \n",
       "2                                 0                 1                    1   \n",
       "3                                 0                 0                    0   \n",
       "4                                 0                 0                    1   \n",
       "\n",
       "   DeviceProtection_No internet service  DeviceProtection_Yes  TechSupport_No  \\\n",
       "0                                     0                     0               1   \n",
       "1                                     0                     1               1   \n",
       "2                                     0                     0               1   \n",
       "3                                     0                     1               0   \n",
       "4                                     0                     0               1   \n",
       "\n",
       "   TechSupport_No internet service  TechSupport_Yes  StreamingTV_No  \\\n",
       "0                                0                0               1   \n",
       "1                                0                0               1   \n",
       "2                                0                0               1   \n",
       "3                                0                1               1   \n",
       "4                                0                0               1   \n",
       "\n",
       "   StreamingTV_No internet service  StreamingTV_Yes  StreamingMovies_No  \\\n",
       "0                                0                0                   1   \n",
       "1                                0                0                   1   \n",
       "2                                0                0                   1   \n",
       "3                                0                0                   1   \n",
       "4                                0                0                   1   \n",
       "\n",
       "   StreamingMovies_No internet service  StreamingMovies_Yes  \\\n",
       "0                                    0                    0   \n",
       "1                                    0                    0   \n",
       "2                                    0                    0   \n",
       "3                                    0                    0   \n",
       "4                                    0                    0   \n",
       "\n",
       "   Contract_Month-to-month  Contract_One year  Contract_Two year  \\\n",
       "0                        1                  0                  0   \n",
       "1                        0                  1                  0   \n",
       "2                        1                  0                  0   \n",
       "3                        0                  1                  0   \n",
       "4                        1                  0                  0   \n",
       "\n",
       "   PaperlessBilling_No  PaperlessBilling_Yes  \\\n",
       "0                    0                     1   \n",
       "1                    1                     0   \n",
       "2                    0                     1   \n",
       "3                    1                     0   \n",
       "4                    0                     1   \n",
       "\n",
       "   PaymentMethod_Bank transfer (automatic)  \\\n",
       "0                                        0   \n",
       "1                                        0   \n",
       "2                                        0   \n",
       "3                                        1   \n",
       "4                                        0   \n",
       "\n",
       "   PaymentMethod_Credit card (automatic)  PaymentMethod_Electronic check  \\\n",
       "0                                      0                               1   \n",
       "1                                      0                               0   \n",
       "2                                      0                               0   \n",
       "3                                      0                               0   \n",
       "4                                      0                               1   \n",
       "\n",
       "   PaymentMethod_Mailed check  MonthLevel_High  MonthLevel_Low  \\\n",
       "0                           0                0               1   \n",
       "1                           1                0               1   \n",
       "2                           1                0               1   \n",
       "3                           0                0               1   \n",
       "4                           0                0               0   \n",
       "\n",
       "   MonthLevel_Moderate  MonthLevel_Very High  MonthLevel_Very Low  \\\n",
       "0                    0                     0                    0   \n",
       "1                    0                     0                    0   \n",
       "2                    0                     0                    0   \n",
       "3                    0                     0                    0   \n",
       "4                    1                     0                    0   \n",
       "\n",
       "   TotalLevel_High  TotalLevel_Low  TotalLevel_Moderate  TotalLevel_Very High  \\\n",
       "0                0               0                    0                     0   \n",
       "1                0               0                    1                     0   \n",
       "2                0               0                    0                     0   \n",
       "3                0               0                    1                     0   \n",
       "4                0               0                    0                     0   \n",
       "\n",
       "   TotalLevel_Very Low  TenureLevel_Loyal  TenureLevel_New  \\\n",
       "0                    1                  0                1   \n",
       "1                    0                  1                0   \n",
       "2                    1                  0                1   \n",
       "3                    0                  1                0   \n",
       "4                    1                  0                1   \n",
       "\n",
       "   TenureLevel_Regular  TenureLevel_Very Loyal  \n",
       "0                    0                       0  \n",
       "1                    0                       0  \n",
       "2                    0                       0  \n",
       "3                    0                       0  \n",
       "4                    0                       0  "
      ]
     },
     "execution_count": 41,
     "metadata": {},
     "output_type": "execute_result"
    }
   ],
   "source": [
    "data=pd.read_csv('../data/churn.csv')\n",
    "\n",
    "data=data.dropna()\n",
    "\n",
    "y=data.Churn.apply(lambda x: 1 if x=='Yes' else 0)\n",
    "\n",
    "data=data.drop(columns=['customerID', 'ChurnBinary', 'Churn'])\n",
    "\n",
    "data=pd.get_dummies(data)\n",
    "\n",
    "X=data.copy()\n",
    "\n",
    "X.head()"
   ]
  },
  {
   "cell_type": "code",
   "execution_count": 42,
   "metadata": {},
   "outputs": [
    {
     "data": {
      "text/plain": [
       "((5274, 59), (1758, 59), (5274,), (1758,))"
      ]
     },
     "execution_count": 42,
     "metadata": {},
     "output_type": "execute_result"
    }
   ],
   "source": [
    "X_train, X_test, y_train, y_test = tts(X, y, stratify=y)\n",
    "\n",
    "X_train.shape, X_test.shape, y_train.shape, y_test.shape"
   ]
  },
  {
   "cell_type": "code",
   "execution_count": 43,
   "metadata": {},
   "outputs": [
    {
     "data": {
      "text/plain": [
       "array([0, 0, 0, 0])"
      ]
     },
     "execution_count": 43,
     "metadata": {},
     "output_type": "execute_result"
    }
   ],
   "source": [
    "# modelo 1 \n",
    "\n",
    "from sklearn.linear_model import LogisticRegression as LogReg\n",
    "\n",
    "logreg = LogReg()\n",
    "\n",
    "logreg.fit(X_train, y_train)\n",
    "\n",
    "y_pred_logreg = logreg.predict(X_test)    # devuelve la clase, la etiqueta 0-1\n",
    "\n",
    "y_prob = logreg.predict_proba(X_test)     # devuelve probabilidades\n",
    "\n",
    "y_pred_logreg[:4]"
   ]
  },
  {
   "cell_type": "code",
   "execution_count": 44,
   "metadata": {},
   "outputs": [
    {
     "data": {
      "text/plain": [
       "array([[0.96392546, 0.03607454],\n",
       "       [0.92900456, 0.07099544],\n",
       "       [0.95164011, 0.04835989],\n",
       "       [0.98425538, 0.01574462]])"
      ]
     },
     "execution_count": 44,
     "metadata": {},
     "output_type": "execute_result"
    }
   ],
   "source": [
    "y_prob[:4]"
   ]
  },
  {
   "cell_type": "code",
   "execution_count": 46,
   "metadata": {},
   "outputs": [
    {
     "data": {
      "text/plain": [
       "array([0, 0, 0, 0])"
      ]
     },
     "execution_count": 46,
     "metadata": {},
     "output_type": "execute_result"
    }
   ],
   "source": [
    "# modelo 2\n",
    "\n",
    "from sklearn.ensemble import RandomForestClassifier as RFC\n",
    "\n",
    "\n",
    "rfc = RFC()\n",
    "\n",
    "rfc.fit(X_train, y_train)\n",
    "\n",
    "y_pred_rfc = rfc.predict(X_test)\n",
    "\n",
    "\n",
    "y_pred_rfc[:4]"
   ]
  },
  {
   "cell_type": "markdown",
   "metadata": {},
   "source": [
    "+ TP := True Positive (aciertos clase 1)\n",
    "+ TN := True Negative (aciertos clase 0)\n",
    "+ FP := False Positive (Error tipo I, decir 1 cuando es 0)\n",
    "+ FN := False Negative (Error tipo II, decir 0 cuando es 1)"
   ]
  },
  {
   "cell_type": "markdown",
   "metadata": {},
   "source": [
    "+ Accuracy  := (TP+TN)/(TP+TN+FP+FN) (acierto)  ($\\frac{1}{n}\\sum 1(\\hat{y_i}=y_i$))\n",
    "+ Precision := TP/(TP+FP)\n",
    "+ Recall    := TP/(TP+FN)  (Sensibilidad, TPR)\n",
    "+ F1_Score  := 2·Recall·Precision/(Recall+Precision)\n",
    "\n",
    "(F1 funciona mejor que el accuracy cuando los datos no están balanceados y cuando FP y FN son muy diferentes)"
   ]
  },
  {
   "cell_type": "markdown",
   "metadata": {},
   "source": [
    "![f1](images/f1.png)"
   ]
  },
  {
   "cell_type": "markdown",
   "metadata": {},
   "source": [
    "##### Accuracy"
   ]
  },
  {
   "cell_type": "code",
   "execution_count": 59,
   "metadata": {},
   "outputs": [
    {
     "data": {
      "text/plain": [
       "0    1291\n",
       "1     467\n",
       "Name: Churn, dtype: int64"
      ]
     },
     "execution_count": 59,
     "metadata": {},
     "output_type": "execute_result"
    }
   ],
   "source": [
    "y_test.value_counts()"
   ]
  },
  {
   "cell_type": "code",
   "execution_count": 48,
   "metadata": {},
   "outputs": [
    {
     "data": {
      "text/plain": [
       "0.8071672354948806"
      ]
     },
     "execution_count": 48,
     "metadata": {},
     "output_type": "execute_result"
    }
   ],
   "source": [
    "logreg.score(X_test, y_test)  # accuracy, acierto"
   ]
  },
  {
   "cell_type": "code",
   "execution_count": 49,
   "metadata": {},
   "outputs": [
    {
     "data": {
      "text/plain": [
       "0.8071672354948806"
      ]
     },
     "execution_count": 49,
     "metadata": {},
     "output_type": "execute_result"
    }
   ],
   "source": [
    "from sklearn.metrics import accuracy_score as acc\n",
    "\n",
    "acc(y_test, y_pred_logreg)"
   ]
  },
  {
   "cell_type": "code",
   "execution_count": 50,
   "metadata": {},
   "outputs": [
    {
     "data": {
      "text/plain": [
       "0.8014789533560864"
      ]
     },
     "execution_count": 50,
     "metadata": {},
     "output_type": "execute_result"
    }
   ],
   "source": [
    "rfc.score(X_test, y_test)"
   ]
  },
  {
   "cell_type": "code",
   "execution_count": 51,
   "metadata": {},
   "outputs": [
    {
     "data": {
      "text/plain": [
       "0.8014789533560864"
      ]
     },
     "execution_count": 51,
     "metadata": {},
     "output_type": "execute_result"
    }
   ],
   "source": [
    "acc(y_test, y_pred_rfc)"
   ]
  },
  {
   "cell_type": "markdown",
   "metadata": {},
   "source": [
    "##### Precision"
   ]
  },
  {
   "cell_type": "code",
   "execution_count": 52,
   "metadata": {},
   "outputs": [
    {
     "data": {
      "text/plain": [
       "0.6666666666666666"
      ]
     },
     "execution_count": 52,
     "metadata": {},
     "output_type": "execute_result"
    }
   ],
   "source": [
    "from sklearn.metrics import precision_score as prec\n",
    "\n",
    "prec(y_test, y_pred_logreg)"
   ]
  },
  {
   "cell_type": "code",
   "execution_count": 53,
   "metadata": {},
   "outputs": [
    {
     "data": {
      "text/plain": [
       "0.6612021857923497"
      ]
     },
     "execution_count": 53,
     "metadata": {},
     "output_type": "execute_result"
    }
   ],
   "source": [
    "prec(y_test, y_pred_rfc)"
   ]
  },
  {
   "cell_type": "markdown",
   "metadata": {},
   "source": [
    "##### Recall"
   ]
  },
  {
   "cell_type": "code",
   "execution_count": 54,
   "metadata": {},
   "outputs": [
    {
     "data": {
      "text/plain": [
       "0.5481798715203426"
      ]
     },
     "execution_count": 54,
     "metadata": {},
     "output_type": "execute_result"
    }
   ],
   "source": [
    "from sklearn.metrics import recall_score as rec\n",
    "\n",
    "rec(y_test, y_pred_logreg)"
   ]
  },
  {
   "cell_type": "code",
   "execution_count": 55,
   "metadata": {},
   "outputs": [
    {
     "data": {
      "text/plain": [
       "0.5182012847965739"
      ]
     },
     "execution_count": 55,
     "metadata": {},
     "output_type": "execute_result"
    }
   ],
   "source": [
    "rec(y_test, y_pred_rfc)"
   ]
  },
  {
   "cell_type": "markdown",
   "metadata": {},
   "source": [
    "##### F1_Score"
   ]
  },
  {
   "cell_type": "code",
   "execution_count": 56,
   "metadata": {},
   "outputs": [
    {
     "data": {
      "text/plain": [
       "0.6016451233842538"
      ]
     },
     "execution_count": 56,
     "metadata": {},
     "output_type": "execute_result"
    }
   ],
   "source": [
    "from sklearn.metrics import f1_score as f1\n",
    "\n",
    "f1(y_test, y_pred_logreg)"
   ]
  },
  {
   "cell_type": "code",
   "execution_count": 57,
   "metadata": {},
   "outputs": [
    {
     "data": {
      "text/plain": [
       "0.581032412965186"
      ]
     },
     "execution_count": 57,
     "metadata": {},
     "output_type": "execute_result"
    }
   ],
   "source": [
    "f1(y_test, y_pred_rfc)"
   ]
  },
  {
   "cell_type": "markdown",
   "metadata": {},
   "source": [
    "##### Matriz de Confusión\n",
    "\n",
    "![conf_matrix](images/conf_matrix.jpeg)"
   ]
  },
  {
   "cell_type": "code",
   "execution_count": 60,
   "metadata": {},
   "outputs": [
    {
     "data": {
      "text/plain": [
       "array([[1163,  128],\n",
       "       [ 211,  256]])"
      ]
     },
     "execution_count": 60,
     "metadata": {},
     "output_type": "execute_result"
    }
   ],
   "source": [
    "from sklearn.metrics import confusion_matrix as cm\n",
    "\n",
    "\n",
    "cm(y_test, y_pred_logreg)"
   ]
  },
  {
   "cell_type": "code",
   "execution_count": 61,
   "metadata": {},
   "outputs": [],
   "source": [
    "import matplotlib.pyplot as plt\n",
    "%matplotlib inline\n",
    "import seaborn as sns"
   ]
  },
  {
   "cell_type": "code",
   "execution_count": 64,
   "metadata": {},
   "outputs": [
    {
     "data": {
      "image/png": "[encoded data removed]",
      "text/plain": [
       "<Figure size 1500x800 with 2 Axes>"
      ]
     },
     "metadata": {},
     "output_type": "display_data"
    }
   ],
   "source": [
    "plt.figure(figsize=(15, 8))\n",
    "\n",
    "ax=sns.heatmap(cm(y_test, y_pred_rfc)/cm(y_test, y_pred_rfc).sum(), annot=True)\n",
    "\n",
    "plt.title('Matriz confusion')\n",
    "plt.ylabel('Verdad')\n",
    "plt.xlabel('Prediccion')\n",
    "plt.show();"
   ]
  },
  {
   "cell_type": "markdown",
   "metadata": {},
   "source": [
    "##### ROC-AUC  (Característica operativa del receptor y área debajo de la curva)\n",
    "\n",
    "+ TPR := TP/(TP+FN)\n",
    "+ FPR := FP/(TN+FP)\n",
    "\n",
    "\n",
    "![roc](images/roc.png)"
   ]
  },
  {
   "cell_type": "code",
   "execution_count": 65,
   "metadata": {},
   "outputs": [],
   "source": [
    "from sklearn.metrics import roc_curve as roc\n",
    "\n",
    "from sklearn.metrics import roc_auc_score as auc"
   ]
  },
  {
   "cell_type": "code",
   "execution_count": 66,
   "metadata": {
    "scrolled": false
   },
   "outputs": [],
   "source": [
    "import warnings\n",
    "warnings.filterwarnings('ignore')"
   ]
  },
  {
   "cell_type": "code",
   "execution_count": 67,
   "metadata": {},
   "outputs": [
    {
     "data": {
      "image/png": "[encoded data removed]",
      "text/plain": [
       "<Figure size 1200x600 with 1 Axes>"
      ]
     },
     "metadata": {},
     "output_type": "display_data"
    }
   ],
   "source": [
    "plt.figure(figsize=(12, 6))\n",
    "\n",
    "fpr, tpr, _ = roc(y_test, y_pred_logreg)   # por esto esta mal pintao\n",
    "\n",
    "a=auc(y_test, y_pred_logreg)\n",
    "\n",
    "plt.plot(fpr, tpr)\n",
    "\n",
    "plt.plot(fpr, fpr, 'r--')\n",
    "\n",
    "plt.xlabel('FPR')\n",
    "plt.ylabel('TPR')\n",
    "\n",
    "plt.title('Binary ROC CURVE - AUC={:.3f}'.format(a))\n",
    "\n",
    "plt.show();"
   ]
  },
  {
   "cell_type": "code",
   "execution_count": 68,
   "metadata": {},
   "outputs": [
    {
     "data": {
      "text/plain": [
       "array([0.03607454, 0.07099544, 0.04835989, 0.01574462, 0.16462029])"
      ]
     },
     "execution_count": 68,
     "metadata": {},
     "output_type": "execute_result"
    }
   ],
   "source": [
    "y_prob = logreg.predict_proba(X_test)[::, 1]\n",
    "\n",
    "y_prob[:5]"
   ]
  },
  {
   "cell_type": "code",
   "execution_count": 71,
   "metadata": {},
   "outputs": [
    {
     "data": {
      "text/plain": [
       "array([[0.96392546, 0.03607454],\n",
       "       [0.92900456, 0.07099544],\n",
       "       [0.95164011, 0.04835989]])"
      ]
     },
     "execution_count": 71,
     "metadata": {},
     "output_type": "execute_result"
    }
   ],
   "source": [
    "logreg.predict_proba(X_test)[:3]"
   ]
  },
  {
   "cell_type": "code",
   "execution_count": 72,
   "metadata": {
    "scrolled": false
   },
   "outputs": [
    {
     "data": {
      "image/png": "[encoded data removed]",
      "text/plain": [
       "<Figure size 1200x600 with 1 Axes>"
      ]
     },
     "metadata": {},
     "output_type": "display_data"
    }
   ],
   "source": [
    "# BIEN PINTAO, con probabilidad\n",
    "\n",
    "plt.figure(figsize=(12, 6))\n",
    "\n",
    "fpr, tpr, _ = roc(y_test, y_prob)   \n",
    "\n",
    "a=auc(y_test, y_prob)\n",
    "\n",
    "plt.plot(fpr, tpr)\n",
    "\n",
    "plt.plot(fpr, fpr, 'r--')\n",
    "\n",
    "plt.xlabel('FPR')\n",
    "plt.ylabel('TPR')\n",
    "\n",
    "plt.title('Binary ROC CURVE - AUC={:.3f}'.format(a))\n",
    "\n",
    "plt.show();\n"
   ]
  },
  {
   "cell_type": "markdown",
   "metadata": {},
   "source": [
    "**Probabilidad de que tu clasificador sea mejor que un clasificador random - Kappa de Cohen**\n",
    "\n",
    "https://es.wikipedia.org/wiki/Coeficiente_kappa_de_Cohen"
   ]
  },
  {
   "cell_type": "code",
   "execution_count": 73,
   "metadata": {},
   "outputs": [],
   "source": [
    "from sklearn.metrics import cohen_kappa_score as kappa"
   ]
  },
  {
   "cell_type": "code",
   "execution_count": 74,
   "metadata": {},
   "outputs": [
    {
     "data": {
      "text/plain": [
       "0.4760322207979236"
      ]
     },
     "execution_count": 74,
     "metadata": {},
     "output_type": "execute_result"
    }
   ],
   "source": [
    "kappa(y_test, y_pred_logreg)"
   ]
  },
  {
   "cell_type": "code",
   "execution_count": 75,
   "metadata": {},
   "outputs": [],
   "source": [
    "# multiclase"
   ]
  },
  {
   "cell_type": "code",
   "execution_count": 76,
   "metadata": {},
   "outputs": [
    {
     "data": {
      "text/plain": [
       "((133, 13), (45, 13), (133,), (45,))"
      ]
     },
     "execution_count": 76,
     "metadata": {},
     "output_type": "execute_result"
    }
   ],
   "source": [
    "from sklearn.datasets import load_wine\n",
    "\n",
    "X=load_wine().data\n",
    "\n",
    "y=load_wine().target\n",
    "\n",
    "X_train, X_test, y_train, y_test = tts(X, y)\n",
    "\n",
    "X_train.shape, X_test.shape, y_train.shape, y_test.shape"
   ]
  },
  {
   "cell_type": "code",
   "execution_count": 77,
   "metadata": {},
   "outputs": [
    {
     "data": {
      "text/plain": [
       "['.. _wine_dataset:',\n",
       " '',\n",
       " 'Wine recognition dataset',\n",
       " '------------------------',\n",
       " '',\n",
       " '**Data Set Characteristics:**',\n",
       " '',\n",
       " '    :Number of Instances: 178',\n",
       " '    :Number of Attributes: 13 numeric, predictive attributes and the class',\n",
       " '    :Attribute Information:',\n",
       " ' \\t\\t- Alcohol',\n",
       " ' \\t\\t- Malic acid',\n",
       " ' \\t\\t- Ash',\n",
       " '\\t\\t- Alcalinity of ash  ',\n",
       " ' \\t\\t- Magnesium',\n",
       " '\\t\\t- Total phenols',\n",
       " ' \\t\\t- Flavanoids',\n",
       " ' \\t\\t- Nonflavanoid phenols',\n",
       " ' \\t\\t- Proanthocyanins',\n",
       " '\\t\\t- Color intensity',\n",
       " ' \\t\\t- Hue',\n",
       " ' \\t\\t- OD280/OD315 of diluted wines',\n",
       " ' \\t\\t- Proline',\n",
       " '',\n",
       " '    - class:',\n",
       " '            - class_0',\n",
       " '            - class_1',\n",
       " '            - class_2',\n",
       " '\\t\\t',\n",
       " '    :Summary Statistics:',\n",
       " '    ',\n",
       " '    ============================= ==== ===== ======= =====',\n",
       " '                                   Min   Max   Mean     SD',\n",
       " '    ============================= ==== ===== ======= =====',\n",
       " '    Alcohol:                      11.0  14.8    13.0   0.8',\n",
       " '    Malic Acid:                   0.74  5.80    2.34  1.12',\n",
       " '    Ash:                          1.36  3.23    2.36  0.27',\n",
       " '    Alcalinity of Ash:            10.6  30.0    19.5   3.3',\n",
       " '    Magnesium:                    70.0 162.0    99.7  14.3',\n",
       " '    Total Phenols:                0.98  3.88    2.29  0.63',\n",
       " '    Flavanoids:                   0.34  5.08    2.03  1.00',\n",
       " '    Nonflavanoid Phenols:         0.13  0.66    0.36  0.12',\n",
       " '    Proanthocyanins:              0.41  3.58    1.59  0.57',\n",
       " '    Colour Intensity:              1.3  13.0     5.1   2.3',\n",
       " '    Hue:                          0.48  1.71    0.96  0.23',\n",
       " '    OD280/OD315 of diluted wines: 1.27  4.00    2.61  0.71',\n",
       " '    Proline:                       278  1680     746   315',\n",
       " '    ============================= ==== ===== ======= =====',\n",
       " '',\n",
       " '    :Missing Attribute Values: None',\n",
       " '    :Class Distribution: class_0 (59), class_1 (71), class_2 (48)',\n",
       " '    :Creator: R.A. Fisher',\n",
       " '    :Donor: Michael Marshall (MARSHALL%PLU@io.arc.nasa.gov)',\n",
       " '    :Date: July, 1988',\n",
       " '',\n",
       " 'This is a copy of UCI ML Wine recognition datasets.',\n",
       " 'https://archive.ics.uci.edu/ml/machine-learning-databases/wine/wine.data',\n",
       " '',\n",
       " 'The data is the results of a chemical analysis of wines grown in the same',\n",
       " 'region in Italy by three different cultivators. There are thirteen different',\n",
       " 'measurements taken for different constituents found in the three types of',\n",
       " 'wine.',\n",
       " '',\n",
       " 'Original Owners: ',\n",
       " '',\n",
       " 'Forina, M. et al, PARVUS - ',\n",
       " 'An Extendible Package for Data Exploration, Classification and Correlation. ',\n",
       " 'Institute of Pharmaceutical and Food Analysis and Technologies,',\n",
       " 'Via Brigata Salerno, 16147 Genoa, Italy.',\n",
       " '',\n",
       " 'Citation:',\n",
       " '',\n",
       " 'Lichman, M. (2013). UCI Machine Learning Repository',\n",
       " '[https://archive.ics.uci.edu/ml]. Irvine, CA: University of California,',\n",
       " 'School of Information and Computer Science. ',\n",
       " '',\n",
       " '.. topic:: References',\n",
       " '',\n",
       " '  (1) S. Aeberhard, D. Coomans and O. de Vel, ',\n",
       " '  Comparison of Classifiers in High Dimensional Settings, ',\n",
       " '  Tech. Rep. no. 92-02, (1992), Dept. of Computer Science and Dept. of  ',\n",
       " '  Mathematics and Statistics, James Cook University of North Queensland. ',\n",
       " '  (Also submitted to Technometrics). ',\n",
       " '',\n",
       " '  The data was used with many others for comparing various ',\n",
       " '  classifiers. The classes are separable, though only RDA ',\n",
       " '  has achieved 100% correct classification. ',\n",
       " '  (RDA : 100%, QDA 99.4%, LDA 98.9%, 1NN 96.1% (z-transformed data)) ',\n",
       " '  (All results using the leave-one-out technique) ',\n",
       " '',\n",
       " '  (2) S. Aeberhard, D. Coomans and O. de Vel, ',\n",
       " '  \"THE CLASSIFICATION PERFORMANCE OF RDA\" ',\n",
       " '  Tech. Rep. no. 92-01, (1992), Dept. of Computer Science and Dept. of ',\n",
       " '  Mathematics and Statistics, James Cook University of North Queensland. ',\n",
       " '  (Also submitted to Journal of Chemometrics).',\n",
       " '']"
      ]
     },
     "execution_count": 77,
     "metadata": {},
     "output_type": "execute_result"
    }
   ],
   "source": [
    "load_wine()['DESCR'].split('\\n')"
   ]
  },
  {
   "cell_type": "code",
   "execution_count": 80,
   "metadata": {},
   "outputs": [],
   "source": [
    "rfc=RFC()\n",
    "\n",
    "rfc.fit(X_train, y_train)\n",
    "\n",
    "y_pred=rfc.predict(X_test)\n",
    "\n",
    "y_prob_rfc=rfc.predict_proba(X_test)"
   ]
  },
  {
   "cell_type": "code",
   "execution_count": 81,
   "metadata": {
    "scrolled": false
   },
   "outputs": [],
   "source": [
    "from sklearn.svm import SVC\n",
    "\n",
    "svc=SVC(probability=True)\n",
    "\n",
    "svc.fit(X_train, y_train)\n",
    "\n",
    "y_prob=svc.predict_proba(X_test)"
   ]
  },
  {
   "cell_type": "code",
   "execution_count": null,
   "metadata": {},
   "outputs": [],
   "source": [
    "%pip install scikit-plot"
   ]
  },
  {
   "cell_type": "code",
   "execution_count": 82,
   "metadata": {},
   "outputs": [
    {
     "data": {
      "image/png": "[encoded data removed]",
      "text/plain": [
       "<Figure size 1500x800 with 1 Axes>"
      ]
     },
     "metadata": {},
     "output_type": "display_data"
    }
   ],
   "source": [
    "import scikitplot as skplt\n",
    "\n",
    "skplt.metrics.plot_roc(y_test, y_prob_rfc, figsize=(15, 8));"
   ]
  },
  {
   "cell_type": "code",
   "execution_count": 83,
   "metadata": {},
   "outputs": [
    {
     "data": {
      "image/png": "[encoded data removed]",
      "text/plain": [
       "<Figure size 1500x800 with 1 Axes>"
      ]
     },
     "metadata": {},
     "output_type": "display_data"
    }
   ],
   "source": [
    "skplt.metrics.plot_roc(y_test, y_prob, figsize=(15, 8));"
   ]
  },
  {
   "cell_type": "code",
   "execution_count": null,
   "metadata": {},
   "outputs": [],
   "source": []
  },
  {
   "cell_type": "code",
   "execution_count": null,
   "metadata": {},
   "outputs": [],
   "source": []
  },
  {
   "cell_type": "code",
   "execution_count": null,
   "metadata": {},
   "outputs": [],
   "source": []
  }
 ],
 "metadata": {
  "finalized": {
   "timestamp": 1624209106557,
   "trusted": false
  },
  "kernelspec": {
   "display_name": "clase",
   "language": "python",
   "name": "clase"
  },
  "language_info": {
   "codemirror_mode": {
    "name": "ipython",
    "version": 3
   },
   "file_extension": ".py",
   "mimetype": "text/x-python",
   "name": "python",
   "nbconvert_exporter": "python",
   "pygments_lexer": "ipython3",
   "version": "3.9.12"
  },
  "varInspector": {
   "cols": {
    "lenName": 16,
    "lenType": 16,
    "lenVar": 40
   },
   "kernels_config": {
    "python": {
     "delete_cmd_postfix": "",
     "delete_cmd_prefix": "del ",
     "library": "var_list.py",
     "varRefreshCmd": "print(var_dic_list())"
    },
    "r": {
     "delete_cmd_postfix": ") ",
     "delete_cmd_prefix": "rm(",
     "library": "var_list.r",
     "varRefreshCmd": "cat(var_dic_list()) "
    }
   },
   "types_to_exclude": [
    "module",
    "function",
    "builtin_function_or_method",
    "instance",
    "_Feature"
   ],
   "window_display": false
  }
 },
 "nbformat": 4,
 "nbformat_minor": 2
}
